{
  "cells": [
    {
      "cell_type": "markdown",
      "metadata": {
        "id": "SpQjtBN-vYgb"
      },
      "source": [
        "# Исследование объявлений о продаже квартир\n",
        "\n",
        "В вашем распоряжении данные сервиса Яндекс.Недвижимость — архив объявлений о продаже квартир в Санкт-Петербурге и соседних населённых пунктов за несколько лет. Нужно научиться определять рыночную стоимость объектов недвижимости. Ваша задача — установить параметры. Это позволит построить автоматизированную систему: она отследит аномалии и мошенническую деятельность.\n",
        "\n",
        "По каждой квартире на продажу доступны два вида данных. Первые вписаны пользователем, вторые — получены автоматически на основе картографических данных. Например, расстояние до центра, аэропорта, ближайшего парка и водоёма."
      ]
    },
    {
      "cell_type": "markdown",
      "metadata": {
        "id": "k_fXvw6bvYgc"
      },
      "source": [
        "### Откройте файл с данными и изучите общую информацию."
      ]
    },
    {
      "cell_type": "code",
      "execution_count": null,
      "metadata": {
        "id": "SkPC4rMIvYgd"
      },
      "outputs": [],
      "source": [
        "import pandas as pd"
      ]
    },
    {
      "cell_type": "code",
      "execution_count": null,
      "metadata": {
        "id": "J_QwBs0WvYgf"
      },
      "outputs": [],
      "source": [
        "df=pd.read_csv(\"/datasets/real_estate_data.csv\", sep=\"\\t\")"
      ]
    },
    {
      "cell_type": "code",
      "execution_count": null,
      "metadata": {
        "id": "mmfLgHhzvYgf",
        "outputId": "38c204fa-0f9a-4e54-f29f-00c57d090c55"
      },
      "outputs": [
        {
          "data": {
            "text/html": [
              "<div>\n",
              "<style scoped>\n",
              "    .dataframe tbody tr th:only-of-type {\n",
              "        vertical-align: middle;\n",
              "    }\n",
              "\n",
              "    .dataframe tbody tr th {\n",
              "        vertical-align: top;\n",
              "    }\n",
              "\n",
              "    .dataframe thead th {\n",
              "        text-align: right;\n",
              "    }\n",
              "</style>\n",
              "<table border=\"1\" class=\"dataframe\">\n",
              "  <thead>\n",
              "    <tr style=\"text-align: right;\">\n",
              "      <th></th>\n",
              "      <th>total_images</th>\n",
              "      <th>last_price</th>\n",
              "      <th>total_area</th>\n",
              "      <th>first_day_exposition</th>\n",
              "      <th>rooms</th>\n",
              "      <th>ceiling_height</th>\n",
              "      <th>floors_total</th>\n",
              "      <th>living_area</th>\n",
              "      <th>floor</th>\n",
              "      <th>is_apartment</th>\n",
              "      <th>...</th>\n",
              "      <th>kitchen_area</th>\n",
              "      <th>balcony</th>\n",
              "      <th>locality_name</th>\n",
              "      <th>airports_nearest</th>\n",
              "      <th>cityCenters_nearest</th>\n",
              "      <th>parks_around3000</th>\n",
              "      <th>parks_nearest</th>\n",
              "      <th>ponds_around3000</th>\n",
              "      <th>ponds_nearest</th>\n",
              "      <th>days_exposition</th>\n",
              "    </tr>\n",
              "  </thead>\n",
              "  <tbody>\n",
              "    <tr>\n",
              "      <th>0</th>\n",
              "      <td>20</td>\n",
              "      <td>13000000.0</td>\n",
              "      <td>108.00</td>\n",
              "      <td>2019-03-07T00:00:00</td>\n",
              "      <td>3</td>\n",
              "      <td>2.70</td>\n",
              "      <td>16.0</td>\n",
              "      <td>51.0</td>\n",
              "      <td>8</td>\n",
              "      <td>NaN</td>\n",
              "      <td>...</td>\n",
              "      <td>25.00</td>\n",
              "      <td>NaN</td>\n",
              "      <td>Санкт-Петербург</td>\n",
              "      <td>18863.0</td>\n",
              "      <td>16028.0</td>\n",
              "      <td>1.0</td>\n",
              "      <td>482.0</td>\n",
              "      <td>2.0</td>\n",
              "      <td>755.0</td>\n",
              "      <td>NaN</td>\n",
              "    </tr>\n",
              "    <tr>\n",
              "      <th>1</th>\n",
              "      <td>7</td>\n",
              "      <td>3350000.0</td>\n",
              "      <td>40.40</td>\n",
              "      <td>2018-12-04T00:00:00</td>\n",
              "      <td>1</td>\n",
              "      <td>NaN</td>\n",
              "      <td>11.0</td>\n",
              "      <td>18.6</td>\n",
              "      <td>1</td>\n",
              "      <td>NaN</td>\n",
              "      <td>...</td>\n",
              "      <td>11.00</td>\n",
              "      <td>2.0</td>\n",
              "      <td>посёлок Шушары</td>\n",
              "      <td>12817.0</td>\n",
              "      <td>18603.0</td>\n",
              "      <td>0.0</td>\n",
              "      <td>NaN</td>\n",
              "      <td>0.0</td>\n",
              "      <td>NaN</td>\n",
              "      <td>81.0</td>\n",
              "    </tr>\n",
              "    <tr>\n",
              "      <th>2</th>\n",
              "      <td>10</td>\n",
              "      <td>5196000.0</td>\n",
              "      <td>56.00</td>\n",
              "      <td>2015-08-20T00:00:00</td>\n",
              "      <td>2</td>\n",
              "      <td>NaN</td>\n",
              "      <td>5.0</td>\n",
              "      <td>34.3</td>\n",
              "      <td>4</td>\n",
              "      <td>NaN</td>\n",
              "      <td>...</td>\n",
              "      <td>8.30</td>\n",
              "      <td>0.0</td>\n",
              "      <td>Санкт-Петербург</td>\n",
              "      <td>21741.0</td>\n",
              "      <td>13933.0</td>\n",
              "      <td>1.0</td>\n",
              "      <td>90.0</td>\n",
              "      <td>2.0</td>\n",
              "      <td>574.0</td>\n",
              "      <td>558.0</td>\n",
              "    </tr>\n",
              "    <tr>\n",
              "      <th>3</th>\n",
              "      <td>0</td>\n",
              "      <td>64900000.0</td>\n",
              "      <td>159.00</td>\n",
              "      <td>2015-07-24T00:00:00</td>\n",
              "      <td>3</td>\n",
              "      <td>NaN</td>\n",
              "      <td>14.0</td>\n",
              "      <td>NaN</td>\n",
              "      <td>9</td>\n",
              "      <td>NaN</td>\n",
              "      <td>...</td>\n",
              "      <td>NaN</td>\n",
              "      <td>0.0</td>\n",
              "      <td>Санкт-Петербург</td>\n",
              "      <td>28098.0</td>\n",
              "      <td>6800.0</td>\n",
              "      <td>2.0</td>\n",
              "      <td>84.0</td>\n",
              "      <td>3.0</td>\n",
              "      <td>234.0</td>\n",
              "      <td>424.0</td>\n",
              "    </tr>\n",
              "    <tr>\n",
              "      <th>4</th>\n",
              "      <td>2</td>\n",
              "      <td>10000000.0</td>\n",
              "      <td>100.00</td>\n",
              "      <td>2018-06-19T00:00:00</td>\n",
              "      <td>2</td>\n",
              "      <td>3.03</td>\n",
              "      <td>14.0</td>\n",
              "      <td>32.0</td>\n",
              "      <td>13</td>\n",
              "      <td>NaN</td>\n",
              "      <td>...</td>\n",
              "      <td>41.00</td>\n",
              "      <td>NaN</td>\n",
              "      <td>Санкт-Петербург</td>\n",
              "      <td>31856.0</td>\n",
              "      <td>8098.0</td>\n",
              "      <td>2.0</td>\n",
              "      <td>112.0</td>\n",
              "      <td>1.0</td>\n",
              "      <td>48.0</td>\n",
              "      <td>121.0</td>\n",
              "    </tr>\n",
              "    <tr>\n",
              "      <th>...</th>\n",
              "      <td>...</td>\n",
              "      <td>...</td>\n",
              "      <td>...</td>\n",
              "      <td>...</td>\n",
              "      <td>...</td>\n",
              "      <td>...</td>\n",
              "      <td>...</td>\n",
              "      <td>...</td>\n",
              "      <td>...</td>\n",
              "      <td>...</td>\n",
              "      <td>...</td>\n",
              "      <td>...</td>\n",
              "      <td>...</td>\n",
              "      <td>...</td>\n",
              "      <td>...</td>\n",
              "      <td>...</td>\n",
              "      <td>...</td>\n",
              "      <td>...</td>\n",
              "      <td>...</td>\n",
              "      <td>...</td>\n",
              "      <td>...</td>\n",
              "    </tr>\n",
              "    <tr>\n",
              "      <th>23694</th>\n",
              "      <td>9</td>\n",
              "      <td>9700000.0</td>\n",
              "      <td>133.81</td>\n",
              "      <td>2017-03-21T00:00:00</td>\n",
              "      <td>3</td>\n",
              "      <td>3.70</td>\n",
              "      <td>5.0</td>\n",
              "      <td>73.3</td>\n",
              "      <td>3</td>\n",
              "      <td>NaN</td>\n",
              "      <td>...</td>\n",
              "      <td>13.83</td>\n",
              "      <td>NaN</td>\n",
              "      <td>Санкт-Петербург</td>\n",
              "      <td>24665.0</td>\n",
              "      <td>4232.0</td>\n",
              "      <td>1.0</td>\n",
              "      <td>796.0</td>\n",
              "      <td>3.0</td>\n",
              "      <td>381.0</td>\n",
              "      <td>NaN</td>\n",
              "    </tr>\n",
              "    <tr>\n",
              "      <th>23695</th>\n",
              "      <td>14</td>\n",
              "      <td>3100000.0</td>\n",
              "      <td>59.00</td>\n",
              "      <td>2018-01-15T00:00:00</td>\n",
              "      <td>3</td>\n",
              "      <td>NaN</td>\n",
              "      <td>5.0</td>\n",
              "      <td>38.0</td>\n",
              "      <td>4</td>\n",
              "      <td>NaN</td>\n",
              "      <td>...</td>\n",
              "      <td>8.50</td>\n",
              "      <td>NaN</td>\n",
              "      <td>Тосно</td>\n",
              "      <td>NaN</td>\n",
              "      <td>NaN</td>\n",
              "      <td>NaN</td>\n",
              "      <td>NaN</td>\n",
              "      <td>NaN</td>\n",
              "      <td>NaN</td>\n",
              "      <td>45.0</td>\n",
              "    </tr>\n",
              "    <tr>\n",
              "      <th>23696</th>\n",
              "      <td>18</td>\n",
              "      <td>2500000.0</td>\n",
              "      <td>56.70</td>\n",
              "      <td>2018-02-11T00:00:00</td>\n",
              "      <td>2</td>\n",
              "      <td>NaN</td>\n",
              "      <td>3.0</td>\n",
              "      <td>29.7</td>\n",
              "      <td>1</td>\n",
              "      <td>NaN</td>\n",
              "      <td>...</td>\n",
              "      <td>NaN</td>\n",
              "      <td>NaN</td>\n",
              "      <td>село Рождествено</td>\n",
              "      <td>NaN</td>\n",
              "      <td>NaN</td>\n",
              "      <td>NaN</td>\n",
              "      <td>NaN</td>\n",
              "      <td>NaN</td>\n",
              "      <td>NaN</td>\n",
              "      <td>NaN</td>\n",
              "    </tr>\n",
              "    <tr>\n",
              "      <th>23697</th>\n",
              "      <td>13</td>\n",
              "      <td>11475000.0</td>\n",
              "      <td>76.75</td>\n",
              "      <td>2017-03-28T00:00:00</td>\n",
              "      <td>2</td>\n",
              "      <td>3.00</td>\n",
              "      <td>17.0</td>\n",
              "      <td>NaN</td>\n",
              "      <td>12</td>\n",
              "      <td>NaN</td>\n",
              "      <td>...</td>\n",
              "      <td>23.30</td>\n",
              "      <td>2.0</td>\n",
              "      <td>Санкт-Петербург</td>\n",
              "      <td>39140.0</td>\n",
              "      <td>10364.0</td>\n",
              "      <td>2.0</td>\n",
              "      <td>173.0</td>\n",
              "      <td>3.0</td>\n",
              "      <td>196.0</td>\n",
              "      <td>602.0</td>\n",
              "    </tr>\n",
              "    <tr>\n",
              "      <th>23698</th>\n",
              "      <td>4</td>\n",
              "      <td>1350000.0</td>\n",
              "      <td>32.30</td>\n",
              "      <td>2017-07-21T00:00:00</td>\n",
              "      <td>1</td>\n",
              "      <td>2.50</td>\n",
              "      <td>5.0</td>\n",
              "      <td>12.3</td>\n",
              "      <td>1</td>\n",
              "      <td>NaN</td>\n",
              "      <td>...</td>\n",
              "      <td>9.00</td>\n",
              "      <td>NaN</td>\n",
              "      <td>поселок Новый Учхоз</td>\n",
              "      <td>NaN</td>\n",
              "      <td>NaN</td>\n",
              "      <td>NaN</td>\n",
              "      <td>NaN</td>\n",
              "      <td>NaN</td>\n",
              "      <td>NaN</td>\n",
              "      <td>NaN</td>\n",
              "    </tr>\n",
              "  </tbody>\n",
              "</table>\n",
              "<p>23699 rows × 22 columns</p>\n",
              "</div>"
            ],
            "text/plain": [
              "       total_images  last_price  total_area first_day_exposition  rooms  \\\n",
              "0                20  13000000.0      108.00  2019-03-07T00:00:00      3   \n",
              "1                 7   3350000.0       40.40  2018-12-04T00:00:00      1   \n",
              "2                10   5196000.0       56.00  2015-08-20T00:00:00      2   \n",
              "3                 0  64900000.0      159.00  2015-07-24T00:00:00      3   \n",
              "4                 2  10000000.0      100.00  2018-06-19T00:00:00      2   \n",
              "...             ...         ...         ...                  ...    ...   \n",
              "23694             9   9700000.0      133.81  2017-03-21T00:00:00      3   \n",
              "23695            14   3100000.0       59.00  2018-01-15T00:00:00      3   \n",
              "23696            18   2500000.0       56.70  2018-02-11T00:00:00      2   \n",
              "23697            13  11475000.0       76.75  2017-03-28T00:00:00      2   \n",
              "23698             4   1350000.0       32.30  2017-07-21T00:00:00      1   \n",
              "\n",
              "       ceiling_height  floors_total  living_area  floor is_apartment  ...  \\\n",
              "0                2.70          16.0         51.0      8          NaN  ...   \n",
              "1                 NaN          11.0         18.6      1          NaN  ...   \n",
              "2                 NaN           5.0         34.3      4          NaN  ...   \n",
              "3                 NaN          14.0          NaN      9          NaN  ...   \n",
              "4                3.03          14.0         32.0     13          NaN  ...   \n",
              "...               ...           ...          ...    ...          ...  ...   \n",
              "23694            3.70           5.0         73.3      3          NaN  ...   \n",
              "23695             NaN           5.0         38.0      4          NaN  ...   \n",
              "23696             NaN           3.0         29.7      1          NaN  ...   \n",
              "23697            3.00          17.0          NaN     12          NaN  ...   \n",
              "23698            2.50           5.0         12.3      1          NaN  ...   \n",
              "\n",
              "       kitchen_area  balcony        locality_name  airports_nearest  \\\n",
              "0             25.00      NaN      Санкт-Петербург           18863.0   \n",
              "1             11.00      2.0       посёлок Шушары           12817.0   \n",
              "2              8.30      0.0      Санкт-Петербург           21741.0   \n",
              "3               NaN      0.0      Санкт-Петербург           28098.0   \n",
              "4             41.00      NaN      Санкт-Петербург           31856.0   \n",
              "...             ...      ...                  ...               ...   \n",
              "23694         13.83      NaN      Санкт-Петербург           24665.0   \n",
              "23695          8.50      NaN                Тосно               NaN   \n",
              "23696           NaN      NaN     село Рождествено               NaN   \n",
              "23697         23.30      2.0      Санкт-Петербург           39140.0   \n",
              "23698          9.00      NaN  поселок Новый Учхоз               NaN   \n",
              "\n",
              "      cityCenters_nearest  parks_around3000  parks_nearest  ponds_around3000  \\\n",
              "0                 16028.0               1.0          482.0               2.0   \n",
              "1                 18603.0               0.0            NaN               0.0   \n",
              "2                 13933.0               1.0           90.0               2.0   \n",
              "3                  6800.0               2.0           84.0               3.0   \n",
              "4                  8098.0               2.0          112.0               1.0   \n",
              "...                   ...               ...            ...               ...   \n",
              "23694              4232.0               1.0          796.0               3.0   \n",
              "23695                 NaN               NaN            NaN               NaN   \n",
              "23696                 NaN               NaN            NaN               NaN   \n",
              "23697             10364.0               2.0          173.0               3.0   \n",
              "23698                 NaN               NaN            NaN               NaN   \n",
              "\n",
              "       ponds_nearest  days_exposition  \n",
              "0              755.0              NaN  \n",
              "1                NaN             81.0  \n",
              "2              574.0            558.0  \n",
              "3              234.0            424.0  \n",
              "4               48.0            121.0  \n",
              "...              ...              ...  \n",
              "23694          381.0              NaN  \n",
              "23695            NaN             45.0  \n",
              "23696            NaN              NaN  \n",
              "23697          196.0            602.0  \n",
              "23698            NaN              NaN  \n",
              "\n",
              "[23699 rows x 22 columns]"
            ]
          },
          "execution_count": 3,
          "metadata": {},
          "output_type": "execute_result"
        }
      ],
      "source": [
        "data=df\n",
        "df"
      ]
    },
    {
      "cell_type": "code",
      "execution_count": null,
      "metadata": {
        "id": "QEEo_h-gvYgh",
        "outputId": "272b1c55-b607-480f-9151-d962be8c6460"
      },
      "outputs": [
        {
          "name": "stdout",
          "output_type": "stream",
          "text": [
            "<class 'pandas.core.frame.DataFrame'>\n",
            "RangeIndex: 23699 entries, 0 to 23698\n",
            "Data columns (total 22 columns):\n",
            " #   Column                Non-Null Count  Dtype  \n",
            "---  ------                --------------  -----  \n",
            " 0   total_images          23699 non-null  int64  \n",
            " 1   last_price            23699 non-null  float64\n",
            " 2   total_area            23699 non-null  float64\n",
            " 3   first_day_exposition  23699 non-null  object \n",
            " 4   rooms                 23699 non-null  int64  \n",
            " 5   ceiling_height        14504 non-null  float64\n",
            " 6   floors_total          23613 non-null  float64\n",
            " 7   living_area           21796 non-null  float64\n",
            " 8   floor                 23699 non-null  int64  \n",
            " 9   is_apartment          2775 non-null   object \n",
            " 10  studio                23699 non-null  bool   \n",
            " 11  open_plan             23699 non-null  bool   \n",
            " 12  kitchen_area          21421 non-null  float64\n",
            " 13  balcony               12180 non-null  float64\n",
            " 14  locality_name         23650 non-null  object \n",
            " 15  airports_nearest      18157 non-null  float64\n",
            " 16  cityCenters_nearest   18180 non-null  float64\n",
            " 17  parks_around3000      18181 non-null  float64\n",
            " 18  parks_nearest         8079 non-null   float64\n",
            " 19  ponds_around3000      18181 non-null  float64\n",
            " 20  ponds_nearest         9110 non-null   float64\n",
            " 21  days_exposition       20518 non-null  float64\n",
            "dtypes: bool(2), float64(14), int64(3), object(3)\n",
            "memory usage: 3.7+ MB\n"
          ]
        }
      ],
      "source": [
        "df.info()"
      ]
    },
    {
      "cell_type": "code",
      "execution_count": null,
      "metadata": {
        "id": "sS7tjIZovYgi",
        "outputId": "01573a6b-5890-4764-8901-b8732cdae3d5"
      },
      "outputs": [
        {
          "data": {
            "text/plain": [
              "array([[<AxesSubplot:title={'center':'total_images'}>,\n",
              "        <AxesSubplot:title={'center':'last_price'}>,\n",
              "        <AxesSubplot:title={'center':'total_area'}>,\n",
              "        <AxesSubplot:title={'center':'rooms'}>],\n",
              "       [<AxesSubplot:title={'center':'ceiling_height'}>,\n",
              "        <AxesSubplot:title={'center':'floors_total'}>,\n",
              "        <AxesSubplot:title={'center':'living_area'}>,\n",
              "        <AxesSubplot:title={'center':'floor'}>],\n",
              "       [<AxesSubplot:title={'center':'kitchen_area'}>,\n",
              "        <AxesSubplot:title={'center':'balcony'}>,\n",
              "        <AxesSubplot:title={'center':'airports_nearest'}>,\n",
              "        <AxesSubplot:title={'center':'cityCenters_nearest'}>],\n",
              "       [<AxesSubplot:title={'center':'parks_around3000'}>,\n",
              "        <AxesSubplot:title={'center':'parks_nearest'}>,\n",
              "        <AxesSubplot:title={'center':'ponds_around3000'}>,\n",
              "        <AxesSubplot:title={'center':'ponds_nearest'}>],\n",
              "       [<AxesSubplot:title={'center':'days_exposition'}>, <AxesSubplot:>,\n",
              "        <AxesSubplot:>, <AxesSubplot:>]], dtype=object)"
            ]
          },
          "execution_count": 5,
          "metadata": {},
          "output_type": "execute_result"
        },
        {
          "data": {
            "image/png": "[encoded data removed]",
            "text/plain": [
              "<Figure size 1080x1440 with 20 Axes>"
            ]
          },
          "metadata": {
            "needs_background": "light"
          },
          "output_type": "display_data"
        }
      ],
      "source": [
        "df.hist(figsize=(15, 20))"
      ]
    },
    {
      "cell_type": "markdown",
      "metadata": {
        "id": "GnaumXA7vYgj"
      },
      "source": [
        "В таблице присутствую пропуски и ошибки в типах данных. Размер таблицы 23699 строк и 22 столбца."
      ]
    },
    {
      "cell_type": "markdown",
      "metadata": {
        "id": "sIp7ezUqvYgk"
      },
      "source": [
        "### Предобработка данных"
      ]
    },
    {
      "cell_type": "code",
      "execution_count": null,
      "metadata": {
        "id": "EOH1t_wVvYgk",
        "outputId": "54bd990d-2482-45e3-9329-75687d7e4f2b"
      },
      "outputs": [
        {
          "data": {
            "text/plain": [
              "total_images                0\n",
              "last_price                  0\n",
              "total_area                  0\n",
              "first_day_exposition        0\n",
              "rooms                       0\n",
              "ceiling_height           9195\n",
              "floors_total               86\n",
              "living_area              1903\n",
              "floor                       0\n",
              "is_apartment            20924\n",
              "studio                      0\n",
              "open_plan                   0\n",
              "kitchen_area             2278\n",
              "balcony                 11519\n",
              "locality_name              49\n",
              "airports_nearest         5542\n",
              "cityCenters_nearest      5519\n",
              "parks_around3000         5518\n",
              "parks_nearest           15620\n",
              "ponds_around3000         5518\n",
              "ponds_nearest           14589\n",
              "days_exposition          3181\n",
              "dtype: int64"
            ]
          },
          "execution_count": 6,
          "metadata": {},
          "output_type": "execute_result"
        }
      ],
      "source": [
        "df.isna().sum()"
      ]
    },
    {
      "cell_type": "code",
      "execution_count": null,
      "metadata": {
        "id": "yv7r2lldvYgl"
      },
      "outputs": [],
      "source": [
        "df['balcony'] = df['balcony'].fillna(0)"
      ]
    },
    {
      "cell_type": "code",
      "execution_count": null,
      "metadata": {
        "id": "lkyRZz3JvYgm"
      },
      "outputs": [],
      "source": [
        "df.dropna(subset=['locality_name'], inplace=True)"
      ]
    },
    {
      "cell_type": "code",
      "execution_count": null,
      "metadata": {
        "id": "uR97H_61vYgn"
      },
      "outputs": [],
      "source": [
        "df['is_apartment'] = df['is_apartment'].fillna(False)"
      ]
    },
    {
      "cell_type": "code",
      "execution_count": null,
      "metadata": {
        "id": "qwN5DbI_vYgn"
      },
      "outputs": [],
      "source": [
        "ceiling_medians = df.pivot_table(index='floors_total', values='ceiling_height', aggfunc=['median', 'count'])\n",
        "ceiling_medians.columns = ['median', 'count']\n",
        "ceiling_medians.head()\n",
        "for floor in ceiling_medians.index:\n",
        "    df.loc[(df['floors_total'].isna()) |\n",
        "             ((df['floors_total'] == floor) & (ceiling_medians.loc[floor, 'count'] == 0)),\n",
        "             'ceiling_height'] = df['ceiling_height'].describe()\n",
        "\n",
        "for floor in ceiling_medians.index:\n",
        "    df.loc[(df['ceiling_height'].isna()) &\n",
        "             (df['floors_total'] == floor),\n",
        "             'ceiling_height'] = ceiling_medians.loc[floor, 'median']"
      ]
    },
    {
      "cell_type": "code",
      "execution_count": null,
      "metadata": {
        "scrolled": true,
        "id": "d418OG9AvYgo",
        "outputId": "2bc87977-e3ca-45a3-ee67-f5c843d826a3"
      },
      "outputs": [
        {
          "data": {
            "text/plain": [
              "total_images                0\n",
              "last_price                  0\n",
              "total_area                  0\n",
              "first_day_exposition        0\n",
              "rooms                       0\n",
              "ceiling_height             86\n",
              "floors_total               85\n",
              "living_area              1898\n",
              "floor                       0\n",
              "is_apartment                0\n",
              "studio                      0\n",
              "open_plan                   0\n",
              "kitchen_area             2269\n",
              "balcony                     0\n",
              "locality_name               0\n",
              "airports_nearest         5534\n",
              "cityCenters_nearest      5511\n",
              "parks_around3000         5510\n",
              "parks_nearest           15586\n",
              "ponds_around3000         5510\n",
              "ponds_nearest           14565\n",
              "days_exposition          3180\n",
              "dtype: int64"
            ]
          },
          "execution_count": 11,
          "metadata": {},
          "output_type": "execute_result"
        }
      ],
      "source": [
        "df.isna().sum()"
      ]
    },
    {
      "cell_type": "markdown",
      "metadata": {
        "id": "p2n2jo1rvYgo"
      },
      "source": [
        "Для остальных столбцов логичную замену предложить невозможно, поэтому эти значения остались пустыми. Причиной пропусков может служить невнимательность человека при заполнении таблицы или технический сбой."
      ]
    },
    {
      "cell_type": "code",
      "execution_count": null,
      "metadata": {
        "id": "fsWBSFe-vYgp"
      },
      "outputs": [],
      "source": [
        "df['is_apartment'] = df['is_apartment'].astype(bool)\n",
        "df['balcony'] = df['balcony'].astype(int)\n",
        "df[\"first_day_exposition\"]=pd.to_datetime(df[\"first_day_exposition\"],format = '%Y-%m-%d')\n",
        "df['last_price'] = df['last_price'].astype('int')"
      ]
    },
    {
      "cell_type": "markdown",
      "metadata": {
        "id": "pNup_HGqvYgp"
      },
      "source": [
        "Изменить тип данных некоторых столбцов потребовалось для облегчения дальнейшего анализа имеющихся данных"
      ]
    },
    {
      "cell_type": "code",
      "execution_count": null,
      "metadata": {
        "id": "Z3S5VuyYvYgq"
      },
      "outputs": [],
      "source": [
        "df['locality_name'] = df['locality_name'].str.lower()"
      ]
    },
    {
      "cell_type": "code",
      "execution_count": null,
      "metadata": {
        "id": "MTvKppa2vYgq",
        "outputId": "56a404fd-a7cb-4422-d7bf-6a64d74de81c"
      },
      "outputs": [
        {
          "data": {
            "text/plain": [
              "array(['санкт-петербург', 'посёлок шушары', 'городской посёлок янино-1',\n",
              "       'посёлок парголово', 'посёлок мурино', 'ломоносов', 'сертолово',\n",
              "       'петергоф', 'пушкин', 'деревня кудрово', 'коммунар', 'колпино',\n",
              "       'поселок городского типа красный бор', 'гатчина', 'поселок мурино',\n",
              "       'деревня фёдоровское', 'выборг', 'кронштадт', 'кировск',\n",
              "       'деревня новое девяткино', 'посёлок металлострой',\n",
              "       'посёлок городского типа лебяжье',\n",
              "       'посёлок городского типа сиверский', 'поселок молодцово',\n",
              "       'поселок городского типа кузьмоловский',\n",
              "       'садовое товарищество новая ропша', 'павловск',\n",
              "       'деревня пикколово', 'всеволожск', 'волхов', 'кингисепп',\n",
              "       'приозерск', 'сестрорецк', 'деревня куттузи', 'посёлок аннино',\n",
              "       'поселок городского типа ефимовский', 'посёлок плодовое',\n",
              "       'деревня заклинье', 'поселок торковичи', 'поселок первомайское',\n",
              "       'красное село', 'посёлок понтонный', 'сясьстрой', 'деревня старая',\n",
              "       'деревня лесколово', 'посёлок новый свет', 'сланцы',\n",
              "       'село путилово', 'ивангород', 'мурино', 'шлиссельбург',\n",
              "       'никольское', 'зеленогорск', 'сосновый бор', 'поселок новый свет',\n",
              "       'деревня оржицы', 'деревня кальтино', 'кудрово',\n",
              "       'поселок романовка', 'посёлок бугры', 'поселок бугры',\n",
              "       'поселок городского типа рощино', 'кириши', 'луга', 'волосово',\n",
              "       'отрадное', 'село павлово', 'поселок оредеж', 'село копорье',\n",
              "       'посёлок городского типа красный бор', 'посёлок молодёжное',\n",
              "       'тихвин', 'посёлок победа', 'деревня нурма',\n",
              "       'поселок городского типа синявино', 'тосно',\n",
              "       'посёлок городского типа кузьмоловский', 'посёлок стрельна',\n",
              "       'бокситогорск', 'посёлок александровская', 'деревня лопухинка',\n",
              "       'пикалёво', 'поселок терволово',\n",
              "       'поселок городского типа советский', 'подпорожье',\n",
              "       'посёлок петровское', 'посёлок городского типа токсово',\n",
              "       'поселок сельцо', 'посёлок городского типа вырица',\n",
              "       'деревня кипень', 'деревня келози', 'деревня вартемяги',\n",
              "       'посёлок тельмана', 'поселок севастьяново',\n",
              "       'городской поселок большая ижора', 'городской посёлок павлово',\n",
              "       'деревня агалатово', 'посёлок новогорелово',\n",
              "       'городской посёлок лесогорский', 'деревня лаголово',\n",
              "       'поселок цвелодубово', 'поселок городского типа рахья',\n",
              "       'поселок городского типа вырица', 'деревня белогорка',\n",
              "       'поселок заводской', 'городской посёлок новоселье',\n",
              "       'деревня большие колпаны', 'деревня горбунки', 'деревня батово',\n",
              "       'деревня заневка', 'деревня иссад', 'приморск',\n",
              "       'городской посёлок фёдоровское', 'деревня мистолово',\n",
              "       'новая ладога', 'поселок зимитицы', 'поселок барышево',\n",
              "       'деревня разметелево', 'поселок городского типа имени свердлова',\n",
              "       'деревня пеники', 'поселок рябово', 'деревня пудомяги',\n",
              "       'поселок станции корнево', 'деревня низино', 'деревня бегуницы',\n",
              "       'посёлок поляны', 'городской посёлок мга', 'поселок елизаветино',\n",
              "       'посёлок городского типа кузнечное', 'деревня колтуши',\n",
              "       'поселок запорожское', 'посёлок городского типа рощино',\n",
              "       'деревня гостилицы', 'деревня малое карлино',\n",
              "       'посёлок мичуринское', 'посёлок городского типа имени морозова',\n",
              "       'посёлок песочный', 'посёлок сосново', 'деревня аро',\n",
              "       'поселок ильичёво', 'посёлок городского типа тайцы',\n",
              "       'деревня малое верево', 'деревня извара', 'поселок станции вещево',\n",
              "       'село паша', 'деревня калитино',\n",
              "       'посёлок городского типа ульяновка', 'деревня чудской бор',\n",
              "       'поселок городского типа дубровка', 'деревня мины',\n",
              "       'поселок войсковицы', 'посёлок городского типа имени свердлова',\n",
              "       'деревня коркино', 'посёлок ропша',\n",
              "       'поселок городского типа приладожский', 'посёлок щеглово',\n",
              "       'посёлок гаврилово', 'лодейное поле', 'деревня рабитицы',\n",
              "       'поселок городского типа никольский', 'деревня кузьмолово',\n",
              "       'деревня малые колпаны', 'поселок тельмана',\n",
              "       'посёлок петро-славянка', 'городской посёлок назия',\n",
              "       'посёлок репино', 'посёлок ильичёво', 'поселок углово',\n",
              "       'поселок старая малукса', 'садовое товарищество рахья',\n",
              "       'поселок аннино', 'поселок победа', 'деревня меньково',\n",
              "       'деревня старые бегуницы', 'посёлок сапёрный', 'поселок семрино',\n",
              "       'поселок гаврилово', 'поселок глажево', 'поселок кобринское',\n",
              "       'деревня гарболово', 'деревня юкки',\n",
              "       'поселок станции приветнинское', 'деревня мануйлово',\n",
              "       'деревня пчева', 'поселок поляны', 'поселок цвылёво',\n",
              "       'поселок мельниково', 'посёлок пудость', 'посёлок усть-луга',\n",
              "       'светогорск', 'любань', 'поселок селезнёво',\n",
              "       'поселок городского типа рябово', 'каменногорск', 'деревня кривко',\n",
              "       'поселок глебычево', 'деревня парицы', 'поселок жилпосёлок',\n",
              "       'посёлок городского типа мга', 'городской поселок янино-1',\n",
              "       'посёлок войскорово', 'село никольское', 'посёлок терволово',\n",
              "       'поселок стеклянный', 'посёлок городского типа важины',\n",
              "       'посёлок мыза-ивановка', 'село русско-высоцкое',\n",
              "       'поселок городского типа лебяжье',\n",
              "       'поселок городского типа форносово', 'село старая ладога',\n",
              "       'поселок житково', 'городской посёлок виллози', 'деревня лампово',\n",
              "       'деревня шпаньково', 'деревня лаврики', 'посёлок сумино',\n",
              "       'посёлок возрождение', 'деревня старосиверская',\n",
              "       'посёлок кикерино', 'поселок возрождение',\n",
              "       'деревня старое хинколово', 'посёлок пригородный',\n",
              "       'посёлок торфяное', 'городской посёлок будогощь',\n",
              "       'поселок суходолье', 'поселок красная долина', 'деревня хапо-ое',\n",
              "       'поселок городского типа дружная горка', 'поселок лисий нос',\n",
              "       'деревня яльгелево', 'посёлок стеклянный', 'село рождествено',\n",
              "       'деревня старополье', 'посёлок левашово', 'деревня сяськелево',\n",
              "       'деревня камышовка',\n",
              "       'садоводческое некоммерческое товарищество лесная поляна',\n",
              "       'деревня хязельки', 'поселок жилгородок',\n",
              "       'посёлок городского типа павлово', 'деревня ялгино',\n",
              "       'поселок новый учхоз', 'городской посёлок рощино',\n",
              "       'поселок гончарово', 'поселок почап', 'посёлок сапёрное',\n",
              "       'посёлок платформа 69-й километр', 'поселок каложицы',\n",
              "       'деревня фалилеево', 'деревня пельгора',\n",
              "       'поселок городского типа лесогорский', 'деревня торошковичи',\n",
              "       'посёлок белоостров', 'посёлок алексеевка', 'поселок серебрянский',\n",
              "       'поселок лукаши', 'поселок петровское', 'деревня щеглово',\n",
              "       'поселок мичуринское', 'деревня тарасово', 'поселок кингисеппский',\n",
              "       'посёлок при железнодорожной станции вещево', 'поселок ушаки',\n",
              "       'деревня котлы', 'деревня сижно', 'деревня торосово',\n",
              "       'посёлок форт красная горка', 'поселок городского типа токсово',\n",
              "       'деревня новолисино', 'посёлок станции громово', 'деревня глинка',\n",
              "       'посёлок мельниково', 'поселок городского типа назия',\n",
              "       'деревня старая пустошь', 'поселок коммунары', 'поселок починок',\n",
              "       'посёлок городского типа вознесенье', 'деревня разбегаево',\n",
              "       'посёлок городского типа рябово', 'поселок гладкое',\n",
              "       'посёлок при железнодорожной станции приветнинское',\n",
              "       'поселок тёсово-4', 'посёлок жилгородок', 'деревня бор',\n",
              "       'посёлок коробицыно', 'деревня большая вруда', 'деревня курковицы',\n",
              "       'посёлок лисий нос', 'городской посёлок советский',\n",
              "       'посёлок кобралово', 'деревня суоранда', 'поселок кобралово',\n",
              "       'поселок городского типа кондратьево',\n",
              "       'коттеджный поселок счастье', 'поселок любань', 'деревня реброво',\n",
              "       'деревня зимитицы', 'деревня тойворово', 'поселок семиозерье',\n",
              "       'поселок лесное', 'поселок совхозный', 'поселок усть-луга',\n",
              "       'посёлок ленинское', 'посёлок суйда',\n",
              "       'посёлок городского типа форносово', 'деревня нижние осельки',\n",
              "       'посёлок станции свирь', 'поселок перово', 'высоцк',\n",
              "       'поселок гарболово', 'село шум', 'поселок котельский',\n",
              "       'поселок станции лужайка', 'деревня большая пустомержа',\n",
              "       'поселок красносельское', 'деревня вахнова кара', 'деревня пижма',\n",
              "       'коттеджный поселок кивеннапа север', 'поселок коробицыно',\n",
              "       'поселок ромашки', 'посёлок перово', 'деревня каськово',\n",
              "       'деревня куровицы', 'посёлок плоское', 'поселок сумино',\n",
              "       'поселок городского типа большая ижора', 'поселок кирпичное',\n",
              "       'деревня ям-тесово', 'деревня раздолье', 'деревня терпилицы',\n",
              "       'посёлок шугозеро', 'деревня ваганово', 'поселок пушное',\n",
              "       'садовое товарищество садко', 'посёлок усть-ижора',\n",
              "       'деревня выскатка', 'городской посёлок свирьстрой',\n",
              "       'поселок громово', 'деревня кисельня', 'посёлок старая малукса',\n",
              "       'деревня трубников бор', 'поселок калитино',\n",
              "       'посёлок высокоключевой', 'садовое товарищество приладожский',\n",
              "       'посёлок пансионат зелёный бор', 'деревня ненимяки',\n",
              "       'поселок пансионат зелёный бор', 'деревня снегирёвка',\n",
              "       'деревня рапполово', 'деревня пустынка', 'поселок рабитицы',\n",
              "       'деревня большой сабск', 'деревня русско', 'деревня лупполово',\n",
              "       'деревня большое рейзино', 'деревня малая романовка',\n",
              "       'поселок дружноселье', 'поселок пчевжа', 'поселок володарское',\n",
              "       'деревня нижняя', 'коттеджный посёлок лесное', 'деревня тихковицы',\n",
              "       'деревня борисова грива', 'посёлок дзержинского'], dtype=object)"
            ]
          },
          "execution_count": 14,
          "metadata": {},
          "output_type": "execute_result"
        }
      ],
      "source": [
        "df['locality_name'].unique()"
      ]
    },
    {
      "cell_type": "code",
      "execution_count": null,
      "metadata": {
        "id": "K5qvYWzJvYgq",
        "outputId": "1b3462d6-eab5-4b45-b79d-3e06eac32c84"
      },
      "outputs": [
        {
          "data": {
            "text/plain": [
              "0                  санкт-петербург\n",
              "1                   поселок шушары\n",
              "5        городской поселок янино-1\n",
              "6                поселок парголово\n",
              "8                   поселок мурино\n",
              "                   ...            \n",
              "22938               деревня нижняя\n",
              "23048    коттеджный поселок лесное\n",
              "23354            деревня тихковицы\n",
              "23411       деревня борисова грива\n",
              "23683         поселок дзержинского\n",
              "Name: locality_name, Length: 330, dtype: object"
            ]
          },
          "execution_count": 15,
          "metadata": {},
          "output_type": "execute_result"
        }
      ],
      "source": [
        "df['locality_name'] = df['locality_name'].str.replace(\"ё\", \"е\")\n",
        "\n",
        "df['locality_name'].drop_duplicates()"
      ]
    },
    {
      "cell_type": "code",
      "execution_count": null,
      "metadata": {
        "id": "p8hAmbzBvYgr",
        "outputId": "b7d0724a-00e1-4308-ee0a-980c7dec3c98"
      },
      "outputs": [
        {
          "data": {
            "text/plain": [
              "array(['санкт-петербург', 'поселок шушары', 'городской поселок янино-1',\n",
              "       'поселок парголово', 'поселок мурино', 'ломоносов', 'сертолово',\n",
              "       'петергоф', 'пушкин', 'деревня кудрово', 'коммунар', 'колпино',\n",
              "       'поселок городского типа красный бор', 'гатчина',\n",
              "       'деревня федоровское', 'выборг', 'кронштадт', 'кировск',\n",
              "       'деревня новое девяткино', 'поселок металлострой',\n",
              "       'поселок городского типа лебяжье',\n",
              "       'поселок городского типа сиверский', 'поселок молодцово',\n",
              "       'поселок городского типа кузьмоловский',\n",
              "       'садовое товарищество новая ропша', 'павловск',\n",
              "       'деревня пикколово', 'всеволожск', 'волхов', 'кингисепп',\n",
              "       'приозерск', 'сестрорецк', 'деревня куттузи', 'поселок аннино',\n",
              "       'поселок городского типа ефимовский', 'поселок плодовое',\n",
              "       'деревня заклинье', 'поселок торковичи', 'поселок первомайское',\n",
              "       'красное село', 'поселок понтонный', 'сясьстрой', 'деревня старая',\n",
              "       'деревня лесколово', 'поселок новый свет', 'сланцы',\n",
              "       'село путилово', 'ивангород', 'мурино', 'шлиссельбург',\n",
              "       'никольское', 'зеленогорск', 'сосновый бор', 'деревня оржицы',\n",
              "       'деревня кальтино', 'кудрово', 'поселок романовка',\n",
              "       'поселок бугры', 'поселок городского типа рощино', 'кириши',\n",
              "       'луга', 'волосово', 'отрадное', 'село павлово', 'поселок оредеж',\n",
              "       'село копорье', 'поселок молодежное', 'тихвин', 'поселок победа',\n",
              "       'деревня нурма', 'поселок городского типа синявино', 'тосно',\n",
              "       'поселок стрельна', 'бокситогорск', 'поселок александровская',\n",
              "       'деревня лопухинка', 'пикалево', 'поселок терволово',\n",
              "       'поселок городского типа советский', 'подпорожье',\n",
              "       'поселок петровское', 'поселок городского типа токсово',\n",
              "       'поселок сельцо', 'поселок городского типа вырица',\n",
              "       'деревня кипень', 'деревня келози', 'деревня вартемяги',\n",
              "       'поселок тельмана', 'поселок севастьяново',\n",
              "       'городской поселок большая ижора', 'городской поселок павлово',\n",
              "       'деревня агалатово', 'поселок новогорелово',\n",
              "       'городской поселок лесогорский', 'деревня лаголово',\n",
              "       'поселок цвелодубово', 'поселок городского типа рахья',\n",
              "       'деревня белогорка', 'поселок заводской',\n",
              "       'городской поселок новоселье', 'деревня большие колпаны',\n",
              "       'деревня горбунки', 'деревня батово', 'деревня заневка',\n",
              "       'деревня иссад', 'приморск', 'городской поселок федоровское',\n",
              "       'деревня мистолово', 'новая ладога', 'поселок зимитицы',\n",
              "       'поселок барышево', 'деревня разметелево',\n",
              "       'поселок городского типа имени свердлова', 'деревня пеники',\n",
              "       'поселок рябово', 'деревня пудомяги', 'поселок станции корнево',\n",
              "       'деревня низино', 'деревня бегуницы', 'поселок поляны',\n",
              "       'городской поселок мга', 'поселок елизаветино',\n",
              "       'поселок городского типа кузнечное', 'деревня колтуши',\n",
              "       'поселок запорожское', 'деревня гостилицы',\n",
              "       'деревня малое карлино', 'поселок мичуринское',\n",
              "       'поселок городского типа имени морозова', 'поселок песочный',\n",
              "       'поселок сосново', 'деревня аро', 'поселок ильичево',\n",
              "       'поселок городского типа тайцы', 'деревня малое верево',\n",
              "       'деревня извара', 'поселок станции вещево', 'село паша',\n",
              "       'деревня калитино', 'поселок городского типа ульяновка',\n",
              "       'деревня чудской бор', 'поселок городского типа дубровка',\n",
              "       'деревня мины', 'поселок войсковицы', 'деревня коркино',\n",
              "       'поселок ропша', 'поселок городского типа приладожский',\n",
              "       'поселок щеглово', 'поселок гаврилово', 'лодейное поле',\n",
              "       'деревня рабитицы', 'поселок городского типа никольский',\n",
              "       'деревня кузьмолово', 'деревня малые колпаны',\n",
              "       'поселок петро-славянка', 'городской поселок назия',\n",
              "       'поселок репино', 'поселок углово', 'поселок старая малукса',\n",
              "       'садовое товарищество рахья', 'деревня меньково',\n",
              "       'деревня старые бегуницы', 'поселок саперный', 'поселок семрино',\n",
              "       'поселок глажево', 'поселок кобринское', 'деревня гарболово',\n",
              "       'деревня юкки', 'поселок станции приветнинское',\n",
              "       'деревня мануйлово', 'деревня пчева', 'поселок цвылево',\n",
              "       'поселок мельниково', 'поселок пудость', 'поселок усть-луга',\n",
              "       'светогорск', 'любань', 'поселок селезнево',\n",
              "       'поселок городского типа рябово', 'каменногорск', 'деревня кривко',\n",
              "       'поселок глебычево', 'деревня парицы', 'поселок жилпоселок',\n",
              "       'поселок городского типа мга', 'поселок войскорово',\n",
              "       'село никольское', 'поселок стеклянный',\n",
              "       'поселок городского типа важины', 'поселок мыза-ивановка',\n",
              "       'село русско-высоцкое', 'поселок городского типа форносово',\n",
              "       'село старая ладога', 'поселок житково',\n",
              "       'городской поселок виллози', 'деревня лампово',\n",
              "       'деревня шпаньково', 'деревня лаврики', 'поселок сумино',\n",
              "       'поселок возрождение', 'деревня старосиверская',\n",
              "       'поселок кикерино', 'деревня старое хинколово',\n",
              "       'поселок пригородный', 'поселок торфяное',\n",
              "       'городской поселок будогощь', 'поселок суходолье',\n",
              "       'поселок красная долина', 'деревня хапо-ое',\n",
              "       'поселок городского типа дружная горка', 'поселок лисий нос',\n",
              "       'деревня яльгелево', 'село рождествено', 'деревня старополье',\n",
              "       'поселок левашово', 'деревня сяськелево', 'деревня камышовка',\n",
              "       'садоводческое некоммерческое товарищество лесная поляна',\n",
              "       'деревня хязельки', 'поселок жилгородок',\n",
              "       'поселок городского типа павлово', 'деревня ялгино',\n",
              "       'поселок новый учхоз', 'городской поселок рощино',\n",
              "       'поселок гончарово', 'поселок почап', 'поселок саперное',\n",
              "       'поселок платформа 69-й километр', 'поселок каложицы',\n",
              "       'деревня фалилеево', 'деревня пельгора',\n",
              "       'поселок городского типа лесогорский', 'деревня торошковичи',\n",
              "       'поселок белоостров', 'поселок алексеевка', 'поселок серебрянский',\n",
              "       'поселок лукаши', 'деревня щеглово', 'деревня тарасово',\n",
              "       'поселок кингисеппский',\n",
              "       'поселок при железнодорожной станции вещево', 'поселок ушаки',\n",
              "       'деревня котлы', 'деревня сижно', 'деревня торосово',\n",
              "       'поселок форт красная горка', 'деревня новолисино',\n",
              "       'поселок станции громово', 'деревня глинка',\n",
              "       'поселок городского типа назия', 'деревня старая пустошь',\n",
              "       'поселок коммунары', 'поселок починок',\n",
              "       'поселок городского типа вознесенье', 'деревня разбегаево',\n",
              "       'поселок гладкое',\n",
              "       'поселок при железнодорожной станции приветнинское',\n",
              "       'поселок тесово-4', 'деревня бор', 'поселок коробицыно',\n",
              "       'деревня большая вруда', 'деревня курковицы',\n",
              "       'городской поселок советский', 'поселок кобралово',\n",
              "       'деревня суоранда', 'поселок городского типа кондратьево',\n",
              "       'коттеджный поселок счастье', 'поселок любань', 'деревня реброво',\n",
              "       'деревня зимитицы', 'деревня тойворово', 'поселок семиозерье',\n",
              "       'поселок лесное', 'поселок совхозный', 'поселок ленинское',\n",
              "       'поселок суйда', 'деревня нижние осельки', 'поселок станции свирь',\n",
              "       'поселок перово', 'высоцк', 'поселок гарболово', 'село шум',\n",
              "       'поселок котельский', 'поселок станции лужайка',\n",
              "       'деревня большая пустомержа', 'поселок красносельское',\n",
              "       'деревня вахнова кара', 'деревня пижма',\n",
              "       'коттеджный поселок кивеннапа север', 'поселок ромашки',\n",
              "       'деревня каськово', 'деревня куровицы', 'поселок плоское',\n",
              "       'поселок городского типа большая ижора', 'поселок кирпичное',\n",
              "       'деревня ям-тесово', 'деревня раздолье', 'деревня терпилицы',\n",
              "       'поселок шугозеро', 'деревня ваганово', 'поселок пушное',\n",
              "       'садовое товарищество садко', 'поселок усть-ижора',\n",
              "       'деревня выскатка', 'городской поселок свирьстрой',\n",
              "       'поселок громово', 'деревня кисельня', 'деревня трубников бор',\n",
              "       'поселок калитино', 'поселок высокоключевой',\n",
              "       'садовое товарищество приладожский',\n",
              "       'поселок пансионат зеленый бор', 'деревня ненимяки',\n",
              "       'деревня снегиревка', 'деревня рапполово', 'деревня пустынка',\n",
              "       'поселок рабитицы', 'деревня большой сабск', 'деревня русско',\n",
              "       'деревня лупполово', 'деревня большое рейзино',\n",
              "       'деревня малая романовка', 'поселок дружноселье', 'поселок пчевжа',\n",
              "       'поселок володарское', 'деревня нижняя',\n",
              "       'коттеджный поселок лесное', 'деревня тихковицы',\n",
              "       'деревня борисова грива', 'поселок дзержинского'], dtype=object)"
            ]
          },
          "execution_count": 16,
          "metadata": {},
          "output_type": "execute_result"
        }
      ],
      "source": [
        "df['locality_name'].unique()"
      ]
    },
    {
      "cell_type": "code",
      "execution_count": null,
      "metadata": {
        "id": "I3YPCGLNvYgs",
        "outputId": "1d15be4c-6c3e-4f20-dd67-fd53f1efb8af"
      },
      "outputs": [
        {
          "data": {
            "text/plain": [
              "array([  2.7 ,   2.75,   2.55,   2.6 ,   3.03,   2.65,   2.66,   2.5 ,\n",
              "         2.67,   2.56,   3.  ,   3.05,   2.8 ,   2.9 ,   3.2 ,   2.61,\n",
              "         3.25,   3.45,   2.77,   2.85,   2.64,   2.57,   4.15,   3.5 ,\n",
              "         3.3 ,   2.71,   4.  ,    nan,   2.47,   2.73,   2.84,   3.1 ,\n",
              "         2.34,   3.4 ,   3.06,   2.72,   2.54,   2.51,   2.78,   2.76,\n",
              "        25.  ,   2.58,   3.7 ,  14.85,   2.52,   5.2 ,   2.87,   2.59,\n",
              "         2.  ,   2.45,   3.6 ,   2.92,   3.11,   3.13,   3.8 ,   3.15,\n",
              "         3.55,   3.16,   3.62,   3.12,   2.53,   2.74,   2.96,   2.46,\n",
              "         5.3 ,   5.  ,   2.79,   2.95,   4.06,   2.94,   3.82,   3.54,\n",
              "         3.53,   2.83,   4.7 ,   2.4 ,   3.38,   3.01,   5.6 ,   3.65,\n",
              "         3.9 ,   3.18,   3.35,   2.3 ,   3.57,   2.48,   2.62,   2.82,\n",
              "         3.98,   2.63,   3.83,   3.52,   3.95,   3.75,   2.88,   3.67,\n",
              "         3.87,   3.66,   3.85,   3.86,   4.19,   3.24,   4.8 ,   4.5 ,\n",
              "         4.2 ,   3.36,  32.  ,   3.08,   3.68,   3.07,   3.37,   3.09,\n",
              "         8.  ,   3.26,   3.34,   2.81,   3.44,   2.97,   3.14,   4.37,\n",
              "         2.68,   3.22,   3.27,  27.  ,   4.1 ,   2.93,   3.46,  24.  ,\n",
              "         3.47,   3.33,   3.63,   3.32,  26.  ,   1.2 ,   8.3 ,   2.98,\n",
              "         2.86,   3.17,   4.4 ,   3.28,   3.04,   4.45,   5.5 ,   3.84,\n",
              "         3.23,   3.02,   3.21,   3.43,   3.78,   4.3 ,   3.39,   2.69,\n",
              "         3.31,   4.65,   3.56,   2.2 ,   3.51,   3.93,   3.42,   2.99,\n",
              "         3.49,  14.  ,   4.14,   2.91,   3.88,   1.75,   4.25,   3.29,\n",
              "        20.  ,   2.25,   3.76,   3.69,   6.  ,  22.6 ,   2.89,   3.58,\n",
              "         5.8 ,  27.5 ,   2.49,   4.9 ,   3.48,  10.3 ,   1.  , 100.  ,\n",
              "         3.59])"
            ]
          },
          "execution_count": 17,
          "metadata": {},
          "output_type": "execute_result"
        }
      ],
      "source": [
        "df[\"ceiling_height\"].unique()"
      ]
    },
    {
      "cell_type": "code",
      "execution_count": null,
      "metadata": {
        "id": "8YeUN6DRvYgs"
      },
      "outputs": [],
      "source": [
        "wrong=[25.,14.85,32.,27.,24.,26.,14.,20.,22.6,100.]\n",
        "right=[2.5,1.485,3.2,2.7,2.4,2.6,1.4,2.0,2.26,10.0]\n",
        "df[\"ceiling_height\"] = df[\"ceiling_height\"].replace(wrong, right)\n",
        "\n",
        "df = df[(df[\"ceiling_height\"] >=2.4) & (df[\"ceiling_height\"] <=3.5)]"
      ]
    },
    {
      "cell_type": "code",
      "execution_count": null,
      "metadata": {
        "id": "sQvlD9RuvYgt",
        "outputId": "cceefb02-817e-48b9-973f-8c96fbc75f79"
      },
      "outputs": [
        {
          "data": {
            "text/plain": [
              "array([2.7 , 2.75, 2.55, 2.6 , 3.03, 2.65, 2.66, 2.5 , 2.67, 2.56, 3.  ,\n",
              "       3.05, 2.8 , 2.9 , 3.2 , 2.61, 3.25, 3.45, 2.77, 2.85, 2.64, 2.57,\n",
              "       3.5 , 3.3 , 2.71, 2.47, 2.73, 2.84, 3.1 , 3.4 , 3.06, 2.72, 2.54,\n",
              "       2.51, 2.78, 2.76, 2.58, 2.52, 2.87, 2.59, 2.45, 2.92, 3.11, 3.13,\n",
              "       3.15, 3.16, 3.12, 2.53, 2.74, 2.96, 2.46, 2.79, 2.95, 2.94, 2.83,\n",
              "       2.4 , 3.38, 3.01, 3.18, 3.35, 2.48, 2.62, 2.82, 2.63, 2.88, 3.24,\n",
              "       3.36, 3.08, 3.07, 3.37, 3.09, 3.26, 3.34, 2.81, 3.44, 2.97, 3.14,\n",
              "       2.68, 3.22, 3.27, 2.93, 3.46, 3.47, 3.33, 3.32, 2.98, 2.86, 3.17,\n",
              "       3.28, 3.04, 3.23, 3.02, 3.21, 3.43, 3.39, 2.69, 3.31, 3.42, 2.99,\n",
              "       3.49, 2.91, 3.29, 2.89, 2.49, 3.48])"
            ]
          },
          "execution_count": 19,
          "metadata": {},
          "output_type": "execute_result"
        }
      ],
      "source": [
        "df[\"ceiling_height\"].unique()"
      ]
    },
    {
      "cell_type": "code",
      "execution_count": null,
      "metadata": {
        "id": "bGJ-krKqvYgu",
        "outputId": "5ffe48c5-95ff-4790-91f7-b4155a83a602"
      },
      "outputs": [
        {
          "data": {
            "text/plain": [
              "array([20,  7, 10,  0,  2,  6,  5, 18,  9,  1, 16, 11,  8, 12, 13,  3, 15,\n",
              "       17, 14, 19, 32,  4, 35, 39, 23, 21, 27, 30, 24, 25, 28, 31, 22, 29,\n",
              "       26, 50, 42, 37])"
            ]
          },
          "execution_count": 20,
          "metadata": {},
          "output_type": "execute_result"
        }
      ],
      "source": [
        "df['total_images'].unique()"
      ]
    },
    {
      "cell_type": "code",
      "execution_count": null,
      "metadata": {
        "id": "4kl4fNXzvYgu",
        "outputId": "942f13e9-ea4c-4368-a4cb-57e28583eac7"
      },
      "outputs": [
        {
          "data": {
            "text/plain": [
              "array([ 8,  1,  4,  9, 13,  5,  6, 22, 26,  7,  3,  2, 11, 15, 18, 10, 19,\n",
              "       16, 20, 27, 25, 17, 14, 12, 21, 24, 23, 30, 29, 33, 31])"
            ]
          },
          "execution_count": 21,
          "metadata": {},
          "output_type": "execute_result"
        }
      ],
      "source": [
        "df['floor'].unique()"
      ]
    },
    {
      "cell_type": "code",
      "execution_count": null,
      "metadata": {
        "id": "pyBe4V3gvYgu",
        "outputId": "6586557b-c40a-4d55-c35f-07e2b8b13cc2"
      },
      "outputs": [
        {
          "data": {
            "text/plain": [
              "array([False,  True])"
            ]
          },
          "execution_count": 22,
          "metadata": {},
          "output_type": "execute_result"
        }
      ],
      "source": [
        "df['is_apartment'].unique()"
      ]
    },
    {
      "cell_type": "code",
      "execution_count": null,
      "metadata": {
        "id": "JxUUtErFvYg7",
        "outputId": "33c8c681-99d7-4f50-849e-cc331c17b3d3"
      },
      "outputs": [
        {
          "data": {
            "text/plain": [
              "45.00     417\n",
              "42.00     382\n",
              "31.00     346\n",
              "60.00     343\n",
              "44.00     342\n",
              "         ... \n",
              "146.10      1\n",
              "170.70      1\n",
              "50.94       1\n",
              "136.20      1\n",
              "55.06       1\n",
              "Name: total_area, Length: 1858, dtype: int64"
            ]
          },
          "execution_count": 23,
          "metadata": {},
          "output_type": "execute_result"
        }
      ],
      "source": [
        "df['total_area'].value_counts()\n",
        "df = df[(df[\"total_area\"]>=28)&(df[\"total_area\"]<=200)]\n",
        "df['total_area'].value_counts()"
      ]
    },
    {
      "cell_type": "markdown",
      "metadata": {
        "id": "pLzUavpYvYg8"
      },
      "source": [
        "Минимальная площадь квартиры может составлять 28 кв.м., а максимальную площадь будем считать 200 кв.м."
      ]
    },
    {
      "cell_type": "code",
      "execution_count": null,
      "metadata": {
        "id": "810Dp-DmvYg8",
        "outputId": "33db2a94-1c9e-463d-8e16-922116e4d414"
      },
      "outputs": [
        {
          "data": {
            "text/plain": [
              "array([3, 1, 2, 4, 5, 6, 0])"
            ]
          },
          "execution_count": 24,
          "metadata": {},
          "output_type": "execute_result"
        }
      ],
      "source": [
        "df['rooms'].unique()\n",
        "df = df[df[\"rooms\"]<=6]\n",
        "df['rooms'].unique()"
      ]
    },
    {
      "cell_type": "markdown",
      "metadata": {
        "id": "7n3R8DeuvYg8"
      },
      "source": [
        "Предположительно по данным, полученным из интернета, максимальное количество комнат в квартире-6."
      ]
    },
    {
      "cell_type": "code",
      "execution_count": null,
      "metadata": {
        "id": "PYIJtXotvYg8",
        "outputId": "596c7899-1e1f-4b69-edc7-6b566a7be2c2"
      },
      "outputs": [
        {
          "data": {
            "text/plain": [
              "array([51.  , 18.6 , 34.3 , ..., 29.81, 31.65, 42.55])"
            ]
          },
          "execution_count": 25,
          "metadata": {},
          "output_type": "execute_result"
        }
      ],
      "source": [
        "df['living_area'].unique()"
      ]
    },
    {
      "cell_type": "code",
      "execution_count": null,
      "metadata": {
        "id": "KCeFmNyqvYg9",
        "outputId": "9497898a-77ce-4816-a0bc-f389ef1f5533"
      },
      "outputs": [
        {
          "data": {
            "text/plain": [
              "4500000     340\n",
              "3500000     287\n",
              "4300000     259\n",
              "4200000     255\n",
              "4000000     254\n",
              "           ... \n",
              "16070000      1\n",
              "9476000       1\n",
              "12371278      1\n",
              "5748000       1\n",
              "11615600      1\n",
              "Name: last_price, Length: 2725, dtype: int64"
            ]
          },
          "execution_count": 26,
          "metadata": {},
          "output_type": "execute_result"
        }
      ],
      "source": [
        "df[\"last_price\"].value_counts()\n",
        "df[\"last_price\"].describe()\n",
        "df=df[(df[\"last_price\"]>=1000000)&(df[\"total_area\"]<=30000000)]\n",
        "df[\"last_price\"].value_counts()"
      ]
    },
    {
      "cell_type": "markdown",
      "metadata": {
        "id": "Rc8o2s8nvYg9"
      },
      "source": [
        "Возьмем минимальную стоимость квартиры от 1000000, а максимальную стоимость 30000000."
      ]
    },
    {
      "cell_type": "code",
      "execution_count": null,
      "metadata": {
        "id": "WYFqEObyvYg9",
        "outputId": "1a95bb78-c5b1-4296-d798-d10dfabe4a38"
      },
      "outputs": [
        {
          "name": "stdout",
          "output_type": "stream",
          "text": [
            "94.95983086680762\n"
          ]
        }
      ],
      "source": [
        "a=df.shape[0] / data.shape[0]*100\n",
        "print(a)"
      ]
    },
    {
      "cell_type": "markdown",
      "metadata": {
        "id": "zkjNQXZ5vYg-"
      },
      "source": [
        "В итоге было отброшено около 5% данных, что не превышает 10% от изначального объема данных."
      ]
    },
    {
      "cell_type": "markdown",
      "metadata": {
        "id": "TxlezcJRvYg-"
      },
      "source": [
        "Аномальные значения встречаются только в одном столбце, данные в остальных столбцах приемлемые. В столбце \"ceiling_height\" были данные,которые не могут быть реальными, так как высота потолков не может быть меньше 2.5 м и не больше 3.5 м."
      ]
    },
    {
      "cell_type": "markdown",
      "metadata": {
        "id": "6WaKJmM3vYg_"
      },
      "source": [
        "### Посчитайте и добавьте в таблицу новые столбцы"
      ]
    },
    {
      "cell_type": "code",
      "execution_count": null,
      "metadata": {
        "id": "JcHLPuZPvYg_"
      },
      "outputs": [],
      "source": [
        "df['price_per_square_meter'] = df['last_price'] / df['total_area']\n",
        "\n",
        "df['price_per_square_meter'] = df['price_per_square_meter'].astype('int')\n",
        "\n",
        "df['weekday_exposition'] = df['first_day_exposition'].dt.weekday\n",
        "\n",
        "df['month_exposition'] = df['first_day_exposition'].dt.month\n",
        "\n",
        "df['year_exposition'] = df['first_day_exposition'].dt.year\n",
        "\n",
        "df.loc[df['floor'] == 1, 'floor_category'] = 'первый'\n",
        "df.loc[df['floor'] == df['floors_total'], 'floor_category'] = 'последний'\n",
        "df.loc[df['floor_category'].isna(), 'floor_category'] = 'другой'\n",
        "\n",
        "df['cityCenters_nearest_km'] = df['cityCenters_nearest']/1000\n",
        "df['cityCenters_nearest_km'] = df['cityCenters_nearest_km'].fillna(999999)\n",
        "df['cityCenters_nearest_km'] = df['cityCenters_nearest_km'].astype('int')"
      ]
    },
    {
      "cell_type": "markdown",
      "metadata": {
        "id": "XAMrdUrrvYg_"
      },
      "source": [
        "### Проведите исследовательский анализ данных"
      ]
    },
    {
      "cell_type": "markdown",
      "metadata": {
        "id": "13E85-PivYhA"
      },
      "source": [
        "Целесообразно изучить и описать основные параметры, необходимые при анализе."
      ]
    },
    {
      "cell_type": "code",
      "execution_count": null,
      "metadata": {
        "id": "W9YojciDvYhA",
        "outputId": "ac7aabc4-5866-4dad-a970-ac2e6a83775e"
      },
      "outputs": [
        {
          "data": {
            "text/plain": [
              "count    22458.000000\n",
              "mean        58.405300\n",
              "std         25.792549\n",
              "min         28.000000\n",
              "25%         40.500000\n",
              "50%         52.000000\n",
              "75%         69.000000\n",
              "max        200.000000\n",
              "Name: total_area, dtype: float64"
            ]
          },
          "execution_count": 29,
          "metadata": {},
          "output_type": "execute_result"
        },
        {
          "data": {
            "image/png": "[encoded data removed]",
            "text/plain": [
              "<Figure size 360x216 with 1 Axes>"
            ]
          },
          "metadata": {
            "needs_background": "light"
          },
          "output_type": "display_data"
        }
      ],
      "source": [
        "df.plot(y = 'total_area', kind = 'hist', bins = 100, grid=True, figsize = (5,3), range = (27,210))\n",
        "df['total_area'].describe()\n",
        "#распределение данных нормальное, есть выбросы, но они не сильно влияют на данные, чаще всего встречаются квартиры плащадью от 28 кв.м до 50 кв.м"
      ]
    },
    {
      "cell_type": "code",
      "execution_count": null,
      "metadata": {
        "id": "6_E_nhZbvYhA",
        "outputId": "a2bcd950-900a-4d1e-cda1-334419c36e2a"
      },
      "outputs": [
        {
          "data": {
            "text/plain": [
              "count    2.245800e+04\n",
              "mean     6.041295e+06\n",
              "std      6.130914e+06\n",
              "min      1.000000e+06\n",
              "25%      3.500000e+06\n",
              "50%      4.650000e+06\n",
              "75%      6.700000e+06\n",
              "max      3.300000e+08\n",
              "Name: last_price, dtype: float64"
            ]
          },
          "execution_count": 30,
          "metadata": {},
          "output_type": "execute_result"
        },
        {
          "data": {
            "image/png": "[encoded data removed]",
            "text/plain": [
              "<Figure size 360x216 with 1 Axes>"
            ]
          },
          "metadata": {
            "needs_background": "light"
          },
          "output_type": "display_data"
        }
      ],
      "source": [
        "df.plot(y = 'last_price', kind = 'hist', bins = 100, grid=True, range = (0,15000000), figsize = (5,3))\n",
        "df['last_price'].describe()\n",
        "#с данными все впорядке но значения выводятся в экспоненциальной записи чисел, большинство квартир продается по цене от 0,2*10^7 до 0,6*10^7."
      ]
    },
    {
      "cell_type": "code",
      "execution_count": null,
      "metadata": {
        "id": "vlADqd35vYhC",
        "outputId": "4fa8b200-5759-4520-d8a7-ea9fd5adc827"
      },
      "outputs": [
        {
          "data": {
            "text/plain": [
              "count    22458.000000\n",
              "mean         2.046798\n",
              "std          0.965583\n",
              "min          0.000000\n",
              "25%          1.000000\n",
              "50%          2.000000\n",
              "75%          3.000000\n",
              "max          6.000000\n",
              "Name: rooms, dtype: float64"
            ]
          },
          "execution_count": 31,
          "metadata": {},
          "output_type": "execute_result"
        },
        {
          "data": {
            "image/png": "[encoded data removed]",
            "text/plain": [
              "<Figure size 360x216 with 1 Axes>"
            ]
          },
          "metadata": {
            "needs_background": "light"
          },
          "output_type": "display_data"
        }
      ],
      "source": [
        "df.plot(y = 'rooms', kind = 'hist', bins = 30, grid=True, figsize = (5,3))\n",
        "df['rooms'].describe()\n",
        "#с данными все впорядке,чаще всего встречаются квартиры 1- и 2-комнатные."
      ]
    },
    {
      "cell_type": "code",
      "execution_count": null,
      "metadata": {
        "id": "VMKcBHVMvYhC",
        "outputId": "07f1b798-fdbf-4a43-e728-71d84c77feb2"
      },
      "outputs": [
        {
          "data": {
            "text/plain": [
              "count    22458.000000\n",
              "mean         2.691906\n",
              "std          0.191667\n",
              "min          2.400000\n",
              "25%          2.550000\n",
              "50%          2.650000\n",
              "75%          2.750000\n",
              "max          3.500000\n",
              "Name: ceiling_height, dtype: float64"
            ]
          },
          "execution_count": 32,
          "metadata": {},
          "output_type": "execute_result"
        },
        {
          "data": {
            "image/png": "[encoded data removed]",
            "text/plain": [
              "<Figure size 360x216 with 1 Axes>"
            ]
          },
          "metadata": {
            "needs_background": "light"
          },
          "output_type": "display_data"
        }
      ],
      "source": [
        "df.plot(y = 'ceiling_height', kind = 'hist', bins = 30, range = (2.2,4), grid=True, figsize = (5,3))\n",
        "df['ceiling_height'].describe()\n",
        "#с данными все впорядке, большинство квартир имеет высоту от 2,5 м до 2,75 м."
      ]
    },
    {
      "cell_type": "code",
      "execution_count": null,
      "metadata": {
        "id": "7bkNr4l5vYhD",
        "outputId": "41a704ef-863c-4112-fae2-1bb0d221277d"
      },
      "outputs": [
        {
          "data": {
            "text/plain": [
              "count    20729.000000\n",
              "mean        33.240508\n",
              "std         16.893631\n",
              "min          2.000000\n",
              "25%         18.800000\n",
              "50%         30.000000\n",
              "75%         42.000000\n",
              "max        164.700000\n",
              "Name: living_area, dtype: float64"
            ]
          },
          "execution_count": 33,
          "metadata": {},
          "output_type": "execute_result"
        },
        {
          "data": {
            "image/png": "[encoded data removed]",
            "text/plain": [
              "<Figure size 360x216 with 1 Axes>"
            ]
          },
          "metadata": {
            "needs_background": "light"
          },
          "output_type": "display_data"
        }
      ],
      "source": [
        "df.plot(y = 'living_area', kind = 'hist', bins = 50, range = (10,170), grid=True, figsize = (5,3))\n",
        "df['living_area'].describe()\n",
        "#в основном жилая площадь составляет от 10 кв.м до 50 кв.м"
      ]
    },
    {
      "cell_type": "code",
      "execution_count": null,
      "metadata": {
        "id": "bR95LZYovYhD",
        "outputId": "7f17fc74-6cdf-4fd6-843a-b73c9c3073c2"
      },
      "outputs": [
        {
          "data": {
            "text/plain": [
              "count    20614.000000\n",
              "mean        10.370428\n",
              "std          5.271573\n",
              "min          1.300000\n",
              "25%          7.000000\n",
              "50%          9.070000\n",
              "75%         11.900000\n",
              "max         93.000000\n",
              "Name: kitchen_area, dtype: float64"
            ]
          },
          "execution_count": 34,
          "metadata": {},
          "output_type": "execute_result"
        },
        {
          "data": {
            "image/png": "[encoded data removed]",
            "text/plain": [
              "<Figure size 360x216 with 1 Axes>"
            ]
          },
          "metadata": {
            "needs_background": "light"
          },
          "output_type": "display_data"
        }
      ],
      "source": [
        "df.plot(y = 'kitchen_area', kind = 'hist', bins = 100, range = (2,60), grid=True, figsize = (5,3))\n",
        "df['kitchen_area'].describe()\n",
        "#чаще всего встречаются к вартиры с площадью кухни от 5 кв.м до 15 кв.м"
      ]
    },
    {
      "cell_type": "code",
      "execution_count": null,
      "metadata": {
        "id": "c6Jgr_YAvYhD",
        "outputId": "782193e9-5328-44f7-bd91-589547ed2206"
      },
      "outputs": [
        {
          "data": {
            "text/plain": [
              "count    22458.000000\n",
              "mean         5.903999\n",
              "std          4.860695\n",
              "min          1.000000\n",
              "25%          2.000000\n",
              "50%          4.000000\n",
              "75%          8.000000\n",
              "max         33.000000\n",
              "Name: floor, dtype: float64"
            ]
          },
          "execution_count": 35,
          "metadata": {},
          "output_type": "execute_result"
        },
        {
          "data": {
            "image/png": "[encoded data removed]",
            "text/plain": [
              "<Figure size 360x216 with 1 Axes>"
            ]
          },
          "metadata": {
            "needs_background": "light"
          },
          "output_type": "display_data"
        }
      ],
      "source": [
        "df.plot(y = 'floor', kind = 'hist', bins = 30, range = (1,35), grid=True, figsize = (5,3))\n",
        "df['floor'].describe()\n",
        "#чаще всего квартиры продаются до 5 этажа включительно"
      ]
    },
    {
      "cell_type": "code",
      "execution_count": null,
      "metadata": {
        "id": "9x-TeKw5vYhE",
        "outputId": "3211d9b9-6d31-4e1a-c45b-e70cdb8314bf"
      },
      "outputs": [
        {
          "data": {
            "text/plain": [
              "count      22458\n",
              "unique         3\n",
              "top       другой\n",
              "freq       16635\n",
              "Name: floor_category, dtype: object"
            ]
          },
          "execution_count": 36,
          "metadata": {},
          "output_type": "execute_result"
        },
        {
          "data": {
            "image/png": "[encoded data removed]",
            "text/plain": [
              "<Figure size 432x288 with 1 Axes>"
            ]
          },
          "metadata": {
            "needs_background": "light"
          },
          "output_type": "display_data"
        }
      ],
      "source": [
        "df[\"floor_category\"].hist()\n",
        "df['floor_category'].describe()\n",
        "#в основном продают квартиры не на первом и не на последнем этажах"
      ]
    },
    {
      "cell_type": "code",
      "execution_count": null,
      "metadata": {
        "id": "NRYNhCPBvYhE",
        "outputId": "8fff67c0-e192-4dc1-899b-dee82f9cdce4"
      },
      "outputs": [
        {
          "data": {
            "text/plain": [
              "count    22458.000000\n",
              "mean        10.764894\n",
              "std          6.556487\n",
              "min          1.000000\n",
              "25%          5.000000\n",
              "50%          9.000000\n",
              "75%         16.000000\n",
              "max         60.000000\n",
              "Name: floors_total, dtype: float64"
            ]
          },
          "execution_count": 37,
          "metadata": {},
          "output_type": "execute_result"
        },
        {
          "data": {
            "image/png": "[encoded data removed]",
            "text/plain": [
              "<Figure size 360x216 with 1 Axes>"
            ]
          },
          "metadata": {
            "needs_background": "light"
          },
          "output_type": "display_data"
        }
      ],
      "source": [
        "df.plot(y = 'floors_total', kind = 'hist', bins = 30, range = (2,60), grid=True, figsize = (5,3))\n",
        "df['floors_total'].describe()\n",
        "#чаще всего в домах,где продают квартиры до 20 этажей"
      ]
    },
    {
      "cell_type": "code",
      "execution_count": null,
      "metadata": {
        "id": "AWgyVptTvYhE",
        "outputId": "bfc1d97b-df4e-433b-b700-1e89f5207609"
      },
      "outputs": [
        {
          "data": {
            "text/plain": [
              "count    17381.000000\n",
              "mean     14412.209654\n",
              "std       8563.934968\n",
              "min        181.000000\n",
              "25%       9647.000000\n",
              "50%      13223.000000\n",
              "75%      16383.000000\n",
              "max      65968.000000\n",
              "Name: cityCenters_nearest, dtype: float64"
            ]
          },
          "execution_count": 38,
          "metadata": {},
          "output_type": "execute_result"
        },
        {
          "data": {
            "image/png": "[encoded data removed]",
            "text/plain": [
              "<Figure size 432x288 with 1 Axes>"
            ]
          },
          "metadata": {
            "needs_background": "light"
          },
          "output_type": "display_data"
        }
      ],
      "source": [
        "df['cityCenters_nearest'].hist()\n",
        "df['cityCenters_nearest'].describe()\n",
        "#продающиеся квартиры чаще всего находятся на расстоянии до 20000 м включительно от центра города"
      ]
    },
    {
      "cell_type": "code",
      "execution_count": null,
      "metadata": {
        "id": "tIRZGjvfvYhE",
        "outputId": "3af9de24-6d1f-4a84-fef8-b126a53a2a18"
      },
      "outputs": [
        {
          "data": {
            "text/plain": [
              "count    7627.000000\n",
              "mean      492.478301\n",
              "std       344.326949\n",
              "min         1.000000\n",
              "25%       288.000000\n",
              "50%       455.000000\n",
              "75%       613.000000\n",
              "max      3190.000000\n",
              "Name: parks_nearest, dtype: float64"
            ]
          },
          "execution_count": 39,
          "metadata": {},
          "output_type": "execute_result"
        },
        {
          "data": {
            "image/png": "[encoded data removed]",
            "text/plain": [
              "<Figure size 432x288 with 1 Axes>"
            ]
          },
          "metadata": {
            "needs_background": "light"
          },
          "output_type": "display_data"
        }
      ],
      "source": [
        "df['parks_nearest'].hist()\n",
        "df['parks_nearest'].describe()\n",
        "#ближайшие парки в основном находятся на расстоянии до 1000 м"
      ]
    },
    {
      "cell_type": "code",
      "execution_count": null,
      "metadata": {
        "id": "Hvh33sJ2vYhF",
        "outputId": "e0304335-0557-4640-f518-4028956eac61"
      },
      "outputs": [
        {
          "data": {
            "text/plain": [
              "count    17361.000000\n",
              "mean     28941.570416\n",
              "std      12725.487337\n",
              "min          0.000000\n",
              "25%      18471.000000\n",
              "50%      27089.000000\n",
              "75%      37434.000000\n",
              "max      84869.000000\n",
              "Name: airports_nearest, dtype: float64"
            ]
          },
          "execution_count": 40,
          "metadata": {},
          "output_type": "execute_result"
        },
        {
          "data": {
            "image/png": "[encoded data removed]",
            "text/plain": [
              "<Figure size 432x288 with 1 Axes>"
            ]
          },
          "metadata": {
            "needs_background": "light"
          },
          "output_type": "display_data"
        }
      ],
      "source": [
        "df['airports_nearest'].hist()\n",
        "df['airports_nearest'].describe()\n",
        "#в основном квартиры находятся на расстоянии от 10000 м до 50000 м до ближайшего аэропорта"
      ]
    },
    {
      "cell_type": "code",
      "execution_count": null,
      "metadata": {
        "id": "CIoZyBHavYhF",
        "outputId": "1b8fc2d2-779e-4da6-840b-96aecbfd9bf3"
      },
      "outputs": [
        {
          "data": {
            "text/plain": [
              "count    22458.000000\n",
              "mean         2.565500\n",
              "std          1.789722\n",
              "min          0.000000\n",
              "25%          1.000000\n",
              "50%          3.000000\n",
              "75%          4.000000\n",
              "max          6.000000\n",
              "Name: weekday_exposition, dtype: float64"
            ]
          },
          "execution_count": 41,
          "metadata": {},
          "output_type": "execute_result"
        },
        {
          "data": {
            "image/png": "[encoded data removed]",
            "text/plain": [
              "<Figure size 432x288 with 1 Axes>"
            ]
          },
          "metadata": {
            "needs_background": "light"
          },
          "output_type": "display_data"
        }
      ],
      "source": [
        "df['weekday_exposition'].hist()\n",
        "df['weekday_exposition'].describe()\n",
        "#чаще всего размещают объявления в будние дни"
      ]
    },
    {
      "cell_type": "code",
      "execution_count": null,
      "metadata": {
        "id": "KLFARGkuvYhF",
        "outputId": "9ca4bd8b-4f16-4594-9aec-e32c4cd4a808"
      },
      "outputs": [
        {
          "data": {
            "text/plain": [
              "count    22458.000000\n",
              "mean         6.408184\n",
              "std          3.493537\n",
              "min          1.000000\n",
              "25%          3.000000\n",
              "50%          6.000000\n",
              "75%         10.000000\n",
              "max         12.000000\n",
              "Name: month_exposition, dtype: float64"
            ]
          },
          "execution_count": 42,
          "metadata": {},
          "output_type": "execute_result"
        },
        {
          "data": {
            "image/png": "[encoded data removed]",
            "text/plain": [
              "<Figure size 432x288 with 1 Axes>"
            ]
          },
          "metadata": {
            "needs_background": "light"
          },
          "output_type": "display_data"
        }
      ],
      "source": [
        "df['month_exposition'].hist()\n",
        "df['month_exposition'].describe()\n",
        "#в основном объявления размещают с января по февраль и с ноября по декабрь"
      ]
    },
    {
      "cell_type": "code",
      "execution_count": null,
      "metadata": {
        "id": "XB8HjK7QvYhG",
        "outputId": "e10a69cc-82a2-43a3-9a0b-40894a0bd415"
      },
      "outputs": [
        {
          "data": {
            "text/plain": [
              "count    19478.000000\n",
              "mean       180.260345\n",
              "std        219.052859\n",
              "min          1.000000\n",
              "25%         45.000000\n",
              "50%         95.000000\n",
              "75%        230.000000\n",
              "max       1580.000000\n",
              "Name: days_exposition, dtype: float64"
            ]
          },
          "execution_count": 43,
          "metadata": {},
          "output_type": "execute_result"
        },
        {
          "data": {
            "image/png": "[encoded data removed]",
            "text/plain": [
              "<Figure size 432x288 with 1 Axes>"
            ]
          },
          "metadata": {
            "needs_background": "light"
          },
          "output_type": "display_data"
        },
        {
          "data": {
            "image/png": "[encoded data removed]",
            "text/plain": [
              "<Figure size 432x288 with 1 Axes>"
            ]
          },
          "metadata": {
            "needs_background": "light"
          },
          "output_type": "display_data"
        }
      ],
      "source": [
        "import matplotlib.pyplot as plt\n",
        "\n",
        "df.plot(y = 'days_exposition', kind = 'hist', bins = 30, grid = True, range = (1,1600))\n",
        "df.plot(y = 'days_exposition', kind = 'hist', bins = 100, grid = True, range = (1,200))\n",
        "\n",
        "df[df['days_exposition']!=0]['days_exposition'].describe()"
      ]
    },
    {
      "cell_type": "code",
      "execution_count": null,
      "metadata": {
        "id": "LysRn3F2vYhG",
        "outputId": "1ca5ee6d-0595-4785-e788-7776002a706b"
      },
      "outputs": [
        {
          "data": {
            "text/plain": [
              "45.0    813\n",
              "60.0    529\n",
              "7.0     225\n",
              "30.0    201\n",
              "90.0    184\n",
              "4.0     167\n",
              "3.0     152\n",
              "5.0     144\n",
              "14.0    137\n",
              "20.0    133\n",
              "Name: days_exposition, dtype: int64"
            ]
          },
          "execution_count": 44,
          "metadata": {},
          "output_type": "execute_result"
        }
      ],
      "source": [
        "df['days_exposition'].value_counts().head(10)"
      ]
    },
    {
      "cell_type": "markdown",
      "metadata": {
        "id": "ebQUqZUOvYhH"
      },
      "source": [
        "Среднее значение - 180 дней, а медиана - 95 дней. Сделав гистограмму со значениями от 0 до 200 с кол-вом корзин 100, обнаружили выбивающиеся значения и методом value_counts убедились в этом - у нас аномалии на 45, 60, 7, 30, 90 днях - это наиболее популярное количество дней до снятия объявления. Продажи можно считать быстрыми, если они совершены до 45 дней включительно, а необычно долгими- более 229 дней."
      ]
    },
    {
      "cell_type": "code",
      "execution_count": null,
      "metadata": {
        "id": "5kgDHALzvYhH",
        "outputId": "0676ddae-84ca-4f01-a6fc-128f29e3ea32"
      },
      "outputs": [
        {
          "data": {
            "text/plain": [
              "0.6533595718982143"
            ]
          },
          "execution_count": 45,
          "metadata": {},
          "output_type": "execute_result"
        },
        {
          "data": {
            "image/png": "[encoded data removed]",
            "text/plain": [
              "<Figure size 432x288 with 1 Axes>"
            ]
          },
          "metadata": {
            "needs_background": "light"
          },
          "output_type": "display_data"
        }
      ],
      "source": [
        "pivot_table_total_area = df.pivot_table(index = 'total_area', values = 'last_price', aggfunc = ['mean', 'count', 'median'])\n",
        "pivot_table_total_area.columns = ['mean', 'count', 'median']\n",
        "pivot_table_total_area.plot(y = 'median', style = 'o')\n",
        "\n",
        "pivot_table_total_area.sort_values('median', ascending = False)\n",
        "\n",
        "df['total_area'].corr(df['last_price'])"
      ]
    },
    {
      "cell_type": "markdown",
      "metadata": {
        "id": "cQJ-kJd0vYhI"
      },
      "source": [
        "С увеличением площади увеличивается цена за квартиру( не во всех случаях, но в большинстве)."
      ]
    },
    {
      "cell_type": "code",
      "execution_count": null,
      "metadata": {
        "id": "Rpntds_gvYhI",
        "outputId": "2a639eb1-ecdc-48f7-f33f-13ec65f2c3d3"
      },
      "outputs": [
        {
          "data": {
            "text/plain": [
              "0.5304866351904928"
            ]
          },
          "execution_count": 46,
          "metadata": {},
          "output_type": "execute_result"
        },
        {
          "data": {
            "image/png": "[encoded data removed]",
            "text/plain": [
              "<Figure size 432x288 with 1 Axes>"
            ]
          },
          "metadata": {
            "needs_background": "light"
          },
          "output_type": "display_data"
        }
      ],
      "source": [
        "pivot_table_total_area = df.pivot_table(index = 'living_area', values = 'last_price', aggfunc = ['mean', 'count', 'median'])\n",
        "pivot_table_total_area.columns = ['mean', 'count', 'median']\n",
        "pivot_table_total_area.plot(y = 'median', style = 'o')\n",
        "\n",
        "pivot_table_total_area.sort_values('median', ascending = False)\n",
        "\n",
        "df['living_area'].corr(df['last_price'])"
      ]
    },
    {
      "cell_type": "markdown",
      "metadata": {
        "id": "TTxao9ilvYhI"
      },
      "source": [
        "Наблюдается слабая зависимость(по коэффициенту корреляции Пирсона), которая значит, что с увеличением жилой площади увеличивается и цена на квартиру."
      ]
    },
    {
      "cell_type": "code",
      "execution_count": null,
      "metadata": {
        "id": "gUsj0DSevYhI",
        "outputId": "e82d61b5-1ae4-4b13-d246-e12ed69d4791"
      },
      "outputs": [
        {
          "data": {
            "text/plain": [
              "0.5147327039827365"
            ]
          },
          "execution_count": 47,
          "metadata": {},
          "output_type": "execute_result"
        },
        {
          "data": {
            "image/png": "[encoded data removed]",
            "text/plain": [
              "<Figure size 432x288 with 1 Axes>"
            ]
          },
          "metadata": {
            "needs_background": "light"
          },
          "output_type": "display_data"
        }
      ],
      "source": [
        "pivot_table_total_area = df.pivot_table(index = 'kitchen_area', values = 'last_price', aggfunc = ['mean', 'count', 'median'])\n",
        "pivot_table_total_area.columns = ['mean', 'count', 'median']\n",
        "pivot_table_total_area.plot(y = 'median', style = 'o')\n",
        "\n",
        "pivot_table_total_area.sort_values('median', ascending = False)\n",
        "\n",
        "df['kitchen_area'].corr(df['last_price'])"
      ]
    },
    {
      "cell_type": "markdown",
      "metadata": {
        "id": "PO0aFzogvYhJ"
      },
      "source": [
        "Чем больше площадь кухни, тем немного больше стоимость,но эта зависимость ярко не выражена."
      ]
    },
    {
      "cell_type": "code",
      "execution_count": null,
      "metadata": {
        "id": "WHtqXLwGvYhJ",
        "outputId": "2bdec0b2-9fef-45ad-96bb-c5d449078259"
      },
      "outputs": [
        {
          "data": {
            "text/plain": [
              "0.3667834522464322"
            ]
          },
          "execution_count": 48,
          "metadata": {},
          "output_type": "execute_result"
        },
        {
          "data": {
            "image/png": "[encoded data removed]",
            "text/plain": [
              "<Figure size 432x288 with 1 Axes>"
            ]
          },
          "metadata": {
            "needs_background": "light"
          },
          "output_type": "display_data"
        }
      ],
      "source": [
        "pivot_table_rooms = df.pivot_table(index = 'rooms', values = 'last_price', aggfunc = ['mean', 'count', 'median'])\n",
        "pivot_table_rooms.columns = ['mean', 'count', 'median']\n",
        "pivot_table_rooms.query('count > 50').plot(y = 'median')\n",
        "\n",
        "pivot_table_rooms.query('count > 50').sort_values('median', ascending = False)\n",
        "\n",
        "df['rooms'].corr(df['last_price'])"
      ]
    },
    {
      "cell_type": "markdown",
      "metadata": {
        "id": "WM6HgDlovYhJ"
      },
      "source": [
        "С увеличением числа комнат цена на квартиру увеличивается."
      ]
    },
    {
      "cell_type": "code",
      "execution_count": null,
      "metadata": {
        "id": "zkHC3wnbvYhK",
        "outputId": "ee09f004-5114-480b-952f-2b5e8d3812ab"
      },
      "outputs": [
        {
          "data": {
            "text/html": [
              "<div>\n",
              "<style scoped>\n",
              "    .dataframe tbody tr th:only-of-type {\n",
              "        vertical-align: middle;\n",
              "    }\n",
              "\n",
              "    .dataframe tbody tr th {\n",
              "        vertical-align: top;\n",
              "    }\n",
              "\n",
              "    .dataframe thead th {\n",
              "        text-align: right;\n",
              "    }\n",
              "</style>\n",
              "<table border=\"1\" class=\"dataframe\">\n",
              "  <thead>\n",
              "    <tr style=\"text-align: right;\">\n",
              "      <th></th>\n",
              "      <th>mean</th>\n",
              "      <th>count</th>\n",
              "      <th>median</th>\n",
              "    </tr>\n",
              "    <tr>\n",
              "      <th>floor_category</th>\n",
              "      <th></th>\n",
              "      <th></th>\n",
              "      <th></th>\n",
              "    </tr>\n",
              "  </thead>\n",
              "  <tbody>\n",
              "    <tr>\n",
              "      <th>другой</th>\n",
              "      <td>6.300382e+06</td>\n",
              "      <td>16635</td>\n",
              "      <td>4850000</td>\n",
              "    </tr>\n",
              "    <tr>\n",
              "      <th>первый</th>\n",
              "      <td>4.724664e+06</td>\n",
              "      <td>2717</td>\n",
              "      <td>3990000</td>\n",
              "    </tr>\n",
              "    <tr>\n",
              "      <th>последний</th>\n",
              "      <td>5.805417e+06</td>\n",
              "      <td>3106</td>\n",
              "      <td>4300000</td>\n",
              "    </tr>\n",
              "  </tbody>\n",
              "</table>\n",
              "</div>"
            ],
            "text/plain": [
              "                        mean  count   median\n",
              "floor_category                              \n",
              "другой          6.300382e+06  16635  4850000\n",
              "первый          4.724664e+06   2717  3990000\n",
              "последний       5.805417e+06   3106  4300000"
            ]
          },
          "execution_count": 49,
          "metadata": {},
          "output_type": "execute_result"
        },
        {
          "data": {
            "image/png": "[encoded data removed]",
            "text/plain": [
              "<Figure size 432x288 with 1 Axes>"
            ]
          },
          "metadata": {
            "needs_background": "light"
          },
          "output_type": "display_data"
        }
      ],
      "source": [
        "pivot_table_floor_category = df.pivot_table(index = 'floor_category', values = 'last_price', aggfunc = ['mean', 'count', 'median'])\n",
        "pivot_table_floor_category.columns = ['mean', 'count', 'median']\n",
        "pivot_table_floor_category.plot(y = 'median')\n",
        "pivot_table_floor_category"
      ]
    },
    {
      "cell_type": "markdown",
      "metadata": {
        "id": "aXK-LSu0vYhK"
      },
      "source": [
        "Самая низкая стоимость у квартир на первом этаже, а самая высокая стоимость у квартир не на 1 и не на последнем этажах, цена для последних этажей находится между ценой за квартиру на 1 этаже и на других,кроме последнего."
      ]
    },
    {
      "cell_type": "code",
      "execution_count": null,
      "metadata": {
        "id": "g7LH445HvYhL",
        "outputId": "b980a294-52ba-44bd-dfd1-cdf56a15e3e2"
      },
      "outputs": [
        {
          "data": {
            "text/html": [
              "<div>\n",
              "<style scoped>\n",
              "    .dataframe tbody tr th:only-of-type {\n",
              "        vertical-align: middle;\n",
              "    }\n",
              "\n",
              "    .dataframe tbody tr th {\n",
              "        vertical-align: top;\n",
              "    }\n",
              "\n",
              "    .dataframe thead th {\n",
              "        text-align: right;\n",
              "    }\n",
              "</style>\n",
              "<table border=\"1\" class=\"dataframe\">\n",
              "  <thead>\n",
              "    <tr style=\"text-align: right;\">\n",
              "      <th></th>\n",
              "      <th>mean</th>\n",
              "      <th>count</th>\n",
              "      <th>median</th>\n",
              "    </tr>\n",
              "    <tr>\n",
              "      <th>weekday_exposition</th>\n",
              "      <th></th>\n",
              "      <th></th>\n",
              "      <th></th>\n",
              "    </tr>\n",
              "  </thead>\n",
              "  <tbody>\n",
              "    <tr>\n",
              "      <th>1</th>\n",
              "      <td>6.125617e+06</td>\n",
              "      <td>3989</td>\n",
              "      <td>4775000</td>\n",
              "    </tr>\n",
              "    <tr>\n",
              "      <th>2</th>\n",
              "      <td>6.070755e+06</td>\n",
              "      <td>3752</td>\n",
              "      <td>4700000</td>\n",
              "    </tr>\n",
              "    <tr>\n",
              "      <th>0</th>\n",
              "      <td>6.033609e+06</td>\n",
              "      <td>3433</td>\n",
              "      <td>4650000</td>\n",
              "    </tr>\n",
              "    <tr>\n",
              "      <th>3</th>\n",
              "      <td>6.230772e+06</td>\n",
              "      <td>4054</td>\n",
              "      <td>4650000</td>\n",
              "    </tr>\n",
              "    <tr>\n",
              "      <th>4</th>\n",
              "      <td>5.869609e+06</td>\n",
              "      <td>3796</td>\n",
              "      <td>4600000</td>\n",
              "    </tr>\n",
              "    <tr>\n",
              "      <th>5</th>\n",
              "      <td>5.990397e+06</td>\n",
              "      <td>1827</td>\n",
              "      <td>4600000</td>\n",
              "    </tr>\n",
              "    <tr>\n",
              "      <th>6</th>\n",
              "      <td>5.765039e+06</td>\n",
              "      <td>1607</td>\n",
              "      <td>4550000</td>\n",
              "    </tr>\n",
              "  </tbody>\n",
              "</table>\n",
              "</div>"
            ],
            "text/plain": [
              "                            mean  count   median\n",
              "weekday_exposition                              \n",
              "1                   6.125617e+06   3989  4775000\n",
              "2                   6.070755e+06   3752  4700000\n",
              "0                   6.033609e+06   3433  4650000\n",
              "3                   6.230772e+06   4054  4650000\n",
              "4                   5.869609e+06   3796  4600000\n",
              "5                   5.990397e+06   1827  4600000\n",
              "6                   5.765039e+06   1607  4550000"
            ]
          },
          "execution_count": 50,
          "metadata": {},
          "output_type": "execute_result"
        },
        {
          "data": {
            "image/png": "[encoded data removed]",
            "text/plain": [
              "<Figure size 432x288 with 1 Axes>"
            ]
          },
          "metadata": {
            "needs_background": "light"
          },
          "output_type": "display_data"
        }
      ],
      "source": [
        "pivot_table_weekday_exposition = df.pivot_table(index = 'weekday_exposition', values = 'last_price', aggfunc = ['mean', 'count', 'median'])\n",
        "pivot_table_weekday_exposition.columns = ['mean', 'count', 'median']\n",
        "pivot_table_weekday_exposition.plot(y = 'median')\n",
        "\n",
        "pivot_table_weekday_exposition.sort_values('median', ascending = False)"
      ]
    },
    {
      "cell_type": "markdown",
      "metadata": {
        "id": "e73civi1vYhL"
      },
      "source": [
        "Самая высокая цена на квартиры наблюдается у объявлений, выставленным во вторник, а самая низкая стоимость у объявлений, выставленным в воскресенье."
      ]
    },
    {
      "cell_type": "code",
      "execution_count": null,
      "metadata": {
        "id": "nByGvutdvYhL",
        "outputId": "fd8abcbb-f2b2-4410-836d-fef1a3b1cd36"
      },
      "outputs": [
        {
          "data": {
            "text/html": [
              "<div>\n",
              "<style scoped>\n",
              "    .dataframe tbody tr th:only-of-type {\n",
              "        vertical-align: middle;\n",
              "    }\n",
              "\n",
              "    .dataframe tbody tr th {\n",
              "        vertical-align: top;\n",
              "    }\n",
              "\n",
              "    .dataframe thead th {\n",
              "        text-align: right;\n",
              "    }\n",
              "</style>\n",
              "<table border=\"1\" class=\"dataframe\">\n",
              "  <thead>\n",
              "    <tr style=\"text-align: right;\">\n",
              "      <th></th>\n",
              "      <th>mean</th>\n",
              "      <th>count</th>\n",
              "      <th>median</th>\n",
              "    </tr>\n",
              "    <tr>\n",
              "      <th>month_exposition</th>\n",
              "      <th></th>\n",
              "      <th></th>\n",
              "      <th></th>\n",
              "    </tr>\n",
              "  </thead>\n",
              "  <tbody>\n",
              "    <tr>\n",
              "      <th>4</th>\n",
              "      <td>6.146233e+06</td>\n",
              "      <td>2248</td>\n",
              "      <td>4800000</td>\n",
              "    </tr>\n",
              "    <tr>\n",
              "      <th>9</th>\n",
              "      <td>6.128737e+06</td>\n",
              "      <td>1880</td>\n",
              "      <td>4700000</td>\n",
              "    </tr>\n",
              "    <tr>\n",
              "      <th>11</th>\n",
              "      <td>6.113649e+06</td>\n",
              "      <td>2252</td>\n",
              "      <td>4700000</td>\n",
              "    </tr>\n",
              "    <tr>\n",
              "      <th>12</th>\n",
              "      <td>6.169614e+06</td>\n",
              "      <td>1560</td>\n",
              "      <td>4700000</td>\n",
              "    </tr>\n",
              "    <tr>\n",
              "      <th>3</th>\n",
              "      <td>5.937518e+06</td>\n",
              "      <td>2445</td>\n",
              "      <td>4690000</td>\n",
              "    </tr>\n",
              "    <tr>\n",
              "      <th>2</th>\n",
              "      <td>6.136238e+06</td>\n",
              "      <td>2520</td>\n",
              "      <td>4667500</td>\n",
              "    </tr>\n",
              "    <tr>\n",
              "      <th>7</th>\n",
              "      <td>5.966859e+06</td>\n",
              "      <td>1582</td>\n",
              "      <td>4650000</td>\n",
              "    </tr>\n",
              "    <tr>\n",
              "      <th>1</th>\n",
              "      <td>6.048634e+06</td>\n",
              "      <td>1406</td>\n",
              "      <td>4600000</td>\n",
              "    </tr>\n",
              "    <tr>\n",
              "      <th>8</th>\n",
              "      <td>6.104683e+06</td>\n",
              "      <td>1667</td>\n",
              "      <td>4600000</td>\n",
              "    </tr>\n",
              "    <tr>\n",
              "      <th>10</th>\n",
              "      <td>5.864429e+06</td>\n",
              "      <td>2033</td>\n",
              "      <td>4575000</td>\n",
              "    </tr>\n",
              "    <tr>\n",
              "      <th>5</th>\n",
              "      <td>6.006436e+06</td>\n",
              "      <td>1200</td>\n",
              "      <td>4550000</td>\n",
              "    </tr>\n",
              "    <tr>\n",
              "      <th>6</th>\n",
              "      <td>5.833628e+06</td>\n",
              "      <td>1665</td>\n",
              "      <td>4400000</td>\n",
              "    </tr>\n",
              "  </tbody>\n",
              "</table>\n",
              "</div>"
            ],
            "text/plain": [
              "                          mean  count   median\n",
              "month_exposition                              \n",
              "4                 6.146233e+06   2248  4800000\n",
              "9                 6.128737e+06   1880  4700000\n",
              "11                6.113649e+06   2252  4700000\n",
              "12                6.169614e+06   1560  4700000\n",
              "3                 5.937518e+06   2445  4690000\n",
              "2                 6.136238e+06   2520  4667500\n",
              "7                 5.966859e+06   1582  4650000\n",
              "1                 6.048634e+06   1406  4600000\n",
              "8                 6.104683e+06   1667  4600000\n",
              "10                5.864429e+06   2033  4575000\n",
              "5                 6.006436e+06   1200  4550000\n",
              "6                 5.833628e+06   1665  4400000"
            ]
          },
          "execution_count": 51,
          "metadata": {},
          "output_type": "execute_result"
        },
        {
          "data": {
            "image/png": "[encoded data removed]",
            "text/plain": [
              "<Figure size 432x288 with 1 Axes>"
            ]
          },
          "metadata": {
            "needs_background": "light"
          },
          "output_type": "display_data"
        }
      ],
      "source": [
        "pivot_table_month_exposition = df.pivot_table(index = 'month_exposition', values = 'last_price', aggfunc = ['mean', 'count', 'median'])\n",
        "pivot_table_month_exposition.columns = ['mean', 'count', 'median']\n",
        "pivot_table_month_exposition.plot(y = 'median')\n",
        "\n",
        "pivot_table_month_exposition.sort_values('median', ascending = False)"
      ]
    },
    {
      "cell_type": "markdown",
      "metadata": {
        "id": "jElHMx8ZvYhM"
      },
      "source": [
        "Самая высокая стоимость на квартиры в апреле и сентябре! Самая низкая стоимость в мае и июне! Мы видим изменение цены в зависимости от сезона, следовательно, на рынке недвижимости сезонность играет важную роль."
      ]
    },
    {
      "cell_type": "code",
      "execution_count": null,
      "metadata": {
        "id": "4u-utWLvvYhM",
        "outputId": "4e7c4a36-bc40-4628-dc60-25075f342221"
      },
      "outputs": [
        {
          "data": {
            "text/html": [
              "<div>\n",
              "<style scoped>\n",
              "    .dataframe tbody tr th:only-of-type {\n",
              "        vertical-align: middle;\n",
              "    }\n",
              "\n",
              "    .dataframe tbody tr th {\n",
              "        vertical-align: top;\n",
              "    }\n",
              "\n",
              "    .dataframe thead th {\n",
              "        text-align: right;\n",
              "    }\n",
              "</style>\n",
              "<table border=\"1\" class=\"dataframe\">\n",
              "  <thead>\n",
              "    <tr style=\"text-align: right;\">\n",
              "      <th></th>\n",
              "      <th>mean</th>\n",
              "      <th>count</th>\n",
              "      <th>median</th>\n",
              "    </tr>\n",
              "    <tr>\n",
              "      <th>year_exposition</th>\n",
              "      <th></th>\n",
              "      <th></th>\n",
              "      <th></th>\n",
              "    </tr>\n",
              "  </thead>\n",
              "  <tbody>\n",
              "    <tr>\n",
              "      <th>2014</th>\n",
              "      <td>1.090976e+07</td>\n",
              "      <td>133</td>\n",
              "      <td>7500000</td>\n",
              "    </tr>\n",
              "    <tr>\n",
              "      <th>2015</th>\n",
              "      <td>7.291337e+06</td>\n",
              "      <td>1104</td>\n",
              "      <td>5215000</td>\n",
              "    </tr>\n",
              "    <tr>\n",
              "      <th>2019</th>\n",
              "      <td>6.494790e+06</td>\n",
              "      <td>2739</td>\n",
              "      <td>5100000</td>\n",
              "    </tr>\n",
              "    <tr>\n",
              "      <th>2018</th>\n",
              "      <td>5.752343e+06</td>\n",
              "      <td>8080</td>\n",
              "      <td>4600000</td>\n",
              "    </tr>\n",
              "    <tr>\n",
              "      <th>2016</th>\n",
              "      <td>6.154126e+06</td>\n",
              "      <td>2603</td>\n",
              "      <td>4550000</td>\n",
              "    </tr>\n",
              "    <tr>\n",
              "      <th>2017</th>\n",
              "      <td>5.883756e+06</td>\n",
              "      <td>7799</td>\n",
              "      <td>4500000</td>\n",
              "    </tr>\n",
              "  </tbody>\n",
              "</table>\n",
              "</div>"
            ],
            "text/plain": [
              "                         mean  count   median\n",
              "year_exposition                              \n",
              "2014             1.090976e+07    133  7500000\n",
              "2015             7.291337e+06   1104  5215000\n",
              "2019             6.494790e+06   2739  5100000\n",
              "2018             5.752343e+06   8080  4600000\n",
              "2016             6.154126e+06   2603  4550000\n",
              "2017             5.883756e+06   7799  4500000"
            ]
          },
          "execution_count": 52,
          "metadata": {},
          "output_type": "execute_result"
        },
        {
          "data": {
            "image/png": "[encoded data removed]",
            "text/plain": [
              "<Figure size 432x288 with 1 Axes>"
            ]
          },
          "metadata": {
            "needs_background": "light"
          },
          "output_type": "display_data"
        }
      ],
      "source": [
        "pivot_table_year_exposition = df.pivot_table(index = 'year_exposition', values = 'last_price', aggfunc = ['mean', 'count', 'median'])\n",
        "pivot_table_year_exposition.columns = ['mean', 'count', 'median']\n",
        "pivot_table_year_exposition.plot(y = 'median')\n",
        "\n",
        "pivot_table_year_exposition.sort_values('median', ascending = False)"
      ]
    },
    {
      "cell_type": "markdown",
      "metadata": {
        "id": "tgtd1XYKvYhM"
      },
      "source": [
        "Из данных видно, что с 2014 по 2016 цена на квартиры падала, а затем начала снова расти."
      ]
    },
    {
      "cell_type": "code",
      "execution_count": null,
      "metadata": {
        "id": "vA5jfInZvYhN",
        "outputId": "349f8a1b-e32d-4609-d3f6-a644bc4be534"
      },
      "outputs": [
        {
          "data": {
            "text/html": [
              "<div>\n",
              "<style scoped>\n",
              "    .dataframe tbody tr th:only-of-type {\n",
              "        vertical-align: middle;\n",
              "    }\n",
              "\n",
              "    .dataframe tbody tr th {\n",
              "        vertical-align: top;\n",
              "    }\n",
              "\n",
              "    .dataframe thead th {\n",
              "        text-align: right;\n",
              "    }\n",
              "</style>\n",
              "<table border=\"1\" class=\"dataframe\">\n",
              "  <thead>\n",
              "    <tr style=\"text-align: right;\">\n",
              "      <th></th>\n",
              "      <th>count</th>\n",
              "      <th>mean</th>\n",
              "    </tr>\n",
              "    <tr>\n",
              "      <th>locality_name</th>\n",
              "      <th></th>\n",
              "      <th></th>\n",
              "    </tr>\n",
              "  </thead>\n",
              "  <tbody>\n",
              "    <tr>\n",
              "      <th>санкт-петербург</th>\n",
              "      <td>15005</td>\n",
              "      <td>112894.140487</td>\n",
              "    </tr>\n",
              "    <tr>\n",
              "      <th>поселок мурино</th>\n",
              "      <td>489</td>\n",
              "      <td>84249.280164</td>\n",
              "    </tr>\n",
              "    <tr>\n",
              "      <th>поселок шушары</th>\n",
              "      <td>430</td>\n",
              "      <td>78023.309302</td>\n",
              "    </tr>\n",
              "    <tr>\n",
              "      <th>всеволожск</th>\n",
              "      <td>387</td>\n",
              "      <td>68636.408269</td>\n",
              "    </tr>\n",
              "    <tr>\n",
              "      <th>пушкин</th>\n",
              "      <td>358</td>\n",
              "      <td>102546.893855</td>\n",
              "    </tr>\n",
              "    <tr>\n",
              "      <th>колпино</th>\n",
              "      <td>335</td>\n",
              "      <td>75236.632836</td>\n",
              "    </tr>\n",
              "    <tr>\n",
              "      <th>поселок парголово</th>\n",
              "      <td>324</td>\n",
              "      <td>90457.919753</td>\n",
              "    </tr>\n",
              "    <tr>\n",
              "      <th>гатчина</th>\n",
              "      <td>304</td>\n",
              "      <td>69028.710526</td>\n",
              "    </tr>\n",
              "    <tr>\n",
              "      <th>деревня кудрово</th>\n",
              "      <td>270</td>\n",
              "      <td>91751.400000</td>\n",
              "    </tr>\n",
              "    <tr>\n",
              "      <th>выборг</th>\n",
              "      <td>220</td>\n",
              "      <td>58369.440909</td>\n",
              "    </tr>\n",
              "  </tbody>\n",
              "</table>\n",
              "</div>"
            ],
            "text/plain": [
              "                   count           mean\n",
              "locality_name                          \n",
              "санкт-петербург    15005  112894.140487\n",
              "поселок мурино       489   84249.280164\n",
              "поселок шушары       430   78023.309302\n",
              "всеволожск           387   68636.408269\n",
              "пушкин               358  102546.893855\n",
              "колпино              335   75236.632836\n",
              "поселок парголово    324   90457.919753\n",
              "гатчина              304   69028.710526\n",
              "деревня кудрово      270   91751.400000\n",
              "выборг               220   58369.440909"
            ]
          },
          "execution_count": 53,
          "metadata": {},
          "output_type": "execute_result"
        }
      ],
      "source": [
        "locality_name_sorted_pivot_table = (df.pivot_table(index = 'locality_name',values = [\"price_per_square_meter\"],aggfunc = [\"count\",\"mean\"]))\n",
        "locality_name_sorted_pivot_table.columns = [\"count\",\"mean\"]\n",
        "locality_name_sorted_pivot_table.sort_values(by = \"count\",inplace = True,ascending = False)\n",
        "locality_name_sorted_pivot_table = locality_name_sorted_pivot_table[:10]\n",
        "locality_name_sorted_pivot_table"
      ]
    },
    {
      "cell_type": "markdown",
      "metadata": {
        "id": "-YTrThYJvYhN"
      },
      "source": [
        "По полученной таблице видно, что самая высокая цена в Санкт-Петербург, а самая низкая в Выборге для 10 населённых пунктов с наибольшим числом объявлений."
      ]
    },
    {
      "cell_type": "code",
      "execution_count": null,
      "metadata": {
        "id": "pRKpCjhkvYhN",
        "outputId": "c39f0984-84a5-4ec1-bd6f-7a702a11f6f7"
      },
      "outputs": [
        {
          "data": {
            "text/html": [
              "<div>\n",
              "<style scoped>\n",
              "    .dataframe tbody tr th:only-of-type {\n",
              "        vertical-align: middle;\n",
              "    }\n",
              "\n",
              "    .dataframe tbody tr th {\n",
              "        vertical-align: top;\n",
              "    }\n",
              "\n",
              "    .dataframe thead th {\n",
              "        text-align: right;\n",
              "    }\n",
              "</style>\n",
              "<table border=\"1\" class=\"dataframe\">\n",
              "  <thead>\n",
              "    <tr style=\"text-align: right;\">\n",
              "      <th></th>\n",
              "      <th>last_price</th>\n",
              "      <th>km</th>\n",
              "    </tr>\n",
              "  </thead>\n",
              "  <tbody>\n",
              "    <tr>\n",
              "      <th>0</th>\n",
              "      <td>16390755</td>\n",
              "      <td>0</td>\n",
              "    </tr>\n",
              "    <tr>\n",
              "      <th>1</th>\n",
              "      <td>15470632</td>\n",
              "      <td>1</td>\n",
              "    </tr>\n",
              "    <tr>\n",
              "      <th>2</th>\n",
              "      <td>11919628</td>\n",
              "      <td>2</td>\n",
              "    </tr>\n",
              "    <tr>\n",
              "      <th>3</th>\n",
              "      <td>10427858</td>\n",
              "      <td>3</td>\n",
              "    </tr>\n",
              "    <tr>\n",
              "      <th>4</th>\n",
              "      <td>11651519</td>\n",
              "      <td>4</td>\n",
              "    </tr>\n",
              "    <tr>\n",
              "      <th>5</th>\n",
              "      <td>12016130</td>\n",
              "      <td>5</td>\n",
              "    </tr>\n",
              "    <tr>\n",
              "      <th>6</th>\n",
              "      <td>12557418</td>\n",
              "      <td>6</td>\n",
              "    </tr>\n",
              "    <tr>\n",
              "      <th>7</th>\n",
              "      <td>10691553</td>\n",
              "      <td>7</td>\n",
              "    </tr>\n",
              "    <tr>\n",
              "      <th>8</th>\n",
              "      <td>8325725</td>\n",
              "      <td>8</td>\n",
              "    </tr>\n",
              "    <tr>\n",
              "      <th>9</th>\n",
              "      <td>6407372</td>\n",
              "      <td>9</td>\n",
              "    </tr>\n",
              "    <tr>\n",
              "      <th>10</th>\n",
              "      <td>6317696</td>\n",
              "      <td>10</td>\n",
              "    </tr>\n",
              "    <tr>\n",
              "      <th>11</th>\n",
              "      <td>5909904</td>\n",
              "      <td>11</td>\n",
              "    </tr>\n",
              "    <tr>\n",
              "      <th>12</th>\n",
              "      <td>5990235</td>\n",
              "      <td>12</td>\n",
              "    </tr>\n",
              "    <tr>\n",
              "      <th>13</th>\n",
              "      <td>5995077</td>\n",
              "      <td>13</td>\n",
              "    </tr>\n",
              "    <tr>\n",
              "      <th>14</th>\n",
              "      <td>5773705</td>\n",
              "      <td>14</td>\n",
              "    </tr>\n",
              "    <tr>\n",
              "      <th>15</th>\n",
              "      <td>5501231</td>\n",
              "      <td>15</td>\n",
              "    </tr>\n",
              "    <tr>\n",
              "      <th>16</th>\n",
              "      <td>5473868</td>\n",
              "      <td>16</td>\n",
              "    </tr>\n",
              "    <tr>\n",
              "      <th>17</th>\n",
              "      <td>4906788</td>\n",
              "      <td>17</td>\n",
              "    </tr>\n",
              "    <tr>\n",
              "      <th>18</th>\n",
              "      <td>5030074</td>\n",
              "      <td>18</td>\n",
              "    </tr>\n",
              "    <tr>\n",
              "      <th>19</th>\n",
              "      <td>4732599</td>\n",
              "      <td>19</td>\n",
              "    </tr>\n",
              "    <tr>\n",
              "      <th>20</th>\n",
              "      <td>6426615</td>\n",
              "      <td>20</td>\n",
              "    </tr>\n",
              "    <tr>\n",
              "      <th>21</th>\n",
              "      <td>5183239</td>\n",
              "      <td>21</td>\n",
              "    </tr>\n",
              "    <tr>\n",
              "      <th>22</th>\n",
              "      <td>5276083</td>\n",
              "      <td>22</td>\n",
              "    </tr>\n",
              "    <tr>\n",
              "      <th>23</th>\n",
              "      <td>4126866</td>\n",
              "      <td>23</td>\n",
              "    </tr>\n",
              "    <tr>\n",
              "      <th>24</th>\n",
              "      <td>3862235</td>\n",
              "      <td>24</td>\n",
              "    </tr>\n",
              "    <tr>\n",
              "      <th>25</th>\n",
              "      <td>4129642</td>\n",
              "      <td>25</td>\n",
              "    </tr>\n",
              "    <tr>\n",
              "      <th>26</th>\n",
              "      <td>3575000</td>\n",
              "      <td>26</td>\n",
              "    </tr>\n",
              "    <tr>\n",
              "      <th>27</th>\n",
              "      <td>8300000</td>\n",
              "      <td>27</td>\n",
              "    </tr>\n",
              "    <tr>\n",
              "      <th>28</th>\n",
              "      <td>4910500</td>\n",
              "      <td>28</td>\n",
              "    </tr>\n",
              "    <tr>\n",
              "      <th>29</th>\n",
              "      <td>3325000</td>\n",
              "      <td>29</td>\n",
              "    </tr>\n",
              "    <tr>\n",
              "      <th>30</th>\n",
              "      <td>13792219</td>\n",
              "      <td>999999</td>\n",
              "    </tr>\n",
              "  </tbody>\n",
              "</table>\n",
              "</div>"
            ],
            "text/plain": [
              "    last_price      km\n",
              "0     16390755       0\n",
              "1     15470632       1\n",
              "2     11919628       2\n",
              "3     10427858       3\n",
              "4     11651519       4\n",
              "5     12016130       5\n",
              "6     12557418       6\n",
              "7     10691553       7\n",
              "8      8325725       8\n",
              "9      6407372       9\n",
              "10     6317696      10\n",
              "11     5909904      11\n",
              "12     5990235      12\n",
              "13     5995077      13\n",
              "14     5773705      14\n",
              "15     5501231      15\n",
              "16     5473868      16\n",
              "17     4906788      17\n",
              "18     5030074      18\n",
              "19     4732599      19\n",
              "20     6426615      20\n",
              "21     5183239      21\n",
              "22     5276083      22\n",
              "23     4126866      23\n",
              "24     3862235      24\n",
              "25     4129642      25\n",
              "26     3575000      26\n",
              "27     8300000      27\n",
              "28     4910500      28\n",
              "29     3325000      29\n",
              "30    13792219  999999"
            ]
          },
          "execution_count": 54,
          "metadata": {},
          "output_type": "execute_result"
        },
        {
          "data": {
            "image/png": "[encoded data removed]",
            "text/plain": [
              "<Figure size 1080x360 with 1 Axes>"
            ]
          },
          "metadata": {
            "needs_background": "light"
          },
          "output_type": "display_data"
        }
      ],
      "source": [
        "only_St_Petersburg = df.query('locality_name== \"санкт-петербург\"')\n",
        "cityCenters_nearest_km_pivot_table = only_St_Petersburg.pivot_table(index ='cityCenters_nearest_km',\n",
        "                                                        values = 'last_price',aggfunc = 'mean')\n",
        "cityCenters_nearest_km_pivot_table = cityCenters_nearest_km_pivot_table.astype('int')\n",
        "cityCenters_nearest_km_pivot_table['km'] = cityCenters_nearest_km_pivot_table.index\n",
        "cityCenters_nearest_km_pivot_table.reset_index(drop = True,inplace = True)\n",
        "cityCenters_nearest_km_pivot_table.plot(y = \"last_price\",style = 'o',kind = 'bar',figsize = (15,5))\n",
        "cityCenters_nearest_km_pivot_table"
      ]
    },
    {
      "cell_type": "markdown",
      "metadata": {
        "id": "cd8RB7srvYhO"
      },
      "source": [
        "Для квартир в Санкт-Петербурге была выявлена следующая закономерность: чем дальше от центра города, тем в среднем квартира будет стоить дешевле."
      ]
    },
    {
      "cell_type": "markdown",
      "metadata": {
        "id": "hVMPZ6Y5vYhO"
      },
      "source": [
        "### Общий вывод"
      ]
    },
    {
      "cell_type": "markdown",
      "metadata": {
        "id": "IU_xgymlvYhO"
      },
      "source": [
        "В ходе проектной работы было сделано:обработка пропущенных значений(там, где это необходимо), замена типов данных на необходимые для удобной работы, также были посчитаны и добавлены в таблицу цена квадратного метра жилья, выведены из даты дни недели, месяцы и года размещения объявлений, добавлены категории по этажам квартир. Перед обработкой данных были изучены некоторые параметры на наличие выбивающихся значений - площадь, цена, число комнат, высота потолков.\n",
        "После обработки данных и добавления новых параметров по уже имеющимся данным, был проведен анализ итоговых данных и были определены чаще всего встречающиеся значения по каждому параметру. Так стало известно, что чаще всего встречаются квартиры 1- и 2-комнатные, в основном продают квартиры до 5 этажа включительно и т.п.\n",
        "\n",
        "Мы выявили, что на цену квартиры в значительной мере влияют:количество комнат, тип этажа, день, месяц и год публицкации объявления. В меньшей степени влият-жилая площадь, общая площадь, площадь кухни.Также была замечена корреляция между ценой на квартиру и ее удаленностью от центра, которая подразумевает под собой снижение цены на квартиру в среднем по мере удаления от центра города. Еще одним значимым фактром влияющим на цену является населенный пункт, в котором она расположена. Объявление о продаже в среднем \"висит\" 180 дней.\n",
        "\n",
        "В итоге:\n",
        "- Дата размещения объявления показывает в какой момент лучше продавать квартиру(в какие месяцы или дни недели основной спрос на покупку)\n",
        "- Этаж квартиры играет непоследюю роль в продаже квартиры. В основном люди редко берут квартиры на первом этаже и квартиры на последним. Следовательно, самыми дорогими считаются квартиры между первым и последним этажом.\n",
        "- Расстояние от центра города также влияет на стоимость квартиры: чем дальше от центра, тем дешевле.\n",
        "- Очевидно,что на цену квартиры влияет общая площадь помещения, жилая площадь, площадь кухни и количество комнат в квартире."
      ]
    }
  ],
  "metadata": {
    "ExecuteTimeLog": [
      {
        "duration": 340,
        "start_time": "2022-10-09T17:37:55.462Z"
      },
      {
        "duration": 133,
        "start_time": "2022-10-09T17:37:56.495Z"
      },
      {
        "duration": 16,
        "start_time": "2022-10-09T17:37:57.454Z"
      },
      {
        "duration": 2109,
        "start_time": "2022-10-09T17:38:01.914Z"
      },
      {
        "duration": 14,
        "start_time": "2022-10-09T17:40:33.796Z"
      },
      {
        "duration": 8,
        "start_time": "2022-10-09T17:40:41.853Z"
      },
      {
        "duration": 4,
        "start_time": "2022-10-09T17:48:48.772Z"
      },
      {
        "duration": 3,
        "start_time": "2022-10-09T17:50:50.977Z"
      },
      {
        "duration": 6,
        "start_time": "2022-10-09T17:52:21.455Z"
      },
      {
        "duration": 103,
        "start_time": "2022-10-09T17:53:26.064Z"
      },
      {
        "duration": 170,
        "start_time": "2022-10-09T17:53:46.159Z"
      },
      {
        "duration": 9,
        "start_time": "2022-10-09T18:00:42.450Z"
      },
      {
        "duration": 9,
        "start_time": "2022-10-09T18:00:49.829Z"
      },
      {
        "duration": 28,
        "start_time": "2022-10-09T18:00:55.001Z"
      },
      {
        "duration": 28,
        "start_time": "2022-10-09T18:01:04.854Z"
      },
      {
        "duration": 53,
        "start_time": "2022-10-09T18:02:58.159Z"
      },
      {
        "duration": 8,
        "start_time": "2022-10-09T18:03:09.697Z"
      },
      {
        "duration": 26,
        "start_time": "2022-10-09T18:12:54.803Z"
      },
      {
        "duration": 16,
        "start_time": "2022-10-09T18:14:12.705Z"
      },
      {
        "duration": 20,
        "start_time": "2022-10-09T18:14:24.028Z"
      },
      {
        "duration": 17,
        "start_time": "2022-10-09T18:14:29.647Z"
      },
      {
        "duration": 10,
        "start_time": "2022-10-09T18:15:06.070Z"
      },
      {
        "duration": 12,
        "start_time": "2022-10-09T18:17:29.641Z"
      },
      {
        "duration": 34,
        "start_time": "2022-10-09T18:18:17.719Z"
      },
      {
        "duration": 6,
        "start_time": "2022-10-09T18:19:11.208Z"
      },
      {
        "duration": 6,
        "start_time": "2022-10-09T18:20:14.316Z"
      },
      {
        "duration": 6,
        "start_time": "2022-10-09T18:20:37.579Z"
      },
      {
        "duration": 9,
        "start_time": "2022-10-09T18:20:38.952Z"
      },
      {
        "duration": 8,
        "start_time": "2022-10-09T18:20:46.341Z"
      },
      {
        "duration": 7,
        "start_time": "2022-10-09T18:20:50.474Z"
      },
      {
        "duration": 5,
        "start_time": "2022-10-09T18:20:56.307Z"
      },
      {
        "duration": 8,
        "start_time": "2022-10-09T18:20:56.948Z"
      },
      {
        "duration": 5,
        "start_time": "2022-10-09T18:21:05.727Z"
      },
      {
        "duration": 5,
        "start_time": "2022-10-09T18:21:22.127Z"
      },
      {
        "duration": 3,
        "start_time": "2022-10-09T18:21:34.382Z"
      },
      {
        "duration": 85,
        "start_time": "2022-10-09T18:21:34.940Z"
      },
      {
        "duration": 33,
        "start_time": "2022-10-09T18:21:35.517Z"
      },
      {
        "duration": 14,
        "start_time": "2022-10-09T18:21:36.007Z"
      },
      {
        "duration": 1809,
        "start_time": "2022-10-09T18:21:36.436Z"
      },
      {
        "duration": 13,
        "start_time": "2022-10-09T18:21:38.247Z"
      },
      {
        "duration": 10,
        "start_time": "2022-10-09T18:21:38.272Z"
      },
      {
        "duration": 3,
        "start_time": "2022-10-09T18:21:38.495Z"
      },
      {
        "duration": 5,
        "start_time": "2022-10-09T18:21:39.068Z"
      },
      {
        "duration": 52,
        "start_time": "2022-10-09T18:21:39.575Z"
      },
      {
        "duration": 8,
        "start_time": "2022-10-09T18:21:40.894Z"
      },
      {
        "duration": 9,
        "start_time": "2022-10-09T18:21:42.559Z"
      },
      {
        "duration": 12,
        "start_time": "2022-10-09T18:21:43.737Z"
      },
      {
        "duration": 7,
        "start_time": "2022-10-09T18:21:44.407Z"
      },
      {
        "duration": 6,
        "start_time": "2022-10-09T18:21:46.311Z"
      },
      {
        "duration": 6,
        "start_time": "2022-10-09T18:21:46.867Z"
      },
      {
        "duration": 12,
        "start_time": "2022-10-09T18:23:44.524Z"
      },
      {
        "duration": 5,
        "start_time": "2022-10-09T18:31:47.221Z"
      },
      {
        "duration": 15,
        "start_time": "2022-10-09T18:32:18.334Z"
      },
      {
        "duration": 6,
        "start_time": "2022-10-09T18:32:19.903Z"
      },
      {
        "duration": 4,
        "start_time": "2022-10-09T18:32:20.632Z"
      },
      {
        "duration": 5,
        "start_time": "2022-10-09T18:32:21.337Z"
      },
      {
        "duration": 5,
        "start_time": "2022-10-09T18:32:22.053Z"
      },
      {
        "duration": 8,
        "start_time": "2022-10-09T18:32:52.488Z"
      },
      {
        "duration": 6,
        "start_time": "2022-10-09T18:33:10.869Z"
      },
      {
        "duration": 8,
        "start_time": "2022-10-09T18:39:47.003Z"
      },
      {
        "duration": 16,
        "start_time": "2022-10-09T18:40:16.892Z"
      },
      {
        "duration": 15,
        "start_time": "2022-10-09T18:40:22.612Z"
      },
      {
        "duration": 20,
        "start_time": "2022-10-09T18:41:27.315Z"
      },
      {
        "duration": 6,
        "start_time": "2022-10-09T18:41:36.889Z"
      },
      {
        "duration": 5,
        "start_time": "2022-10-09T18:41:52.540Z"
      },
      {
        "duration": 9,
        "start_time": "2022-10-09T18:42:51.430Z"
      },
      {
        "duration": 5,
        "start_time": "2022-10-09T18:42:59.743Z"
      },
      {
        "duration": 5,
        "start_time": "2022-10-09T18:43:09.258Z"
      },
      {
        "duration": 4,
        "start_time": "2022-10-09T18:43:23.546Z"
      },
      {
        "duration": 5,
        "start_time": "2022-10-09T18:43:37.293Z"
      },
      {
        "duration": 4,
        "start_time": "2022-10-09T18:43:54.525Z"
      },
      {
        "duration": 4,
        "start_time": "2022-10-09T18:44:13.547Z"
      },
      {
        "duration": 50,
        "start_time": "2022-10-09T18:49:39.884Z"
      },
      {
        "duration": 5,
        "start_time": "2022-10-09T18:49:52.859Z"
      },
      {
        "duration": 15,
        "start_time": "2022-10-09T18:50:31.796Z"
      },
      {
        "duration": 8,
        "start_time": "2022-10-09T18:52:06.034Z"
      },
      {
        "duration": 7,
        "start_time": "2022-10-09T18:52:13.537Z"
      },
      {
        "duration": 9,
        "start_time": "2022-10-09T18:53:26.243Z"
      },
      {
        "duration": 7,
        "start_time": "2022-10-09T18:53:36.705Z"
      },
      {
        "duration": 1456,
        "start_time": "2022-10-09T18:54:04.757Z"
      },
      {
        "duration": 1178,
        "start_time": "2022-10-09T18:54:55.801Z"
      },
      {
        "duration": 5,
        "start_time": "2022-10-09T18:55:15.247Z"
      },
      {
        "duration": 172,
        "start_time": "2022-10-09T18:57:06.509Z"
      },
      {
        "duration": 167,
        "start_time": "2022-10-09T18:57:31.648Z"
      },
      {
        "duration": 2,
        "start_time": "2022-10-09T18:57:39.924Z"
      },
      {
        "duration": 77,
        "start_time": "2022-10-09T18:57:40.494Z"
      },
      {
        "duration": 25,
        "start_time": "2022-10-09T18:57:41.132Z"
      },
      {
        "duration": 13,
        "start_time": "2022-10-09T18:57:41.658Z"
      },
      {
        "duration": 1694,
        "start_time": "2022-10-09T18:57:42.324Z"
      },
      {
        "duration": 8,
        "start_time": "2022-10-09T18:57:44.020Z"
      },
      {
        "duration": 3,
        "start_time": "2022-10-09T18:57:44.605Z"
      },
      {
        "duration": 3,
        "start_time": "2022-10-09T18:57:45.252Z"
      },
      {
        "duration": 5,
        "start_time": "2022-10-09T18:57:45.855Z"
      },
      {
        "duration": 198,
        "start_time": "2022-10-09T18:57:46.599Z"
      },
      {
        "duration": 8,
        "start_time": "2022-10-09T18:57:47.283Z"
      },
      {
        "duration": 10,
        "start_time": "2022-10-09T18:57:48.380Z"
      },
      {
        "duration": 12,
        "start_time": "2022-10-09T18:57:49.396Z"
      },
      {
        "duration": 5,
        "start_time": "2022-10-09T18:57:49.943Z"
      },
      {
        "duration": 6,
        "start_time": "2022-10-09T18:57:50.487Z"
      },
      {
        "duration": 5,
        "start_time": "2022-10-09T18:57:51.015Z"
      },
      {
        "duration": 5,
        "start_time": "2022-10-09T18:57:51.638Z"
      },
      {
        "duration": 4,
        "start_time": "2022-10-09T18:57:53.211Z"
      },
      {
        "duration": 5,
        "start_time": "2022-10-09T18:57:53.774Z"
      },
      {
        "duration": 4,
        "start_time": "2022-10-09T18:57:54.352Z"
      },
      {
        "duration": 4,
        "start_time": "2022-10-09T18:57:54.869Z"
      },
      {
        "duration": 5,
        "start_time": "2022-10-09T18:57:55.524Z"
      },
      {
        "duration": 4,
        "start_time": "2022-10-09T18:57:56.282Z"
      },
      {
        "duration": 9,
        "start_time": "2022-10-09T18:59:44.534Z"
      },
      {
        "duration": 12,
        "start_time": "2022-10-09T19:00:04.587Z"
      },
      {
        "duration": 8,
        "start_time": "2022-10-09T19:00:14.096Z"
      },
      {
        "duration": 9,
        "start_time": "2022-10-09T19:01:44.065Z"
      },
      {
        "duration": 2,
        "start_time": "2022-10-09T19:54:34.352Z"
      },
      {
        "duration": 86,
        "start_time": "2022-10-09T19:54:34.842Z"
      },
      {
        "duration": 31,
        "start_time": "2022-10-09T19:54:35.531Z"
      },
      {
        "duration": 14,
        "start_time": "2022-10-09T19:54:36.038Z"
      },
      {
        "duration": 1869,
        "start_time": "2022-10-09T19:54:36.698Z"
      },
      {
        "duration": 9,
        "start_time": "2022-10-09T19:54:38.579Z"
      },
      {
        "duration": 4,
        "start_time": "2022-10-09T19:54:39.232Z"
      },
      {
        "duration": 3,
        "start_time": "2022-10-09T19:54:40.205Z"
      },
      {
        "duration": 5,
        "start_time": "2022-10-09T19:54:40.842Z"
      },
      {
        "duration": 208,
        "start_time": "2022-10-09T19:54:41.375Z"
      },
      {
        "duration": 8,
        "start_time": "2022-10-09T19:54:42.109Z"
      },
      {
        "duration": 13,
        "start_time": "2022-10-09T19:55:22.468Z"
      },
      {
        "duration": 12,
        "start_time": "2022-10-09T19:55:23.741Z"
      },
      {
        "duration": 5,
        "start_time": "2022-10-09T19:55:24.313Z"
      },
      {
        "duration": 6,
        "start_time": "2022-10-09T19:55:24.810Z"
      },
      {
        "duration": 5,
        "start_time": "2022-10-09T19:55:25.376Z"
      },
      {
        "duration": 6,
        "start_time": "2022-10-09T19:55:26.045Z"
      },
      {
        "duration": 9,
        "start_time": "2022-10-09T19:55:26.791Z"
      },
      {
        "duration": 2,
        "start_time": "2022-10-09T20:04:15.442Z"
      },
      {
        "duration": 84,
        "start_time": "2022-10-09T20:04:16.065Z"
      },
      {
        "duration": 28,
        "start_time": "2022-10-09T20:04:16.764Z"
      },
      {
        "duration": 13,
        "start_time": "2022-10-09T20:04:17.598Z"
      },
      {
        "duration": 1628,
        "start_time": "2022-10-09T20:04:23.661Z"
      },
      {
        "duration": 8,
        "start_time": "2022-10-09T20:04:26.830Z"
      },
      {
        "duration": 4,
        "start_time": "2022-10-09T20:04:27.733Z"
      },
      {
        "duration": 3,
        "start_time": "2022-10-09T20:04:28.568Z"
      },
      {
        "duration": 5,
        "start_time": "2022-10-09T20:04:29.331Z"
      },
      {
        "duration": 358,
        "start_time": "2022-10-09T20:04:30.011Z"
      },
      {
        "duration": 8,
        "start_time": "2022-10-09T20:04:30.706Z"
      },
      {
        "duration": 12,
        "start_time": "2022-10-09T20:04:32.356Z"
      },
      {
        "duration": 19,
        "start_time": "2022-10-09T20:04:33.778Z"
      },
      {
        "duration": 5,
        "start_time": "2022-10-09T20:04:34.409Z"
      },
      {
        "duration": 9,
        "start_time": "2022-10-09T20:04:35.175Z"
      },
      {
        "duration": 5,
        "start_time": "2022-10-09T20:04:36.065Z"
      },
      {
        "duration": 6,
        "start_time": "2022-10-09T20:04:38.507Z"
      },
      {
        "duration": 3,
        "start_time": "2022-10-09T20:10:16.695Z"
      },
      {
        "duration": 94,
        "start_time": "2022-10-09T20:10:17.174Z"
      },
      {
        "duration": 26,
        "start_time": "2022-10-09T20:10:17.677Z"
      },
      {
        "duration": 15,
        "start_time": "2022-10-09T20:10:18.269Z"
      },
      {
        "duration": 1718,
        "start_time": "2022-10-09T20:10:18.779Z"
      },
      {
        "duration": 13,
        "start_time": "2022-10-09T20:10:20.506Z"
      },
      {
        "duration": 4,
        "start_time": "2022-10-09T20:10:20.521Z"
      },
      {
        "duration": 3,
        "start_time": "2022-10-09T20:10:21.092Z"
      },
      {
        "duration": 5,
        "start_time": "2022-10-09T20:10:21.531Z"
      },
      {
        "duration": 189,
        "start_time": "2022-10-09T20:10:22.009Z"
      },
      {
        "duration": 8,
        "start_time": "2022-10-09T20:10:22.518Z"
      },
      {
        "duration": 13,
        "start_time": "2022-10-09T20:10:23.798Z"
      },
      {
        "duration": 12,
        "start_time": "2022-10-09T20:10:25.576Z"
      },
      {
        "duration": 7,
        "start_time": "2022-10-09T20:10:26.149Z"
      },
      {
        "duration": 7,
        "start_time": "2022-10-09T20:10:32.764Z"
      },
      {
        "duration": 10,
        "start_time": "2022-10-09T20:10:34.479Z"
      },
      {
        "duration": 7,
        "start_time": "2022-10-09T20:17:26.874Z"
      },
      {
        "duration": 3,
        "start_time": "2022-10-09T20:17:28.157Z"
      },
      {
        "duration": 72,
        "start_time": "2022-10-09T20:17:28.735Z"
      },
      {
        "duration": 6,
        "start_time": "2022-10-09T20:17:29.451Z"
      },
      {
        "duration": 6,
        "start_time": "2022-10-09T20:17:38.227Z"
      },
      {
        "duration": 7,
        "start_time": "2022-10-09T20:26:06.018Z"
      },
      {
        "duration": 9,
        "start_time": "2022-10-09T20:26:10.870Z"
      },
      {
        "duration": 4,
        "start_time": "2022-10-09T20:28:56.678Z"
      },
      {
        "duration": 5,
        "start_time": "2022-10-09T20:28:57.284Z"
      },
      {
        "duration": 4,
        "start_time": "2022-10-09T20:33:59.564Z"
      },
      {
        "duration": 7,
        "start_time": "2022-10-09T20:34:00.353Z"
      },
      {
        "duration": 2,
        "start_time": "2022-10-09T20:34:57.137Z"
      },
      {
        "duration": 80,
        "start_time": "2022-10-09T20:34:57.581Z"
      },
      {
        "duration": 18,
        "start_time": "2022-10-09T20:34:58.004Z"
      },
      {
        "duration": 1807,
        "start_time": "2022-10-09T20:34:58.462Z"
      },
      {
        "duration": 8,
        "start_time": "2022-10-09T20:35:00.271Z"
      },
      {
        "duration": 6,
        "start_time": "2022-10-09T20:35:00.280Z"
      },
      {
        "duration": 3,
        "start_time": "2022-10-09T20:35:00.719Z"
      },
      {
        "duration": 7,
        "start_time": "2022-10-09T20:35:01.155Z"
      },
      {
        "duration": 5,
        "start_time": "2022-10-09T20:35:01.663Z"
      },
      {
        "duration": 199,
        "start_time": "2022-10-09T20:35:02.086Z"
      },
      {
        "duration": 7,
        "start_time": "2022-10-09T20:35:02.585Z"
      },
      {
        "duration": 10,
        "start_time": "2022-10-09T20:35:03.590Z"
      },
      {
        "duration": 13,
        "start_time": "2022-10-09T20:35:04.677Z"
      },
      {
        "duration": 9,
        "start_time": "2022-10-09T20:35:05.650Z"
      },
      {
        "duration": 9,
        "start_time": "2022-10-09T20:35:06.533Z"
      },
      {
        "duration": 8,
        "start_time": "2022-10-09T20:35:07.300Z"
      },
      {
        "duration": 9,
        "start_time": "2022-10-09T20:41:44.034Z"
      },
      {
        "duration": 8,
        "start_time": "2022-10-09T20:41:45.750Z"
      },
      {
        "duration": 1157,
        "start_time": "2022-10-09T20:54:38.635Z"
      },
      {
        "duration": 1302,
        "start_time": "2022-10-09T20:56:19.094Z"
      },
      {
        "duration": 15,
        "start_time": "2022-10-09T20:56:32.513Z"
      },
      {
        "duration": 7,
        "start_time": "2022-10-09T20:56:37.633Z"
      },
      {
        "duration": 2,
        "start_time": "2022-10-09T20:57:21.641Z"
      },
      {
        "duration": 80,
        "start_time": "2022-10-09T20:57:22.094Z"
      },
      {
        "duration": 14,
        "start_time": "2022-10-09T20:57:22.798Z"
      },
      {
        "duration": 1575,
        "start_time": "2022-10-09T20:57:23.318Z"
      },
      {
        "duration": 8,
        "start_time": "2022-10-09T20:57:25.067Z"
      },
      {
        "duration": 4,
        "start_time": "2022-10-09T20:57:25.636Z"
      },
      {
        "duration": 4,
        "start_time": "2022-10-09T20:57:26.164Z"
      },
      {
        "duration": 9,
        "start_time": "2022-10-09T20:57:26.699Z"
      },
      {
        "duration": 6,
        "start_time": "2022-10-09T20:57:27.171Z"
      },
      {
        "duration": 186,
        "start_time": "2022-10-09T20:57:27.641Z"
      },
      {
        "duration": 7,
        "start_time": "2022-10-09T20:57:28.194Z"
      },
      {
        "duration": 11,
        "start_time": "2022-10-09T20:57:29.818Z"
      },
      {
        "duration": 14,
        "start_time": "2022-10-09T20:57:30.922Z"
      },
      {
        "duration": 8,
        "start_time": "2022-10-09T20:57:31.518Z"
      },
      {
        "duration": 9,
        "start_time": "2022-10-09T20:57:42.074Z"
      },
      {
        "duration": 7,
        "start_time": "2022-10-09T20:58:26.486Z"
      },
      {
        "duration": 22,
        "start_time": "2022-10-09T20:58:34.996Z"
      },
      {
        "duration": 16,
        "start_time": "2022-10-09T20:58:38.174Z"
      },
      {
        "duration": 7,
        "start_time": "2022-10-09T20:58:46.153Z"
      },
      {
        "duration": 7,
        "start_time": "2022-10-09T20:58:51.273Z"
      },
      {
        "duration": 3,
        "start_time": "2022-10-09T20:59:55.036Z"
      },
      {
        "duration": 81,
        "start_time": "2022-10-09T20:59:55.472Z"
      },
      {
        "duration": 14,
        "start_time": "2022-10-09T20:59:55.905Z"
      },
      {
        "duration": 1847,
        "start_time": "2022-10-09T20:59:56.416Z"
      },
      {
        "duration": 9,
        "start_time": "2022-10-09T20:59:58.265Z"
      },
      {
        "duration": 4,
        "start_time": "2022-10-09T20:59:58.276Z"
      },
      {
        "duration": 3,
        "start_time": "2022-10-09T20:59:58.647Z"
      },
      {
        "duration": 7,
        "start_time": "2022-10-09T20:59:59.079Z"
      },
      {
        "duration": 5,
        "start_time": "2022-10-09T20:59:59.546Z"
      },
      {
        "duration": 192,
        "start_time": "2022-10-09T21:00:00.001Z"
      },
      {
        "duration": 9,
        "start_time": "2022-10-09T21:00:00.466Z"
      },
      {
        "duration": 11,
        "start_time": "2022-10-09T21:00:01.501Z"
      },
      {
        "duration": 16,
        "start_time": "2022-10-09T21:00:02.519Z"
      },
      {
        "duration": 9,
        "start_time": "2022-10-09T21:00:03.038Z"
      },
      {
        "duration": 9,
        "start_time": "2022-10-09T21:00:12.126Z"
      },
      {
        "duration": 16,
        "start_time": "2022-10-09T21:00:26.559Z"
      },
      {
        "duration": 7,
        "start_time": "2022-10-09T21:00:27.695Z"
      },
      {
        "duration": 6,
        "start_time": "2022-10-09T21:00:55.906Z"
      },
      {
        "duration": 15,
        "start_time": "2022-10-09T21:05:51.912Z"
      },
      {
        "duration": 8,
        "start_time": "2022-10-09T21:06:20.445Z"
      },
      {
        "duration": 1147,
        "start_time": "2022-10-09T21:08:21.216Z"
      },
      {
        "duration": 7,
        "start_time": "2022-10-09T21:12:22.639Z"
      },
      {
        "duration": 5,
        "start_time": "2022-10-09T21:12:46.184Z"
      },
      {
        "duration": 10,
        "start_time": "2022-10-09T21:13:15.310Z"
      },
      {
        "duration": 5,
        "start_time": "2022-10-09T21:13:18.379Z"
      },
      {
        "duration": 2,
        "start_time": "2022-10-09T21:13:26.630Z"
      },
      {
        "duration": 81,
        "start_time": "2022-10-09T21:13:27.117Z"
      },
      {
        "duration": 13,
        "start_time": "2022-10-09T21:13:27.606Z"
      },
      {
        "duration": 1654,
        "start_time": "2022-10-09T21:13:28.151Z"
      },
      {
        "duration": 8,
        "start_time": "2022-10-09T21:13:29.807Z"
      },
      {
        "duration": 4,
        "start_time": "2022-10-09T21:13:29.816Z"
      },
      {
        "duration": 3,
        "start_time": "2022-10-09T21:13:30.194Z"
      },
      {
        "duration": 7,
        "start_time": "2022-10-09T21:13:30.661Z"
      },
      {
        "duration": 5,
        "start_time": "2022-10-09T21:13:31.082Z"
      },
      {
        "duration": 191,
        "start_time": "2022-10-09T21:13:31.635Z"
      },
      {
        "duration": 7,
        "start_time": "2022-10-09T21:13:32.016Z"
      },
      {
        "duration": 11,
        "start_time": "2022-10-09T21:13:32.955Z"
      },
      {
        "duration": 12,
        "start_time": "2022-10-09T21:13:33.881Z"
      },
      {
        "duration": 8,
        "start_time": "2022-10-09T21:13:34.365Z"
      },
      {
        "duration": 18,
        "start_time": "2022-10-09T21:13:34.848Z"
      },
      {
        "duration": 8,
        "start_time": "2022-10-09T21:13:35.453Z"
      },
      {
        "duration": 6,
        "start_time": "2022-10-09T21:13:35.861Z"
      },
      {
        "duration": 11,
        "start_time": "2022-10-09T21:13:37.591Z"
      },
      {
        "duration": 5,
        "start_time": "2022-10-09T21:13:38.373Z"
      },
      {
        "duration": 9,
        "start_time": "2022-10-09T21:14:13.885Z"
      },
      {
        "duration": 5,
        "start_time": "2022-10-09T21:14:14.926Z"
      },
      {
        "duration": 4,
        "start_time": "2022-10-09T21:14:25.028Z"
      },
      {
        "duration": 4,
        "start_time": "2022-10-09T21:14:25.683Z"
      },
      {
        "duration": 4,
        "start_time": "2022-10-09T21:14:26.759Z"
      },
      {
        "duration": 5,
        "start_time": "2022-10-09T21:14:27.355Z"
      },
      {
        "duration": 4,
        "start_time": "2022-10-09T21:14:28.072Z"
      },
      {
        "duration": 5,
        "start_time": "2022-10-09T21:14:28.830Z"
      },
      {
        "duration": 9,
        "start_time": "2022-10-09T21:16:25.882Z"
      },
      {
        "duration": 5,
        "start_time": "2022-10-09T21:16:27.102Z"
      },
      {
        "duration": 4,
        "start_time": "2022-10-09T21:16:27.980Z"
      },
      {
        "duration": 4,
        "start_time": "2022-10-09T21:16:28.967Z"
      },
      {
        "duration": 4,
        "start_time": "2022-10-09T21:16:29.537Z"
      },
      {
        "duration": 4,
        "start_time": "2022-10-09T21:16:30.025Z"
      },
      {
        "duration": 4,
        "start_time": "2022-10-09T21:16:30.603Z"
      },
      {
        "duration": 4,
        "start_time": "2022-10-09T21:16:32.955Z"
      },
      {
        "duration": 8,
        "start_time": "2022-10-09T21:17:47.906Z"
      },
      {
        "duration": 5,
        "start_time": "2022-10-09T21:17:48.522Z"
      },
      {
        "duration": 4,
        "start_time": "2022-10-09T21:17:49.365Z"
      },
      {
        "duration": 4,
        "start_time": "2022-10-09T21:17:49.920Z"
      },
      {
        "duration": 5,
        "start_time": "2022-10-09T21:17:50.847Z"
      },
      {
        "duration": 5,
        "start_time": "2022-10-09T21:17:51.409Z"
      },
      {
        "duration": 4,
        "start_time": "2022-10-09T21:17:52.000Z"
      },
      {
        "duration": 5,
        "start_time": "2022-10-09T21:17:52.496Z"
      },
      {
        "duration": 19,
        "start_time": "2022-10-09T21:27:06.595Z"
      },
      {
        "duration": 27,
        "start_time": "2022-10-09T21:27:21.646Z"
      },
      {
        "duration": 80,
        "start_time": "2022-10-09T21:30:45.941Z"
      },
      {
        "duration": 111,
        "start_time": "2022-10-09T21:30:52.424Z"
      },
      {
        "duration": 25,
        "start_time": "2022-10-09T21:31:50.196Z"
      },
      {
        "duration": 86,
        "start_time": "2022-10-09T21:32:10.369Z"
      },
      {
        "duration": 98,
        "start_time": "2022-10-09T21:33:15.954Z"
      },
      {
        "duration": 18,
        "start_time": "2022-10-09T21:33:21.081Z"
      },
      {
        "duration": 136,
        "start_time": "2022-10-09T21:33:27.869Z"
      },
      {
        "duration": 19,
        "start_time": "2022-10-09T21:34:18.349Z"
      },
      {
        "duration": 38,
        "start_time": "2022-10-09T21:34:40.301Z"
      },
      {
        "duration": 28,
        "start_time": "2022-10-09T21:35:08.737Z"
      },
      {
        "duration": 48,
        "start_time": "2022-10-09T21:35:28.879Z"
      },
      {
        "duration": 17,
        "start_time": "2022-10-09T21:36:04.390Z"
      },
      {
        "duration": 2437,
        "start_time": "2022-10-09T21:37:07.142Z"
      },
      {
        "duration": 30,
        "start_time": "2022-10-09T21:52:23.088Z"
      },
      {
        "duration": 20,
        "start_time": "2022-10-09T21:53:16.285Z"
      },
      {
        "duration": 76,
        "start_time": "2022-10-09T21:54:15.668Z"
      },
      {
        "duration": 11,
        "start_time": "2022-10-09T21:54:22.599Z"
      },
      {
        "duration": 123,
        "start_time": "2022-10-09T21:57:49.750Z"
      },
      {
        "duration": 9,
        "start_time": "2022-10-09T21:58:31.128Z"
      },
      {
        "duration": 125,
        "start_time": "2022-10-09T21:58:40.818Z"
      },
      {
        "duration": 2,
        "start_time": "2022-10-09T21:59:11.234Z"
      },
      {
        "duration": 88,
        "start_time": "2022-10-09T21:59:11.859Z"
      },
      {
        "duration": 13,
        "start_time": "2022-10-09T21:59:12.476Z"
      },
      {
        "duration": 1557,
        "start_time": "2022-10-09T21:59:13.017Z"
      },
      {
        "duration": 9,
        "start_time": "2022-10-09T21:59:14.576Z"
      },
      {
        "duration": 3,
        "start_time": "2022-10-09T21:59:15.009Z"
      },
      {
        "duration": 4,
        "start_time": "2022-10-09T21:59:15.555Z"
      },
      {
        "duration": 7,
        "start_time": "2022-10-09T21:59:15.998Z"
      },
      {
        "duration": 5,
        "start_time": "2022-10-09T21:59:16.559Z"
      },
      {
        "duration": 187,
        "start_time": "2022-10-09T21:59:16.838Z"
      },
      {
        "duration": 8,
        "start_time": "2022-10-09T21:59:17.476Z"
      },
      {
        "duration": 11,
        "start_time": "2022-10-09T21:59:18.362Z"
      },
      {
        "duration": 13,
        "start_time": "2022-10-09T21:59:19.381Z"
      },
      {
        "duration": 9,
        "start_time": "2022-10-09T21:59:19.784Z"
      },
      {
        "duration": 16,
        "start_time": "2022-10-09T21:59:20.267Z"
      },
      {
        "duration": 7,
        "start_time": "2022-10-09T21:59:20.756Z"
      },
      {
        "duration": 5,
        "start_time": "2022-10-09T21:59:21.362Z"
      },
      {
        "duration": 9,
        "start_time": "2022-10-09T21:59:21.807Z"
      },
      {
        "duration": 5,
        "start_time": "2022-10-09T21:59:22.298Z"
      },
      {
        "duration": 4,
        "start_time": "2022-10-09T21:59:22.796Z"
      },
      {
        "duration": 4,
        "start_time": "2022-10-09T21:59:23.250Z"
      },
      {
        "duration": 4,
        "start_time": "2022-10-09T21:59:23.729Z"
      },
      {
        "duration": 4,
        "start_time": "2022-10-09T21:59:24.252Z"
      },
      {
        "duration": 4,
        "start_time": "2022-10-09T21:59:24.787Z"
      },
      {
        "duration": 6,
        "start_time": "2022-10-09T21:59:25.207Z"
      },
      {
        "duration": 21,
        "start_time": "2022-10-09T21:59:26.732Z"
      },
      {
        "duration": 2399,
        "start_time": "2022-10-09T21:59:28.340Z"
      },
      {
        "duration": 249,
        "start_time": "2022-10-09T21:59:30.740Z"
      },
      {
        "duration": 244,
        "start_time": "2022-10-09T22:03:43.004Z"
      },
      {
        "duration": 9,
        "start_time": "2022-10-09T22:04:11.358Z"
      },
      {
        "duration": 25,
        "start_time": "2022-10-09T22:04:47.833Z"
      },
      {
        "duration": 244,
        "start_time": "2022-10-09T22:08:00.971Z"
      },
      {
        "duration": 131,
        "start_time": "2022-10-09T22:11:49.519Z"
      },
      {
        "duration": 128,
        "start_time": "2022-10-09T22:13:54.957Z"
      },
      {
        "duration": 122,
        "start_time": "2022-10-09T22:15:18.842Z"
      },
      {
        "duration": 137,
        "start_time": "2022-10-09T22:15:58.244Z"
      },
      {
        "duration": 136,
        "start_time": "2022-10-09T22:17:35.086Z"
      },
      {
        "duration": 141,
        "start_time": "2022-10-09T22:18:33.270Z"
      },
      {
        "duration": 137,
        "start_time": "2022-10-09T22:19:41.876Z"
      },
      {
        "duration": 8,
        "start_time": "2022-10-09T22:20:10.124Z"
      },
      {
        "duration": 137,
        "start_time": "2022-10-09T22:20:17.277Z"
      },
      {
        "duration": 142,
        "start_time": "2022-10-09T22:21:00.929Z"
      },
      {
        "duration": 135,
        "start_time": "2022-10-09T22:21:09.658Z"
      },
      {
        "duration": 122,
        "start_time": "2022-10-09T22:21:14.807Z"
      },
      {
        "duration": 130,
        "start_time": "2022-10-09T22:21:42.775Z"
      },
      {
        "duration": 139,
        "start_time": "2022-10-09T22:22:02.260Z"
      },
      {
        "duration": 136,
        "start_time": "2022-10-09T22:22:19.363Z"
      },
      {
        "duration": 141,
        "start_time": "2022-10-09T22:22:33.526Z"
      },
      {
        "duration": 491,
        "start_time": "2022-10-09T22:24:49.841Z"
      },
      {
        "duration": 1432,
        "start_time": "2022-10-09T22:34:47.444Z"
      },
      {
        "duration": 2594,
        "start_time": "2022-10-09T22:36:37.589Z"
      },
      {
        "duration": 2099,
        "start_time": "2022-10-09T22:36:58.094Z"
      },
      {
        "duration": 8,
        "start_time": "2022-10-09T22:37:29.042Z"
      },
      {
        "duration": 8,
        "start_time": "2022-10-09T22:37:41.955Z"
      },
      {
        "duration": 8,
        "start_time": "2022-10-09T22:39:21.252Z"
      },
      {
        "duration": 8,
        "start_time": "2022-10-09T22:39:26.161Z"
      },
      {
        "duration": 8,
        "start_time": "2022-10-09T22:39:30.023Z"
      },
      {
        "duration": 7,
        "start_time": "2022-10-09T22:39:34.600Z"
      },
      {
        "duration": 9,
        "start_time": "2022-10-09T22:39:38.977Z"
      },
      {
        "duration": 9,
        "start_time": "2022-10-09T22:39:43.838Z"
      },
      {
        "duration": 9,
        "start_time": "2022-10-09T22:39:48.895Z"
      },
      {
        "duration": 10,
        "start_time": "2022-10-09T22:39:52.743Z"
      },
      {
        "duration": 9,
        "start_time": "2022-10-09T22:39:56.874Z"
      },
      {
        "duration": 8,
        "start_time": "2022-10-09T22:40:01.393Z"
      },
      {
        "duration": 7,
        "start_time": "2022-10-09T22:40:05.277Z"
      },
      {
        "duration": 421,
        "start_time": "2022-10-10T19:14:54.763Z"
      },
      {
        "duration": 174,
        "start_time": "2022-10-10T19:14:55.876Z"
      },
      {
        "duration": 18,
        "start_time": "2022-10-10T19:14:56.586Z"
      },
      {
        "duration": 2322,
        "start_time": "2022-10-10T19:14:57.367Z"
      },
      {
        "duration": 9,
        "start_time": "2022-10-10T19:15:00.661Z"
      },
      {
        "duration": 4,
        "start_time": "2022-10-10T19:15:01.821Z"
      },
      {
        "duration": 3,
        "start_time": "2022-10-10T19:15:02.548Z"
      },
      {
        "duration": 13,
        "start_time": "2022-10-10T19:15:03.281Z"
      },
      {
        "duration": 7,
        "start_time": "2022-10-10T19:15:03.848Z"
      },
      {
        "duration": 216,
        "start_time": "2022-10-10T19:15:04.481Z"
      },
      {
        "duration": 8,
        "start_time": "2022-10-10T19:15:05.223Z"
      },
      {
        "duration": 16,
        "start_time": "2022-10-10T19:15:06.682Z"
      },
      {
        "duration": 13,
        "start_time": "2022-10-10T19:15:08.152Z"
      },
      {
        "duration": 10,
        "start_time": "2022-10-10T19:15:08.805Z"
      },
      {
        "duration": 21,
        "start_time": "2022-10-10T19:15:09.588Z"
      },
      {
        "duration": 8,
        "start_time": "2022-10-10T19:15:10.415Z"
      },
      {
        "duration": 7,
        "start_time": "2022-10-10T19:15:11.897Z"
      },
      {
        "duration": 13,
        "start_time": "2022-10-10T19:15:19.637Z"
      },
      {
        "duration": 6,
        "start_time": "2022-10-10T19:15:20.506Z"
      },
      {
        "duration": 4,
        "start_time": "2022-10-10T19:15:21.368Z"
      },
      {
        "duration": 5,
        "start_time": "2022-10-10T19:15:22.187Z"
      },
      {
        "duration": 5,
        "start_time": "2022-10-10T19:15:23.217Z"
      },
      {
        "duration": 5,
        "start_time": "2022-10-10T19:15:23.829Z"
      },
      {
        "duration": 5,
        "start_time": "2022-10-10T19:15:24.394Z"
      },
      {
        "duration": 5,
        "start_time": "2022-10-10T19:15:25.046Z"
      },
      {
        "duration": 25,
        "start_time": "2022-10-10T19:15:27.635Z"
      },
      {
        "duration": 2598,
        "start_time": "2022-10-10T19:15:29.461Z"
      },
      {
        "duration": 8,
        "start_time": "2022-10-10T19:15:33.541Z"
      },
      {
        "duration": 8,
        "start_time": "2022-10-10T19:15:35.779Z"
      },
      {
        "duration": 10,
        "start_time": "2022-10-10T19:15:36.326Z"
      },
      {
        "duration": 7,
        "start_time": "2022-10-10T19:15:36.957Z"
      },
      {
        "duration": 9,
        "start_time": "2022-10-10T19:15:37.500Z"
      },
      {
        "duration": 9,
        "start_time": "2022-10-10T19:15:38.068Z"
      },
      {
        "duration": 12,
        "start_time": "2022-10-10T19:15:38.643Z"
      },
      {
        "duration": 8,
        "start_time": "2022-10-10T19:15:39.184Z"
      },
      {
        "duration": 10,
        "start_time": "2022-10-10T19:15:39.809Z"
      },
      {
        "duration": 10,
        "start_time": "2022-10-10T19:15:40.342Z"
      },
      {
        "duration": 9,
        "start_time": "2022-10-10T19:15:40.944Z"
      },
      {
        "duration": 10,
        "start_time": "2022-10-10T19:15:41.477Z"
      },
      {
        "duration": 11,
        "start_time": "2022-10-10T19:15:42.009Z"
      },
      {
        "duration": 611,
        "start_time": "2022-10-10T19:15:42.573Z"
      },
      {
        "duration": 157,
        "start_time": "2022-10-10T19:15:44.990Z"
      },
      {
        "duration": 336,
        "start_time": "2022-10-10T19:15:46.683Z"
      },
      {
        "duration": 148,
        "start_time": "2022-10-10T19:15:48.191Z"
      },
      {
        "duration": 157,
        "start_time": "2022-10-10T19:15:49.503Z"
      },
      {
        "duration": 162,
        "start_time": "2022-10-10T19:15:50.736Z"
      },
      {
        "duration": 175,
        "start_time": "2022-10-10T19:15:51.932Z"
      },
      {
        "duration": 170,
        "start_time": "2022-10-10T19:15:53.231Z"
      },
      {
        "duration": 160,
        "start_time": "2022-10-10T19:15:54.557Z"
      },
      {
        "duration": 27,
        "start_time": "2022-10-10T19:15:55.865Z"
      },
      {
        "duration": 369,
        "start_time": "2022-10-10T19:15:57.119Z"
      },
      {
        "duration": 144,
        "start_time": "2022-10-10T19:19:57.054Z"
      },
      {
        "duration": 160,
        "start_time": "2022-10-10T19:20:36.725Z"
      },
      {
        "duration": 181,
        "start_time": "2022-10-10T19:25:26.910Z"
      },
      {
        "duration": 142,
        "start_time": "2022-10-10T19:26:55.155Z"
      },
      {
        "duration": 365,
        "start_time": "2022-10-10T19:28:16.807Z"
      },
      {
        "duration": 148,
        "start_time": "2022-10-10T19:38:20.823Z"
      },
      {
        "duration": 214,
        "start_time": "2022-10-10T19:42:16.461Z"
      },
      {
        "duration": 154,
        "start_time": "2022-10-10T19:42:37.760Z"
      },
      {
        "duration": 174,
        "start_time": "2022-10-10T19:43:45.937Z"
      },
      {
        "duration": 142,
        "start_time": "2022-10-10T19:47:18.637Z"
      },
      {
        "duration": 8,
        "start_time": "2022-10-10T19:53:50.798Z"
      },
      {
        "duration": 8,
        "start_time": "2022-10-10T19:54:06.711Z"
      },
      {
        "duration": 7,
        "start_time": "2022-10-10T19:54:11.857Z"
      },
      {
        "duration": 6,
        "start_time": "2022-10-10T19:54:22.490Z"
      },
      {
        "duration": 7,
        "start_time": "2022-10-10T19:57:18.178Z"
      },
      {
        "duration": 5,
        "start_time": "2022-10-10T19:57:29.392Z"
      },
      {
        "duration": 2409,
        "start_time": "2022-10-10T19:59:13.139Z"
      },
      {
        "duration": 1860,
        "start_time": "2022-10-10T19:59:47.595Z"
      },
      {
        "duration": 3545,
        "start_time": "2022-10-10T20:00:04.135Z"
      },
      {
        "duration": 3787,
        "start_time": "2022-10-10T20:00:24.412Z"
      },
      {
        "duration": 308,
        "start_time": "2022-10-10T20:03:27.474Z"
      },
      {
        "duration": 283,
        "start_time": "2022-10-10T20:04:00.067Z"
      },
      {
        "duration": 437,
        "start_time": "2022-10-10T20:04:22.629Z"
      },
      {
        "duration": 226,
        "start_time": "2022-10-10T20:04:56.448Z"
      },
      {
        "duration": 246,
        "start_time": "2022-10-10T20:05:37.539Z"
      },
      {
        "duration": 195,
        "start_time": "2022-10-10T20:05:45.718Z"
      },
      {
        "duration": 181,
        "start_time": "2022-10-10T20:06:17.322Z"
      },
      {
        "duration": 195,
        "start_time": "2022-10-10T20:07:01.928Z"
      },
      {
        "duration": 418,
        "start_time": "2022-10-11T05:01:30.327Z"
      },
      {
        "duration": 301,
        "start_time": "2022-10-11T05:01:30.747Z"
      },
      {
        "duration": 15,
        "start_time": "2022-10-11T05:01:31.049Z"
      },
      {
        "duration": 2347,
        "start_time": "2022-10-11T05:01:31.066Z"
      },
      {
        "duration": 10,
        "start_time": "2022-10-11T05:01:33.414Z"
      },
      {
        "duration": 4,
        "start_time": "2022-10-11T05:01:33.426Z"
      },
      {
        "duration": 7,
        "start_time": "2022-10-11T05:01:33.431Z"
      },
      {
        "duration": 14,
        "start_time": "2022-10-11T05:01:33.439Z"
      },
      {
        "duration": 5,
        "start_time": "2022-10-11T05:01:33.455Z"
      },
      {
        "duration": 214,
        "start_time": "2022-10-11T05:01:33.462Z"
      },
      {
        "duration": 7,
        "start_time": "2022-10-11T05:01:33.678Z"
      },
      {
        "duration": 11,
        "start_time": "2022-10-11T05:01:33.687Z"
      },
      {
        "duration": 12,
        "start_time": "2022-10-11T05:01:33.700Z"
      },
      {
        "duration": 25,
        "start_time": "2022-10-11T05:01:33.713Z"
      },
      {
        "duration": 24,
        "start_time": "2022-10-11T05:01:33.740Z"
      },
      {
        "duration": 10,
        "start_time": "2022-10-11T05:01:33.765Z"
      },
      {
        "duration": 5,
        "start_time": "2022-10-11T05:01:33.777Z"
      },
      {
        "duration": 12,
        "start_time": "2022-10-11T05:01:33.784Z"
      },
      {
        "duration": 5,
        "start_time": "2022-10-11T05:01:33.797Z"
      },
      {
        "duration": 4,
        "start_time": "2022-10-11T05:01:33.803Z"
      },
      {
        "duration": 26,
        "start_time": "2022-10-11T05:01:33.808Z"
      },
      {
        "duration": 4,
        "start_time": "2022-10-11T05:01:33.836Z"
      },
      {
        "duration": 6,
        "start_time": "2022-10-11T05:01:33.842Z"
      },
      {
        "duration": 10,
        "start_time": "2022-10-11T05:01:33.850Z"
      },
      {
        "duration": 5,
        "start_time": "2022-10-11T05:01:33.862Z"
      },
      {
        "duration": 32,
        "start_time": "2022-10-11T05:01:33.868Z"
      },
      {
        "duration": 312,
        "start_time": "2022-10-11T05:01:33.902Z"
      },
      {
        "duration": 282,
        "start_time": "2022-10-11T05:01:34.218Z"
      },
      {
        "duration": 178,
        "start_time": "2022-10-11T05:01:34.502Z"
      },
      {
        "duration": 256,
        "start_time": "2022-10-11T05:01:34.682Z"
      },
      {
        "duration": 562,
        "start_time": "2022-10-11T05:01:34.940Z"
      },
      {
        "duration": 5,
        "start_time": "2022-10-11T05:01:35.504Z"
      },
      {
        "duration": 149,
        "start_time": "2022-10-11T05:01:35.510Z"
      },
      {
        "duration": 164,
        "start_time": "2022-10-11T05:01:35.661Z"
      },
      {
        "duration": 157,
        "start_time": "2022-10-11T05:01:35.827Z"
      },
      {
        "duration": 160,
        "start_time": "2022-10-11T05:01:35.985Z"
      },
      {
        "duration": 199,
        "start_time": "2022-10-11T05:01:36.146Z"
      },
      {
        "duration": 180,
        "start_time": "2022-10-11T05:01:36.346Z"
      },
      {
        "duration": 161,
        "start_time": "2022-10-11T05:01:36.528Z"
      },
      {
        "duration": 236,
        "start_time": "2022-10-11T05:01:36.691Z"
      },
      {
        "duration": 25,
        "start_time": "2022-10-11T05:01:36.933Z"
      },
      {
        "duration": 289,
        "start_time": "2022-10-11T05:01:36.960Z"
      },
      {
        "duration": 68,
        "start_time": "2022-10-11T05:03:49.297Z"
      },
      {
        "duration": 13,
        "start_time": "2022-10-11T05:03:54.774Z"
      },
      {
        "duration": 83,
        "start_time": "2022-10-11T05:03:58.987Z"
      },
      {
        "duration": 50,
        "start_time": "2022-10-11T05:04:32.291Z"
      },
      {
        "duration": 7,
        "start_time": "2022-10-11T05:04:40.615Z"
      },
      {
        "duration": 5,
        "start_time": "2022-10-11T05:04:46.023Z"
      },
      {
        "duration": 453,
        "start_time": "2022-10-12T14:28:37.108Z"
      },
      {
        "duration": 317,
        "start_time": "2022-10-12T14:28:37.874Z"
      },
      {
        "duration": 50,
        "start_time": "2022-10-12T14:28:38.827Z"
      },
      {
        "duration": 14,
        "start_time": "2022-10-12T14:28:41.044Z"
      },
      {
        "duration": 2351,
        "start_time": "2022-10-12T14:28:48.784Z"
      },
      {
        "duration": 15,
        "start_time": "2022-10-12T14:29:21.004Z"
      },
      {
        "duration": 4,
        "start_time": "2022-10-12T14:29:21.882Z"
      },
      {
        "duration": 13,
        "start_time": "2022-10-12T14:29:25.759Z"
      },
      {
        "duration": 7,
        "start_time": "2022-10-12T14:29:26.857Z"
      },
      {
        "duration": 231,
        "start_time": "2022-10-12T14:29:27.654Z"
      },
      {
        "duration": 11,
        "start_time": "2022-10-12T14:29:34.134Z"
      },
      {
        "duration": 73,
        "start_time": "2022-10-12T14:29:51.092Z"
      },
      {
        "duration": 13,
        "start_time": "2022-10-12T14:30:10.101Z"
      },
      {
        "duration": 13,
        "start_time": "2022-10-12T14:30:13.436Z"
      },
      {
        "duration": 9,
        "start_time": "2022-10-12T14:30:14.038Z"
      },
      {
        "duration": 16,
        "start_time": "2022-10-12T14:30:18.113Z"
      },
      {
        "duration": 7,
        "start_time": "2022-10-12T14:30:20.204Z"
      },
      {
        "duration": 6,
        "start_time": "2022-10-12T14:30:25.741Z"
      },
      {
        "duration": 10,
        "start_time": "2022-10-12T14:30:29.256Z"
      },
      {
        "duration": 5,
        "start_time": "2022-10-12T14:30:29.844Z"
      },
      {
        "duration": 5,
        "start_time": "2022-10-12T14:30:30.704Z"
      },
      {
        "duration": 4,
        "start_time": "2022-10-12T14:30:33.092Z"
      },
      {
        "duration": 6,
        "start_time": "2022-10-12T14:35:07.298Z"
      },
      {
        "duration": 8,
        "start_time": "2022-10-12T14:36:25.917Z"
      },
      {
        "duration": 10,
        "start_time": "2022-10-12T14:42:35.684Z"
      },
      {
        "duration": 6,
        "start_time": "2022-10-12T14:44:05.479Z"
      },
      {
        "duration": 10,
        "start_time": "2022-10-12T14:47:05.355Z"
      },
      {
        "duration": 13,
        "start_time": "2022-10-12T14:47:51.404Z"
      },
      {
        "duration": 10,
        "start_time": "2022-10-12T14:47:59.474Z"
      },
      {
        "duration": 11,
        "start_time": "2022-10-12T14:48:22.477Z"
      },
      {
        "duration": 10,
        "start_time": "2022-10-12T14:49:04.592Z"
      },
      {
        "duration": 9,
        "start_time": "2022-10-12T14:49:42.771Z"
      },
      {
        "duration": 4,
        "start_time": "2022-10-12T14:50:02.479Z"
      },
      {
        "duration": 7,
        "start_time": "2022-10-12T14:50:31.377Z"
      },
      {
        "duration": 11,
        "start_time": "2022-10-12T14:56:13.802Z"
      },
      {
        "duration": 7,
        "start_time": "2022-10-12T14:57:29.999Z"
      },
      {
        "duration": 8,
        "start_time": "2022-10-12T14:57:58.349Z"
      },
      {
        "duration": 7,
        "start_time": "2022-10-12T14:58:33.098Z"
      },
      {
        "duration": 7,
        "start_time": "2022-10-12T14:58:37.888Z"
      },
      {
        "duration": 4,
        "start_time": "2022-10-12T14:59:56.937Z"
      },
      {
        "duration": 7,
        "start_time": "2022-10-12T15:00:27.828Z"
      },
      {
        "duration": 9,
        "start_time": "2022-10-12T15:00:47.718Z"
      },
      {
        "duration": 13,
        "start_time": "2022-10-12T15:03:03.736Z"
      },
      {
        "duration": 2,
        "start_time": "2022-10-12T15:04:12.715Z"
      },
      {
        "duration": 82,
        "start_time": "2022-10-12T15:04:13.335Z"
      },
      {
        "duration": 2,
        "start_time": "2022-10-12T15:04:14.063Z"
      },
      {
        "duration": 13,
        "start_time": "2022-10-12T15:04:14.646Z"
      },
      {
        "duration": 2,
        "start_time": "2022-10-12T15:04:27.646Z"
      },
      {
        "duration": 86,
        "start_time": "2022-10-12T15:04:29.760Z"
      },
      {
        "duration": 41,
        "start_time": "2022-10-12T15:04:30.265Z"
      },
      {
        "duration": 12,
        "start_time": "2022-10-12T15:04:31.455Z"
      },
      {
        "duration": 1770,
        "start_time": "2022-10-12T15:04:32.835Z"
      },
      {
        "duration": 9,
        "start_time": "2022-10-12T15:04:36.224Z"
      },
      {
        "duration": 5,
        "start_time": "2022-10-12T15:04:36.902Z"
      },
      {
        "duration": 7,
        "start_time": "2022-10-12T15:04:37.923Z"
      },
      {
        "duration": 5,
        "start_time": "2022-10-12T15:04:38.435Z"
      },
      {
        "duration": 214,
        "start_time": "2022-10-12T15:04:38.956Z"
      },
      {
        "duration": 8,
        "start_time": "2022-10-12T15:04:40.024Z"
      },
      {
        "duration": 12,
        "start_time": "2022-10-12T15:04:41.635Z"
      },
      {
        "duration": 13,
        "start_time": "2022-10-12T15:04:43.024Z"
      },
      {
        "duration": 8,
        "start_time": "2022-10-12T15:04:43.555Z"
      },
      {
        "duration": 17,
        "start_time": "2022-10-12T15:04:44.085Z"
      },
      {
        "duration": 8,
        "start_time": "2022-10-12T15:04:44.629Z"
      },
      {
        "duration": 6,
        "start_time": "2022-10-12T15:04:45.606Z"
      },
      {
        "duration": 10,
        "start_time": "2022-10-12T15:04:46.144Z"
      },
      {
        "duration": 6,
        "start_time": "2022-10-12T15:04:46.601Z"
      },
      {
        "duration": 4,
        "start_time": "2022-10-12T15:04:47.346Z"
      },
      {
        "duration": 4,
        "start_time": "2022-10-12T15:04:47.675Z"
      },
      {
        "duration": 5,
        "start_time": "2022-10-12T15:04:48.175Z"
      },
      {
        "duration": 11,
        "start_time": "2022-10-12T15:04:48.725Z"
      },
      {
        "duration": 10,
        "start_time": "2022-10-12T15:04:49.775Z"
      },
      {
        "duration": 5,
        "start_time": "2022-10-12T15:04:50.805Z"
      },
      {
        "duration": 13,
        "start_time": "2022-10-12T15:04:51.307Z"
      },
      {
        "duration": 9,
        "start_time": "2022-10-12T15:04:52.346Z"
      },
      {
        "duration": 22,
        "start_time": "2022-10-12T15:06:03.380Z"
      },
      {
        "duration": 264,
        "start_time": "2022-10-12T15:06:08.134Z"
      },
      {
        "duration": 286,
        "start_time": "2022-10-12T15:06:08.902Z"
      },
      {
        "duration": 162,
        "start_time": "2022-10-12T15:06:13.984Z"
      },
      {
        "duration": 162,
        "start_time": "2022-10-12T15:06:15.246Z"
      },
      {
        "duration": 653,
        "start_time": "2022-10-12T15:06:16.294Z"
      },
      {
        "duration": 7,
        "start_time": "2022-10-12T15:06:16.950Z"
      },
      {
        "duration": 159,
        "start_time": "2022-10-12T15:06:18.363Z"
      },
      {
        "duration": 147,
        "start_time": "2022-10-12T15:06:19.424Z"
      },
      {
        "duration": 154,
        "start_time": "2022-10-12T15:06:20.394Z"
      },
      {
        "duration": 143,
        "start_time": "2022-10-12T15:06:21.314Z"
      },
      {
        "duration": 139,
        "start_time": "2022-10-12T15:06:22.285Z"
      },
      {
        "duration": 155,
        "start_time": "2022-10-12T15:06:23.784Z"
      },
      {
        "duration": 159,
        "start_time": "2022-10-12T15:06:24.634Z"
      },
      {
        "duration": 145,
        "start_time": "2022-10-12T15:06:25.635Z"
      },
      {
        "duration": 31,
        "start_time": "2022-10-12T15:06:27.103Z"
      },
      {
        "duration": 270,
        "start_time": "2022-10-12T15:06:28.539Z"
      },
      {
        "duration": 169,
        "start_time": "2022-10-12T15:13:32.434Z"
      },
      {
        "duration": 170,
        "start_time": "2022-10-12T15:14:43.303Z"
      },
      {
        "duration": 291,
        "start_time": "2022-10-12T15:15:27.501Z"
      },
      {
        "duration": 16,
        "start_time": "2022-10-12T15:16:11.369Z"
      },
      {
        "duration": 1668,
        "start_time": "2022-10-12T15:17:12.893Z"
      },
      {
        "duration": 173,
        "start_time": "2022-10-12T15:17:28.732Z"
      },
      {
        "duration": 170,
        "start_time": "2022-10-12T15:18:21.569Z"
      },
      {
        "duration": 182,
        "start_time": "2022-10-12T15:18:48.159Z"
      },
      {
        "duration": 181,
        "start_time": "2022-10-12T15:21:03.261Z"
      },
      {
        "duration": 1871,
        "start_time": "2022-10-12T15:21:46.818Z"
      },
      {
        "duration": 2699,
        "start_time": "2022-10-12T15:22:05.803Z"
      },
      {
        "duration": 169,
        "start_time": "2022-10-12T15:24:01.291Z"
      },
      {
        "duration": 421,
        "start_time": "2022-10-12T19:39:04.899Z"
      },
      {
        "duration": 118,
        "start_time": "2022-10-12T19:39:06.659Z"
      },
      {
        "duration": 49,
        "start_time": "2022-10-12T19:39:07.577Z"
      },
      {
        "duration": 14,
        "start_time": "2022-10-12T19:39:08.956Z"
      },
      {
        "duration": 2261,
        "start_time": "2022-10-12T19:39:13.116Z"
      },
      {
        "duration": 10,
        "start_time": "2022-10-12T19:39:17.335Z"
      },
      {
        "duration": 4,
        "start_time": "2022-10-12T19:39:19.596Z"
      },
      {
        "duration": 12,
        "start_time": "2022-10-12T19:39:21.636Z"
      },
      {
        "duration": 6,
        "start_time": "2022-10-12T19:39:22.289Z"
      },
      {
        "duration": 219,
        "start_time": "2022-10-12T19:39:23.036Z"
      },
      {
        "duration": 8,
        "start_time": "2022-10-12T19:39:24.487Z"
      },
      {
        "duration": 12,
        "start_time": "2022-10-12T19:39:26.425Z"
      },
      {
        "duration": 13,
        "start_time": "2022-10-12T19:39:28.528Z"
      },
      {
        "duration": 9,
        "start_time": "2022-10-12T19:39:29.210Z"
      },
      {
        "duration": 18,
        "start_time": "2022-10-12T19:39:29.799Z"
      },
      {
        "duration": 8,
        "start_time": "2022-10-12T19:39:30.504Z"
      },
      {
        "duration": 6,
        "start_time": "2022-10-12T19:39:31.914Z"
      },
      {
        "duration": 12,
        "start_time": "2022-10-12T19:39:32.548Z"
      },
      {
        "duration": 6,
        "start_time": "2022-10-12T19:39:33.185Z"
      },
      {
        "duration": 4,
        "start_time": "2022-10-12T19:39:33.769Z"
      },
      {
        "duration": 5,
        "start_time": "2022-10-12T19:39:34.428Z"
      },
      {
        "duration": 4,
        "start_time": "2022-10-12T19:39:35.014Z"
      },
      {
        "duration": 12,
        "start_time": "2022-10-12T19:39:35.671Z"
      },
      {
        "duration": 10,
        "start_time": "2022-10-12T19:39:36.927Z"
      },
      {
        "duration": 5,
        "start_time": "2022-10-12T19:39:38.114Z"
      },
      {
        "duration": 13,
        "start_time": "2022-10-12T19:39:38.699Z"
      },
      {
        "duration": 3,
        "start_time": "2022-10-12T19:39:40.059Z"
      },
      {
        "duration": 20,
        "start_time": "2022-10-12T19:39:45.650Z"
      },
      {
        "duration": 546,
        "start_time": "2022-10-12T19:40:47.721Z"
      },
      {
        "duration": 7,
        "start_time": "2022-10-12T19:40:54.698Z"
      },
      {
        "duration": 516,
        "start_time": "2022-10-12T19:41:05.678Z"
      },
      {
        "duration": 6,
        "start_time": "2022-10-12T19:41:08.963Z"
      },
      {
        "duration": 169,
        "start_time": "2022-10-12T19:41:27.319Z"
      },
      {
        "duration": 151,
        "start_time": "2022-10-12T19:41:28.574Z"
      },
      {
        "duration": 146,
        "start_time": "2022-10-12T19:41:29.800Z"
      },
      {
        "duration": 152,
        "start_time": "2022-10-12T19:41:30.801Z"
      },
      {
        "duration": 142,
        "start_time": "2022-10-12T19:41:31.899Z"
      },
      {
        "duration": 161,
        "start_time": "2022-10-12T19:41:33.537Z"
      },
      {
        "duration": 157,
        "start_time": "2022-10-12T19:41:34.492Z"
      },
      {
        "duration": 156,
        "start_time": "2022-10-12T19:41:35.403Z"
      },
      {
        "duration": 31,
        "start_time": "2022-10-12T19:41:36.863Z"
      },
      {
        "duration": 294,
        "start_time": "2022-10-12T19:41:42.063Z"
      },
      {
        "duration": 361,
        "start_time": "2022-10-12T19:57:50.199Z"
      },
      {
        "duration": 261,
        "start_time": "2022-10-12T19:58:00.865Z"
      },
      {
        "duration": 544,
        "start_time": "2022-10-12T19:59:48.702Z"
      },
      {
        "duration": 262,
        "start_time": "2022-10-12T19:59:55.895Z"
      },
      {
        "duration": 359,
        "start_time": "2022-10-12T20:00:05.000Z"
      },
      {
        "duration": 267,
        "start_time": "2022-10-12T20:01:08.231Z"
      },
      {
        "duration": 281,
        "start_time": "2022-10-12T20:01:25.885Z"
      },
      {
        "duration": 265,
        "start_time": "2022-10-12T20:03:08.545Z"
      },
      {
        "duration": 274,
        "start_time": "2022-10-12T20:03:10.795Z"
      },
      {
        "duration": 170,
        "start_time": "2022-10-12T20:03:14.433Z"
      },
      {
        "duration": 167,
        "start_time": "2022-10-12T20:03:50.280Z"
      },
      {
        "duration": 259,
        "start_time": "2022-10-12T20:04:18.147Z"
      },
      {
        "duration": 196,
        "start_time": "2022-10-12T20:05:07.451Z"
      },
      {
        "duration": 268,
        "start_time": "2022-10-12T20:05:32.124Z"
      },
      {
        "duration": 262,
        "start_time": "2022-10-12T20:05:55.264Z"
      },
      {
        "duration": 226,
        "start_time": "2022-10-12T20:06:18.912Z"
      },
      {
        "duration": 204,
        "start_time": "2022-10-12T20:06:43.689Z"
      },
      {
        "duration": 192,
        "start_time": "2022-10-12T20:06:50.969Z"
      },
      {
        "duration": 211,
        "start_time": "2022-10-12T20:07:13.457Z"
      },
      {
        "duration": 286,
        "start_time": "2022-10-12T20:07:28.989Z"
      },
      {
        "duration": 207,
        "start_time": "2022-10-12T20:07:37.336Z"
      },
      {
        "duration": 201,
        "start_time": "2022-10-12T20:07:59.486Z"
      },
      {
        "duration": 224,
        "start_time": "2022-10-12T20:08:08.734Z"
      },
      {
        "duration": 209,
        "start_time": "2022-10-12T20:08:15.356Z"
      },
      {
        "duration": 207,
        "start_time": "2022-10-12T20:08:19.856Z"
      },
      {
        "duration": 198,
        "start_time": "2022-10-12T20:09:35.526Z"
      },
      {
        "duration": 201,
        "start_time": "2022-10-12T20:09:41.010Z"
      },
      {
        "duration": 305,
        "start_time": "2022-10-12T20:09:46.779Z"
      },
      {
        "duration": 266,
        "start_time": "2022-10-12T20:10:14.593Z"
      },
      {
        "duration": 328,
        "start_time": "2022-10-12T20:10:22.392Z"
      },
      {
        "duration": 256,
        "start_time": "2022-10-12T20:11:10.015Z"
      },
      {
        "duration": 172,
        "start_time": "2022-10-12T20:11:14.452Z"
      },
      {
        "duration": 176,
        "start_time": "2022-10-12T20:11:27.695Z"
      },
      {
        "duration": 93,
        "start_time": "2022-10-12T20:12:02.817Z"
      },
      {
        "duration": 122,
        "start_time": "2022-10-12T20:14:26.154Z"
      },
      {
        "duration": 182,
        "start_time": "2022-10-12T20:15:11.492Z"
      },
      {
        "duration": 220,
        "start_time": "2022-10-12T20:16:18.551Z"
      },
      {
        "duration": 132,
        "start_time": "2022-10-12T20:18:08.738Z"
      },
      {
        "duration": 112,
        "start_time": "2022-10-12T20:19:32.142Z"
      },
      {
        "duration": 131,
        "start_time": "2022-10-12T20:20:51.366Z"
      },
      {
        "duration": 131,
        "start_time": "2022-10-12T20:21:54.150Z"
      },
      {
        "duration": 129,
        "start_time": "2022-10-12T20:22:35.034Z"
      },
      {
        "duration": 395,
        "start_time": "2022-10-13T16:48:15.471Z"
      },
      {
        "duration": 91,
        "start_time": "2022-10-13T16:48:15.869Z"
      },
      {
        "duration": 59,
        "start_time": "2022-10-13T16:48:15.962Z"
      },
      {
        "duration": 17,
        "start_time": "2022-10-13T16:48:16.024Z"
      },
      {
        "duration": 2326,
        "start_time": "2022-10-13T16:48:16.043Z"
      },
      {
        "duration": 11,
        "start_time": "2022-10-13T16:48:18.371Z"
      },
      {
        "duration": 26,
        "start_time": "2022-10-13T16:48:18.384Z"
      },
      {
        "duration": 43,
        "start_time": "2022-10-13T16:48:18.412Z"
      },
      {
        "duration": 20,
        "start_time": "2022-10-13T16:48:18.457Z"
      },
      {
        "duration": 247,
        "start_time": "2022-10-13T16:48:18.481Z"
      },
      {
        "duration": 9,
        "start_time": "2022-10-13T16:48:18.730Z"
      },
      {
        "duration": 29,
        "start_time": "2022-10-13T16:48:18.740Z"
      },
      {
        "duration": 30,
        "start_time": "2022-10-13T16:48:18.771Z"
      },
      {
        "duration": 20,
        "start_time": "2022-10-13T16:48:18.803Z"
      },
      {
        "duration": 45,
        "start_time": "2022-10-13T16:48:18.825Z"
      },
      {
        "duration": 41,
        "start_time": "2022-10-13T16:48:18.872Z"
      },
      {
        "duration": 30,
        "start_time": "2022-10-13T16:48:18.915Z"
      },
      {
        "duration": 28,
        "start_time": "2022-10-13T16:48:18.948Z"
      },
      {
        "duration": 58,
        "start_time": "2022-10-13T16:48:18.979Z"
      },
      {
        "duration": 31,
        "start_time": "2022-10-13T16:48:19.039Z"
      },
      {
        "duration": 28,
        "start_time": "2022-10-13T16:48:19.072Z"
      },
      {
        "duration": 22,
        "start_time": "2022-10-13T16:48:19.101Z"
      },
      {
        "duration": 32,
        "start_time": "2022-10-13T16:48:19.125Z"
      },
      {
        "duration": 10,
        "start_time": "2022-10-13T16:48:19.158Z"
      },
      {
        "duration": 24,
        "start_time": "2022-10-13T16:48:19.170Z"
      },
      {
        "duration": 47,
        "start_time": "2022-10-13T16:48:19.196Z"
      },
      {
        "duration": 3,
        "start_time": "2022-10-13T16:48:19.245Z"
      },
      {
        "duration": 41,
        "start_time": "2022-10-13T16:48:19.251Z"
      },
      {
        "duration": 325,
        "start_time": "2022-10-13T16:48:19.293Z"
      },
      {
        "duration": 335,
        "start_time": "2022-10-13T16:48:19.621Z"
      },
      {
        "duration": 202,
        "start_time": "2022-10-13T16:48:19.959Z"
      },
      {
        "duration": 210,
        "start_time": "2022-10-13T16:48:20.162Z"
      },
      {
        "duration": 333,
        "start_time": "2022-10-13T16:48:20.374Z"
      },
      {
        "duration": 296,
        "start_time": "2022-10-13T16:48:20.709Z"
      },
      {
        "duration": 207,
        "start_time": "2022-10-13T16:48:21.007Z"
      },
      {
        "duration": 147,
        "start_time": "2022-10-13T16:48:21.216Z"
      },
      {
        "duration": 211,
        "start_time": "2022-10-13T16:48:21.365Z"
      },
      {
        "duration": 190,
        "start_time": "2022-10-13T16:48:21.577Z"
      },
      {
        "duration": 180,
        "start_time": "2022-10-13T16:48:21.770Z"
      },
      {
        "duration": 134,
        "start_time": "2022-10-13T16:48:21.952Z"
      },
      {
        "duration": 161,
        "start_time": "2022-10-13T16:48:22.088Z"
      },
      {
        "duration": 156,
        "start_time": "2022-10-13T16:48:22.251Z"
      },
      {
        "duration": 636,
        "start_time": "2022-10-13T16:48:22.408Z"
      },
      {
        "duration": 7,
        "start_time": "2022-10-13T16:48:23.046Z"
      },
      {
        "duration": 201,
        "start_time": "2022-10-13T16:48:23.054Z"
      },
      {
        "duration": 184,
        "start_time": "2022-10-13T16:48:23.258Z"
      },
      {
        "duration": 169,
        "start_time": "2022-10-13T16:48:23.444Z"
      },
      {
        "duration": 170,
        "start_time": "2022-10-13T16:48:23.615Z"
      },
      {
        "duration": 185,
        "start_time": "2022-10-13T16:48:23.788Z"
      },
      {
        "duration": 171,
        "start_time": "2022-10-13T16:48:23.975Z"
      },
      {
        "duration": 192,
        "start_time": "2022-10-13T16:48:24.147Z"
      },
      {
        "duration": 180,
        "start_time": "2022-10-13T16:48:24.340Z"
      },
      {
        "duration": 27,
        "start_time": "2022-10-13T16:48:24.522Z"
      },
      {
        "duration": 427,
        "start_time": "2022-10-13T16:48:24.551Z"
      },
      {
        "duration": 17,
        "start_time": "2022-10-13T16:49:09.014Z"
      },
      {
        "duration": 87,
        "start_time": "2022-10-13T16:49:12.510Z"
      }
    ],
    "kernelspec": {
      "display_name": "Python 3 (ipykernel)",
      "language": "python",
      "name": "python3"
    },
    "language_info": {
      "codemirror_mode": {
        "name": "ipython",
        "version": 3
      },
      "file_extension": ".py",
      "mimetype": "text/x-python",
      "name": "python",
      "nbconvert_exporter": "python",
      "pygments_lexer": "ipython3",
      "version": "3.9.5"
    },
    "toc": {
      "base_numbering": 1,
      "nav_menu": {},
      "number_sections": true,
      "sideBar": true,
      "skip_h1_title": true,
      "title_cell": "Table of Contents",
      "title_sidebar": "Contents",
      "toc_cell": false,
      "toc_position": {},
      "toc_section_display": true,
      "toc_window_display": false
    },
    "colab": {
      "provenance": []
    }
  },
  "nbformat": 4,
  "nbformat_minor": 0
}