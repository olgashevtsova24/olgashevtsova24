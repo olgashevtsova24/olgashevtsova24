{
  "cells": [
    {
      "cell_type": "markdown",
      "metadata": {
        "id": "Q0oq3SRyxXYM"
      },
      "source": [
        "# Исследование данных о продажах игр.\n",
        "- Вы работаете в интернет-магазине «Стримчик», который продаёт по всему миру компьютерные игры. Из открытых источников доступны исторические данные о продажах игр, оценки пользователей и экспертов, жанры и платформы (например, Xbox или PlayStation).\n",
        "- Цель работы-выявить определяющие успешность игры закономерности, которые в дальнейшем помогут спланировать рекламные компании.\n",
        "- Задачи работы-нужно отработать принцип работы с данными, провести анализ данных, для выявления закономерностей между продажами и свойствами игр, определить какие игры выгодно продавать.\n",
        "- В наборе данных попадается аббревиатура ESRB (Entertainment Software Rating Board) — это ассоциация, определяющая возрастной рейтинг компьютерных игр. ESRB оценивает игровой контент и присваивает ему подходящую возрастную категорию.\n",
        "\n",
        "Описание данных:\n",
        "- Name — название игры\n",
        "- Platform — платформа\n",
        "- Year_of_Release — год выпуска\n",
        "- Genre — жанр игры\n",
        "- NA_sales — продажи в Северной Америке (миллионы проданных копий)\n",
        "- EU_sales — продажи в Европе (миллионы проданных копий)\n",
        "- JP_sales — продажи в Японии (миллионы проданных копий)\n",
        "- Other_sales — продажи в других странах (миллионы проданных копий)\n",
        "- Critic_Score — оценка критиков (максимум 100)\n",
        "- User_Score — оценка пользователей (максимум 10)\n",
        "- Rating — рейтинг от организации ESRB (англ. Entertainment Software Rating Board). Эта ассоциация определяет рейтинг компьютерных игр и присваивает им подходящую возрастную категорию.\n",
        "Данные за 2016 год могут быть неполными.\n",
        "\n",
        "План работы:\n",
        "- Открытие файла с данными и изучение общей информации\n",
        "- Подготовка данных\n",
        "- Исследовательский анализ данных\n",
        "- Составление портрета пользователя каждого региона\n",
        "- Проверка гипотез\n",
        "- Общий вывод"
      ]
    },
    {
      "cell_type": "code",
      "execution_count": null,
      "metadata": {
        "id": "u95QDlY1xXYO"
      },
      "outputs": [],
      "source": [
        "import pandas as pd\n",
        "import matplotlib.pyplot as plt"
      ]
    },
    {
      "cell_type": "markdown",
      "metadata": {
        "id": "jNYGda-WxXYQ"
      },
      "source": [
        "# Шаг 1. Открытие файла с данными и изучение общей информации"
      ]
    },
    {
      "cell_type": "code",
      "execution_count": null,
      "metadata": {
        "id": "k-y7QclcxXYR"
      },
      "outputs": [],
      "source": [
        "df= pd.read_csv(\"/datasets/games.csv\")"
      ]
    },
    {
      "cell_type": "code",
      "execution_count": null,
      "metadata": {
        "id": "BIsfmJG5xXYS",
        "outputId": "e2f6fee0-fc9f-41e2-f7d1-360ea12ee249"
      },
      "outputs": [
        {
          "data": {
            "text/html": [
              "<div>\n",
              "<style scoped>\n",
              "    .dataframe tbody tr th:only-of-type {\n",
              "        vertical-align: middle;\n",
              "    }\n",
              "\n",
              "    .dataframe tbody tr th {\n",
              "        vertical-align: top;\n",
              "    }\n",
              "\n",
              "    .dataframe thead th {\n",
              "        text-align: right;\n",
              "    }\n",
              "</style>\n",
              "<table border=\"1\" class=\"dataframe\">\n",
              "  <thead>\n",
              "    <tr style=\"text-align: right;\">\n",
              "      <th></th>\n",
              "      <th>Name</th>\n",
              "      <th>Platform</th>\n",
              "      <th>Year_of_Release</th>\n",
              "      <th>Genre</th>\n",
              "      <th>NA_sales</th>\n",
              "      <th>EU_sales</th>\n",
              "      <th>JP_sales</th>\n",
              "      <th>Other_sales</th>\n",
              "      <th>Critic_Score</th>\n",
              "      <th>User_Score</th>\n",
              "      <th>Rating</th>\n",
              "    </tr>\n",
              "  </thead>\n",
              "  <tbody>\n",
              "    <tr>\n",
              "      <th>0</th>\n",
              "      <td>Wii Sports</td>\n",
              "      <td>Wii</td>\n",
              "      <td>2006.0</td>\n",
              "      <td>Sports</td>\n",
              "      <td>41.36</td>\n",
              "      <td>28.96</td>\n",
              "      <td>3.77</td>\n",
              "      <td>8.45</td>\n",
              "      <td>76.0</td>\n",
              "      <td>8</td>\n",
              "      <td>E</td>\n",
              "    </tr>\n",
              "    <tr>\n",
              "      <th>1</th>\n",
              "      <td>Super Mario Bros.</td>\n",
              "      <td>NES</td>\n",
              "      <td>1985.0</td>\n",
              "      <td>Platform</td>\n",
              "      <td>29.08</td>\n",
              "      <td>3.58</td>\n",
              "      <td>6.81</td>\n",
              "      <td>0.77</td>\n",
              "      <td>NaN</td>\n",
              "      <td>NaN</td>\n",
              "      <td>NaN</td>\n",
              "    </tr>\n",
              "    <tr>\n",
              "      <th>2</th>\n",
              "      <td>Mario Kart Wii</td>\n",
              "      <td>Wii</td>\n",
              "      <td>2008.0</td>\n",
              "      <td>Racing</td>\n",
              "      <td>15.68</td>\n",
              "      <td>12.76</td>\n",
              "      <td>3.79</td>\n",
              "      <td>3.29</td>\n",
              "      <td>82.0</td>\n",
              "      <td>8.3</td>\n",
              "      <td>E</td>\n",
              "    </tr>\n",
              "    <tr>\n",
              "      <th>3</th>\n",
              "      <td>Wii Sports Resort</td>\n",
              "      <td>Wii</td>\n",
              "      <td>2009.0</td>\n",
              "      <td>Sports</td>\n",
              "      <td>15.61</td>\n",
              "      <td>10.93</td>\n",
              "      <td>3.28</td>\n",
              "      <td>2.95</td>\n",
              "      <td>80.0</td>\n",
              "      <td>8</td>\n",
              "      <td>E</td>\n",
              "    </tr>\n",
              "    <tr>\n",
              "      <th>4</th>\n",
              "      <td>Pokemon Red/Pokemon Blue</td>\n",
              "      <td>GB</td>\n",
              "      <td>1996.0</td>\n",
              "      <td>Role-Playing</td>\n",
              "      <td>11.27</td>\n",
              "      <td>8.89</td>\n",
              "      <td>10.22</td>\n",
              "      <td>1.00</td>\n",
              "      <td>NaN</td>\n",
              "      <td>NaN</td>\n",
              "      <td>NaN</td>\n",
              "    </tr>\n",
              "    <tr>\n",
              "      <th>...</th>\n",
              "      <td>...</td>\n",
              "      <td>...</td>\n",
              "      <td>...</td>\n",
              "      <td>...</td>\n",
              "      <td>...</td>\n",
              "      <td>...</td>\n",
              "      <td>...</td>\n",
              "      <td>...</td>\n",
              "      <td>...</td>\n",
              "      <td>...</td>\n",
              "      <td>...</td>\n",
              "    </tr>\n",
              "    <tr>\n",
              "      <th>16710</th>\n",
              "      <td>Samurai Warriors: Sanada Maru</td>\n",
              "      <td>PS3</td>\n",
              "      <td>2016.0</td>\n",
              "      <td>Action</td>\n",
              "      <td>0.00</td>\n",
              "      <td>0.00</td>\n",
              "      <td>0.01</td>\n",
              "      <td>0.00</td>\n",
              "      <td>NaN</td>\n",
              "      <td>NaN</td>\n",
              "      <td>NaN</td>\n",
              "    </tr>\n",
              "    <tr>\n",
              "      <th>16711</th>\n",
              "      <td>LMA Manager 2007</td>\n",
              "      <td>X360</td>\n",
              "      <td>2006.0</td>\n",
              "      <td>Sports</td>\n",
              "      <td>0.00</td>\n",
              "      <td>0.01</td>\n",
              "      <td>0.00</td>\n",
              "      <td>0.00</td>\n",
              "      <td>NaN</td>\n",
              "      <td>NaN</td>\n",
              "      <td>NaN</td>\n",
              "    </tr>\n",
              "    <tr>\n",
              "      <th>16712</th>\n",
              "      <td>Haitaka no Psychedelica</td>\n",
              "      <td>PSV</td>\n",
              "      <td>2016.0</td>\n",
              "      <td>Adventure</td>\n",
              "      <td>0.00</td>\n",
              "      <td>0.00</td>\n",
              "      <td>0.01</td>\n",
              "      <td>0.00</td>\n",
              "      <td>NaN</td>\n",
              "      <td>NaN</td>\n",
              "      <td>NaN</td>\n",
              "    </tr>\n",
              "    <tr>\n",
              "      <th>16713</th>\n",
              "      <td>Spirits &amp; Spells</td>\n",
              "      <td>GBA</td>\n",
              "      <td>2003.0</td>\n",
              "      <td>Platform</td>\n",
              "      <td>0.01</td>\n",
              "      <td>0.00</td>\n",
              "      <td>0.00</td>\n",
              "      <td>0.00</td>\n",
              "      <td>NaN</td>\n",
              "      <td>NaN</td>\n",
              "      <td>NaN</td>\n",
              "    </tr>\n",
              "    <tr>\n",
              "      <th>16714</th>\n",
              "      <td>Winning Post 8 2016</td>\n",
              "      <td>PSV</td>\n",
              "      <td>2016.0</td>\n",
              "      <td>Simulation</td>\n",
              "      <td>0.00</td>\n",
              "      <td>0.00</td>\n",
              "      <td>0.01</td>\n",
              "      <td>0.00</td>\n",
              "      <td>NaN</td>\n",
              "      <td>NaN</td>\n",
              "      <td>NaN</td>\n",
              "    </tr>\n",
              "  </tbody>\n",
              "</table>\n",
              "<p>16715 rows × 11 columns</p>\n",
              "</div>"
            ],
            "text/plain": [
              "                                Name Platform  Year_of_Release         Genre  \\\n",
              "0                         Wii Sports      Wii           2006.0        Sports   \n",
              "1                  Super Mario Bros.      NES           1985.0      Platform   \n",
              "2                     Mario Kart Wii      Wii           2008.0        Racing   \n",
              "3                  Wii Sports Resort      Wii           2009.0        Sports   \n",
              "4           Pokemon Red/Pokemon Blue       GB           1996.0  Role-Playing   \n",
              "...                              ...      ...              ...           ...   \n",
              "16710  Samurai Warriors: Sanada Maru      PS3           2016.0        Action   \n",
              "16711               LMA Manager 2007     X360           2006.0        Sports   \n",
              "16712        Haitaka no Psychedelica      PSV           2016.0     Adventure   \n",
              "16713               Spirits & Spells      GBA           2003.0      Platform   \n",
              "16714            Winning Post 8 2016      PSV           2016.0    Simulation   \n",
              "\n",
              "       NA_sales  EU_sales  JP_sales  Other_sales  Critic_Score User_Score  \\\n",
              "0         41.36     28.96      3.77         8.45          76.0          8   \n",
              "1         29.08      3.58      6.81         0.77           NaN        NaN   \n",
              "2         15.68     12.76      3.79         3.29          82.0        8.3   \n",
              "3         15.61     10.93      3.28         2.95          80.0          8   \n",
              "4         11.27      8.89     10.22         1.00           NaN        NaN   \n",
              "...         ...       ...       ...          ...           ...        ...   \n",
              "16710      0.00      0.00      0.01         0.00           NaN        NaN   \n",
              "16711      0.00      0.01      0.00         0.00           NaN        NaN   \n",
              "16712      0.00      0.00      0.01         0.00           NaN        NaN   \n",
              "16713      0.01      0.00      0.00         0.00           NaN        NaN   \n",
              "16714      0.00      0.00      0.01         0.00           NaN        NaN   \n",
              "\n",
              "      Rating  \n",
              "0          E  \n",
              "1        NaN  \n",
              "2          E  \n",
              "3          E  \n",
              "4        NaN  \n",
              "...      ...  \n",
              "16710    NaN  \n",
              "16711    NaN  \n",
              "16712    NaN  \n",
              "16713    NaN  \n",
              "16714    NaN  \n",
              "\n",
              "[16715 rows x 11 columns]"
            ]
          },
          "execution_count": 169,
          "metadata": {},
          "output_type": "execute_result"
        }
      ],
      "source": [
        "df"
      ]
    },
    {
      "cell_type": "code",
      "execution_count": null,
      "metadata": {
        "id": "t0x-Adj3xXYT",
        "outputId": "2a2489be-bd42-4dfa-f395-30b4c90619cc"
      },
      "outputs": [
        {
          "name": "stdout",
          "output_type": "stream",
          "text": [
            "<class 'pandas.core.frame.DataFrame'>\n",
            "RangeIndex: 16715 entries, 0 to 16714\n",
            "Data columns (total 11 columns):\n",
            " #   Column           Non-Null Count  Dtype  \n",
            "---  ------           --------------  -----  \n",
            " 0   Name             16713 non-null  object \n",
            " 1   Platform         16715 non-null  object \n",
            " 2   Year_of_Release  16446 non-null  float64\n",
            " 3   Genre            16713 non-null  object \n",
            " 4   NA_sales         16715 non-null  float64\n",
            " 5   EU_sales         16715 non-null  float64\n",
            " 6   JP_sales         16715 non-null  float64\n",
            " 7   Other_sales      16715 non-null  float64\n",
            " 8   Critic_Score     8137 non-null   float64\n",
            " 9   User_Score       10014 non-null  object \n",
            " 10  Rating           9949 non-null   object \n",
            "dtypes: float64(6), object(5)\n",
            "memory usage: 1.4+ MB\n"
          ]
        }
      ],
      "source": [
        "df.info()"
      ]
    },
    {
      "cell_type": "markdown",
      "metadata": {
        "id": "j8tzv20IxXYU"
      },
      "source": [
        "# Шаг 2. Подготовка данных"
      ]
    },
    {
      "cell_type": "code",
      "execution_count": null,
      "metadata": {
        "id": "prKzA_32xXYV"
      },
      "outputs": [],
      "source": [
        "df.columns = df.columns.str.lower()"
      ]
    },
    {
      "cell_type": "code",
      "execution_count": null,
      "metadata": {
        "id": "bmjAV62QxXYV",
        "outputId": "76e86d73-e925-4e63-f5e0-d5d2ba7933a6"
      },
      "outputs": [
        {
          "data": {
            "text/html": [
              "<div>\n",
              "<style scoped>\n",
              "    .dataframe tbody tr th:only-of-type {\n",
              "        vertical-align: middle;\n",
              "    }\n",
              "\n",
              "    .dataframe tbody tr th {\n",
              "        vertical-align: top;\n",
              "    }\n",
              "\n",
              "    .dataframe thead th {\n",
              "        text-align: right;\n",
              "    }\n",
              "</style>\n",
              "<table border=\"1\" class=\"dataframe\">\n",
              "  <thead>\n",
              "    <tr style=\"text-align: right;\">\n",
              "      <th></th>\n",
              "      <th>name</th>\n",
              "      <th>platform</th>\n",
              "      <th>year_of_release</th>\n",
              "      <th>genre</th>\n",
              "      <th>na_sales</th>\n",
              "      <th>eu_sales</th>\n",
              "      <th>jp_sales</th>\n",
              "      <th>other_sales</th>\n",
              "      <th>critic_score</th>\n",
              "      <th>user_score</th>\n",
              "      <th>rating</th>\n",
              "    </tr>\n",
              "  </thead>\n",
              "  <tbody>\n",
              "    <tr>\n",
              "      <th>0</th>\n",
              "      <td>Wii Sports</td>\n",
              "      <td>Wii</td>\n",
              "      <td>2006.0</td>\n",
              "      <td>Sports</td>\n",
              "      <td>41.36</td>\n",
              "      <td>28.96</td>\n",
              "      <td>3.77</td>\n",
              "      <td>8.45</td>\n",
              "      <td>76.0</td>\n",
              "      <td>8</td>\n",
              "      <td>E</td>\n",
              "    </tr>\n",
              "    <tr>\n",
              "      <th>1</th>\n",
              "      <td>Super Mario Bros.</td>\n",
              "      <td>NES</td>\n",
              "      <td>1985.0</td>\n",
              "      <td>Platform</td>\n",
              "      <td>29.08</td>\n",
              "      <td>3.58</td>\n",
              "      <td>6.81</td>\n",
              "      <td>0.77</td>\n",
              "      <td>NaN</td>\n",
              "      <td>NaN</td>\n",
              "      <td>NaN</td>\n",
              "    </tr>\n",
              "    <tr>\n",
              "      <th>2</th>\n",
              "      <td>Mario Kart Wii</td>\n",
              "      <td>Wii</td>\n",
              "      <td>2008.0</td>\n",
              "      <td>Racing</td>\n",
              "      <td>15.68</td>\n",
              "      <td>12.76</td>\n",
              "      <td>3.79</td>\n",
              "      <td>3.29</td>\n",
              "      <td>82.0</td>\n",
              "      <td>8.3</td>\n",
              "      <td>E</td>\n",
              "    </tr>\n",
              "    <tr>\n",
              "      <th>3</th>\n",
              "      <td>Wii Sports Resort</td>\n",
              "      <td>Wii</td>\n",
              "      <td>2009.0</td>\n",
              "      <td>Sports</td>\n",
              "      <td>15.61</td>\n",
              "      <td>10.93</td>\n",
              "      <td>3.28</td>\n",
              "      <td>2.95</td>\n",
              "      <td>80.0</td>\n",
              "      <td>8</td>\n",
              "      <td>E</td>\n",
              "    </tr>\n",
              "    <tr>\n",
              "      <th>4</th>\n",
              "      <td>Pokemon Red/Pokemon Blue</td>\n",
              "      <td>GB</td>\n",
              "      <td>1996.0</td>\n",
              "      <td>Role-Playing</td>\n",
              "      <td>11.27</td>\n",
              "      <td>8.89</td>\n",
              "      <td>10.22</td>\n",
              "      <td>1.00</td>\n",
              "      <td>NaN</td>\n",
              "      <td>NaN</td>\n",
              "      <td>NaN</td>\n",
              "    </tr>\n",
              "    <tr>\n",
              "      <th>...</th>\n",
              "      <td>...</td>\n",
              "      <td>...</td>\n",
              "      <td>...</td>\n",
              "      <td>...</td>\n",
              "      <td>...</td>\n",
              "      <td>...</td>\n",
              "      <td>...</td>\n",
              "      <td>...</td>\n",
              "      <td>...</td>\n",
              "      <td>...</td>\n",
              "      <td>...</td>\n",
              "    </tr>\n",
              "    <tr>\n",
              "      <th>16710</th>\n",
              "      <td>Samurai Warriors: Sanada Maru</td>\n",
              "      <td>PS3</td>\n",
              "      <td>2016.0</td>\n",
              "      <td>Action</td>\n",
              "      <td>0.00</td>\n",
              "      <td>0.00</td>\n",
              "      <td>0.01</td>\n",
              "      <td>0.00</td>\n",
              "      <td>NaN</td>\n",
              "      <td>NaN</td>\n",
              "      <td>NaN</td>\n",
              "    </tr>\n",
              "    <tr>\n",
              "      <th>16711</th>\n",
              "      <td>LMA Manager 2007</td>\n",
              "      <td>X360</td>\n",
              "      <td>2006.0</td>\n",
              "      <td>Sports</td>\n",
              "      <td>0.00</td>\n",
              "      <td>0.01</td>\n",
              "      <td>0.00</td>\n",
              "      <td>0.00</td>\n",
              "      <td>NaN</td>\n",
              "      <td>NaN</td>\n",
              "      <td>NaN</td>\n",
              "    </tr>\n",
              "    <tr>\n",
              "      <th>16712</th>\n",
              "      <td>Haitaka no Psychedelica</td>\n",
              "      <td>PSV</td>\n",
              "      <td>2016.0</td>\n",
              "      <td>Adventure</td>\n",
              "      <td>0.00</td>\n",
              "      <td>0.00</td>\n",
              "      <td>0.01</td>\n",
              "      <td>0.00</td>\n",
              "      <td>NaN</td>\n",
              "      <td>NaN</td>\n",
              "      <td>NaN</td>\n",
              "    </tr>\n",
              "    <tr>\n",
              "      <th>16713</th>\n",
              "      <td>Spirits &amp; Spells</td>\n",
              "      <td>GBA</td>\n",
              "      <td>2003.0</td>\n",
              "      <td>Platform</td>\n",
              "      <td>0.01</td>\n",
              "      <td>0.00</td>\n",
              "      <td>0.00</td>\n",
              "      <td>0.00</td>\n",
              "      <td>NaN</td>\n",
              "      <td>NaN</td>\n",
              "      <td>NaN</td>\n",
              "    </tr>\n",
              "    <tr>\n",
              "      <th>16714</th>\n",
              "      <td>Winning Post 8 2016</td>\n",
              "      <td>PSV</td>\n",
              "      <td>2016.0</td>\n",
              "      <td>Simulation</td>\n",
              "      <td>0.00</td>\n",
              "      <td>0.00</td>\n",
              "      <td>0.01</td>\n",
              "      <td>0.00</td>\n",
              "      <td>NaN</td>\n",
              "      <td>NaN</td>\n",
              "      <td>NaN</td>\n",
              "    </tr>\n",
              "  </tbody>\n",
              "</table>\n",
              "<p>16715 rows × 11 columns</p>\n",
              "</div>"
            ],
            "text/plain": [
              "                                name platform  year_of_release         genre  \\\n",
              "0                         Wii Sports      Wii           2006.0        Sports   \n",
              "1                  Super Mario Bros.      NES           1985.0      Platform   \n",
              "2                     Mario Kart Wii      Wii           2008.0        Racing   \n",
              "3                  Wii Sports Resort      Wii           2009.0        Sports   \n",
              "4           Pokemon Red/Pokemon Blue       GB           1996.0  Role-Playing   \n",
              "...                              ...      ...              ...           ...   \n",
              "16710  Samurai Warriors: Sanada Maru      PS3           2016.0        Action   \n",
              "16711               LMA Manager 2007     X360           2006.0        Sports   \n",
              "16712        Haitaka no Psychedelica      PSV           2016.0     Adventure   \n",
              "16713               Spirits & Spells      GBA           2003.0      Platform   \n",
              "16714            Winning Post 8 2016      PSV           2016.0    Simulation   \n",
              "\n",
              "       na_sales  eu_sales  jp_sales  other_sales  critic_score user_score  \\\n",
              "0         41.36     28.96      3.77         8.45          76.0          8   \n",
              "1         29.08      3.58      6.81         0.77           NaN        NaN   \n",
              "2         15.68     12.76      3.79         3.29          82.0        8.3   \n",
              "3         15.61     10.93      3.28         2.95          80.0          8   \n",
              "4         11.27      8.89     10.22         1.00           NaN        NaN   \n",
              "...         ...       ...       ...          ...           ...        ...   \n",
              "16710      0.00      0.00      0.01         0.00           NaN        NaN   \n",
              "16711      0.00      0.01      0.00         0.00           NaN        NaN   \n",
              "16712      0.00      0.00      0.01         0.00           NaN        NaN   \n",
              "16713      0.01      0.00      0.00         0.00           NaN        NaN   \n",
              "16714      0.00      0.00      0.01         0.00           NaN        NaN   \n",
              "\n",
              "      rating  \n",
              "0          E  \n",
              "1        NaN  \n",
              "2          E  \n",
              "3          E  \n",
              "4        NaN  \n",
              "...      ...  \n",
              "16710    NaN  \n",
              "16711    NaN  \n",
              "16712    NaN  \n",
              "16713    NaN  \n",
              "16714    NaN  \n",
              "\n",
              "[16715 rows x 11 columns]"
            ]
          },
          "execution_count": 172,
          "metadata": {},
          "output_type": "execute_result"
        }
      ],
      "source": [
        "df"
      ]
    },
    {
      "cell_type": "markdown",
      "metadata": {
        "id": "o_ansNUwxXYW"
      },
      "source": [
        "Необходимо привести значения в столбцах year_of_release и user_score к типам данных int и float, для удобства дальнейшего анализа и из логических соображений."
      ]
    },
    {
      "cell_type": "code",
      "execution_count": null,
      "metadata": {
        "id": "2fBORelJxXYW"
      },
      "outputs": [],
      "source": [
        "df['user_score'] = pd.to_numeric(df['user_score'] , errors='coerce')\n",
        "df['year_of_release'] = df['year_of_release'].fillna(pd.NA)\n",
        "df['year_of_release'] = df['year_of_release'].astype('Int64')"
      ]
    },
    {
      "cell_type": "markdown",
      "metadata": {
        "id": "SgCRZOYlxXYX"
      },
      "source": [
        "Значения \"tbd\" были заменены на NAN для удобности в анализе, предположительно аббревиатура означает \"to be defined\"."
      ]
    },
    {
      "cell_type": "code",
      "execution_count": null,
      "metadata": {
        "id": "CYmPu-lbxXYX",
        "outputId": "13892654-1ffd-44e1-c3d1-9de38c40c807"
      },
      "outputs": [
        {
          "name": "stdout",
          "output_type": "stream",
          "text": [
            "<class 'pandas.core.frame.DataFrame'>\n",
            "RangeIndex: 16715 entries, 0 to 16714\n",
            "Data columns (total 11 columns):\n",
            " #   Column           Non-Null Count  Dtype  \n",
            "---  ------           --------------  -----  \n",
            " 0   name             16713 non-null  object \n",
            " 1   platform         16715 non-null  object \n",
            " 2   year_of_release  16446 non-null  Int64  \n",
            " 3   genre            16713 non-null  object \n",
            " 4   na_sales         16715 non-null  float64\n",
            " 5   eu_sales         16715 non-null  float64\n",
            " 6   jp_sales         16715 non-null  float64\n",
            " 7   other_sales      16715 non-null  float64\n",
            " 8   critic_score     8137 non-null   float64\n",
            " 9   user_score       7590 non-null   float64\n",
            " 10  rating           9949 non-null   object \n",
            "dtypes: Int64(1), float64(6), object(4)\n",
            "memory usage: 1.4+ MB\n"
          ]
        }
      ],
      "source": [
        "df.info()"
      ]
    },
    {
      "cell_type": "code",
      "execution_count": null,
      "metadata": {
        "id": "TxtHfyjlxXYY",
        "outputId": "a1f3461e-829d-4f13-f36a-e5f81da33709"
      },
      "outputs": [
        {
          "data": {
            "text/plain": [
              "name                  2\n",
              "platform              0\n",
              "year_of_release     269\n",
              "genre                 2\n",
              "na_sales              0\n",
              "eu_sales              0\n",
              "jp_sales              0\n",
              "other_sales           0\n",
              "critic_score       8578\n",
              "user_score         9125\n",
              "rating             6766\n",
              "dtype: int64"
            ]
          },
          "execution_count": 175,
          "metadata": {},
          "output_type": "execute_result"
        }
      ],
      "source": [
        "df.isna().sum()"
      ]
    },
    {
      "cell_type": "markdown",
      "metadata": {
        "id": "lCwn13b7xXYZ"
      },
      "source": [
        "В имеющихся данных пропущенные значения мы можем заменить только в столбцах name и genre, замена пропусков( или их удаление) приведет к неполноте анализа данных."
      ]
    },
    {
      "cell_type": "code",
      "execution_count": null,
      "metadata": {
        "id": "Yjk9wWrxxXYZ"
      },
      "outputs": [],
      "source": [
        "df[\"name\"]=df[\"name\"].fillna(\" \")\n",
        "df[\"genre\"]=df[\"genre\"].fillna(\" \")"
      ]
    },
    {
      "cell_type": "code",
      "execution_count": null,
      "metadata": {
        "id": "-YImKM_9xXYZ",
        "outputId": "947e138e-980e-4a1a-ab8d-082e2a48713b"
      },
      "outputs": [
        {
          "data": {
            "text/plain": [
              "name                  0\n",
              "platform              0\n",
              "year_of_release     269\n",
              "genre                 0\n",
              "na_sales              0\n",
              "eu_sales              0\n",
              "jp_sales              0\n",
              "other_sales           0\n",
              "critic_score       8578\n",
              "user_score         9125\n",
              "rating             6766\n",
              "dtype: int64"
            ]
          },
          "execution_count": 177,
          "metadata": {},
          "output_type": "execute_result"
        }
      ],
      "source": [
        "df.isna().sum()"
      ]
    },
    {
      "cell_type": "code",
      "execution_count": null,
      "metadata": {
        "id": "n6GMW2OtxXYa",
        "outputId": "a2dec58c-04df-48f3-a006-f85af39b2e9a"
      },
      "outputs": [
        {
          "data": {
            "text/plain": [
              "0"
            ]
          },
          "execution_count": 178,
          "metadata": {},
          "output_type": "execute_result"
        }
      ],
      "source": [
        "df.duplicated().sum()"
      ]
    },
    {
      "cell_type": "code",
      "execution_count": null,
      "metadata": {
        "id": "4Y1QX_PcxXYb"
      },
      "outputs": [],
      "source": [
        "df[\"rating\"]=df[\"rating\"].fillna(\"undefined\")"
      ]
    },
    {
      "cell_type": "markdown",
      "metadata": {
        "id": "rTc2v4HOxXYb"
      },
      "source": [
        "К пропускам могли привести такие причины, как невнимательность, отсутствие данных, технические ошибки при создании данных."
      ]
    },
    {
      "cell_type": "code",
      "execution_count": null,
      "metadata": {
        "id": "IqVY9EonxXYe"
      },
      "outputs": [],
      "source": [
        "df[\"sales\"]=df[\"na_sales\"]+df[\"eu_sales\"]+df[\"jp_sales\"]+df['other_sales']"
      ]
    },
    {
      "cell_type": "markdown",
      "metadata": {
        "id": "xkXZxlJ6xXYf"
      },
      "source": [
        "# Шаг 3. Исследовательский анализ данных"
      ]
    },
    {
      "cell_type": "code",
      "execution_count": null,
      "metadata": {
        "id": "5YjWkAIHxXYf",
        "outputId": "9a07fac6-e7d0-42e8-8e04-f741cf54d3f7"
      },
      "outputs": [
        {
          "data": {
            "text/plain": [
              "<AxesSubplot:>"
            ]
          },
          "execution_count": 181,
          "metadata": {},
          "output_type": "execute_result"
        },
        {
          "data": {
            "image/png": "[encoded data removed]",
            "text/plain": [
              "<Figure size 432x288 with 1 Axes>"
            ]
          },
          "metadata": {
            "needs_background": "light"
          },
          "output_type": "display_data"
        }
      ],
      "source": [
        "df[\"year_of_release\"].hist()"
      ]
    },
    {
      "cell_type": "markdown",
      "metadata": {
        "id": "-YWqEZDexXYg"
      },
      "source": [
        "По графику можно наблюдать подъем продаж игр после 1990, а затем спад после 2010 года"
      ]
    },
    {
      "cell_type": "code",
      "execution_count": null,
      "metadata": {
        "id": "ffcbhJwYxXYg",
        "outputId": "9d841847-916c-48e4-b4b6-ddb233aa2034"
      },
      "outputs": [
        {
          "data": {
            "text/plain": [
              "<AxesSubplot:xlabel='platform'>"
            ]
          },
          "execution_count": 182,
          "metadata": {},
          "output_type": "execute_result"
        },
        {
          "data": {
            "image/png": "[encoded data removed]",
            "text/plain": [
              "<Figure size 1440x576 with 1 Axes>"
            ]
          },
          "metadata": {
            "needs_background": "light"
          },
          "output_type": "display_data"
        }
      ],
      "source": [
        "data=df.pivot_table(index = 'platform', values = \"sales\"  , aggfunc = 'sum')\n",
        "data = data.sort_values(by='sales')\n",
        "data.plot(kind=\"bar\",figsize=(20,8))"
      ]
    },
    {
      "cell_type": "markdown",
      "metadata": {
        "id": "W_UHXWV2xXY_"
      },
      "source": [
        "По графику видно, что топ 5 платформ- Wii, DS, PS2, PS3, X360."
      ]
    },
    {
      "cell_type": "code",
      "execution_count": null,
      "metadata": {
        "id": "GJWhMqjlxXZA",
        "outputId": "4922cc74-0c8b-49e9-e9f5-90163bc02d90"
      },
      "outputs": [
        {
          "data": {
            "text/plain": [
              "platform\n",
              "Wii    AxesSubplot(0.125,0.125;0.775x0.755)\n",
              "Name: year_of_release, dtype: object"
            ]
          },
          "execution_count": 183,
          "metadata": {},
          "output_type": "execute_result"
        },
        {
          "data": {
            "image/png": "[encoded data removed]",
            "text/plain": [
              "<Figure size 432x288 with 1 Axes>"
            ]
          },
          "metadata": {
            "needs_background": "light"
          },
          "output_type": "display_data"
        }
      ],
      "source": [
        "data=df.loc[df[\"platform\"]==\"Wii\"]\n",
        "data.groupby(\"platform\")[\"year_of_release\"].hist()"
      ]
    },
    {
      "cell_type": "code",
      "execution_count": null,
      "metadata": {
        "id": "0JyAYzLFxXZA",
        "outputId": "606436d8-7684-44da-836e-9c247eca0272"
      },
      "outputs": [
        {
          "data": {
            "text/plain": [
              "platform\n",
              "DS    AxesSubplot(0.125,0.125;0.775x0.755)\n",
              "Name: year_of_release, dtype: object"
            ]
          },
          "execution_count": 184,
          "metadata": {},
          "output_type": "execute_result"
        },
        {
          "data": {
            "image/png": "[encoded data removed]",
            "text/plain": [
              "<Figure size 1800x576 with 1 Axes>"
            ]
          },
          "metadata": {
            "needs_background": "light"
          },
          "output_type": "display_data"
        }
      ],
      "source": [
        "data=df.loc[df[\"platform\"]==\"DS\"]\n",
        "data.groupby(\"platform\")[\"year_of_release\"].plot(kind=\"hist\", x=\"year_of_release\", figsize=(25,8))\n",
        "#возможно, график имеет странную форму из-за недостатка данных в таблице с 1985 по 2005,\n",
        "#но это никак не повлияет на дальнейший анализ, так как мы будем брать данны с 2013 года, которые представленны в таблице"
      ]
    },
    {
      "cell_type": "code",
      "execution_count": null,
      "metadata": {
        "id": "_N0_kPPkxXZB",
        "outputId": "60060fb6-2225-46e8-a0ac-55fd622c4a66"
      },
      "outputs": [
        {
          "data": {
            "text/plain": [
              "<IntegerArray>\n",
              "[2006, 2005, 2010, 2009, 2004, 2007, 2012, 2008, 2011, <NA>, 2013, 1985]\n",
              "Length: 12, dtype: Int64"
            ]
          },
          "execution_count": 195,
          "metadata": {},
          "output_type": "execute_result"
        }
      ],
      "source": [
        "data=df.loc[df[\"platform\"]==\"DS\"]\n",
        "data[\"year_of_release\"].unique()"
      ]
    },
    {
      "cell_type": "code",
      "execution_count": null,
      "metadata": {
        "id": "M_D3PZDdxXZC",
        "outputId": "86d02ed6-d851-4dbd-d1e8-593d91af5f7a"
      },
      "outputs": [
        {
          "data": {
            "text/html": [
              "<div>\n",
              "<style scoped>\n",
              "    .dataframe tbody tr th:only-of-type {\n",
              "        vertical-align: middle;\n",
              "    }\n",
              "\n",
              "    .dataframe tbody tr th {\n",
              "        vertical-align: top;\n",
              "    }\n",
              "\n",
              "    .dataframe thead th {\n",
              "        text-align: right;\n",
              "    }\n",
              "</style>\n",
              "<table border=\"1\" class=\"dataframe\">\n",
              "  <thead>\n",
              "    <tr style=\"text-align: right;\">\n",
              "      <th></th>\n",
              "      <th>name</th>\n",
              "      <th>platform</th>\n",
              "      <th>year_of_release</th>\n",
              "      <th>genre</th>\n",
              "      <th>na_sales</th>\n",
              "      <th>eu_sales</th>\n",
              "      <th>jp_sales</th>\n",
              "      <th>other_sales</th>\n",
              "      <th>critic_score</th>\n",
              "      <th>user_score</th>\n",
              "      <th>rating</th>\n",
              "      <th>sales</th>\n",
              "    </tr>\n",
              "  </thead>\n",
              "  <tbody>\n",
              "    <tr>\n",
              "      <th>15957</th>\n",
              "      <td>Strongest Tokyo University Shogi DS</td>\n",
              "      <td>DS</td>\n",
              "      <td>1985</td>\n",
              "      <td>Action</td>\n",
              "      <td>0.0</td>\n",
              "      <td>0.0</td>\n",
              "      <td>0.02</td>\n",
              "      <td>0.0</td>\n",
              "      <td>NaN</td>\n",
              "      <td>NaN</td>\n",
              "      <td>undefined</td>\n",
              "      <td>0.02</td>\n",
              "    </tr>\n",
              "  </tbody>\n",
              "</table>\n",
              "</div>"
            ],
            "text/plain": [
              "                                      name platform  year_of_release   genre  \\\n",
              "15957  Strongest Tokyo University Shogi DS       DS             1985  Action   \n",
              "\n",
              "       na_sales  eu_sales  jp_sales  other_sales  critic_score  user_score  \\\n",
              "15957       0.0       0.0      0.02          0.0           NaN         NaN   \n",
              "\n",
              "          rating  sales  \n",
              "15957  undefined   0.02  "
            ]
          },
          "execution_count": 196,
          "metadata": {},
          "output_type": "execute_result"
        }
      ],
      "source": [
        "data[data[\"year_of_release\"]==1985]"
      ]
    },
    {
      "cell_type": "markdown",
      "metadata": {
        "id": "3dWPe_nrxXZD"
      },
      "source": [
        "Платформа была выпущена в 1985 году, закончила жизнь в 2013 году, кроме того имеет данные без установленного года, можно предположить, что это могут быть за период с 1985 по 2004, но это не точно, заполнить эти данные мы не можем, так как нет точной уверенности,что они именно за этот период. В принципе можно удалить значение для 1985 годаи построить график не учитывая это значение."
      ]
    },
    {
      "cell_type": "code",
      "execution_count": null,
      "metadata": {
        "id": "PIbwMOqqxXZE",
        "outputId": "ceec8166-0eb6-401f-baed-8a4c8b2e990e"
      },
      "outputs": [
        {
          "data": {
            "text/plain": [
              "platform\n",
              "DS    AxesSubplot(0.125,0.125;0.775x0.755)\n",
              "Name: year_of_release, dtype: object"
            ]
          },
          "execution_count": 201,
          "metadata": {},
          "output_type": "execute_result"
        },
        {
          "data": {
            "image/png": "[encoded data removed]",
            "text/plain": [
              "<Figure size 1800x576 with 1 Axes>"
            ]
          },
          "metadata": {
            "needs_background": "light"
          },
          "output_type": "display_data"
        }
      ],
      "source": [
        "data=df.loc[df[\"platform\"]==\"DS\"]\n",
        "data=data[data[\"year_of_release\"]!=1985]\n",
        "data.groupby(\"platform\")[\"year_of_release\"].plot(kind=\"hist\", x=\"year_of_release\", figsize=(25,8))"
      ]
    },
    {
      "cell_type": "code",
      "execution_count": null,
      "metadata": {
        "id": "FSVngH_bxXZF",
        "outputId": "3f7a6bd3-b18e-4085-f29b-12ef08bace8c"
      },
      "outputs": [
        {
          "data": {
            "text/plain": [
              "platform\n",
              "PS2    AxesSubplot(0.125,0.125;0.775x0.755)\n",
              "Name: year_of_release, dtype: object"
            ]
          },
          "execution_count": 67,
          "metadata": {},
          "output_type": "execute_result"
        },
        {
          "data": {
            "image/png": "[encoded data removed]",
            "text/plain": [
              "<Figure size 432x288 with 1 Axes>"
            ]
          },
          "metadata": {
            "needs_background": "light"
          },
          "output_type": "display_data"
        }
      ],
      "source": [
        "data=df.loc[df[\"platform\"]==\"PS2\"]\n",
        "data.groupby(\"platform\")[\"year_of_release\"].hist()"
      ]
    },
    {
      "cell_type": "code",
      "execution_count": null,
      "metadata": {
        "id": "o0qyN0K1xXZG",
        "outputId": "0679b3f4-cbbb-4b77-e8fb-261e5d0aa7b9"
      },
      "outputs": [
        {
          "data": {
            "text/plain": [
              "platform\n",
              "PS3    AxesSubplot(0.125,0.125;0.775x0.755)\n",
              "Name: year_of_release, dtype: object"
            ]
          },
          "execution_count": 68,
          "metadata": {},
          "output_type": "execute_result"
        },
        {
          "data": {
            "image/png": "[encoded data removed]",
            "text/plain": [
              "<Figure size 432x288 with 1 Axes>"
            ]
          },
          "metadata": {
            "needs_background": "light"
          },
          "output_type": "display_data"
        }
      ],
      "source": [
        "data=df.loc[df[\"platform\"]==\"PS3\"]\n",
        "data.groupby(\"platform\")[\"year_of_release\"].hist()"
      ]
    },
    {
      "cell_type": "code",
      "execution_count": null,
      "metadata": {
        "id": "o969ViepxXZH",
        "outputId": "cf37112f-642b-4531-f12f-f2aab0b0b9a3"
      },
      "outputs": [
        {
          "data": {
            "text/plain": [
              "platform\n",
              "X360    AxesSubplot(0.125,0.125;0.775x0.755)\n",
              "Name: year_of_release, dtype: object"
            ]
          },
          "execution_count": 69,
          "metadata": {},
          "output_type": "execute_result"
        },
        {
          "data": {
            "image/png": "[encoded data removed]",
            "text/plain": [
              "<Figure size 432x288 with 1 Axes>"
            ]
          },
          "metadata": {
            "needs_background": "light"
          },
          "output_type": "display_data"
        }
      ],
      "source": [
        "data=df.loc[df[\"platform\"]==\"X360\"]\n",
        "data.groupby(\"platform\")[\"year_of_release\"].hist()"
      ]
    },
    {
      "cell_type": "markdown",
      "metadata": {
        "id": "udqbc_m5xXZH"
      },
      "source": [
        "Средняя продолжительность жизни платформ составляет около 10 лет, однако, так как спад популярности платформы происходит примерно за 3 года, поэтому возьмем данные за последние 3 лет для последующего анализа."
      ]
    },
    {
      "cell_type": "code",
      "execution_count": null,
      "metadata": {
        "id": "ReCvaJkDxXZI"
      },
      "outputs": [],
      "source": [
        "df=df.loc[df[\"year_of_release\"]>=2013]"
      ]
    },
    {
      "cell_type": "code",
      "execution_count": null,
      "metadata": {
        "id": "5ktOuTg9xXZI",
        "outputId": "c6bef0a2-1dde-4ac1-9831-4055b6199458"
      },
      "outputs": [
        {
          "data": {
            "text/plain": [
              "array(['PS3', 'X360', 'PS4', '3DS', 'XOne', 'WiiU', 'Wii', 'PC', 'PSV',\n",
              "       'DS', 'PSP'], dtype=object)"
            ]
          },
          "execution_count": 71,
          "metadata": {},
          "output_type": "execute_result"
        }
      ],
      "source": [
        "df[\"platform\"].unique()"
      ]
    },
    {
      "cell_type": "code",
      "execution_count": null,
      "metadata": {
        "id": "VuhKFMF5xXZJ",
        "outputId": "d3966029-fd48-44e1-f08e-8741b3e03437"
      },
      "outputs": [
        {
          "data": {
            "text/plain": [
              "<AxesSubplot:xlabel='year_of_release'>"
            ]
          },
          "execution_count": 72,
          "metadata": {},
          "output_type": "execute_result"
        },
        {
          "data": {
            "image/png": "[encoded data removed]",
            "text/plain": [
              "<Figure size 432x288 with 1 Axes>"
            ]
          },
          "metadata": {
            "needs_background": "light"
          },
          "output_type": "display_data"
        }
      ],
      "source": [
        "data=df.loc[df[\"platform\"]==\"Wii\"]\n",
        "data=data.pivot_table(index='year_of_release', values='sales', aggfunc='sum')\n",
        "data.plot()"
      ]
    },
    {
      "cell_type": "code",
      "execution_count": null,
      "metadata": {
        "id": "dM2iinUpxXZJ",
        "outputId": "c419929d-8fbf-426b-d215-c0dc23ab9724"
      },
      "outputs": [
        {
          "data": {
            "text/html": [
              "<div>\n",
              "<style scoped>\n",
              "    .dataframe tbody tr th:only-of-type {\n",
              "        vertical-align: middle;\n",
              "    }\n",
              "\n",
              "    .dataframe tbody tr th {\n",
              "        vertical-align: top;\n",
              "    }\n",
              "\n",
              "    .dataframe thead th {\n",
              "        text-align: right;\n",
              "    }\n",
              "</style>\n",
              "<table border=\"1\" class=\"dataframe\">\n",
              "  <thead>\n",
              "    <tr style=\"text-align: right;\">\n",
              "      <th></th>\n",
              "      <th>sales</th>\n",
              "    </tr>\n",
              "    <tr>\n",
              "      <th>year_of_release</th>\n",
              "      <th></th>\n",
              "    </tr>\n",
              "  </thead>\n",
              "  <tbody>\n",
              "    <tr>\n",
              "      <th>2013</th>\n",
              "      <td>1.54</td>\n",
              "    </tr>\n",
              "  </tbody>\n",
              "</table>\n",
              "</div>"
            ],
            "text/plain": [
              "                 sales\n",
              "year_of_release       \n",
              "2013              1.54"
            ]
          },
          "execution_count": 73,
          "metadata": {},
          "output_type": "execute_result"
        }
      ],
      "source": [
        "data=df.loc[df[\"platform\"]==\"DS\"]\n",
        "data=data.pivot_table(index='year_of_release', values='sales', aggfunc='sum')\n",
        "data"
      ]
    },
    {
      "cell_type": "code",
      "execution_count": null,
      "metadata": {
        "id": "z_q5RZuZxXZJ",
        "outputId": "b351b5c4-d95e-4646-899c-3a457c23af1f"
      },
      "outputs": [
        {
          "data": {
            "text/plain": [
              "<AxesSubplot:xlabel='year_of_release'>"
            ]
          },
          "execution_count": 74,
          "metadata": {},
          "output_type": "execute_result"
        },
        {
          "data": {
            "image/png": "[encoded data removed]",
            "text/plain": [
              "<Figure size 432x288 with 1 Axes>"
            ]
          },
          "metadata": {
            "needs_background": "light"
          },
          "output_type": "display_data"
        }
      ],
      "source": [
        "data=df.loc[df[\"platform\"]==\"X360\"]\n",
        "data=data.pivot_table(index='year_of_release', values='sales', aggfunc='sum')\n",
        "data.plot()"
      ]
    },
    {
      "cell_type": "code",
      "execution_count": null,
      "metadata": {
        "id": "m4eA0cu-xXZK",
        "outputId": "3a4a0214-e3aa-4bc4-e9a8-130e9b7c7bf0"
      },
      "outputs": [
        {
          "data": {
            "text/plain": [
              "<AxesSubplot:xlabel='year_of_release'>"
            ]
          },
          "execution_count": 75,
          "metadata": {},
          "output_type": "execute_result"
        },
        {
          "data": {
            "image/png": "[encoded data removed]",
            "text/plain": [
              "<Figure size 432x288 with 1 Axes>"
            ]
          },
          "metadata": {
            "needs_background": "light"
          },
          "output_type": "display_data"
        }
      ],
      "source": [
        "data=df.loc[df[\"platform\"]==\"PS3\"]\n",
        "data=data.pivot_table(index='year_of_release', values='sales', aggfunc='sum')\n",
        "data.plot()"
      ]
    },
    {
      "cell_type": "code",
      "execution_count": null,
      "metadata": {
        "id": "I1KtXQ5XxXZK",
        "outputId": "07c29ac4-6269-4631-f2a6-4ba29dab7627"
      },
      "outputs": [
        {
          "data": {
            "text/plain": [
              "<AxesSubplot:xlabel='year_of_release'>"
            ]
          },
          "execution_count": 76,
          "metadata": {},
          "output_type": "execute_result"
        },
        {
          "data": {
            "image/png": "[encoded data removed]",
            "text/plain": [
              "<Figure size 432x288 with 1 Axes>"
            ]
          },
          "metadata": {
            "needs_background": "light"
          },
          "output_type": "display_data"
        }
      ],
      "source": [
        "data=df.loc[df[\"platform\"]==\"PS4\"]\n",
        "data=data.pivot_table(index='year_of_release', values='sales', aggfunc='sum')\n",
        "data.plot()"
      ]
    },
    {
      "cell_type": "code",
      "execution_count": null,
      "metadata": {
        "id": "iAZB8THPxXZL",
        "outputId": "a48557d2-93e6-4160-9816-692a24da3d41"
      },
      "outputs": [
        {
          "data": {
            "text/plain": [
              "<AxesSubplot:xlabel='year_of_release'>"
            ]
          },
          "execution_count": 77,
          "metadata": {},
          "output_type": "execute_result"
        },
        {
          "data": {
            "image/png": "[encoded data removed]",
            "text/plain": [
              "<Figure size 432x288 with 1 Axes>"
            ]
          },
          "metadata": {
            "needs_background": "light"
          },
          "output_type": "display_data"
        }
      ],
      "source": [
        "data=df.loc[df[\"platform\"]==\"3DS\"]\n",
        "data=data.pivot_table(index='year_of_release', values='sales', aggfunc='sum')\n",
        "data.plot()"
      ]
    },
    {
      "cell_type": "code",
      "execution_count": null,
      "metadata": {
        "id": "DfUbPzGtxXZL",
        "outputId": "d033f949-0e8d-4c00-dc69-c4caab3b602a"
      },
      "outputs": [
        {
          "data": {
            "text/plain": [
              "<AxesSubplot:xlabel='year_of_release'>"
            ]
          },
          "execution_count": 78,
          "metadata": {},
          "output_type": "execute_result"
        },
        {
          "data": {
            "image/png": "[encoded data removed]",
            "text/plain": [
              "<Figure size 432x288 with 1 Axes>"
            ]
          },
          "metadata": {
            "needs_background": "light"
          },
          "output_type": "display_data"
        }
      ],
      "source": [
        "data=df.loc[df[\"platform\"]==\"PC\"]\n",
        "data=data.pivot_table(index='year_of_release', values='sales', aggfunc='sum')\n",
        "data.plot()"
      ]
    },
    {
      "cell_type": "code",
      "execution_count": null,
      "metadata": {
        "id": "w10cKl-JxXZL",
        "outputId": "6a4b9a62-1872-4ea5-bce4-a58c8c29856d"
      },
      "outputs": [
        {
          "data": {
            "text/plain": [
              "<AxesSubplot:xlabel='year_of_release'>"
            ]
          },
          "execution_count": 79,
          "metadata": {},
          "output_type": "execute_result"
        },
        {
          "data": {
            "image/png": "[encoded data removed]",
            "text/plain": [
              "<Figure size 432x288 with 1 Axes>"
            ]
          },
          "metadata": {
            "needs_background": "light"
          },
          "output_type": "display_data"
        }
      ],
      "source": [
        "data=df.loc[df[\"platform\"]==\"XOne\"]\n",
        "data=data.pivot_table(index='year_of_release', values='sales', aggfunc='sum')\n",
        "data.plot()"
      ]
    },
    {
      "cell_type": "code",
      "execution_count": null,
      "metadata": {
        "id": "Tk2bbxh4xXZL",
        "outputId": "f19a4820-bcee-4a2c-811a-b49b1c0e8a36"
      },
      "outputs": [
        {
          "data": {
            "text/plain": [
              "<AxesSubplot:xlabel='year_of_release'>"
            ]
          },
          "execution_count": 80,
          "metadata": {},
          "output_type": "execute_result"
        },
        {
          "data": {
            "image/png": "[encoded data removed]",
            "text/plain": [
              "<Figure size 432x288 with 1 Axes>"
            ]
          },
          "metadata": {
            "needs_background": "light"
          },
          "output_type": "display_data"
        }
      ],
      "source": [
        "data=df.loc[df[\"platform\"]==\"WiiU\"]\n",
        "data=data.pivot_table(index='year_of_release', values='sales', aggfunc='sum')\n",
        "data.plot()"
      ]
    },
    {
      "cell_type": "code",
      "execution_count": null,
      "metadata": {
        "id": "2hQC7paMxXZM",
        "outputId": "abaaf963-006f-4a33-dd50-153a62aa8d82"
      },
      "outputs": [
        {
          "data": {
            "text/plain": [
              "<AxesSubplot:xlabel='year_of_release'>"
            ]
          },
          "execution_count": 81,
          "metadata": {},
          "output_type": "execute_result"
        },
        {
          "data": {
            "image/png": "[encoded data removed]",
            "text/plain": [
              "<Figure size 432x288 with 1 Axes>"
            ]
          },
          "metadata": {
            "needs_background": "light"
          },
          "output_type": "display_data"
        }
      ],
      "source": [
        "data=df.loc[df[\"platform\"]==\"PSP\"]\n",
        "data=data.pivot_table(index='year_of_release', values='sales', aggfunc='sum')\n",
        "data.plot()"
      ]
    },
    {
      "cell_type": "code",
      "execution_count": null,
      "metadata": {
        "id": "MIYmutq6xXZM",
        "outputId": "f606299a-28e6-4307-fa2d-b5129ce0befd"
      },
      "outputs": [
        {
          "data": {
            "text/plain": [
              "<AxesSubplot:xlabel='year_of_release'>"
            ]
          },
          "execution_count": 82,
          "metadata": {},
          "output_type": "execute_result"
        },
        {
          "data": {
            "image/png": "[encoded data removed]",
            "text/plain": [
              "<Figure size 432x288 with 1 Axes>"
            ]
          },
          "metadata": {
            "needs_background": "light"
          },
          "output_type": "display_data"
        }
      ],
      "source": [
        "data=df.loc[df[\"platform\"]==\"PSV\"]\n",
        "data=data.pivot_table(index='year_of_release', values='sales', aggfunc='sum')\n",
        "data.plot()"
      ]
    },
    {
      "cell_type": "markdown",
      "metadata": {
        "id": "BFBJ5oqLxXZN"
      },
      "source": [
        "По полученным графикам видно, что по продажам лидируют такие платформы как PS4, XOne и 3DC."
      ]
    },
    {
      "cell_type": "code",
      "execution_count": null,
      "metadata": {
        "id": "ItZXEoBuxXZN",
        "outputId": "0897cdf3-2bd5-45ef-82f9-2c55380a091c"
      },
      "outputs": [
        {
          "data": {
            "text/plain": [
              "count    23.000000\n",
              "mean      0.593913\n",
              "std       0.915432\n",
              "min       0.010000\n",
              "25%       0.045000\n",
              "50%       0.180000\n",
              "75%       0.755000\n",
              "max       3.580000\n",
              "Name: sales, dtype: float64"
            ]
          },
          "execution_count": 83,
          "metadata": {},
          "output_type": "execute_result"
        },
        {
          "data": {
            "image/png": "[encoded data removed]",
            "text/plain": [
              "<Figure size 432x288 with 1 Axes>"
            ]
          },
          "metadata": {
            "needs_background": "light"
          },
          "output_type": "display_data"
        }
      ],
      "source": [
        "data=df.loc[df[\"platform\"]==\"Wii\"]\n",
        "plt.boxplot(x=data['sales'])\n",
        "data[\"sales\"].describe()"
      ]
    },
    {
      "cell_type": "code",
      "execution_count": null,
      "metadata": {
        "id": "6ipPsV_exXZN",
        "outputId": "0d72840d-e633-4300-fc93-630da0597c81"
      },
      "outputs": [
        {
          "data": {
            "text/plain": [
              "<AxesSubplot:>"
            ]
          },
          "execution_count": 84,
          "metadata": {},
          "output_type": "execute_result"
        },
        {
          "data": {
            "image/png": "[encoded data removed]",
            "text/plain": [
              "<Figure size 432x288 with 1 Axes>"
            ]
          },
          "metadata": {
            "needs_background": "light"
          },
          "output_type": "display_data"
        }
      ],
      "source": [
        "data=df.loc[df[\"platform\"]==\"Wii\"]\n",
        "Q1 = data['sales'].quantile(0.25)\n",
        "Q3 = data['sales'].quantile(0.75)\n",
        "data1 = data[(data['sales'] > Q1) & (data['sales'] < Q3)]\n",
        "data1.boxplot(column=\"sales\")"
      ]
    },
    {
      "cell_type": "code",
      "execution_count": null,
      "metadata": {
        "id": "j3ySOlELxXZO",
        "outputId": "01274087-aa26-4742-8882-33bc88b7f99f"
      },
      "outputs": [
        {
          "data": {
            "text/plain": [
              "count    8.000000\n",
              "mean     0.192500\n",
              "std      0.172026\n",
              "min      0.030000\n",
              "25%      0.067500\n",
              "50%      0.150000\n",
              "75%      0.252500\n",
              "max      0.510000\n",
              "Name: sales, dtype: float64"
            ]
          },
          "execution_count": 85,
          "metadata": {},
          "output_type": "execute_result"
        },
        {
          "data": {
            "image/png": "[encoded data removed]",
            "text/plain": [
              "<Figure size 432x288 with 1 Axes>"
            ]
          },
          "metadata": {
            "needs_background": "light"
          },
          "output_type": "display_data"
        }
      ],
      "source": [
        "data=df.loc[df[\"platform\"]==\"DS\"]\n",
        "plt.boxplot(x=data['sales'])\n",
        "data[\"sales\"].describe()"
      ]
    },
    {
      "cell_type": "code",
      "execution_count": null,
      "metadata": {
        "id": "im6EmaekxXZO",
        "outputId": "c41c882f-d17e-498b-e7e3-ebe43fd0b152"
      },
      "outputs": [
        {
          "data": {
            "text/plain": [
              "<AxesSubplot:>"
            ]
          },
          "execution_count": 86,
          "metadata": {},
          "output_type": "execute_result"
        },
        {
          "data": {
            "image/png": "[encoded data removed]",
            "text/plain": [
              "<Figure size 432x288 with 1 Axes>"
            ]
          },
          "metadata": {
            "needs_background": "light"
          },
          "output_type": "display_data"
        }
      ],
      "source": [
        "data=df.loc[df[\"platform\"]==\"DS\"]\n",
        "Q1 = data['sales'].quantile(0.25)\n",
        "Q3 = data['sales'].quantile(0.75)\n",
        "data1 = data[(data['sales'] > Q1) & (data['sales'] < Q3)]\n",
        "data1.boxplot(column=\"sales\")"
      ]
    },
    {
      "cell_type": "code",
      "execution_count": null,
      "metadata": {
        "id": "ak75Ep8uxXZO",
        "outputId": "40303118-853e-425c-bc43-13df3fdd6d02"
      },
      "outputs": [
        {
          "data": {
            "text/plain": [
              "count    186.000000\n",
              "mean       0.735484\n",
              "std        1.663275\n",
              "min        0.010000\n",
              "25%        0.080000\n",
              "50%        0.265000\n",
              "75%        0.795000\n",
              "max       16.270000\n",
              "Name: sales, dtype: float64"
            ]
          },
          "execution_count": 87,
          "metadata": {},
          "output_type": "execute_result"
        },
        {
          "data": {
            "image/png": "[encoded data removed]",
            "text/plain": [
              "<Figure size 432x288 with 1 Axes>"
            ]
          },
          "metadata": {
            "needs_background": "light"
          },
          "output_type": "display_data"
        }
      ],
      "source": [
        "data=df.loc[df[\"platform\"]==\"X360\"]\n",
        "plt.boxplot(x=data['sales'])\n",
        "data[\"sales\"].describe()"
      ]
    },
    {
      "cell_type": "code",
      "execution_count": null,
      "metadata": {
        "id": "x3KuNY65xXZO",
        "outputId": "87ddf644-4000-4621-8fab-3e211c250a87"
      },
      "outputs": [
        {
          "data": {
            "text/plain": [
              "<AxesSubplot:>"
            ]
          },
          "execution_count": 88,
          "metadata": {},
          "output_type": "execute_result"
        },
        {
          "data": {
            "image/png": "[encoded data removed]",
            "text/plain": [
              "<Figure size 432x288 with 1 Axes>"
            ]
          },
          "metadata": {
            "needs_background": "light"
          },
          "output_type": "display_data"
        }
      ],
      "source": [
        "data=df.loc[df[\"platform\"]==\"X360\"]\n",
        "Q1 = data['sales'].quantile(0.25)\n",
        "Q3 = data['sales'].quantile(0.75)\n",
        "data1 = data[(data['sales'] > Q1) & (data['sales'] < Q3)]\n",
        "data1.boxplot(column=\"sales\")"
      ]
    },
    {
      "cell_type": "code",
      "execution_count": null,
      "metadata": {
        "id": "ETUOOO4gxXZP",
        "outputId": "ab76b22f-f34b-486c-dae0-0fb1e286f02a"
      },
      "outputs": [
        {
          "data": {
            "text/plain": [
              "count    345.000000\n",
              "mean       0.525884\n",
              "std        1.451939\n",
              "min        0.010000\n",
              "25%        0.040000\n",
              "50%        0.150000\n",
              "75%        0.510000\n",
              "max       21.050000\n",
              "Name: sales, dtype: float64"
            ]
          },
          "execution_count": 89,
          "metadata": {},
          "output_type": "execute_result"
        },
        {
          "data": {
            "image/png": "[encoded data removed]",
            "text/plain": [
              "<Figure size 432x288 with 1 Axes>"
            ]
          },
          "metadata": {
            "needs_background": "light"
          },
          "output_type": "display_data"
        }
      ],
      "source": [
        "data=df.loc[df[\"platform\"]==\"PS3\"]\n",
        "plt.boxplot(x=data['sales'])\n",
        "data[\"sales\"].describe()"
      ]
    },
    {
      "cell_type": "code",
      "execution_count": null,
      "metadata": {
        "id": "CPFLijfUxXZP",
        "outputId": "67282471-ca58-4104-8aae-e003837773e0"
      },
      "outputs": [
        {
          "data": {
            "text/plain": [
              "<AxesSubplot:>"
            ]
          },
          "execution_count": 90,
          "metadata": {},
          "output_type": "execute_result"
        },
        {
          "data": {
            "image/png": "[encoded data removed]",
            "text/plain": [
              "<Figure size 432x288 with 1 Axes>"
            ]
          },
          "metadata": {
            "needs_background": "light"
          },
          "output_type": "display_data"
        }
      ],
      "source": [
        "data=df.loc[df[\"platform\"]==\"PS3\"]\n",
        "Q1 = data['sales'].quantile(0.25)\n",
        "Q3 = data['sales'].quantile(0.75)\n",
        "data1 = data[(data['sales'] > Q1) & (data['sales'] < Q3)]\n",
        "data1.boxplot(column=\"sales\")"
      ]
    },
    {
      "cell_type": "code",
      "execution_count": null,
      "metadata": {
        "id": "9EKYoPXfxXZP",
        "outputId": "b045e2ae-0967-4567-82c4-d6a05db6a886"
      },
      "outputs": [
        {
          "data": {
            "text/plain": [
              "count    392.000000\n",
              "mean       0.801378\n",
              "std        1.609456\n",
              "min        0.010000\n",
              "25%        0.060000\n",
              "50%        0.200000\n",
              "75%        0.730000\n",
              "max       14.630000\n",
              "Name: sales, dtype: float64"
            ]
          },
          "execution_count": 91,
          "metadata": {},
          "output_type": "execute_result"
        },
        {
          "data": {
            "image/png": "[encoded data removed]",
            "text/plain": [
              "<Figure size 432x288 with 1 Axes>"
            ]
          },
          "metadata": {
            "needs_background": "light"
          },
          "output_type": "display_data"
        }
      ],
      "source": [
        "data=df.loc[df[\"platform\"]==\"PS4\"]\n",
        "plt.boxplot(x=data['sales'])\n",
        "data[\"sales\"].describe()"
      ]
    },
    {
      "cell_type": "code",
      "execution_count": null,
      "metadata": {
        "id": "FFT2g3rPxXZQ",
        "outputId": "d2434ec7-59fe-449d-f13b-4ec31a040fa2"
      },
      "outputs": [
        {
          "data": {
            "text/plain": [
              "<AxesSubplot:>"
            ]
          },
          "execution_count": 92,
          "metadata": {},
          "output_type": "execute_result"
        },
        {
          "data": {
            "image/png": "[encoded data removed]",
            "text/plain": [
              "<Figure size 432x288 with 1 Axes>"
            ]
          },
          "metadata": {
            "needs_background": "light"
          },
          "output_type": "display_data"
        }
      ],
      "source": [
        "data=df.loc[df[\"platform\"]==\"PS4\"]\n",
        "Q1 = data['sales'].quantile(0.25)\n",
        "Q3 = data['sales'].quantile(0.75)\n",
        "data1 = data[(data['sales'] > Q1) & (data['sales'] < Q3)]\n",
        "data1.boxplot(column=\"sales\")"
      ]
    },
    {
      "cell_type": "code",
      "execution_count": null,
      "metadata": {
        "id": "3g_1tVjhxXZQ",
        "outputId": "6d6eaea4-9681-4e11-82fa-9e3dda19ebd0"
      },
      "outputs": [
        {
          "data": {
            "text/plain": [
              "count    303.000000\n",
              "mean       0.472772\n",
              "std        1.381347\n",
              "min        0.010000\n",
              "25%        0.040000\n",
              "50%        0.090000\n",
              "75%        0.280000\n",
              "max       14.600000\n",
              "Name: sales, dtype: float64"
            ]
          },
          "execution_count": 93,
          "metadata": {},
          "output_type": "execute_result"
        },
        {
          "data": {
            "image/png": "[encoded data removed]",
            "text/plain": [
              "<Figure size 432x288 with 1 Axes>"
            ]
          },
          "metadata": {
            "needs_background": "light"
          },
          "output_type": "display_data"
        }
      ],
      "source": [
        "data=df.loc[df[\"platform\"]==\"3DS\"]\n",
        "plt.boxplot(x=data['sales'])\n",
        "data[\"sales\"].describe()"
      ]
    },
    {
      "cell_type": "code",
      "execution_count": null,
      "metadata": {
        "id": "37jqhtXGxXZQ",
        "outputId": "edc5f73b-1ae9-4301-8895-6c44d99a45a3"
      },
      "outputs": [
        {
          "data": {
            "text/plain": [
              "<AxesSubplot:>"
            ]
          },
          "execution_count": 94,
          "metadata": {},
          "output_type": "execute_result"
        },
        {
          "data": {
            "image/png": "[encoded data removed]",
            "text/plain": [
              "<Figure size 432x288 with 1 Axes>"
            ]
          },
          "metadata": {
            "needs_background": "light"
          },
          "output_type": "display_data"
        }
      ],
      "source": [
        "data=df.loc[df[\"platform\"]==\"3DS\"]\n",
        "Q1 = data['sales'].quantile(0.25)\n",
        "Q3 = data['sales'].quantile(0.75)\n",
        "data1 = data[(data['sales'] > Q1) & (data['sales'] < Q3)]\n",
        "data1.boxplot(column=\"sales\")"
      ]
    },
    {
      "cell_type": "code",
      "execution_count": null,
      "metadata": {
        "id": "hnnCr2VYxXZR",
        "outputId": "3f719ef0-8de1-4578-bdbc-7473755ebe4f"
      },
      "outputs": [
        {
          "data": {
            "text/plain": [
              "count    189.000000\n",
              "mean       0.208624\n",
              "std        0.352304\n",
              "min        0.010000\n",
              "25%        0.030000\n",
              "50%        0.080000\n",
              "75%        0.230000\n",
              "max        3.050000\n",
              "Name: sales, dtype: float64"
            ]
          },
          "execution_count": 95,
          "metadata": {},
          "output_type": "execute_result"
        },
        {
          "data": {
            "image/png": "[encoded data removed]",
            "text/plain": [
              "<Figure size 432x288 with 1 Axes>"
            ]
          },
          "metadata": {
            "needs_background": "light"
          },
          "output_type": "display_data"
        }
      ],
      "source": [
        "data=df.loc[df[\"platform\"]==\"PC\"]\n",
        "plt.boxplot(x=data['sales'])\n",
        "data[\"sales\"].describe()"
      ]
    },
    {
      "cell_type": "code",
      "execution_count": null,
      "metadata": {
        "id": "HNdtgsKKxXZR",
        "outputId": "652f901b-5ace-4663-ee85-4eed22285655"
      },
      "outputs": [
        {
          "data": {
            "text/plain": [
              "<AxesSubplot:>"
            ]
          },
          "execution_count": 96,
          "metadata": {},
          "output_type": "execute_result"
        },
        {
          "data": {
            "image/png": "[encoded data removed]",
            "text/plain": [
              "<Figure size 432x288 with 1 Axes>"
            ]
          },
          "metadata": {
            "needs_background": "light"
          },
          "output_type": "display_data"
        }
      ],
      "source": [
        "data=df.loc[df[\"platform\"]==\"PC\"]\n",
        "Q1 = data['sales'].quantile(0.25)\n",
        "Q3 = data['sales'].quantile(0.75)\n",
        "data1 = data[(data['sales'] > Q1) & (data['sales'] < Q3)]\n",
        "data1.boxplot(column=\"sales\")"
      ]
    },
    {
      "cell_type": "code",
      "execution_count": null,
      "metadata": {
        "id": "vvjtbxgHxXZR",
        "outputId": "8b4b8be3-36d7-4d78-fb92-1ad2f1331ee8"
      },
      "outputs": [
        {
          "data": {
            "text/plain": [
              "count    247.000000\n",
              "mean       0.645020\n",
              "std        1.036139\n",
              "min        0.010000\n",
              "25%        0.060000\n",
              "50%        0.220000\n",
              "75%        0.685000\n",
              "max        7.390000\n",
              "Name: sales, dtype: float64"
            ]
          },
          "execution_count": 97,
          "metadata": {},
          "output_type": "execute_result"
        },
        {
          "data": {
            "image/png": "[encoded data removed]",
            "text/plain": [
              "<Figure size 432x288 with 1 Axes>"
            ]
          },
          "metadata": {
            "needs_background": "light"
          },
          "output_type": "display_data"
        }
      ],
      "source": [
        "data=df.loc[df[\"platform\"]==\"XOne\"]\n",
        "plt.boxplot(x=data['sales'])\n",
        "data[\"sales\"].describe()"
      ]
    },
    {
      "cell_type": "code",
      "execution_count": null,
      "metadata": {
        "id": "Bb24xFHJxXZS",
        "outputId": "e2fb8b7a-3539-40fc-b7a0-757a10e3a901"
      },
      "outputs": [
        {
          "data": {
            "text/plain": [
              "<AxesSubplot:>"
            ]
          },
          "execution_count": 98,
          "metadata": {},
          "output_type": "execute_result"
        },
        {
          "data": {
            "image/png": "[encoded data removed]",
            "text/plain": [
              "<Figure size 432x288 with 1 Axes>"
            ]
          },
          "metadata": {
            "needs_background": "light"
          },
          "output_type": "display_data"
        }
      ],
      "source": [
        "data=df.loc[df[\"platform\"]==\"XOne\"]\n",
        "Q1 = data['sales'].quantile(0.25)\n",
        "Q3 = data['sales'].quantile(0.75)\n",
        "data1 = data[(data['sales'] > Q1) & (data['sales'] < Q3)]\n",
        "data1.boxplot(column=\"sales\")"
      ]
    },
    {
      "cell_type": "code",
      "execution_count": null,
      "metadata": {
        "id": "HTYfN1OPxXZS",
        "outputId": "d11e770a-cec8-46f7-b99d-6e4ae97efebe"
      },
      "outputs": [
        {
          "data": {
            "text/plain": [
              "count    115.000000\n",
              "mean       0.562000\n",
              "std        1.038778\n",
              "min        0.010000\n",
              "25%        0.060000\n",
              "50%        0.200000\n",
              "75%        0.595000\n",
              "max        7.090000\n",
              "Name: sales, dtype: float64"
            ]
          },
          "execution_count": 99,
          "metadata": {},
          "output_type": "execute_result"
        },
        {
          "data": {
            "image/png": "[encoded data removed]",
            "text/plain": [
              "<Figure size 432x288 with 1 Axes>"
            ]
          },
          "metadata": {
            "needs_background": "light"
          },
          "output_type": "display_data"
        }
      ],
      "source": [
        "data=df.loc[df[\"platform\"]==\"WiiU\"]\n",
        "plt.boxplot(x=data['sales'])\n",
        "data[\"sales\"].describe()"
      ]
    },
    {
      "cell_type": "code",
      "execution_count": null,
      "metadata": {
        "id": "v00LyltwxXZT",
        "outputId": "aa072f15-7bfa-4b79-df83-8cd2890848d4"
      },
      "outputs": [
        {
          "data": {
            "text/plain": [
              "<AxesSubplot:>"
            ]
          },
          "execution_count": 100,
          "metadata": {},
          "output_type": "execute_result"
        },
        {
          "data": {
            "image/png": "[encoded data removed]",
            "text/plain": [
              "<Figure size 432x288 with 1 Axes>"
            ]
          },
          "metadata": {
            "needs_background": "light"
          },
          "output_type": "display_data"
        }
      ],
      "source": [
        "data=df.loc[df[\"platform\"]==\"WiiU\"]\n",
        "Q1 = data['sales'].quantile(0.25)\n",
        "Q3 = data['sales'].quantile(0.75)\n",
        "data1 = data[(data['sales'] > Q1) & (data['sales'] < Q3)]\n",
        "data1.boxplot(column=\"sales\")"
      ]
    },
    {
      "cell_type": "code",
      "execution_count": null,
      "metadata": {
        "id": "BQbLB-ZwxXZU",
        "outputId": "1a832574-12c8-4bad-e08b-79a936053d89"
      },
      "outputs": [
        {
          "data": {
            "text/plain": [
              "count    67.000000\n",
              "mean      0.052239\n",
              "std       0.059768\n",
              "min       0.010000\n",
              "25%       0.015000\n",
              "50%       0.020000\n",
              "75%       0.070000\n",
              "max       0.240000\n",
              "Name: sales, dtype: float64"
            ]
          },
          "execution_count": 101,
          "metadata": {},
          "output_type": "execute_result"
        },
        {
          "data": {
            "image/png": "[encoded data removed]",
            "text/plain": [
              "<Figure size 432x288 with 1 Axes>"
            ]
          },
          "metadata": {
            "needs_background": "light"
          },
          "output_type": "display_data"
        }
      ],
      "source": [
        "data=df.loc[df[\"platform\"]==\"PSP\"]\n",
        "plt.boxplot(x=data['sales'])\n",
        "data[\"sales\"].describe()"
      ]
    },
    {
      "cell_type": "code",
      "execution_count": null,
      "metadata": {
        "id": "A5M-_7ooxXZU",
        "outputId": "b70f4baf-36d7-425d-a1f6-717f7779bb34"
      },
      "outputs": [
        {
          "data": {
            "text/plain": [
              "<AxesSubplot:>"
            ]
          },
          "execution_count": 102,
          "metadata": {},
          "output_type": "execute_result"
        },
        {
          "data": {
            "image/png": "[encoded data removed]",
            "text/plain": [
              "<Figure size 432x288 with 1 Axes>"
            ]
          },
          "metadata": {
            "needs_background": "light"
          },
          "output_type": "display_data"
        }
      ],
      "source": [
        "data=df.loc[df[\"platform\"]==\"PSP\"]\n",
        "Q1 = data['sales'].quantile(0.25)\n",
        "Q3 = data['sales'].quantile(0.75)\n",
        "data1 = data[(data['sales'] > Q1) & (data['sales'] < Q3)]\n",
        "data1.boxplot(column=\"sales\")"
      ]
    },
    {
      "cell_type": "code",
      "execution_count": null,
      "metadata": {
        "id": "BqVzgmgCxXZV",
        "outputId": "420392ed-8e59-4d14-8b8f-d74468bac55a"
      },
      "outputs": [
        {
          "data": {
            "text/plain": [
              "count    358.000000\n",
              "mean       0.092151\n",
              "std        0.153816\n",
              "min        0.010000\n",
              "25%        0.020000\n",
              "50%        0.040000\n",
              "75%        0.110000\n",
              "max        1.960000\n",
              "Name: sales, dtype: float64"
            ]
          },
          "execution_count": 103,
          "metadata": {},
          "output_type": "execute_result"
        },
        {
          "data": {
            "image/png": "[encoded data removed]",
            "text/plain": [
              "<Figure size 432x288 with 1 Axes>"
            ]
          },
          "metadata": {
            "needs_background": "light"
          },
          "output_type": "display_data"
        }
      ],
      "source": [
        "data=df.loc[df[\"platform\"]==\"PSV\"]\n",
        "plt.boxplot(x=data['sales'])\n",
        "data[\"sales\"].describe()"
      ]
    },
    {
      "cell_type": "code",
      "execution_count": null,
      "metadata": {
        "id": "IAhLTtUXxXZW",
        "outputId": "02f954ca-fb41-4d65-ad13-2a53f24de972"
      },
      "outputs": [
        {
          "data": {
            "text/plain": [
              "<AxesSubplot:>"
            ]
          },
          "execution_count": 104,
          "metadata": {},
          "output_type": "execute_result"
        },
        {
          "data": {
            "image/png": "[encoded data removed]",
            "text/plain": [
              "<Figure size 432x288 with 1 Axes>"
            ]
          },
          "metadata": {
            "needs_background": "light"
          },
          "output_type": "display_data"
        }
      ],
      "source": [
        "data=df.loc[df[\"platform\"]==\"PSV\"]\n",
        "Q1 = data['sales'].quantile(0.25)\n",
        "Q3 = data['sales'].quantile(0.75)\n",
        "data1 = data[(data['sales'] > Q1) & (data['sales'] < Q3)]\n",
        "data1.boxplot(column=\"sales\")"
      ]
    },
    {
      "cell_type": "markdown",
      "metadata": {
        "id": "z7rhbfanxXZW"
      },
      "source": [
        "По полученным данным можно отметить, что наибольшие медианные значения соответствуют платформам PS3 и X360. Так как выбросы-это нетипичные наблюдения(которые значительно отличаются от остальной части набора данных), возможно, выбросы в данных для платформ  говорят о возможных ошибках при фиксировании данных, случайности или же об уникальности."
      ]
    },
    {
      "cell_type": "code",
      "execution_count": null,
      "metadata": {
        "id": "AGKovqkvxXZX",
        "outputId": "88571052-83a2-4a95-f8ef-8f20a408d4f2"
      },
      "outputs": [
        {
          "name": "stdout",
          "output_type": "stream",
          "text": [
            "0.40656790206178095\n"
          ]
        },
        {
          "data": {
            "image/png": "[encoded data removed]",
            "text/plain": [
              "<Figure size 432x288 with 1 Axes>"
            ]
          },
          "metadata": {
            "needs_background": "light"
          },
          "output_type": "display_data"
        }
      ],
      "source": [
        "data=df.loc[df[\"platform\"]==\"PS4\"]\n",
        "data.plot(x='critic_score', y='sales', kind='scatter')\n",
        "print(data['critic_score'].corr(data['sales']))"
      ]
    },
    {
      "cell_type": "code",
      "execution_count": null,
      "metadata": {
        "id": "18JMIbdIxXZY",
        "outputId": "1d5eac4b-d833-4276-f7dc-1d8c59d322b4"
      },
      "outputs": [
        {
          "name": "stdout",
          "output_type": "stream",
          "text": [
            "-0.031957110204556376\n"
          ]
        },
        {
          "data": {
            "image/png": "[encoded data removed]",
            "text/plain": [
              "<Figure size 432x288 with 1 Axes>"
            ]
          },
          "metadata": {
            "needs_background": "light"
          },
          "output_type": "display_data"
        }
      ],
      "source": [
        "data=df.loc[df[\"platform\"]==\"PS4\"]\n",
        "data.plot(x='user_score', y='sales', kind='scatter')\n",
        "print(data['user_score'].corr(data['sales']))"
      ]
    },
    {
      "cell_type": "code",
      "execution_count": null,
      "metadata": {
        "id": "gN9o3UKpxXZY",
        "outputId": "ba811ac2-4328-4362-9894-ee9f637d90d8"
      },
      "outputs": [
        {
          "name": "stdout",
          "output_type": "stream",
          "text": [
            "0.3342853393371919\n"
          ]
        },
        {
          "data": {
            "image/png": "[encoded data removed]",
            "text/plain": [
              "<Figure size 432x288 with 1 Axes>"
            ]
          },
          "metadata": {
            "needs_background": "light"
          },
          "output_type": "display_data"
        }
      ],
      "source": [
        "data=df.loc[df[\"platform\"]==\"PS3\"]\n",
        "data.plot(x='critic_score', y='sales', kind='scatter')\n",
        "print(data['critic_score'].corr(data['sales']))"
      ]
    },
    {
      "cell_type": "code",
      "execution_count": null,
      "metadata": {
        "id": "Uh5hJAdWxXZY",
        "outputId": "5b92d184-acf1-4515-ac44-21529248f2bf"
      },
      "outputs": [
        {
          "name": "stdout",
          "output_type": "stream",
          "text": [
            "0.0023944027357566925\n"
          ]
        },
        {
          "data": {
            "image/png": "[encoded data removed]",
            "text/plain": [
              "<Figure size 432x288 with 1 Axes>"
            ]
          },
          "metadata": {
            "needs_background": "light"
          },
          "output_type": "display_data"
        }
      ],
      "source": [
        "data=df.loc[df[\"platform\"]==\"PS3\"]\n",
        "data.plot(x='user_score', y='sales', kind='scatter')\n",
        "print(data['user_score'].corr(data['sales']))"
      ]
    },
    {
      "cell_type": "code",
      "execution_count": null,
      "metadata": {
        "id": "is96SpmdxXZY",
        "outputId": "a8bb8031-e78a-4f0e-d1de-f22155050bb5"
      },
      "outputs": [
        {
          "name": "stdout",
          "output_type": "stream",
          "text": [
            "0.4169983280084017\n"
          ]
        },
        {
          "data": {
            "image/png": "[encoded data removed]",
            "text/plain": [
              "<Figure size 432x288 with 1 Axes>"
            ]
          },
          "metadata": {
            "needs_background": "light"
          },
          "output_type": "display_data"
        }
      ],
      "source": [
        "data=df.loc[df[\"platform\"]==\"XOne\"]\n",
        "data.plot(x='critic_score', y='sales', kind='scatter')\n",
        "print(data['critic_score'].corr(data['sales']))"
      ]
    },
    {
      "cell_type": "code",
      "execution_count": null,
      "metadata": {
        "id": "YrvMx_M8xXZZ",
        "outputId": "7ed70b9c-14cc-4bf3-ce88-d6f05bef7488"
      },
      "outputs": [
        {
          "name": "stdout",
          "output_type": "stream",
          "text": [
            "-0.06892505328279414\n"
          ]
        },
        {
          "data": {
            "image/png": "[encoded data removed]",
            "text/plain": [
              "<Figure size 432x288 with 1 Axes>"
            ]
          },
          "metadata": {
            "needs_background": "light"
          },
          "output_type": "display_data"
        }
      ],
      "source": [
        "data=df.loc[df[\"platform\"]==\"XOne\"]\n",
        "data.plot(x='user_score', y='sales', kind='scatter')\n",
        "print(data['user_score'].corr(data['sales']))"
      ]
    },
    {
      "cell_type": "markdown",
      "metadata": {
        "id": "J-rUDrWnxXZZ"
      },
      "source": [
        "Корреляцией между оценками пользователей и продажами нет, корреляция между оценками критиков и продажами 0,4. По графику можно сказать, что игры лучше продаются с высокой оцекой критиков(данный вывод подтверждают данные по 3 платформам)."
      ]
    },
    {
      "cell_type": "code",
      "execution_count": null,
      "metadata": {
        "id": "RYsxCiNyxXZa",
        "outputId": "f08a1f10-e61b-492d-ff69-65156c48e06a"
      },
      "outputs": [
        {
          "data": {
            "text/plain": [
              "<AxesSubplot:xlabel='genre'>"
            ]
          },
          "execution_count": 111,
          "metadata": {},
          "output_type": "execute_result"
        },
        {
          "data": {
            "image/png": "[encoded data removed]",
            "text/plain": [
              "<Figure size 432x288 with 1 Axes>"
            ]
          },
          "metadata": {
            "needs_background": "light"
          },
          "output_type": "display_data"
        }
      ],
      "source": [
        "data=df.groupby(\"genre\")[\"genre\"].count()\n",
        "data.plot.bar()"
      ]
    },
    {
      "cell_type": "markdown",
      "metadata": {
        "id": "E4y9Fb9NxXZa"
      },
      "source": [
        "Больше всего игр в жанре Action, Sports и Misc."
      ]
    },
    {
      "cell_type": "code",
      "execution_count": null,
      "metadata": {
        "id": "LeWWeaX5xXZa",
        "outputId": "60f6cc7f-8f20-408e-91fa-2032799a35e6"
      },
      "outputs": [
        {
          "data": {
            "text/plain": [
              "<AxesSubplot:xlabel='genre'>"
            ]
          },
          "execution_count": 112,
          "metadata": {},
          "output_type": "execute_result"
        },
        {
          "data": {
            "image/png": "[encoded data removed]",
            "text/plain": [
              "<Figure size 432x288 with 1 Axes>"
            ]
          },
          "metadata": {
            "needs_background": "light"
          },
          "output_type": "display_data"
        }
      ],
      "source": [
        "data=df.groupby(\"genre\")[\"sales\"].sum()\n",
        "data.plot.bar()"
      ]
    },
    {
      "cell_type": "markdown",
      "metadata": {
        "id": "ZHIsNF4sxXZb"
      },
      "source": [
        "Больше всего покупают игры жанра Action(это может быть связано с тем, что игр данного жанра выпускается больше всех остальных),\n",
        "Sports на втором месте по продажам и по количеству выпускаемых игр.\n",
        "Shooter на третьем месте по продажам, хотя игр данного жанра производится меньше."
      ]
    },
    {
      "cell_type": "code",
      "execution_count": null,
      "metadata": {
        "id": "FrZOVabwxXZb",
        "outputId": "8b310781-96f2-4075-ca11-87c5a81ac4ed"
      },
      "outputs": [
        {
          "data": {
            "text/html": [
              "<div>\n",
              "<style scoped>\n",
              "    .dataframe tbody tr th:only-of-type {\n",
              "        vertical-align: middle;\n",
              "    }\n",
              "\n",
              "    .dataframe tbody tr th {\n",
              "        vertical-align: top;\n",
              "    }\n",
              "\n",
              "    .dataframe thead tr th {\n",
              "        text-align: left;\n",
              "    }\n",
              "\n",
              "    .dataframe thead tr:last-of-type th {\n",
              "        text-align: right;\n",
              "    }\n",
              "</style>\n",
              "<table border=\"1\" class=\"dataframe\">\n",
              "  <thead>\n",
              "    <tr>\n",
              "      <th></th>\n",
              "      <th>count</th>\n",
              "      <th>median</th>\n",
              "      <th>mean</th>\n",
              "    </tr>\n",
              "    <tr>\n",
              "      <th></th>\n",
              "      <th>sales</th>\n",
              "      <th>sales</th>\n",
              "      <th>sales</th>\n",
              "    </tr>\n",
              "    <tr>\n",
              "      <th>genre</th>\n",
              "      <th></th>\n",
              "      <th></th>\n",
              "      <th></th>\n",
              "    </tr>\n",
              "  </thead>\n",
              "  <tbody>\n",
              "    <tr>\n",
              "      <th>Action</th>\n",
              "      <td>766</td>\n",
              "      <td>0.110</td>\n",
              "      <td>0.420196</td>\n",
              "    </tr>\n",
              "    <tr>\n",
              "      <th>Adventure</th>\n",
              "      <td>245</td>\n",
              "      <td>0.030</td>\n",
              "      <td>0.096490</td>\n",
              "    </tr>\n",
              "    <tr>\n",
              "      <th>Fighting</th>\n",
              "      <td>80</td>\n",
              "      <td>0.125</td>\n",
              "      <td>0.441375</td>\n",
              "    </tr>\n",
              "    <tr>\n",
              "      <th>Misc</th>\n",
              "      <td>155</td>\n",
              "      <td>0.100</td>\n",
              "      <td>0.405290</td>\n",
              "    </tr>\n",
              "    <tr>\n",
              "      <th>Platform</th>\n",
              "      <td>74</td>\n",
              "      <td>0.225</td>\n",
              "      <td>0.576081</td>\n",
              "    </tr>\n",
              "    <tr>\n",
              "      <th>Puzzle</th>\n",
              "      <td>17</td>\n",
              "      <td>0.060</td>\n",
              "      <td>0.186471</td>\n",
              "    </tr>\n",
              "    <tr>\n",
              "      <th>Racing</th>\n",
              "      <td>85</td>\n",
              "      <td>0.120</td>\n",
              "      <td>0.469294</td>\n",
              "    </tr>\n",
              "    <tr>\n",
              "      <th>Role-Playing</th>\n",
              "      <td>292</td>\n",
              "      <td>0.125</td>\n",
              "      <td>0.499623</td>\n",
              "    </tr>\n",
              "    <tr>\n",
              "      <th>Shooter</th>\n",
              "      <td>187</td>\n",
              "      <td>0.450</td>\n",
              "      <td>1.245882</td>\n",
              "    </tr>\n",
              "    <tr>\n",
              "      <th>Simulation</th>\n",
              "      <td>62</td>\n",
              "      <td>0.100</td>\n",
              "      <td>0.350968</td>\n",
              "    </tr>\n",
              "    <tr>\n",
              "      <th>Sports</th>\n",
              "      <td>214</td>\n",
              "      <td>0.240</td>\n",
              "      <td>0.703972</td>\n",
              "    </tr>\n",
              "    <tr>\n",
              "      <th>Strategy</th>\n",
              "      <td>56</td>\n",
              "      <td>0.080</td>\n",
              "      <td>0.180000</td>\n",
              "    </tr>\n",
              "  </tbody>\n",
              "</table>\n",
              "</div>"
            ],
            "text/plain": [
              "             count median      mean\n",
              "             sales  sales     sales\n",
              "genre                              \n",
              "Action         766  0.110  0.420196\n",
              "Adventure      245  0.030  0.096490\n",
              "Fighting        80  0.125  0.441375\n",
              "Misc           155  0.100  0.405290\n",
              "Platform        74  0.225  0.576081\n",
              "Puzzle          17  0.060  0.186471\n",
              "Racing          85  0.120  0.469294\n",
              "Role-Playing   292  0.125  0.499623\n",
              "Shooter        187  0.450  1.245882\n",
              "Simulation      62  0.100  0.350968\n",
              "Sports         214  0.240  0.703972\n",
              "Strategy        56  0.080  0.180000"
            ]
          },
          "execution_count": 113,
          "metadata": {},
          "output_type": "execute_result"
        }
      ],
      "source": [
        "data=df.pivot_table(index='genre', values='sales', aggfunc=['count',\"median\",\"mean\"])\n",
        "data"
      ]
    },
    {
      "cell_type": "markdown",
      "metadata": {
        "id": "Q30cDdX-xXZb"
      },
      "source": [
        "По таблице видно, что не всегда количество игр жанра гарантирует хорошие продажи. Так большое количество продаж у жанра Action соответствует далеко не самому большому медианному значению, однако высокое количество продаж соответствует высокому медианному значению. Отметим, что имеется в данных ситуация, когда медианное значение продаж приближается к максимальному, но количество выпущенных игр небольшое."
      ]
    },
    {
      "cell_type": "markdown",
      "metadata": {
        "id": "FbuK5Sv8xXZc"
      },
      "source": [
        "# Шаг 4. Составление портрета пользователя каждого региона"
      ]
    },
    {
      "cell_type": "code",
      "execution_count": null,
      "metadata": {
        "id": "LcNH_T1wxXZc",
        "outputId": "fd64d7ff-92a1-426a-b272-fb9243262ebf"
      },
      "outputs": [
        {
          "data": {
            "text/plain": [
              "<AxesSubplot:xlabel='platform'>"
            ]
          },
          "execution_count": 114,
          "metadata": {},
          "output_type": "execute_result"
        },
        {
          "data": {
            "image/png": "[encoded data removed]",
            "text/plain": [
              "<Figure size 432x288 with 1 Axes>"
            ]
          },
          "metadata": {
            "needs_background": "light"
          },
          "output_type": "display_data"
        }
      ],
      "source": [
        "df.groupby(\"platform\")[\"na_sales\"].sum().sort_values(ascending=False).head(5).plot.bar()"
      ]
    },
    {
      "cell_type": "code",
      "execution_count": null,
      "metadata": {
        "id": "SfdnP1uxxXZc",
        "outputId": "b465ec5b-552e-4673-9be0-a6a428be8932"
      },
      "outputs": [
        {
          "data": {
            "text/plain": [
              "<AxesSubplot:xlabel='platform'>"
            ]
          },
          "execution_count": 115,
          "metadata": {},
          "output_type": "execute_result"
        },
        {
          "data": {
            "image/png": "[encoded data removed]",
            "text/plain": [
              "<Figure size 432x288 with 1 Axes>"
            ]
          },
          "metadata": {
            "needs_background": "light"
          },
          "output_type": "display_data"
        }
      ],
      "source": [
        "df.groupby(\"platform\")[\"eu_sales\"].sum().sort_values(ascending=False).head(5).plot.bar()"
      ]
    },
    {
      "cell_type": "code",
      "execution_count": null,
      "metadata": {
        "id": "OpTQmDLrxXZd",
        "outputId": "2b5b518e-fd02-4885-8fc2-07eafd0da3fd"
      },
      "outputs": [
        {
          "data": {
            "text/plain": [
              "<AxesSubplot:xlabel='platform'>"
            ]
          },
          "execution_count": 116,
          "metadata": {},
          "output_type": "execute_result"
        },
        {
          "data": {
            "image/png": "[encoded data removed]",
            "text/plain": [
              "<Figure size 432x288 with 1 Axes>"
            ]
          },
          "metadata": {
            "needs_background": "light"
          },
          "output_type": "display_data"
        }
      ],
      "source": [
        "df.groupby(\"platform\")[\"jp_sales\"].sum().sort_values(ascending=False).head(5).plot.bar()"
      ]
    },
    {
      "cell_type": "markdown",
      "metadata": {
        "id": "0Swp-RHgxXZd"
      },
      "source": [
        "5 популярных платформы в разном регионе:\n",
        "- Северная Америка: PS4, XOne, X360, PS3, 3DS\n",
        "- Европа:PS4, PS3, XOne, X360, 3DS\n",
        "- Япония:3DS, PS3, PSV, PS4, WiiU"
      ]
    },
    {
      "cell_type": "code",
      "execution_count": null,
      "metadata": {
        "id": "PKhwO6f6xXZe",
        "outputId": "f259d3f8-faa5-4c6f-95fd-5fdcb883a0e7"
      },
      "outputs": [
        {
          "data": {
            "text/plain": [
              "<AxesSubplot:xlabel='genre'>"
            ]
          },
          "execution_count": 160,
          "metadata": {},
          "output_type": "execute_result"
        },
        {
          "data": {
            "image/png": "[encoded data removed]",
            "text/plain": [
              "<Figure size 432x288 with 1 Axes>"
            ]
          },
          "metadata": {
            "needs_background": "light"
          },
          "output_type": "display_data"
        }
      ],
      "source": [
        "df.groupby(\"genre\")[\"na_sales\"].sum().sort_values(ascending=False).head(5).plot.bar()"
      ]
    },
    {
      "cell_type": "code",
      "execution_count": null,
      "metadata": {
        "id": "nGvA6CtNxXZe",
        "outputId": "a3f718b2-cffc-4670-ac09-a58aa99b8000"
      },
      "outputs": [
        {
          "data": {
            "text/plain": [
              "<AxesSubplot:xlabel='genre'>"
            ]
          },
          "execution_count": 161,
          "metadata": {},
          "output_type": "execute_result"
        },
        {
          "data": {
            "image/png": "[encoded data removed]",
            "text/plain": [
              "<Figure size 432x288 with 1 Axes>"
            ]
          },
          "metadata": {
            "needs_background": "light"
          },
          "output_type": "display_data"
        }
      ],
      "source": [
        "df.groupby(\"genre\")[\"eu_sales\"].sum().sort_values(ascending=False).head(5).plot.bar()"
      ]
    },
    {
      "cell_type": "code",
      "execution_count": null,
      "metadata": {
        "scrolled": false,
        "id": "_tDefVAcxXZe",
        "outputId": "a96d468e-13a9-4ff7-e8f7-b916626bd8bd"
      },
      "outputs": [
        {
          "data": {
            "text/plain": [
              "<AxesSubplot:xlabel='genre'>"
            ]
          },
          "execution_count": 162,
          "metadata": {},
          "output_type": "execute_result"
        },
        {
          "data": {
            "image/png": "[encoded data removed]",
            "text/plain": [
              "<Figure size 432x288 with 1 Axes>"
            ]
          },
          "metadata": {
            "needs_background": "light"
          },
          "output_type": "display_data"
        }
      ],
      "source": [
        "df.groupby(\"genre\")[\"jp_sales\"].sum().sort_values(ascending=False).head(5).plot.bar()"
      ]
    },
    {
      "cell_type": "markdown",
      "metadata": {
        "id": "GQyDyOR9xXZf"
      },
      "source": [
        "5 популярных жанра игр в разном регионе:\n",
        "- Северная Америка:Action, Shooter, Sports, Role-Playing, Misc\n",
        "- Европа:Action, Shooter, Sports, Role-Playing, Racing\n",
        "- Япония:Role-Playing, Action, Misc, Fighting, Shooter"
      ]
    },
    {
      "cell_type": "code",
      "execution_count": null,
      "metadata": {
        "id": "WdzFWApHxXZf",
        "outputId": "f5a3a81b-1002-4584-8c16-9f812699d67f"
      },
      "outputs": [
        {
          "data": {
            "text/html": [
              "<div>\n",
              "<style scoped>\n",
              "    .dataframe tbody tr th:only-of-type {\n",
              "        vertical-align: middle;\n",
              "    }\n",
              "\n",
              "    .dataframe tbody tr th {\n",
              "        vertical-align: top;\n",
              "    }\n",
              "\n",
              "    .dataframe thead th {\n",
              "        text-align: right;\n",
              "    }\n",
              "</style>\n",
              "<table border=\"1\" class=\"dataframe\">\n",
              "  <thead>\n",
              "    <tr style=\"text-align: right;\">\n",
              "      <th></th>\n",
              "      <th>eu_sales</th>\n",
              "      <th>jp_sales</th>\n",
              "      <th>na_sales</th>\n",
              "    </tr>\n",
              "    <tr>\n",
              "      <th>rating</th>\n",
              "      <th></th>\n",
              "      <th></th>\n",
              "      <th></th>\n",
              "    </tr>\n",
              "  </thead>\n",
              "  <tbody>\n",
              "    <tr>\n",
              "      <th>E</th>\n",
              "      <td>83.36</td>\n",
              "      <td>15.14</td>\n",
              "      <td>79.05</td>\n",
              "    </tr>\n",
              "    <tr>\n",
              "      <th>E10+</th>\n",
              "      <td>42.69</td>\n",
              "      <td>5.89</td>\n",
              "      <td>54.24</td>\n",
              "    </tr>\n",
              "    <tr>\n",
              "      <th>M</th>\n",
              "      <td>145.32</td>\n",
              "      <td>14.11</td>\n",
              "      <td>165.21</td>\n",
              "    </tr>\n",
              "    <tr>\n",
              "      <th>T</th>\n",
              "      <td>41.95</td>\n",
              "      <td>20.59</td>\n",
              "      <td>49.79</td>\n",
              "    </tr>\n",
              "    <tr>\n",
              "      <th>undefined</th>\n",
              "      <td>78.91</td>\n",
              "      <td>85.05</td>\n",
              "      <td>89.42</td>\n",
              "    </tr>\n",
              "  </tbody>\n",
              "</table>\n",
              "</div>"
            ],
            "text/plain": [
              "           eu_sales  jp_sales  na_sales\n",
              "rating                                 \n",
              "E             83.36     15.14     79.05\n",
              "E10+          42.69      5.89     54.24\n",
              "M            145.32     14.11    165.21\n",
              "T             41.95     20.59     49.79\n",
              "undefined     78.91     85.05     89.42"
            ]
          },
          "execution_count": 120,
          "metadata": {},
          "output_type": "execute_result"
        }
      ],
      "source": [
        "data = df.pivot_table(index = 'rating', values = ['na_sales','jp_sales','eu_sales']  , aggfunc = 'sum')\n",
        "data"
      ]
    },
    {
      "cell_type": "markdown",
      "metadata": {
        "id": "NCXmdt5RxXZf"
      },
      "source": [
        "- В Северной Америке большим успехом пользуются игры подходящие для лиц старше 17 лет(M), затем игры без рейтинга и игры подходящие для всех возрастных категорий(E).\n",
        "- В Европе большим успехом пользуются игры подходящие для лиц старше 17 лет(M) и игры подходящие для всех возрастных категорий(E), а также высокая доля продаж игр без рейтинга.\n",
        "- В Японии большим успехом пользуются игры  без рейтинга, затем подходящие для лиц старше 13 лет(T) и игры подходящие для всех возрастных категорий(E)."
      ]
    },
    {
      "cell_type": "markdown",
      "metadata": {
        "id": "cVZUjH4axXZg"
      },
      "source": [
        "# Шаг 5. Проверка гипотез"
      ]
    },
    {
      "cell_type": "markdown",
      "metadata": {
        "id": "NDX4AzeXxXZg"
      },
      "source": [
        "Гипотеза 1-Средние пользовательские рейтинги платформ Xbox One и PC одинаковые\n",
        "- Нулевая-Средние пользовательские рейтинги платформ Xbox One и PC одинаковые\n",
        "- Альтернативная-Средние пользовательские рейтинги платформ Xbox One и PC не одинаковые"
      ]
    },
    {
      "cell_type": "code",
      "execution_count": null,
      "metadata": {
        "id": "-7u_9u4TxXZh"
      },
      "outputs": [],
      "source": [
        "sample_1 = df[df['platform']==\"XOne\"]['user_score'].dropna()\n",
        "sample_2 = df[df['platform']==\"PC\"]['user_score'].dropna()"
      ]
    },
    {
      "cell_type": "code",
      "execution_count": null,
      "metadata": {
        "id": "c11MVYEcxXZh",
        "outputId": "18a11015-88e2-4710-9413-afa20205149c"
      },
      "outputs": [
        {
          "name": "stdout",
          "output_type": "stream",
          "text": [
            "p-значение: 0.14012658403611647\n",
            "Не получилось отвергнуть нулевую гипотезу\n"
          ]
        }
      ],
      "source": [
        "from scipy import stats as st\n",
        "\n",
        "alpha = 0.05\n",
        "\n",
        "results = st.ttest_ind(sample_1, sample_2, equal_var = True)\n",
        "\n",
        "print('p-значение:', results.pvalue)\n",
        "\n",
        "if results.pvalue < alpha:\n",
        "    print(\"Отвергаем нулевую гипотезу\")\n",
        "else:\n",
        "    print(\"Не получилось отвергнуть нулевую гипотезу\")"
      ]
    },
    {
      "cell_type": "markdown",
      "metadata": {
        "id": "w5LwnYWexXZh"
      },
      "source": [
        "Гипотеза 2-Средние пользовательские рейтинги жанров Action и Sports разные\n",
        "- Нулевая-Средние пользовательские рейтинги жанров Action и Sports одинаковые\n",
        "- Альтернативная-Средние пользовательские рейтинги жанров Action и Sports разные"
      ]
    },
    {
      "cell_type": "code",
      "execution_count": null,
      "metadata": {
        "id": "l26s3BlCxXZi"
      },
      "outputs": [],
      "source": [
        "sample_3 = df[df['genre']==\"Action\"]['user_score'].dropna()\n",
        "sample_4 = df[df['genre']==\"Sports\"]['user_score'].dropna()"
      ]
    },
    {
      "cell_type": "code",
      "execution_count": null,
      "metadata": {
        "id": "vWKZzLgsxXZi",
        "outputId": "c6b215cf-4671-41cc-e4d0-dd9e6721ff1c"
      },
      "outputs": [
        {
          "name": "stdout",
          "output_type": "stream",
          "text": [
            "p-значение: 1.4460039700704315e-20\n",
            "Отвергаем нулевую гипотезу\n"
          ]
        }
      ],
      "source": [
        "alpha = 0.05\n",
        "\n",
        "results1 = st.ttest_ind(sample_3, sample_4, equal_var = False)\n",
        "\n",
        "print('p-значение:', results1.pvalue)\n",
        "\n",
        "if results1.pvalue < alpha:\n",
        "    print(\"Отвергаем нулевую гипотезу\")\n",
        "else:\n",
        "    print(\"Не получилось отвергнуть нулевую гипотезу\")"
      ]
    },
    {
      "cell_type": "markdown",
      "metadata": {
        "id": "ozHFcMMVxXZj"
      },
      "source": [
        "В результате была отвергнута нулевая теория в каждой гипотезе, а значит, что средние пользовательские рейтинги платформ Xbox One и PC одинаковые и средние пользовательские рейтинги жанров Action и Sports разные."
      ]
    },
    {
      "cell_type": "markdown",
      "metadata": {
        "id": "jpMbiDEExXZj"
      },
      "source": [
        "- H₀ всегда формулируется так, чтобы использовать знак равенства. Исходя из H₀ формулируется альтернативная гипотеза H₁.Пользуясь этими принципами мы сформулировали нулевую и альтернативную гипотезы.\n",
        "- Для проверки гипотез применили t-тест, потому что было необходимо сравнивать средние двух генеральных совокупностей между собой."
      ]
    },
    {
      "cell_type": "markdown",
      "metadata": {
        "id": "ziLr2bH3xXZk"
      },
      "source": [
        "# Шаг 6. Общий вывод"
      ]
    },
    {
      "cell_type": "markdown",
      "metadata": {
        "id": "eMXRC4XkxXZk"
      },
      "source": [
        "В ходе работы с данными был проведен исследовательский анализ.\n",
        "- Предварительно была проведена обработка данных: замена типов данных в столбцах, в которых это необходимо, замена пропущенных значений, где необходимо, приведение к нижнему регистру названия столбцов, создание нового столбца, содержащего суммарные продажи во всех регионах.\n",
        "- На первом этапе анализа были определены топ 5 платформ(Wii, DS, PS2, PS3, X360), средняя продолжительность существования платформы(около 10 лет), лидирующие по продажам платформы(PS4, XOne и 3DC) и рассмотрено наличие/отсутствие зависимости уровня продаж от рейтинга критиков и рейтинга пользователей(корреляцией между оценками пользователей и продажами нет, корреляция между оценками критиков и продажами 0.4, игры лучше продаются с высокой оцекой критиков), кроме того были определены наиболее продаваемые жанры игр(Action, Sports, Shooter) и наиболее выпускаемые игры(больше всего игр в жанре Action, Sports и Misc). Заметим, что не всегда количество игр жанра гарантирует хорошие продажи. Так большое количество продаж у жанра Action соответствует далеко не самому большому медианному значению, однако высокое количество продаж соответствует высокому медианному значению. Отметим, что имеется в данных ситуация, когда медианное значение продаж приближается к максимальному, но количество выпущенных игр небольшое.\n",
        "- На втором этапе был составлен портрет пользователей в зависимости от региона:\n",
        "\n",
        "  5 популярных платформы в разном регионе:\n",
        "  - Северная Америка: PS4, XOne, X360, PS3, 3DS\n",
        "  - Европа:PS4, PS3, XOne, X360, 3DS\n",
        "  - Япония:3DS, PS3, PSV, PS4, WiiU\n",
        "  \n",
        "  5 популярных жанра игр в разном регионе:\n",
        "  - Северная Америка:Action, Shooter, Sports, Role-Playing, Misc\n",
        "  - Европа:Action, Shooter, Sports, Role-Playing, Racing\n",
        "  - Япония:Role-Playing, Action, Misc, Fighting, Shooter\n",
        "  \n",
        "  Распределение по рейтингу игр:\n",
        "  - В Северной Америке большим успехом пользуются игры подходящие для лиц старше 17 лет(M), затем игры без рейтинга и игры подходящие для всех возрастных категорий(E).\n",
        "  - В Европе большим успехом пользуются игры подходящие для лиц старше 17 лет(M) и игры подходящие для всех возрастных категорий(E), а также высокая доля продаж игр без рейтинга.\n",
        "  - В Японии большим успехом пользуются игры  без рейтинга, затем подходящие для лиц старше 13 лет(T) и игры подходящие для всех возрастных категорий(E).\n",
        "  \n",
        "- На третьем этапе была проведена проверка гипотез с использованием t-теста и было определено, что средние пользовательские рейтинги платформ Xbox One и PC одинаковые и средние пользовательские рейтинги жанров Action и Sports разные.\n",
        "- В результате анализа можно сказать, что выгодно продавать игры с высоким рейтингов критиков, в жанре Action, на платформах PS4, XOne и PC."
      ]
    }
  ],
  "metadata": {
    "ExecuteTimeLog": [
      {
        "duration": 402,
        "start_time": "2022-10-20T18:20:01.655Z"
      },
      {
        "duration": 199,
        "start_time": "2022-10-20T18:20:09.193Z"
      },
      {
        "duration": 27,
        "start_time": "2022-10-20T18:20:10.252Z"
      },
      {
        "duration": 13,
        "start_time": "2022-10-20T18:20:25.583Z"
      },
      {
        "duration": 5,
        "start_time": "2022-10-20T18:27:11.882Z"
      },
      {
        "duration": 60,
        "start_time": "2022-10-20T18:33:16.507Z"
      },
      {
        "duration": 1400,
        "start_time": "2022-10-20T18:34:00.421Z"
      },
      {
        "duration": 3,
        "start_time": "2022-10-20T18:34:19.657Z"
      },
      {
        "duration": 50,
        "start_time": "2022-10-20T18:34:20.490Z"
      },
      {
        "duration": 22,
        "start_time": "2022-10-20T18:34:21.172Z"
      },
      {
        "duration": 13,
        "start_time": "2022-10-20T18:34:21.939Z"
      },
      {
        "duration": 5,
        "start_time": "2022-10-20T18:34:22.868Z"
      },
      {
        "duration": 1286,
        "start_time": "2022-10-20T18:34:24.627Z"
      },
      {
        "duration": 5,
        "start_time": "2022-10-20T18:34:36.269Z"
      },
      {
        "duration": 16,
        "start_time": "2022-10-20T18:34:39.329Z"
      },
      {
        "duration": 18,
        "start_time": "2022-10-20T18:34:57.135Z"
      },
      {
        "duration": 5,
        "start_time": "2022-10-20T18:35:38.856Z"
      },
      {
        "duration": 12,
        "start_time": "2022-10-20T18:35:40.211Z"
      },
      {
        "duration": 2,
        "start_time": "2022-10-20T18:35:43.402Z"
      },
      {
        "duration": 50,
        "start_time": "2022-10-20T18:35:44.002Z"
      },
      {
        "duration": 20,
        "start_time": "2022-10-20T18:35:45.519Z"
      },
      {
        "duration": 15,
        "start_time": "2022-10-20T18:35:46.820Z"
      },
      {
        "duration": 5,
        "start_time": "2022-10-20T18:35:47.930Z"
      },
      {
        "duration": 13,
        "start_time": "2022-10-20T18:35:48.783Z"
      },
      {
        "duration": 3,
        "start_time": "2022-10-20T18:36:01.338Z"
      },
      {
        "duration": 13,
        "start_time": "2022-10-20T18:36:02.010Z"
      },
      {
        "duration": 8,
        "start_time": "2022-10-20T18:38:59.170Z"
      },
      {
        "duration": 13,
        "start_time": "2022-10-20T18:39:53.042Z"
      },
      {
        "duration": 11,
        "start_time": "2022-10-20T18:40:02.620Z"
      },
      {
        "duration": 3,
        "start_time": "2022-10-20T18:40:40.034Z"
      },
      {
        "duration": 48,
        "start_time": "2022-10-20T18:40:40.766Z"
      },
      {
        "duration": 19,
        "start_time": "2022-10-20T18:40:41.322Z"
      },
      {
        "duration": 12,
        "start_time": "2022-10-20T18:40:42.069Z"
      },
      {
        "duration": 3,
        "start_time": "2022-10-20T18:40:42.750Z"
      },
      {
        "duration": 14,
        "start_time": "2022-10-20T18:40:43.439Z"
      },
      {
        "duration": 13,
        "start_time": "2022-10-20T18:40:44.645Z"
      },
      {
        "duration": 15,
        "start_time": "2022-10-20T18:41:50.496Z"
      },
      {
        "duration": 368,
        "start_time": "2022-10-20T18:42:34.379Z"
      },
      {
        "duration": 29,
        "start_time": "2022-10-20T18:42:45.309Z"
      },
      {
        "duration": 25,
        "start_time": "2022-10-20T18:43:30.276Z"
      },
      {
        "duration": 23,
        "start_time": "2022-10-20T18:43:38.571Z"
      },
      {
        "duration": 21,
        "start_time": "2022-10-20T18:43:43.880Z"
      },
      {
        "duration": 3,
        "start_time": "2022-10-20T18:44:26.995Z"
      },
      {
        "duration": 51,
        "start_time": "2022-10-20T18:44:30.619Z"
      },
      {
        "duration": 20,
        "start_time": "2022-10-20T18:44:50.466Z"
      },
      {
        "duration": 14,
        "start_time": "2022-10-20T18:44:51.280Z"
      },
      {
        "duration": 3,
        "start_time": "2022-10-20T18:44:52.161Z"
      },
      {
        "duration": 12,
        "start_time": "2022-10-20T18:44:52.854Z"
      },
      {
        "duration": 14,
        "start_time": "2022-10-20T18:44:54.935Z"
      },
      {
        "duration": 8,
        "start_time": "2022-10-20T18:47:42.241Z"
      },
      {
        "duration": 3,
        "start_time": "2022-10-20T18:47:56.093Z"
      },
      {
        "duration": 61,
        "start_time": "2022-10-20T18:47:56.632Z"
      },
      {
        "duration": 27,
        "start_time": "2022-10-20T18:47:57.179Z"
      },
      {
        "duration": 17,
        "start_time": "2022-10-20T18:47:58.208Z"
      },
      {
        "duration": 4,
        "start_time": "2022-10-20T18:47:59.132Z"
      },
      {
        "duration": 19,
        "start_time": "2022-10-20T18:48:00.008Z"
      },
      {
        "duration": 5,
        "start_time": "2022-10-20T18:48:00.836Z"
      },
      {
        "duration": 9,
        "start_time": "2022-10-20T18:48:02.372Z"
      },
      {
        "duration": 11,
        "start_time": "2022-10-20T18:48:42.474Z"
      },
      {
        "duration": 9,
        "start_time": "2022-10-20T18:48:50.637Z"
      },
      {
        "duration": 30,
        "start_time": "2022-10-20T18:49:23.048Z"
      },
      {
        "duration": 13,
        "start_time": "2022-10-20T18:50:22.074Z"
      },
      {
        "duration": 26,
        "start_time": "2022-10-20T18:50:51.114Z"
      },
      {
        "duration": 12,
        "start_time": "2022-10-20T18:51:03.189Z"
      },
      {
        "duration": 7,
        "start_time": "2022-10-20T18:55:26.434Z"
      },
      {
        "duration": 438,
        "start_time": "2022-10-25T10:39:47.976Z"
      },
      {
        "duration": 102,
        "start_time": "2022-10-25T10:39:48.955Z"
      },
      {
        "duration": 27,
        "start_time": "2022-10-25T10:39:49.792Z"
      },
      {
        "duration": 14,
        "start_time": "2022-10-25T10:39:50.789Z"
      },
      {
        "duration": 3,
        "start_time": "2022-10-25T10:39:52.019Z"
      },
      {
        "duration": 14,
        "start_time": "2022-10-25T10:39:52.891Z"
      },
      {
        "duration": 5,
        "start_time": "2022-10-25T10:39:54.312Z"
      },
      {
        "duration": 8,
        "start_time": "2022-10-25T10:39:55.694Z"
      },
      {
        "duration": 10,
        "start_time": "2022-10-25T10:39:56.407Z"
      },
      {
        "duration": 7,
        "start_time": "2022-10-25T10:39:57.751Z"
      },
      {
        "duration": 5,
        "start_time": "2022-10-25T10:41:31.636Z"
      },
      {
        "duration": 78,
        "start_time": "2022-10-25T10:43:39.369Z"
      },
      {
        "duration": 387,
        "start_time": "2022-10-25T10:44:06.511Z"
      },
      {
        "duration": 29,
        "start_time": "2022-10-25T10:44:18.633Z"
      },
      {
        "duration": 790,
        "start_time": "2022-10-26T12:20:21.955Z"
      },
      {
        "duration": 184,
        "start_time": "2022-10-26T12:20:22.747Z"
      },
      {
        "duration": 25,
        "start_time": "2022-10-26T12:20:23.892Z"
      },
      {
        "duration": 13,
        "start_time": "2022-10-26T12:20:25.141Z"
      },
      {
        "duration": 3,
        "start_time": "2022-10-26T12:20:27.900Z"
      },
      {
        "duration": 20,
        "start_time": "2022-10-26T12:20:28.399Z"
      },
      {
        "duration": 4,
        "start_time": "2022-10-26T12:20:29.807Z"
      },
      {
        "duration": 9,
        "start_time": "2022-10-26T12:20:31.457Z"
      },
      {
        "duration": 11,
        "start_time": "2022-10-26T12:20:32.415Z"
      },
      {
        "duration": 8,
        "start_time": "2022-10-26T12:20:34.473Z"
      },
      {
        "duration": 6,
        "start_time": "2022-10-26T12:20:35.793Z"
      },
      {
        "duration": 73,
        "start_time": "2022-10-26T12:20:37.250Z"
      },
      {
        "duration": 1325,
        "start_time": "2022-10-29T07:50:38.731Z"
      },
      {
        "duration": 96,
        "start_time": "2022-10-29T07:50:42.464Z"
      },
      {
        "duration": 24,
        "start_time": "2022-10-29T07:50:43.722Z"
      },
      {
        "duration": 15,
        "start_time": "2022-10-29T07:50:46.931Z"
      },
      {
        "duration": 3,
        "start_time": "2022-10-29T07:50:49.006Z"
      },
      {
        "duration": 14,
        "start_time": "2022-10-29T07:50:49.690Z"
      },
      {
        "duration": 4,
        "start_time": "2022-10-29T07:50:51.668Z"
      },
      {
        "duration": 8,
        "start_time": "2022-10-29T07:50:52.897Z"
      },
      {
        "duration": 10,
        "start_time": "2022-10-29T07:50:53.614Z"
      },
      {
        "duration": 9,
        "start_time": "2022-10-29T07:50:55.033Z"
      },
      {
        "duration": 6,
        "start_time": "2022-10-29T07:50:55.798Z"
      },
      {
        "duration": 105,
        "start_time": "2022-10-29T07:50:57.164Z"
      },
      {
        "duration": 157,
        "start_time": "2022-10-29T07:52:30.004Z"
      },
      {
        "duration": 377,
        "start_time": "2022-10-29T07:52:48.610Z"
      },
      {
        "duration": 377,
        "start_time": "2022-10-29T07:57:15.382Z"
      },
      {
        "duration": 4,
        "start_time": "2022-10-29T07:59:00.454Z"
      },
      {
        "duration": 4,
        "start_time": "2022-10-29T07:59:03.650Z"
      },
      {
        "duration": 6339,
        "start_time": "2022-10-29T07:59:53.496Z"
      },
      {
        "duration": 12,
        "start_time": "2022-10-29T08:00:55.695Z"
      },
      {
        "duration": 7,
        "start_time": "2022-10-29T08:01:04.725Z"
      },
      {
        "duration": 10,
        "start_time": "2022-10-29T08:08:13.846Z"
      },
      {
        "duration": 18,
        "start_time": "2022-10-29T08:08:20.530Z"
      },
      {
        "duration": 20,
        "start_time": "2022-10-29T08:09:27.553Z"
      },
      {
        "duration": 5,
        "start_time": "2022-10-29T08:10:09.076Z"
      },
      {
        "duration": 70,
        "start_time": "2022-10-29T08:10:09.624Z"
      },
      {
        "duration": 26,
        "start_time": "2022-10-29T08:10:10.209Z"
      },
      {
        "duration": 14,
        "start_time": "2022-10-29T08:10:10.771Z"
      },
      {
        "duration": 3,
        "start_time": "2022-10-29T08:10:11.573Z"
      },
      {
        "duration": 14,
        "start_time": "2022-10-29T08:10:12.413Z"
      },
      {
        "duration": 6,
        "start_time": "2022-10-29T08:10:14.126Z"
      },
      {
        "duration": 9,
        "start_time": "2022-10-29T08:10:15.711Z"
      },
      {
        "duration": 10,
        "start_time": "2022-10-29T08:10:18.239Z"
      },
      {
        "duration": 9,
        "start_time": "2022-10-29T08:10:19.419Z"
      },
      {
        "duration": 5,
        "start_time": "2022-10-29T08:10:19.879Z"
      },
      {
        "duration": 236,
        "start_time": "2022-10-29T08:10:20.822Z"
      },
      {
        "duration": 375,
        "start_time": "2022-10-29T08:10:21.862Z"
      },
      {
        "duration": 3,
        "start_time": "2022-10-29T08:10:24.696Z"
      },
      {
        "duration": 5,
        "start_time": "2022-10-29T08:10:25.419Z"
      },
      {
        "duration": 6417,
        "start_time": "2022-10-29T08:10:25.996Z"
      },
      {
        "duration": 21,
        "start_time": "2022-10-29T08:10:32.416Z"
      },
      {
        "duration": 22,
        "start_time": "2022-10-29T08:10:32.439Z"
      },
      {
        "duration": 35,
        "start_time": "2022-10-29T08:10:33.618Z"
      },
      {
        "duration": 5,
        "start_time": "2022-10-29T08:11:19.468Z"
      },
      {
        "duration": 8,
        "start_time": "2022-10-29T08:11:22.663Z"
      },
      {
        "duration": 28,
        "start_time": "2022-10-29T08:11:36.386Z"
      },
      {
        "duration": 6,
        "start_time": "2022-10-29T08:11:37.637Z"
      },
      {
        "duration": 8,
        "start_time": "2022-10-29T08:11:38.605Z"
      },
      {
        "duration": 6,
        "start_time": "2022-10-29T08:12:25.604Z"
      },
      {
        "duration": 8,
        "start_time": "2022-10-29T08:12:27.090Z"
      },
      {
        "duration": 7,
        "start_time": "2022-10-29T08:12:45.791Z"
      },
      {
        "duration": 7,
        "start_time": "2022-10-29T08:12:47.172Z"
      },
      {
        "duration": 25,
        "start_time": "2022-10-29T08:13:00.796Z"
      },
      {
        "duration": 195,
        "start_time": "2022-10-29T08:13:20.776Z"
      },
      {
        "duration": 7,
        "start_time": "2022-10-29T08:14:31.711Z"
      },
      {
        "duration": 9,
        "start_time": "2022-10-29T08:14:32.291Z"
      },
      {
        "duration": 24,
        "start_time": "2022-10-29T08:14:33.427Z"
      },
      {
        "duration": 7,
        "start_time": "2022-10-29T08:15:13.889Z"
      },
      {
        "duration": 9,
        "start_time": "2022-10-29T08:15:14.493Z"
      },
      {
        "duration": 27,
        "start_time": "2022-10-29T08:15:15.287Z"
      },
      {
        "duration": 230,
        "start_time": "2022-10-29T08:15:25.002Z"
      },
      {
        "duration": 9,
        "start_time": "2022-10-29T08:22:48.887Z"
      },
      {
        "duration": 8,
        "start_time": "2022-10-29T08:23:00.796Z"
      },
      {
        "duration": 198,
        "start_time": "2022-10-29T08:23:03.859Z"
      },
      {
        "duration": 8,
        "start_time": "2022-10-29T08:23:21.188Z"
      },
      {
        "duration": 197,
        "start_time": "2022-10-29T08:23:34.558Z"
      },
      {
        "duration": 14,
        "start_time": "2022-10-29T08:24:12.219Z"
      },
      {
        "duration": 2091,
        "start_time": "2022-10-29T08:24:22.485Z"
      },
      {
        "duration": 16,
        "start_time": "2022-10-29T08:26:21.098Z"
      },
      {
        "duration": 239,
        "start_time": "2022-10-29T08:26:45.231Z"
      },
      {
        "duration": 8,
        "start_time": "2022-10-29T08:32:01.512Z"
      },
      {
        "duration": 674,
        "start_time": "2022-10-29T08:32:35.726Z"
      },
      {
        "duration": 403,
        "start_time": "2022-10-29T08:32:47.612Z"
      },
      {
        "duration": 413,
        "start_time": "2022-10-29T08:33:43.617Z"
      },
      {
        "duration": 404,
        "start_time": "2022-10-29T08:33:57.500Z"
      },
      {
        "duration": 412,
        "start_time": "2022-10-29T08:34:47.670Z"
      },
      {
        "duration": 420,
        "start_time": "2022-10-29T08:34:58.606Z"
      },
      {
        "duration": 2069,
        "start_time": "2022-10-29T08:35:39.988Z"
      },
      {
        "duration": 19,
        "start_time": "2022-10-29T08:36:37.583Z"
      },
      {
        "duration": 18,
        "start_time": "2022-10-29T08:36:49.740Z"
      },
      {
        "duration": 14,
        "start_time": "2022-10-29T08:36:57.529Z"
      },
      {
        "duration": 18,
        "start_time": "2022-10-29T08:37:11.456Z"
      },
      {
        "duration": 19,
        "start_time": "2022-10-29T08:37:39.538Z"
      },
      {
        "duration": 18,
        "start_time": "2022-10-29T08:37:45.249Z"
      },
      {
        "duration": 14,
        "start_time": "2022-10-29T08:37:51.503Z"
      },
      {
        "duration": 19,
        "start_time": "2022-10-29T08:38:13.514Z"
      },
      {
        "duration": 16,
        "start_time": "2022-10-29T08:38:20.752Z"
      },
      {
        "duration": 15,
        "start_time": "2022-10-29T08:38:26.585Z"
      },
      {
        "duration": 1916,
        "start_time": "2022-10-29T08:46:27.867Z"
      },
      {
        "duration": 19,
        "start_time": "2022-10-29T08:47:05.168Z"
      },
      {
        "duration": 16,
        "start_time": "2022-10-29T08:47:14.352Z"
      },
      {
        "duration": 17,
        "start_time": "2022-10-29T08:47:21.055Z"
      },
      {
        "duration": 18,
        "start_time": "2022-10-29T08:47:46.755Z"
      },
      {
        "duration": 17,
        "start_time": "2022-10-29T08:47:52.649Z"
      },
      {
        "duration": 15,
        "start_time": "2022-10-29T08:48:00.269Z"
      },
      {
        "duration": 23,
        "start_time": "2022-10-29T08:48:12.993Z"
      },
      {
        "duration": 16,
        "start_time": "2022-10-29T08:48:16.544Z"
      },
      {
        "duration": 18,
        "start_time": "2022-10-29T08:48:19.700Z"
      },
      {
        "duration": 11,
        "start_time": "2022-10-29T08:51:36.090Z"
      },
      {
        "duration": 5,
        "start_time": "2022-10-29T08:51:43.606Z"
      },
      {
        "duration": 12,
        "start_time": "2022-10-29T08:51:46.691Z"
      },
      {
        "duration": 12,
        "start_time": "2022-10-29T08:51:59.941Z"
      },
      {
        "duration": 7,
        "start_time": "2022-10-29T08:52:14.620Z"
      },
      {
        "duration": 8,
        "start_time": "2022-10-29T08:52:22.039Z"
      },
      {
        "duration": 12,
        "start_time": "2022-10-29T08:53:54.917Z"
      },
      {
        "duration": 11,
        "start_time": "2022-10-29T08:54:04.420Z"
      },
      {
        "duration": 5,
        "start_time": "2022-10-29T08:54:09.021Z"
      },
      {
        "duration": 8,
        "start_time": "2022-10-29T08:54:33.374Z"
      },
      {
        "duration": 8,
        "start_time": "2022-10-29T08:54:39.407Z"
      },
      {
        "duration": 7,
        "start_time": "2022-10-29T08:54:43.754Z"
      },
      {
        "duration": 1232,
        "start_time": "2022-10-29T20:09:13.816Z"
      },
      {
        "duration": 57,
        "start_time": "2022-10-29T20:09:15.050Z"
      },
      {
        "duration": 24,
        "start_time": "2022-10-29T20:09:15.109Z"
      },
      {
        "duration": 15,
        "start_time": "2022-10-29T20:09:15.135Z"
      },
      {
        "duration": 4,
        "start_time": "2022-10-29T20:09:15.151Z"
      },
      {
        "duration": 16,
        "start_time": "2022-10-29T20:09:15.157Z"
      },
      {
        "duration": 4,
        "start_time": "2022-10-29T20:09:15.176Z"
      },
      {
        "duration": 8,
        "start_time": "2022-10-29T20:09:15.182Z"
      },
      {
        "duration": 40,
        "start_time": "2022-10-29T20:09:15.192Z"
      },
      {
        "duration": 8,
        "start_time": "2022-10-29T20:09:15.235Z"
      },
      {
        "duration": 5,
        "start_time": "2022-10-29T20:09:15.245Z"
      },
      {
        "duration": 240,
        "start_time": "2022-10-29T20:09:15.252Z"
      },
      {
        "duration": 377,
        "start_time": "2022-10-29T20:09:15.494Z"
      },
      {
        "duration": 4,
        "start_time": "2022-10-29T20:09:15.873Z"
      },
      {
        "duration": 5,
        "start_time": "2022-10-29T20:09:15.878Z"
      },
      {
        "duration": 6179,
        "start_time": "2022-10-29T20:09:15.885Z"
      },
      {
        "duration": 12,
        "start_time": "2022-10-29T20:09:22.066Z"
      },
      {
        "duration": 7,
        "start_time": "2022-10-29T20:09:22.080Z"
      },
      {
        "duration": 42,
        "start_time": "2022-10-29T20:09:22.089Z"
      },
      {
        "duration": 7,
        "start_time": "2022-10-29T20:09:22.132Z"
      },
      {
        "duration": 10,
        "start_time": "2022-10-29T20:09:22.140Z"
      },
      {
        "duration": 28,
        "start_time": "2022-10-29T20:09:22.152Z"
      },
      {
        "duration": 265,
        "start_time": "2022-10-29T20:09:22.182Z"
      },
      {
        "duration": 7,
        "start_time": "2022-10-29T20:09:22.449Z"
      },
      {
        "duration": 214,
        "start_time": "2022-10-29T20:09:22.457Z"
      },
      {
        "duration": 7,
        "start_time": "2022-10-29T20:09:22.673Z"
      },
      {
        "duration": 243,
        "start_time": "2022-10-29T20:09:22.682Z"
      },
      {
        "duration": 11,
        "start_time": "2022-10-29T20:09:22.931Z"
      },
      {
        "duration": 2200,
        "start_time": "2022-10-29T20:09:22.945Z"
      },
      {
        "duration": 17,
        "start_time": "2022-10-29T20:09:25.147Z"
      },
      {
        "duration": 257,
        "start_time": "2022-10-29T20:09:25.166Z"
      },
      {
        "duration": 8,
        "start_time": "2022-10-29T20:09:25.425Z"
      },
      {
        "duration": 625,
        "start_time": "2022-10-29T20:09:25.435Z"
      },
      {
        "duration": 419,
        "start_time": "2022-10-29T20:09:26.062Z"
      },
      {
        "duration": 426,
        "start_time": "2022-10-29T20:09:26.483Z"
      },
      {
        "duration": 445,
        "start_time": "2022-10-29T20:09:26.911Z"
      },
      {
        "duration": 444,
        "start_time": "2022-10-29T20:09:27.357Z"
      },
      {
        "duration": 426,
        "start_time": "2022-10-29T20:09:27.803Z"
      },
      {
        "duration": 2241,
        "start_time": "2022-10-29T20:09:28.231Z"
      },
      {
        "duration": 21,
        "start_time": "2022-10-29T20:09:30.474Z"
      },
      {
        "duration": 18,
        "start_time": "2022-10-29T20:09:30.497Z"
      },
      {
        "duration": 31,
        "start_time": "2022-10-29T20:09:30.517Z"
      },
      {
        "duration": 32,
        "start_time": "2022-10-29T20:09:30.551Z"
      },
      {
        "duration": 25,
        "start_time": "2022-10-29T20:09:30.585Z"
      },
      {
        "duration": 30,
        "start_time": "2022-10-29T20:09:30.615Z"
      },
      {
        "duration": 38,
        "start_time": "2022-10-29T20:09:30.648Z"
      },
      {
        "duration": 41,
        "start_time": "2022-10-29T20:09:30.688Z"
      },
      {
        "duration": 41,
        "start_time": "2022-10-29T20:09:30.730Z"
      },
      {
        "duration": 51,
        "start_time": "2022-10-29T20:09:30.773Z"
      },
      {
        "duration": 17,
        "start_time": "2022-10-29T20:09:30.826Z"
      },
      {
        "duration": 27,
        "start_time": "2022-10-29T20:09:30.845Z"
      },
      {
        "duration": 22,
        "start_time": "2022-10-29T20:09:30.874Z"
      },
      {
        "duration": 16,
        "start_time": "2022-10-29T20:09:30.898Z"
      },
      {
        "duration": 24,
        "start_time": "2022-10-29T20:09:30.916Z"
      },
      {
        "duration": 41,
        "start_time": "2022-10-29T20:09:30.942Z"
      },
      {
        "duration": 64,
        "start_time": "2022-10-29T20:09:30.985Z"
      },
      {
        "duration": 60,
        "start_time": "2022-10-29T20:09:31.051Z"
      },
      {
        "duration": 41,
        "start_time": "2022-10-29T20:09:31.113Z"
      },
      {
        "duration": 397,
        "start_time": "2022-11-03T06:16:29.094Z"
      },
      {
        "duration": 107,
        "start_time": "2022-11-03T06:16:30.109Z"
      },
      {
        "duration": 92,
        "start_time": "2022-11-03T06:16:37.301Z"
      },
      {
        "duration": 26,
        "start_time": "2022-11-03T06:16:46.727Z"
      },
      {
        "duration": 15,
        "start_time": "2022-11-03T06:17:12.285Z"
      },
      {
        "duration": 10,
        "start_time": "2022-11-03T06:18:57.694Z"
      },
      {
        "duration": 3,
        "start_time": "2022-11-03T06:21:08.599Z"
      },
      {
        "duration": 21,
        "start_time": "2022-11-03T06:21:12.812Z"
      },
      {
        "duration": 18,
        "start_time": "2022-11-03T06:25:31.280Z"
      },
      {
        "duration": 43,
        "start_time": "2022-11-03T06:26:17.111Z"
      },
      {
        "duration": 47,
        "start_time": "2022-11-03T06:26:24.231Z"
      },
      {
        "duration": 115,
        "start_time": "2022-11-03T06:26:40.750Z"
      },
      {
        "duration": 57,
        "start_time": "2022-11-03T06:27:31.748Z"
      },
      {
        "duration": 13,
        "start_time": "2022-11-03T06:27:40.943Z"
      },
      {
        "duration": 38,
        "start_time": "2022-11-03T06:28:16.041Z"
      },
      {
        "duration": 3,
        "start_time": "2022-11-03T06:28:24.686Z"
      },
      {
        "duration": 15,
        "start_time": "2022-11-03T06:28:32.933Z"
      },
      {
        "duration": 13,
        "start_time": "2022-11-03T06:29:05.378Z"
      },
      {
        "duration": 4,
        "start_time": "2022-11-03T06:29:18.438Z"
      },
      {
        "duration": 15,
        "start_time": "2022-11-03T06:29:29.964Z"
      },
      {
        "duration": 4,
        "start_time": "2022-11-03T06:29:35.972Z"
      },
      {
        "duration": 15,
        "start_time": "2022-11-03T06:29:37.451Z"
      },
      {
        "duration": 13,
        "start_time": "2022-11-03T06:30:19.241Z"
      },
      {
        "duration": 6,
        "start_time": "2022-11-03T06:33:25.934Z"
      },
      {
        "duration": 220,
        "start_time": "2022-11-03T06:33:38.117Z"
      },
      {
        "duration": 76,
        "start_time": "2022-11-03T06:33:52.524Z"
      },
      {
        "duration": 246,
        "start_time": "2022-11-03T06:34:08.515Z"
      },
      {
        "duration": 50,
        "start_time": "2022-11-03T06:36:28.787Z"
      },
      {
        "duration": 45,
        "start_time": "2022-11-03T06:36:33.893Z"
      },
      {
        "duration": 71,
        "start_time": "2022-11-03T06:36:39.896Z"
      },
      {
        "duration": 5,
        "start_time": "2022-11-03T06:36:44.264Z"
      },
      {
        "duration": 7,
        "start_time": "2022-11-03T06:36:56.850Z"
      },
      {
        "duration": 15,
        "start_time": "2022-11-03T06:37:05.942Z"
      },
      {
        "duration": 3,
        "start_time": "2022-11-03T06:37:46.590Z"
      },
      {
        "duration": 20,
        "start_time": "2022-11-03T06:37:47.165Z"
      },
      {
        "duration": 5,
        "start_time": "2022-11-03T06:37:55.896Z"
      },
      {
        "duration": 5,
        "start_time": "2022-11-03T06:37:56.420Z"
      },
      {
        "duration": 15,
        "start_time": "2022-11-03T06:37:57.106Z"
      },
      {
        "duration": 5,
        "start_time": "2022-11-03T06:38:10.159Z"
      },
      {
        "duration": 3,
        "start_time": "2022-11-03T06:38:10.703Z"
      },
      {
        "duration": 18,
        "start_time": "2022-11-03T06:38:11.200Z"
      },
      {
        "duration": 268,
        "start_time": "2022-11-03T06:38:20.809Z"
      },
      {
        "duration": 4,
        "start_time": "2022-11-03T06:38:26.175Z"
      },
      {
        "duration": 5,
        "start_time": "2022-11-03T06:38:32.246Z"
      },
      {
        "duration": 179,
        "start_time": "2022-11-03T06:38:32.757Z"
      },
      {
        "duration": 15,
        "start_time": "2022-11-03T06:39:07.915Z"
      },
      {
        "duration": 2,
        "start_time": "2022-11-03T06:39:13.420Z"
      },
      {
        "duration": 52,
        "start_time": "2022-11-03T06:39:13.881Z"
      },
      {
        "duration": 21,
        "start_time": "2022-11-03T06:39:14.471Z"
      },
      {
        "duration": 19,
        "start_time": "2022-11-03T06:39:15.073Z"
      },
      {
        "duration": 4,
        "start_time": "2022-11-03T06:39:15.675Z"
      },
      {
        "duration": 27,
        "start_time": "2022-11-03T06:39:16.367Z"
      },
      {
        "duration": 12,
        "start_time": "2022-11-03T06:39:17.842Z"
      },
      {
        "duration": 3,
        "start_time": "2022-11-03T06:42:34.679Z"
      },
      {
        "duration": 14,
        "start_time": "2022-11-03T06:42:40.564Z"
      },
      {
        "duration": 9,
        "start_time": "2022-11-03T06:43:28.665Z"
      },
      {
        "duration": 14,
        "start_time": "2022-11-03T06:43:32.437Z"
      },
      {
        "duration": 14,
        "start_time": "2022-11-03T06:44:26.297Z"
      },
      {
        "duration": 13,
        "start_time": "2022-11-03T06:44:32.012Z"
      },
      {
        "duration": 16,
        "start_time": "2022-11-03T06:45:55.482Z"
      },
      {
        "duration": 18,
        "start_time": "2022-11-03T06:45:57.738Z"
      },
      {
        "duration": 10,
        "start_time": "2022-11-03T06:47:20.106Z"
      },
      {
        "duration": 6,
        "start_time": "2022-11-03T06:50:33.509Z"
      },
      {
        "duration": 9,
        "start_time": "2022-11-03T06:50:39.403Z"
      },
      {
        "duration": 737,
        "start_time": "2022-11-03T06:52:27.527Z"
      },
      {
        "duration": 5,
        "start_time": "2022-11-03T06:52:37.224Z"
      },
      {
        "duration": 6,
        "start_time": "2022-11-03T06:52:51.367Z"
      },
      {
        "duration": 7,
        "start_time": "2022-11-03T06:56:36.194Z"
      },
      {
        "duration": 5,
        "start_time": "2022-11-03T06:57:44.741Z"
      },
      {
        "duration": 3,
        "start_time": "2022-11-03T07:00:21.094Z"
      },
      {
        "duration": 0,
        "start_time": "2022-11-03T07:00:21.334Z"
      },
      {
        "duration": 35,
        "start_time": "2022-11-03T07:00:22.081Z"
      },
      {
        "duration": 36,
        "start_time": "2022-11-03T07:00:50.171Z"
      },
      {
        "duration": 41,
        "start_time": "2022-11-03T07:01:06.161Z"
      },
      {
        "duration": 10,
        "start_time": "2022-11-03T07:01:28.835Z"
      },
      {
        "duration": 37306,
        "start_time": "2022-11-03T07:01:35.900Z"
      },
      {
        "duration": 134,
        "start_time": "2022-11-03T07:02:13.786Z"
      },
      {
        "duration": 150,
        "start_time": "2022-11-03T07:02:32.083Z"
      },
      {
        "duration": 230,
        "start_time": "2022-11-03T07:04:26.633Z"
      },
      {
        "duration": 261,
        "start_time": "2022-11-03T07:05:54.847Z"
      },
      {
        "duration": 307,
        "start_time": "2022-11-03T07:06:03.021Z"
      },
      {
        "duration": 292,
        "start_time": "2022-11-03T07:07:04.169Z"
      },
      {
        "duration": 305,
        "start_time": "2022-11-03T07:07:20.575Z"
      },
      {
        "duration": 844,
        "start_time": "2022-11-03T07:07:35.198Z"
      },
      {
        "duration": 818,
        "start_time": "2022-11-03T07:11:36.832Z"
      },
      {
        "duration": 18,
        "start_time": "2022-11-03T07:11:46.154Z"
      },
      {
        "duration": 11,
        "start_time": "2022-11-03T07:11:58.980Z"
      },
      {
        "duration": 135,
        "start_time": "2022-11-03T07:12:05.913Z"
      },
      {
        "duration": 24,
        "start_time": "2022-11-03T07:12:52.807Z"
      },
      {
        "duration": 18,
        "start_time": "2022-11-03T07:13:04.467Z"
      },
      {
        "duration": 15,
        "start_time": "2022-11-03T07:13:13.966Z"
      },
      {
        "duration": 41,
        "start_time": "2022-11-03T07:13:30.125Z"
      },
      {
        "duration": 182,
        "start_time": "2022-11-03T07:15:13.714Z"
      },
      {
        "duration": 169,
        "start_time": "2022-11-03T07:15:31.042Z"
      },
      {
        "duration": 397,
        "start_time": "2022-11-03T07:15:40.207Z"
      },
      {
        "duration": 271,
        "start_time": "2022-11-03T07:15:50.794Z"
      },
      {
        "duration": 1668,
        "start_time": "2022-11-03T07:16:23.648Z"
      },
      {
        "duration": 488,
        "start_time": "2022-11-03T07:17:53.778Z"
      },
      {
        "duration": 270,
        "start_time": "2022-11-03T07:18:25.231Z"
      },
      {
        "duration": 46,
        "start_time": "2022-11-03T11:21:09.315Z"
      },
      {
        "duration": 676,
        "start_time": "2022-11-03T11:21:14.333Z"
      },
      {
        "duration": 196,
        "start_time": "2022-11-03T11:21:15.626Z"
      },
      {
        "duration": 21,
        "start_time": "2022-11-03T11:21:16.495Z"
      },
      {
        "duration": 13,
        "start_time": "2022-11-03T11:21:17.158Z"
      },
      {
        "duration": 4,
        "start_time": "2022-11-03T11:21:17.865Z"
      },
      {
        "duration": 20,
        "start_time": "2022-11-03T11:21:18.515Z"
      },
      {
        "duration": 19,
        "start_time": "2022-11-03T11:21:19.766Z"
      },
      {
        "duration": 12,
        "start_time": "2022-11-03T11:21:20.962Z"
      },
      {
        "duration": 8,
        "start_time": "2022-11-03T11:21:21.484Z"
      },
      {
        "duration": 6,
        "start_time": "2022-11-03T11:21:22.624Z"
      },
      {
        "duration": 7,
        "start_time": "2022-11-03T11:21:23.136Z"
      },
      {
        "duration": 5,
        "start_time": "2022-11-03T11:21:24.162Z"
      },
      {
        "duration": 128,
        "start_time": "2022-11-03T11:21:24.676Z"
      },
      {
        "duration": 786,
        "start_time": "2022-11-03T11:21:25.875Z"
      },
      {
        "duration": 7,
        "start_time": "2022-11-03T11:21:30.915Z"
      },
      {
        "duration": 599,
        "start_time": "2022-11-03T11:21:38.760Z"
      },
      {
        "duration": 128,
        "start_time": "2022-11-03T11:22:26.964Z"
      },
      {
        "duration": 118,
        "start_time": "2022-11-03T11:22:51.635Z"
      },
      {
        "duration": 114,
        "start_time": "2022-11-03T11:23:24.023Z"
      },
      {
        "duration": 171,
        "start_time": "2022-11-03T11:23:33.447Z"
      },
      {
        "duration": 137,
        "start_time": "2022-11-03T11:23:48.546Z"
      },
      {
        "duration": 133,
        "start_time": "2022-11-03T11:26:40.223Z"
      },
      {
        "duration": 123,
        "start_time": "2022-11-03T11:27:00.470Z"
      },
      {
        "duration": 1184,
        "start_time": "2022-11-03T11:28:08.650Z"
      },
      {
        "duration": 14,
        "start_time": "2022-11-03T11:28:21.212Z"
      },
      {
        "duration": 544,
        "start_time": "2022-11-03T11:28:44.602Z"
      },
      {
        "duration": 9,
        "start_time": "2022-11-03T11:29:24.077Z"
      },
      {
        "duration": 8,
        "start_time": "2022-11-03T11:29:30.914Z"
      },
      {
        "duration": 566,
        "start_time": "2022-11-03T11:29:38.888Z"
      },
      {
        "duration": 533,
        "start_time": "2022-11-03T11:29:54.259Z"
      },
      {
        "duration": 135,
        "start_time": "2022-11-03T11:32:01.132Z"
      },
      {
        "duration": 18,
        "start_time": "2022-11-03T11:32:12.536Z"
      },
      {
        "duration": 117,
        "start_time": "2022-11-03T11:33:51.927Z"
      },
      {
        "duration": 3,
        "start_time": "2022-11-03T11:34:31.307Z"
      },
      {
        "duration": 167,
        "start_time": "2022-11-03T11:34:35.784Z"
      },
      {
        "duration": 107,
        "start_time": "2022-11-03T11:34:44.457Z"
      },
      {
        "duration": 121,
        "start_time": "2022-11-03T11:34:52.133Z"
      },
      {
        "duration": 228,
        "start_time": "2022-11-03T11:35:21.737Z"
      },
      {
        "duration": 197,
        "start_time": "2022-11-03T11:35:27.194Z"
      },
      {
        "duration": 18,
        "start_time": "2022-11-03T11:35:45.665Z"
      },
      {
        "duration": 17,
        "start_time": "2022-11-03T11:35:54.368Z"
      },
      {
        "duration": 17,
        "start_time": "2022-11-03T11:36:01.484Z"
      },
      {
        "duration": 171,
        "start_time": "2022-11-03T11:36:28.683Z"
      },
      {
        "duration": 128,
        "start_time": "2022-11-03T11:37:34.589Z"
      },
      {
        "duration": 170,
        "start_time": "2022-11-03T11:37:49.166Z"
      },
      {
        "duration": 1120,
        "start_time": "2022-11-03T11:39:15.623Z"
      },
      {
        "duration": 1143,
        "start_time": "2022-11-03T11:39:32.288Z"
      },
      {
        "duration": 200,
        "start_time": "2022-11-03T11:40:12.637Z"
      },
      {
        "duration": 124,
        "start_time": "2022-11-03T11:41:38.049Z"
      },
      {
        "duration": 1130,
        "start_time": "2022-11-03T11:41:46.558Z"
      },
      {
        "duration": 132,
        "start_time": "2022-11-03T11:41:56.814Z"
      },
      {
        "duration": 114,
        "start_time": "2022-11-03T11:42:18.585Z"
      },
      {
        "duration": 109,
        "start_time": "2022-11-03T11:42:35.128Z"
      },
      {
        "duration": 170,
        "start_time": "2022-11-03T11:43:14.073Z"
      },
      {
        "duration": 574,
        "start_time": "2022-11-03T11:43:22.803Z"
      },
      {
        "duration": 178,
        "start_time": "2022-11-03T11:43:35.584Z"
      },
      {
        "duration": 286,
        "start_time": "2022-11-03T11:44:50.628Z"
      },
      {
        "duration": 166,
        "start_time": "2022-11-03T11:44:56.385Z"
      },
      {
        "duration": 643,
        "start_time": "2022-11-03T11:45:23.168Z"
      },
      {
        "duration": 182,
        "start_time": "2022-11-03T11:45:31.898Z"
      },
      {
        "duration": 661,
        "start_time": "2022-11-03T11:45:38.669Z"
      },
      {
        "duration": 6,
        "start_time": "2022-11-03T11:46:31.888Z"
      },
      {
        "duration": 645,
        "start_time": "2022-11-03T11:46:32.599Z"
      },
      {
        "duration": 128,
        "start_time": "2022-11-03T11:46:40.566Z"
      },
      {
        "duration": 120,
        "start_time": "2022-11-03T11:47:10.827Z"
      },
      {
        "duration": 16,
        "start_time": "2022-11-03T11:48:13.545Z"
      },
      {
        "duration": 13,
        "start_time": "2022-11-03T11:48:39.252Z"
      },
      {
        "duration": 20,
        "start_time": "2022-11-03T11:48:53.918Z"
      },
      {
        "duration": 1188,
        "start_time": "2022-11-03T11:49:19.354Z"
      },
      {
        "duration": 201,
        "start_time": "2022-11-03T11:49:29.278Z"
      },
      {
        "duration": 1133,
        "start_time": "2022-11-03T11:50:00.250Z"
      },
      {
        "duration": 106,
        "start_time": "2022-11-03T11:50:07.159Z"
      },
      {
        "duration": 104,
        "start_time": "2022-11-03T11:50:26.709Z"
      },
      {
        "duration": 17,
        "start_time": "2022-11-03T11:50:35.764Z"
      },
      {
        "duration": 16,
        "start_time": "2022-11-03T11:50:52.775Z"
      },
      {
        "duration": 15,
        "start_time": "2022-11-03T11:50:57.033Z"
      },
      {
        "duration": 951,
        "start_time": "2022-11-03T20:48:37.167Z"
      },
      {
        "duration": 209,
        "start_time": "2022-11-03T20:48:38.121Z"
      },
      {
        "duration": 28,
        "start_time": "2022-11-03T20:48:39.122Z"
      },
      {
        "duration": 16,
        "start_time": "2022-11-03T20:48:40.026Z"
      },
      {
        "duration": 3,
        "start_time": "2022-11-03T20:48:40.766Z"
      },
      {
        "duration": 31,
        "start_time": "2022-11-03T20:48:41.615Z"
      },
      {
        "duration": 24,
        "start_time": "2022-11-03T20:48:42.936Z"
      },
      {
        "duration": 13,
        "start_time": "2022-11-03T20:48:44.092Z"
      },
      {
        "duration": 12,
        "start_time": "2022-11-03T20:48:44.621Z"
      },
      {
        "duration": 6,
        "start_time": "2022-11-03T20:48:45.620Z"
      },
      {
        "duration": 9,
        "start_time": "2022-11-03T20:48:46.153Z"
      },
      {
        "duration": 6,
        "start_time": "2022-11-03T20:48:47.370Z"
      },
      {
        "duration": 204,
        "start_time": "2022-11-03T20:48:47.931Z"
      },
      {
        "duration": 1016,
        "start_time": "2022-11-03T20:48:49.138Z"
      },
      {
        "duration": 158,
        "start_time": "2022-11-03T20:48:51.781Z"
      },
      {
        "duration": 142,
        "start_time": "2022-11-03T20:48:52.738Z"
      },
      {
        "duration": 142,
        "start_time": "2022-11-03T20:48:53.859Z"
      },
      {
        "duration": 132,
        "start_time": "2022-11-03T20:48:54.604Z"
      },
      {
        "duration": 168,
        "start_time": "2022-11-03T20:48:55.204Z"
      },
      {
        "duration": 7,
        "start_time": "2022-11-03T20:48:57.981Z"
      },
      {
        "duration": 6,
        "start_time": "2022-11-03T20:52:14.600Z"
      },
      {
        "duration": 103,
        "start_time": "2022-11-03T20:53:30.543Z"
      },
      {
        "duration": 15,
        "start_time": "2022-11-03T21:00:24.849Z"
      },
      {
        "duration": 16,
        "start_time": "2022-11-03T21:00:40.656Z"
      },
      {
        "duration": 19,
        "start_time": "2022-11-03T21:00:58.924Z"
      },
      {
        "duration": 24,
        "start_time": "2022-11-03T21:01:11.837Z"
      },
      {
        "duration": 2,
        "start_time": "2022-11-03T21:01:22.682Z"
      },
      {
        "duration": 53,
        "start_time": "2022-11-03T21:01:23.381Z"
      },
      {
        "duration": 23,
        "start_time": "2022-11-03T21:01:24.116Z"
      },
      {
        "duration": 14,
        "start_time": "2022-11-03T21:01:24.754Z"
      },
      {
        "duration": 3,
        "start_time": "2022-11-03T21:01:25.378Z"
      },
      {
        "duration": 25,
        "start_time": "2022-11-03T21:01:27.297Z"
      },
      {
        "duration": 21,
        "start_time": "2022-11-03T21:01:28.461Z"
      },
      {
        "duration": 14,
        "start_time": "2022-11-03T21:01:29.857Z"
      },
      {
        "duration": 9,
        "start_time": "2022-11-03T21:01:31.648Z"
      },
      {
        "duration": 6,
        "start_time": "2022-11-03T21:01:32.970Z"
      },
      {
        "duration": 10,
        "start_time": "2022-11-03T21:01:33.574Z"
      },
      {
        "duration": 6,
        "start_time": "2022-11-03T21:01:34.631Z"
      },
      {
        "duration": 216,
        "start_time": "2022-11-03T21:01:35.074Z"
      },
      {
        "duration": 866,
        "start_time": "2022-11-03T21:01:36.158Z"
      },
      {
        "duration": 138,
        "start_time": "2022-11-03T21:01:38.116Z"
      },
      {
        "duration": 151,
        "start_time": "2022-11-03T21:01:38.917Z"
      },
      {
        "duration": 131,
        "start_time": "2022-11-03T21:01:39.690Z"
      },
      {
        "duration": 247,
        "start_time": "2022-11-03T21:01:40.408Z"
      },
      {
        "duration": 172,
        "start_time": "2022-11-03T21:01:41.037Z"
      },
      {
        "duration": 6,
        "start_time": "2022-11-03T21:01:42.375Z"
      },
      {
        "duration": 16,
        "start_time": "2022-11-03T21:01:43.788Z"
      },
      {
        "duration": 20,
        "start_time": "2022-11-03T21:02:12.889Z"
      },
      {
        "duration": 13,
        "start_time": "2022-11-03T21:02:22.295Z"
      },
      {
        "duration": 17,
        "start_time": "2022-11-03T21:02:29.502Z"
      },
      {
        "duration": 174,
        "start_time": "2022-11-03T21:04:22.019Z"
      },
      {
        "duration": 18,
        "start_time": "2022-11-03T21:05:41.528Z"
      },
      {
        "duration": 161,
        "start_time": "2022-11-03T21:05:51.841Z"
      },
      {
        "duration": 4,
        "start_time": "2022-11-03T21:07:42.262Z"
      },
      {
        "duration": 147,
        "start_time": "2022-11-03T21:08:42.571Z"
      },
      {
        "duration": 150,
        "start_time": "2022-11-03T21:08:54.574Z"
      },
      {
        "duration": 153,
        "start_time": "2022-11-03T21:09:08.219Z"
      },
      {
        "duration": 154,
        "start_time": "2022-11-03T21:09:24.468Z"
      },
      {
        "duration": 6,
        "start_time": "2022-11-03T21:10:28.542Z"
      },
      {
        "duration": 3,
        "start_time": "2022-11-03T21:10:52.956Z"
      },
      {
        "duration": 57,
        "start_time": "2022-11-03T21:10:53.790Z"
      },
      {
        "duration": 25,
        "start_time": "2022-11-03T21:10:54.494Z"
      },
      {
        "duration": 16,
        "start_time": "2022-11-03T21:10:55.215Z"
      },
      {
        "duration": 3,
        "start_time": "2022-11-03T21:10:55.882Z"
      },
      {
        "duration": 23,
        "start_time": "2022-11-03T21:10:56.506Z"
      },
      {
        "duration": 33,
        "start_time": "2022-11-03T21:10:57.696Z"
      },
      {
        "duration": 15,
        "start_time": "2022-11-03T21:10:58.898Z"
      },
      {
        "duration": 9,
        "start_time": "2022-11-03T21:10:59.483Z"
      },
      {
        "duration": 7,
        "start_time": "2022-11-03T21:11:00.668Z"
      },
      {
        "duration": 13,
        "start_time": "2022-11-03T21:11:01.231Z"
      },
      {
        "duration": 5,
        "start_time": "2022-11-03T21:11:02.465Z"
      },
      {
        "duration": 149,
        "start_time": "2022-11-03T21:11:03.297Z"
      },
      {
        "duration": 1088,
        "start_time": "2022-11-03T21:11:04.772Z"
      },
      {
        "duration": 170,
        "start_time": "2022-11-03T21:11:06.132Z"
      },
      {
        "duration": 140,
        "start_time": "2022-11-03T21:11:07.188Z"
      },
      {
        "duration": 179,
        "start_time": "2022-11-03T21:11:07.768Z"
      },
      {
        "duration": 154,
        "start_time": "2022-11-03T21:11:08.475Z"
      },
      {
        "duration": 149,
        "start_time": "2022-11-03T21:11:09.047Z"
      },
      {
        "duration": 6,
        "start_time": "2022-11-03T21:11:10.317Z"
      },
      {
        "duration": 5,
        "start_time": "2022-11-03T21:11:11.055Z"
      },
      {
        "duration": 170,
        "start_time": "2022-11-03T21:11:11.796Z"
      },
      {
        "duration": 156,
        "start_time": "2022-11-03T21:11:13.589Z"
      },
      {
        "duration": 408,
        "start_time": "2022-11-03T21:12:06.010Z"
      },
      {
        "duration": 5065,
        "start_time": "2022-11-03T21:12:33.287Z"
      },
      {
        "duration": 27,
        "start_time": "2022-11-03T21:13:08.711Z"
      },
      {
        "duration": 4713,
        "start_time": "2022-11-03T21:13:38.832Z"
      },
      {
        "duration": 6201,
        "start_time": "2022-11-03T21:14:32.651Z"
      },
      {
        "duration": 6888,
        "start_time": "2022-11-03T21:15:19.898Z"
      },
      {
        "duration": 13537,
        "start_time": "2022-11-03T21:16:33.409Z"
      },
      {
        "duration": 3678,
        "start_time": "2022-11-03T21:19:52.128Z"
      },
      {
        "duration": 2481,
        "start_time": "2022-11-03T21:19:55.808Z"
      },
      {
        "duration": 3220,
        "start_time": "2022-11-03T21:19:58.291Z"
      },
      {
        "duration": 2109,
        "start_time": "2022-11-03T21:20:01.514Z"
      },
      {
        "duration": 1449,
        "start_time": "2022-11-03T21:20:03.625Z"
      },
      {
        "duration": 2765,
        "start_time": "2022-11-03T21:20:05.076Z"
      },
      {
        "duration": 3989,
        "start_time": "2022-11-03T21:20:07.844Z"
      },
      {
        "duration": 1268,
        "start_time": "2022-11-03T21:20:11.836Z"
      },
      {
        "duration": 511,
        "start_time": "2022-11-03T21:20:13.106Z"
      },
      {
        "duration": 532,
        "start_time": "2022-11-03T21:20:13.620Z"
      },
      {
        "duration": 537,
        "start_time": "2022-11-03T21:20:14.153Z"
      },
      {
        "duration": 218,
        "start_time": "2022-11-03T21:20:14.692Z"
      },
      {
        "duration": 4623,
        "start_time": "2022-11-03T21:21:51.384Z"
      },
      {
        "duration": 5678,
        "start_time": "2022-11-03T21:21:56.010Z"
      },
      {
        "duration": 5318,
        "start_time": "2022-11-03T21:22:01.690Z"
      },
      {
        "duration": 7400,
        "start_time": "2022-11-03T21:22:07.011Z"
      },
      {
        "duration": 3063,
        "start_time": "2022-11-03T21:22:14.413Z"
      },
      {
        "duration": 2709,
        "start_time": "2022-11-03T21:22:17.479Z"
      },
      {
        "duration": 4210,
        "start_time": "2022-11-03T21:22:20.191Z"
      },
      {
        "duration": 2061,
        "start_time": "2022-11-03T21:22:24.403Z"
      },
      {
        "duration": 1317,
        "start_time": "2022-11-03T21:22:26.466Z"
      },
      {
        "duration": 2676,
        "start_time": "2022-11-03T21:22:27.786Z"
      },
      {
        "duration": 2681,
        "start_time": "2022-11-03T21:22:30.464Z"
      },
      {
        "duration": 1308,
        "start_time": "2022-11-03T21:22:33.147Z"
      },
      {
        "duration": 481,
        "start_time": "2022-11-03T21:22:34.457Z"
      },
      {
        "duration": 560,
        "start_time": "2022-11-03T21:22:34.940Z"
      },
      {
        "duration": 526,
        "start_time": "2022-11-03T21:22:35.502Z"
      },
      {
        "duration": 176,
        "start_time": "2022-11-03T21:22:36.032Z"
      },
      {
        "duration": 160,
        "start_time": "2022-11-03T21:23:37.988Z"
      },
      {
        "duration": 21,
        "start_time": "2022-11-03T21:24:05.772Z"
      },
      {
        "duration": 148,
        "start_time": "2022-11-03T21:24:11.835Z"
      },
      {
        "duration": 178,
        "start_time": "2022-11-03T21:24:26.575Z"
      },
      {
        "duration": 160,
        "start_time": "2022-11-03T21:24:40.194Z"
      },
      {
        "duration": 178,
        "start_time": "2022-11-03T21:24:45.865Z"
      },
      {
        "duration": 20,
        "start_time": "2022-11-03T21:25:16.121Z"
      },
      {
        "duration": 154,
        "start_time": "2022-11-03T21:25:29.741Z"
      },
      {
        "duration": 5,
        "start_time": "2022-11-03T21:25:38.378Z"
      },
      {
        "duration": 172,
        "start_time": "2022-11-03T21:25:41.129Z"
      },
      {
        "duration": 167,
        "start_time": "2022-11-03T21:25:41.945Z"
      },
      {
        "duration": 168,
        "start_time": "2022-11-03T21:25:44.967Z"
      },
      {
        "duration": 201,
        "start_time": "2022-11-03T21:25:47.861Z"
      },
      {
        "duration": 146,
        "start_time": "2022-11-03T21:25:56.962Z"
      },
      {
        "duration": 178,
        "start_time": "2022-11-03T21:26:03.938Z"
      },
      {
        "duration": 153,
        "start_time": "2022-11-03T21:26:09.583Z"
      },
      {
        "duration": 165,
        "start_time": "2022-11-03T21:26:15.641Z"
      },
      {
        "duration": 174,
        "start_time": "2022-11-03T21:26:21.723Z"
      },
      {
        "duration": 146,
        "start_time": "2022-11-03T21:26:27.356Z"
      },
      {
        "duration": 164,
        "start_time": "2022-11-03T21:26:32.693Z"
      },
      {
        "duration": 162,
        "start_time": "2022-11-03T21:26:38.314Z"
      },
      {
        "duration": 169,
        "start_time": "2022-11-03T21:26:43.329Z"
      },
      {
        "duration": 174,
        "start_time": "2022-11-03T21:26:48.445Z"
      },
      {
        "duration": 2446,
        "start_time": "2022-11-03T21:26:53.689Z"
      },
      {
        "duration": 190,
        "start_time": "2022-11-03T21:27:01.735Z"
      },
      {
        "duration": 333,
        "start_time": "2022-11-03T21:29:09.040Z"
      },
      {
        "duration": 176,
        "start_time": "2022-11-03T21:29:57.376Z"
      },
      {
        "duration": 172,
        "start_time": "2022-11-03T21:30:01.834Z"
      },
      {
        "duration": 356,
        "start_time": "2022-11-03T21:54:47.790Z"
      },
      {
        "duration": 11,
        "start_time": "2022-11-03T21:56:09.306Z"
      },
      {
        "duration": 10,
        "start_time": "2022-11-03T21:56:36.155Z"
      },
      {
        "duration": 296,
        "start_time": "2022-11-03T21:57:21.663Z"
      },
      {
        "duration": 118,
        "start_time": "2022-11-03T21:58:11.835Z"
      },
      {
        "duration": 1119,
        "start_time": "2022-11-03T21:58:23.753Z"
      },
      {
        "duration": 16,
        "start_time": "2022-11-03T21:58:30.888Z"
      },
      {
        "duration": 16,
        "start_time": "2022-11-03T21:58:54.740Z"
      },
      {
        "duration": 148,
        "start_time": "2022-11-03T21:59:09.570Z"
      },
      {
        "duration": 160,
        "start_time": "2022-11-03T21:59:39.210Z"
      },
      {
        "duration": 15,
        "start_time": "2022-11-03T21:59:59.272Z"
      },
      {
        "duration": 14,
        "start_time": "2022-11-03T22:01:02.214Z"
      },
      {
        "duration": 280,
        "start_time": "2022-11-03T22:01:46.213Z"
      },
      {
        "duration": 1145,
        "start_time": "2022-11-03T22:02:01.556Z"
      },
      {
        "duration": 140,
        "start_time": "2022-11-03T22:06:02.052Z"
      },
      {
        "duration": 128,
        "start_time": "2022-11-03T22:06:39.507Z"
      },
      {
        "duration": 142,
        "start_time": "2022-11-03T22:07:35.238Z"
      },
      {
        "duration": 111,
        "start_time": "2022-11-03T22:08:14.661Z"
      },
      {
        "duration": 195,
        "start_time": "2022-11-03T22:08:47.938Z"
      },
      {
        "duration": 129,
        "start_time": "2022-11-03T22:10:05.415Z"
      },
      {
        "duration": 14,
        "start_time": "2022-11-03T22:10:47.759Z"
      },
      {
        "duration": 251,
        "start_time": "2022-11-03T22:13:06.463Z"
      },
      {
        "duration": 12,
        "start_time": "2022-11-03T22:13:43.643Z"
      },
      {
        "duration": 14,
        "start_time": "2022-11-03T22:14:07.787Z"
      },
      {
        "duration": 287,
        "start_time": "2022-11-03T22:14:20.328Z"
      },
      {
        "duration": 138,
        "start_time": "2022-11-03T22:15:40.354Z"
      },
      {
        "duration": 112,
        "start_time": "2022-11-03T22:15:55.391Z"
      },
      {
        "duration": 4,
        "start_time": "2022-11-03T22:16:50.630Z"
      },
      {
        "duration": 60,
        "start_time": "2022-11-03T22:16:51.223Z"
      },
      {
        "duration": 26,
        "start_time": "2022-11-03T22:16:51.744Z"
      },
      {
        "duration": 15,
        "start_time": "2022-11-03T22:16:52.294Z"
      },
      {
        "duration": 4,
        "start_time": "2022-11-03T22:16:52.778Z"
      },
      {
        "duration": 22,
        "start_time": "2022-11-03T22:16:53.265Z"
      },
      {
        "duration": 22,
        "start_time": "2022-11-03T22:16:54.147Z"
      },
      {
        "duration": 14,
        "start_time": "2022-11-03T22:16:55.044Z"
      },
      {
        "duration": 12,
        "start_time": "2022-11-03T22:16:55.493Z"
      },
      {
        "duration": 6,
        "start_time": "2022-11-03T22:16:56.370Z"
      },
      {
        "duration": 9,
        "start_time": "2022-11-03T22:16:56.759Z"
      },
      {
        "duration": 5,
        "start_time": "2022-11-03T22:16:57.659Z"
      },
      {
        "duration": 149,
        "start_time": "2022-11-03T22:16:58.098Z"
      },
      {
        "duration": 865,
        "start_time": "2022-11-03T22:16:58.850Z"
      },
      {
        "duration": 148,
        "start_time": "2022-11-03T22:16:59.720Z"
      },
      {
        "duration": 141,
        "start_time": "2022-11-03T22:17:00.172Z"
      },
      {
        "duration": 135,
        "start_time": "2022-11-03T22:17:00.606Z"
      },
      {
        "duration": 140,
        "start_time": "2022-11-03T22:17:01.055Z"
      },
      {
        "duration": 169,
        "start_time": "2022-11-03T22:17:01.465Z"
      },
      {
        "duration": 6,
        "start_time": "2022-11-03T22:17:02.293Z"
      },
      {
        "duration": 5,
        "start_time": "2022-11-03T22:17:02.720Z"
      },
      {
        "duration": 147,
        "start_time": "2022-11-03T22:17:03.157Z"
      },
      {
        "duration": 174,
        "start_time": "2022-11-03T22:17:03.572Z"
      },
      {
        "duration": 186,
        "start_time": "2022-11-03T22:17:03.998Z"
      },
      {
        "duration": 194,
        "start_time": "2022-11-03T22:17:04.442Z"
      },
      {
        "duration": 168,
        "start_time": "2022-11-03T22:17:04.889Z"
      },
      {
        "duration": 181,
        "start_time": "2022-11-03T22:17:05.263Z"
      },
      {
        "duration": 191,
        "start_time": "2022-11-03T22:17:05.664Z"
      },
      {
        "duration": 157,
        "start_time": "2022-11-03T22:17:06.107Z"
      },
      {
        "duration": 185,
        "start_time": "2022-11-03T22:17:06.493Z"
      },
      {
        "duration": 146,
        "start_time": "2022-11-03T22:17:06.899Z"
      },
      {
        "duration": 155,
        "start_time": "2022-11-03T22:17:07.340Z"
      },
      {
        "duration": 162,
        "start_time": "2022-11-03T22:17:07.797Z"
      },
      {
        "duration": 167,
        "start_time": "2022-11-03T22:17:08.221Z"
      },
      {
        "duration": 152,
        "start_time": "2022-11-03T22:17:08.642Z"
      },
      {
        "duration": 168,
        "start_time": "2022-11-03T22:17:09.076Z"
      },
      {
        "duration": 178,
        "start_time": "2022-11-03T22:17:09.478Z"
      },
      {
        "duration": 121,
        "start_time": "2022-11-03T22:17:10.336Z"
      },
      {
        "duration": 117,
        "start_time": "2022-11-03T22:17:23.221Z"
      },
      {
        "duration": 13,
        "start_time": "2022-11-03T22:17:42.410Z"
      },
      {
        "duration": 117,
        "start_time": "2022-11-03T22:17:48.235Z"
      },
      {
        "duration": 96,
        "start_time": "2022-11-03T22:18:34.714Z"
      },
      {
        "duration": 89,
        "start_time": "2022-11-03T22:19:40.516Z"
      },
      {
        "duration": 92,
        "start_time": "2022-11-03T22:22:45.076Z"
      },
      {
        "duration": 113,
        "start_time": "2022-11-03T22:22:45.983Z"
      },
      {
        "duration": 90,
        "start_time": "2022-11-03T22:22:46.860Z"
      },
      {
        "duration": 126,
        "start_time": "2022-11-03T22:22:47.681Z"
      },
      {
        "duration": 111,
        "start_time": "2022-11-03T22:22:48.423Z"
      },
      {
        "duration": 111,
        "start_time": "2022-11-03T22:22:49.588Z"
      },
      {
        "duration": 116,
        "start_time": "2022-11-03T22:22:49.873Z"
      },
      {
        "duration": 120,
        "start_time": "2022-11-03T22:22:50.945Z"
      },
      {
        "duration": 119,
        "start_time": "2022-11-03T22:22:51.704Z"
      },
      {
        "duration": 92,
        "start_time": "2022-11-03T22:22:52.460Z"
      },
      {
        "duration": 96,
        "start_time": "2022-11-03T22:22:53.164Z"
      },
      {
        "duration": 109,
        "start_time": "2022-11-03T22:22:53.914Z"
      },
      {
        "duration": 101,
        "start_time": "2022-11-03T22:22:54.654Z"
      },
      {
        "duration": 110,
        "start_time": "2022-11-03T22:22:55.583Z"
      },
      {
        "duration": 107,
        "start_time": "2022-11-03T22:22:56.331Z"
      },
      {
        "duration": 118,
        "start_time": "2022-11-03T22:22:57.141Z"
      },
      {
        "duration": 160,
        "start_time": "2022-11-03T22:26:34.989Z"
      },
      {
        "duration": 151,
        "start_time": "2022-11-03T22:26:55.487Z"
      },
      {
        "duration": 73,
        "start_time": "2022-11-03T22:28:40.505Z"
      },
      {
        "duration": 152,
        "start_time": "2022-11-03T22:28:46.328Z"
      },
      {
        "duration": 148,
        "start_time": "2022-11-03T22:29:52.306Z"
      },
      {
        "duration": 9,
        "start_time": "2022-11-03T22:32:38.000Z"
      },
      {
        "duration": 11,
        "start_time": "2022-11-03T22:33:03.065Z"
      },
      {
        "duration": 4,
        "start_time": "2022-11-03T22:34:16.800Z"
      },
      {
        "duration": 5,
        "start_time": "2022-11-03T22:34:22.278Z"
      },
      {
        "duration": 7,
        "start_time": "2022-11-03T22:34:37.175Z"
      },
      {
        "duration": 151,
        "start_time": "2022-11-03T22:34:46.861Z"
      },
      {
        "duration": 210,
        "start_time": "2022-11-03T22:35:10.039Z"
      },
      {
        "duration": 158,
        "start_time": "2022-11-03T22:35:21.498Z"
      },
      {
        "duration": 15,
        "start_time": "2022-11-03T22:36:02.600Z"
      },
      {
        "duration": 12,
        "start_time": "2022-11-03T22:36:16.403Z"
      },
      {
        "duration": 10,
        "start_time": "2022-11-03T22:36:28.279Z"
      },
      {
        "duration": 8,
        "start_time": "2022-11-03T22:36:32.411Z"
      },
      {
        "duration": 12,
        "start_time": "2022-11-03T22:38:01.243Z"
      },
      {
        "duration": 133,
        "start_time": "2022-11-03T22:38:08.262Z"
      },
      {
        "duration": 150,
        "start_time": "2022-11-03T22:38:21.096Z"
      },
      {
        "duration": 782,
        "start_time": "2022-11-03T22:38:50.600Z"
      },
      {
        "duration": 194,
        "start_time": "2022-11-03T22:39:09.676Z"
      },
      {
        "duration": 205,
        "start_time": "2022-11-03T22:40:30.084Z"
      },
      {
        "duration": 195,
        "start_time": "2022-11-03T22:40:36.738Z"
      },
      {
        "duration": 9,
        "start_time": "2022-11-03T22:41:06.303Z"
      },
      {
        "duration": 6,
        "start_time": "2022-11-03T22:41:12.910Z"
      },
      {
        "duration": 163,
        "start_time": "2022-11-03T22:42:58.360Z"
      },
      {
        "duration": 172,
        "start_time": "2022-11-03T22:43:39.342Z"
      },
      {
        "duration": 193,
        "start_time": "2022-11-03T23:25:45.948Z"
      },
      {
        "duration": 184,
        "start_time": "2022-11-03T23:26:09.213Z"
      },
      {
        "duration": 178,
        "start_time": "2022-11-03T23:26:16.762Z"
      },
      {
        "duration": 162,
        "start_time": "2022-11-03T23:26:59.516Z"
      },
      {
        "duration": 179,
        "start_time": "2022-11-03T23:27:16.085Z"
      },
      {
        "duration": 183,
        "start_time": "2022-11-03T23:27:30.770Z"
      },
      {
        "duration": 126,
        "start_time": "2022-11-03T23:28:33.068Z"
      },
      {
        "duration": 152,
        "start_time": "2022-11-03T23:28:41.065Z"
      },
      {
        "duration": 6,
        "start_time": "2022-11-03T23:29:46.111Z"
      },
      {
        "duration": 3,
        "start_time": "2022-11-03T23:30:18.491Z"
      },
      {
        "duration": 58,
        "start_time": "2022-11-03T23:30:19.447Z"
      },
      {
        "duration": 28,
        "start_time": "2022-11-03T23:30:20.079Z"
      },
      {
        "duration": 15,
        "start_time": "2022-11-03T23:30:20.623Z"
      },
      {
        "duration": 3,
        "start_time": "2022-11-03T23:30:21.149Z"
      },
      {
        "duration": 26,
        "start_time": "2022-11-03T23:30:21.600Z"
      },
      {
        "duration": 21,
        "start_time": "2022-11-03T23:30:22.548Z"
      },
      {
        "duration": 16,
        "start_time": "2022-11-03T23:30:23.398Z"
      },
      {
        "duration": 8,
        "start_time": "2022-11-03T23:30:23.815Z"
      },
      {
        "duration": 6,
        "start_time": "2022-11-03T23:30:24.645Z"
      },
      {
        "duration": 9,
        "start_time": "2022-11-03T23:30:25.039Z"
      },
      {
        "duration": 5,
        "start_time": "2022-11-03T23:30:25.862Z"
      },
      {
        "duration": 132,
        "start_time": "2022-11-03T23:30:26.271Z"
      },
      {
        "duration": 902,
        "start_time": "2022-11-03T23:30:27.053Z"
      },
      {
        "duration": 156,
        "start_time": "2022-11-03T23:30:27.958Z"
      },
      {
        "duration": 144,
        "start_time": "2022-11-03T23:30:28.320Z"
      },
      {
        "duration": 150,
        "start_time": "2022-11-03T23:30:28.723Z"
      },
      {
        "duration": 133,
        "start_time": "2022-11-03T23:30:29.166Z"
      },
      {
        "duration": 150,
        "start_time": "2022-11-03T23:30:29.620Z"
      },
      {
        "duration": 5,
        "start_time": "2022-11-03T23:30:30.487Z"
      },
      {
        "duration": 7,
        "start_time": "2022-11-03T23:30:30.928Z"
      },
      {
        "duration": 151,
        "start_time": "2022-11-03T23:30:31.372Z"
      },
      {
        "duration": 158,
        "start_time": "2022-11-03T23:30:31.856Z"
      },
      {
        "duration": 152,
        "start_time": "2022-11-03T23:30:32.277Z"
      },
      {
        "duration": 159,
        "start_time": "2022-11-03T23:30:32.686Z"
      },
      {
        "duration": 143,
        "start_time": "2022-11-03T23:30:33.145Z"
      },
      {
        "duration": 151,
        "start_time": "2022-11-03T23:30:33.602Z"
      },
      {
        "duration": 156,
        "start_time": "2022-11-03T23:30:34.058Z"
      },
      {
        "duration": 177,
        "start_time": "2022-11-03T23:30:34.494Z"
      },
      {
        "duration": 177,
        "start_time": "2022-11-03T23:30:34.909Z"
      },
      {
        "duration": 147,
        "start_time": "2022-11-03T23:30:35.350Z"
      },
      {
        "duration": 141,
        "start_time": "2022-11-03T23:30:35.766Z"
      },
      {
        "duration": 158,
        "start_time": "2022-11-03T23:30:36.216Z"
      },
      {
        "duration": 150,
        "start_time": "2022-11-03T23:30:36.659Z"
      },
      {
        "duration": 153,
        "start_time": "2022-11-03T23:30:37.074Z"
      },
      {
        "duration": 183,
        "start_time": "2022-11-03T23:30:37.565Z"
      },
      {
        "duration": 168,
        "start_time": "2022-11-03T23:30:38.017Z"
      },
      {
        "duration": 89,
        "start_time": "2022-11-03T23:30:38.853Z"
      },
      {
        "duration": 103,
        "start_time": "2022-11-03T23:30:39.296Z"
      },
      {
        "duration": 87,
        "start_time": "2022-11-03T23:30:39.718Z"
      },
      {
        "duration": 89,
        "start_time": "2022-11-03T23:30:40.151Z"
      },
      {
        "duration": 100,
        "start_time": "2022-11-03T23:30:40.611Z"
      },
      {
        "duration": 102,
        "start_time": "2022-11-03T23:30:41.005Z"
      },
      {
        "duration": 104,
        "start_time": "2022-11-03T23:30:41.441Z"
      },
      {
        "duration": 110,
        "start_time": "2022-11-03T23:30:41.864Z"
      },
      {
        "duration": 106,
        "start_time": "2022-11-03T23:30:42.273Z"
      },
      {
        "duration": 98,
        "start_time": "2022-11-03T23:30:42.703Z"
      },
      {
        "duration": 94,
        "start_time": "2022-11-03T23:30:43.115Z"
      },
      {
        "duration": 107,
        "start_time": "2022-11-03T23:30:43.545Z"
      },
      {
        "duration": 109,
        "start_time": "2022-11-03T23:30:43.972Z"
      },
      {
        "duration": 108,
        "start_time": "2022-11-03T23:30:44.391Z"
      },
      {
        "duration": 95,
        "start_time": "2022-11-03T23:30:44.853Z"
      },
      {
        "duration": 115,
        "start_time": "2022-11-03T23:30:45.248Z"
      },
      {
        "duration": 153,
        "start_time": "2022-11-03T23:30:45.683Z"
      },
      {
        "duration": 142,
        "start_time": "2022-11-03T23:30:46.107Z"
      },
      {
        "duration": 161,
        "start_time": "2022-11-03T23:30:47.020Z"
      },
      {
        "duration": 157,
        "start_time": "2022-11-03T23:30:48.140Z"
      },
      {
        "duration": 178,
        "start_time": "2022-11-03T23:30:49.228Z"
      },
      {
        "duration": 175,
        "start_time": "2022-11-03T23:30:49.741Z"
      },
      {
        "duration": 173,
        "start_time": "2022-11-03T23:30:50.247Z"
      },
      {
        "duration": 150,
        "start_time": "2022-11-03T23:30:51.449Z"
      },
      {
        "duration": 174,
        "start_time": "2022-11-03T23:30:51.914Z"
      },
      {
        "duration": 165,
        "start_time": "2022-11-03T23:30:52.466Z"
      },
      {
        "duration": 6,
        "start_time": "2022-11-03T23:30:53.664Z"
      },
      {
        "duration": 95,
        "start_time": "2022-11-03T23:30:55.744Z"
      },
      {
        "duration": 6,
        "start_time": "2022-11-03T23:31:16.002Z"
      },
      {
        "duration": 4,
        "start_time": "2022-11-03T23:31:26.854Z"
      },
      {
        "duration": 5,
        "start_time": "2022-11-03T23:32:31.281Z"
      },
      {
        "duration": 6,
        "start_time": "2022-11-03T23:32:35.030Z"
      },
      {
        "duration": 4,
        "start_time": "2022-11-03T23:32:43.351Z"
      },
      {
        "duration": 54,
        "start_time": "2022-11-03T23:32:43.844Z"
      },
      {
        "duration": 21,
        "start_time": "2022-11-03T23:32:44.432Z"
      },
      {
        "duration": 11,
        "start_time": "2022-11-03T23:32:49.468Z"
      },
      {
        "duration": 3,
        "start_time": "2022-11-03T23:33:00.785Z"
      },
      {
        "duration": 55,
        "start_time": "2022-11-03T23:33:01.228Z"
      },
      {
        "duration": 23,
        "start_time": "2022-11-03T23:33:01.644Z"
      },
      {
        "duration": 15,
        "start_time": "2022-11-03T23:33:02.168Z"
      },
      {
        "duration": 4,
        "start_time": "2022-11-03T23:33:02.950Z"
      },
      {
        "duration": 20,
        "start_time": "2022-11-03T23:33:03.936Z"
      },
      {
        "duration": 4,
        "start_time": "2022-11-03T23:33:10.879Z"
      },
      {
        "duration": 12,
        "start_time": "2022-11-03T23:33:21.192Z"
      },
      {
        "duration": 188,
        "start_time": "2022-11-03T23:33:37.829Z"
      },
      {
        "duration": 256,
        "start_time": "2022-11-03T23:33:48.455Z"
      },
      {
        "duration": 43767,
        "start_time": "2022-11-03T23:35:33.344Z"
      },
      {
        "duration": 5066,
        "start_time": "2022-11-03T23:36:17.113Z"
      },
      {
        "duration": 0,
        "start_time": "2022-11-03T23:36:22.181Z"
      },
      {
        "duration": 0,
        "start_time": "2022-11-03T23:36:22.183Z"
      },
      {
        "duration": 182,
        "start_time": "2022-11-03T23:36:25.977Z"
      },
      {
        "duration": 5,
        "start_time": "2022-11-03T23:36:37.992Z"
      },
      {
        "duration": 5,
        "start_time": "2022-11-03T23:36:44.183Z"
      },
      {
        "duration": 5,
        "start_time": "2022-11-03T23:36:50.432Z"
      },
      {
        "duration": 9,
        "start_time": "2022-11-03T23:38:02.650Z"
      },
      {
        "duration": 11,
        "start_time": "2022-11-03T23:38:16.725Z"
      },
      {
        "duration": 8,
        "start_time": "2022-11-03T23:38:39.202Z"
      },
      {
        "duration": 11,
        "start_time": "2022-11-03T23:39:24.835Z"
      },
      {
        "duration": 143,
        "start_time": "2022-11-03T23:39:35.210Z"
      },
      {
        "duration": 159,
        "start_time": "2022-11-03T23:40:32.414Z"
      },
      {
        "duration": 4131,
        "start_time": "2022-11-03T23:40:47.369Z"
      },
      {
        "duration": 139,
        "start_time": "2022-11-03T23:41:11.962Z"
      },
      {
        "duration": 157,
        "start_time": "2022-11-03T23:41:21.115Z"
      },
      {
        "duration": 12,
        "start_time": "2022-11-03T23:41:39.760Z"
      },
      {
        "duration": 157,
        "start_time": "2022-11-03T23:41:52.051Z"
      },
      {
        "duration": 153,
        "start_time": "2022-11-03T23:42:06.963Z"
      },
      {
        "duration": 163,
        "start_time": "2022-11-03T23:42:17.782Z"
      },
      {
        "duration": 139,
        "start_time": "2022-11-03T23:42:28.279Z"
      },
      {
        "duration": 150,
        "start_time": "2022-11-03T23:42:38.051Z"
      },
      {
        "duration": 141,
        "start_time": "2022-11-03T23:43:26.343Z"
      },
      {
        "duration": 144,
        "start_time": "2022-11-03T23:43:27.478Z"
      },
      {
        "duration": 142,
        "start_time": "2022-11-03T23:43:28.468Z"
      },
      {
        "duration": 12,
        "start_time": "2022-11-03T23:44:05.327Z"
      },
      {
        "duration": 9,
        "start_time": "2022-11-03T23:45:43.715Z"
      },
      {
        "duration": 9,
        "start_time": "2022-11-03T23:46:02.217Z"
      },
      {
        "duration": 192,
        "start_time": "2022-11-03T23:46:15.566Z"
      },
      {
        "duration": 16,
        "start_time": "2022-11-03T23:47:36.867Z"
      },
      {
        "duration": 130,
        "start_time": "2022-11-03T23:47:47.184Z"
      },
      {
        "duration": 6,
        "start_time": "2022-11-03T23:49:12.922Z"
      },
      {
        "duration": 260,
        "start_time": "2022-11-03T23:50:16.632Z"
      },
      {
        "duration": 55615,
        "start_time": "2022-11-03T23:50:16.894Z"
      },
      {
        "duration": 9,
        "start_time": "2022-11-03T23:51:30.457Z"
      },
      {
        "duration": 5972,
        "start_time": "2022-11-03T23:52:31.781Z"
      },
      {
        "duration": 73,
        "start_time": "2022-11-03T23:52:47.116Z"
      },
      {
        "duration": 169,
        "start_time": "2022-11-03T23:52:51.202Z"
      },
      {
        "duration": 5153,
        "start_time": "2022-11-03T23:53:13.564Z"
      },
      {
        "duration": 102,
        "start_time": "2022-11-03T23:53:36.838Z"
      },
      {
        "duration": 104,
        "start_time": "2022-11-03T23:53:47.716Z"
      },
      {
        "duration": 150,
        "start_time": "2022-11-03T23:53:56.712Z"
      },
      {
        "duration": 4870,
        "start_time": "2022-11-03T23:54:25.651Z"
      },
      {
        "duration": 171,
        "start_time": "2022-11-03T23:54:50.639Z"
      },
      {
        "duration": 153,
        "start_time": "2022-11-03T23:55:28.261Z"
      },
      {
        "duration": 10777,
        "start_time": "2022-11-03T23:55:35.836Z"
      },
      {
        "duration": 99,
        "start_time": "2022-11-03T23:57:31.890Z"
      },
      {
        "duration": 166,
        "start_time": "2022-11-03T23:58:26.018Z"
      },
      {
        "duration": 13,
        "start_time": "2022-11-04T00:11:34.634Z"
      },
      {
        "duration": 500,
        "start_time": "2022-11-04T00:11:35.447Z"
      },
      {
        "duration": 16,
        "start_time": "2022-11-04T00:12:46.031Z"
      },
      {
        "duration": 20,
        "start_time": "2022-11-04T00:12:46.847Z"
      },
      {
        "duration": 15,
        "start_time": "2022-11-04T00:13:10.432Z"
      },
      {
        "duration": 9,
        "start_time": "2022-11-04T00:13:52.746Z"
      },
      {
        "duration": 15,
        "start_time": "2022-11-04T00:13:53.445Z"
      },
      {
        "duration": 3,
        "start_time": "2022-11-04T00:14:14.802Z"
      },
      {
        "duration": 51,
        "start_time": "2022-11-04T00:14:15.287Z"
      },
      {
        "duration": 22,
        "start_time": "2022-11-04T00:14:15.859Z"
      },
      {
        "duration": 14,
        "start_time": "2022-11-04T00:14:16.389Z"
      },
      {
        "duration": 4,
        "start_time": "2022-11-04T00:14:16.843Z"
      },
      {
        "duration": 22,
        "start_time": "2022-11-04T00:14:17.349Z"
      },
      {
        "duration": 24,
        "start_time": "2022-11-04T00:14:18.288Z"
      },
      {
        "duration": 15,
        "start_time": "2022-11-04T00:14:19.171Z"
      },
      {
        "duration": 9,
        "start_time": "2022-11-04T00:14:19.711Z"
      },
      {
        "duration": 7,
        "start_time": "2022-11-04T00:14:20.631Z"
      },
      {
        "duration": 10,
        "start_time": "2022-11-04T00:14:21.054Z"
      },
      {
        "duration": 5,
        "start_time": "2022-11-04T00:14:21.942Z"
      },
      {
        "duration": 144,
        "start_time": "2022-11-04T00:14:22.415Z"
      },
      {
        "duration": 10,
        "start_time": "2022-11-04T00:14:30.666Z"
      },
      {
        "duration": 7,
        "start_time": "2022-11-04T00:14:31.392Z"
      },
      {
        "duration": 12,
        "start_time": "2022-11-04T00:17:10.675Z"
      },
      {
        "duration": 5,
        "start_time": "2022-11-04T00:18:10.101Z"
      },
      {
        "duration": 7,
        "start_time": "2022-11-04T00:18:31.693Z"
      },
      {
        "duration": 12,
        "start_time": "2022-11-04T00:18:32.198Z"
      },
      {
        "duration": 8,
        "start_time": "2022-11-04T00:18:53.146Z"
      },
      {
        "duration": 4,
        "start_time": "2022-11-04T00:18:53.587Z"
      },
      {
        "duration": 8,
        "start_time": "2022-11-04T00:19:13.047Z"
      },
      {
        "duration": 4,
        "start_time": "2022-11-04T00:19:13.526Z"
      },
      {
        "duration": 792,
        "start_time": "2022-11-04T08:04:00.771Z"
      },
      {
        "duration": 94,
        "start_time": "2022-11-04T08:04:02.692Z"
      },
      {
        "duration": 23,
        "start_time": "2022-11-04T08:04:03.478Z"
      },
      {
        "duration": 17,
        "start_time": "2022-11-04T08:04:04.254Z"
      },
      {
        "duration": 3,
        "start_time": "2022-11-04T08:04:05.371Z"
      },
      {
        "duration": 20,
        "start_time": "2022-11-04T08:04:05.919Z"
      },
      {
        "duration": 26,
        "start_time": "2022-11-04T08:04:07.034Z"
      },
      {
        "duration": 17,
        "start_time": "2022-11-04T08:04:08.103Z"
      },
      {
        "duration": 9,
        "start_time": "2022-11-04T08:04:08.690Z"
      },
      {
        "duration": 7,
        "start_time": "2022-11-04T08:04:09.732Z"
      },
      {
        "duration": 9,
        "start_time": "2022-11-04T08:04:10.261Z"
      },
      {
        "duration": 7,
        "start_time": "2022-11-04T08:04:11.284Z"
      },
      {
        "duration": 161,
        "start_time": "2022-11-04T08:04:12.321Z"
      },
      {
        "duration": 853,
        "start_time": "2022-11-04T08:04:13.455Z"
      },
      {
        "duration": 148,
        "start_time": "2022-11-04T08:04:14.494Z"
      },
      {
        "duration": 124,
        "start_time": "2022-11-04T08:04:15.001Z"
      },
      {
        "duration": 135,
        "start_time": "2022-11-04T08:04:15.497Z"
      },
      {
        "duration": 119,
        "start_time": "2022-11-04T08:04:16.001Z"
      },
      {
        "duration": 145,
        "start_time": "2022-11-04T08:04:16.476Z"
      },
      {
        "duration": 6,
        "start_time": "2022-11-04T08:04:17.476Z"
      },
      {
        "duration": 5,
        "start_time": "2022-11-04T08:04:17.895Z"
      },
      {
        "duration": 133,
        "start_time": "2022-11-04T08:04:18.525Z"
      },
      {
        "duration": 158,
        "start_time": "2022-11-04T08:04:19.073Z"
      },
      {
        "duration": 242,
        "start_time": "2022-11-04T08:04:19.678Z"
      },
      {
        "duration": 157,
        "start_time": "2022-11-04T08:04:20.152Z"
      },
      {
        "duration": 155,
        "start_time": "2022-11-04T08:04:20.672Z"
      },
      {
        "duration": 171,
        "start_time": "2022-11-04T08:04:21.128Z"
      },
      {
        "duration": 138,
        "start_time": "2022-11-04T08:04:21.645Z"
      },
      {
        "duration": 143,
        "start_time": "2022-11-04T08:04:22.151Z"
      },
      {
        "duration": 175,
        "start_time": "2022-11-04T08:04:23.069Z"
      },
      {
        "duration": 139,
        "start_time": "2022-11-04T08:04:23.661Z"
      },
      {
        "duration": 134,
        "start_time": "2022-11-04T08:04:24.184Z"
      },
      {
        "duration": 147,
        "start_time": "2022-11-04T08:04:24.683Z"
      },
      {
        "duration": 146,
        "start_time": "2022-11-04T08:04:25.165Z"
      },
      {
        "duration": 156,
        "start_time": "2022-11-04T08:04:25.663Z"
      },
      {
        "duration": 159,
        "start_time": "2022-11-04T08:04:26.158Z"
      },
      {
        "duration": 157,
        "start_time": "2022-11-04T08:04:26.689Z"
      },
      {
        "duration": 93,
        "start_time": "2022-11-04T08:04:27.679Z"
      },
      {
        "duration": 204,
        "start_time": "2022-11-04T08:04:28.207Z"
      },
      {
        "duration": 109,
        "start_time": "2022-11-04T08:04:28.770Z"
      },
      {
        "duration": 92,
        "start_time": "2022-11-04T08:04:29.308Z"
      },
      {
        "duration": 100,
        "start_time": "2022-11-04T08:04:29.787Z"
      },
      {
        "duration": 107,
        "start_time": "2022-11-04T08:04:30.248Z"
      },
      {
        "duration": 120,
        "start_time": "2022-11-04T08:04:30.747Z"
      },
      {
        "duration": 118,
        "start_time": "2022-11-04T08:04:31.216Z"
      },
      {
        "duration": 123,
        "start_time": "2022-11-04T08:04:31.741Z"
      },
      {
        "duration": 99,
        "start_time": "2022-11-04T08:04:32.210Z"
      },
      {
        "duration": 96,
        "start_time": "2022-11-04T08:04:32.695Z"
      },
      {
        "duration": 109,
        "start_time": "2022-11-04T08:04:33.156Z"
      },
      {
        "duration": 101,
        "start_time": "2022-11-04T08:04:33.618Z"
      },
      {
        "duration": 112,
        "start_time": "2022-11-04T08:04:34.104Z"
      },
      {
        "duration": 106,
        "start_time": "2022-11-04T08:04:34.602Z"
      },
      {
        "duration": 108,
        "start_time": "2022-11-04T08:04:35.057Z"
      },
      {
        "duration": 147,
        "start_time": "2022-11-04T08:04:35.531Z"
      },
      {
        "duration": 145,
        "start_time": "2022-11-04T08:04:36.020Z"
      },
      {
        "duration": 167,
        "start_time": "2022-11-04T08:04:36.950Z"
      },
      {
        "duration": 269,
        "start_time": "2022-11-04T08:04:38.061Z"
      },
      {
        "duration": 170,
        "start_time": "2022-11-04T08:04:40.391Z"
      },
      {
        "duration": 171,
        "start_time": "2022-11-04T08:04:40.987Z"
      },
      {
        "duration": 205,
        "start_time": "2022-11-04T08:04:41.876Z"
      },
      {
        "duration": 159,
        "start_time": "2022-11-04T08:04:51.308Z"
      },
      {
        "duration": 159,
        "start_time": "2022-11-04T08:04:52.100Z"
      },
      {
        "duration": 162,
        "start_time": "2022-11-04T08:04:55.067Z"
      },
      {
        "duration": 9,
        "start_time": "2022-11-04T08:05:04.434Z"
      },
      {
        "duration": 391,
        "start_time": "2022-11-04T08:05:05.163Z"
      },
      {
        "duration": 7,
        "start_time": "2022-11-04T08:05:06.921Z"
      },
      {
        "duration": 5,
        "start_time": "2022-11-04T08:05:09.466Z"
      },
      {
        "duration": 4,
        "start_time": "2022-11-04T08:06:27.647Z"
      },
      {
        "duration": 10,
        "start_time": "2022-11-04T08:06:41.787Z"
      },
      {
        "duration": 10,
        "start_time": "2022-11-04T08:06:47.345Z"
      },
      {
        "duration": 11,
        "start_time": "2022-11-04T08:06:54.973Z"
      },
      {
        "duration": 7,
        "start_time": "2022-11-04T08:06:59.853Z"
      },
      {
        "duration": 5,
        "start_time": "2022-11-04T08:07:00.412Z"
      },
      {
        "duration": 6,
        "start_time": "2022-11-04T08:07:15.304Z"
      },
      {
        "duration": 7,
        "start_time": "2022-11-04T08:13:12.501Z"
      },
      {
        "duration": 6,
        "start_time": "2022-11-04T08:13:35.383Z"
      },
      {
        "duration": 5,
        "start_time": "2022-11-04T08:13:41.569Z"
      },
      {
        "duration": 7,
        "start_time": "2022-11-04T08:14:13.711Z"
      },
      {
        "duration": 4049,
        "start_time": "2022-11-04T08:14:27.007Z"
      },
      {
        "duration": 125,
        "start_time": "2022-11-04T08:14:42.103Z"
      },
      {
        "duration": 133,
        "start_time": "2022-11-04T08:14:55.472Z"
      },
      {
        "duration": 4116,
        "start_time": "2022-11-04T08:15:05.866Z"
      },
      {
        "duration": 869,
        "start_time": "2022-11-04T14:34:24.700Z"
      },
      {
        "duration": 590,
        "start_time": "2022-11-04T14:34:26.191Z"
      },
      {
        "duration": 25,
        "start_time": "2022-11-04T14:34:26.946Z"
      },
      {
        "duration": 22,
        "start_time": "2022-11-04T14:34:27.617Z"
      },
      {
        "duration": 3,
        "start_time": "2022-11-04T14:34:28.720Z"
      },
      {
        "duration": 30,
        "start_time": "2022-11-04T14:34:29.217Z"
      },
      {
        "duration": 24,
        "start_time": "2022-11-04T14:34:30.381Z"
      },
      {
        "duration": 14,
        "start_time": "2022-11-04T14:34:31.463Z"
      },
      {
        "duration": 13,
        "start_time": "2022-11-04T14:34:32.055Z"
      },
      {
        "duration": 6,
        "start_time": "2022-11-04T14:34:33.240Z"
      },
      {
        "duration": 19,
        "start_time": "2022-11-04T14:34:33.817Z"
      },
      {
        "duration": 7,
        "start_time": "2022-11-04T14:34:35.573Z"
      },
      {
        "duration": 154,
        "start_time": "2022-11-04T14:34:41.186Z"
      },
      {
        "duration": 1018,
        "start_time": "2022-11-04T14:34:42.969Z"
      },
      {
        "duration": 144,
        "start_time": "2022-11-04T14:34:48.252Z"
      },
      {
        "duration": 145,
        "start_time": "2022-11-04T14:34:49.085Z"
      },
      {
        "duration": 136,
        "start_time": "2022-11-04T14:34:49.700Z"
      },
      {
        "duration": 141,
        "start_time": "2022-11-04T14:34:50.256Z"
      },
      {
        "duration": 151,
        "start_time": "2022-11-04T14:34:50.843Z"
      },
      {
        "duration": 8,
        "start_time": "2022-11-04T14:34:51.998Z"
      },
      {
        "duration": 7,
        "start_time": "2022-11-04T14:36:21.076Z"
      },
      {
        "duration": 6,
        "start_time": "2022-11-04T14:36:22.094Z"
      },
      {
        "duration": 146,
        "start_time": "2022-11-04T14:36:23.034Z"
      },
      {
        "duration": 176,
        "start_time": "2022-11-04T14:36:23.691Z"
      },
      {
        "duration": 245,
        "start_time": "2022-11-04T14:36:24.350Z"
      },
      {
        "duration": 177,
        "start_time": "2022-11-04T14:36:24.974Z"
      },
      {
        "duration": 154,
        "start_time": "2022-11-04T14:36:25.687Z"
      },
      {
        "duration": 156,
        "start_time": "2022-11-04T14:36:26.334Z"
      },
      {
        "duration": 148,
        "start_time": "2022-11-04T14:36:26.688Z"
      },
      {
        "duration": 152,
        "start_time": "2022-11-04T14:36:27.489Z"
      },
      {
        "duration": 178,
        "start_time": "2022-11-04T14:36:27.976Z"
      },
      {
        "duration": 153,
        "start_time": "2022-11-04T14:36:29.080Z"
      },
      {
        "duration": 154,
        "start_time": "2022-11-04T14:36:30.200Z"
      },
      {
        "duration": 160,
        "start_time": "2022-11-04T14:36:31.072Z"
      },
      {
        "duration": 201,
        "start_time": "2022-11-04T14:36:31.970Z"
      },
      {
        "duration": 149,
        "start_time": "2022-11-04T14:36:32.902Z"
      },
      {
        "duration": 165,
        "start_time": "2022-11-04T14:36:33.982Z"
      },
      {
        "duration": 165,
        "start_time": "2022-11-04T14:36:34.802Z"
      },
      {
        "duration": 95,
        "start_time": "2022-11-04T14:40:55.105Z"
      },
      {
        "duration": 201,
        "start_time": "2022-11-04T14:40:55.805Z"
      },
      {
        "duration": 96,
        "start_time": "2022-11-04T14:40:56.455Z"
      },
      {
        "duration": 96,
        "start_time": "2022-11-04T14:40:57.016Z"
      },
      {
        "duration": 121,
        "start_time": "2022-11-04T14:40:57.566Z"
      },
      {
        "duration": 117,
        "start_time": "2022-11-04T14:40:58.152Z"
      },
      {
        "duration": 111,
        "start_time": "2022-11-04T14:40:58.757Z"
      },
      {
        "duration": 122,
        "start_time": "2022-11-04T14:40:59.329Z"
      },
      {
        "duration": 129,
        "start_time": "2022-11-04T14:40:59.935Z"
      },
      {
        "duration": 110,
        "start_time": "2022-11-04T14:41:00.535Z"
      },
      {
        "duration": 103,
        "start_time": "2022-11-04T14:41:01.137Z"
      },
      {
        "duration": 121,
        "start_time": "2022-11-04T14:41:01.798Z"
      },
      {
        "duration": 111,
        "start_time": "2022-11-04T14:41:02.499Z"
      },
      {
        "duration": 136,
        "start_time": "2022-11-04T14:41:03.188Z"
      },
      {
        "duration": 99,
        "start_time": "2022-11-04T14:41:03.941Z"
      },
      {
        "duration": 127,
        "start_time": "2022-11-04T14:41:04.626Z"
      },
      {
        "duration": 155,
        "start_time": "2022-11-04T14:41:05.540Z"
      },
      {
        "duration": 167,
        "start_time": "2022-11-04T14:44:13.371Z"
      },
      {
        "duration": 147,
        "start_time": "2022-11-04T14:44:15.938Z"
      },
      {
        "duration": 298,
        "start_time": "2022-11-04T14:46:46.640Z"
      },
      {
        "duration": 165,
        "start_time": "2022-11-04T14:46:48.499Z"
      },
      {
        "duration": 174,
        "start_time": "2022-11-04T14:48:16.529Z"
      },
      {
        "duration": 185,
        "start_time": "2022-11-04T14:50:14.580Z"
      },
      {
        "duration": 188,
        "start_time": "2022-11-04T14:50:15.477Z"
      },
      {
        "duration": 189,
        "start_time": "2022-11-04T14:50:16.466Z"
      },
      {
        "duration": 174,
        "start_time": "2022-11-04T14:50:18.126Z"
      },
      {
        "duration": 170,
        "start_time": "2022-11-04T14:50:18.875Z"
      },
      {
        "duration": 183,
        "start_time": "2022-11-04T14:50:20.346Z"
      },
      {
        "duration": 762,
        "start_time": "2022-11-04T19:12:01.358Z"
      },
      {
        "duration": 114,
        "start_time": "2022-11-04T19:12:02.450Z"
      },
      {
        "duration": 24,
        "start_time": "2022-11-04T19:12:03.061Z"
      },
      {
        "duration": 15,
        "start_time": "2022-11-04T19:12:03.611Z"
      },
      {
        "duration": 3,
        "start_time": "2022-11-04T19:12:04.662Z"
      },
      {
        "duration": 19,
        "start_time": "2022-11-04T19:12:05.161Z"
      },
      {
        "duration": 22,
        "start_time": "2022-11-04T19:12:06.205Z"
      },
      {
        "duration": 11,
        "start_time": "2022-11-04T19:12:07.185Z"
      },
      {
        "duration": 8,
        "start_time": "2022-11-04T19:12:07.687Z"
      },
      {
        "duration": 7,
        "start_time": "2022-11-04T19:12:08.584Z"
      },
      {
        "duration": 9,
        "start_time": "2022-11-04T19:12:09.130Z"
      },
      {
        "duration": 7,
        "start_time": "2022-11-04T19:12:09.906Z"
      },
      {
        "duration": 133,
        "start_time": "2022-11-04T19:12:10.853Z"
      },
      {
        "duration": 820,
        "start_time": "2022-11-04T19:12:11.830Z"
      },
      {
        "duration": 132,
        "start_time": "2022-11-04T19:12:12.830Z"
      },
      {
        "duration": 124,
        "start_time": "2022-11-04T19:12:13.499Z"
      },
      {
        "duration": 145,
        "start_time": "2022-11-04T19:12:14.036Z"
      },
      {
        "duration": 112,
        "start_time": "2022-11-04T19:12:14.533Z"
      },
      {
        "duration": 141,
        "start_time": "2022-11-04T19:12:14.998Z"
      },
      {
        "duration": 5,
        "start_time": "2022-11-04T19:12:16.029Z"
      },
      {
        "duration": 4,
        "start_time": "2022-11-04T19:12:16.593Z"
      },
      {
        "duration": 124,
        "start_time": "2022-11-04T19:12:17.122Z"
      },
      {
        "duration": 136,
        "start_time": "2022-11-04T19:12:17.647Z"
      },
      {
        "duration": 181,
        "start_time": "2022-11-04T19:12:18.180Z"
      },
      {
        "duration": 134,
        "start_time": "2022-11-04T19:12:18.640Z"
      },
      {
        "duration": 130,
        "start_time": "2022-11-04T19:12:19.138Z"
      },
      {
        "duration": 123,
        "start_time": "2022-11-04T19:12:19.594Z"
      },
      {
        "duration": 141,
        "start_time": "2022-11-04T19:12:20.114Z"
      },
      {
        "duration": 136,
        "start_time": "2022-11-04T19:12:20.597Z"
      },
      {
        "duration": 146,
        "start_time": "2022-11-04T19:12:21.092Z"
      },
      {
        "duration": 130,
        "start_time": "2022-11-04T19:12:21.581Z"
      },
      {
        "duration": 136,
        "start_time": "2022-11-04T19:12:22.098Z"
      },
      {
        "duration": 157,
        "start_time": "2022-11-04T19:12:22.668Z"
      },
      {
        "duration": 147,
        "start_time": "2022-11-04T19:12:23.191Z"
      },
      {
        "duration": 125,
        "start_time": "2022-11-04T19:12:23.688Z"
      },
      {
        "duration": 137,
        "start_time": "2022-11-04T19:12:24.180Z"
      },
      {
        "duration": 141,
        "start_time": "2022-11-04T19:12:24.642Z"
      },
      {
        "duration": 79,
        "start_time": "2022-11-04T19:12:26.051Z"
      },
      {
        "duration": 152,
        "start_time": "2022-11-04T19:12:26.613Z"
      },
      {
        "duration": 94,
        "start_time": "2022-11-04T19:12:27.155Z"
      },
      {
        "duration": 80,
        "start_time": "2022-11-04T19:12:27.695Z"
      },
      {
        "duration": 94,
        "start_time": "2022-11-04T19:12:28.195Z"
      },
      {
        "duration": 92,
        "start_time": "2022-11-04T19:12:28.661Z"
      },
      {
        "duration": 103,
        "start_time": "2022-11-04T19:12:29.202Z"
      },
      {
        "duration": 91,
        "start_time": "2022-11-04T19:12:29.699Z"
      },
      {
        "duration": 91,
        "start_time": "2022-11-04T19:12:30.182Z"
      },
      {
        "duration": 86,
        "start_time": "2022-11-04T19:12:30.684Z"
      },
      {
        "duration": 86,
        "start_time": "2022-11-04T19:12:31.200Z"
      },
      {
        "duration": 102,
        "start_time": "2022-11-04T19:12:31.634Z"
      },
      {
        "duration": 96,
        "start_time": "2022-11-04T19:12:32.120Z"
      },
      {
        "duration": 125,
        "start_time": "2022-11-04T19:12:32.635Z"
      },
      {
        "duration": 100,
        "start_time": "2022-11-04T19:12:33.110Z"
      },
      {
        "duration": 110,
        "start_time": "2022-11-04T19:12:33.594Z"
      },
      {
        "duration": 132,
        "start_time": "2022-11-04T19:12:35.005Z"
      },
      {
        "duration": 129,
        "start_time": "2022-11-04T19:12:38.521Z"
      },
      {
        "duration": 146,
        "start_time": "2022-11-04T19:12:40.540Z"
      },
      {
        "duration": 256,
        "start_time": "2022-11-04T19:12:42.589Z"
      },
      {
        "duration": 151,
        "start_time": "2022-11-04T19:12:45.334Z"
      },
      {
        "duration": 152,
        "start_time": "2022-11-04T19:12:46.056Z"
      },
      {
        "duration": 157,
        "start_time": "2022-11-04T19:12:46.713Z"
      },
      {
        "duration": 140,
        "start_time": "2022-11-04T19:12:47.960Z"
      },
      {
        "duration": 11,
        "start_time": "2022-11-04T19:26:13.478Z"
      },
      {
        "duration": 9,
        "start_time": "2022-11-04T19:26:34.767Z"
      },
      {
        "duration": 3,
        "start_time": "2022-11-04T19:27:09.636Z"
      },
      {
        "duration": 49,
        "start_time": "2022-11-04T19:27:10.885Z"
      },
      {
        "duration": 24,
        "start_time": "2022-11-04T19:27:11.482Z"
      },
      {
        "duration": 13,
        "start_time": "2022-11-04T19:27:12.079Z"
      },
      {
        "duration": 3,
        "start_time": "2022-11-04T19:27:13.172Z"
      },
      {
        "duration": 19,
        "start_time": "2022-11-04T19:27:13.692Z"
      },
      {
        "duration": 22,
        "start_time": "2022-11-04T19:27:14.745Z"
      },
      {
        "duration": 12,
        "start_time": "2022-11-04T19:27:15.712Z"
      },
      {
        "duration": 8,
        "start_time": "2022-11-04T19:27:16.228Z"
      },
      {
        "duration": 6,
        "start_time": "2022-11-04T19:27:17.261Z"
      },
      {
        "duration": 8,
        "start_time": "2022-11-04T19:27:17.746Z"
      },
      {
        "duration": 5,
        "start_time": "2022-11-04T19:27:18.703Z"
      },
      {
        "duration": 125,
        "start_time": "2022-11-04T19:27:19.608Z"
      },
      {
        "duration": 827,
        "start_time": "2022-11-04T19:27:20.600Z"
      },
      {
        "duration": 121,
        "start_time": "2022-11-04T19:27:21.556Z"
      },
      {
        "duration": 131,
        "start_time": "2022-11-04T19:27:22.007Z"
      },
      {
        "duration": 168,
        "start_time": "2022-11-04T19:27:22.486Z"
      },
      {
        "duration": 112,
        "start_time": "2022-11-04T19:27:22.886Z"
      },
      {
        "duration": 126,
        "start_time": "2022-11-04T19:27:23.339Z"
      },
      {
        "duration": 4,
        "start_time": "2022-11-04T19:27:24.276Z"
      },
      {
        "duration": 5,
        "start_time": "2022-11-04T19:27:24.789Z"
      },
      {
        "duration": 120,
        "start_time": "2022-11-04T19:27:25.328Z"
      },
      {
        "duration": 144,
        "start_time": "2022-11-04T19:27:25.797Z"
      },
      {
        "duration": 132,
        "start_time": "2022-11-04T19:27:26.315Z"
      },
      {
        "duration": 140,
        "start_time": "2022-11-04T19:27:26.819Z"
      },
      {
        "duration": 139,
        "start_time": "2022-11-04T19:27:27.309Z"
      },
      {
        "duration": 126,
        "start_time": "2022-11-04T19:27:27.777Z"
      },
      {
        "duration": 137,
        "start_time": "2022-11-04T19:27:28.271Z"
      },
      {
        "duration": 140,
        "start_time": "2022-11-04T19:27:28.768Z"
      },
      {
        "duration": 247,
        "start_time": "2022-11-04T19:27:29.265Z"
      },
      {
        "duration": 142,
        "start_time": "2022-11-04T19:27:29.711Z"
      },
      {
        "duration": 129,
        "start_time": "2022-11-04T19:27:30.206Z"
      },
      {
        "duration": 147,
        "start_time": "2022-11-04T19:27:30.692Z"
      },
      {
        "duration": 138,
        "start_time": "2022-11-04T19:27:31.160Z"
      },
      {
        "duration": 131,
        "start_time": "2022-11-04T19:27:31.619Z"
      },
      {
        "duration": 181,
        "start_time": "2022-11-04T19:27:32.112Z"
      },
      {
        "duration": 175,
        "start_time": "2022-11-04T19:27:32.601Z"
      },
      {
        "duration": 82,
        "start_time": "2022-11-04T19:27:33.554Z"
      },
      {
        "duration": 99,
        "start_time": "2022-11-04T19:27:34.077Z"
      },
      {
        "duration": 82,
        "start_time": "2022-11-04T19:27:34.493Z"
      },
      {
        "duration": 80,
        "start_time": "2022-11-04T19:27:34.959Z"
      },
      {
        "duration": 94,
        "start_time": "2022-11-04T19:27:35.419Z"
      },
      {
        "duration": 92,
        "start_time": "2022-11-04T19:27:35.879Z"
      },
      {
        "duration": 103,
        "start_time": "2022-11-04T19:27:36.323Z"
      },
      {
        "duration": 96,
        "start_time": "2022-11-04T19:27:36.757Z"
      },
      {
        "duration": 88,
        "start_time": "2022-11-04T19:27:37.192Z"
      },
      {
        "duration": 97,
        "start_time": "2022-11-04T19:27:37.662Z"
      },
      {
        "duration": 87,
        "start_time": "2022-11-04T19:27:38.082Z"
      },
      {
        "duration": 95,
        "start_time": "2022-11-04T19:27:38.525Z"
      },
      {
        "duration": 96,
        "start_time": "2022-11-04T19:27:38.988Z"
      },
      {
        "duration": 102,
        "start_time": "2022-11-04T19:27:39.443Z"
      },
      {
        "duration": 83,
        "start_time": "2022-11-04T19:27:39.878Z"
      },
      {
        "duration": 99,
        "start_time": "2022-11-04T19:27:40.392Z"
      },
      {
        "duration": 126,
        "start_time": "2022-11-04T19:27:41.297Z"
      },
      {
        "duration": 123,
        "start_time": "2022-11-04T19:27:41.786Z"
      },
      {
        "duration": 170,
        "start_time": "2022-11-04T19:27:42.759Z"
      },
      {
        "duration": 290,
        "start_time": "2022-11-04T19:27:43.755Z"
      },
      {
        "duration": 159,
        "start_time": "2022-11-04T19:27:45.550Z"
      },
      {
        "duration": 152,
        "start_time": "2022-11-04T19:27:46.047Z"
      },
      {
        "duration": 158,
        "start_time": "2022-11-04T19:27:46.537Z"
      },
      {
        "duration": 145,
        "start_time": "2022-11-04T19:27:47.579Z"
      },
      {
        "duration": 170,
        "start_time": "2022-11-04T19:27:48.188Z"
      },
      {
        "duration": 154,
        "start_time": "2022-11-04T19:27:48.769Z"
      },
      {
        "duration": 13,
        "start_time": "2022-11-04T19:27:50.777Z"
      },
      {
        "duration": 15,
        "start_time": "2022-11-04T19:28:14.912Z"
      },
      {
        "duration": 10,
        "start_time": "2022-11-04T19:28:44.909Z"
      },
      {
        "duration": 12,
        "start_time": "2022-11-04T19:28:52.782Z"
      },
      {
        "duration": 10,
        "start_time": "2022-11-04T19:28:59.694Z"
      },
      {
        "duration": 10,
        "start_time": "2022-11-04T19:29:42.063Z"
      },
      {
        "duration": 12,
        "start_time": "2022-11-04T19:32:00.003Z"
      },
      {
        "duration": 6,
        "start_time": "2022-11-04T19:32:04.699Z"
      },
      {
        "duration": 421,
        "start_time": "2022-11-04T19:32:05.203Z"
      },
      {
        "duration": 8,
        "start_time": "2022-11-04T19:32:06.534Z"
      },
      {
        "duration": 5,
        "start_time": "2022-11-04T19:32:07.288Z"
      },
      {
        "duration": 13,
        "start_time": "2022-11-04T20:07:46.875Z"
      },
      {
        "duration": 3,
        "start_time": "2022-11-04T20:07:57.275Z"
      },
      {
        "duration": 50,
        "start_time": "2022-11-04T20:07:58.264Z"
      },
      {
        "duration": 20,
        "start_time": "2022-11-04T20:07:58.776Z"
      },
      {
        "duration": 13,
        "start_time": "2022-11-04T20:07:59.287Z"
      },
      {
        "duration": 3,
        "start_time": "2022-11-04T20:08:00.350Z"
      },
      {
        "duration": 19,
        "start_time": "2022-11-04T20:08:00.876Z"
      },
      {
        "duration": 21,
        "start_time": "2022-11-04T20:08:01.903Z"
      },
      {
        "duration": 12,
        "start_time": "2022-11-04T20:08:02.925Z"
      },
      {
        "duration": 7,
        "start_time": "2022-11-04T20:08:03.528Z"
      },
      {
        "duration": 6,
        "start_time": "2022-11-04T20:08:05.273Z"
      },
      {
        "duration": 8,
        "start_time": "2022-11-04T20:08:05.921Z"
      },
      {
        "duration": 12,
        "start_time": "2022-11-04T20:08:16.031Z"
      },
      {
        "duration": 12,
        "start_time": "2022-11-04T20:08:35.757Z"
      },
      {
        "duration": 12,
        "start_time": "2022-11-04T20:08:42.900Z"
      },
      {
        "duration": 24,
        "start_time": "2022-11-04T20:09:25.820Z"
      },
      {
        "duration": 5,
        "start_time": "2022-11-04T20:09:54.567Z"
      },
      {
        "duration": 2,
        "start_time": "2022-11-04T20:10:04.902Z"
      },
      {
        "duration": 52,
        "start_time": "2022-11-04T20:10:05.888Z"
      },
      {
        "duration": 20,
        "start_time": "2022-11-04T20:10:06.428Z"
      },
      {
        "duration": 13,
        "start_time": "2022-11-04T20:10:07.378Z"
      },
      {
        "duration": 3,
        "start_time": "2022-11-04T20:10:09.084Z"
      },
      {
        "duration": 19,
        "start_time": "2022-11-04T20:10:10.381Z"
      },
      {
        "duration": 22,
        "start_time": "2022-11-04T20:10:15.490Z"
      },
      {
        "duration": 12,
        "start_time": "2022-11-04T20:10:17.423Z"
      },
      {
        "duration": 3,
        "start_time": "2022-11-04T20:11:08.538Z"
      },
      {
        "duration": 47,
        "start_time": "2022-11-04T20:11:09.732Z"
      },
      {
        "duration": 20,
        "start_time": "2022-11-04T20:11:10.224Z"
      },
      {
        "duration": 12,
        "start_time": "2022-11-04T20:11:10.664Z"
      },
      {
        "duration": 3,
        "start_time": "2022-11-04T20:11:11.484Z"
      },
      {
        "duration": 20,
        "start_time": "2022-11-04T20:11:11.866Z"
      },
      {
        "duration": 19,
        "start_time": "2022-11-04T20:11:12.582Z"
      },
      {
        "duration": 13,
        "start_time": "2022-11-04T20:11:13.290Z"
      },
      {
        "duration": 9,
        "start_time": "2022-11-04T20:11:13.683Z"
      },
      {
        "duration": 6,
        "start_time": "2022-11-04T20:11:14.353Z"
      },
      {
        "duration": 9,
        "start_time": "2022-11-04T20:11:14.699Z"
      },
      {
        "duration": 5,
        "start_time": "2022-11-04T20:11:15.421Z"
      },
      {
        "duration": 133,
        "start_time": "2022-11-04T20:11:16.206Z"
      },
      {
        "duration": 883,
        "start_time": "2022-11-04T20:11:16.821Z"
      },
      {
        "duration": 135,
        "start_time": "2022-11-04T20:11:17.706Z"
      },
      {
        "duration": 129,
        "start_time": "2022-11-04T20:11:17.843Z"
      },
      {
        "duration": 124,
        "start_time": "2022-11-04T20:11:17.974Z"
      },
      {
        "duration": 120,
        "start_time": "2022-11-04T20:11:18.189Z"
      },
      {
        "duration": 133,
        "start_time": "2022-11-04T20:11:18.448Z"
      },
      {
        "duration": 4,
        "start_time": "2022-11-04T20:11:18.997Z"
      },
      {
        "duration": 5,
        "start_time": "2022-11-04T20:11:19.301Z"
      },
      {
        "duration": 122,
        "start_time": "2022-11-04T20:11:19.754Z"
      },
      {
        "duration": 140,
        "start_time": "2022-11-04T20:11:20.185Z"
      },
      {
        "duration": 139,
        "start_time": "2022-11-04T20:11:20.904Z"
      },
      {
        "duration": 141,
        "start_time": "2022-11-04T20:11:21.217Z"
      },
      {
        "duration": 128,
        "start_time": "2022-11-04T20:11:21.474Z"
      },
      {
        "duration": 124,
        "start_time": "2022-11-04T20:11:21.767Z"
      },
      {
        "duration": 125,
        "start_time": "2022-11-04T20:11:22.120Z"
      },
      {
        "duration": 145,
        "start_time": "2022-11-04T20:11:22.431Z"
      },
      {
        "duration": 151,
        "start_time": "2022-11-04T20:11:22.817Z"
      },
      {
        "duration": 128,
        "start_time": "2022-11-04T20:11:23.148Z"
      },
      {
        "duration": 126,
        "start_time": "2022-11-04T20:11:23.475Z"
      },
      {
        "duration": 135,
        "start_time": "2022-11-04T20:11:23.832Z"
      },
      {
        "duration": 135,
        "start_time": "2022-11-04T20:11:24.678Z"
      },
      {
        "duration": 129,
        "start_time": "2022-11-04T20:11:25.022Z"
      },
      {
        "duration": 137,
        "start_time": "2022-11-04T20:11:25.341Z"
      },
      {
        "duration": 152,
        "start_time": "2022-11-04T20:11:25.673Z"
      },
      {
        "duration": 80,
        "start_time": "2022-11-04T20:11:26.424Z"
      },
      {
        "duration": 89,
        "start_time": "2022-11-04T20:11:26.989Z"
      },
      {
        "duration": 241,
        "start_time": "2022-11-04T20:11:27.540Z"
      },
      {
        "duration": 85,
        "start_time": "2022-11-04T20:11:28.119Z"
      },
      {
        "duration": 87,
        "start_time": "2022-11-04T20:11:28.504Z"
      },
      {
        "duration": 89,
        "start_time": "2022-11-04T20:11:28.921Z"
      },
      {
        "duration": 91,
        "start_time": "2022-11-04T20:11:29.288Z"
      },
      {
        "duration": 88,
        "start_time": "2022-11-04T20:11:29.690Z"
      },
      {
        "duration": 90,
        "start_time": "2022-11-04T20:11:30.096Z"
      },
      {
        "duration": 86,
        "start_time": "2022-11-04T20:11:30.462Z"
      },
      {
        "duration": 90,
        "start_time": "2022-11-04T20:11:30.800Z"
      },
      {
        "duration": 97,
        "start_time": "2022-11-04T20:11:31.166Z"
      },
      {
        "duration": 91,
        "start_time": "2022-11-04T20:11:31.487Z"
      },
      {
        "duration": 96,
        "start_time": "2022-11-04T20:11:31.784Z"
      },
      {
        "duration": 84,
        "start_time": "2022-11-04T20:11:32.099Z"
      },
      {
        "duration": 98,
        "start_time": "2022-11-04T20:11:32.383Z"
      },
      {
        "duration": 130,
        "start_time": "2022-11-04T20:11:32.982Z"
      },
      {
        "duration": 124,
        "start_time": "2022-11-04T20:11:33.320Z"
      },
      {
        "duration": 157,
        "start_time": "2022-11-04T20:11:33.971Z"
      },
      {
        "duration": 144,
        "start_time": "2022-11-04T20:11:34.605Z"
      },
      {
        "duration": 159,
        "start_time": "2022-11-04T20:11:35.830Z"
      },
      {
        "duration": 152,
        "start_time": "2022-11-04T20:11:36.221Z"
      },
      {
        "duration": 156,
        "start_time": "2022-11-04T20:11:36.570Z"
      },
      {
        "duration": 139,
        "start_time": "2022-11-04T20:11:37.220Z"
      },
      {
        "duration": 146,
        "start_time": "2022-11-04T20:11:37.573Z"
      },
      {
        "duration": 150,
        "start_time": "2022-11-04T20:11:37.896Z"
      },
      {
        "duration": 5,
        "start_time": "2022-11-04T20:11:39.845Z"
      },
      {
        "duration": 2528,
        "start_time": "2022-11-04T20:11:50.281Z"
      },
      {
        "duration": 15,
        "start_time": "2022-11-04T20:12:09.633Z"
      },
      {
        "duration": 800,
        "start_time": "2022-11-05T11:59:48.053Z"
      },
      {
        "duration": 100,
        "start_time": "2022-11-05T11:59:48.855Z"
      },
      {
        "duration": 24,
        "start_time": "2022-11-05T11:59:48.957Z"
      },
      {
        "duration": 14,
        "start_time": "2022-11-05T11:59:48.983Z"
      },
      {
        "duration": 3,
        "start_time": "2022-11-05T11:59:48.999Z"
      },
      {
        "duration": 22,
        "start_time": "2022-11-05T11:59:49.004Z"
      },
      {
        "duration": 13,
        "start_time": "2022-11-05T11:59:49.039Z"
      },
      {
        "duration": 15,
        "start_time": "2022-11-05T11:59:49.054Z"
      },
      {
        "duration": 10,
        "start_time": "2022-11-05T11:59:49.071Z"
      },
      {
        "duration": 6,
        "start_time": "2022-11-05T11:59:49.085Z"
      },
      {
        "duration": 10,
        "start_time": "2022-11-05T11:59:49.093Z"
      },
      {
        "duration": 6,
        "start_time": "2022-11-05T11:59:49.139Z"
      },
      {
        "duration": 158,
        "start_time": "2022-11-05T11:59:49.146Z"
      },
      {
        "duration": 865,
        "start_time": "2022-11-05T11:59:49.305Z"
      },
      {
        "duration": 136,
        "start_time": "2022-11-05T11:59:50.171Z"
      },
      {
        "duration": 144,
        "start_time": "2022-11-05T11:59:50.308Z"
      },
      {
        "duration": 142,
        "start_time": "2022-11-05T11:59:50.453Z"
      },
      {
        "duration": 158,
        "start_time": "2022-11-05T11:59:50.597Z"
      },
      {
        "duration": 147,
        "start_time": "2022-11-05T11:59:50.757Z"
      },
      {
        "duration": 5,
        "start_time": "2022-11-05T11:59:50.906Z"
      },
      {
        "duration": 13,
        "start_time": "2022-11-05T11:59:50.913Z"
      },
      {
        "duration": 171,
        "start_time": "2022-11-05T11:59:50.927Z"
      },
      {
        "duration": 159,
        "start_time": "2022-11-05T11:59:51.100Z"
      },
      {
        "duration": 213,
        "start_time": "2022-11-05T11:59:51.260Z"
      },
      {
        "duration": 146,
        "start_time": "2022-11-05T11:59:51.475Z"
      },
      {
        "duration": 152,
        "start_time": "2022-11-05T11:59:51.624Z"
      },
      {
        "duration": 138,
        "start_time": "2022-11-05T11:59:51.777Z"
      },
      {
        "duration": 146,
        "start_time": "2022-11-05T11:59:51.919Z"
      },
      {
        "duration": 144,
        "start_time": "2022-11-05T11:59:52.067Z"
      },
      {
        "duration": 155,
        "start_time": "2022-11-05T11:59:52.213Z"
      },
      {
        "duration": 139,
        "start_time": "2022-11-05T11:59:52.369Z"
      },
      {
        "duration": 135,
        "start_time": "2022-11-05T11:59:52.510Z"
      },
      {
        "duration": 148,
        "start_time": "2022-11-05T11:59:52.647Z"
      },
      {
        "duration": 155,
        "start_time": "2022-11-05T11:59:52.797Z"
      },
      {
        "duration": 146,
        "start_time": "2022-11-05T11:59:52.953Z"
      },
      {
        "duration": 148,
        "start_time": "2022-11-05T11:59:53.100Z"
      },
      {
        "duration": 161,
        "start_time": "2022-11-05T11:59:53.249Z"
      },
      {
        "duration": 92,
        "start_time": "2022-11-05T11:59:53.411Z"
      },
      {
        "duration": 180,
        "start_time": "2022-11-05T11:59:53.504Z"
      },
      {
        "duration": 99,
        "start_time": "2022-11-05T11:59:53.686Z"
      },
      {
        "duration": 97,
        "start_time": "2022-11-05T11:59:53.787Z"
      },
      {
        "duration": 108,
        "start_time": "2022-11-05T11:59:53.886Z"
      },
      {
        "duration": 113,
        "start_time": "2022-11-05T11:59:53.995Z"
      },
      {
        "duration": 108,
        "start_time": "2022-11-05T11:59:54.109Z"
      },
      {
        "duration": 113,
        "start_time": "2022-11-05T11:59:54.219Z"
      },
      {
        "duration": 111,
        "start_time": "2022-11-05T11:59:54.339Z"
      },
      {
        "duration": 117,
        "start_time": "2022-11-05T11:59:54.451Z"
      },
      {
        "duration": 103,
        "start_time": "2022-11-05T11:59:54.569Z"
      },
      {
        "duration": 124,
        "start_time": "2022-11-05T11:59:54.674Z"
      },
      {
        "duration": 113,
        "start_time": "2022-11-05T11:59:54.800Z"
      },
      {
        "duration": 127,
        "start_time": "2022-11-05T11:59:54.915Z"
      },
      {
        "duration": 107,
        "start_time": "2022-11-05T11:59:55.044Z"
      },
      {
        "duration": 122,
        "start_time": "2022-11-05T11:59:55.153Z"
      },
      {
        "duration": 149,
        "start_time": "2022-11-05T11:59:55.277Z"
      },
      {
        "duration": 147,
        "start_time": "2022-11-05T11:59:55.428Z"
      },
      {
        "duration": 153,
        "start_time": "2022-11-05T11:59:55.577Z"
      },
      {
        "duration": 267,
        "start_time": "2022-11-05T11:59:55.739Z"
      },
      {
        "duration": 170,
        "start_time": "2022-11-05T11:59:56.008Z"
      },
      {
        "duration": 167,
        "start_time": "2022-11-05T11:59:56.180Z"
      },
      {
        "duration": 181,
        "start_time": "2022-11-05T11:59:56.349Z"
      },
      {
        "duration": 150,
        "start_time": "2022-11-05T11:59:56.538Z"
      },
      {
        "duration": 163,
        "start_time": "2022-11-05T11:59:56.690Z"
      },
      {
        "duration": 171,
        "start_time": "2022-11-05T11:59:56.854Z"
      },
      {
        "duration": 21,
        "start_time": "2022-11-05T11:59:57.027Z"
      },
      {
        "duration": 8,
        "start_time": "2022-11-05T11:59:57.050Z"
      },
      {
        "duration": 469,
        "start_time": "2022-11-05T11:59:57.060Z"
      },
      {
        "duration": 11,
        "start_time": "2022-11-05T11:59:57.531Z"
      },
      {
        "duration": 6,
        "start_time": "2022-11-05T11:59:57.544Z"
      },
      {
        "duration": 336,
        "start_time": "2022-11-05T12:13:57.624Z"
      },
      {
        "duration": 193,
        "start_time": "2022-11-05T12:14:04.995Z"
      },
      {
        "duration": 465,
        "start_time": "2022-11-05T12:28:17.585Z"
      },
      {
        "duration": 785,
        "start_time": "2022-11-05T18:14:41.501Z"
      },
      {
        "duration": 92,
        "start_time": "2022-11-05T18:14:44.260Z"
      },
      {
        "duration": 23,
        "start_time": "2022-11-05T18:14:45.992Z"
      },
      {
        "duration": 32,
        "start_time": "2022-11-05T18:14:46.016Z"
      },
      {
        "duration": 3,
        "start_time": "2022-11-05T18:14:51.858Z"
      },
      {
        "duration": 22,
        "start_time": "2022-11-05T18:14:52.573Z"
      },
      {
        "duration": 14,
        "start_time": "2022-11-05T18:14:56.162Z"
      },
      {
        "duration": 12,
        "start_time": "2022-11-05T18:14:57.847Z"
      },
      {
        "duration": 9,
        "start_time": "2022-11-05T18:14:58.474Z"
      },
      {
        "duration": 6,
        "start_time": "2022-11-05T18:15:00.534Z"
      },
      {
        "duration": 10,
        "start_time": "2022-11-05T18:15:01.674Z"
      },
      {
        "duration": 5,
        "start_time": "2022-11-05T18:15:04.190Z"
      },
      {
        "duration": 15,
        "start_time": "2022-11-05T18:16:59.399Z"
      },
      {
        "duration": 142,
        "start_time": "2022-11-05T18:17:22.287Z"
      },
      {
        "duration": 828,
        "start_time": "2022-11-05T18:17:24.917Z"
      },
      {
        "duration": 6,
        "start_time": "2022-11-05T18:19:42.998Z"
      },
      {
        "duration": 66,
        "start_time": "2022-11-05T18:23:00.951Z"
      },
      {
        "duration": 319,
        "start_time": "2022-11-05T18:23:08.803Z"
      },
      {
        "duration": 288,
        "start_time": "2022-11-05T18:23:22.527Z"
      },
      {
        "duration": 117,
        "start_time": "2022-11-05T18:27:08.439Z"
      },
      {
        "duration": 145,
        "start_time": "2022-11-05T18:28:25.659Z"
      },
      {
        "duration": 131,
        "start_time": "2022-11-05T18:28:26.778Z"
      },
      {
        "duration": 183,
        "start_time": "2022-11-05T18:28:29.842Z"
      },
      {
        "duration": 124,
        "start_time": "2022-11-05T18:28:34.182Z"
      },
      {
        "duration": 7,
        "start_time": "2022-11-05T18:28:37.935Z"
      },
      {
        "duration": 7,
        "start_time": "2022-11-05T18:28:43.260Z"
      },
      {
        "duration": 129,
        "start_time": "2022-11-05T18:29:58.611Z"
      },
      {
        "duration": 5,
        "start_time": "2022-11-05T18:31:25.436Z"
      },
      {
        "duration": 5,
        "start_time": "2022-11-05T18:31:54.961Z"
      },
      {
        "duration": 5,
        "start_time": "2022-11-05T18:31:55.560Z"
      },
      {
        "duration": 131,
        "start_time": "2022-11-05T18:31:56.122Z"
      },
      {
        "duration": 138,
        "start_time": "2022-11-05T18:31:56.741Z"
      },
      {
        "duration": 122,
        "start_time": "2022-11-05T18:34:44.027Z"
      },
      {
        "duration": 146,
        "start_time": "2022-11-05T18:34:44.569Z"
      },
      {
        "duration": 136,
        "start_time": "2022-11-05T18:34:45.380Z"
      },
      {
        "duration": 126,
        "start_time": "2022-11-05T18:34:45.967Z"
      },
      {
        "duration": 121,
        "start_time": "2022-11-05T18:34:46.577Z"
      },
      {
        "duration": 126,
        "start_time": "2022-11-05T18:34:47.119Z"
      },
      {
        "duration": 145,
        "start_time": "2022-11-05T18:34:47.724Z"
      },
      {
        "duration": 133,
        "start_time": "2022-11-05T18:34:48.314Z"
      },
      {
        "duration": 178,
        "start_time": "2022-11-05T18:34:49.008Z"
      },
      {
        "duration": 214,
        "start_time": "2022-11-05T18:34:49.615Z"
      },
      {
        "duration": 139,
        "start_time": "2022-11-05T18:34:50.216Z"
      },
      {
        "duration": 12,
        "start_time": "2022-11-05T18:35:08.311Z"
      },
      {
        "duration": 149,
        "start_time": "2022-11-05T18:35:21.367Z"
      },
      {
        "duration": 18,
        "start_time": "2022-11-05T18:35:29.606Z"
      },
      {
        "duration": 92,
        "start_time": "2022-11-05T18:51:55.188Z"
      },
      {
        "duration": 110,
        "start_time": "2022-11-05T18:52:31.686Z"
      },
      {
        "duration": 113,
        "start_time": "2022-11-05T18:53:47.192Z"
      },
      {
        "duration": 113,
        "start_time": "2022-11-05T18:54:40.700Z"
      },
      {
        "duration": 96,
        "start_time": "2022-11-05T18:54:50.309Z"
      },
      {
        "duration": 113,
        "start_time": "2022-11-05T18:55:46.846Z"
      },
      {
        "duration": 86,
        "start_time": "2022-11-05T18:55:49.691Z"
      },
      {
        "duration": 77,
        "start_time": "2022-11-05T18:55:55.869Z"
      },
      {
        "duration": 93,
        "start_time": "2022-11-05T18:56:10.956Z"
      },
      {
        "duration": 87,
        "start_time": "2022-11-05T18:56:13.230Z"
      },
      {
        "duration": 85,
        "start_time": "2022-11-05T18:56:18.254Z"
      },
      {
        "duration": 92,
        "start_time": "2022-11-05T18:56:29.761Z"
      },
      {
        "duration": 89,
        "start_time": "2022-11-05T18:56:33.739Z"
      },
      {
        "duration": 105,
        "start_time": "2022-11-05T18:56:45.472Z"
      },
      {
        "duration": 80,
        "start_time": "2022-11-05T18:56:53.960Z"
      },
      {
        "duration": 219,
        "start_time": "2022-11-05T18:57:04.920Z"
      },
      {
        "duration": 114,
        "start_time": "2022-11-05T18:57:08.977Z"
      },
      {
        "duration": 109,
        "start_time": "2022-11-05T18:57:20.369Z"
      },
      {
        "duration": 90,
        "start_time": "2022-11-05T18:57:23.718Z"
      },
      {
        "duration": 95,
        "start_time": "2022-11-05T18:57:34.551Z"
      },
      {
        "duration": 96,
        "start_time": "2022-11-05T18:57:37.331Z"
      },
      {
        "duration": 97,
        "start_time": "2022-11-05T18:57:48.052Z"
      },
      {
        "duration": 87,
        "start_time": "2022-11-05T18:57:50.611Z"
      },
      {
        "duration": 94,
        "start_time": "2022-11-05T18:58:02.472Z"
      },
      {
        "duration": 87,
        "start_time": "2022-11-05T18:58:04.766Z"
      },
      {
        "duration": 89,
        "start_time": "2022-11-05T18:58:20.263Z"
      },
      {
        "duration": 107,
        "start_time": "2022-11-05T18:58:22.653Z"
      },
      {
        "duration": 128,
        "start_time": "2022-11-05T18:58:35.018Z"
      },
      {
        "duration": 94,
        "start_time": "2022-11-05T18:58:46.473Z"
      },
      {
        "duration": 100,
        "start_time": "2022-11-05T18:59:01.110Z"
      },
      {
        "duration": 139,
        "start_time": "2022-11-05T18:59:25.668Z"
      },
      {
        "duration": 141,
        "start_time": "2022-11-05T18:59:26.545Z"
      },
      {
        "duration": 113,
        "start_time": "2022-11-05T19:01:07.463Z"
      },
      {
        "duration": 109,
        "start_time": "2022-11-05T19:01:22.516Z"
      },
      {
        "duration": 125,
        "start_time": "2022-11-05T19:02:09.755Z"
      },
      {
        "duration": 119,
        "start_time": "2022-11-05T19:02:10.651Z"
      },
      {
        "duration": 265,
        "start_time": "2022-11-05T19:02:35.210Z"
      },
      {
        "duration": 136,
        "start_time": "2022-11-05T19:02:38.690Z"
      },
      {
        "duration": 14,
        "start_time": "2022-11-05T19:03:32.131Z"
      },
      {
        "duration": 15,
        "start_time": "2022-11-05T19:03:42.257Z"
      },
      {
        "duration": 36,
        "start_time": "2022-11-05T19:05:34.491Z"
      },
      {
        "duration": 121,
        "start_time": "2022-11-05T19:05:38.896Z"
      },
      {
        "duration": 21,
        "start_time": "2022-11-05T19:05:58.719Z"
      },
      {
        "duration": 23,
        "start_time": "2022-11-05T19:08:21.554Z"
      },
      {
        "duration": 122,
        "start_time": "2022-11-05T19:09:28.006Z"
      },
      {
        "duration": 135,
        "start_time": "2022-11-05T19:09:28.719Z"
      },
      {
        "duration": 132,
        "start_time": "2022-11-05T19:09:29.378Z"
      },
      {
        "duration": 130,
        "start_time": "2022-11-05T19:09:42.744Z"
      },
      {
        "duration": 142,
        "start_time": "2022-11-05T19:10:33.044Z"
      },
      {
        "duration": 127,
        "start_time": "2022-11-05T19:10:51.177Z"
      },
      {
        "duration": 129,
        "start_time": "2022-11-05T19:11:08.301Z"
      },
      {
        "duration": 127,
        "start_time": "2022-11-05T19:12:00.806Z"
      },
      {
        "duration": 133,
        "start_time": "2022-11-05T19:12:14.025Z"
      },
      {
        "duration": 133,
        "start_time": "2022-11-05T19:13:01.363Z"
      },
      {
        "duration": 126,
        "start_time": "2022-11-05T19:13:14.760Z"
      },
      {
        "duration": 128,
        "start_time": "2022-11-05T19:13:21.106Z"
      },
      {
        "duration": 134,
        "start_time": "2022-11-05T19:13:40.977Z"
      },
      {
        "duration": 146,
        "start_time": "2022-11-05T19:13:43.311Z"
      },
      {
        "duration": 14,
        "start_time": "2022-11-05T19:15:29.739Z"
      },
      {
        "duration": 4,
        "start_time": "2022-11-05T19:15:35.449Z"
      },
      {
        "duration": 6,
        "start_time": "2022-11-05T19:15:53.608Z"
      },
      {
        "duration": 4,
        "start_time": "2022-11-05T19:16:05.934Z"
      },
      {
        "duration": 3,
        "start_time": "2022-11-05T19:16:26.207Z"
      },
      {
        "duration": 5,
        "start_time": "2022-11-05T19:16:32.978Z"
      },
      {
        "duration": 15,
        "start_time": "2022-11-05T19:16:42.459Z"
      },
      {
        "duration": 3,
        "start_time": "2022-11-05T19:38:37.848Z"
      },
      {
        "duration": 48,
        "start_time": "2022-11-05T19:38:39.792Z"
      },
      {
        "duration": 19,
        "start_time": "2022-11-05T19:38:40.287Z"
      },
      {
        "duration": 12,
        "start_time": "2022-11-05T19:38:40.771Z"
      },
      {
        "duration": 3,
        "start_time": "2022-11-05T19:38:42.056Z"
      },
      {
        "duration": 20,
        "start_time": "2022-11-05T19:38:42.491Z"
      },
      {
        "duration": 15,
        "start_time": "2022-11-05T19:38:43.309Z"
      },
      {
        "duration": 13,
        "start_time": "2022-11-05T19:38:44.614Z"
      },
      {
        "duration": 9,
        "start_time": "2022-11-05T19:38:45.036Z"
      },
      {
        "duration": 5,
        "start_time": "2022-11-05T19:38:46.228Z"
      },
      {
        "duration": 10,
        "start_time": "2022-11-05T19:38:46.719Z"
      },
      {
        "duration": 13,
        "start_time": "2022-11-05T19:38:47.176Z"
      },
      {
        "duration": 5,
        "start_time": "2022-11-05T19:38:47.623Z"
      },
      {
        "duration": 5,
        "start_time": "2022-11-05T19:38:49.219Z"
      },
      {
        "duration": 116,
        "start_time": "2022-11-05T19:38:50.754Z"
      },
      {
        "duration": 287,
        "start_time": "2022-11-05T19:38:52.171Z"
      },
      {
        "duration": 249,
        "start_time": "2022-11-05T19:38:53.566Z"
      },
      {
        "duration": 114,
        "start_time": "2022-11-05T19:38:54.030Z"
      },
      {
        "duration": 112,
        "start_time": "2022-11-05T19:38:54.462Z"
      },
      {
        "duration": 107,
        "start_time": "2022-11-05T19:38:54.946Z"
      },
      {
        "duration": 119,
        "start_time": "2022-11-05T19:38:55.380Z"
      },
      {
        "duration": 4,
        "start_time": "2022-11-05T19:38:56.655Z"
      },
      {
        "duration": 4,
        "start_time": "2022-11-05T19:38:57.037Z"
      },
      {
        "duration": 122,
        "start_time": "2022-11-05T19:38:57.473Z"
      },
      {
        "duration": 14,
        "start_time": "2022-11-05T19:38:57.883Z"
      },
      {
        "duration": 119,
        "start_time": "2022-11-05T19:38:58.269Z"
      },
      {
        "duration": 121,
        "start_time": "2022-11-05T19:38:58.642Z"
      },
      {
        "duration": 146,
        "start_time": "2022-11-05T19:38:59.017Z"
      },
      {
        "duration": 118,
        "start_time": "2022-11-05T19:38:59.382Z"
      },
      {
        "duration": 134,
        "start_time": "2022-11-05T19:38:59.740Z"
      },
      {
        "duration": 124,
        "start_time": "2022-11-05T19:39:00.153Z"
      },
      {
        "duration": 146,
        "start_time": "2022-11-05T19:39:00.532Z"
      },
      {
        "duration": 135,
        "start_time": "2022-11-05T19:39:00.940Z"
      },
      {
        "duration": 140,
        "start_time": "2022-11-05T19:39:01.333Z"
      },
      {
        "duration": 89,
        "start_time": "2022-11-05T19:39:02.576Z"
      },
      {
        "duration": 95,
        "start_time": "2022-11-05T19:39:03.017Z"
      },
      {
        "duration": 88,
        "start_time": "2022-11-05T19:39:03.416Z"
      },
      {
        "duration": 96,
        "start_time": "2022-11-05T19:39:03.837Z"
      },
      {
        "duration": 91,
        "start_time": "2022-11-05T19:39:04.222Z"
      },
      {
        "duration": 96,
        "start_time": "2022-11-05T19:39:04.597Z"
      },
      {
        "duration": 83,
        "start_time": "2022-11-05T19:39:05.017Z"
      },
      {
        "duration": 90,
        "start_time": "2022-11-05T19:39:05.392Z"
      },
      {
        "duration": 89,
        "start_time": "2022-11-05T19:39:05.757Z"
      },
      {
        "duration": 91,
        "start_time": "2022-11-05T19:39:06.156Z"
      },
      {
        "duration": 231,
        "start_time": "2022-11-05T19:39:06.552Z"
      },
      {
        "duration": 86,
        "start_time": "2022-11-05T19:39:06.922Z"
      },
      {
        "duration": 85,
        "start_time": "2022-11-05T19:39:07.323Z"
      },
      {
        "duration": 95,
        "start_time": "2022-11-05T19:39:07.716Z"
      },
      {
        "duration": 87,
        "start_time": "2022-11-05T19:39:08.089Z"
      },
      {
        "duration": 93,
        "start_time": "2022-11-05T19:39:08.477Z"
      },
      {
        "duration": 117,
        "start_time": "2022-11-05T19:39:08.869Z"
      },
      {
        "duration": 88,
        "start_time": "2022-11-05T19:39:09.302Z"
      },
      {
        "duration": 85,
        "start_time": "2022-11-05T19:39:09.699Z"
      },
      {
        "duration": 101,
        "start_time": "2022-11-05T19:39:10.068Z"
      },
      {
        "duration": 93,
        "start_time": "2022-11-05T19:39:10.504Z"
      },
      {
        "duration": 95,
        "start_time": "2022-11-05T19:39:10.953Z"
      },
      {
        "duration": 131,
        "start_time": "2022-11-05T19:39:12.694Z"
      },
      {
        "duration": 122,
        "start_time": "2022-11-05T19:39:13.166Z"
      },
      {
        "duration": 107,
        "start_time": "2022-11-05T19:39:13.561Z"
      },
      {
        "duration": 103,
        "start_time": "2022-11-05T19:39:13.994Z"
      },
      {
        "duration": 121,
        "start_time": "2022-11-05T19:39:14.401Z"
      },
      {
        "duration": 123,
        "start_time": "2022-11-05T19:39:14.831Z"
      },
      {
        "duration": 145,
        "start_time": "2022-11-05T19:39:16.485Z"
      },
      {
        "duration": 142,
        "start_time": "2022-11-05T19:39:17.327Z"
      },
      {
        "duration": 23,
        "start_time": "2022-11-05T19:39:18.149Z"
      },
      {
        "duration": 136,
        "start_time": "2022-11-05T19:39:20.221Z"
      },
      {
        "duration": 139,
        "start_time": "2022-11-05T19:39:20.619Z"
      },
      {
        "duration": 142,
        "start_time": "2022-11-05T19:39:20.974Z"
      },
      {
        "duration": 142,
        "start_time": "2022-11-05T19:39:22.183Z"
      },
      {
        "duration": 138,
        "start_time": "2022-11-05T19:39:22.570Z"
      },
      {
        "duration": 151,
        "start_time": "2022-11-05T19:39:22.971Z"
      },
      {
        "duration": 15,
        "start_time": "2022-11-05T19:39:23.756Z"
      },
      {
        "duration": 6,
        "start_time": "2022-11-05T19:39:26.493Z"
      },
      {
        "duration": 522,
        "start_time": "2022-11-05T19:39:26.861Z"
      },
      {
        "duration": 7,
        "start_time": "2022-11-05T19:39:28.800Z"
      },
      {
        "duration": 4,
        "start_time": "2022-11-05T19:39:29.246Z"
      },
      {
        "duration": 23,
        "start_time": "2022-11-05T19:42:07.860Z"
      },
      {
        "duration": 49,
        "start_time": "2022-11-05T19:43:48.375Z"
      },
      {
        "duration": 22,
        "start_time": "2022-11-05T19:44:05.873Z"
      },
      {
        "duration": 27,
        "start_time": "2022-11-05T19:44:15.219Z"
      },
      {
        "duration": 22,
        "start_time": "2022-11-05T19:44:23.819Z"
      },
      {
        "duration": 145,
        "start_time": "2022-11-05T19:50:47.725Z"
      },
      {
        "duration": 144,
        "start_time": "2022-11-05T19:50:54.886Z"
      },
      {
        "duration": 159,
        "start_time": "2022-11-05T19:51:01.865Z"
      },
      {
        "duration": 137,
        "start_time": "2022-11-05T19:51:06.694Z"
      },
      {
        "duration": 6,
        "start_time": "2022-11-05T20:00:06.264Z"
      },
      {
        "duration": 5,
        "start_time": "2022-11-05T20:00:06.894Z"
      },
      {
        "duration": 5,
        "start_time": "2022-11-05T20:00:12.460Z"
      },
      {
        "duration": 5,
        "start_time": "2022-11-05T20:00:13.061Z"
      },
      {
        "duration": 4,
        "start_time": "2022-11-05T20:01:28.603Z"
      },
      {
        "duration": 4,
        "start_time": "2022-11-05T20:01:32.188Z"
      },
      {
        "duration": 6,
        "start_time": "2022-11-05T20:01:35.258Z"
      },
      {
        "duration": 6,
        "start_time": "2022-11-05T20:04:15.642Z"
      },
      {
        "duration": 3,
        "start_time": "2022-11-05T20:04:20.746Z"
      },
      {
        "duration": 48,
        "start_time": "2022-11-05T20:04:21.884Z"
      },
      {
        "duration": 19,
        "start_time": "2022-11-05T20:04:22.270Z"
      },
      {
        "duration": 13,
        "start_time": "2022-11-05T20:04:22.901Z"
      },
      {
        "duration": 947,
        "start_time": "2022-11-05T20:04:23.406Z"
      },
      {
        "duration": 3,
        "start_time": "2022-11-05T20:04:34.586Z"
      },
      {
        "duration": 19,
        "start_time": "2022-11-05T20:04:35.367Z"
      },
      {
        "duration": 4,
        "start_time": "2022-11-05T20:04:52.765Z"
      },
      {
        "duration": 2,
        "start_time": "2022-11-05T20:05:06.442Z"
      },
      {
        "duration": 3,
        "start_time": "2022-11-05T20:05:54.393Z"
      },
      {
        "duration": 47,
        "start_time": "2022-11-05T20:05:55.867Z"
      },
      {
        "duration": 19,
        "start_time": "2022-11-05T20:05:56.296Z"
      },
      {
        "duration": 13,
        "start_time": "2022-11-05T20:05:56.752Z"
      },
      {
        "duration": 3,
        "start_time": "2022-11-05T20:05:58.034Z"
      },
      {
        "duration": 19,
        "start_time": "2022-11-05T20:05:58.421Z"
      },
      {
        "duration": 15,
        "start_time": "2022-11-05T20:05:59.188Z"
      },
      {
        "duration": 13,
        "start_time": "2022-11-05T20:06:00.369Z"
      },
      {
        "duration": 9,
        "start_time": "2022-11-05T20:06:00.787Z"
      },
      {
        "duration": 5,
        "start_time": "2022-11-05T20:06:01.900Z"
      },
      {
        "duration": 9,
        "start_time": "2022-11-05T20:06:02.274Z"
      },
      {
        "duration": 15,
        "start_time": "2022-11-05T20:06:02.670Z"
      },
      {
        "duration": 5,
        "start_time": "2022-11-05T20:06:03.059Z"
      },
      {
        "duration": 5,
        "start_time": "2022-11-05T20:06:04.212Z"
      },
      {
        "duration": 3,
        "start_time": "2022-11-05T20:06:15.109Z"
      },
      {
        "duration": 120,
        "start_time": "2022-11-05T20:06:16.394Z"
      },
      {
        "duration": 315,
        "start_time": "2022-11-05T20:06:17.321Z"
      },
      {
        "duration": 128,
        "start_time": "2022-11-05T20:06:18.230Z"
      },
      {
        "duration": 116,
        "start_time": "2022-11-05T20:06:18.536Z"
      },
      {
        "duration": 151,
        "start_time": "2022-11-05T20:06:18.825Z"
      },
      {
        "duration": 133,
        "start_time": "2022-11-05T20:06:19.112Z"
      },
      {
        "duration": 126,
        "start_time": "2022-11-05T20:06:19.376Z"
      },
      {
        "duration": 4,
        "start_time": "2022-11-05T20:06:20.214Z"
      },
      {
        "duration": 4,
        "start_time": "2022-11-05T20:06:20.495Z"
      },
      {
        "duration": 123,
        "start_time": "2022-11-05T20:06:20.773Z"
      },
      {
        "duration": 13,
        "start_time": "2022-11-05T20:06:21.081Z"
      },
      {
        "duration": 129,
        "start_time": "2022-11-05T20:06:21.378Z"
      },
      {
        "duration": 131,
        "start_time": "2022-11-05T20:06:21.658Z"
      },
      {
        "duration": 123,
        "start_time": "2022-11-05T20:06:21.918Z"
      },
      {
        "duration": 119,
        "start_time": "2022-11-05T20:06:22.166Z"
      },
      {
        "duration": 138,
        "start_time": "2022-11-05T20:06:22.426Z"
      },
      {
        "duration": 127,
        "start_time": "2022-11-05T20:06:22.683Z"
      },
      {
        "duration": 138,
        "start_time": "2022-11-05T20:06:22.948Z"
      },
      {
        "duration": 140,
        "start_time": "2022-11-05T20:06:23.224Z"
      },
      {
        "duration": 138,
        "start_time": "2022-11-05T20:06:23.493Z"
      },
      {
        "duration": 86,
        "start_time": "2022-11-05T20:06:24.267Z"
      },
      {
        "duration": 86,
        "start_time": "2022-11-05T20:06:24.519Z"
      },
      {
        "duration": 267,
        "start_time": "2022-11-05T20:06:24.793Z"
      },
      {
        "duration": 110,
        "start_time": "2022-11-05T20:06:25.062Z"
      },
      {
        "duration": 91,
        "start_time": "2022-11-05T20:06:25.297Z"
      },
      {
        "duration": 97,
        "start_time": "2022-11-05T20:06:25.560Z"
      },
      {
        "duration": 76,
        "start_time": "2022-11-05T20:06:25.815Z"
      },
      {
        "duration": 84,
        "start_time": "2022-11-05T20:06:26.065Z"
      },
      {
        "duration": 88,
        "start_time": "2022-11-05T20:06:26.283Z"
      },
      {
        "duration": 100,
        "start_time": "2022-11-05T20:06:26.528Z"
      },
      {
        "duration": 88,
        "start_time": "2022-11-05T20:06:26.763Z"
      },
      {
        "duration": 85,
        "start_time": "2022-11-05T20:06:27.001Z"
      },
      {
        "duration": 90,
        "start_time": "2022-11-05T20:06:27.226Z"
      },
      {
        "duration": 108,
        "start_time": "2022-11-05T20:06:27.448Z"
      },
      {
        "duration": 90,
        "start_time": "2022-11-05T20:06:27.658Z"
      },
      {
        "duration": 94,
        "start_time": "2022-11-05T20:06:28.243Z"
      },
      {
        "duration": 87,
        "start_time": "2022-11-05T20:06:28.630Z"
      },
      {
        "duration": 125,
        "start_time": "2022-11-05T20:06:28.919Z"
      },
      {
        "duration": 83,
        "start_time": "2022-11-05T20:06:29.196Z"
      },
      {
        "duration": 102,
        "start_time": "2022-11-05T20:06:29.465Z"
      },
      {
        "duration": 94,
        "start_time": "2022-11-05T20:06:29.734Z"
      },
      {
        "duration": 99,
        "start_time": "2022-11-05T20:06:30.000Z"
      },
      {
        "duration": 131,
        "start_time": "2022-11-05T20:06:31.122Z"
      },
      {
        "duration": 134,
        "start_time": "2022-11-05T20:06:31.446Z"
      },
      {
        "duration": 103,
        "start_time": "2022-11-05T20:06:31.733Z"
      },
      {
        "duration": 109,
        "start_time": "2022-11-05T20:06:32.040Z"
      },
      {
        "duration": 126,
        "start_time": "2022-11-05T20:06:32.353Z"
      },
      {
        "duration": 119,
        "start_time": "2022-11-05T20:06:32.664Z"
      },
      {
        "duration": 149,
        "start_time": "2022-11-05T20:06:34.137Z"
      },
      {
        "duration": 150,
        "start_time": "2022-11-05T20:06:34.742Z"
      },
      {
        "duration": 23,
        "start_time": "2022-11-05T20:06:35.311Z"
      },
      {
        "duration": 124,
        "start_time": "2022-11-05T20:06:36.882Z"
      },
      {
        "duration": 129,
        "start_time": "2022-11-05T20:06:37.227Z"
      },
      {
        "duration": 144,
        "start_time": "2022-11-05T20:06:37.515Z"
      },
      {
        "duration": 141,
        "start_time": "2022-11-05T20:06:38.421Z"
      },
      {
        "duration": 159,
        "start_time": "2022-11-05T20:06:38.746Z"
      },
      {
        "duration": 167,
        "start_time": "2022-11-05T20:06:39.063Z"
      },
      {
        "duration": 15,
        "start_time": "2022-11-05T20:06:39.710Z"
      },
      {
        "duration": 7,
        "start_time": "2022-11-05T20:07:18.745Z"
      },
      {
        "duration": 5,
        "start_time": "2022-11-05T20:07:19.384Z"
      },
      {
        "duration": 9,
        "start_time": "2022-11-05T20:07:21.557Z"
      },
      {
        "duration": 5,
        "start_time": "2022-11-05T20:07:22.714Z"
      },
      {
        "duration": 6,
        "start_time": "2022-11-05T20:09:10.177Z"
      },
      {
        "duration": 5,
        "start_time": "2022-11-05T20:09:10.668Z"
      },
      {
        "duration": 6,
        "start_time": "2022-11-05T20:09:12.536Z"
      },
      {
        "duration": 5,
        "start_time": "2022-11-05T20:09:13.172Z"
      },
      {
        "duration": 692,
        "start_time": "2022-11-06T12:47:50.314Z"
      },
      {
        "duration": 118,
        "start_time": "2022-11-06T12:47:51.008Z"
      },
      {
        "duration": 23,
        "start_time": "2022-11-06T12:47:51.127Z"
      },
      {
        "duration": 14,
        "start_time": "2022-11-06T12:47:51.151Z"
      },
      {
        "duration": 3,
        "start_time": "2022-11-06T12:47:51.167Z"
      },
      {
        "duration": 20,
        "start_time": "2022-11-06T12:47:51.171Z"
      },
      {
        "duration": 15,
        "start_time": "2022-11-06T12:47:51.192Z"
      },
      {
        "duration": 39,
        "start_time": "2022-11-06T12:47:51.209Z"
      },
      {
        "duration": 8,
        "start_time": "2022-11-06T12:47:51.250Z"
      },
      {
        "duration": 5,
        "start_time": "2022-11-06T12:47:51.259Z"
      },
      {
        "duration": 10,
        "start_time": "2022-11-06T12:47:51.266Z"
      },
      {
        "duration": 15,
        "start_time": "2022-11-06T12:47:51.278Z"
      },
      {
        "duration": 4,
        "start_time": "2022-11-06T12:47:51.295Z"
      },
      {
        "duration": 38,
        "start_time": "2022-11-06T12:47:51.301Z"
      },
      {
        "duration": 156,
        "start_time": "2022-11-06T12:47:51.341Z"
      },
      {
        "duration": 317,
        "start_time": "2022-11-06T12:47:51.499Z"
      },
      {
        "duration": 140,
        "start_time": "2022-11-06T12:47:51.817Z"
      },
      {
        "duration": 186,
        "start_time": "2022-11-06T12:47:51.959Z"
      },
      {
        "duration": 144,
        "start_time": "2022-11-06T12:47:52.146Z"
      },
      {
        "duration": 127,
        "start_time": "2022-11-06T12:47:52.292Z"
      },
      {
        "duration": 161,
        "start_time": "2022-11-06T12:47:52.420Z"
      },
      {
        "duration": 5,
        "start_time": "2022-11-06T12:47:52.582Z"
      },
      {
        "duration": 7,
        "start_time": "2022-11-06T12:47:52.588Z"
      },
      {
        "duration": 152,
        "start_time": "2022-11-06T12:47:52.596Z"
      },
      {
        "duration": 13,
        "start_time": "2022-11-06T12:47:52.749Z"
      },
      {
        "duration": 145,
        "start_time": "2022-11-06T12:47:52.763Z"
      },
      {
        "duration": 155,
        "start_time": "2022-11-06T12:47:52.909Z"
      },
      {
        "duration": 144,
        "start_time": "2022-11-06T12:47:53.066Z"
      },
      {
        "duration": 153,
        "start_time": "2022-11-06T12:47:53.211Z"
      },
      {
        "duration": 167,
        "start_time": "2022-11-06T12:47:53.366Z"
      },
      {
        "duration": 143,
        "start_time": "2022-11-06T12:47:53.538Z"
      },
      {
        "duration": 226,
        "start_time": "2022-11-06T12:47:53.682Z"
      },
      {
        "duration": 177,
        "start_time": "2022-11-06T12:47:53.910Z"
      },
      {
        "duration": 181,
        "start_time": "2022-11-06T12:47:54.089Z"
      },
      {
        "duration": 116,
        "start_time": "2022-11-06T12:47:54.272Z"
      },
      {
        "duration": 104,
        "start_time": "2022-11-06T12:47:54.390Z"
      },
      {
        "duration": 110,
        "start_time": "2022-11-06T12:47:54.496Z"
      },
      {
        "duration": 116,
        "start_time": "2022-11-06T12:47:54.608Z"
      },
      {
        "duration": 115,
        "start_time": "2022-11-06T12:47:54.725Z"
      },
      {
        "duration": 120,
        "start_time": "2022-11-06T12:47:54.842Z"
      },
      {
        "duration": 102,
        "start_time": "2022-11-06T12:47:54.966Z"
      },
      {
        "duration": 102,
        "start_time": "2022-11-06T12:47:55.069Z"
      },
      {
        "duration": 113,
        "start_time": "2022-11-06T12:47:55.173Z"
      },
      {
        "duration": 119,
        "start_time": "2022-11-06T12:47:55.288Z"
      },
      {
        "duration": 191,
        "start_time": "2022-11-06T12:47:55.409Z"
      },
      {
        "duration": 103,
        "start_time": "2022-11-06T12:47:55.601Z"
      },
      {
        "duration": 104,
        "start_time": "2022-11-06T12:47:55.705Z"
      },
      {
        "duration": 120,
        "start_time": "2022-11-06T12:47:55.810Z"
      },
      {
        "duration": 108,
        "start_time": "2022-11-06T12:47:55.939Z"
      },
      {
        "duration": 111,
        "start_time": "2022-11-06T12:47:56.049Z"
      },
      {
        "duration": 105,
        "start_time": "2022-11-06T12:47:56.161Z"
      },
      {
        "duration": 113,
        "start_time": "2022-11-06T12:47:56.267Z"
      },
      {
        "duration": 102,
        "start_time": "2022-11-06T12:47:56.381Z"
      },
      {
        "duration": 131,
        "start_time": "2022-11-06T12:47:56.485Z"
      },
      {
        "duration": 113,
        "start_time": "2022-11-06T12:47:56.618Z"
      },
      {
        "duration": 118,
        "start_time": "2022-11-06T12:47:56.733Z"
      },
      {
        "duration": 156,
        "start_time": "2022-11-06T12:47:56.853Z"
      },
      {
        "duration": 160,
        "start_time": "2022-11-06T12:47:57.011Z"
      },
      {
        "duration": 144,
        "start_time": "2022-11-06T12:47:57.173Z"
      },
      {
        "duration": 253,
        "start_time": "2022-11-06T12:47:57.319Z"
      },
      {
        "duration": 151,
        "start_time": "2022-11-06T12:47:57.573Z"
      },
      {
        "duration": 143,
        "start_time": "2022-11-06T12:47:57.726Z"
      },
      {
        "duration": 184,
        "start_time": "2022-11-06T12:47:57.871Z"
      },
      {
        "duration": 186,
        "start_time": "2022-11-06T12:47:58.056Z"
      },
      {
        "duration": 29,
        "start_time": "2022-11-06T12:47:58.244Z"
      },
      {
        "duration": 175,
        "start_time": "2022-11-06T12:47:58.274Z"
      },
      {
        "duration": 179,
        "start_time": "2022-11-06T12:47:58.451Z"
      },
      {
        "duration": 183,
        "start_time": "2022-11-06T12:47:58.632Z"
      },
      {
        "duration": 184,
        "start_time": "2022-11-06T12:47:58.817Z"
      },
      {
        "duration": 183,
        "start_time": "2022-11-06T12:47:59.003Z"
      },
      {
        "duration": 187,
        "start_time": "2022-11-06T12:47:59.187Z"
      },
      {
        "duration": 16,
        "start_time": "2022-11-06T12:47:59.376Z"
      },
      {
        "duration": 6,
        "start_time": "2022-11-06T12:47:59.394Z"
      },
      {
        "duration": 560,
        "start_time": "2022-11-06T12:47:59.402Z"
      },
      {
        "duration": 7,
        "start_time": "2022-11-06T12:47:59.965Z"
      },
      {
        "duration": 10,
        "start_time": "2022-11-06T12:47:59.973Z"
      },
      {
        "duration": 105,
        "start_time": "2022-11-06T12:59:12.248Z"
      },
      {
        "duration": 127,
        "start_time": "2022-11-06T12:59:29.284Z"
      },
      {
        "duration": 90,
        "start_time": "2022-11-06T12:59:44.199Z"
      },
      {
        "duration": 834,
        "start_time": "2022-11-06T13:33:05.553Z"
      },
      {
        "duration": 213,
        "start_time": "2022-11-06T13:33:07.355Z"
      },
      {
        "duration": 27,
        "start_time": "2022-11-06T13:33:07.941Z"
      },
      {
        "duration": 19,
        "start_time": "2022-11-06T13:33:08.534Z"
      },
      {
        "duration": 4,
        "start_time": "2022-11-06T13:33:10.577Z"
      },
      {
        "duration": 22,
        "start_time": "2022-11-06T13:33:11.138Z"
      },
      {
        "duration": 17,
        "start_time": "2022-11-06T13:33:12.937Z"
      },
      {
        "duration": 15,
        "start_time": "2022-11-06T13:33:14.693Z"
      },
      {
        "duration": 10,
        "start_time": "2022-11-06T13:33:15.383Z"
      },
      {
        "duration": 7,
        "start_time": "2022-11-06T13:33:17.464Z"
      },
      {
        "duration": 10,
        "start_time": "2022-11-06T13:33:18.210Z"
      },
      {
        "duration": 17,
        "start_time": "2022-11-06T13:33:18.712Z"
      },
      {
        "duration": 5,
        "start_time": "2022-11-06T13:33:19.723Z"
      },
      {
        "duration": 6,
        "start_time": "2022-11-06T13:33:22.090Z"
      },
      {
        "duration": 165,
        "start_time": "2022-11-06T13:33:26.568Z"
      },
      {
        "duration": 208,
        "start_time": "2022-11-06T13:37:37.156Z"
      },
      {
        "duration": 3,
        "start_time": "2022-11-06T13:38:20.991Z"
      },
      {
        "duration": 56,
        "start_time": "2022-11-06T13:38:22.639Z"
      },
      {
        "duration": 23,
        "start_time": "2022-11-06T13:38:23.473Z"
      },
      {
        "duration": 15,
        "start_time": "2022-11-06T13:38:24.152Z"
      },
      {
        "duration": 3,
        "start_time": "2022-11-06T13:38:25.767Z"
      },
      {
        "duration": 22,
        "start_time": "2022-11-06T13:38:26.320Z"
      },
      {
        "duration": 16,
        "start_time": "2022-11-06T13:38:27.270Z"
      },
      {
        "duration": 21,
        "start_time": "2022-11-06T13:38:28.819Z"
      },
      {
        "duration": 14,
        "start_time": "2022-11-06T13:38:29.407Z"
      },
      {
        "duration": 7,
        "start_time": "2022-11-06T13:38:30.762Z"
      },
      {
        "duration": 14,
        "start_time": "2022-11-06T13:38:31.253Z"
      },
      {
        "duration": 16,
        "start_time": "2022-11-06T13:38:32.409Z"
      },
      {
        "duration": 5,
        "start_time": "2022-11-06T13:38:33.073Z"
      },
      {
        "duration": 5,
        "start_time": "2022-11-06T13:38:34.724Z"
      },
      {
        "duration": 155,
        "start_time": "2022-11-06T13:38:37.361Z"
      },
      {
        "duration": 421,
        "start_time": "2022-11-06T13:38:38.729Z"
      },
      {
        "duration": 3,
        "start_time": "2022-11-06T13:41:20.444Z"
      },
      {
        "duration": 54,
        "start_time": "2022-11-06T13:41:22.353Z"
      },
      {
        "duration": 24,
        "start_time": "2022-11-06T13:41:22.964Z"
      },
      {
        "duration": 17,
        "start_time": "2022-11-06T13:41:23.698Z"
      },
      {
        "duration": 3,
        "start_time": "2022-11-06T13:41:26.174Z"
      },
      {
        "duration": 23,
        "start_time": "2022-11-06T13:41:27.166Z"
      },
      {
        "duration": 16,
        "start_time": "2022-11-06T13:41:28.379Z"
      },
      {
        "duration": 15,
        "start_time": "2022-11-06T13:41:30.041Z"
      },
      {
        "duration": 11,
        "start_time": "2022-11-06T13:41:30.678Z"
      },
      {
        "duration": 7,
        "start_time": "2022-11-06T13:41:32.513Z"
      },
      {
        "duration": 11,
        "start_time": "2022-11-06T13:41:33.162Z"
      },
      {
        "duration": 21,
        "start_time": "2022-11-06T13:41:33.982Z"
      },
      {
        "duration": 5,
        "start_time": "2022-11-06T13:41:34.559Z"
      },
      {
        "duration": 7,
        "start_time": "2022-11-06T13:41:36.169Z"
      },
      {
        "duration": 149,
        "start_time": "2022-11-06T13:41:39.302Z"
      },
      {
        "duration": 366,
        "start_time": "2022-11-06T13:41:41.375Z"
      },
      {
        "duration": 148,
        "start_time": "2022-11-06T13:41:45.417Z"
      },
      {
        "duration": 17653,
        "start_time": "2022-11-06T13:41:46.153Z"
      },
      {
        "duration": 166,
        "start_time": "2022-11-06T13:42:03.808Z"
      },
      {
        "duration": 155,
        "start_time": "2022-11-06T13:42:03.976Z"
      },
      {
        "duration": 162,
        "start_time": "2022-11-06T13:42:05.221Z"
      },
      {
        "duration": 148,
        "start_time": "2022-11-06T13:42:20.059Z"
      },
      {
        "duration": 294,
        "start_time": "2022-11-06T13:43:10.258Z"
      },
      {
        "duration": 24,
        "start_time": "2022-11-06T13:43:37.767Z"
      },
      {
        "duration": 141,
        "start_time": "2022-11-06T13:43:46.467Z"
      },
      {
        "duration": 184,
        "start_time": "2022-11-06T13:46:04.726Z"
      },
      {
        "duration": 29047,
        "start_time": "2022-11-06T13:46:34.273Z"
      },
      {
        "duration": 157,
        "start_time": "2022-11-06T13:47:03.324Z"
      },
      {
        "duration": 145,
        "start_time": "2022-11-06T13:47:03.482Z"
      },
      {
        "duration": 149,
        "start_time": "2022-11-06T13:47:25.231Z"
      },
      {
        "duration": 140,
        "start_time": "2022-11-06T13:47:29.132Z"
      },
      {
        "duration": 138,
        "start_time": "2022-11-06T13:47:29.887Z"
      },
      {
        "duration": 165,
        "start_time": "2022-11-06T13:47:30.481Z"
      },
      {
        "duration": 7,
        "start_time": "2022-11-06T13:47:32.502Z"
      },
      {
        "duration": 6,
        "start_time": "2022-11-06T13:47:33.005Z"
      },
      {
        "duration": 168,
        "start_time": "2022-11-06T13:47:33.483Z"
      },
      {
        "duration": 15,
        "start_time": "2022-11-06T13:47:34.076Z"
      },
      {
        "duration": 156,
        "start_time": "2022-11-06T13:47:34.483Z"
      },
      {
        "duration": 153,
        "start_time": "2022-11-06T13:47:34.966Z"
      },
      {
        "duration": 154,
        "start_time": "2022-11-06T13:47:35.440Z"
      },
      {
        "duration": 147,
        "start_time": "2022-11-06T13:47:35.862Z"
      },
      {
        "duration": 174,
        "start_time": "2022-11-06T13:47:36.653Z"
      },
      {
        "duration": 158,
        "start_time": "2022-11-06T13:47:37.081Z"
      },
      {
        "duration": 168,
        "start_time": "2022-11-06T13:47:37.464Z"
      },
      {
        "duration": 178,
        "start_time": "2022-11-06T13:47:37.898Z"
      },
      {
        "duration": 170,
        "start_time": "2022-11-06T13:47:38.363Z"
      },
      {
        "duration": 125,
        "start_time": "2022-11-06T13:47:40.418Z"
      },
      {
        "duration": 115,
        "start_time": "2022-11-06T13:47:40.885Z"
      },
      {
        "duration": 100,
        "start_time": "2022-11-06T13:47:41.300Z"
      },
      {
        "duration": 126,
        "start_time": "2022-11-06T13:47:41.674Z"
      },
      {
        "duration": 119,
        "start_time": "2022-11-06T13:47:42.101Z"
      },
      {
        "duration": 122,
        "start_time": "2022-11-06T13:47:42.358Z"
      },
      {
        "duration": 99,
        "start_time": "2022-11-06T13:47:42.689Z"
      },
      {
        "duration": 107,
        "start_time": "2022-11-06T13:47:43.150Z"
      },
      {
        "duration": 126,
        "start_time": "2022-11-06T13:47:43.355Z"
      },
      {
        "duration": 1827,
        "start_time": "2022-11-06T13:47:43.722Z"
      },
      {
        "duration": 134,
        "start_time": "2022-11-06T13:47:45.551Z"
      },
      {
        "duration": 119,
        "start_time": "2022-11-06T13:47:45.687Z"
      },
      {
        "duration": 128,
        "start_time": "2022-11-06T13:47:45.808Z"
      },
      {
        "duration": 137,
        "start_time": "2022-11-06T13:47:45.937Z"
      },
      {
        "duration": 120,
        "start_time": "2022-11-06T13:47:46.076Z"
      },
      {
        "duration": 121,
        "start_time": "2022-11-06T13:47:46.725Z"
      },
      {
        "duration": 107,
        "start_time": "2022-11-06T13:47:47.075Z"
      },
      {
        "duration": 111,
        "start_time": "2022-11-06T13:47:47.790Z"
      },
      {
        "duration": 101,
        "start_time": "2022-11-06T13:47:48.216Z"
      },
      {
        "duration": 130,
        "start_time": "2022-11-06T13:47:48.488Z"
      },
      {
        "duration": 115,
        "start_time": "2022-11-06T13:47:48.862Z"
      },
      {
        "duration": 120,
        "start_time": "2022-11-06T13:47:49.241Z"
      },
      {
        "duration": 153,
        "start_time": "2022-11-06T13:47:51.546Z"
      },
      {
        "duration": 159,
        "start_time": "2022-11-06T13:47:51.974Z"
      },
      {
        "duration": 131,
        "start_time": "2022-11-06T13:47:52.278Z"
      },
      {
        "duration": 127,
        "start_time": "2022-11-06T13:47:52.636Z"
      },
      {
        "duration": 163,
        "start_time": "2022-11-06T13:47:52.985Z"
      },
      {
        "duration": 163,
        "start_time": "2022-11-06T13:47:53.401Z"
      },
      {
        "duration": 177,
        "start_time": "2022-11-06T13:47:55.576Z"
      },
      {
        "duration": 175,
        "start_time": "2022-11-06T13:47:57.062Z"
      },
      {
        "duration": 30,
        "start_time": "2022-11-06T13:47:58.115Z"
      },
      {
        "duration": 162,
        "start_time": "2022-11-06T13:48:01.787Z"
      },
      {
        "duration": 137,
        "start_time": "2022-11-06T13:48:02.560Z"
      },
      {
        "duration": 141,
        "start_time": "2022-11-06T13:48:03.030Z"
      },
      {
        "duration": 176,
        "start_time": "2022-11-06T13:48:04.741Z"
      },
      {
        "duration": 179,
        "start_time": "2022-11-06T13:48:05.264Z"
      },
      {
        "duration": 175,
        "start_time": "2022-11-06T13:48:05.672Z"
      },
      {
        "duration": 18,
        "start_time": "2022-11-06T13:48:06.426Z"
      },
      {
        "duration": 7,
        "start_time": "2022-11-06T13:48:09.193Z"
      },
      {
        "duration": 502,
        "start_time": "2022-11-06T13:48:09.556Z"
      },
      {
        "duration": 8,
        "start_time": "2022-11-06T13:48:11.937Z"
      },
      {
        "duration": 6,
        "start_time": "2022-11-06T13:48:12.285Z"
      },
      {
        "duration": 3,
        "start_time": "2022-11-06T14:08:13.409Z"
      },
      {
        "duration": 67,
        "start_time": "2022-11-06T14:08:15.147Z"
      },
      {
        "duration": 25,
        "start_time": "2022-11-06T14:08:15.544Z"
      },
      {
        "duration": 15,
        "start_time": "2022-11-06T14:08:16.006Z"
      },
      {
        "duration": 4,
        "start_time": "2022-11-06T14:08:17.070Z"
      },
      {
        "duration": 27,
        "start_time": "2022-11-06T14:08:17.437Z"
      },
      {
        "duration": 17,
        "start_time": "2022-11-06T14:08:18.113Z"
      },
      {
        "duration": 15,
        "start_time": "2022-11-06T14:08:19.135Z"
      },
      {
        "duration": 11,
        "start_time": "2022-11-06T14:08:19.424Z"
      },
      {
        "duration": 9,
        "start_time": "2022-11-06T14:08:20.320Z"
      },
      {
        "duration": 10,
        "start_time": "2022-11-06T14:08:20.747Z"
      },
      {
        "duration": 18,
        "start_time": "2022-11-06T14:08:20.943Z"
      },
      {
        "duration": 6,
        "start_time": "2022-11-06T14:08:21.267Z"
      },
      {
        "duration": 6,
        "start_time": "2022-11-06T14:08:22.265Z"
      },
      {
        "duration": 163,
        "start_time": "2022-11-06T14:08:23.732Z"
      },
      {
        "duration": 355,
        "start_time": "2022-11-06T14:08:24.663Z"
      },
      {
        "duration": 151,
        "start_time": "2022-11-06T14:08:39.068Z"
      },
      {
        "duration": 158,
        "start_time": "2022-11-06T14:08:45.646Z"
      },
      {
        "duration": 289,
        "start_time": "2022-11-06T14:08:54.884Z"
      },
      {
        "duration": 1132,
        "start_time": "2022-11-06T14:09:38.845Z"
      },
      {
        "duration": 151,
        "start_time": "2022-11-06T14:09:48.173Z"
      },
      {
        "duration": 153,
        "start_time": "2022-11-06T14:10:00.353Z"
      },
      {
        "duration": 164,
        "start_time": "2022-11-06T14:10:08.644Z"
      },
      {
        "duration": 152,
        "start_time": "2022-11-06T14:10:34.924Z"
      },
      {
        "duration": 177,
        "start_time": "2022-11-06T14:11:01.556Z"
      },
      {
        "duration": 306,
        "start_time": "2022-11-06T14:11:08.315Z"
      },
      {
        "duration": 19899,
        "start_time": "2022-11-06T14:23:37.836Z"
      },
      {
        "duration": 151,
        "start_time": "2022-11-06T14:23:58.709Z"
      },
      {
        "duration": 145,
        "start_time": "2022-11-06T14:24:24.512Z"
      },
      {
        "duration": 196,
        "start_time": "2022-11-06T14:24:51.752Z"
      },
      {
        "duration": 203,
        "start_time": "2022-11-06T14:27:39.467Z"
      },
      {
        "duration": 677,
        "start_time": "2022-11-06T14:27:54.357Z"
      },
      {
        "duration": 230,
        "start_time": "2022-11-06T14:28:03.073Z"
      },
      {
        "duration": 248,
        "start_time": "2022-11-06T14:29:11.967Z"
      },
      {
        "duration": 203,
        "start_time": "2022-11-06T14:30:46.791Z"
      },
      {
        "duration": 158,
        "start_time": "2022-11-06T15:20:38.319Z"
      },
      {
        "duration": 130,
        "start_time": "2022-11-06T15:20:55.602Z"
      },
      {
        "duration": 149,
        "start_time": "2022-11-06T15:21:12.494Z"
      },
      {
        "duration": 9,
        "start_time": "2022-11-06T15:22:26.104Z"
      },
      {
        "duration": 16,
        "start_time": "2022-11-06T15:23:19.883Z"
      },
      {
        "duration": 19,
        "start_time": "2022-11-06T15:23:42.260Z"
      },
      {
        "duration": 14,
        "start_time": "2022-11-06T15:23:53.322Z"
      },
      {
        "duration": 3,
        "start_time": "2022-11-06T15:24:10.654Z"
      },
      {
        "duration": 53,
        "start_time": "2022-11-06T15:24:12.021Z"
      },
      {
        "duration": 25,
        "start_time": "2022-11-06T15:24:12.379Z"
      },
      {
        "duration": 17,
        "start_time": "2022-11-06T15:24:12.783Z"
      },
      {
        "duration": 3,
        "start_time": "2022-11-06T15:24:13.558Z"
      },
      {
        "duration": 23,
        "start_time": "2022-11-06T15:24:13.923Z"
      },
      {
        "duration": 16,
        "start_time": "2022-11-06T15:24:14.423Z"
      },
      {
        "duration": 15,
        "start_time": "2022-11-06T15:24:15.282Z"
      },
      {
        "duration": 11,
        "start_time": "2022-11-06T15:24:15.554Z"
      },
      {
        "duration": 7,
        "start_time": "2022-11-06T15:24:16.598Z"
      },
      {
        "duration": 10,
        "start_time": "2022-11-06T15:24:16.792Z"
      },
      {
        "duration": 16,
        "start_time": "2022-11-06T15:24:17.184Z"
      },
      {
        "duration": 6,
        "start_time": "2022-11-06T15:24:17.430Z"
      },
      {
        "duration": 6,
        "start_time": "2022-11-06T15:24:18.371Z"
      },
      {
        "duration": 163,
        "start_time": "2022-11-06T15:24:20.146Z"
      },
      {
        "duration": 377,
        "start_time": "2022-11-06T15:24:21.244Z"
      },
      {
        "duration": 151,
        "start_time": "2022-11-06T15:24:23.635Z"
      },
      {
        "duration": 216,
        "start_time": "2022-11-06T15:24:24.123Z"
      },
      {
        "duration": 18,
        "start_time": "2022-11-06T15:24:24.670Z"
      },
      {
        "duration": 20,
        "start_time": "2022-11-06T15:24:32.492Z"
      },
      {
        "duration": 33,
        "start_time": "2022-11-06T15:24:41.067Z"
      },
      {
        "duration": 14,
        "start_time": "2022-11-06T15:25:11.858Z"
      },
      {
        "duration": 7,
        "start_time": "2022-11-06T15:25:31.707Z"
      },
      {
        "duration": 4,
        "start_time": "2022-11-06T15:25:47.724Z"
      },
      {
        "duration": 9,
        "start_time": "2022-11-06T15:25:51.221Z"
      },
      {
        "duration": 6,
        "start_time": "2022-11-06T15:27:04.816Z"
      },
      {
        "duration": 11,
        "start_time": "2022-11-06T15:27:15.406Z"
      },
      {
        "duration": 20,
        "start_time": "2022-11-06T15:30:16.323Z"
      },
      {
        "duration": 11,
        "start_time": "2022-11-06T15:30:31.941Z"
      },
      {
        "duration": 15,
        "start_time": "2022-11-06T15:30:41.026Z"
      },
      {
        "duration": 14,
        "start_time": "2022-11-06T15:31:27.826Z"
      },
      {
        "duration": 10,
        "start_time": "2022-11-06T15:31:34.612Z"
      },
      {
        "duration": 24,
        "start_time": "2022-11-06T15:31:43.339Z"
      },
      {
        "duration": 72,
        "start_time": "2022-11-06T15:33:36.024Z"
      },
      {
        "duration": 203,
        "start_time": "2022-11-06T15:33:42.991Z"
      }
    ],
    "kernelspec": {
      "display_name": "Python 3 (ipykernel)",
      "language": "python",
      "name": "python3"
    },
    "language_info": {
      "codemirror_mode": {
        "name": "ipython",
        "version": 3
      },
      "file_extension": ".py",
      "mimetype": "text/x-python",
      "name": "python",
      "nbconvert_exporter": "python",
      "pygments_lexer": "ipython3",
      "version": "3.9.5"
    },
    "toc": {
      "base_numbering": 1,
      "nav_menu": {},
      "number_sections": true,
      "sideBar": true,
      "skip_h1_title": true,
      "title_cell": "Table of Contents",
      "title_sidebar": "Contents",
      "toc_cell": false,
      "toc_position": {},
      "toc_section_display": true,
      "toc_window_display": false
    },
    "colab": {
      "provenance": []
    }
  },
  "nbformat": 4,
  "nbformat_minor": 0
}