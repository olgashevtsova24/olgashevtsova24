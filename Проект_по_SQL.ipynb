{
  "cells": [
    {
      "cell_type": "markdown",
      "metadata": {
        "id": "sZMWNse37mYY"
      },
      "source": [
        "# SQL\n",
        "Компания купила крупный сервис для чтения книг по подписке.\n",
        "\n",
        "**Задача**-проанализировать базу данных.\n",
        "\n",
        "В базеданных — информация о книгах, издательствах, авторах, а также пользовательские обзоры книг. Эти данные помогут сформулировать ценностное предложение для нового продукта."
      ]
    },
    {
      "cell_type": "markdown",
      "metadata": {
        "id": "CaFiI37F7mYa"
      },
      "source": [
        "## Описание данных\n",
        "\n",
        "**Таблица `books`**\n",
        "\n",
        "Содержит данные о книгах:\n",
        "\n",
        "- `book_id` — идентификатор книги;\n",
        "- `author_id` — идентификатор автора;\n",
        "- `title` — название книги;\n",
        "- `num_pages` — количество страниц;\n",
        "- `publication_date` — дата публикации книги;\n",
        "- `publisher_id` — идентификатор издателя.\n",
        "\n",
        "**Таблица `authors`**\n",
        "\n",
        "Содержит данные об авторах:\n",
        "\n",
        "- `author_id` — идентификатор автора;\n",
        "- `author` — имя автора.\n",
        "\n",
        "**Таблица `publishers`**\n",
        "\n",
        "Содержит данные об издательствах:\n",
        "\n",
        "- `publisher_id` — идентификатор издательства;\n",
        "- `publisher` — название издательства;\n",
        "\n",
        "**Таблица `ratings`**\n",
        "\n",
        "Содержит данные о пользовательских оценках книг:\n",
        "\n",
        "- `rating_id` — идентификатор оценки;\n",
        "- `book_id` — идентификатор книги;\n",
        "- `username` — имя пользователя, оставившего оценку;\n",
        "- `rating` — оценка книги.\n",
        "\n",
        "**Таблица `reviews`**\n",
        "\n",
        "Содержит данные о пользовательских обзорах на книги:\n",
        "\n",
        "- `review_id` — идентификатор обзора;\n",
        "- `book_id` — идентификатор книги;\n",
        "- `username` — имя пользователя, написавшего обзор;\n",
        "- `text` — текст обзора."
      ]
    },
    {
      "cell_type": "code",
      "execution_count": null,
      "metadata": {
        "id": "Wr5ydlCq7mYb"
      },
      "outputs": [],
      "source": [
        "# импортируем библиотеки\n",
        "import pandas as pd\n",
        "from sqlalchemy import create_engine\n",
        "# устанавливаем параметры\n",
        "db_config = {'user': 'praktikum_student', # имя пользователя\n",
        "'pwd': 'Sdf4$2;d-d30pp', # пароль\n",
        "'host': 'rc1b-wcoijxj3yxfsf3fs.mdb.yandexcloud.net',\n",
        "'port': 6432, # порт подключения\n",
        "'db': 'data-analyst-final-project-db'} # название базы данных\n",
        "connection_string = 'postgresql://{}:{}@{}:{}/{}'.format(db_config['user'],\n",
        " db_config['pwd'],\n",
        " db_config['host'],\n",
        " db_config['port'],\n",
        " db_config['db'])\n",
        "# сохраняем коннектор\n",
        "engine = create_engine(connection_string, connect_args={'sslmode':'require'})"
      ]
    },
    {
      "cell_type": "markdown",
      "metadata": {
        "id": "rihlHS8Z7mYe"
      },
      "source": [
        " ## Исследование таблиц"
      ]
    },
    {
      "cell_type": "code",
      "execution_count": null,
      "metadata": {
        "id": "tiLstEnF7mYf",
        "outputId": "a568c5b7-3df0-4249-88f8-beb0f9011a62"
      },
      "outputs": [
        {
          "data": {
            "text/html": [
              "<div>\n",
              "<style scoped>\n",
              "    .dataframe tbody tr th:only-of-type {\n",
              "        vertical-align: middle;\n",
              "    }\n",
              "\n",
              "    .dataframe tbody tr th {\n",
              "        vertical-align: top;\n",
              "    }\n",
              "\n",
              "    .dataframe thead th {\n",
              "        text-align: right;\n",
              "    }\n",
              "</style>\n",
              "<table border=\"1\" class=\"dataframe\">\n",
              "  <thead>\n",
              "    <tr style=\"text-align: right;\">\n",
              "      <th></th>\n",
              "      <th>book_id</th>\n",
              "      <th>author_id</th>\n",
              "      <th>title</th>\n",
              "      <th>num_pages</th>\n",
              "      <th>publication_date</th>\n",
              "      <th>publisher_id</th>\n",
              "    </tr>\n",
              "  </thead>\n",
              "  <tbody>\n",
              "    <tr>\n",
              "      <th>0</th>\n",
              "      <td>1</td>\n",
              "      <td>546</td>\n",
              "      <td>'Salem's Lot</td>\n",
              "      <td>594</td>\n",
              "      <td>2005-11-01</td>\n",
              "      <td>93</td>\n",
              "    </tr>\n",
              "    <tr>\n",
              "      <th>1</th>\n",
              "      <td>2</td>\n",
              "      <td>465</td>\n",
              "      <td>1 000 Places to See Before You Die</td>\n",
              "      <td>992</td>\n",
              "      <td>2003-05-22</td>\n",
              "      <td>336</td>\n",
              "    </tr>\n",
              "    <tr>\n",
              "      <th>2</th>\n",
              "      <td>3</td>\n",
              "      <td>407</td>\n",
              "      <td>13 Little Blue Envelopes (Little Blue Envelope...</td>\n",
              "      <td>322</td>\n",
              "      <td>2010-12-21</td>\n",
              "      <td>135</td>\n",
              "    </tr>\n",
              "    <tr>\n",
              "      <th>3</th>\n",
              "      <td>4</td>\n",
              "      <td>82</td>\n",
              "      <td>1491: New Revelations of the Americas Before C...</td>\n",
              "      <td>541</td>\n",
              "      <td>2006-10-10</td>\n",
              "      <td>309</td>\n",
              "    </tr>\n",
              "    <tr>\n",
              "      <th>4</th>\n",
              "      <td>5</td>\n",
              "      <td>125</td>\n",
              "      <td>1776</td>\n",
              "      <td>386</td>\n",
              "      <td>2006-07-04</td>\n",
              "      <td>268</td>\n",
              "    </tr>\n",
              "  </tbody>\n",
              "</table>\n",
              "</div>"
            ],
            "text/plain": [
              "   book_id  author_id                                              title  \\\n",
              "0        1        546                                       'Salem's Lot   \n",
              "1        2        465                 1 000 Places to See Before You Die   \n",
              "2        3        407  13 Little Blue Envelopes (Little Blue Envelope...   \n",
              "3        4         82  1491: New Revelations of the Americas Before C...   \n",
              "4        5        125                                               1776   \n",
              "\n",
              "   num_pages publication_date  publisher_id  \n",
              "0        594       2005-11-01            93  \n",
              "1        992       2003-05-22           336  \n",
              "2        322       2010-12-21           135  \n",
              "3        541       2006-10-10           309  \n",
              "4        386       2006-07-04           268  "
            ]
          },
          "execution_count": 3,
          "metadata": {},
          "output_type": "execute_result"
        }
      ],
      "source": [
        "# получаем сырые данные\n",
        "query = '''\n",
        "            SELECT * FROM books\n",
        "            LIMIT 5\n",
        "        '''\n",
        "books=pd.io.sql.read_sql(query, con = engine)\n",
        "books.head(5)"
      ]
    },
    {
      "cell_type": "code",
      "execution_count": null,
      "metadata": {
        "id": "sfzsqfXe7mYh",
        "outputId": "0aa5bd82-8696-43a3-861f-dae8d5a65757"
      },
      "outputs": [
        {
          "name": "stdout",
          "output_type": "stream",
          "text": [
            "<class 'pandas.core.frame.DataFrame'>\n",
            "RangeIndex: 5 entries, 0 to 4\n",
            "Data columns (total 6 columns):\n",
            " #   Column            Non-Null Count  Dtype \n",
            "---  ------            --------------  ----- \n",
            " 0   book_id           5 non-null      int64 \n",
            " 1   author_id         5 non-null      int64 \n",
            " 2   title             5 non-null      object\n",
            " 3   num_pages         5 non-null      int64 \n",
            " 4   publication_date  5 non-null      object\n",
            " 5   publisher_id      5 non-null      int64 \n",
            "dtypes: int64(4), object(2)\n",
            "memory usage: 368.0+ bytes\n"
          ]
        }
      ],
      "source": [
        "books.info()"
      ]
    },
    {
      "cell_type": "code",
      "execution_count": null,
      "metadata": {
        "id": "dGrQlW3Z7mYi",
        "outputId": "7d2f1981-3d56-4b83-ca2b-af274d982e6f"
      },
      "outputs": [
        {
          "data": {
            "text/html": [
              "<div>\n",
              "<style scoped>\n",
              "    .dataframe tbody tr th:only-of-type {\n",
              "        vertical-align: middle;\n",
              "    }\n",
              "\n",
              "    .dataframe tbody tr th {\n",
              "        vertical-align: top;\n",
              "    }\n",
              "\n",
              "    .dataframe thead th {\n",
              "        text-align: right;\n",
              "    }\n",
              "</style>\n",
              "<table border=\"1\" class=\"dataframe\">\n",
              "  <thead>\n",
              "    <tr style=\"text-align: right;\">\n",
              "      <th></th>\n",
              "      <th>author_id</th>\n",
              "      <th>author</th>\n",
              "    </tr>\n",
              "  </thead>\n",
              "  <tbody>\n",
              "    <tr>\n",
              "      <th>0</th>\n",
              "      <td>1</td>\n",
              "      <td>A.S. Byatt</td>\n",
              "    </tr>\n",
              "    <tr>\n",
              "      <th>1</th>\n",
              "      <td>2</td>\n",
              "      <td>Aesop/Laura Harris/Laura Gibbs</td>\n",
              "    </tr>\n",
              "    <tr>\n",
              "      <th>2</th>\n",
              "      <td>3</td>\n",
              "      <td>Agatha Christie</td>\n",
              "    </tr>\n",
              "    <tr>\n",
              "      <th>3</th>\n",
              "      <td>4</td>\n",
              "      <td>Alan Brennert</td>\n",
              "    </tr>\n",
              "    <tr>\n",
              "      <th>4</th>\n",
              "      <td>5</td>\n",
              "      <td>Alan Moore/David   Lloyd</td>\n",
              "    </tr>\n",
              "  </tbody>\n",
              "</table>\n",
              "</div>"
            ],
            "text/plain": [
              "   author_id                          author\n",
              "0          1                      A.S. Byatt\n",
              "1          2  Aesop/Laura Harris/Laura Gibbs\n",
              "2          3                 Agatha Christie\n",
              "3          4                   Alan Brennert\n",
              "4          5        Alan Moore/David   Lloyd"
            ]
          },
          "execution_count": 5,
          "metadata": {},
          "output_type": "execute_result"
        }
      ],
      "source": [
        "# получаем сырые данные\n",
        "query = '''\n",
        "            SELECT * FROM authors\n",
        "            LIMIT 5\n",
        "        '''\n",
        "authors=pd.io.sql.read_sql(query, con = engine)\n",
        "authors.head()"
      ]
    },
    {
      "cell_type": "code",
      "execution_count": null,
      "metadata": {
        "id": "uH4VxXtS7mYk",
        "outputId": "f3e0bfb5-8c6c-4680-c60f-71d35a7790cb"
      },
      "outputs": [
        {
          "name": "stdout",
          "output_type": "stream",
          "text": [
            "<class 'pandas.core.frame.DataFrame'>\n",
            "RangeIndex: 5 entries, 0 to 4\n",
            "Data columns (total 2 columns):\n",
            " #   Column     Non-Null Count  Dtype \n",
            "---  ------     --------------  ----- \n",
            " 0   author_id  5 non-null      int64 \n",
            " 1   author     5 non-null      object\n",
            "dtypes: int64(1), object(1)\n",
            "memory usage: 208.0+ bytes\n"
          ]
        }
      ],
      "source": [
        "authors.info()"
      ]
    },
    {
      "cell_type": "code",
      "execution_count": null,
      "metadata": {
        "id": "sg3As39w7mYl",
        "outputId": "08f73398-7f93-49ee-b53d-28db62827ccc"
      },
      "outputs": [
        {
          "data": {
            "text/html": [
              "<div>\n",
              "<style scoped>\n",
              "    .dataframe tbody tr th:only-of-type {\n",
              "        vertical-align: middle;\n",
              "    }\n",
              "\n",
              "    .dataframe tbody tr th {\n",
              "        vertical-align: top;\n",
              "    }\n",
              "\n",
              "    .dataframe thead th {\n",
              "        text-align: right;\n",
              "    }\n",
              "</style>\n",
              "<table border=\"1\" class=\"dataframe\">\n",
              "  <thead>\n",
              "    <tr style=\"text-align: right;\">\n",
              "      <th></th>\n",
              "      <th>publisher_id</th>\n",
              "      <th>publisher</th>\n",
              "    </tr>\n",
              "  </thead>\n",
              "  <tbody>\n",
              "    <tr>\n",
              "      <th>0</th>\n",
              "      <td>1</td>\n",
              "      <td>Ace</td>\n",
              "    </tr>\n",
              "    <tr>\n",
              "      <th>1</th>\n",
              "      <td>2</td>\n",
              "      <td>Ace Book</td>\n",
              "    </tr>\n",
              "    <tr>\n",
              "      <th>2</th>\n",
              "      <td>3</td>\n",
              "      <td>Ace Books</td>\n",
              "    </tr>\n",
              "    <tr>\n",
              "      <th>3</th>\n",
              "      <td>4</td>\n",
              "      <td>Ace Hardcover</td>\n",
              "    </tr>\n",
              "    <tr>\n",
              "      <th>4</th>\n",
              "      <td>5</td>\n",
              "      <td>Addison Wesley Publishing Company</td>\n",
              "    </tr>\n",
              "  </tbody>\n",
              "</table>\n",
              "</div>"
            ],
            "text/plain": [
              "   publisher_id                          publisher\n",
              "0             1                                Ace\n",
              "1             2                           Ace Book\n",
              "2             3                          Ace Books\n",
              "3             4                      Ace Hardcover\n",
              "4             5  Addison Wesley Publishing Company"
            ]
          },
          "execution_count": 7,
          "metadata": {},
          "output_type": "execute_result"
        }
      ],
      "source": [
        "# получаем сырые данные\n",
        "query = '''\n",
        "            SELECT * FROM publishers\n",
        "            LIMIT 5\n",
        "        '''\n",
        "publishers=pd.io.sql.read_sql(query, con = engine)\n",
        "publishers.head()"
      ]
    },
    {
      "cell_type": "code",
      "execution_count": null,
      "metadata": {
        "id": "k5OrinJZ7mYl",
        "outputId": "f35cc043-89c1-47c1-d627-161115f6dee6"
      },
      "outputs": [
        {
          "name": "stdout",
          "output_type": "stream",
          "text": [
            "<class 'pandas.core.frame.DataFrame'>\n",
            "RangeIndex: 5 entries, 0 to 4\n",
            "Data columns (total 2 columns):\n",
            " #   Column        Non-Null Count  Dtype \n",
            "---  ------        --------------  ----- \n",
            " 0   publisher_id  5 non-null      int64 \n",
            " 1   publisher     5 non-null      object\n",
            "dtypes: int64(1), object(1)\n",
            "memory usage: 208.0+ bytes\n"
          ]
        }
      ],
      "source": [
        "publishers.info()"
      ]
    },
    {
      "cell_type": "code",
      "execution_count": null,
      "metadata": {
        "id": "Soq2Z4r77mYm",
        "outputId": "a8bd1ea5-a02c-4f93-f283-e28b3b82aada"
      },
      "outputs": [
        {
          "data": {
            "text/html": [
              "<div>\n",
              "<style scoped>\n",
              "    .dataframe tbody tr th:only-of-type {\n",
              "        vertical-align: middle;\n",
              "    }\n",
              "\n",
              "    .dataframe tbody tr th {\n",
              "        vertical-align: top;\n",
              "    }\n",
              "\n",
              "    .dataframe thead th {\n",
              "        text-align: right;\n",
              "    }\n",
              "</style>\n",
              "<table border=\"1\" class=\"dataframe\">\n",
              "  <thead>\n",
              "    <tr style=\"text-align: right;\">\n",
              "      <th></th>\n",
              "      <th>rating_id</th>\n",
              "      <th>book_id</th>\n",
              "      <th>username</th>\n",
              "      <th>rating</th>\n",
              "    </tr>\n",
              "  </thead>\n",
              "  <tbody>\n",
              "    <tr>\n",
              "      <th>0</th>\n",
              "      <td>1</td>\n",
              "      <td>1</td>\n",
              "      <td>ryanfranco</td>\n",
              "      <td>4</td>\n",
              "    </tr>\n",
              "    <tr>\n",
              "      <th>1</th>\n",
              "      <td>2</td>\n",
              "      <td>1</td>\n",
              "      <td>grantpatricia</td>\n",
              "      <td>2</td>\n",
              "    </tr>\n",
              "    <tr>\n",
              "      <th>2</th>\n",
              "      <td>3</td>\n",
              "      <td>1</td>\n",
              "      <td>brandtandrea</td>\n",
              "      <td>5</td>\n",
              "    </tr>\n",
              "    <tr>\n",
              "      <th>3</th>\n",
              "      <td>4</td>\n",
              "      <td>2</td>\n",
              "      <td>lorichen</td>\n",
              "      <td>3</td>\n",
              "    </tr>\n",
              "    <tr>\n",
              "      <th>4</th>\n",
              "      <td>5</td>\n",
              "      <td>2</td>\n",
              "      <td>mariokeller</td>\n",
              "      <td>2</td>\n",
              "    </tr>\n",
              "  </tbody>\n",
              "</table>\n",
              "</div>"
            ],
            "text/plain": [
              "   rating_id  book_id       username  rating\n",
              "0          1        1     ryanfranco       4\n",
              "1          2        1  grantpatricia       2\n",
              "2          3        1   brandtandrea       5\n",
              "3          4        2       lorichen       3\n",
              "4          5        2    mariokeller       2"
            ]
          },
          "execution_count": 9,
          "metadata": {},
          "output_type": "execute_result"
        }
      ],
      "source": [
        "# получаем сырые данные\n",
        "query = '''\n",
        "            SELECT * FROM ratings\n",
        "            LIMIT 5\n",
        "        '''\n",
        "ratings=pd.io.sql.read_sql(query, con = engine)\n",
        "ratings.head()"
      ]
    },
    {
      "cell_type": "code",
      "execution_count": null,
      "metadata": {
        "id": "_0uGxi5-7mYn",
        "outputId": "7f063e66-4aa9-4a0b-80cc-6af992a1619c"
      },
      "outputs": [
        {
          "name": "stdout",
          "output_type": "stream",
          "text": [
            "<class 'pandas.core.frame.DataFrame'>\n",
            "RangeIndex: 5 entries, 0 to 4\n",
            "Data columns (total 4 columns):\n",
            " #   Column     Non-Null Count  Dtype \n",
            "---  ------     --------------  ----- \n",
            " 0   rating_id  5 non-null      int64 \n",
            " 1   book_id    5 non-null      int64 \n",
            " 2   username   5 non-null      object\n",
            " 3   rating     5 non-null      int64 \n",
            "dtypes: int64(3), object(1)\n",
            "memory usage: 288.0+ bytes\n"
          ]
        }
      ],
      "source": [
        "ratings.info()"
      ]
    },
    {
      "cell_type": "code",
      "execution_count": null,
      "metadata": {
        "id": "QuRpZRF_7mYo",
        "outputId": "6fe4527a-6865-4a88-88c8-46615a81fbcb"
      },
      "outputs": [
        {
          "data": {
            "text/html": [
              "<div>\n",
              "<style scoped>\n",
              "    .dataframe tbody tr th:only-of-type {\n",
              "        vertical-align: middle;\n",
              "    }\n",
              "\n",
              "    .dataframe tbody tr th {\n",
              "        vertical-align: top;\n",
              "    }\n",
              "\n",
              "    .dataframe thead th {\n",
              "        text-align: right;\n",
              "    }\n",
              "</style>\n",
              "<table border=\"1\" class=\"dataframe\">\n",
              "  <thead>\n",
              "    <tr style=\"text-align: right;\">\n",
              "      <th></th>\n",
              "      <th>review_id</th>\n",
              "      <th>book_id</th>\n",
              "      <th>username</th>\n",
              "      <th>text</th>\n",
              "    </tr>\n",
              "  </thead>\n",
              "  <tbody>\n",
              "    <tr>\n",
              "      <th>0</th>\n",
              "      <td>1</td>\n",
              "      <td>1</td>\n",
              "      <td>brandtandrea</td>\n",
              "      <td>Mention society tell send professor analysis. ...</td>\n",
              "    </tr>\n",
              "    <tr>\n",
              "      <th>1</th>\n",
              "      <td>2</td>\n",
              "      <td>1</td>\n",
              "      <td>ryanfranco</td>\n",
              "      <td>Foot glass pretty audience hit themselves. Amo...</td>\n",
              "    </tr>\n",
              "    <tr>\n",
              "      <th>2</th>\n",
              "      <td>3</td>\n",
              "      <td>2</td>\n",
              "      <td>lorichen</td>\n",
              "      <td>Listen treat keep worry. Miss husband tax but ...</td>\n",
              "    </tr>\n",
              "    <tr>\n",
              "      <th>3</th>\n",
              "      <td>4</td>\n",
              "      <td>3</td>\n",
              "      <td>johnsonamanda</td>\n",
              "      <td>Finally month interesting blue could nature cu...</td>\n",
              "    </tr>\n",
              "    <tr>\n",
              "      <th>4</th>\n",
              "      <td>5</td>\n",
              "      <td>3</td>\n",
              "      <td>scotttamara</td>\n",
              "      <td>Nation purpose heavy give wait song will. List...</td>\n",
              "    </tr>\n",
              "  </tbody>\n",
              "</table>\n",
              "</div>"
            ],
            "text/plain": [
              "   review_id  book_id       username  \\\n",
              "0          1        1   brandtandrea   \n",
              "1          2        1     ryanfranco   \n",
              "2          3        2       lorichen   \n",
              "3          4        3  johnsonamanda   \n",
              "4          5        3    scotttamara   \n",
              "\n",
              "                                                text  \n",
              "0  Mention society tell send professor analysis. ...  \n",
              "1  Foot glass pretty audience hit themselves. Amo...  \n",
              "2  Listen treat keep worry. Miss husband tax but ...  \n",
              "3  Finally month interesting blue could nature cu...  \n",
              "4  Nation purpose heavy give wait song will. List...  "
            ]
          },
          "execution_count": 11,
          "metadata": {},
          "output_type": "execute_result"
        }
      ],
      "source": [
        "# получаем сырые данные\n",
        "query = '''\n",
        "            SELECT * FROM reviews\n",
        "            LIMIT 5\n",
        "        '''\n",
        "reviews=pd.io.sql.read_sql(query, con = engine)\n",
        "reviews.head()"
      ]
    },
    {
      "cell_type": "code",
      "execution_count": null,
      "metadata": {
        "id": "zmprXm9N7mYo",
        "outputId": "3d16c231-22a1-4b22-9bba-b3f94a7ae897"
      },
      "outputs": [
        {
          "name": "stdout",
          "output_type": "stream",
          "text": [
            "<class 'pandas.core.frame.DataFrame'>\n",
            "RangeIndex: 5 entries, 0 to 4\n",
            "Data columns (total 4 columns):\n",
            " #   Column     Non-Null Count  Dtype \n",
            "---  ------     --------------  ----- \n",
            " 0   review_id  5 non-null      int64 \n",
            " 1   book_id    5 non-null      int64 \n",
            " 2   username   5 non-null      object\n",
            " 3   text       5 non-null      object\n",
            "dtypes: int64(2), object(2)\n",
            "memory usage: 288.0+ bytes\n"
          ]
        }
      ],
      "source": [
        "reviews.info()"
      ]
    },
    {
      "cell_type": "markdown",
      "metadata": {
        "id": "vq_e1VN37mYq"
      },
      "source": [
        "## Сколько книг вышло после 1 января 2000 года"
      ]
    },
    {
      "cell_type": "code",
      "execution_count": null,
      "metadata": {
        "id": "kGbDnlLt7mYq",
        "outputId": "3ae1eb30-1ec7-43be-951f-69907f7dfd7c"
      },
      "outputs": [
        {
          "data": {
            "text/html": [
              "<div>\n",
              "<style scoped>\n",
              "    .dataframe tbody tr th:only-of-type {\n",
              "        vertical-align: middle;\n",
              "    }\n",
              "\n",
              "    .dataframe tbody tr th {\n",
              "        vertical-align: top;\n",
              "    }\n",
              "\n",
              "    .dataframe thead th {\n",
              "        text-align: right;\n",
              "    }\n",
              "</style>\n",
              "<table border=\"1\" class=\"dataframe\">\n",
              "  <thead>\n",
              "    <tr style=\"text-align: right;\">\n",
              "      <th></th>\n",
              "      <th>count_of_books</th>\n",
              "    </tr>\n",
              "  </thead>\n",
              "  <tbody>\n",
              "    <tr>\n",
              "      <th>0</th>\n",
              "      <td>819</td>\n",
              "    </tr>\n",
              "  </tbody>\n",
              "</table>\n",
              "</div>"
            ],
            "text/plain": [
              "   count_of_books\n",
              "0             819"
            ]
          },
          "execution_count": 13,
          "metadata": {},
          "output_type": "execute_result"
        }
      ],
      "source": [
        "query = '''\n",
        "            SELECT COUNT(title) as count_of_books\n",
        "            FROM books\n",
        "            WHERE publication_date > '01-01-2000'\n",
        "        '''\n",
        "pd.io.sql.read_sql(query, con = engine)"
      ]
    },
    {
      "cell_type": "markdown",
      "metadata": {
        "id": "vsZKiV-f7mYr"
      },
      "source": [
        "После 1 января 2000 года вышло 819 книг"
      ]
    },
    {
      "cell_type": "markdown",
      "metadata": {
        "id": "jYfUcItI7mYs"
      },
      "source": [
        "## Количество обзоров и средняя оценка для каждой книги"
      ]
    },
    {
      "cell_type": "code",
      "execution_count": null,
      "metadata": {
        "id": "Y8UMSz-_7mYs",
        "outputId": "b881eeaa-50fc-45d3-bf32-805bbf380e75"
      },
      "outputs": [
        {
          "data": {
            "text/html": [
              "<div>\n",
              "<style scoped>\n",
              "    .dataframe tbody tr th:only-of-type {\n",
              "        vertical-align: middle;\n",
              "    }\n",
              "\n",
              "    .dataframe tbody tr th {\n",
              "        vertical-align: top;\n",
              "    }\n",
              "\n",
              "    .dataframe thead th {\n",
              "        text-align: right;\n",
              "    }\n",
              "</style>\n",
              "<table border=\"1\" class=\"dataframe\">\n",
              "  <thead>\n",
              "    <tr style=\"text-align: right;\">\n",
              "      <th></th>\n",
              "      <th>book_title</th>\n",
              "      <th>count</th>\n",
              "      <th>avg_rating</th>\n",
              "    </tr>\n",
              "  </thead>\n",
              "  <tbody>\n",
              "    <tr>\n",
              "      <th>0</th>\n",
              "      <td>Twilight (Twilight  #1)</td>\n",
              "      <td>7</td>\n",
              "      <td>4.0</td>\n",
              "    </tr>\n",
              "    <tr>\n",
              "      <th>1</th>\n",
              "      <td>Water for Elephants</td>\n",
              "      <td>6</td>\n",
              "      <td>4.0</td>\n",
              "    </tr>\n",
              "    <tr>\n",
              "      <th>2</th>\n",
              "      <td>The Glass Castle</td>\n",
              "      <td>6</td>\n",
              "      <td>4.0</td>\n",
              "    </tr>\n",
              "    <tr>\n",
              "      <th>3</th>\n",
              "      <td>Harry Potter and the Prisoner of Azkaban (Harr...</td>\n",
              "      <td>6</td>\n",
              "      <td>4.0</td>\n",
              "    </tr>\n",
              "    <tr>\n",
              "      <th>4</th>\n",
              "      <td>The Curious Incident of the Dog in the Night-Time</td>\n",
              "      <td>6</td>\n",
              "      <td>4.0</td>\n",
              "    </tr>\n",
              "    <tr>\n",
              "      <th>...</th>\n",
              "      <td>...</td>\n",
              "      <td>...</td>\n",
              "      <td>...</td>\n",
              "    </tr>\n",
              "    <tr>\n",
              "      <th>995</th>\n",
              "      <td>Anne Rice's The Vampire Lestat: A Graphic Novel</td>\n",
              "      <td>0</td>\n",
              "      <td>4.0</td>\n",
              "    </tr>\n",
              "    <tr>\n",
              "      <th>996</th>\n",
              "      <td>The Natural Way to Draw</td>\n",
              "      <td>0</td>\n",
              "      <td>3.0</td>\n",
              "    </tr>\n",
              "    <tr>\n",
              "      <th>997</th>\n",
              "      <td>The Cat in the Hat and Other Dr. Seuss Favorites</td>\n",
              "      <td>0</td>\n",
              "      <td>5.0</td>\n",
              "    </tr>\n",
              "    <tr>\n",
              "      <th>998</th>\n",
              "      <td>Essential Tales and Poems</td>\n",
              "      <td>0</td>\n",
              "      <td>4.0</td>\n",
              "    </tr>\n",
              "    <tr>\n",
              "      <th>999</th>\n",
              "      <td>Disney's Beauty and the Beast (A Little Golden...</td>\n",
              "      <td>0</td>\n",
              "      <td>4.0</td>\n",
              "    </tr>\n",
              "  </tbody>\n",
              "</table>\n",
              "<p>1000 rows × 3 columns</p>\n",
              "</div>"
            ],
            "text/plain": [
              "                                            book_title  count  avg_rating\n",
              "0                              Twilight (Twilight  #1)      7         4.0\n",
              "1                                  Water for Elephants      6         4.0\n",
              "2                                     The Glass Castle      6         4.0\n",
              "3    Harry Potter and the Prisoner of Azkaban (Harr...      6         4.0\n",
              "4    The Curious Incident of the Dog in the Night-Time      6         4.0\n",
              "..                                                 ...    ...         ...\n",
              "995    Anne Rice's The Vampire Lestat: A Graphic Novel      0         4.0\n",
              "996                            The Natural Way to Draw      0         3.0\n",
              "997   The Cat in the Hat and Other Dr. Seuss Favorites      0         5.0\n",
              "998                          Essential Tales and Poems      0         4.0\n",
              "999  Disney's Beauty and the Beast (A Little Golden...      0         4.0\n",
              "\n",
              "[1000 rows x 3 columns]"
            ]
          },
          "execution_count": 14,
          "metadata": {},
          "output_type": "execute_result"
        }
      ],
      "source": [
        "query = ''' SELECT b.title AS book_title,\n",
        "                   COUNT(DISTINCT re.review_id) AS count,\n",
        "                   ROUND(AVG(ra.rating)) as avg_rating\n",
        "            FROM books AS b\n",
        "            LEFT JOIN ratings AS ra ON ra.book_id = b.book_id\n",
        "            LEFT JOIN reviews AS re ON re.book_id = b.book_id\n",
        "            GROUP BY b.title, b.book_id\n",
        "            ORDER BY count DESC\n",
        "        '''\n",
        "pd.io.sql.read_sql(query, con = engine)"
      ]
    },
    {
      "cell_type": "markdown",
      "metadata": {
        "id": "pEe4G99J7mYt"
      },
      "source": [
        "Для книг написано разное количество обзоров, также варьируются средние оценки книг"
      ]
    },
    {
      "cell_type": "markdown",
      "metadata": {
        "id": "cudIy9PV7mYu"
      },
      "source": [
        "## Издательство, которое выпустило наибольшее число книг толще 50 страниц"
      ]
    },
    {
      "cell_type": "code",
      "execution_count": null,
      "metadata": {
        "id": "yrlREUhG7mYu",
        "outputId": "74f7c1f7-fda4-47c6-d04c-0e8427c01f56"
      },
      "outputs": [
        {
          "data": {
            "text/html": [
              "<div>\n",
              "<style scoped>\n",
              "    .dataframe tbody tr th:only-of-type {\n",
              "        vertical-align: middle;\n",
              "    }\n",
              "\n",
              "    .dataframe tbody tr th {\n",
              "        vertical-align: top;\n",
              "    }\n",
              "\n",
              "    .dataframe thead th {\n",
              "        text-align: right;\n",
              "    }\n",
              "</style>\n",
              "<table border=\"1\" class=\"dataframe\">\n",
              "  <thead>\n",
              "    <tr style=\"text-align: right;\">\n",
              "      <th></th>\n",
              "      <th>publisher</th>\n",
              "      <th>count_books</th>\n",
              "    </tr>\n",
              "  </thead>\n",
              "  <tbody>\n",
              "    <tr>\n",
              "      <th>0</th>\n",
              "      <td>Penguin Books</td>\n",
              "      <td>42</td>\n",
              "    </tr>\n",
              "  </tbody>\n",
              "</table>\n",
              "</div>"
            ],
            "text/plain": [
              "       publisher  count_books\n",
              "0  Penguin Books           42"
            ]
          },
          "execution_count": 15,
          "metadata": {},
          "output_type": "execute_result"
        }
      ],
      "source": [
        "query = ''' SELECT publisher,\n",
        "            COUNT(book_id) AS count_books\n",
        "            FROM publishers AS p\n",
        "            LEFT JOIN books AS b ON p.publisher_id = b.publisher_id\n",
        "            WHERE num_pages > 50\n",
        "            GROUP BY publisher\n",
        "            ORDER BY count_books DESC\n",
        "            LIMIT 1\n",
        "        '''\n",
        "pd.io.sql.read_sql(query, con = engine)"
      ]
    },
    {
      "cell_type": "markdown",
      "metadata": {
        "id": "MJdOwgKf7mYv"
      },
      "source": [
        "Наибольшее число книг толще 50 страниц выпустило издательство Penguin Books"
      ]
    },
    {
      "cell_type": "markdown",
      "metadata": {
        "id": "vvMFJPoK7mYv"
      },
      "source": [
        "## Автор с самой высокой средней оценкой книг"
      ]
    },
    {
      "cell_type": "code",
      "execution_count": null,
      "metadata": {
        "id": "_h6Wooj37mYw",
        "outputId": "184ee652-3357-4b6e-fd87-f591bc7fac68"
      },
      "outputs": [
        {
          "data": {
            "text/html": [
              "<div>\n",
              "<style scoped>\n",
              "    .dataframe tbody tr th:only-of-type {\n",
              "        vertical-align: middle;\n",
              "    }\n",
              "\n",
              "    .dataframe tbody tr th {\n",
              "        vertical-align: top;\n",
              "    }\n",
              "\n",
              "    .dataframe thead th {\n",
              "        text-align: right;\n",
              "    }\n",
              "</style>\n",
              "<table border=\"1\" class=\"dataframe\">\n",
              "  <thead>\n",
              "    <tr style=\"text-align: right;\">\n",
              "      <th></th>\n",
              "      <th>author</th>\n",
              "      <th>rating</th>\n",
              "    </tr>\n",
              "  </thead>\n",
              "  <tbody>\n",
              "    <tr>\n",
              "      <th>0</th>\n",
              "      <td>J.K. Rowling/Mary GrandPré</td>\n",
              "      <td>4.28</td>\n",
              "    </tr>\n",
              "  </tbody>\n",
              "</table>\n",
              "</div>"
            ],
            "text/plain": [
              "                       author  rating\n",
              "0  J.K. Rowling/Mary GrandPré    4.28"
            ]
          },
          "execution_count": 16,
          "metadata": {},
          "output_type": "execute_result"
        }
      ],
      "source": [
        "query = ''' SELECT a.author AS author,\n",
        "                   ROUND(AVG(ratings),2) AS rating\n",
        "            FROM (\n",
        "                  SELECT book_id,\n",
        "                         AVG(rating) AS ratings\n",
        "                  FROM ratings\n",
        "                  GROUP BY book_id\n",
        "                  HAVING COUNT(ratings) > 50\n",
        "                  ) AS ra\n",
        "            JOIN  books AS b ON ra.book_id=b.book_id\n",
        "            JOIN  authors AS a ON b.author_id=a.author_id\n",
        "            GROUP BY author\n",
        "            ORDER BY rating DESC\n",
        "            LIMIT 1\n",
        "        '''\n",
        "pd.io.sql.read_sql(query, con = engine)"
      ]
    },
    {
      "cell_type": "markdown",
      "metadata": {
        "id": "firfaPIE7mYw"
      },
      "source": [
        "Автором с самой высокой средней оценкой книг является J.K. Rowling/Mary GrandPré"
      ]
    },
    {
      "cell_type": "markdown",
      "metadata": {
        "id": "xxp2GeHO7mYx"
      },
      "source": [
        "## Среднее количество обзоров от пользователей, которые поставили больше 50 оценок"
      ]
    },
    {
      "cell_type": "code",
      "execution_count": null,
      "metadata": {
        "id": "xvO5KbEa7mYx",
        "outputId": "5ee5306c-3be1-4da6-db98-d6998ed07f85"
      },
      "outputs": [
        {
          "data": {
            "text/html": [
              "<div>\n",
              "<style scoped>\n",
              "    .dataframe tbody tr th:only-of-type {\n",
              "        vertical-align: middle;\n",
              "    }\n",
              "\n",
              "    .dataframe tbody tr th {\n",
              "        vertical-align: top;\n",
              "    }\n",
              "\n",
              "    .dataframe thead th {\n",
              "        text-align: right;\n",
              "    }\n",
              "</style>\n",
              "<table border=\"1\" class=\"dataframe\">\n",
              "  <thead>\n",
              "    <tr style=\"text-align: right;\">\n",
              "      <th></th>\n",
              "      <th>avg</th>\n",
              "    </tr>\n",
              "  </thead>\n",
              "  <tbody>\n",
              "    <tr>\n",
              "      <th>0</th>\n",
              "      <td>24.333333</td>\n",
              "    </tr>\n",
              "  </tbody>\n",
              "</table>\n",
              "</div>"
            ],
            "text/plain": [
              "         avg\n",
              "0  24.333333"
            ]
          },
          "execution_count": 17,
          "metadata": {},
          "output_type": "execute_result"
        }
      ],
      "source": [
        "query = ''' SELECT AVG(count)\n",
        "            FROM (SELECT COUNT(review_id)\n",
        "                  FROM reviews AS re\n",
        "                  LEFT JOIN (SELECT username, COUNT(rating_id)\n",
        "                             FROM ratings\n",
        "                             GROUP BY username) AS ra ON ra.username = re.username\n",
        "                  WHERE count > 50\n",
        "                  GROUP BY re.username) AS count\n",
        "        '''\n",
        "pd.io.sql.read_sql(query, con = engine)"
      ]
    },
    {
      "cell_type": "markdown",
      "metadata": {
        "id": "HwftFcLC7mYy"
      },
      "source": [
        "Cреднее количество обзоров от пользователей, которые поставли больше 50 оценок составляет 24 обзора"
      ]
    },
    {
      "cell_type": "markdown",
      "metadata": {
        "id": "vZk-JFsX7mYy"
      },
      "source": [
        "## Итоговый вывод"
      ]
    },
    {
      "cell_type": "markdown",
      "metadata": {
        "id": "KnZ1a7sj7mZB"
      },
      "source": [
        "В ходе проведенного анализа было выяснено:\n",
        "- После 1 января 2000 года вышло 819 книг\n",
        "- Самое большое количество обзоров написано для книги Twilight (Twilight #1), имеющей средний рейтинг 4.0, наименьшее количество обзоров было характерно для нескольких книг.\n",
        "- Наибольшее число книг толще 50 страниц выпустило издательство Penguin Books\n",
        "- Автором с самой высокой средней оценкой книг является J.K. Rowling/Mary GrandPré\n",
        "- Cреднее количество обзоров от пользователей, которые поставли больше 50 оценок составляет 24 обзора"
      ]
    }
  ],
  "metadata": {
    "ExecuteTimeLog": [
      {
        "duration": 11212,
        "start_time": "2023-03-22T23:55:41.575Z"
      },
      {
        "duration": 341,
        "start_time": "2023-03-22T23:56:34.518Z"
      },
      {
        "duration": 104,
        "start_time": "2023-03-22T23:56:43.773Z"
      },
      {
        "duration": 101,
        "start_time": "2023-03-23T00:03:02.532Z"
      },
      {
        "duration": 15,
        "start_time": "2023-03-23T00:03:13.838Z"
      },
      {
        "duration": 88,
        "start_time": "2023-03-23T00:03:37.648Z"
      },
      {
        "duration": 13,
        "start_time": "2023-03-23T00:03:52.254Z"
      },
      {
        "duration": 92,
        "start_time": "2023-03-23T00:04:10.931Z"
      },
      {
        "duration": 17,
        "start_time": "2023-03-23T00:04:21.613Z"
      },
      {
        "duration": 87,
        "start_time": "2023-03-23T00:04:35.992Z"
      },
      {
        "duration": 14,
        "start_time": "2023-03-23T00:04:45.348Z"
      },
      {
        "duration": 81,
        "start_time": "2023-03-23T00:04:54.287Z"
      },
      {
        "duration": 84,
        "start_time": "2023-03-23T00:05:01.771Z"
      },
      {
        "duration": 12,
        "start_time": "2023-03-23T00:05:12.174Z"
      },
      {
        "duration": 99,
        "start_time": "2023-03-23T00:06:20.828Z"
      },
      {
        "duration": 154,
        "start_time": "2023-03-23T00:15:32.193Z"
      },
      {
        "duration": 138,
        "start_time": "2023-03-23T00:16:11.875Z"
      },
      {
        "duration": 115,
        "start_time": "2023-03-23T00:16:53.313Z"
      },
      {
        "duration": 88,
        "start_time": "2023-03-23T00:20:37.922Z"
      },
      {
        "duration": 291,
        "start_time": "2023-03-23T00:25:05.867Z"
      },
      {
        "duration": 238,
        "start_time": "2023-03-23T00:25:33.648Z"
      },
      {
        "duration": 105,
        "start_time": "2023-03-23T00:25:42.561Z"
      },
      {
        "duration": 101,
        "start_time": "2023-03-23T00:26:53.029Z"
      },
      {
        "duration": 110,
        "start_time": "2023-03-23T00:27:05.485Z"
      },
      {
        "duration": 100,
        "start_time": "2023-03-23T00:27:27.176Z"
      },
      {
        "duration": 80,
        "start_time": "2023-03-23T00:29:38.312Z"
      },
      {
        "duration": 195,
        "start_time": "2023-03-23T00:31:47.062Z"
      },
      {
        "duration": 168,
        "start_time": "2023-03-23T00:31:58.137Z"
      },
      {
        "duration": 175,
        "start_time": "2023-03-23T00:32:08.067Z"
      },
      {
        "duration": 174,
        "start_time": "2023-03-23T00:32:36.638Z"
      },
      {
        "duration": 177,
        "start_time": "2023-03-23T00:33:04.081Z"
      },
      {
        "duration": 92,
        "start_time": "2023-03-23T00:34:00.336Z"
      },
      {
        "duration": 81,
        "start_time": "2023-03-23T00:35:18.595Z"
      },
      {
        "duration": 174,
        "start_time": "2023-03-23T00:35:56.754Z"
      },
      {
        "duration": 83,
        "start_time": "2023-03-23T00:36:08.031Z"
      },
      {
        "duration": 85,
        "start_time": "2023-03-23T00:36:36.472Z"
      },
      {
        "duration": 173,
        "start_time": "2023-03-23T00:37:13.243Z"
      },
      {
        "duration": 84,
        "start_time": "2023-03-23T00:38:03.634Z"
      },
      {
        "duration": 182,
        "start_time": "2023-03-23T00:41:15.849Z"
      },
      {
        "duration": 77,
        "start_time": "2023-03-23T00:42:26.519Z"
      },
      {
        "duration": 6,
        "start_time": "2023-03-23T00:43:30.474Z"
      },
      {
        "duration": 268,
        "start_time": "2023-03-23T00:43:31.109Z"
      },
      {
        "duration": 12,
        "start_time": "2023-03-23T00:43:31.380Z"
      },
      {
        "duration": 78,
        "start_time": "2023-03-23T00:43:31.638Z"
      },
      {
        "duration": 14,
        "start_time": "2023-03-23T00:43:31.871Z"
      },
      {
        "duration": 76,
        "start_time": "2023-03-23T00:43:32.104Z"
      },
      {
        "duration": 12,
        "start_time": "2023-03-23T00:43:32.352Z"
      },
      {
        "duration": 78,
        "start_time": "2023-03-23T00:43:32.561Z"
      },
      {
        "duration": 11,
        "start_time": "2023-03-23T00:43:32.808Z"
      },
      {
        "duration": 78,
        "start_time": "2023-03-23T00:43:33.066Z"
      },
      {
        "duration": 12,
        "start_time": "2023-03-23T00:43:33.295Z"
      },
      {
        "duration": 78,
        "start_time": "2023-03-23T00:43:33.803Z"
      },
      {
        "duration": 198,
        "start_time": "2023-03-23T00:43:34.589Z"
      },
      {
        "duration": 76,
        "start_time": "2023-03-23T00:43:35.355Z"
      },
      {
        "duration": 82,
        "start_time": "2023-03-23T00:43:36.250Z"
      },
      {
        "duration": 78,
        "start_time": "2023-03-23T00:43:39.362Z"
      },
      {
        "duration": 13592,
        "start_time": "2023-03-23T09:08:48.530Z"
      },
      {
        "duration": 150,
        "start_time": "2023-03-23T09:09:02.127Z"
      },
      {
        "duration": 13,
        "start_time": "2023-03-23T09:09:02.279Z"
      },
      {
        "duration": 69,
        "start_time": "2023-03-23T09:09:02.295Z"
      },
      {
        "duration": 17,
        "start_time": "2023-03-23T09:09:02.367Z"
      },
      {
        "duration": 70,
        "start_time": "2023-03-23T09:09:02.386Z"
      },
      {
        "duration": 14,
        "start_time": "2023-03-23T09:09:02.459Z"
      },
      {
        "duration": 32,
        "start_time": "2023-03-23T09:09:02.475Z"
      },
      {
        "duration": 21,
        "start_time": "2023-03-23T09:09:02.509Z"
      },
      {
        "duration": 40,
        "start_time": "2023-03-23T09:09:02.537Z"
      },
      {
        "duration": 15,
        "start_time": "2023-03-23T09:09:02.579Z"
      },
      {
        "duration": 45,
        "start_time": "2023-03-23T09:09:02.596Z"
      },
      {
        "duration": 35,
        "start_time": "2023-03-23T09:09:02.644Z"
      },
      {
        "duration": 15,
        "start_time": "2023-03-23T09:09:02.683Z"
      },
      {
        "duration": 50,
        "start_time": "2023-03-23T09:09:02.700Z"
      },
      {
        "duration": 17,
        "start_time": "2023-03-23T09:09:02.752Z"
      },
      {
        "duration": 18,
        "start_time": "2023-03-23T09:14:31.639Z"
      },
      {
        "duration": 50,
        "start_time": "2023-03-23T09:34:40.637Z"
      },
      {
        "duration": 13512,
        "start_time": "2023-03-23T09:34:45.645Z"
      },
      {
        "duration": 47,
        "start_time": "2023-03-23T09:34:59.159Z"
      },
      {
        "duration": 9,
        "start_time": "2023-03-23T09:34:59.208Z"
      },
      {
        "duration": 20,
        "start_time": "2023-03-23T09:34:59.220Z"
      },
      {
        "duration": 9,
        "start_time": "2023-03-23T09:34:59.242Z"
      },
      {
        "duration": 12,
        "start_time": "2023-03-23T09:34:59.253Z"
      },
      {
        "duration": 9,
        "start_time": "2023-03-23T09:34:59.266Z"
      },
      {
        "duration": 13,
        "start_time": "2023-03-23T09:34:59.277Z"
      },
      {
        "duration": 8,
        "start_time": "2023-03-23T09:34:59.292Z"
      },
      {
        "duration": 42,
        "start_time": "2023-03-23T09:34:59.303Z"
      },
      {
        "duration": 10,
        "start_time": "2023-03-23T09:34:59.347Z"
      },
      {
        "duration": 13,
        "start_time": "2023-03-23T09:34:59.359Z"
      },
      {
        "duration": 26,
        "start_time": "2023-03-23T09:34:59.373Z"
      },
      {
        "duration": 13,
        "start_time": "2023-03-23T09:34:59.400Z"
      },
      {
        "duration": 16,
        "start_time": "2023-03-23T09:35:07.344Z"
      },
      {
        "duration": 12,
        "start_time": "2023-03-23T09:35:08.245Z"
      }
    ],
    "kernelspec": {
      "display_name": "Python 3 (ipykernel)",
      "language": "python",
      "name": "python3"
    },
    "language_info": {
      "codemirror_mode": {
        "name": "ipython",
        "version": 3
      },
      "file_extension": ".py",
      "mimetype": "text/x-python",
      "name": "python",
      "nbconvert_exporter": "python",
      "pygments_lexer": "ipython3",
      "version": "3.9.5"
    },
    "toc": {
      "base_numbering": 1,
      "nav_menu": {},
      "number_sections": true,
      "sideBar": true,
      "skip_h1_title": true,
      "title_cell": "Table of Contents",
      "title_sidebar": "Contents",
      "toc_cell": false,
      "toc_position": {},
      "toc_section_display": true,
      "toc_window_display": false
    },
    "colab": {
      "provenance": []
    }
  },
  "nbformat": 4,
  "nbformat_minor": 0
}