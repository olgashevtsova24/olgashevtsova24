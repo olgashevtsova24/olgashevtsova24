{
  "cells": [
    {
      "cell_type": "markdown",
      "metadata": {
        "id": "AaZxIMSg52Cs"
      },
      "source": [
        "# Проект: Анализ оттока клиентов"
      ]
    },
    {
      "cell_type": "markdown",
      "metadata": {
        "id": "YoW7RJ4D52Ct"
      },
      "source": [
        "## Материалы:\n",
        "* [Презентация] (https://disk.yandex.ru/i/EqJD27APC7fGng)"
      ]
    },
    {
      "cell_type": "markdown",
      "metadata": {
        "id": "u5uWKOkD52Cu"
      },
      "source": [
        "- Описание проекта: в банке последнее время драматически повысился отток, это начинает становиться проблемой, которая угрожает существованию банка. Состав клиентов банка изменился и старые сегменты больше не подходят. Информация нужна менеджеру, который занимается маркетиновыми кампаниями и работает в тесной связке с менеджерами продуктов.\n",
        "- Цель проекта: провести анализ, имеющихся данных о клиентах банка, и на их основе сделать рекомендации для решения проблемы оттока клиентов."
      ]
    },
    {
      "cell_type": "markdown",
      "metadata": {
        "id": "NOKb2B0r52Cw"
      },
      "source": [
        "План работы:\n",
        "- загрузка данных и изучение общей информации\n",
        "- предобработка данных\n",
        "- анализ данных\n",
        "- проверка гипотез\n",
        "- подготовка презентации и дашборда"
      ]
    },
    {
      "cell_type": "markdown",
      "metadata": {
        "id": "q3n36ZJz52Cx"
      },
      "source": [
        "## Загрузка данных и изучение общей информации"
      ]
    },
    {
      "cell_type": "code",
      "execution_count": null,
      "metadata": {
        "id": "wmVH_dkh52Cy"
      },
      "outputs": [],
      "source": [
        "#загрузка библиотек, необходимых для работы\n",
        "import pandas as pd\n",
        "import matplotlib.pyplot as plt\n",
        "import seaborn as sns\n",
        "from scipy import stats as st"
      ]
    },
    {
      "cell_type": "code",
      "execution_count": null,
      "metadata": {
        "id": "A_zxtYjR52C1"
      },
      "outputs": [],
      "source": [
        "# чтение файла bank_scrooge.csv с данными и сохранение его в переменную\n",
        "path = \"https://drive.google.com/uc?export=download&id=1-U61mhTz_N1ARjy2XSAZ7IlQqGjeqP0F\"\n",
        "df = pd.read_csv(path)"
      ]
    },
    {
      "cell_type": "code",
      "execution_count": null,
      "metadata": {
        "id": "xZFkGWOg52C2",
        "outputId": "bb675907-6b9e-4c4f-f512-1d6fc714f2a0"
      },
      "outputs": [
        {
          "data": {
            "text/html": [
              "<div>\n",
              "<style scoped>\n",
              "    .dataframe tbody tr th:only-of-type {\n",
              "        vertical-align: middle;\n",
              "    }\n",
              "\n",
              "    .dataframe tbody tr th {\n",
              "        vertical-align: top;\n",
              "    }\n",
              "\n",
              "    .dataframe thead th {\n",
              "        text-align: right;\n",
              "    }\n",
              "</style>\n",
              "<table border=\"1\" class=\"dataframe\">\n",
              "  <thead>\n",
              "    <tr style=\"text-align: right;\">\n",
              "      <th></th>\n",
              "      <th>USERID</th>\n",
              "      <th>score</th>\n",
              "      <th>city</th>\n",
              "      <th>gender</th>\n",
              "      <th>age</th>\n",
              "      <th>equity</th>\n",
              "      <th>balance</th>\n",
              "      <th>products</th>\n",
              "      <th>credit_card</th>\n",
              "      <th>last_activity</th>\n",
              "      <th>EST_SALARY</th>\n",
              "      <th>churn</th>\n",
              "    </tr>\n",
              "  </thead>\n",
              "  <tbody>\n",
              "    <tr>\n",
              "      <th>0</th>\n",
              "      <td>183012</td>\n",
              "      <td>850.0</td>\n",
              "      <td>Рыбинск</td>\n",
              "      <td>Ж</td>\n",
              "      <td>25.0</td>\n",
              "      <td>1</td>\n",
              "      <td>59214.82</td>\n",
              "      <td>2</td>\n",
              "      <td>0</td>\n",
              "      <td>1</td>\n",
              "      <td>75719.14</td>\n",
              "      <td>1</td>\n",
              "    </tr>\n",
              "    <tr>\n",
              "      <th>1</th>\n",
              "      <td>146556</td>\n",
              "      <td>861.0</td>\n",
              "      <td>Рыбинск</td>\n",
              "      <td>Ж</td>\n",
              "      <td>37.0</td>\n",
              "      <td>5</td>\n",
              "      <td>850594.33</td>\n",
              "      <td>3</td>\n",
              "      <td>1</td>\n",
              "      <td>0</td>\n",
              "      <td>86621.77</td>\n",
              "      <td>0</td>\n",
              "    </tr>\n",
              "    <tr>\n",
              "      <th>2</th>\n",
              "      <td>120722</td>\n",
              "      <td>892.0</td>\n",
              "      <td>Рыбинск</td>\n",
              "      <td>Ж</td>\n",
              "      <td>30.0</td>\n",
              "      <td>0</td>\n",
              "      <td>NaN</td>\n",
              "      <td>1</td>\n",
              "      <td>1</td>\n",
              "      <td>1</td>\n",
              "      <td>107683.34</td>\n",
              "      <td>0</td>\n",
              "    </tr>\n",
              "    <tr>\n",
              "      <th>3</th>\n",
              "      <td>225363</td>\n",
              "      <td>866.0</td>\n",
              "      <td>Ярославль</td>\n",
              "      <td>Ж</td>\n",
              "      <td>51.0</td>\n",
              "      <td>5</td>\n",
              "      <td>1524746.26</td>\n",
              "      <td>2</td>\n",
              "      <td>0</td>\n",
              "      <td>1</td>\n",
              "      <td>174423.53</td>\n",
              "      <td>1</td>\n",
              "    </tr>\n",
              "    <tr>\n",
              "      <th>4</th>\n",
              "      <td>157978</td>\n",
              "      <td>730.0</td>\n",
              "      <td>Ярославль</td>\n",
              "      <td>М</td>\n",
              "      <td>34.0</td>\n",
              "      <td>5</td>\n",
              "      <td>174.00</td>\n",
              "      <td>1</td>\n",
              "      <td>1</td>\n",
              "      <td>0</td>\n",
              "      <td>67353.16</td>\n",
              "      <td>1</td>\n",
              "    </tr>\n",
              "    <tr>\n",
              "      <th>...</th>\n",
              "      <td>...</td>\n",
              "      <td>...</td>\n",
              "      <td>...</td>\n",
              "      <td>...</td>\n",
              "      <td>...</td>\n",
              "      <td>...</td>\n",
              "      <td>...</td>\n",
              "      <td>...</td>\n",
              "      <td>...</td>\n",
              "      <td>...</td>\n",
              "      <td>...</td>\n",
              "      <td>...</td>\n",
              "    </tr>\n",
              "    <tr>\n",
              "      <th>9995</th>\n",
              "      <td>120553</td>\n",
              "      <td>814.0</td>\n",
              "      <td>Рыбинск</td>\n",
              "      <td>М</td>\n",
              "      <td>27.0</td>\n",
              "      <td>1</td>\n",
              "      <td>78144.65</td>\n",
              "      <td>1</td>\n",
              "      <td>0</td>\n",
              "      <td>1</td>\n",
              "      <td>18943.64</td>\n",
              "      <td>0</td>\n",
              "    </tr>\n",
              "    <tr>\n",
              "      <th>9996</th>\n",
              "      <td>139170</td>\n",
              "      <td>894.0</td>\n",
              "      <td>Ярославль</td>\n",
              "      <td>М</td>\n",
              "      <td>46.0</td>\n",
              "      <td>0</td>\n",
              "      <td>NaN</td>\n",
              "      <td>1</td>\n",
              "      <td>1</td>\n",
              "      <td>0</td>\n",
              "      <td>196898.29</td>\n",
              "      <td>0</td>\n",
              "    </tr>\n",
              "    <tr>\n",
              "      <th>9997</th>\n",
              "      <td>115639</td>\n",
              "      <td>903.0</td>\n",
              "      <td>Ярославль</td>\n",
              "      <td>М</td>\n",
              "      <td>24.0</td>\n",
              "      <td>0</td>\n",
              "      <td>NaN</td>\n",
              "      <td>2</td>\n",
              "      <td>1</td>\n",
              "      <td>1</td>\n",
              "      <td>108905.09</td>\n",
              "      <td>0</td>\n",
              "    </tr>\n",
              "    <tr>\n",
              "      <th>9998</th>\n",
              "      <td>148700</td>\n",
              "      <td>777.0</td>\n",
              "      <td>Ярославль</td>\n",
              "      <td>Ж</td>\n",
              "      <td>68.0</td>\n",
              "      <td>3</td>\n",
              "      <td>865457.97</td>\n",
              "      <td>3</td>\n",
              "      <td>0</td>\n",
              "      <td>1</td>\n",
              "      <td>86874.90</td>\n",
              "      <td>0</td>\n",
              "    </tr>\n",
              "    <tr>\n",
              "      <th>9999</th>\n",
              "      <td>96267</td>\n",
              "      <td>828.0</td>\n",
              "      <td>Рыбинск</td>\n",
              "      <td>Ж</td>\n",
              "      <td>58.0</td>\n",
              "      <td>3</td>\n",
              "      <td>1180886.70</td>\n",
              "      <td>4</td>\n",
              "      <td>0</td>\n",
              "      <td>1</td>\n",
              "      <td>21422.37</td>\n",
              "      <td>0</td>\n",
              "    </tr>\n",
              "  </tbody>\n",
              "</table>\n",
              "<p>10000 rows × 12 columns</p>\n",
              "</div>"
            ],
            "text/plain": [
              "      USERID  score       city gender   age  equity     balance  products  \\\n",
              "0     183012  850.0    Рыбинск      Ж  25.0       1    59214.82         2   \n",
              "1     146556  861.0    Рыбинск      Ж  37.0       5   850594.33         3   \n",
              "2     120722  892.0    Рыбинск      Ж  30.0       0         NaN         1   \n",
              "3     225363  866.0  Ярославль      Ж  51.0       5  1524746.26         2   \n",
              "4     157978  730.0  Ярославль      М  34.0       5      174.00         1   \n",
              "...      ...    ...        ...    ...   ...     ...         ...       ...   \n",
              "9995  120553  814.0    Рыбинск      М  27.0       1    78144.65         1   \n",
              "9996  139170  894.0  Ярославль      М  46.0       0         NaN         1   \n",
              "9997  115639  903.0  Ярославль      М  24.0       0         NaN         2   \n",
              "9998  148700  777.0  Ярославль      Ж  68.0       3   865457.97         3   \n",
              "9999   96267  828.0    Рыбинск      Ж  58.0       3  1180886.70         4   \n",
              "\n",
              "      credit_card  last_activity  EST_SALARY  churn  \n",
              "0               0              1    75719.14      1  \n",
              "1               1              0    86621.77      0  \n",
              "2               1              1   107683.34      0  \n",
              "3               0              1   174423.53      1  \n",
              "4               1              0    67353.16      1  \n",
              "...           ...            ...         ...    ...  \n",
              "9995            0              1    18943.64      0  \n",
              "9996            1              0   196898.29      0  \n",
              "9997            1              1   108905.09      0  \n",
              "9998            0              1    86874.90      0  \n",
              "9999            0              1    21422.37      0  \n",
              "\n",
              "[10000 rows x 12 columns]"
            ]
          },
          "execution_count": 136,
          "metadata": {},
          "output_type": "execute_result"
        }
      ],
      "source": [
        "#таблица с данными\n",
        "df"
      ]
    },
    {
      "cell_type": "markdown",
      "metadata": {
        "id": "C-kItT8O52C4"
      },
      "source": [
        "-В датасете представлены столбцы со следующими названиями:\n",
        "\n",
        " >userid — идентификатор пользователя,\n",
        "\n",
        ">score — баллы кредитного скоринга,\n",
        "\n",
        ">city — город,\n",
        "\n",
        ">gender — пол,\n",
        "\n",
        ">age — возраст,\n",
        "\n",
        ">equity — приблизительная оценка собственности клиента,\n",
        "\n",
        ">balance — баланс на счёте,\n",
        "\n",
        ">products — количество продуктов, которыми пользуется клиент,\n",
        "\n",
        ">credit_card — есть ли кредитная карта,\n",
        "\n",
        ">last_activity — был ли клиент активен последнее время,\n",
        "\n",
        ">salary — заработная плата клиента\n",
        "\n",
        ">churn — уходит или нет."
      ]
    },
    {
      "cell_type": "code",
      "execution_count": null,
      "metadata": {
        "id": "a5joEkO052C5",
        "outputId": "e752f1e9-8b69-4d23-82bc-9fb93a02dda7"
      },
      "outputs": [
        {
          "name": "stdout",
          "output_type": "stream",
          "text": [
            "<class 'pandas.core.frame.DataFrame'>\n",
            "RangeIndex: 10000 entries, 0 to 9999\n",
            "Data columns (total 12 columns):\n",
            " #   Column         Non-Null Count  Dtype  \n",
            "---  ------         --------------  -----  \n",
            " 0   USERID         10000 non-null  int64  \n",
            " 1   score          10000 non-null  float64\n",
            " 2   city           10000 non-null  object \n",
            " 3   gender         10000 non-null  object \n",
            " 4   age            9974 non-null   float64\n",
            " 5   equity         10000 non-null  int64  \n",
            " 6   balance        7705 non-null   float64\n",
            " 7   products       10000 non-null  int64  \n",
            " 8   credit_card    10000 non-null  int64  \n",
            " 9   last_activity  10000 non-null  int64  \n",
            " 10  EST_SALARY     10000 non-null  float64\n",
            " 11  churn          10000 non-null  int64  \n",
            "dtypes: float64(4), int64(6), object(2)\n",
            "memory usage: 937.6+ KB\n"
          ]
        }
      ],
      "source": [
        "#информация о таблице с данными\n",
        "df.info()"
      ]
    },
    {
      "cell_type": "markdown",
      "metadata": {
        "id": "orjEpbxs52C8"
      },
      "source": [
        "В данных имеется столбец с большим количеством пропусков, следует изучить возможность удалить эти пропуски или заполнить их средним/медианным значением, кроме того стоит заменить регистр в названии столбцов и поменять тип некоторых данных."
      ]
    },
    {
      "cell_type": "markdown",
      "metadata": {
        "id": "ZiJJevat52C8"
      },
      "source": [
        "## Предобработка данных"
      ]
    },
    {
      "cell_type": "code",
      "execution_count": null,
      "metadata": {
        "id": "c7YrVED_52C9"
      },
      "outputs": [],
      "source": [
        "#приведем название столбцов к нижнему регистру\n",
        "df.columns=df.columns.str.lower()"
      ]
    },
    {
      "cell_type": "code",
      "execution_count": null,
      "metadata": {
        "id": "NcoeUEsN52C9"
      },
      "outputs": [],
      "source": [
        "#переименуем столбец userid в более удобное\n",
        "df.rename(columns = {'userid':'user_id'}, inplace = True )"
      ]
    },
    {
      "cell_type": "code",
      "execution_count": null,
      "metadata": {
        "id": "C05Sj_vc52C-",
        "outputId": "9e6922d5-5c36-4dd0-e007-bd34a1ae9d71"
      },
      "outputs": [
        {
          "data": {
            "text/plain": [
              "Index(['user_id', 'score', 'city', 'gender', 'age', 'equity', 'balance',\n",
              "       'products', 'credit_card', 'last_activity', 'est_salary', 'churn'],\n",
              "      dtype='object')"
            ]
          },
          "execution_count": 140,
          "metadata": {},
          "output_type": "execute_result"
        }
      ],
      "source": [
        "#проверка изменений в названии столбцов\n",
        "df.columns"
      ]
    },
    {
      "cell_type": "code",
      "execution_count": null,
      "metadata": {
        "id": "v35woJNv52C-"
      },
      "outputs": [],
      "source": [
        "#поменяем типы данных в столбцах\n",
        "df['credit_card'] = df['credit_card'].astype(bool)\n",
        "df['last_activity'] = df['last_activity'].astype(bool)\n",
        "df['churn'] = df['churn'].astype(bool)"
      ]
    },
    {
      "cell_type": "code",
      "execution_count": null,
      "metadata": {
        "id": "JrBo2S8z52C_",
        "outputId": "19cfd10f-7d17-4267-dfb4-d1bab1474e97"
      },
      "outputs": [
        {
          "data": {
            "text/html": [
              "<div>\n",
              "<style scoped>\n",
              "    .dataframe tbody tr th:only-of-type {\n",
              "        vertical-align: middle;\n",
              "    }\n",
              "\n",
              "    .dataframe tbody tr th {\n",
              "        vertical-align: top;\n",
              "    }\n",
              "\n",
              "    .dataframe thead th {\n",
              "        text-align: right;\n",
              "    }\n",
              "</style>\n",
              "<table border=\"1\" class=\"dataframe\">\n",
              "  <thead>\n",
              "    <tr style=\"text-align: right;\">\n",
              "      <th></th>\n",
              "      <th>user_id</th>\n",
              "      <th>score</th>\n",
              "      <th>city</th>\n",
              "      <th>gender</th>\n",
              "      <th>age</th>\n",
              "      <th>equity</th>\n",
              "      <th>balance</th>\n",
              "      <th>products</th>\n",
              "      <th>credit_card</th>\n",
              "      <th>last_activity</th>\n",
              "      <th>est_salary</th>\n",
              "      <th>churn</th>\n",
              "    </tr>\n",
              "  </thead>\n",
              "  <tbody>\n",
              "    <tr>\n",
              "      <th>0</th>\n",
              "      <td>183012</td>\n",
              "      <td>850.0</td>\n",
              "      <td>Рыбинск</td>\n",
              "      <td>Ж</td>\n",
              "      <td>25.0</td>\n",
              "      <td>1</td>\n",
              "      <td>59214.82</td>\n",
              "      <td>2</td>\n",
              "      <td>False</td>\n",
              "      <td>True</td>\n",
              "      <td>75719.14</td>\n",
              "      <td>True</td>\n",
              "    </tr>\n",
              "    <tr>\n",
              "      <th>1</th>\n",
              "      <td>146556</td>\n",
              "      <td>861.0</td>\n",
              "      <td>Рыбинск</td>\n",
              "      <td>Ж</td>\n",
              "      <td>37.0</td>\n",
              "      <td>5</td>\n",
              "      <td>850594.33</td>\n",
              "      <td>3</td>\n",
              "      <td>True</td>\n",
              "      <td>False</td>\n",
              "      <td>86621.77</td>\n",
              "      <td>False</td>\n",
              "    </tr>\n",
              "    <tr>\n",
              "      <th>2</th>\n",
              "      <td>120722</td>\n",
              "      <td>892.0</td>\n",
              "      <td>Рыбинск</td>\n",
              "      <td>Ж</td>\n",
              "      <td>30.0</td>\n",
              "      <td>0</td>\n",
              "      <td>NaN</td>\n",
              "      <td>1</td>\n",
              "      <td>True</td>\n",
              "      <td>True</td>\n",
              "      <td>107683.34</td>\n",
              "      <td>False</td>\n",
              "    </tr>\n",
              "    <tr>\n",
              "      <th>3</th>\n",
              "      <td>225363</td>\n",
              "      <td>866.0</td>\n",
              "      <td>Ярославль</td>\n",
              "      <td>Ж</td>\n",
              "      <td>51.0</td>\n",
              "      <td>5</td>\n",
              "      <td>1524746.26</td>\n",
              "      <td>2</td>\n",
              "      <td>False</td>\n",
              "      <td>True</td>\n",
              "      <td>174423.53</td>\n",
              "      <td>True</td>\n",
              "    </tr>\n",
              "    <tr>\n",
              "      <th>4</th>\n",
              "      <td>157978</td>\n",
              "      <td>730.0</td>\n",
              "      <td>Ярославль</td>\n",
              "      <td>М</td>\n",
              "      <td>34.0</td>\n",
              "      <td>5</td>\n",
              "      <td>174.00</td>\n",
              "      <td>1</td>\n",
              "      <td>True</td>\n",
              "      <td>False</td>\n",
              "      <td>67353.16</td>\n",
              "      <td>True</td>\n",
              "    </tr>\n",
              "    <tr>\n",
              "      <th>...</th>\n",
              "      <td>...</td>\n",
              "      <td>...</td>\n",
              "      <td>...</td>\n",
              "      <td>...</td>\n",
              "      <td>...</td>\n",
              "      <td>...</td>\n",
              "      <td>...</td>\n",
              "      <td>...</td>\n",
              "      <td>...</td>\n",
              "      <td>...</td>\n",
              "      <td>...</td>\n",
              "      <td>...</td>\n",
              "    </tr>\n",
              "    <tr>\n",
              "      <th>9995</th>\n",
              "      <td>120553</td>\n",
              "      <td>814.0</td>\n",
              "      <td>Рыбинск</td>\n",
              "      <td>М</td>\n",
              "      <td>27.0</td>\n",
              "      <td>1</td>\n",
              "      <td>78144.65</td>\n",
              "      <td>1</td>\n",
              "      <td>False</td>\n",
              "      <td>True</td>\n",
              "      <td>18943.64</td>\n",
              "      <td>False</td>\n",
              "    </tr>\n",
              "    <tr>\n",
              "      <th>9996</th>\n",
              "      <td>139170</td>\n",
              "      <td>894.0</td>\n",
              "      <td>Ярославль</td>\n",
              "      <td>М</td>\n",
              "      <td>46.0</td>\n",
              "      <td>0</td>\n",
              "      <td>NaN</td>\n",
              "      <td>1</td>\n",
              "      <td>True</td>\n",
              "      <td>False</td>\n",
              "      <td>196898.29</td>\n",
              "      <td>False</td>\n",
              "    </tr>\n",
              "    <tr>\n",
              "      <th>9997</th>\n",
              "      <td>115639</td>\n",
              "      <td>903.0</td>\n",
              "      <td>Ярославль</td>\n",
              "      <td>М</td>\n",
              "      <td>24.0</td>\n",
              "      <td>0</td>\n",
              "      <td>NaN</td>\n",
              "      <td>2</td>\n",
              "      <td>True</td>\n",
              "      <td>True</td>\n",
              "      <td>108905.09</td>\n",
              "      <td>False</td>\n",
              "    </tr>\n",
              "    <tr>\n",
              "      <th>9998</th>\n",
              "      <td>148700</td>\n",
              "      <td>777.0</td>\n",
              "      <td>Ярославль</td>\n",
              "      <td>Ж</td>\n",
              "      <td>68.0</td>\n",
              "      <td>3</td>\n",
              "      <td>865457.97</td>\n",
              "      <td>3</td>\n",
              "      <td>False</td>\n",
              "      <td>True</td>\n",
              "      <td>86874.90</td>\n",
              "      <td>False</td>\n",
              "    </tr>\n",
              "    <tr>\n",
              "      <th>9999</th>\n",
              "      <td>96267</td>\n",
              "      <td>828.0</td>\n",
              "      <td>Рыбинск</td>\n",
              "      <td>Ж</td>\n",
              "      <td>58.0</td>\n",
              "      <td>3</td>\n",
              "      <td>1180886.70</td>\n",
              "      <td>4</td>\n",
              "      <td>False</td>\n",
              "      <td>True</td>\n",
              "      <td>21422.37</td>\n",
              "      <td>False</td>\n",
              "    </tr>\n",
              "  </tbody>\n",
              "</table>\n",
              "<p>10000 rows × 12 columns</p>\n",
              "</div>"
            ],
            "text/plain": [
              "      user_id  score       city gender   age  equity     balance  products  \\\n",
              "0      183012  850.0    Рыбинск      Ж  25.0       1    59214.82         2   \n",
              "1      146556  861.0    Рыбинск      Ж  37.0       5   850594.33         3   \n",
              "2      120722  892.0    Рыбинск      Ж  30.0       0         NaN         1   \n",
              "3      225363  866.0  Ярославль      Ж  51.0       5  1524746.26         2   \n",
              "4      157978  730.0  Ярославль      М  34.0       5      174.00         1   \n",
              "...       ...    ...        ...    ...   ...     ...         ...       ...   \n",
              "9995   120553  814.0    Рыбинск      М  27.0       1    78144.65         1   \n",
              "9996   139170  894.0  Ярославль      М  46.0       0         NaN         1   \n",
              "9997   115639  903.0  Ярославль      М  24.0       0         NaN         2   \n",
              "9998   148700  777.0  Ярославль      Ж  68.0       3   865457.97         3   \n",
              "9999    96267  828.0    Рыбинск      Ж  58.0       3  1180886.70         4   \n",
              "\n",
              "      credit_card  last_activity  est_salary  churn  \n",
              "0           False           True    75719.14   True  \n",
              "1            True          False    86621.77  False  \n",
              "2            True           True   107683.34  False  \n",
              "3           False           True   174423.53   True  \n",
              "4            True          False    67353.16   True  \n",
              "...           ...            ...         ...    ...  \n",
              "9995        False           True    18943.64  False  \n",
              "9996         True          False   196898.29  False  \n",
              "9997         True           True   108905.09  False  \n",
              "9998        False           True    86874.90  False  \n",
              "9999        False           True    21422.37  False  \n",
              "\n",
              "[10000 rows x 12 columns]"
            ]
          },
          "execution_count": 142,
          "metadata": {},
          "output_type": "execute_result"
        }
      ],
      "source": [
        "#проверка изменений в таблице\n",
        "df"
      ]
    },
    {
      "cell_type": "code",
      "execution_count": null,
      "metadata": {
        "id": "iws2S93X52C_",
        "outputId": "8bbf9e97-6f06-4be7-fadf-1b3fe1387717"
      },
      "outputs": [
        {
          "data": {
            "text/plain": [
              "0"
            ]
          },
          "execution_count": 143,
          "metadata": {},
          "output_type": "execute_result"
        }
      ],
      "source": [
        "#проверка на явные дубликами\n",
        "df.duplicated().sum()"
      ]
    },
    {
      "cell_type": "code",
      "execution_count": null,
      "metadata": {
        "id": "9pHquqHk52DA"
      },
      "outputs": [],
      "source": [
        "#удаление явных дубликатов\n",
        "df = df.drop_duplicates().reset_index(drop=True)"
      ]
    },
    {
      "cell_type": "code",
      "execution_count": null,
      "metadata": {
        "id": "dek7qCdI52DB",
        "outputId": "bef61866-bc1d-4844-ed2d-4b3176bc3432"
      },
      "outputs": [
        {
          "data": {
            "text/plain": [
              "0"
            ]
          },
          "execution_count": 145,
          "metadata": {},
          "output_type": "execute_result"
        }
      ],
      "source": [
        "#проверка удалились ли явные дубликаты\n",
        "df.duplicated().sum()"
      ]
    },
    {
      "cell_type": "code",
      "execution_count": null,
      "metadata": {
        "id": "-XOR9oZb52DB",
        "outputId": "54424ff2-92c6-408a-80ea-103aa886bc47"
      },
      "outputs": [
        {
          "data": {
            "text/plain": [
              "user_id             0\n",
              "score               0\n",
              "city                0\n",
              "gender              0\n",
              "age                26\n",
              "equity              0\n",
              "balance          2295\n",
              "products            0\n",
              "credit_card         0\n",
              "last_activity       0\n",
              "est_salary          0\n",
              "churn               0\n",
              "dtype: int64"
            ]
          },
          "execution_count": 146,
          "metadata": {},
          "output_type": "execute_result"
        }
      ],
      "source": [
        "#проверка на пропуски в данных\n",
        "df.isna().sum()"
      ]
    },
    {
      "cell_type": "code",
      "execution_count": null,
      "metadata": {
        "id": "xssvxBdg52DC",
        "outputId": "fd7faeb4-6aec-4931-c21b-78bbc1f6fe08"
      },
      "outputs": [
        {
          "data": {
            "text/html": [
              "<div>\n",
              "<style scoped>\n",
              "    .dataframe tbody tr th:only-of-type {\n",
              "        vertical-align: middle;\n",
              "    }\n",
              "\n",
              "    .dataframe tbody tr th {\n",
              "        vertical-align: top;\n",
              "    }\n",
              "\n",
              "    .dataframe thead th {\n",
              "        text-align: right;\n",
              "    }\n",
              "</style>\n",
              "<table border=\"1\" class=\"dataframe\">\n",
              "  <thead>\n",
              "    <tr style=\"text-align: right;\">\n",
              "      <th></th>\n",
              "      <th>missing_values</th>\n",
              "      <th>% of total</th>\n",
              "    </tr>\n",
              "  </thead>\n",
              "  <tbody>\n",
              "    <tr>\n",
              "      <th>balance</th>\n",
              "      <td>2295</td>\n",
              "      <td>0.23</td>\n",
              "    </tr>\n",
              "    <tr>\n",
              "      <th>age</th>\n",
              "      <td>26</td>\n",
              "      <td>0.00</td>\n",
              "    </tr>\n",
              "    <tr>\n",
              "      <th>user_id</th>\n",
              "      <td>0</td>\n",
              "      <td>0.00</td>\n",
              "    </tr>\n",
              "    <tr>\n",
              "      <th>score</th>\n",
              "      <td>0</td>\n",
              "      <td>0.00</td>\n",
              "    </tr>\n",
              "    <tr>\n",
              "      <th>city</th>\n",
              "      <td>0</td>\n",
              "      <td>0.00</td>\n",
              "    </tr>\n",
              "    <tr>\n",
              "      <th>gender</th>\n",
              "      <td>0</td>\n",
              "      <td>0.00</td>\n",
              "    </tr>\n",
              "    <tr>\n",
              "      <th>equity</th>\n",
              "      <td>0</td>\n",
              "      <td>0.00</td>\n",
              "    </tr>\n",
              "    <tr>\n",
              "      <th>products</th>\n",
              "      <td>0</td>\n",
              "      <td>0.00</td>\n",
              "    </tr>\n",
              "    <tr>\n",
              "      <th>credit_card</th>\n",
              "      <td>0</td>\n",
              "      <td>0.00</td>\n",
              "    </tr>\n",
              "    <tr>\n",
              "      <th>last_activity</th>\n",
              "      <td>0</td>\n",
              "      <td>0.00</td>\n",
              "    </tr>\n",
              "    <tr>\n",
              "      <th>est_salary</th>\n",
              "      <td>0</td>\n",
              "      <td>0.00</td>\n",
              "    </tr>\n",
              "    <tr>\n",
              "      <th>churn</th>\n",
              "      <td>0</td>\n",
              "      <td>0.00</td>\n",
              "    </tr>\n",
              "  </tbody>\n",
              "</table>\n",
              "</div>"
            ],
            "text/plain": [
              "               missing_values  % of total\n",
              "balance                  2295        0.23\n",
              "age                        26        0.00\n",
              "user_id                     0        0.00\n",
              "score                       0        0.00\n",
              "city                        0        0.00\n",
              "gender                      0        0.00\n",
              "equity                      0        0.00\n",
              "products                    0        0.00\n",
              "credit_card                 0        0.00\n",
              "last_activity               0        0.00\n",
              "est_salary                  0        0.00\n",
              "churn                       0        0.00"
            ]
          },
          "execution_count": 147,
          "metadata": {},
          "output_type": "execute_result"
        }
      ],
      "source": [
        "#выявление возможности удалить пропуски или заполнить их средним/медианным значением\n",
        "report = df.isna().sum().to_frame()\n",
        "report = report.rename(columns = {0: 'missing_values'})\n",
        "report['% of total'] = (report['missing_values'] / df.shape[0]).round(2)\n",
        "report.sort_values(by = 'missing_values', ascending = False)"
      ]
    },
    {
      "cell_type": "markdown",
      "metadata": {
        "id": "4qmCYY7G52DD"
      },
      "source": [
        "В данных количество пропусков превышает 10%, восполнение пропусков результатами расчета среднего/медианы по столбцу, может привести к искажению данных, поэтому оставим пропуски, предположительно возникшие из-за технической ошибки."
      ]
    },
    {
      "cell_type": "code",
      "execution_count": null,
      "metadata": {
        "id": "LWQJIEE152DF",
        "outputId": "9f823ba6-6cab-4659-dd19-e3bf01efdb71"
      },
      "outputs": [
        {
          "data": {
            "text/html": [
              "<div>\n",
              "<style scoped>\n",
              "    .dataframe tbody tr th:only-of-type {\n",
              "        vertical-align: middle;\n",
              "    }\n",
              "\n",
              "    .dataframe tbody tr th {\n",
              "        vertical-align: top;\n",
              "    }\n",
              "\n",
              "    .dataframe thead th {\n",
              "        text-align: right;\n",
              "    }\n",
              "</style>\n",
              "<table border=\"1\" class=\"dataframe\">\n",
              "  <thead>\n",
              "    <tr style=\"text-align: right;\">\n",
              "      <th></th>\n",
              "      <th>user_id</th>\n",
              "      <th>score</th>\n",
              "      <th>age</th>\n",
              "      <th>equity</th>\n",
              "      <th>balance</th>\n",
              "      <th>products</th>\n",
              "      <th>est_salary</th>\n",
              "    </tr>\n",
              "  </thead>\n",
              "  <tbody>\n",
              "    <tr>\n",
              "      <th>count</th>\n",
              "      <td>10000.00000</td>\n",
              "      <td>10000.000000</td>\n",
              "      <td>9974.000000</td>\n",
              "      <td>10000.000000</td>\n",
              "      <td>7.705000e+03</td>\n",
              "      <td>10000.000000</td>\n",
              "      <td>1.000000e+04</td>\n",
              "    </tr>\n",
              "    <tr>\n",
              "      <th>mean</th>\n",
              "      <td>171814.71260</td>\n",
              "      <td>848.699400</td>\n",
              "      <td>42.734409</td>\n",
              "      <td>2.627600</td>\n",
              "      <td>8.277943e+05</td>\n",
              "      <td>1.870100</td>\n",
              "      <td>1.478669e+05</td>\n",
              "    </tr>\n",
              "    <tr>\n",
              "      <th>std</th>\n",
              "      <td>33708.23812</td>\n",
              "      <td>65.448519</td>\n",
              "      <td>12.179971</td>\n",
              "      <td>1.980836</td>\n",
              "      <td>1.980614e+06</td>\n",
              "      <td>0.792647</td>\n",
              "      <td>1.393885e+05</td>\n",
              "    </tr>\n",
              "    <tr>\n",
              "      <th>min</th>\n",
              "      <td>94561.00000</td>\n",
              "      <td>642.000000</td>\n",
              "      <td>18.000000</td>\n",
              "      <td>0.000000</td>\n",
              "      <td>0.000000e+00</td>\n",
              "      <td>0.000000</td>\n",
              "      <td>2.546300e+03</td>\n",
              "    </tr>\n",
              "    <tr>\n",
              "      <th>25%</th>\n",
              "      <td>142810.25000</td>\n",
              "      <td>802.000000</td>\n",
              "      <td>33.000000</td>\n",
              "      <td>0.000000</td>\n",
              "      <td>2.955542e+05</td>\n",
              "      <td>1.000000</td>\n",
              "      <td>7.525190e+04</td>\n",
              "    </tr>\n",
              "    <tr>\n",
              "      <th>50%</th>\n",
              "      <td>172728.00000</td>\n",
              "      <td>853.000000</td>\n",
              "      <td>40.000000</td>\n",
              "      <td>3.000000</td>\n",
              "      <td>5.242722e+05</td>\n",
              "      <td>2.000000</td>\n",
              "      <td>1.196581e+05</td>\n",
              "    </tr>\n",
              "    <tr>\n",
              "      <th>75%</th>\n",
              "      <td>201261.75000</td>\n",
              "      <td>900.000000</td>\n",
              "      <td>51.000000</td>\n",
              "      <td>4.000000</td>\n",
              "      <td>9.807058e+05</td>\n",
              "      <td>2.000000</td>\n",
              "      <td>1.745005e+05</td>\n",
              "    </tr>\n",
              "    <tr>\n",
              "      <th>max</th>\n",
              "      <td>229145.00000</td>\n",
              "      <td>1000.000000</td>\n",
              "      <td>86.000000</td>\n",
              "      <td>9.000000</td>\n",
              "      <td>1.191136e+08</td>\n",
              "      <td>5.000000</td>\n",
              "      <td>1.395064e+06</td>\n",
              "    </tr>\n",
              "  </tbody>\n",
              "</table>\n",
              "</div>"
            ],
            "text/plain": [
              "            user_id         score          age        equity       balance  \\\n",
              "count   10000.00000  10000.000000  9974.000000  10000.000000  7.705000e+03   \n",
              "mean   171814.71260    848.699400    42.734409      2.627600  8.277943e+05   \n",
              "std     33708.23812     65.448519    12.179971      1.980836  1.980614e+06   \n",
              "min     94561.00000    642.000000    18.000000      0.000000  0.000000e+00   \n",
              "25%    142810.25000    802.000000    33.000000      0.000000  2.955542e+05   \n",
              "50%    172728.00000    853.000000    40.000000      3.000000  5.242722e+05   \n",
              "75%    201261.75000    900.000000    51.000000      4.000000  9.807058e+05   \n",
              "max    229145.00000   1000.000000    86.000000      9.000000  1.191136e+08   \n",
              "\n",
              "           products    est_salary  \n",
              "count  10000.000000  1.000000e+04  \n",
              "mean       1.870100  1.478669e+05  \n",
              "std        0.792647  1.393885e+05  \n",
              "min        0.000000  2.546300e+03  \n",
              "25%        1.000000  7.525190e+04  \n",
              "50%        2.000000  1.196581e+05  \n",
              "75%        2.000000  1.745005e+05  \n",
              "max        5.000000  1.395064e+06  "
            ]
          },
          "execution_count": 148,
          "metadata": {},
          "output_type": "execute_result"
        }
      ],
      "source": [
        "#описательная статистика по данным в таблице\n",
        "df.describe()"
      ]
    },
    {
      "cell_type": "markdown",
      "metadata": {
        "id": "cd-1V6V352DG"
      },
      "source": [
        "### Категоризация данных"
      ]
    },
    {
      "cell_type": "markdown",
      "metadata": {
        "id": "514Dc3V952DG"
      },
      "source": [
        "#### Категоризация клиентов по возрасту"
      ]
    },
    {
      "cell_type": "code",
      "execution_count": null,
      "metadata": {
        "id": "dFHPuqd552DG",
        "outputId": "e9988ccb-2967-4e9e-d6a7-3466b856f3ce"
      },
      "outputs": [
        {
          "data": {
            "text/plain": [
              "count    9974.000000\n",
              "mean       42.734409\n",
              "std        12.179971\n",
              "min        18.000000\n",
              "25%        33.000000\n",
              "50%        40.000000\n",
              "75%        51.000000\n",
              "max        86.000000\n",
              "Name: age, dtype: float64"
            ]
          },
          "execution_count": 149,
          "metadata": {},
          "output_type": "execute_result"
        }
      ],
      "source": [
        "#описательная статистика для столбца, чтобы определить для него категории\n",
        "df['age'].describe()"
      ]
    },
    {
      "cell_type": "code",
      "execution_count": null,
      "metadata": {
        "id": "-bUKdO8d52DH"
      },
      "outputs": [],
      "source": [
        "#функция для категоризации данных\n",
        "def categorize_age(income):\n",
        "    try:\n",
        "        if 18 <= income <= 35:\n",
        "            return 'молодой'\n",
        "        elif 36 <= income <= 60:\n",
        "            return 'взрослый'\n",
        "        elif income >= 61:\n",
        "            return 'старый'\n",
        "    except:\n",
        "        pass"
      ]
    },
    {
      "cell_type": "code",
      "execution_count": null,
      "metadata": {
        "id": "r-sxskmJ52DH"
      },
      "outputs": [],
      "source": [
        "#применение функции для категоризации данных в таблице\n",
        "df['age_category'] = df['age'].apply(categorize_age)"
      ]
    },
    {
      "cell_type": "code",
      "execution_count": null,
      "metadata": {
        "id": "2fvhWuYd52DI",
        "outputId": "e71e7708-147a-43d9-b72d-7f3c9c14b22a"
      },
      "outputs": [
        {
          "data": {
            "text/html": [
              "<div>\n",
              "<style scoped>\n",
              "    .dataframe tbody tr th:only-of-type {\n",
              "        vertical-align: middle;\n",
              "    }\n",
              "\n",
              "    .dataframe tbody tr th {\n",
              "        vertical-align: top;\n",
              "    }\n",
              "\n",
              "    .dataframe thead th {\n",
              "        text-align: right;\n",
              "    }\n",
              "</style>\n",
              "<table border=\"1\" class=\"dataframe\">\n",
              "  <thead>\n",
              "    <tr style=\"text-align: right;\">\n",
              "      <th></th>\n",
              "      <th>user_id</th>\n",
              "      <th>score</th>\n",
              "      <th>city</th>\n",
              "      <th>gender</th>\n",
              "      <th>age</th>\n",
              "      <th>equity</th>\n",
              "      <th>balance</th>\n",
              "      <th>products</th>\n",
              "      <th>credit_card</th>\n",
              "      <th>last_activity</th>\n",
              "      <th>est_salary</th>\n",
              "      <th>churn</th>\n",
              "      <th>age_category</th>\n",
              "    </tr>\n",
              "  </thead>\n",
              "  <tbody>\n",
              "    <tr>\n",
              "      <th>0</th>\n",
              "      <td>183012</td>\n",
              "      <td>850.0</td>\n",
              "      <td>Рыбинск</td>\n",
              "      <td>Ж</td>\n",
              "      <td>25.0</td>\n",
              "      <td>1</td>\n",
              "      <td>59214.82</td>\n",
              "      <td>2</td>\n",
              "      <td>False</td>\n",
              "      <td>True</td>\n",
              "      <td>75719.14</td>\n",
              "      <td>True</td>\n",
              "      <td>молодой</td>\n",
              "    </tr>\n",
              "    <tr>\n",
              "      <th>1</th>\n",
              "      <td>146556</td>\n",
              "      <td>861.0</td>\n",
              "      <td>Рыбинск</td>\n",
              "      <td>Ж</td>\n",
              "      <td>37.0</td>\n",
              "      <td>5</td>\n",
              "      <td>850594.33</td>\n",
              "      <td>3</td>\n",
              "      <td>True</td>\n",
              "      <td>False</td>\n",
              "      <td>86621.77</td>\n",
              "      <td>False</td>\n",
              "      <td>взрослый</td>\n",
              "    </tr>\n",
              "    <tr>\n",
              "      <th>2</th>\n",
              "      <td>120722</td>\n",
              "      <td>892.0</td>\n",
              "      <td>Рыбинск</td>\n",
              "      <td>Ж</td>\n",
              "      <td>30.0</td>\n",
              "      <td>0</td>\n",
              "      <td>NaN</td>\n",
              "      <td>1</td>\n",
              "      <td>True</td>\n",
              "      <td>True</td>\n",
              "      <td>107683.34</td>\n",
              "      <td>False</td>\n",
              "      <td>молодой</td>\n",
              "    </tr>\n",
              "    <tr>\n",
              "      <th>3</th>\n",
              "      <td>225363</td>\n",
              "      <td>866.0</td>\n",
              "      <td>Ярославль</td>\n",
              "      <td>Ж</td>\n",
              "      <td>51.0</td>\n",
              "      <td>5</td>\n",
              "      <td>1524746.26</td>\n",
              "      <td>2</td>\n",
              "      <td>False</td>\n",
              "      <td>True</td>\n",
              "      <td>174423.53</td>\n",
              "      <td>True</td>\n",
              "      <td>взрослый</td>\n",
              "    </tr>\n",
              "    <tr>\n",
              "      <th>4</th>\n",
              "      <td>157978</td>\n",
              "      <td>730.0</td>\n",
              "      <td>Ярославль</td>\n",
              "      <td>М</td>\n",
              "      <td>34.0</td>\n",
              "      <td>5</td>\n",
              "      <td>174.00</td>\n",
              "      <td>1</td>\n",
              "      <td>True</td>\n",
              "      <td>False</td>\n",
              "      <td>67353.16</td>\n",
              "      <td>True</td>\n",
              "      <td>молодой</td>\n",
              "    </tr>\n",
              "    <tr>\n",
              "      <th>...</th>\n",
              "      <td>...</td>\n",
              "      <td>...</td>\n",
              "      <td>...</td>\n",
              "      <td>...</td>\n",
              "      <td>...</td>\n",
              "      <td>...</td>\n",
              "      <td>...</td>\n",
              "      <td>...</td>\n",
              "      <td>...</td>\n",
              "      <td>...</td>\n",
              "      <td>...</td>\n",
              "      <td>...</td>\n",
              "      <td>...</td>\n",
              "    </tr>\n",
              "    <tr>\n",
              "      <th>9995</th>\n",
              "      <td>120553</td>\n",
              "      <td>814.0</td>\n",
              "      <td>Рыбинск</td>\n",
              "      <td>М</td>\n",
              "      <td>27.0</td>\n",
              "      <td>1</td>\n",
              "      <td>78144.65</td>\n",
              "      <td>1</td>\n",
              "      <td>False</td>\n",
              "      <td>True</td>\n",
              "      <td>18943.64</td>\n",
              "      <td>False</td>\n",
              "      <td>молодой</td>\n",
              "    </tr>\n",
              "    <tr>\n",
              "      <th>9996</th>\n",
              "      <td>139170</td>\n",
              "      <td>894.0</td>\n",
              "      <td>Ярославль</td>\n",
              "      <td>М</td>\n",
              "      <td>46.0</td>\n",
              "      <td>0</td>\n",
              "      <td>NaN</td>\n",
              "      <td>1</td>\n",
              "      <td>True</td>\n",
              "      <td>False</td>\n",
              "      <td>196898.29</td>\n",
              "      <td>False</td>\n",
              "      <td>взрослый</td>\n",
              "    </tr>\n",
              "    <tr>\n",
              "      <th>9997</th>\n",
              "      <td>115639</td>\n",
              "      <td>903.0</td>\n",
              "      <td>Ярославль</td>\n",
              "      <td>М</td>\n",
              "      <td>24.0</td>\n",
              "      <td>0</td>\n",
              "      <td>NaN</td>\n",
              "      <td>2</td>\n",
              "      <td>True</td>\n",
              "      <td>True</td>\n",
              "      <td>108905.09</td>\n",
              "      <td>False</td>\n",
              "      <td>молодой</td>\n",
              "    </tr>\n",
              "    <tr>\n",
              "      <th>9998</th>\n",
              "      <td>148700</td>\n",
              "      <td>777.0</td>\n",
              "      <td>Ярославль</td>\n",
              "      <td>Ж</td>\n",
              "      <td>68.0</td>\n",
              "      <td>3</td>\n",
              "      <td>865457.97</td>\n",
              "      <td>3</td>\n",
              "      <td>False</td>\n",
              "      <td>True</td>\n",
              "      <td>86874.90</td>\n",
              "      <td>False</td>\n",
              "      <td>старый</td>\n",
              "    </tr>\n",
              "    <tr>\n",
              "      <th>9999</th>\n",
              "      <td>96267</td>\n",
              "      <td>828.0</td>\n",
              "      <td>Рыбинск</td>\n",
              "      <td>Ж</td>\n",
              "      <td>58.0</td>\n",
              "      <td>3</td>\n",
              "      <td>1180886.70</td>\n",
              "      <td>4</td>\n",
              "      <td>False</td>\n",
              "      <td>True</td>\n",
              "      <td>21422.37</td>\n",
              "      <td>False</td>\n",
              "      <td>взрослый</td>\n",
              "    </tr>\n",
              "  </tbody>\n",
              "</table>\n",
              "<p>10000 rows × 13 columns</p>\n",
              "</div>"
            ],
            "text/plain": [
              "      user_id  score       city gender   age  equity     balance  products  \\\n",
              "0      183012  850.0    Рыбинск      Ж  25.0       1    59214.82         2   \n",
              "1      146556  861.0    Рыбинск      Ж  37.0       5   850594.33         3   \n",
              "2      120722  892.0    Рыбинск      Ж  30.0       0         NaN         1   \n",
              "3      225363  866.0  Ярославль      Ж  51.0       5  1524746.26         2   \n",
              "4      157978  730.0  Ярославль      М  34.0       5      174.00         1   \n",
              "...       ...    ...        ...    ...   ...     ...         ...       ...   \n",
              "9995   120553  814.0    Рыбинск      М  27.0       1    78144.65         1   \n",
              "9996   139170  894.0  Ярославль      М  46.0       0         NaN         1   \n",
              "9997   115639  903.0  Ярославль      М  24.0       0         NaN         2   \n",
              "9998   148700  777.0  Ярославль      Ж  68.0       3   865457.97         3   \n",
              "9999    96267  828.0    Рыбинск      Ж  58.0       3  1180886.70         4   \n",
              "\n",
              "      credit_card  last_activity  est_salary  churn age_category  \n",
              "0           False           True    75719.14   True      молодой  \n",
              "1            True          False    86621.77  False     взрослый  \n",
              "2            True           True   107683.34  False      молодой  \n",
              "3           False           True   174423.53   True     взрослый  \n",
              "4            True          False    67353.16   True      молодой  \n",
              "...           ...            ...         ...    ...          ...  \n",
              "9995        False           True    18943.64  False      молодой  \n",
              "9996         True          False   196898.29  False     взрослый  \n",
              "9997         True           True   108905.09  False      молодой  \n",
              "9998        False           True    86874.90  False       старый  \n",
              "9999        False           True    21422.37  False     взрослый  \n",
              "\n",
              "[10000 rows x 13 columns]"
            ]
          },
          "execution_count": 152,
          "metadata": {},
          "output_type": "execute_result"
        }
      ],
      "source": [
        "#проверка создания столбца с категориями\n",
        "df"
      ]
    },
    {
      "cell_type": "markdown",
      "metadata": {
        "id": "_LEuDUVW52DJ"
      },
      "source": [
        "#### Категоризация клиентов по заработной плате"
      ]
    },
    {
      "cell_type": "code",
      "execution_count": null,
      "metadata": {
        "id": "A3rMxTCY52DJ",
        "outputId": "632c1f1f-9f93-4ad8-f844-b57304c05816"
      },
      "outputs": [
        {
          "data": {
            "text/plain": [
              "count    1.000000e+04\n",
              "mean     1.478669e+05\n",
              "std      1.393885e+05\n",
              "min      2.546300e+03\n",
              "25%      7.525190e+04\n",
              "50%      1.196581e+05\n",
              "75%      1.745005e+05\n",
              "max      1.395064e+06\n",
              "Name: est_salary, dtype: float64"
            ]
          },
          "execution_count": 153,
          "metadata": {},
          "output_type": "execute_result"
        }
      ],
      "source": [
        "#описательная статистика для столбца, чтобы определить для него категории\n",
        "df['est_salary'].describe()"
      ]
    },
    {
      "cell_type": "code",
      "execution_count": null,
      "metadata": {
        "id": "REM1YwpN52DJ"
      },
      "outputs": [],
      "source": [
        "#функция для категоризации данных\n",
        "def categorize_est_salary(income):\n",
        "    try:\n",
        "        if  income <= 50000:\n",
        "            return 'низкий достаток'\n",
        "        elif 50001 <= income <= 100000:\n",
        "            return 'средний достаток'\n",
        "        elif income >= 100001:\n",
        "            return 'высокий достаток'\n",
        "    except:\n",
        "        pass"
      ]
    },
    {
      "cell_type": "code",
      "execution_count": null,
      "metadata": {
        "id": "Ofy3tBff52DK",
        "outputId": "2855b220-a2dc-4af1-db46-8ae13615db08"
      },
      "outputs": [
        {
          "data": {
            "text/html": [
              "<div>\n",
              "<style scoped>\n",
              "    .dataframe tbody tr th:only-of-type {\n",
              "        vertical-align: middle;\n",
              "    }\n",
              "\n",
              "    .dataframe tbody tr th {\n",
              "        vertical-align: top;\n",
              "    }\n",
              "\n",
              "    .dataframe thead th {\n",
              "        text-align: right;\n",
              "    }\n",
              "</style>\n",
              "<table border=\"1\" class=\"dataframe\">\n",
              "  <thead>\n",
              "    <tr style=\"text-align: right;\">\n",
              "      <th></th>\n",
              "      <th>user_id</th>\n",
              "      <th>score</th>\n",
              "      <th>city</th>\n",
              "      <th>gender</th>\n",
              "      <th>age</th>\n",
              "      <th>equity</th>\n",
              "      <th>balance</th>\n",
              "      <th>products</th>\n",
              "      <th>credit_card</th>\n",
              "      <th>last_activity</th>\n",
              "      <th>est_salary</th>\n",
              "      <th>churn</th>\n",
              "      <th>age_category</th>\n",
              "      <th>est_salary_category</th>\n",
              "    </tr>\n",
              "  </thead>\n",
              "  <tbody>\n",
              "    <tr>\n",
              "      <th>0</th>\n",
              "      <td>183012</td>\n",
              "      <td>850.0</td>\n",
              "      <td>Рыбинск</td>\n",
              "      <td>Ж</td>\n",
              "      <td>25.0</td>\n",
              "      <td>1</td>\n",
              "      <td>59214.82</td>\n",
              "      <td>2</td>\n",
              "      <td>False</td>\n",
              "      <td>True</td>\n",
              "      <td>75719.14</td>\n",
              "      <td>True</td>\n",
              "      <td>молодой</td>\n",
              "      <td>средний достаток</td>\n",
              "    </tr>\n",
              "    <tr>\n",
              "      <th>1</th>\n",
              "      <td>146556</td>\n",
              "      <td>861.0</td>\n",
              "      <td>Рыбинск</td>\n",
              "      <td>Ж</td>\n",
              "      <td>37.0</td>\n",
              "      <td>5</td>\n",
              "      <td>850594.33</td>\n",
              "      <td>3</td>\n",
              "      <td>True</td>\n",
              "      <td>False</td>\n",
              "      <td>86621.77</td>\n",
              "      <td>False</td>\n",
              "      <td>взрослый</td>\n",
              "      <td>средний достаток</td>\n",
              "    </tr>\n",
              "    <tr>\n",
              "      <th>2</th>\n",
              "      <td>120722</td>\n",
              "      <td>892.0</td>\n",
              "      <td>Рыбинск</td>\n",
              "      <td>Ж</td>\n",
              "      <td>30.0</td>\n",
              "      <td>0</td>\n",
              "      <td>NaN</td>\n",
              "      <td>1</td>\n",
              "      <td>True</td>\n",
              "      <td>True</td>\n",
              "      <td>107683.34</td>\n",
              "      <td>False</td>\n",
              "      <td>молодой</td>\n",
              "      <td>высокий достаток</td>\n",
              "    </tr>\n",
              "    <tr>\n",
              "      <th>3</th>\n",
              "      <td>225363</td>\n",
              "      <td>866.0</td>\n",
              "      <td>Ярославль</td>\n",
              "      <td>Ж</td>\n",
              "      <td>51.0</td>\n",
              "      <td>5</td>\n",
              "      <td>1524746.26</td>\n",
              "      <td>2</td>\n",
              "      <td>False</td>\n",
              "      <td>True</td>\n",
              "      <td>174423.53</td>\n",
              "      <td>True</td>\n",
              "      <td>взрослый</td>\n",
              "      <td>высокий достаток</td>\n",
              "    </tr>\n",
              "    <tr>\n",
              "      <th>4</th>\n",
              "      <td>157978</td>\n",
              "      <td>730.0</td>\n",
              "      <td>Ярославль</td>\n",
              "      <td>М</td>\n",
              "      <td>34.0</td>\n",
              "      <td>5</td>\n",
              "      <td>174.00</td>\n",
              "      <td>1</td>\n",
              "      <td>True</td>\n",
              "      <td>False</td>\n",
              "      <td>67353.16</td>\n",
              "      <td>True</td>\n",
              "      <td>молодой</td>\n",
              "      <td>средний достаток</td>\n",
              "    </tr>\n",
              "    <tr>\n",
              "      <th>...</th>\n",
              "      <td>...</td>\n",
              "      <td>...</td>\n",
              "      <td>...</td>\n",
              "      <td>...</td>\n",
              "      <td>...</td>\n",
              "      <td>...</td>\n",
              "      <td>...</td>\n",
              "      <td>...</td>\n",
              "      <td>...</td>\n",
              "      <td>...</td>\n",
              "      <td>...</td>\n",
              "      <td>...</td>\n",
              "      <td>...</td>\n",
              "      <td>...</td>\n",
              "    </tr>\n",
              "    <tr>\n",
              "      <th>9995</th>\n",
              "      <td>120553</td>\n",
              "      <td>814.0</td>\n",
              "      <td>Рыбинск</td>\n",
              "      <td>М</td>\n",
              "      <td>27.0</td>\n",
              "      <td>1</td>\n",
              "      <td>78144.65</td>\n",
              "      <td>1</td>\n",
              "      <td>False</td>\n",
              "      <td>True</td>\n",
              "      <td>18943.64</td>\n",
              "      <td>False</td>\n",
              "      <td>молодой</td>\n",
              "      <td>низкий достаток</td>\n",
              "    </tr>\n",
              "    <tr>\n",
              "      <th>9996</th>\n",
              "      <td>139170</td>\n",
              "      <td>894.0</td>\n",
              "      <td>Ярославль</td>\n",
              "      <td>М</td>\n",
              "      <td>46.0</td>\n",
              "      <td>0</td>\n",
              "      <td>NaN</td>\n",
              "      <td>1</td>\n",
              "      <td>True</td>\n",
              "      <td>False</td>\n",
              "      <td>196898.29</td>\n",
              "      <td>False</td>\n",
              "      <td>взрослый</td>\n",
              "      <td>высокий достаток</td>\n",
              "    </tr>\n",
              "    <tr>\n",
              "      <th>9997</th>\n",
              "      <td>115639</td>\n",
              "      <td>903.0</td>\n",
              "      <td>Ярославль</td>\n",
              "      <td>М</td>\n",
              "      <td>24.0</td>\n",
              "      <td>0</td>\n",
              "      <td>NaN</td>\n",
              "      <td>2</td>\n",
              "      <td>True</td>\n",
              "      <td>True</td>\n",
              "      <td>108905.09</td>\n",
              "      <td>False</td>\n",
              "      <td>молодой</td>\n",
              "      <td>высокий достаток</td>\n",
              "    </tr>\n",
              "    <tr>\n",
              "      <th>9998</th>\n",
              "      <td>148700</td>\n",
              "      <td>777.0</td>\n",
              "      <td>Ярославль</td>\n",
              "      <td>Ж</td>\n",
              "      <td>68.0</td>\n",
              "      <td>3</td>\n",
              "      <td>865457.97</td>\n",
              "      <td>3</td>\n",
              "      <td>False</td>\n",
              "      <td>True</td>\n",
              "      <td>86874.90</td>\n",
              "      <td>False</td>\n",
              "      <td>старый</td>\n",
              "      <td>средний достаток</td>\n",
              "    </tr>\n",
              "    <tr>\n",
              "      <th>9999</th>\n",
              "      <td>96267</td>\n",
              "      <td>828.0</td>\n",
              "      <td>Рыбинск</td>\n",
              "      <td>Ж</td>\n",
              "      <td>58.0</td>\n",
              "      <td>3</td>\n",
              "      <td>1180886.70</td>\n",
              "      <td>4</td>\n",
              "      <td>False</td>\n",
              "      <td>True</td>\n",
              "      <td>21422.37</td>\n",
              "      <td>False</td>\n",
              "      <td>взрослый</td>\n",
              "      <td>низкий достаток</td>\n",
              "    </tr>\n",
              "  </tbody>\n",
              "</table>\n",
              "<p>10000 rows × 14 columns</p>\n",
              "</div>"
            ],
            "text/plain": [
              "      user_id  score       city gender   age  equity     balance  products  \\\n",
              "0      183012  850.0    Рыбинск      Ж  25.0       1    59214.82         2   \n",
              "1      146556  861.0    Рыбинск      Ж  37.0       5   850594.33         3   \n",
              "2      120722  892.0    Рыбинск      Ж  30.0       0         NaN         1   \n",
              "3      225363  866.0  Ярославль      Ж  51.0       5  1524746.26         2   \n",
              "4      157978  730.0  Ярославль      М  34.0       5      174.00         1   \n",
              "...       ...    ...        ...    ...   ...     ...         ...       ...   \n",
              "9995   120553  814.0    Рыбинск      М  27.0       1    78144.65         1   \n",
              "9996   139170  894.0  Ярославль      М  46.0       0         NaN         1   \n",
              "9997   115639  903.0  Ярославль      М  24.0       0         NaN         2   \n",
              "9998   148700  777.0  Ярославль      Ж  68.0       3   865457.97         3   \n",
              "9999    96267  828.0    Рыбинск      Ж  58.0       3  1180886.70         4   \n",
              "\n",
              "      credit_card  last_activity  est_salary  churn age_category  \\\n",
              "0           False           True    75719.14   True      молодой   \n",
              "1            True          False    86621.77  False     взрослый   \n",
              "2            True           True   107683.34  False      молодой   \n",
              "3           False           True   174423.53   True     взрослый   \n",
              "4            True          False    67353.16   True      молодой   \n",
              "...           ...            ...         ...    ...          ...   \n",
              "9995        False           True    18943.64  False      молодой   \n",
              "9996         True          False   196898.29  False     взрослый   \n",
              "9997         True           True   108905.09  False      молодой   \n",
              "9998        False           True    86874.90  False       старый   \n",
              "9999        False           True    21422.37  False     взрослый   \n",
              "\n",
              "     est_salary_category  \n",
              "0       средний достаток  \n",
              "1       средний достаток  \n",
              "2       высокий достаток  \n",
              "3       высокий достаток  \n",
              "4       средний достаток  \n",
              "...                  ...  \n",
              "9995     низкий достаток  \n",
              "9996    высокий достаток  \n",
              "9997    высокий достаток  \n",
              "9998    средний достаток  \n",
              "9999     низкий достаток  \n",
              "\n",
              "[10000 rows x 14 columns]"
            ]
          },
          "execution_count": 155,
          "metadata": {},
          "output_type": "execute_result"
        }
      ],
      "source": [
        "#применение функции для категоризации данных в таблице и проверка создания столбца с категориями\n",
        "df['est_salary_category'] = df['est_salary'].apply(categorize_est_salary)\n",
        "df"
      ]
    },
    {
      "cell_type": "markdown",
      "metadata": {
        "id": "Y8L0Vym-52DX"
      },
      "source": [
        "#### Категоризация клиентов по количеству используемых продуктов"
      ]
    },
    {
      "cell_type": "code",
      "execution_count": null,
      "metadata": {
        "id": "J2mRuhBa52DX",
        "outputId": "5b950de7-9e36-434b-c6cc-880e40afeafd"
      },
      "outputs": [
        {
          "data": {
            "text/plain": [
              "count    10000.000000\n",
              "mean         1.870100\n",
              "std          0.792647\n",
              "min          0.000000\n",
              "25%          1.000000\n",
              "50%          2.000000\n",
              "75%          2.000000\n",
              "max          5.000000\n",
              "Name: products, dtype: float64"
            ]
          },
          "execution_count": 156,
          "metadata": {},
          "output_type": "execute_result"
        }
      ],
      "source": [
        "#описательная статистика для столбца, чтобы определить для него категории\n",
        "df['products'].describe()"
      ]
    },
    {
      "cell_type": "code",
      "execution_count": null,
      "metadata": {
        "id": "Be0c6aRq52DY",
        "outputId": "0fc6d9f8-56ec-4362-a1f1-99662eb52fbf"
      },
      "outputs": [
        {
          "data": {
            "text/plain": [
              "array([2, 3, 1, 4, 5, 0])"
            ]
          },
          "execution_count": 157,
          "metadata": {},
          "output_type": "execute_result"
        }
      ],
      "source": [
        "#чтобы категоризовать, посмотрим уникальные значения в столбце\n",
        "df['products'].unique()"
      ]
    },
    {
      "cell_type": "code",
      "execution_count": null,
      "metadata": {
        "id": "CsjC4K7752DY"
      },
      "outputs": [],
      "source": [
        "#функция для категоризации данных\n",
        "def categorize_products(income):\n",
        "    try:\n",
        "        if  income <= 0:\n",
        "            return 'нет продуктов'\n",
        "        elif 1 <= income <= 2:\n",
        "            return '1-2 продукта'\n",
        "        elif income >= 3:\n",
        "            return '3-5 продуктов'\n",
        "    except:\n",
        "        pass"
      ]
    },
    {
      "cell_type": "code",
      "execution_count": null,
      "metadata": {
        "id": "1BF1WNhP52DY",
        "outputId": "7bfdaba1-7a33-4d84-f92c-ff355cdb91be"
      },
      "outputs": [
        {
          "data": {
            "text/html": [
              "<div>\n",
              "<style scoped>\n",
              "    .dataframe tbody tr th:only-of-type {\n",
              "        vertical-align: middle;\n",
              "    }\n",
              "\n",
              "    .dataframe tbody tr th {\n",
              "        vertical-align: top;\n",
              "    }\n",
              "\n",
              "    .dataframe thead th {\n",
              "        text-align: right;\n",
              "    }\n",
              "</style>\n",
              "<table border=\"1\" class=\"dataframe\">\n",
              "  <thead>\n",
              "    <tr style=\"text-align: right;\">\n",
              "      <th></th>\n",
              "      <th>user_id</th>\n",
              "      <th>score</th>\n",
              "      <th>city</th>\n",
              "      <th>gender</th>\n",
              "      <th>age</th>\n",
              "      <th>equity</th>\n",
              "      <th>balance</th>\n",
              "      <th>products</th>\n",
              "      <th>credit_card</th>\n",
              "      <th>last_activity</th>\n",
              "      <th>est_salary</th>\n",
              "      <th>churn</th>\n",
              "      <th>age_category</th>\n",
              "      <th>est_salary_category</th>\n",
              "      <th>products_category</th>\n",
              "    </tr>\n",
              "  </thead>\n",
              "  <tbody>\n",
              "    <tr>\n",
              "      <th>0</th>\n",
              "      <td>183012</td>\n",
              "      <td>850.0</td>\n",
              "      <td>Рыбинск</td>\n",
              "      <td>Ж</td>\n",
              "      <td>25.0</td>\n",
              "      <td>1</td>\n",
              "      <td>59214.82</td>\n",
              "      <td>2</td>\n",
              "      <td>False</td>\n",
              "      <td>True</td>\n",
              "      <td>75719.14</td>\n",
              "      <td>True</td>\n",
              "      <td>молодой</td>\n",
              "      <td>средний достаток</td>\n",
              "      <td>1-2 продукта</td>\n",
              "    </tr>\n",
              "    <tr>\n",
              "      <th>1</th>\n",
              "      <td>146556</td>\n",
              "      <td>861.0</td>\n",
              "      <td>Рыбинск</td>\n",
              "      <td>Ж</td>\n",
              "      <td>37.0</td>\n",
              "      <td>5</td>\n",
              "      <td>850594.33</td>\n",
              "      <td>3</td>\n",
              "      <td>True</td>\n",
              "      <td>False</td>\n",
              "      <td>86621.77</td>\n",
              "      <td>False</td>\n",
              "      <td>взрослый</td>\n",
              "      <td>средний достаток</td>\n",
              "      <td>3-5 продуктов</td>\n",
              "    </tr>\n",
              "    <tr>\n",
              "      <th>2</th>\n",
              "      <td>120722</td>\n",
              "      <td>892.0</td>\n",
              "      <td>Рыбинск</td>\n",
              "      <td>Ж</td>\n",
              "      <td>30.0</td>\n",
              "      <td>0</td>\n",
              "      <td>NaN</td>\n",
              "      <td>1</td>\n",
              "      <td>True</td>\n",
              "      <td>True</td>\n",
              "      <td>107683.34</td>\n",
              "      <td>False</td>\n",
              "      <td>молодой</td>\n",
              "      <td>высокий достаток</td>\n",
              "      <td>1-2 продукта</td>\n",
              "    </tr>\n",
              "    <tr>\n",
              "      <th>3</th>\n",
              "      <td>225363</td>\n",
              "      <td>866.0</td>\n",
              "      <td>Ярославль</td>\n",
              "      <td>Ж</td>\n",
              "      <td>51.0</td>\n",
              "      <td>5</td>\n",
              "      <td>1524746.26</td>\n",
              "      <td>2</td>\n",
              "      <td>False</td>\n",
              "      <td>True</td>\n",
              "      <td>174423.53</td>\n",
              "      <td>True</td>\n",
              "      <td>взрослый</td>\n",
              "      <td>высокий достаток</td>\n",
              "      <td>1-2 продукта</td>\n",
              "    </tr>\n",
              "    <tr>\n",
              "      <th>4</th>\n",
              "      <td>157978</td>\n",
              "      <td>730.0</td>\n",
              "      <td>Ярославль</td>\n",
              "      <td>М</td>\n",
              "      <td>34.0</td>\n",
              "      <td>5</td>\n",
              "      <td>174.00</td>\n",
              "      <td>1</td>\n",
              "      <td>True</td>\n",
              "      <td>False</td>\n",
              "      <td>67353.16</td>\n",
              "      <td>True</td>\n",
              "      <td>молодой</td>\n",
              "      <td>средний достаток</td>\n",
              "      <td>1-2 продукта</td>\n",
              "    </tr>\n",
              "    <tr>\n",
              "      <th>...</th>\n",
              "      <td>...</td>\n",
              "      <td>...</td>\n",
              "      <td>...</td>\n",
              "      <td>...</td>\n",
              "      <td>...</td>\n",
              "      <td>...</td>\n",
              "      <td>...</td>\n",
              "      <td>...</td>\n",
              "      <td>...</td>\n",
              "      <td>...</td>\n",
              "      <td>...</td>\n",
              "      <td>...</td>\n",
              "      <td>...</td>\n",
              "      <td>...</td>\n",
              "      <td>...</td>\n",
              "    </tr>\n",
              "    <tr>\n",
              "      <th>9995</th>\n",
              "      <td>120553</td>\n",
              "      <td>814.0</td>\n",
              "      <td>Рыбинск</td>\n",
              "      <td>М</td>\n",
              "      <td>27.0</td>\n",
              "      <td>1</td>\n",
              "      <td>78144.65</td>\n",
              "      <td>1</td>\n",
              "      <td>False</td>\n",
              "      <td>True</td>\n",
              "      <td>18943.64</td>\n",
              "      <td>False</td>\n",
              "      <td>молодой</td>\n",
              "      <td>низкий достаток</td>\n",
              "      <td>1-2 продукта</td>\n",
              "    </tr>\n",
              "    <tr>\n",
              "      <th>9996</th>\n",
              "      <td>139170</td>\n",
              "      <td>894.0</td>\n",
              "      <td>Ярославль</td>\n",
              "      <td>М</td>\n",
              "      <td>46.0</td>\n",
              "      <td>0</td>\n",
              "      <td>NaN</td>\n",
              "      <td>1</td>\n",
              "      <td>True</td>\n",
              "      <td>False</td>\n",
              "      <td>196898.29</td>\n",
              "      <td>False</td>\n",
              "      <td>взрослый</td>\n",
              "      <td>высокий достаток</td>\n",
              "      <td>1-2 продукта</td>\n",
              "    </tr>\n",
              "    <tr>\n",
              "      <th>9997</th>\n",
              "      <td>115639</td>\n",
              "      <td>903.0</td>\n",
              "      <td>Ярославль</td>\n",
              "      <td>М</td>\n",
              "      <td>24.0</td>\n",
              "      <td>0</td>\n",
              "      <td>NaN</td>\n",
              "      <td>2</td>\n",
              "      <td>True</td>\n",
              "      <td>True</td>\n",
              "      <td>108905.09</td>\n",
              "      <td>False</td>\n",
              "      <td>молодой</td>\n",
              "      <td>высокий достаток</td>\n",
              "      <td>1-2 продукта</td>\n",
              "    </tr>\n",
              "    <tr>\n",
              "      <th>9998</th>\n",
              "      <td>148700</td>\n",
              "      <td>777.0</td>\n",
              "      <td>Ярославль</td>\n",
              "      <td>Ж</td>\n",
              "      <td>68.0</td>\n",
              "      <td>3</td>\n",
              "      <td>865457.97</td>\n",
              "      <td>3</td>\n",
              "      <td>False</td>\n",
              "      <td>True</td>\n",
              "      <td>86874.90</td>\n",
              "      <td>False</td>\n",
              "      <td>старый</td>\n",
              "      <td>средний достаток</td>\n",
              "      <td>3-5 продуктов</td>\n",
              "    </tr>\n",
              "    <tr>\n",
              "      <th>9999</th>\n",
              "      <td>96267</td>\n",
              "      <td>828.0</td>\n",
              "      <td>Рыбинск</td>\n",
              "      <td>Ж</td>\n",
              "      <td>58.0</td>\n",
              "      <td>3</td>\n",
              "      <td>1180886.70</td>\n",
              "      <td>4</td>\n",
              "      <td>False</td>\n",
              "      <td>True</td>\n",
              "      <td>21422.37</td>\n",
              "      <td>False</td>\n",
              "      <td>взрослый</td>\n",
              "      <td>низкий достаток</td>\n",
              "      <td>3-5 продуктов</td>\n",
              "    </tr>\n",
              "  </tbody>\n",
              "</table>\n",
              "<p>10000 rows × 15 columns</p>\n",
              "</div>"
            ],
            "text/plain": [
              "      user_id  score       city gender   age  equity     balance  products  \\\n",
              "0      183012  850.0    Рыбинск      Ж  25.0       1    59214.82         2   \n",
              "1      146556  861.0    Рыбинск      Ж  37.0       5   850594.33         3   \n",
              "2      120722  892.0    Рыбинск      Ж  30.0       0         NaN         1   \n",
              "3      225363  866.0  Ярославль      Ж  51.0       5  1524746.26         2   \n",
              "4      157978  730.0  Ярославль      М  34.0       5      174.00         1   \n",
              "...       ...    ...        ...    ...   ...     ...         ...       ...   \n",
              "9995   120553  814.0    Рыбинск      М  27.0       1    78144.65         1   \n",
              "9996   139170  894.0  Ярославль      М  46.0       0         NaN         1   \n",
              "9997   115639  903.0  Ярославль      М  24.0       0         NaN         2   \n",
              "9998   148700  777.0  Ярославль      Ж  68.0       3   865457.97         3   \n",
              "9999    96267  828.0    Рыбинск      Ж  58.0       3  1180886.70         4   \n",
              "\n",
              "      credit_card  last_activity  est_salary  churn age_category  \\\n",
              "0           False           True    75719.14   True      молодой   \n",
              "1            True          False    86621.77  False     взрослый   \n",
              "2            True           True   107683.34  False      молодой   \n",
              "3           False           True   174423.53   True     взрослый   \n",
              "4            True          False    67353.16   True      молодой   \n",
              "...           ...            ...         ...    ...          ...   \n",
              "9995        False           True    18943.64  False      молодой   \n",
              "9996         True          False   196898.29  False     взрослый   \n",
              "9997         True           True   108905.09  False      молодой   \n",
              "9998        False           True    86874.90  False       старый   \n",
              "9999        False           True    21422.37  False     взрослый   \n",
              "\n",
              "     est_salary_category products_category  \n",
              "0       средний достаток      1-2 продукта  \n",
              "1       средний достаток     3-5 продуктов  \n",
              "2       высокий достаток      1-2 продукта  \n",
              "3       высокий достаток      1-2 продукта  \n",
              "4       средний достаток      1-2 продукта  \n",
              "...                  ...               ...  \n",
              "9995     низкий достаток      1-2 продукта  \n",
              "9996    высокий достаток      1-2 продукта  \n",
              "9997    высокий достаток      1-2 продукта  \n",
              "9998    средний достаток     3-5 продуктов  \n",
              "9999     низкий достаток     3-5 продуктов  \n",
              "\n",
              "[10000 rows x 15 columns]"
            ]
          },
          "execution_count": 159,
          "metadata": {},
          "output_type": "execute_result"
        }
      ],
      "source": [
        "#применение функции для категоризации данных в таблице и проверка создания столбца с категориями\n",
        "df['products_category'] = df['products'].apply(categorize_products)\n",
        "df"
      ]
    },
    {
      "cell_type": "markdown",
      "metadata": {
        "id": "OJPP1ZVI52DZ"
      },
      "source": [
        "#### Категоризация клиентов по банковскому скорингу"
      ]
    },
    {
      "cell_type": "code",
      "execution_count": null,
      "metadata": {
        "id": "lD64bYVL52DZ",
        "outputId": "f8ce119b-5362-4033-a9d8-0544259650dd"
      },
      "outputs": [
        {
          "data": {
            "text/plain": [
              "count    10000.000000\n",
              "mean       848.699400\n",
              "std         65.448519\n",
              "min        642.000000\n",
              "25%        802.000000\n",
              "50%        853.000000\n",
              "75%        900.000000\n",
              "max       1000.000000\n",
              "Name: score, dtype: float64"
            ]
          },
          "execution_count": 160,
          "metadata": {},
          "output_type": "execute_result"
        }
      ],
      "source": [
        "#описательная статистика для столбца, чтобы определить для него категории\n",
        "df['score'].describe()"
      ]
    },
    {
      "cell_type": "code",
      "execution_count": null,
      "metadata": {
        "id": "64WWsnCi52DZ"
      },
      "outputs": [],
      "source": [
        "#функция для категоризации данных\n",
        "def categorize_score(income):\n",
        "    try:\n",
        "        if  income <= 595:\n",
        "            return 'очень плохой'\n",
        "        elif 596 <= income <= 765:\n",
        "            return 'плохой'\n",
        "        elif 766 <= income <= 895:\n",
        "            return 'средний'\n",
        "        elif 896<= income <= 950:\n",
        "            return 'хороший'\n",
        "        elif income >= 951:\n",
        "            return 'очень хороший'\n",
        "    except:\n",
        "        pass"
      ]
    },
    {
      "cell_type": "code",
      "execution_count": null,
      "metadata": {
        "id": "opmw3f3A52Da",
        "outputId": "6f981e56-b122-4213-8514-61b1728c584e"
      },
      "outputs": [
        {
          "data": {
            "text/html": [
              "<div>\n",
              "<style scoped>\n",
              "    .dataframe tbody tr th:only-of-type {\n",
              "        vertical-align: middle;\n",
              "    }\n",
              "\n",
              "    .dataframe tbody tr th {\n",
              "        vertical-align: top;\n",
              "    }\n",
              "\n",
              "    .dataframe thead th {\n",
              "        text-align: right;\n",
              "    }\n",
              "</style>\n",
              "<table border=\"1\" class=\"dataframe\">\n",
              "  <thead>\n",
              "    <tr style=\"text-align: right;\">\n",
              "      <th></th>\n",
              "      <th>user_id</th>\n",
              "      <th>score</th>\n",
              "      <th>city</th>\n",
              "      <th>gender</th>\n",
              "      <th>age</th>\n",
              "      <th>equity</th>\n",
              "      <th>balance</th>\n",
              "      <th>products</th>\n",
              "      <th>credit_card</th>\n",
              "      <th>last_activity</th>\n",
              "      <th>est_salary</th>\n",
              "      <th>churn</th>\n",
              "      <th>age_category</th>\n",
              "      <th>est_salary_category</th>\n",
              "      <th>products_category</th>\n",
              "      <th>score_category</th>\n",
              "    </tr>\n",
              "  </thead>\n",
              "  <tbody>\n",
              "    <tr>\n",
              "      <th>0</th>\n",
              "      <td>183012</td>\n",
              "      <td>850.0</td>\n",
              "      <td>Рыбинск</td>\n",
              "      <td>Ж</td>\n",
              "      <td>25.0</td>\n",
              "      <td>1</td>\n",
              "      <td>59214.82</td>\n",
              "      <td>2</td>\n",
              "      <td>False</td>\n",
              "      <td>True</td>\n",
              "      <td>75719.14</td>\n",
              "      <td>True</td>\n",
              "      <td>молодой</td>\n",
              "      <td>средний достаток</td>\n",
              "      <td>1-2 продукта</td>\n",
              "      <td>средний</td>\n",
              "    </tr>\n",
              "    <tr>\n",
              "      <th>1</th>\n",
              "      <td>146556</td>\n",
              "      <td>861.0</td>\n",
              "      <td>Рыбинск</td>\n",
              "      <td>Ж</td>\n",
              "      <td>37.0</td>\n",
              "      <td>5</td>\n",
              "      <td>850594.33</td>\n",
              "      <td>3</td>\n",
              "      <td>True</td>\n",
              "      <td>False</td>\n",
              "      <td>86621.77</td>\n",
              "      <td>False</td>\n",
              "      <td>взрослый</td>\n",
              "      <td>средний достаток</td>\n",
              "      <td>3-5 продуктов</td>\n",
              "      <td>средний</td>\n",
              "    </tr>\n",
              "    <tr>\n",
              "      <th>2</th>\n",
              "      <td>120722</td>\n",
              "      <td>892.0</td>\n",
              "      <td>Рыбинск</td>\n",
              "      <td>Ж</td>\n",
              "      <td>30.0</td>\n",
              "      <td>0</td>\n",
              "      <td>NaN</td>\n",
              "      <td>1</td>\n",
              "      <td>True</td>\n",
              "      <td>True</td>\n",
              "      <td>107683.34</td>\n",
              "      <td>False</td>\n",
              "      <td>молодой</td>\n",
              "      <td>высокий достаток</td>\n",
              "      <td>1-2 продукта</td>\n",
              "      <td>средний</td>\n",
              "    </tr>\n",
              "    <tr>\n",
              "      <th>3</th>\n",
              "      <td>225363</td>\n",
              "      <td>866.0</td>\n",
              "      <td>Ярославль</td>\n",
              "      <td>Ж</td>\n",
              "      <td>51.0</td>\n",
              "      <td>5</td>\n",
              "      <td>1524746.26</td>\n",
              "      <td>2</td>\n",
              "      <td>False</td>\n",
              "      <td>True</td>\n",
              "      <td>174423.53</td>\n",
              "      <td>True</td>\n",
              "      <td>взрослый</td>\n",
              "      <td>высокий достаток</td>\n",
              "      <td>1-2 продукта</td>\n",
              "      <td>средний</td>\n",
              "    </tr>\n",
              "    <tr>\n",
              "      <th>4</th>\n",
              "      <td>157978</td>\n",
              "      <td>730.0</td>\n",
              "      <td>Ярославль</td>\n",
              "      <td>М</td>\n",
              "      <td>34.0</td>\n",
              "      <td>5</td>\n",
              "      <td>174.00</td>\n",
              "      <td>1</td>\n",
              "      <td>True</td>\n",
              "      <td>False</td>\n",
              "      <td>67353.16</td>\n",
              "      <td>True</td>\n",
              "      <td>молодой</td>\n",
              "      <td>средний достаток</td>\n",
              "      <td>1-2 продукта</td>\n",
              "      <td>плохой</td>\n",
              "    </tr>\n",
              "    <tr>\n",
              "      <th>...</th>\n",
              "      <td>...</td>\n",
              "      <td>...</td>\n",
              "      <td>...</td>\n",
              "      <td>...</td>\n",
              "      <td>...</td>\n",
              "      <td>...</td>\n",
              "      <td>...</td>\n",
              "      <td>...</td>\n",
              "      <td>...</td>\n",
              "      <td>...</td>\n",
              "      <td>...</td>\n",
              "      <td>...</td>\n",
              "      <td>...</td>\n",
              "      <td>...</td>\n",
              "      <td>...</td>\n",
              "      <td>...</td>\n",
              "    </tr>\n",
              "    <tr>\n",
              "      <th>9995</th>\n",
              "      <td>120553</td>\n",
              "      <td>814.0</td>\n",
              "      <td>Рыбинск</td>\n",
              "      <td>М</td>\n",
              "      <td>27.0</td>\n",
              "      <td>1</td>\n",
              "      <td>78144.65</td>\n",
              "      <td>1</td>\n",
              "      <td>False</td>\n",
              "      <td>True</td>\n",
              "      <td>18943.64</td>\n",
              "      <td>False</td>\n",
              "      <td>молодой</td>\n",
              "      <td>низкий достаток</td>\n",
              "      <td>1-2 продукта</td>\n",
              "      <td>средний</td>\n",
              "    </tr>\n",
              "    <tr>\n",
              "      <th>9996</th>\n",
              "      <td>139170</td>\n",
              "      <td>894.0</td>\n",
              "      <td>Ярославль</td>\n",
              "      <td>М</td>\n",
              "      <td>46.0</td>\n",
              "      <td>0</td>\n",
              "      <td>NaN</td>\n",
              "      <td>1</td>\n",
              "      <td>True</td>\n",
              "      <td>False</td>\n",
              "      <td>196898.29</td>\n",
              "      <td>False</td>\n",
              "      <td>взрослый</td>\n",
              "      <td>высокий достаток</td>\n",
              "      <td>1-2 продукта</td>\n",
              "      <td>средний</td>\n",
              "    </tr>\n",
              "    <tr>\n",
              "      <th>9997</th>\n",
              "      <td>115639</td>\n",
              "      <td>903.0</td>\n",
              "      <td>Ярославль</td>\n",
              "      <td>М</td>\n",
              "      <td>24.0</td>\n",
              "      <td>0</td>\n",
              "      <td>NaN</td>\n",
              "      <td>2</td>\n",
              "      <td>True</td>\n",
              "      <td>True</td>\n",
              "      <td>108905.09</td>\n",
              "      <td>False</td>\n",
              "      <td>молодой</td>\n",
              "      <td>высокий достаток</td>\n",
              "      <td>1-2 продукта</td>\n",
              "      <td>хороший</td>\n",
              "    </tr>\n",
              "    <tr>\n",
              "      <th>9998</th>\n",
              "      <td>148700</td>\n",
              "      <td>777.0</td>\n",
              "      <td>Ярославль</td>\n",
              "      <td>Ж</td>\n",
              "      <td>68.0</td>\n",
              "      <td>3</td>\n",
              "      <td>865457.97</td>\n",
              "      <td>3</td>\n",
              "      <td>False</td>\n",
              "      <td>True</td>\n",
              "      <td>86874.90</td>\n",
              "      <td>False</td>\n",
              "      <td>старый</td>\n",
              "      <td>средний достаток</td>\n",
              "      <td>3-5 продуктов</td>\n",
              "      <td>средний</td>\n",
              "    </tr>\n",
              "    <tr>\n",
              "      <th>9999</th>\n",
              "      <td>96267</td>\n",
              "      <td>828.0</td>\n",
              "      <td>Рыбинск</td>\n",
              "      <td>Ж</td>\n",
              "      <td>58.0</td>\n",
              "      <td>3</td>\n",
              "      <td>1180886.70</td>\n",
              "      <td>4</td>\n",
              "      <td>False</td>\n",
              "      <td>True</td>\n",
              "      <td>21422.37</td>\n",
              "      <td>False</td>\n",
              "      <td>взрослый</td>\n",
              "      <td>низкий достаток</td>\n",
              "      <td>3-5 продуктов</td>\n",
              "      <td>средний</td>\n",
              "    </tr>\n",
              "  </tbody>\n",
              "</table>\n",
              "<p>10000 rows × 16 columns</p>\n",
              "</div>"
            ],
            "text/plain": [
              "      user_id  score       city gender   age  equity     balance  products  \\\n",
              "0      183012  850.0    Рыбинск      Ж  25.0       1    59214.82         2   \n",
              "1      146556  861.0    Рыбинск      Ж  37.0       5   850594.33         3   \n",
              "2      120722  892.0    Рыбинск      Ж  30.0       0         NaN         1   \n",
              "3      225363  866.0  Ярославль      Ж  51.0       5  1524746.26         2   \n",
              "4      157978  730.0  Ярославль      М  34.0       5      174.00         1   \n",
              "...       ...    ...        ...    ...   ...     ...         ...       ...   \n",
              "9995   120553  814.0    Рыбинск      М  27.0       1    78144.65         1   \n",
              "9996   139170  894.0  Ярославль      М  46.0       0         NaN         1   \n",
              "9997   115639  903.0  Ярославль      М  24.0       0         NaN         2   \n",
              "9998   148700  777.0  Ярославль      Ж  68.0       3   865457.97         3   \n",
              "9999    96267  828.0    Рыбинск      Ж  58.0       3  1180886.70         4   \n",
              "\n",
              "      credit_card  last_activity  est_salary  churn age_category  \\\n",
              "0           False           True    75719.14   True      молодой   \n",
              "1            True          False    86621.77  False     взрослый   \n",
              "2            True           True   107683.34  False      молодой   \n",
              "3           False           True   174423.53   True     взрослый   \n",
              "4            True          False    67353.16   True      молодой   \n",
              "...           ...            ...         ...    ...          ...   \n",
              "9995        False           True    18943.64  False      молодой   \n",
              "9996         True          False   196898.29  False     взрослый   \n",
              "9997         True           True   108905.09  False      молодой   \n",
              "9998        False           True    86874.90  False       старый   \n",
              "9999        False           True    21422.37  False     взрослый   \n",
              "\n",
              "     est_salary_category products_category score_category  \n",
              "0       средний достаток      1-2 продукта        средний  \n",
              "1       средний достаток     3-5 продуктов        средний  \n",
              "2       высокий достаток      1-2 продукта        средний  \n",
              "3       высокий достаток      1-2 продукта        средний  \n",
              "4       средний достаток      1-2 продукта         плохой  \n",
              "...                  ...               ...            ...  \n",
              "9995     низкий достаток      1-2 продукта        средний  \n",
              "9996    высокий достаток      1-2 продукта        средний  \n",
              "9997    высокий достаток      1-2 продукта        хороший  \n",
              "9998    средний достаток     3-5 продуктов        средний  \n",
              "9999     низкий достаток     3-5 продуктов        средний  \n",
              "\n",
              "[10000 rows x 16 columns]"
            ]
          },
          "execution_count": 162,
          "metadata": {},
          "output_type": "execute_result"
        }
      ],
      "source": [
        "#применение функции для категоризации данных в таблице и проверка создания столбца с категориями\n",
        "df['score_category'] = df['score'].apply(categorize_score)\n",
        "df"
      ]
    },
    {
      "cell_type": "markdown",
      "metadata": {
        "id": "WTGIBWZJ52Da"
      },
      "source": [
        "#### Категоризация клиентов по балансу на счете"
      ]
    },
    {
      "cell_type": "code",
      "execution_count": null,
      "metadata": {
        "id": "5q36T9as52Db",
        "outputId": "dfeb5c56-1712-4b8f-d6cf-d1127e13f269"
      },
      "outputs": [
        {
          "data": {
            "text/plain": [
              "count    7.705000e+03\n",
              "mean     8.277943e+05\n",
              "std      1.980614e+06\n",
              "min      0.000000e+00\n",
              "25%      2.955542e+05\n",
              "50%      5.242722e+05\n",
              "75%      9.807058e+05\n",
              "max      1.191136e+08\n",
              "Name: balance, dtype: float64"
            ]
          },
          "execution_count": 163,
          "metadata": {},
          "output_type": "execute_result"
        }
      ],
      "source": [
        "#описательная статистика для столбца, чтобы определить для него категории\n",
        "df['balance'].describe()"
      ]
    },
    {
      "cell_type": "code",
      "execution_count": null,
      "metadata": {
        "id": "dQ8bZ0k952Db",
        "outputId": "3762555d-f334-45f8-902a-2708df17fbec"
      },
      "outputs": [
        {
          "data": {
            "text/plain": [
              "<AxesSubplot:>"
            ]
          },
          "execution_count": 164,
          "metadata": {},
          "output_type": "execute_result"
        },
        {
          "data": {
            "image/png": "[encoded data removed]",
            "text/plain": [
              "<Figure size 1440x576 with 1 Axes>"
            ]
          },
          "metadata": {},
          "output_type": "display_data"
        }
      ],
      "source": [
        "#так как разница междц макс и мин значением большая, посмотрим как распределены значения\n",
        "df.boxplot(column=['balance'])"
      ]
    },
    {
      "cell_type": "code",
      "execution_count": null,
      "metadata": {
        "id": "wS2KhGyj52Db"
      },
      "outputs": [],
      "source": [
        "#функция для категоризации данных\n",
        "def categorize_balance(income):\n",
        "    try:\n",
        "        if  income <=10000:\n",
        "            return 'менее 10000'\n",
        "        elif 10001<= income <= 50000:\n",
        "            return '10000-50000'\n",
        "        elif 50001<= income <= 100000:\n",
        "            return '50000-100000'\n",
        "        elif income >= 100001:\n",
        "            return 'более 100000'\n",
        "    except:\n",
        "        pass"
      ]
    },
    {
      "cell_type": "code",
      "execution_count": null,
      "metadata": {
        "id": "_SibGn5u52Dc",
        "outputId": "3b361215-3c4e-40d6-ddc5-71c2fc24587a"
      },
      "outputs": [
        {
          "data": {
            "text/html": [
              "<div>\n",
              "<style scoped>\n",
              "    .dataframe tbody tr th:only-of-type {\n",
              "        vertical-align: middle;\n",
              "    }\n",
              "\n",
              "    .dataframe tbody tr th {\n",
              "        vertical-align: top;\n",
              "    }\n",
              "\n",
              "    .dataframe thead th {\n",
              "        text-align: right;\n",
              "    }\n",
              "</style>\n",
              "<table border=\"1\" class=\"dataframe\">\n",
              "  <thead>\n",
              "    <tr style=\"text-align: right;\">\n",
              "      <th></th>\n",
              "      <th>user_id</th>\n",
              "      <th>score</th>\n",
              "      <th>city</th>\n",
              "      <th>gender</th>\n",
              "      <th>age</th>\n",
              "      <th>equity</th>\n",
              "      <th>balance</th>\n",
              "      <th>products</th>\n",
              "      <th>credit_card</th>\n",
              "      <th>last_activity</th>\n",
              "      <th>est_salary</th>\n",
              "      <th>churn</th>\n",
              "      <th>age_category</th>\n",
              "      <th>est_salary_category</th>\n",
              "      <th>products_category</th>\n",
              "      <th>score_category</th>\n",
              "      <th>balance_category</th>\n",
              "    </tr>\n",
              "  </thead>\n",
              "  <tbody>\n",
              "    <tr>\n",
              "      <th>0</th>\n",
              "      <td>183012</td>\n",
              "      <td>850.0</td>\n",
              "      <td>Рыбинск</td>\n",
              "      <td>Ж</td>\n",
              "      <td>25.0</td>\n",
              "      <td>1</td>\n",
              "      <td>59214.82</td>\n",
              "      <td>2</td>\n",
              "      <td>False</td>\n",
              "      <td>True</td>\n",
              "      <td>75719.14</td>\n",
              "      <td>True</td>\n",
              "      <td>молодой</td>\n",
              "      <td>средний достаток</td>\n",
              "      <td>1-2 продукта</td>\n",
              "      <td>средний</td>\n",
              "      <td>50000-100000</td>\n",
              "    </tr>\n",
              "    <tr>\n",
              "      <th>1</th>\n",
              "      <td>146556</td>\n",
              "      <td>861.0</td>\n",
              "      <td>Рыбинск</td>\n",
              "      <td>Ж</td>\n",
              "      <td>37.0</td>\n",
              "      <td>5</td>\n",
              "      <td>850594.33</td>\n",
              "      <td>3</td>\n",
              "      <td>True</td>\n",
              "      <td>False</td>\n",
              "      <td>86621.77</td>\n",
              "      <td>False</td>\n",
              "      <td>взрослый</td>\n",
              "      <td>средний достаток</td>\n",
              "      <td>3-5 продуктов</td>\n",
              "      <td>средний</td>\n",
              "      <td>более 100000</td>\n",
              "    </tr>\n",
              "    <tr>\n",
              "      <th>2</th>\n",
              "      <td>120722</td>\n",
              "      <td>892.0</td>\n",
              "      <td>Рыбинск</td>\n",
              "      <td>Ж</td>\n",
              "      <td>30.0</td>\n",
              "      <td>0</td>\n",
              "      <td>NaN</td>\n",
              "      <td>1</td>\n",
              "      <td>True</td>\n",
              "      <td>True</td>\n",
              "      <td>107683.34</td>\n",
              "      <td>False</td>\n",
              "      <td>молодой</td>\n",
              "      <td>высокий достаток</td>\n",
              "      <td>1-2 продукта</td>\n",
              "      <td>средний</td>\n",
              "      <td>None</td>\n",
              "    </tr>\n",
              "    <tr>\n",
              "      <th>3</th>\n",
              "      <td>225363</td>\n",
              "      <td>866.0</td>\n",
              "      <td>Ярославль</td>\n",
              "      <td>Ж</td>\n",
              "      <td>51.0</td>\n",
              "      <td>5</td>\n",
              "      <td>1524746.26</td>\n",
              "      <td>2</td>\n",
              "      <td>False</td>\n",
              "      <td>True</td>\n",
              "      <td>174423.53</td>\n",
              "      <td>True</td>\n",
              "      <td>взрослый</td>\n",
              "      <td>высокий достаток</td>\n",
              "      <td>1-2 продукта</td>\n",
              "      <td>средний</td>\n",
              "      <td>более 100000</td>\n",
              "    </tr>\n",
              "    <tr>\n",
              "      <th>4</th>\n",
              "      <td>157978</td>\n",
              "      <td>730.0</td>\n",
              "      <td>Ярославль</td>\n",
              "      <td>М</td>\n",
              "      <td>34.0</td>\n",
              "      <td>5</td>\n",
              "      <td>174.00</td>\n",
              "      <td>1</td>\n",
              "      <td>True</td>\n",
              "      <td>False</td>\n",
              "      <td>67353.16</td>\n",
              "      <td>True</td>\n",
              "      <td>молодой</td>\n",
              "      <td>средний достаток</td>\n",
              "      <td>1-2 продукта</td>\n",
              "      <td>плохой</td>\n",
              "      <td>менее 10000</td>\n",
              "    </tr>\n",
              "    <tr>\n",
              "      <th>...</th>\n",
              "      <td>...</td>\n",
              "      <td>...</td>\n",
              "      <td>...</td>\n",
              "      <td>...</td>\n",
              "      <td>...</td>\n",
              "      <td>...</td>\n",
              "      <td>...</td>\n",
              "      <td>...</td>\n",
              "      <td>...</td>\n",
              "      <td>...</td>\n",
              "      <td>...</td>\n",
              "      <td>...</td>\n",
              "      <td>...</td>\n",
              "      <td>...</td>\n",
              "      <td>...</td>\n",
              "      <td>...</td>\n",
              "      <td>...</td>\n",
              "    </tr>\n",
              "    <tr>\n",
              "      <th>9995</th>\n",
              "      <td>120553</td>\n",
              "      <td>814.0</td>\n",
              "      <td>Рыбинск</td>\n",
              "      <td>М</td>\n",
              "      <td>27.0</td>\n",
              "      <td>1</td>\n",
              "      <td>78144.65</td>\n",
              "      <td>1</td>\n",
              "      <td>False</td>\n",
              "      <td>True</td>\n",
              "      <td>18943.64</td>\n",
              "      <td>False</td>\n",
              "      <td>молодой</td>\n",
              "      <td>низкий достаток</td>\n",
              "      <td>1-2 продукта</td>\n",
              "      <td>средний</td>\n",
              "      <td>50000-100000</td>\n",
              "    </tr>\n",
              "    <tr>\n",
              "      <th>9996</th>\n",
              "      <td>139170</td>\n",
              "      <td>894.0</td>\n",
              "      <td>Ярославль</td>\n",
              "      <td>М</td>\n",
              "      <td>46.0</td>\n",
              "      <td>0</td>\n",
              "      <td>NaN</td>\n",
              "      <td>1</td>\n",
              "      <td>True</td>\n",
              "      <td>False</td>\n",
              "      <td>196898.29</td>\n",
              "      <td>False</td>\n",
              "      <td>взрослый</td>\n",
              "      <td>высокий достаток</td>\n",
              "      <td>1-2 продукта</td>\n",
              "      <td>средний</td>\n",
              "      <td>None</td>\n",
              "    </tr>\n",
              "    <tr>\n",
              "      <th>9997</th>\n",
              "      <td>115639</td>\n",
              "      <td>903.0</td>\n",
              "      <td>Ярославль</td>\n",
              "      <td>М</td>\n",
              "      <td>24.0</td>\n",
              "      <td>0</td>\n",
              "      <td>NaN</td>\n",
              "      <td>2</td>\n",
              "      <td>True</td>\n",
              "      <td>True</td>\n",
              "      <td>108905.09</td>\n",
              "      <td>False</td>\n",
              "      <td>молодой</td>\n",
              "      <td>высокий достаток</td>\n",
              "      <td>1-2 продукта</td>\n",
              "      <td>хороший</td>\n",
              "      <td>None</td>\n",
              "    </tr>\n",
              "    <tr>\n",
              "      <th>9998</th>\n",
              "      <td>148700</td>\n",
              "      <td>777.0</td>\n",
              "      <td>Ярославль</td>\n",
              "      <td>Ж</td>\n",
              "      <td>68.0</td>\n",
              "      <td>3</td>\n",
              "      <td>865457.97</td>\n",
              "      <td>3</td>\n",
              "      <td>False</td>\n",
              "      <td>True</td>\n",
              "      <td>86874.90</td>\n",
              "      <td>False</td>\n",
              "      <td>старый</td>\n",
              "      <td>средний достаток</td>\n",
              "      <td>3-5 продуктов</td>\n",
              "      <td>средний</td>\n",
              "      <td>более 100000</td>\n",
              "    </tr>\n",
              "    <tr>\n",
              "      <th>9999</th>\n",
              "      <td>96267</td>\n",
              "      <td>828.0</td>\n",
              "      <td>Рыбинск</td>\n",
              "      <td>Ж</td>\n",
              "      <td>58.0</td>\n",
              "      <td>3</td>\n",
              "      <td>1180886.70</td>\n",
              "      <td>4</td>\n",
              "      <td>False</td>\n",
              "      <td>True</td>\n",
              "      <td>21422.37</td>\n",
              "      <td>False</td>\n",
              "      <td>взрослый</td>\n",
              "      <td>низкий достаток</td>\n",
              "      <td>3-5 продуктов</td>\n",
              "      <td>средний</td>\n",
              "      <td>более 100000</td>\n",
              "    </tr>\n",
              "  </tbody>\n",
              "</table>\n",
              "<p>10000 rows × 17 columns</p>\n",
              "</div>"
            ],
            "text/plain": [
              "      user_id  score       city gender   age  equity     balance  products  \\\n",
              "0      183012  850.0    Рыбинск      Ж  25.0       1    59214.82         2   \n",
              "1      146556  861.0    Рыбинск      Ж  37.0       5   850594.33         3   \n",
              "2      120722  892.0    Рыбинск      Ж  30.0       0         NaN         1   \n",
              "3      225363  866.0  Ярославль      Ж  51.0       5  1524746.26         2   \n",
              "4      157978  730.0  Ярославль      М  34.0       5      174.00         1   \n",
              "...       ...    ...        ...    ...   ...     ...         ...       ...   \n",
              "9995   120553  814.0    Рыбинск      М  27.0       1    78144.65         1   \n",
              "9996   139170  894.0  Ярославль      М  46.0       0         NaN         1   \n",
              "9997   115639  903.0  Ярославль      М  24.0       0         NaN         2   \n",
              "9998   148700  777.0  Ярославль      Ж  68.0       3   865457.97         3   \n",
              "9999    96267  828.0    Рыбинск      Ж  58.0       3  1180886.70         4   \n",
              "\n",
              "      credit_card  last_activity  est_salary  churn age_category  \\\n",
              "0           False           True    75719.14   True      молодой   \n",
              "1            True          False    86621.77  False     взрослый   \n",
              "2            True           True   107683.34  False      молодой   \n",
              "3           False           True   174423.53   True     взрослый   \n",
              "4            True          False    67353.16   True      молодой   \n",
              "...           ...            ...         ...    ...          ...   \n",
              "9995        False           True    18943.64  False      молодой   \n",
              "9996         True          False   196898.29  False     взрослый   \n",
              "9997         True           True   108905.09  False      молодой   \n",
              "9998        False           True    86874.90  False       старый   \n",
              "9999        False           True    21422.37  False     взрослый   \n",
              "\n",
              "     est_salary_category products_category score_category balance_category  \n",
              "0       средний достаток      1-2 продукта        средний     50000-100000  \n",
              "1       средний достаток     3-5 продуктов        средний     более 100000  \n",
              "2       высокий достаток      1-2 продукта        средний             None  \n",
              "3       высокий достаток      1-2 продукта        средний     более 100000  \n",
              "4       средний достаток      1-2 продукта         плохой      менее 10000  \n",
              "...                  ...               ...            ...              ...  \n",
              "9995     низкий достаток      1-2 продукта        средний     50000-100000  \n",
              "9996    высокий достаток      1-2 продукта        средний             None  \n",
              "9997    высокий достаток      1-2 продукта        хороший             None  \n",
              "9998    средний достаток     3-5 продуктов        средний     более 100000  \n",
              "9999     низкий достаток     3-5 продуктов        средний     более 100000  \n",
              "\n",
              "[10000 rows x 17 columns]"
            ]
          },
          "execution_count": 166,
          "metadata": {},
          "output_type": "execute_result"
        }
      ],
      "source": [
        "#применение функции для категоризации данных в таблице и проверка создания столбца с категориями\n",
        "df['balance_category'] = df['balance'].apply(categorize_balance)\n",
        "df"
      ]
    },
    {
      "cell_type": "markdown",
      "metadata": {
        "id": "aQgTnMzt52Dc"
      },
      "source": [
        "Были введены категории для некоторых столбцов, критерии разделения по категориям были выбраны исходя из логики."
      ]
    },
    {
      "cell_type": "markdown",
      "metadata": {
        "id": "ZOcx8Znr52Dc"
      },
      "source": [
        "## Анализ данных"
      ]
    },
    {
      "cell_type": "markdown",
      "metadata": {
        "id": "5ZdVLpui52Dd"
      },
      "source": [
        "### Есть ли зависимость между полом и уходом клиентов"
      ]
    },
    {
      "cell_type": "code",
      "execution_count": null,
      "metadata": {
        "id": "ilFIvSsC52Dd",
        "outputId": "be17e7f8-f6da-48f6-bf41-aa30a3a0f067"
      },
      "outputs": [
        {
          "data": {
            "text/html": [
              "<div>\n",
              "<style scoped>\n",
              "    .dataframe tbody tr th:only-of-type {\n",
              "        vertical-align: middle;\n",
              "    }\n",
              "\n",
              "    .dataframe tbody tr th {\n",
              "        vertical-align: top;\n",
              "    }\n",
              "\n",
              "    .dataframe thead th {\n",
              "        text-align: right;\n",
              "    }\n",
              "</style>\n",
              "<table border=\"1\" class=\"dataframe\">\n",
              "  <thead>\n",
              "    <tr style=\"text-align: right;\">\n",
              "      <th></th>\n",
              "      <th>gender</th>\n",
              "      <th>churn</th>\n",
              "      <th>user_id</th>\n",
              "    </tr>\n",
              "  </thead>\n",
              "  <tbody>\n",
              "    <tr>\n",
              "      <th>0</th>\n",
              "      <td>Ж</td>\n",
              "      <td>False</td>\n",
              "      <td>4358</td>\n",
              "    </tr>\n",
              "    <tr>\n",
              "      <th>1</th>\n",
              "      <td>М</td>\n",
              "      <td>False</td>\n",
              "      <td>3822</td>\n",
              "    </tr>\n",
              "    <tr>\n",
              "      <th>2</th>\n",
              "      <td>М</td>\n",
              "      <td>True</td>\n",
              "      <td>1183</td>\n",
              "    </tr>\n",
              "    <tr>\n",
              "      <th>3</th>\n",
              "      <td>Ж</td>\n",
              "      <td>True</td>\n",
              "      <td>637</td>\n",
              "    </tr>\n",
              "  </tbody>\n",
              "</table>\n",
              "</div>"
            ],
            "text/plain": [
              "  gender  churn  user_id\n",
              "0      Ж  False     4358\n",
              "1      М  False     3822\n",
              "2      М   True     1183\n",
              "3      Ж   True      637"
            ]
          },
          "execution_count": 167,
          "metadata": {},
          "output_type": "execute_result"
        }
      ],
      "source": [
        "#таблица с группировкой по признаку ухода и пола клиента\n",
        "df_1=df.groupby(['gender','churn']).agg({'user_id': 'count'})\n",
        "df_1=df_1.sort_values(by='user_id', ascending=False).reset_index()\n",
        "df_1"
      ]
    },
    {
      "cell_type": "code",
      "execution_count": null,
      "metadata": {
        "id": "2rbCL3jL52Dd",
        "outputId": "e691c2a0-15f9-4aaa-c793-0f84c52f16cd"
      },
      "outputs": [
        {
          "data": {
            "image/png": "[encoded data removed]",
            "text/plain": [
              "<Figure size 1080x576 with 1 Axes>"
            ]
          },
          "metadata": {},
          "output_type": "display_data"
        }
      ],
      "source": [
        "#графическое представление\n",
        "plt.figure(figsize=(15,8))\n",
        "ax=sns.barplot(data=df_1, x='gender', y='user_id', hue='churn')\n",
        "ax.set_title('Зависимость между полом клиента и уходом из банка')\n",
        "ax.set_xlabel('Пол')\n",
        "ax.set_ylabel('Количество клиентов')\n",
        "plt.show()"
      ]
    },
    {
      "cell_type": "markdown",
      "metadata": {
        "id": "C8ME0_mO52Dd"
      },
      "source": [
        "По графику видно, что преимущественно уходящие клиенты являются лицами мужского пола. Большая часть оставшихся клиентов является лицами женского пола."
      ]
    },
    {
      "cell_type": "markdown",
      "metadata": {
        "id": "iUn-Xwis52De"
      },
      "source": [
        "### Есть ли зависимость между городом и уходом клиентов"
      ]
    },
    {
      "cell_type": "code",
      "execution_count": null,
      "metadata": {
        "id": "uphTaPlG52De",
        "outputId": "d331c7f7-b6d1-4b69-abc3-52de89c3684d"
      },
      "outputs": [
        {
          "data": {
            "text/html": [
              "<div>\n",
              "<style scoped>\n",
              "    .dataframe tbody tr th:only-of-type {\n",
              "        vertical-align: middle;\n",
              "    }\n",
              "\n",
              "    .dataframe tbody tr th {\n",
              "        vertical-align: top;\n",
              "    }\n",
              "\n",
              "    .dataframe thead th {\n",
              "        text-align: right;\n",
              "    }\n",
              "</style>\n",
              "<table border=\"1\" class=\"dataframe\">\n",
              "  <thead>\n",
              "    <tr style=\"text-align: right;\">\n",
              "      <th></th>\n",
              "      <th>city</th>\n",
              "      <th>churn</th>\n",
              "      <th>user_id</th>\n",
              "    </tr>\n",
              "  </thead>\n",
              "  <tbody>\n",
              "    <tr>\n",
              "      <th>0</th>\n",
              "      <td>Ярославль</td>\n",
              "      <td>False</td>\n",
              "      <td>4771</td>\n",
              "    </tr>\n",
              "    <tr>\n",
              "      <th>1</th>\n",
              "      <td>Рыбинск</td>\n",
              "      <td>False</td>\n",
              "      <td>2258</td>\n",
              "    </tr>\n",
              "    <tr>\n",
              "      <th>2</th>\n",
              "      <td>Ростов</td>\n",
              "      <td>False</td>\n",
              "      <td>1151</td>\n",
              "    </tr>\n",
              "    <tr>\n",
              "      <th>3</th>\n",
              "      <td>Ярославль</td>\n",
              "      <td>True</td>\n",
              "      <td>1117</td>\n",
              "    </tr>\n",
              "    <tr>\n",
              "      <th>4</th>\n",
              "      <td>Рыбинск</td>\n",
              "      <td>True</td>\n",
              "      <td>437</td>\n",
              "    </tr>\n",
              "    <tr>\n",
              "      <th>5</th>\n",
              "      <td>Ростов</td>\n",
              "      <td>True</td>\n",
              "      <td>266</td>\n",
              "    </tr>\n",
              "  </tbody>\n",
              "</table>\n",
              "</div>"
            ],
            "text/plain": [
              "        city  churn  user_id\n",
              "0  Ярославль  False     4771\n",
              "1    Рыбинск  False     2258\n",
              "2     Ростов  False     1151\n",
              "3  Ярославль   True     1117\n",
              "4    Рыбинск   True      437\n",
              "5     Ростов   True      266"
            ]
          },
          "execution_count": 169,
          "metadata": {},
          "output_type": "execute_result"
        }
      ],
      "source": [
        "#таблица с группировкой по признаку ухода и города клиента\n",
        "df_1=df.groupby(['city','churn']).agg({'user_id': 'count'})\n",
        "df_1=df_1.sort_values(by='user_id', ascending=False).reset_index()\n",
        "df_1"
      ]
    },
    {
      "cell_type": "code",
      "execution_count": null,
      "metadata": {
        "id": "nYGb-ht752De",
        "outputId": "85e3faf0-aa9c-4a9e-b830-6cb07c7b6d3a"
      },
      "outputs": [
        {
          "data": {
            "image/png": "[encoded data removed]",
            "text/plain": [
              "<Figure size 1080x576 with 1 Axes>"
            ]
          },
          "metadata": {},
          "output_type": "display_data"
        }
      ],
      "source": [
        "#графическое представление\n",
        "plt.figure(figsize=(15,8))\n",
        "ax=sns.barplot(data=df_1, x='city', y='user_id', hue='churn')\n",
        "ax.set_title('Зависимость между городом и уходом клиентов')\n",
        "ax.set_xlabel('Город')\n",
        "ax.set_ylabel('Количество клиентов')\n",
        "plt.show()"
      ]
    },
    {
      "cell_type": "code",
      "execution_count": null,
      "metadata": {
        "id": "fNJ0qZWc52Df",
        "outputId": "c22f896c-e862-4a66-c9ec-5b34aa0bb896"
      },
      "outputs": [
        {
          "name": "stderr",
          "output_type": "stream",
          "text": [
            "/tmp/ipykernel_31/851634908.py:4: SettingWithCopyWarning: \n",
            "A value is trying to be set on a copy of a slice from a DataFrame.\n",
            "Try using .loc[row_indexer,col_indexer] = value instead\n",
            "\n",
            "See the caveats in the documentation: https://pandas.pydata.org/pandas-docs/stable/user_guide/indexing.html#returning-a-view-versus-a-copy\n",
            "  df_1_1['per_of_all']=df_1_1['user_id']/ya*100\n"
          ]
        },
        {
          "data": {
            "text/html": [
              "<div>\n",
              "<style scoped>\n",
              "    .dataframe tbody tr th:only-of-type {\n",
              "        vertical-align: middle;\n",
              "    }\n",
              "\n",
              "    .dataframe tbody tr th {\n",
              "        vertical-align: top;\n",
              "    }\n",
              "\n",
              "    .dataframe thead th {\n",
              "        text-align: right;\n",
              "    }\n",
              "</style>\n",
              "<table border=\"1\" class=\"dataframe\">\n",
              "  <thead>\n",
              "    <tr style=\"text-align: right;\">\n",
              "      <th></th>\n",
              "      <th>city</th>\n",
              "      <th>churn</th>\n",
              "      <th>user_id</th>\n",
              "      <th>per_of_all</th>\n",
              "    </tr>\n",
              "  </thead>\n",
              "  <tbody>\n",
              "    <tr>\n",
              "      <th>0</th>\n",
              "      <td>Ярославль</td>\n",
              "      <td>False</td>\n",
              "      <td>4771</td>\n",
              "      <td>81.029212</td>\n",
              "    </tr>\n",
              "    <tr>\n",
              "      <th>3</th>\n",
              "      <td>Ярославль</td>\n",
              "      <td>True</td>\n",
              "      <td>1117</td>\n",
              "      <td>18.970788</td>\n",
              "    </tr>\n",
              "  </tbody>\n",
              "</table>\n",
              "</div>"
            ],
            "text/plain": [
              "        city  churn  user_id  per_of_all\n",
              "0  Ярославль  False     4771   81.029212\n",
              "3  Ярославль   True     1117   18.970788"
            ]
          },
          "execution_count": 171,
          "metadata": {},
          "output_type": "execute_result"
        }
      ],
      "source": [
        "#посмотрим в процентном соотношении количество оставшихся/ушедших для всех клиентов банка для Ярославля\n",
        "ya=df[df['city']=='Ярославль']['user_id'].count()\n",
        "df_1_1=df_1.loc[df_1['city']=='Ярославль']\n",
        "df_1_1['per_of_all']=df_1_1['user_id']/ya*100\n",
        "df_1_1"
      ]
    },
    {
      "cell_type": "code",
      "execution_count": null,
      "metadata": {
        "id": "rgXttX1P52Df",
        "outputId": "c0678634-63b3-4ea2-e577-a13a5d791a6a"
      },
      "outputs": [
        {
          "name": "stderr",
          "output_type": "stream",
          "text": [
            "/tmp/ipykernel_31/3246008514.py:4: SettingWithCopyWarning: \n",
            "A value is trying to be set on a copy of a slice from a DataFrame.\n",
            "Try using .loc[row_indexer,col_indexer] = value instead\n",
            "\n",
            "See the caveats in the documentation: https://pandas.pydata.org/pandas-docs/stable/user_guide/indexing.html#returning-a-view-versus-a-copy\n",
            "  df_1_2['per_of_all']=df_1_2['user_id']/rb*100\n"
          ]
        },
        {
          "data": {
            "text/html": [
              "<div>\n",
              "<style scoped>\n",
              "    .dataframe tbody tr th:only-of-type {\n",
              "        vertical-align: middle;\n",
              "    }\n",
              "\n",
              "    .dataframe tbody tr th {\n",
              "        vertical-align: top;\n",
              "    }\n",
              "\n",
              "    .dataframe thead th {\n",
              "        text-align: right;\n",
              "    }\n",
              "</style>\n",
              "<table border=\"1\" class=\"dataframe\">\n",
              "  <thead>\n",
              "    <tr style=\"text-align: right;\">\n",
              "      <th></th>\n",
              "      <th>city</th>\n",
              "      <th>churn</th>\n",
              "      <th>user_id</th>\n",
              "      <th>per_of_all</th>\n",
              "    </tr>\n",
              "  </thead>\n",
              "  <tbody>\n",
              "    <tr>\n",
              "      <th>1</th>\n",
              "      <td>Рыбинск</td>\n",
              "      <td>False</td>\n",
              "      <td>2258</td>\n",
              "      <td>83.784787</td>\n",
              "    </tr>\n",
              "    <tr>\n",
              "      <th>4</th>\n",
              "      <td>Рыбинск</td>\n",
              "      <td>True</td>\n",
              "      <td>437</td>\n",
              "      <td>16.215213</td>\n",
              "    </tr>\n",
              "  </tbody>\n",
              "</table>\n",
              "</div>"
            ],
            "text/plain": [
              "      city  churn  user_id  per_of_all\n",
              "1  Рыбинск  False     2258   83.784787\n",
              "4  Рыбинск   True      437   16.215213"
            ]
          },
          "execution_count": 172,
          "metadata": {},
          "output_type": "execute_result"
        }
      ],
      "source": [
        "#посмотрим в процентном соотношении количество оставшихся/ушедших для всех клиентов банка для Рыбинска\n",
        "rb=df[df['city']=='Рыбинск']['user_id'].count()\n",
        "df_1_2=df_1.loc[df_1['city']=='Рыбинск']\n",
        "df_1_2['per_of_all']=df_1_2['user_id']/rb*100\n",
        "df_1_2"
      ]
    },
    {
      "cell_type": "code",
      "execution_count": null,
      "metadata": {
        "id": "wcpfym4b52Df",
        "outputId": "e97802a4-003d-480b-cf02-d9c1de2411b3"
      },
      "outputs": [
        {
          "name": "stderr",
          "output_type": "stream",
          "text": [
            "/tmp/ipykernel_31/1415092356.py:4: SettingWithCopyWarning: \n",
            "A value is trying to be set on a copy of a slice from a DataFrame.\n",
            "Try using .loc[row_indexer,col_indexer] = value instead\n",
            "\n",
            "See the caveats in the documentation: https://pandas.pydata.org/pandas-docs/stable/user_guide/indexing.html#returning-a-view-versus-a-copy\n",
            "  df_1_3['per_of_all']=df_1_3['user_id']/ro*100\n"
          ]
        },
        {
          "data": {
            "text/html": [
              "<div>\n",
              "<style scoped>\n",
              "    .dataframe tbody tr th:only-of-type {\n",
              "        vertical-align: middle;\n",
              "    }\n",
              "\n",
              "    .dataframe tbody tr th {\n",
              "        vertical-align: top;\n",
              "    }\n",
              "\n",
              "    .dataframe thead th {\n",
              "        text-align: right;\n",
              "    }\n",
              "</style>\n",
              "<table border=\"1\" class=\"dataframe\">\n",
              "  <thead>\n",
              "    <tr style=\"text-align: right;\">\n",
              "      <th></th>\n",
              "      <th>city</th>\n",
              "      <th>churn</th>\n",
              "      <th>user_id</th>\n",
              "      <th>per_of_all</th>\n",
              "    </tr>\n",
              "  </thead>\n",
              "  <tbody>\n",
              "    <tr>\n",
              "      <th>2</th>\n",
              "      <td>Ростов</td>\n",
              "      <td>False</td>\n",
              "      <td>1151</td>\n",
              "      <td>81.227946</td>\n",
              "    </tr>\n",
              "    <tr>\n",
              "      <th>5</th>\n",
              "      <td>Ростов</td>\n",
              "      <td>True</td>\n",
              "      <td>266</td>\n",
              "      <td>18.772054</td>\n",
              "    </tr>\n",
              "  </tbody>\n",
              "</table>\n",
              "</div>"
            ],
            "text/plain": [
              "     city  churn  user_id  per_of_all\n",
              "2  Ростов  False     1151   81.227946\n",
              "5  Ростов   True      266   18.772054"
            ]
          },
          "execution_count": 173,
          "metadata": {},
          "output_type": "execute_result"
        }
      ],
      "source": [
        "#посмотрим в процентном соотношении количество оставшихся/ушедших для всех клиентов банка для Ростова\n",
        "ro=df[df['city']=='Ростов']['user_id'].count()\n",
        "df_1_3=df_1.loc[df_1['city']=='Ростов']\n",
        "df_1_3['per_of_all']=df_1_3['user_id']/ro*100\n",
        "df_1_3"
      ]
    },
    {
      "cell_type": "code",
      "execution_count": null,
      "metadata": {
        "id": "K86qvHHm52Df",
        "outputId": "9bb9ed49-432e-41fc-9fe1-e4c2e418bf3a"
      },
      "outputs": [
        {
          "data": {
            "text/html": [
              "<div>\n",
              "<style scoped>\n",
              "    .dataframe tbody tr th:only-of-type {\n",
              "        vertical-align: middle;\n",
              "    }\n",
              "\n",
              "    .dataframe tbody tr th {\n",
              "        vertical-align: top;\n",
              "    }\n",
              "\n",
              "    .dataframe thead th {\n",
              "        text-align: right;\n",
              "    }\n",
              "</style>\n",
              "<table border=\"1\" class=\"dataframe\">\n",
              "  <thead>\n",
              "    <tr style=\"text-align: right;\">\n",
              "      <th></th>\n",
              "      <th>city_x</th>\n",
              "      <th>churn</th>\n",
              "      <th>user_id_x</th>\n",
              "      <th>per_of_all_x</th>\n",
              "      <th>city_y</th>\n",
              "      <th>user_id_y</th>\n",
              "      <th>per_of_all_y</th>\n",
              "      <th>city</th>\n",
              "      <th>user_id</th>\n",
              "      <th>per_of_all</th>\n",
              "    </tr>\n",
              "  </thead>\n",
              "  <tbody>\n",
              "    <tr>\n",
              "      <th>0</th>\n",
              "      <td>Ярославль</td>\n",
              "      <td>False</td>\n",
              "      <td>4771</td>\n",
              "      <td>81.029212</td>\n",
              "      <td>Рыбинск</td>\n",
              "      <td>2258</td>\n",
              "      <td>83.784787</td>\n",
              "      <td>Ростов</td>\n",
              "      <td>1151</td>\n",
              "      <td>81.227946</td>\n",
              "    </tr>\n",
              "    <tr>\n",
              "      <th>1</th>\n",
              "      <td>Ярославль</td>\n",
              "      <td>True</td>\n",
              "      <td>1117</td>\n",
              "      <td>18.970788</td>\n",
              "      <td>Рыбинск</td>\n",
              "      <td>437</td>\n",
              "      <td>16.215213</td>\n",
              "      <td>Ростов</td>\n",
              "      <td>266</td>\n",
              "      <td>18.772054</td>\n",
              "    </tr>\n",
              "  </tbody>\n",
              "</table>\n",
              "</div>"
            ],
            "text/plain": [
              "      city_x  churn  user_id_x  per_of_all_x   city_y  user_id_y  \\\n",
              "0  Ярославль  False       4771     81.029212  Рыбинск       2258   \n",
              "1  Ярославль   True       1117     18.970788  Рыбинск        437   \n",
              "\n",
              "   per_of_all_y    city  user_id  per_of_all  \n",
              "0     83.784787  Ростов     1151   81.227946  \n",
              "1     16.215213  Ростов      266   18.772054  "
            ]
          },
          "execution_count": 174,
          "metadata": {},
          "output_type": "execute_result"
        }
      ],
      "source": [
        "#объеденим полученные данные в одну таблицу\n",
        "daf1 = df_1_1.merge(df_1_2, on='churn', how='left')\n",
        "daf=daf1.merge(df_1_3, on='churn', how='left')\n",
        "daf"
      ]
    },
    {
      "cell_type": "markdown",
      "metadata": {
        "id": "Ga157lIF52Dg"
      },
      "source": [
        "Больше всего клиентов уходит из банков в Ярославле, с другой стороны, больше всего клиентов остается в банках Ярославля. В процентном соотношении в Ярославле больше всего процент ушедших клиентов ко всем клиентам банка, а в Рыбинске данный показатель самый маленький."
      ]
    },
    {
      "cell_type": "markdown",
      "metadata": {
        "id": "wYy2cVMO52Dg"
      },
      "source": [
        "### Есть ли зависимость между возрастом и уходом клиентов"
      ]
    },
    {
      "cell_type": "code",
      "execution_count": null,
      "metadata": {
        "id": "TuSVG-Vs52Dg",
        "outputId": "66710941-ff79-44c3-c9af-8db3cb9ae4c8"
      },
      "outputs": [
        {
          "data": {
            "text/html": [
              "<div>\n",
              "<style scoped>\n",
              "    .dataframe tbody tr th:only-of-type {\n",
              "        vertical-align: middle;\n",
              "    }\n",
              "\n",
              "    .dataframe tbody tr th {\n",
              "        vertical-align: top;\n",
              "    }\n",
              "\n",
              "    .dataframe thead th {\n",
              "        text-align: right;\n",
              "    }\n",
              "</style>\n",
              "<table border=\"1\" class=\"dataframe\">\n",
              "  <thead>\n",
              "    <tr style=\"text-align: right;\">\n",
              "      <th></th>\n",
              "      <th>age_category</th>\n",
              "      <th>churn</th>\n",
              "      <th>user_id</th>\n",
              "    </tr>\n",
              "  </thead>\n",
              "  <tbody>\n",
              "    <tr>\n",
              "      <th>0</th>\n",
              "      <td>взрослый</td>\n",
              "      <td>False</td>\n",
              "      <td>4594</td>\n",
              "    </tr>\n",
              "    <tr>\n",
              "      <th>1</th>\n",
              "      <td>молодой</td>\n",
              "      <td>False</td>\n",
              "      <td>2595</td>\n",
              "    </tr>\n",
              "    <tr>\n",
              "      <th>2</th>\n",
              "      <td>взрослый</td>\n",
              "      <td>True</td>\n",
              "      <td>1056</td>\n",
              "    </tr>\n",
              "    <tr>\n",
              "      <th>3</th>\n",
              "      <td>старый</td>\n",
              "      <td>False</td>\n",
              "      <td>966</td>\n",
              "    </tr>\n",
              "    <tr>\n",
              "      <th>4</th>\n",
              "      <td>молодой</td>\n",
              "      <td>True</td>\n",
              "      <td>696</td>\n",
              "    </tr>\n",
              "    <tr>\n",
              "      <th>5</th>\n",
              "      <td>старый</td>\n",
              "      <td>True</td>\n",
              "      <td>67</td>\n",
              "    </tr>\n",
              "  </tbody>\n",
              "</table>\n",
              "</div>"
            ],
            "text/plain": [
              "  age_category  churn  user_id\n",
              "0     взрослый  False     4594\n",
              "1      молодой  False     2595\n",
              "2     взрослый   True     1056\n",
              "3       старый  False      966\n",
              "4      молодой   True      696\n",
              "5       старый   True       67"
            ]
          },
          "execution_count": 175,
          "metadata": {},
          "output_type": "execute_result"
        }
      ],
      "source": [
        "#таблица с группировкой по признаку ухода и возраста клиента\n",
        "df_1=df.groupby(['age_category','churn']).agg({'user_id': 'count'})\n",
        "df_1=df_1.sort_values(by='user_id', ascending=False).reset_index()\n",
        "df_1"
      ]
    },
    {
      "cell_type": "code",
      "execution_count": null,
      "metadata": {
        "id": "md7QDpBP52Dh",
        "outputId": "21eb6530-899f-458c-aae0-b96ae3d2db22"
      },
      "outputs": [
        {
          "data": {
            "image/png": "[encoded data removed]",
            "text/plain": [
              "<Figure size 1080x576 with 1 Axes>"
            ]
          },
          "metadata": {},
          "output_type": "display_data"
        }
      ],
      "source": [
        "#графическое представление\n",
        "plt.figure(figsize=(15,8))\n",
        "ax=sns.barplot(data=df_1, x='age_category', y='user_id', hue='churn')\n",
        "ax.set_title('Зависимость между возрастом и уходом клиентов')\n",
        "ax.set_xlabel('Возрастная категория клиентов')\n",
        "ax.set_ylabel('Количество клиентов')\n",
        "plt.show()"
      ]
    },
    {
      "cell_type": "markdown",
      "metadata": {
        "id": "JVpYglBR52Dh"
      },
      "source": [
        "Больше всего уходит клиентов, относящихся к категории \"взрослый\"(возраст 36-60 лет), меньше всего уходит клиентов, относящихся к категории \"старый\"(возраст более 61 года).\n",
        "Больше всего остается клиентов, относящихся к категории \"взрослый\"(возраст 36-60 лет)."
      ]
    },
    {
      "cell_type": "markdown",
      "metadata": {
        "id": "Xa-2LmPB52Di"
      },
      "source": [
        "### Есть ли зависимость между количеством продуктов и уходом клиентов"
      ]
    },
    {
      "cell_type": "code",
      "execution_count": null,
      "metadata": {
        "id": "FVQTaDg352Di",
        "outputId": "8b735d56-4281-4293-cb93-f46a16d99803"
      },
      "outputs": [
        {
          "data": {
            "text/html": [
              "<div>\n",
              "<style scoped>\n",
              "    .dataframe tbody tr th:only-of-type {\n",
              "        vertical-align: middle;\n",
              "    }\n",
              "\n",
              "    .dataframe tbody tr th {\n",
              "        vertical-align: top;\n",
              "    }\n",
              "\n",
              "    .dataframe thead th {\n",
              "        text-align: right;\n",
              "    }\n",
              "</style>\n",
              "<table border=\"1\" class=\"dataframe\">\n",
              "  <thead>\n",
              "    <tr style=\"text-align: right;\">\n",
              "      <th></th>\n",
              "      <th>products_category</th>\n",
              "      <th>churn</th>\n",
              "      <th>user_id</th>\n",
              "    </tr>\n",
              "  </thead>\n",
              "  <tbody>\n",
              "    <tr>\n",
              "      <th>0</th>\n",
              "      <td>1-2 продукта</td>\n",
              "      <td>False</td>\n",
              "      <td>7253</td>\n",
              "    </tr>\n",
              "    <tr>\n",
              "      <th>1</th>\n",
              "      <td>1-2 продукта</td>\n",
              "      <td>True</td>\n",
              "      <td>1214</td>\n",
              "    </tr>\n",
              "    <tr>\n",
              "      <th>2</th>\n",
              "      <td>3-5 продуктов</td>\n",
              "      <td>False</td>\n",
              "      <td>927</td>\n",
              "    </tr>\n",
              "    <tr>\n",
              "      <th>3</th>\n",
              "      <td>3-5 продуктов</td>\n",
              "      <td>True</td>\n",
              "      <td>605</td>\n",
              "    </tr>\n",
              "    <tr>\n",
              "      <th>4</th>\n",
              "      <td>нет продуктов</td>\n",
              "      <td>True</td>\n",
              "      <td>1</td>\n",
              "    </tr>\n",
              "  </tbody>\n",
              "</table>\n",
              "</div>"
            ],
            "text/plain": [
              "  products_category  churn  user_id\n",
              "0      1-2 продукта  False     7253\n",
              "1      1-2 продукта   True     1214\n",
              "2     3-5 продуктов  False      927\n",
              "3     3-5 продуктов   True      605\n",
              "4     нет продуктов   True        1"
            ]
          },
          "execution_count": 177,
          "metadata": {},
          "output_type": "execute_result"
        }
      ],
      "source": [
        "#таблица с группировкой по признаку ухода и количеству используемых продуктов у клиента\n",
        "df_1=df.groupby(['products_category','churn']).agg({'user_id': 'count'})\n",
        "df_1=df_1.sort_values(by='user_id', ascending=False).reset_index()\n",
        "df_1"
      ]
    },
    {
      "cell_type": "code",
      "execution_count": null,
      "metadata": {
        "id": "DKMIGzgN52Dj",
        "outputId": "3bbd6b4b-ff1c-4577-bb1f-74db268552ad"
      },
      "outputs": [
        {
          "data": {
            "image/png": "[encoded data removed]",
            "text/plain": [
              "<Figure size 1080x576 with 1 Axes>"
            ]
          },
          "metadata": {},
          "output_type": "display_data"
        }
      ],
      "source": [
        "#графическое представление\n",
        "plt.figure(figsize=(15,8))\n",
        "ax=sns.barplot(data=df_1, x='products_category', y='user_id', hue='churn')\n",
        "ax.set_title('Зависимость между количеством продуктов и уходом клиентов')\n",
        "ax.set_xlabel('Количество продуктов')\n",
        "ax.set_ylabel('Количество клиентов')\n",
        "plt.show()"
      ]
    },
    {
      "cell_type": "markdown",
      "metadata": {
        "id": "UZgtNDm552Dl"
      },
      "source": [
        "Больше всего уходит клиентов, пользующихся 1-2 подуктами, также их больше всего и остается в банке(по количественным критериям). В процентном соотношении больше всего уходит клиентов, пользующихся 3-5 продуктами."
      ]
    },
    {
      "cell_type": "markdown",
      "metadata": {
        "id": "pyjcg7Fy52Dm"
      },
      "source": [
        "### Есть ли зависимость между баллом кредитного скоринга и уходом клиентов"
      ]
    },
    {
      "cell_type": "code",
      "execution_count": null,
      "metadata": {
        "id": "5GrnzZMg52Dn",
        "outputId": "57de4274-471b-4495-d82b-5cde15c6eb96"
      },
      "outputs": [
        {
          "data": {
            "text/html": [
              "<div>\n",
              "<style scoped>\n",
              "    .dataframe tbody tr th:only-of-type {\n",
              "        vertical-align: middle;\n",
              "    }\n",
              "\n",
              "    .dataframe tbody tr th {\n",
              "        vertical-align: top;\n",
              "    }\n",
              "\n",
              "    .dataframe thead th {\n",
              "        text-align: right;\n",
              "    }\n",
              "</style>\n",
              "<table border=\"1\" class=\"dataframe\">\n",
              "  <thead>\n",
              "    <tr style=\"text-align: right;\">\n",
              "      <th></th>\n",
              "      <th>score_category</th>\n",
              "      <th>churn</th>\n",
              "      <th>user_id</th>\n",
              "    </tr>\n",
              "  </thead>\n",
              "  <tbody>\n",
              "    <tr>\n",
              "      <th>0</th>\n",
              "      <td>средний</td>\n",
              "      <td>False</td>\n",
              "      <td>4938</td>\n",
              "    </tr>\n",
              "    <tr>\n",
              "      <th>1</th>\n",
              "      <td>хороший</td>\n",
              "      <td>False</td>\n",
              "      <td>1912</td>\n",
              "    </tr>\n",
              "    <tr>\n",
              "      <th>2</th>\n",
              "      <td>средний</td>\n",
              "      <td>True</td>\n",
              "      <td>1275</td>\n",
              "    </tr>\n",
              "    <tr>\n",
              "      <th>3</th>\n",
              "      <td>плохой</td>\n",
              "      <td>False</td>\n",
              "      <td>975</td>\n",
              "    </tr>\n",
              "    <tr>\n",
              "      <th>4</th>\n",
              "      <td>хороший</td>\n",
              "      <td>True</td>\n",
              "      <td>442</td>\n",
              "    </tr>\n",
              "    <tr>\n",
              "      <th>5</th>\n",
              "      <td>очень хороший</td>\n",
              "      <td>False</td>\n",
              "      <td>355</td>\n",
              "    </tr>\n",
              "    <tr>\n",
              "      <th>6</th>\n",
              "      <td>очень хороший</td>\n",
              "      <td>True</td>\n",
              "      <td>56</td>\n",
              "    </tr>\n",
              "    <tr>\n",
              "      <th>7</th>\n",
              "      <td>плохой</td>\n",
              "      <td>True</td>\n",
              "      <td>47</td>\n",
              "    </tr>\n",
              "  </tbody>\n",
              "</table>\n",
              "</div>"
            ],
            "text/plain": [
              "  score_category  churn  user_id\n",
              "0        средний  False     4938\n",
              "1        хороший  False     1912\n",
              "2        средний   True     1275\n",
              "3         плохой  False      975\n",
              "4        хороший   True      442\n",
              "5  очень хороший  False      355\n",
              "6  очень хороший   True       56\n",
              "7         плохой   True       47"
            ]
          },
          "execution_count": 179,
          "metadata": {},
          "output_type": "execute_result"
        }
      ],
      "source": [
        "#таблица с группировкой по признаку ухода и банковского скоринга клиента\n",
        "df_1=df.groupby(['score_category','churn']).agg({'user_id': 'count'})\n",
        "df_1=df_1.sort_values(by='user_id', ascending=False).reset_index()\n",
        "df_1"
      ]
    },
    {
      "cell_type": "code",
      "execution_count": null,
      "metadata": {
        "id": "QgbNWuxg52Do",
        "outputId": "e38a237e-a226-4019-b95b-82e5bcac9bc4"
      },
      "outputs": [
        {
          "data": {
            "image/png": "[encoded data removed]",
            "text/plain": [
              "<Figure size 1080x576 with 1 Axes>"
            ]
          },
          "metadata": {},
          "output_type": "display_data"
        }
      ],
      "source": [
        "#графическое представление\n",
        "plt.figure(figsize=(15,8))\n",
        "ax=sns.barplot(data=df_1, x='score_category', y='user_id', hue='churn')\n",
        "ax.set_title('Зависимость между категорией кредитного рейтинга и уходом')\n",
        "ax.set_xlabel('Категория кредитного рейтинга')\n",
        "ax.set_ylabel('Количество клиентов')\n",
        "plt.show()"
      ]
    },
    {
      "cell_type": "markdown",
      "metadata": {
        "id": "NUhuZjPd52Dp"
      },
      "source": [
        "Больше всего уходит клиентов со средним рейтингом, а меньше всего уходит клиентов с очень хорошим и плохим рейтингами."
      ]
    },
    {
      "cell_type": "markdown",
      "metadata": {
        "id": "sW7r1EY252Dr"
      },
      "source": [
        "### Есть ли зависимость между активностью клиента в последнее время и уходом клиентов"
      ]
    },
    {
      "cell_type": "code",
      "execution_count": null,
      "metadata": {
        "id": "qYLe8ve652Ds",
        "outputId": "6f7655cf-54d1-4a1e-823c-0803e10c91a7"
      },
      "outputs": [
        {
          "data": {
            "text/html": [
              "<div>\n",
              "<style scoped>\n",
              "    .dataframe tbody tr th:only-of-type {\n",
              "        vertical-align: middle;\n",
              "    }\n",
              "\n",
              "    .dataframe tbody tr th {\n",
              "        vertical-align: top;\n",
              "    }\n",
              "\n",
              "    .dataframe thead th {\n",
              "        text-align: right;\n",
              "    }\n",
              "</style>\n",
              "<table border=\"1\" class=\"dataframe\">\n",
              "  <thead>\n",
              "    <tr style=\"text-align: right;\">\n",
              "      <th></th>\n",
              "      <th>last_activity</th>\n",
              "      <th>churn</th>\n",
              "      <th>user_id</th>\n",
              "    </tr>\n",
              "  </thead>\n",
              "  <tbody>\n",
              "    <tr>\n",
              "      <th>0</th>\n",
              "      <td>False</td>\n",
              "      <td>False</td>\n",
              "      <td>4223</td>\n",
              "    </tr>\n",
              "    <tr>\n",
              "      <th>1</th>\n",
              "      <td>True</td>\n",
              "      <td>False</td>\n",
              "      <td>3957</td>\n",
              "    </tr>\n",
              "    <tr>\n",
              "      <th>2</th>\n",
              "      <td>True</td>\n",
              "      <td>True</td>\n",
              "      <td>1278</td>\n",
              "    </tr>\n",
              "    <tr>\n",
              "      <th>3</th>\n",
              "      <td>False</td>\n",
              "      <td>True</td>\n",
              "      <td>542</td>\n",
              "    </tr>\n",
              "  </tbody>\n",
              "</table>\n",
              "</div>"
            ],
            "text/plain": [
              "   last_activity  churn  user_id\n",
              "0          False  False     4223\n",
              "1           True  False     3957\n",
              "2           True   True     1278\n",
              "3          False   True      542"
            ]
          },
          "execution_count": 181,
          "metadata": {},
          "output_type": "execute_result"
        }
      ],
      "source": [
        "#таблица с группировкой по признаку ухода и последней активности клиента\n",
        "df_1=df.groupby(['last_activity','churn']).agg({'user_id': 'count'})\n",
        "df_1=df_1.sort_values(by='user_id', ascending=False).reset_index()\n",
        "df_1"
      ]
    },
    {
      "cell_type": "code",
      "execution_count": null,
      "metadata": {
        "id": "wmGmc_-m52Dt",
        "outputId": "2ece0407-c32f-4860-fa02-37add95bc0af"
      },
      "outputs": [
        {
          "data": {
            "image/png": "[encoded data removed]",
            "text/plain": [
              "<Figure size 1080x576 with 1 Axes>"
            ]
          },
          "metadata": {},
          "output_type": "display_data"
        }
      ],
      "source": [
        "#графическое представление\n",
        "plt.figure(figsize=(15,8))\n",
        "ax=sns.barplot(data=df_1, x='last_activity', y='user_id', hue='churn')\n",
        "ax.set_title('Зависимость между последней активностью и уходом клиентов')\n",
        "ax.set_xlabel('Была ли активность в последнее время')\n",
        "ax.set_ylabel('Количество клиентов')\n",
        "plt.show()"
      ]
    },
    {
      "cell_type": "markdown",
      "metadata": {
        "id": "8JfVOtcj52Du"
      },
      "source": [
        "По графику видно, что в основном уходят клиенты, которые были активны в последнее время."
      ]
    },
    {
      "cell_type": "markdown",
      "metadata": {
        "id": "ymQDgnDe52Dx"
      },
      "source": [
        "### Есть ли зависимость между наличием кредитной карты и уходом клиентов"
      ]
    },
    {
      "cell_type": "code",
      "execution_count": null,
      "metadata": {
        "id": "YOtNWr7_52Dy",
        "outputId": "c6190b3d-0f33-4800-bf8c-480e3b319c57"
      },
      "outputs": [
        {
          "data": {
            "text/html": [
              "<div>\n",
              "<style scoped>\n",
              "    .dataframe tbody tr th:only-of-type {\n",
              "        vertical-align: middle;\n",
              "    }\n",
              "\n",
              "    .dataframe tbody tr th {\n",
              "        vertical-align: top;\n",
              "    }\n",
              "\n",
              "    .dataframe thead th {\n",
              "        text-align: right;\n",
              "    }\n",
              "</style>\n",
              "<table border=\"1\" class=\"dataframe\">\n",
              "  <thead>\n",
              "    <tr style=\"text-align: right;\">\n",
              "      <th></th>\n",
              "      <th>credit_card</th>\n",
              "      <th>churn</th>\n",
              "      <th>user_id</th>\n",
              "    </tr>\n",
              "  </thead>\n",
              "  <tbody>\n",
              "    <tr>\n",
              "      <th>0</th>\n",
              "      <td>True</td>\n",
              "      <td>False</td>\n",
              "      <td>5801</td>\n",
              "    </tr>\n",
              "    <tr>\n",
              "      <th>1</th>\n",
              "      <td>False</td>\n",
              "      <td>False</td>\n",
              "      <td>2379</td>\n",
              "    </tr>\n",
              "    <tr>\n",
              "      <th>2</th>\n",
              "      <td>True</td>\n",
              "      <td>True</td>\n",
              "      <td>1003</td>\n",
              "    </tr>\n",
              "    <tr>\n",
              "      <th>3</th>\n",
              "      <td>False</td>\n",
              "      <td>True</td>\n",
              "      <td>817</td>\n",
              "    </tr>\n",
              "  </tbody>\n",
              "</table>\n",
              "</div>"
            ],
            "text/plain": [
              "   credit_card  churn  user_id\n",
              "0         True  False     5801\n",
              "1        False  False     2379\n",
              "2         True   True     1003\n",
              "3        False   True      817"
            ]
          },
          "execution_count": 183,
          "metadata": {},
          "output_type": "execute_result"
        }
      ],
      "source": [
        "#таблица с группировкой по признаку ухода и наличии кредитной карты у клиента\n",
        "df_1=df.groupby(['credit_card','churn']).agg({'user_id': 'count'})\n",
        "df_1=df_1.sort_values(by='user_id', ascending=False).reset_index()\n",
        "df_1"
      ]
    },
    {
      "cell_type": "code",
      "execution_count": null,
      "metadata": {
        "id": "OjU-1QY752Dz",
        "outputId": "60c0d9d6-9681-4e52-e547-6fa46af0447f"
      },
      "outputs": [
        {
          "data": {
            "image/png": "[encoded data removed]",
            "text/plain": [
              "<Figure size 1080x576 with 1 Axes>"
            ]
          },
          "metadata": {},
          "output_type": "display_data"
        }
      ],
      "source": [
        "#графическое представление\n",
        "plt.figure(figsize=(15,8))\n",
        "ax=sns.barplot(data=df_1, x='credit_card', y='user_id', hue='churn')\n",
        "ax.set_title('Зависимость между наличием кредитной карты и уходом клиента')\n",
        "ax.set_xlabel('Наличие кредитной карты')\n",
        "ax.set_ylabel('Количество клиентов')\n",
        "plt.show()"
      ]
    },
    {
      "cell_type": "markdown",
      "metadata": {
        "id": "xuX-5VNB52D0"
      },
      "source": [
        "Больше всего уходит клиентов имеющих кредитную карту."
      ]
    },
    {
      "cell_type": "markdown",
      "metadata": {
        "id": "FiYs9smj52D1"
      },
      "source": [
        "### Есть ли зависимость между уровнем дохода и уходом клиентов"
      ]
    },
    {
      "cell_type": "code",
      "execution_count": null,
      "metadata": {
        "id": "EWoSxMyr52D2",
        "outputId": "076b2577-0b34-4d7d-cc7d-b0dcb47d1ff2"
      },
      "outputs": [
        {
          "data": {
            "text/html": [
              "<div>\n",
              "<style scoped>\n",
              "    .dataframe tbody tr th:only-of-type {\n",
              "        vertical-align: middle;\n",
              "    }\n",
              "\n",
              "    .dataframe tbody tr th {\n",
              "        vertical-align: top;\n",
              "    }\n",
              "\n",
              "    .dataframe thead th {\n",
              "        text-align: right;\n",
              "    }\n",
              "</style>\n",
              "<table border=\"1\" class=\"dataframe\">\n",
              "  <thead>\n",
              "    <tr style=\"text-align: right;\">\n",
              "      <th></th>\n",
              "      <th>est_salary_category</th>\n",
              "      <th>churn</th>\n",
              "      <th>user_id</th>\n",
              "    </tr>\n",
              "  </thead>\n",
              "  <tbody>\n",
              "    <tr>\n",
              "      <th>0</th>\n",
              "      <td>высокий достаток</td>\n",
              "      <td>False</td>\n",
              "      <td>4872</td>\n",
              "    </tr>\n",
              "    <tr>\n",
              "      <th>1</th>\n",
              "      <td>средний достаток</td>\n",
              "      <td>False</td>\n",
              "      <td>2283</td>\n",
              "    </tr>\n",
              "    <tr>\n",
              "      <th>2</th>\n",
              "      <td>высокий достаток</td>\n",
              "      <td>True</td>\n",
              "      <td>1194</td>\n",
              "    </tr>\n",
              "    <tr>\n",
              "      <th>3</th>\n",
              "      <td>низкий достаток</td>\n",
              "      <td>False</td>\n",
              "      <td>1025</td>\n",
              "    </tr>\n",
              "    <tr>\n",
              "      <th>4</th>\n",
              "      <td>средний достаток</td>\n",
              "      <td>True</td>\n",
              "      <td>451</td>\n",
              "    </tr>\n",
              "    <tr>\n",
              "      <th>5</th>\n",
              "      <td>низкий достаток</td>\n",
              "      <td>True</td>\n",
              "      <td>175</td>\n",
              "    </tr>\n",
              "  </tbody>\n",
              "</table>\n",
              "</div>"
            ],
            "text/plain": [
              "  est_salary_category  churn  user_id\n",
              "0    высокий достаток  False     4872\n",
              "1    средний достаток  False     2283\n",
              "2    высокий достаток   True     1194\n",
              "3     низкий достаток  False     1025\n",
              "4    средний достаток   True      451\n",
              "5     низкий достаток   True      175"
            ]
          },
          "execution_count": 185,
          "metadata": {},
          "output_type": "execute_result"
        }
      ],
      "source": [
        "#таблица с группировкой по признаку ухода и уровню дохода клиента\n",
        "df_1=df.groupby(['est_salary_category','churn']).agg({'user_id': 'count'})\n",
        "df_1=df_1.sort_values(by='user_id', ascending=False).reset_index()\n",
        "df_1"
      ]
    },
    {
      "cell_type": "code",
      "execution_count": null,
      "metadata": {
        "id": "LqA-aLhj52D2",
        "outputId": "9a596bbf-0966-4ed3-c5b9-1d01ed301b93"
      },
      "outputs": [
        {
          "data": {
            "image/png": "[encoded data removed]",
            "text/plain": [
              "<Figure size 1080x576 with 1 Axes>"
            ]
          },
          "metadata": {},
          "output_type": "display_data"
        }
      ],
      "source": [
        "#графическое представление\n",
        "plt.figure(figsize=(15,8))\n",
        "ax=sns.barplot(data=df_1, x='est_salary_category', y='user_id', hue='churn')\n",
        "ax.set_title('Зависимость между уровнем дохода и уходом из банка')\n",
        "ax.set_xlabel('Уровень дохода')\n",
        "ax.set_ylabel('Количество клиентов')\n",
        "plt.show()"
      ]
    },
    {
      "cell_type": "markdown",
      "metadata": {
        "id": "Dtjja-Ex52D3"
      },
      "source": [
        "Больше всего уходит клиентов, имеющих высокий уровень дохода."
      ]
    },
    {
      "cell_type": "markdown",
      "metadata": {
        "id": "xeWAd71N52D4"
      },
      "source": [
        "### Есть ли зависимость между балансом на карте и уходом клиентов"
      ]
    },
    {
      "cell_type": "code",
      "execution_count": null,
      "metadata": {
        "id": "FwQ-cslt52D4",
        "outputId": "8e500628-12ee-4f94-b8d4-e59aa96df38c"
      },
      "outputs": [
        {
          "data": {
            "text/html": [
              "<div>\n",
              "<style scoped>\n",
              "    .dataframe tbody tr th:only-of-type {\n",
              "        vertical-align: middle;\n",
              "    }\n",
              "\n",
              "    .dataframe tbody tr th {\n",
              "        vertical-align: top;\n",
              "    }\n",
              "\n",
              "    .dataframe thead th {\n",
              "        text-align: right;\n",
              "    }\n",
              "</style>\n",
              "<table border=\"1\" class=\"dataframe\">\n",
              "  <thead>\n",
              "    <tr style=\"text-align: right;\">\n",
              "      <th></th>\n",
              "      <th>balance_category</th>\n",
              "      <th>churn</th>\n",
              "      <th>user_id</th>\n",
              "    </tr>\n",
              "  </thead>\n",
              "  <tbody>\n",
              "    <tr>\n",
              "      <th>0</th>\n",
              "      <td>более 100000</td>\n",
              "      <td>False</td>\n",
              "      <td>5571</td>\n",
              "    </tr>\n",
              "    <tr>\n",
              "      <th>1</th>\n",
              "      <td>более 100000</td>\n",
              "      <td>True</td>\n",
              "      <td>1749</td>\n",
              "    </tr>\n",
              "    <tr>\n",
              "      <th>2</th>\n",
              "      <td>50000-100000</td>\n",
              "      <td>False</td>\n",
              "      <td>194</td>\n",
              "    </tr>\n",
              "    <tr>\n",
              "      <th>3</th>\n",
              "      <td>10000-50000</td>\n",
              "      <td>False</td>\n",
              "      <td>85</td>\n",
              "    </tr>\n",
              "    <tr>\n",
              "      <th>4</th>\n",
              "      <td>менее 10000</td>\n",
              "      <td>False</td>\n",
              "      <td>48</td>\n",
              "    </tr>\n",
              "    <tr>\n",
              "      <th>5</th>\n",
              "      <td>50000-100000</td>\n",
              "      <td>True</td>\n",
              "      <td>27</td>\n",
              "    </tr>\n",
              "    <tr>\n",
              "      <th>6</th>\n",
              "      <td>10000-50000</td>\n",
              "      <td>True</td>\n",
              "      <td>25</td>\n",
              "    </tr>\n",
              "    <tr>\n",
              "      <th>7</th>\n",
              "      <td>менее 10000</td>\n",
              "      <td>True</td>\n",
              "      <td>6</td>\n",
              "    </tr>\n",
              "  </tbody>\n",
              "</table>\n",
              "</div>"
            ],
            "text/plain": [
              "  balance_category  churn  user_id\n",
              "0     более 100000  False     5571\n",
              "1     более 100000   True     1749\n",
              "2     50000-100000  False      194\n",
              "3      10000-50000  False       85\n",
              "4      менее 10000  False       48\n",
              "5     50000-100000   True       27\n",
              "6      10000-50000   True       25\n",
              "7      менее 10000   True        6"
            ]
          },
          "execution_count": 187,
          "metadata": {},
          "output_type": "execute_result"
        }
      ],
      "source": [
        "#таблица с группировкой по признаку ухода и баланса на карте клиента\n",
        "df_1=df.groupby(['balance_category','churn']).agg({'user_id': 'count'})\n",
        "df_1=df_1.sort_values(by='user_id', ascending=False).reset_index()\n",
        "df_1"
      ]
    },
    {
      "cell_type": "code",
      "execution_count": null,
      "metadata": {
        "id": "8kc_Q87S52D4",
        "outputId": "2580a2bb-4a1f-4a19-9c70-405b7cf8dc49"
      },
      "outputs": [
        {
          "data": {
            "image/png": "[encoded data removed]",
            "text/plain": [
              "<Figure size 1080x576 with 1 Axes>"
            ]
          },
          "metadata": {},
          "output_type": "display_data"
        }
      ],
      "source": [
        "#графическое представление\n",
        "plt.figure(figsize=(15,8))\n",
        "ax=sns.barplot(data=df_1, x='balance_category', y='user_id', hue='churn')\n",
        "ax.set_title('Зависимость между балансом на карте и уходо клиентов')\n",
        "ax.set_xlabel('Баланс на карте')\n",
        "ax.set_ylabel('Количество клиентов')\n",
        "plt.show()"
      ]
    },
    {
      "cell_type": "markdown",
      "metadata": {
        "id": "Ay27vyqL52D5"
      },
      "source": [
        "В основном уходят клиенты с балансом на карте более 100000."
      ]
    },
    {
      "cell_type": "markdown",
      "metadata": {
        "id": "G3C6Ylon52D5"
      },
      "source": [
        "### Матрица корреляций"
      ]
    },
    {
      "cell_type": "code",
      "execution_count": null,
      "metadata": {
        "id": "ZAU_cD9652D6",
        "outputId": "4480034a-74ab-4edc-ad57-fa8f4910afbe"
      },
      "outputs": [
        {
          "data": {
            "text/plain": [
              "<AxesSubplot:>"
            ]
          },
          "execution_count": 189,
          "metadata": {},
          "output_type": "execute_result"
        },
        {
          "data": {
            "image/png": "[encoded data removed]",
            "text/plain": [
              "<Figure size 1440x576 with 2 Axes>"
            ]
          },
          "metadata": {},
          "output_type": "display_data"
        }
      ],
      "source": [
        "#расчет корреляций и графическое представление корреляций\n",
        "df_1=df.drop(columns='user_id')\n",
        "sns.set(rc = {'figure.figsize':(20, 8)})\n",
        "sns.heatmap(df_1.corr(), vmin = -1, vmax = +1, annot = True, fmt = '0.2f',  cmap = 'coolwarm')"
      ]
    },
    {
      "cell_type": "markdown",
      "metadata": {
        "id": "UPcgcktZ52D6"
      },
      "source": [
        "• По матрице корреляций можно сказать, что влияние на отток имеют такие признаки как количество используемых продуктов (слабая корреляция) и приблизительная оценка собственности клиента (слабая корреляция). Так же влияние имеют последнняя активность, наличие кредитной карты и банковский рейтинг (очень слабая корреляция).\n",
        "\n",
        "• Признаков имеющих нулевую корреляцию достаточно много.\n",
        "\n",
        "• Почти не влияют на уход клиентов возраст, баланс, заработная плата клиента.\n",
        "\n",
        "• Так же мы видим, что приблизительная оценка собственности довольно сильно коррелирует с количеством продуктов, которыми пользуется клиент."
      ]
    },
    {
      "cell_type": "markdown",
      "metadata": {
        "id": "u-x_01uD52D7"
      },
      "source": [
        "### Отток клиентов по сегментам"
      ]
    },
    {
      "cell_type": "code",
      "execution_count": null,
      "metadata": {
        "id": "h83mSc0C52D8",
        "outputId": "5dca45a2-5f5c-4423-a58d-a4e606d8afcd"
      },
      "outputs": [
        {
          "name": "stdout",
          "output_type": "stream",
          "text": [
            "Количество пользователей в сегменте:  448\n"
          ]
        },
        {
          "data": {
            "image/png": "[encoded data removed]",
            "text/plain": [
              "<Figure size 1440x576 with 1 Axes>"
            ]
          },
          "metadata": {},
          "output_type": "display_data"
        }
      ],
      "source": [
        "#выделяем сегмент\n",
        "data_1=df.query('gender == \"М\" and age_category==\"взрослый\" and products>=3')\n",
        "dt=data_1.groupby('churn').agg({'user_id': 'count'}).reset_index()\n",
        "a=data_1['user_id'].count()\n",
        "dt['per']=dt['user_id']/ya*100\n",
        "print('Количество пользователей в сегменте: ', a)\n",
        "\n",
        "colors = sns.color_palette('bright')[ 0:5 ]\n",
        "plt.pie(dt['per'], labels = dt['churn'], colors = colors, autopct='%.0f%%')\n",
        "plt.show()"
      ]
    },
    {
      "cell_type": "code",
      "execution_count": null,
      "metadata": {
        "id": "KePE8NYW52D8",
        "outputId": "706e8474-db71-4d72-d96f-1a9294744d49"
      },
      "outputs": [
        {
          "name": "stdout",
          "output_type": "stream",
          "text": [
            "Количество пользователей в сегменте:  1049\n"
          ]
        },
        {
          "data": {
            "image/png": "[encoded data removed]",
            "text/plain": [
              "<Figure size 1440x576 with 1 Axes>"
            ]
          },
          "metadata": {},
          "output_type": "display_data"
        }
      ],
      "source": [
        "#выделяем сегмент\n",
        "data_1=df.query('city == \"Ярославль\" and credit_card==False and est_salary_category==\"высокий достаток\"')\n",
        "dt=data_1.groupby('churn').agg({'user_id': 'count'}).reset_index()\n",
        "a=data_1['user_id'].count()\n",
        "dt['per']=dt['user_id']/rb*100\n",
        "print('Количество пользователей в сегменте: ', a)\n",
        "\n",
        "colors = sns.color_palette('bright')[ 0:5 ]\n",
        "plt.pie(dt['per'], labels = dt['churn'], colors = colors, autopct='%.0f%%')\n",
        "plt.show()"
      ]
    },
    {
      "cell_type": "code",
      "execution_count": null,
      "metadata": {
        "id": "Q3dz6Xo052D9",
        "outputId": "af2687e7-7dbe-450a-a71d-566a8fd5a5ba"
      },
      "outputs": [
        {
          "name": "stdout",
          "output_type": "stream",
          "text": [
            "Количество пользователей в сегменте:  824\n"
          ]
        },
        {
          "data": {
            "image/png": "[encoded data removed]",
            "text/plain": [
              "<Figure size 1440x576 with 1 Axes>"
            ]
          },
          "metadata": {},
          "output_type": "display_data"
        }
      ],
      "source": [
        "#выделяем сегмент\n",
        "data_1=df.query('products>=3 and est_salary_category==\"высокий достаток\" and balance_category==\"более 100000\"')\n",
        "dt=data_1.groupby('churn').agg({'user_id': 'count'}).reset_index()\n",
        "a=data_1['user_id'].count()\n",
        "dt['per']=dt['user_id']/rb*100\n",
        "print('Количество пользователей в сегменте: ', a)\n",
        "\n",
        "colors = sns.color_palette('bright')[ 0:5 ]\n",
        "plt.pie(dt['per'], labels = dt['churn'], colors = colors, autopct='%.0f%%')\n",
        "plt.show()"
      ]
    },
    {
      "cell_type": "markdown",
      "metadata": {
        "id": "MQFks2sp52D9"
      },
      "source": [
        "Были выделены одни из наиболее отточных сегментов, ими оказались:  клиенты, использующие 3 и более продуктов, имеющие высокий достаток и на счету у которых более 100000; клиенты из Ярославля, не имеющие кредитной карты и с высоким уровнем дохода; клиенты мужского пола, использующие 3 и более продуктов и взрослого возраста."
      ]
    },
    {
      "cell_type": "markdown",
      "metadata": {
        "id": "9zUB2RTV52D9"
      },
      "source": [
        "- Вывод:\n",
        "\n",
        "> К оттоку склонны клиенты мужского пола\n",
        "\n",
        "> Самый большой отток клиентов наблюдается в Ярославле\n",
        "\n",
        "> Клиенты, использующие от 1 до 2 продуктов, преимущественно остаются в банке\n",
        "\n",
        "> В основном из банка уходят клиенты, относящиеся к категории \"взрослый\"(возраст 36-60 лет)\n",
        "\n",
        "> В основном уходят клиенты, которые были активны в последнее время\n",
        "\n",
        "> Больше всего уходит клиентов имеющих кредитную карту"
      ]
    },
    {
      "cell_type": "markdown",
      "metadata": {
        "id": "P1mxHg_z52EA"
      },
      "source": [
        "## Проверка гипотез"
      ]
    },
    {
      "cell_type": "markdown",
      "metadata": {
        "id": "IJEwuAKg52EA"
      },
      "source": [
        "### Сформулируем гипотезы:\n",
        "- Нулевая: различия в возрасте между теми клиентами, которые ушли и теми, которые остались, не значительны\n",
        "- Альтернативная: существуют различия в возрасте между теми клиентами, которые ушли и теми, которые остались"
      ]
    },
    {
      "cell_type": "code",
      "execution_count": null,
      "metadata": {
        "id": "kyeYc9yn52EB",
        "outputId": "3f7cea6e-e04b-4261-bb30-dec0200623b2"
      },
      "outputs": [
        {
          "data": {
            "text/plain": [
              "8155"
            ]
          },
          "execution_count": 199,
          "metadata": {},
          "output_type": "execute_result"
        }
      ],
      "source": [
        "#формирование выборок\n",
        "s_1=df[df['churn']==True]['age']\n",
        "s_2=df[df['churn']==False]['age']"
      ]
    },
    {
      "cell_type": "code",
      "execution_count": null,
      "metadata": {
        "id": "cTKAkTOr52EB",
        "outputId": "3a1562d6-6cd7-4d36-f371-54bac8a0522e"
      },
      "outputs": [
        {
          "name": "stdout",
          "output_type": "stream",
          "text": [
            "p-значение:  nan\n",
            "Не получилось отвергнуть нулевую гипотезу, вывод о различии сделать нельзя\n"
          ]
        }
      ],
      "source": [
        "#проверка гипотез\n",
        "alpha = 0.05\n",
        "results = st.mannwhitneyu(s_1, s_2)\n",
        "\n",
        "print('p-значение: ', results.pvalue)\n",
        "\n",
        "if results.pvalue < alpha:\n",
        "    print('Отвергаем нулевую гипотезу: разница статистически значима')\n",
        "else:\n",
        "    print(\n",
        "        'Не получилось отвергнуть нулевую гипотезу, вывод о различии сделать нельзя'\n",
        "    )"
      ]
    },
    {
      "cell_type": "code",
      "execution_count": null,
      "metadata": {
        "id": "NtmxoChS52EC",
        "outputId": "3ffc14ca-d78e-4fa2-c575-58701080e38f"
      },
      "outputs": [
        {
          "data": {
            "text/html": [
              "<div>\n",
              "<style scoped>\n",
              "    .dataframe tbody tr th:only-of-type {\n",
              "        vertical-align: middle;\n",
              "    }\n",
              "\n",
              "    .dataframe tbody tr th {\n",
              "        vertical-align: top;\n",
              "    }\n",
              "\n",
              "    .dataframe thead th {\n",
              "        text-align: right;\n",
              "    }\n",
              "</style>\n",
              "<table border=\"1\" class=\"dataframe\">\n",
              "  <thead>\n",
              "    <tr style=\"text-align: right;\">\n",
              "      <th></th>\n",
              "      <th>25%</th>\n",
              "      <th>50%</th>\n",
              "      <th>75%</th>\n",
              "      <th>count</th>\n",
              "      <th>max</th>\n",
              "      <th>mean</th>\n",
              "      <th>min</th>\n",
              "      <th>std</th>\n",
              "    </tr>\n",
              "    <tr>\n",
              "      <th>churn</th>\n",
              "      <th></th>\n",
              "      <th></th>\n",
              "      <th></th>\n",
              "      <th></th>\n",
              "      <th></th>\n",
              "      <th></th>\n",
              "      <th></th>\n",
              "      <th></th>\n",
              "    </tr>\n",
              "  </thead>\n",
              "  <tbody>\n",
              "    <tr>\n",
              "      <th>False</th>\n",
              "      <td>34.0</td>\n",
              "      <td>40.0</td>\n",
              "      <td>51.0</td>\n",
              "      <td>8155.0</td>\n",
              "      <td>86.0</td>\n",
              "      <td>43.020846</td>\n",
              "      <td>18.0</td>\n",
              "      <td>12.375207</td>\n",
              "    </tr>\n",
              "    <tr>\n",
              "      <th>True</th>\n",
              "      <td>32.0</td>\n",
              "      <td>39.0</td>\n",
              "      <td>52.0</td>\n",
              "      <td>1819.0</td>\n",
              "      <td>79.0</td>\n",
              "      <td>41.450247</td>\n",
              "      <td>18.0</td>\n",
              "      <td>11.176459</td>\n",
              "    </tr>\n",
              "  </tbody>\n",
              "</table>\n",
              "</div>"
            ],
            "text/plain": [
              "        25%   50%   75%   count   max       mean   min        std\n",
              "churn                                                            \n",
              "False  34.0  40.0  51.0  8155.0  86.0  43.020846  18.0  12.375207\n",
              "True   32.0  39.0  52.0  1819.0  79.0  41.450247  18.0  11.176459"
            ]
          },
          "execution_count": 201,
          "metadata": {},
          "output_type": "execute_result"
        }
      ],
      "source": [
        "#описательная статистика для выборок\n",
        "df.pivot_table(index='churn', values='age', aggfunc='describe')"
      ]
    },
    {
      "cell_type": "markdown",
      "metadata": {
        "id": "TTUG9TAX52EC"
      },
      "source": [
        "Не удалось отвергнуть нулевую гипотезу об отсутствии различий в возрасте тех, кто ушел в отток и кто не ушел."
      ]
    },
    {
      "cell_type": "markdown",
      "metadata": {
        "id": "heN8Qd6b52EC"
      },
      "source": [
        "### Сформулируем гипотезы:\n",
        "- Нулевая: различие в количестве используемых продуктов между теми клиентами, которые ушли и теми, которые остались, не значительно\n",
        "- Альтернативная: существует различие в количестве используемых продуктов клиентами, которые ушли и теми, которые остались"
      ]
    },
    {
      "cell_type": "code",
      "execution_count": null,
      "metadata": {
        "id": "4A5uqNSE52ED"
      },
      "outputs": [],
      "source": [
        "#формирование выборок\n",
        "s_3=df[df['churn']==1]['products']\n",
        "s_4=df[df['churn']==0]['products']"
      ]
    },
    {
      "cell_type": "code",
      "execution_count": null,
      "metadata": {
        "id": "SoNpk-LH52ED",
        "outputId": "fb2a8291-e1fe-4a0c-ce34-a09835a53c49"
      },
      "outputs": [
        {
          "name": "stdout",
          "output_type": "stream",
          "text": [
            "p-значение:  6.741137692868694e-162\n",
            "Отвергаем нулевую гипотезу: разница статистически значима\n"
          ]
        }
      ],
      "source": [
        "#проверка гипотез\n",
        "alpha = 0.05\n",
        "results = st.mannwhitneyu(s_3, s_4)\n",
        "\n",
        "print('p-значение: ', results.pvalue)\n",
        "\n",
        "if results.pvalue < alpha:\n",
        "    print('Отвергаем нулевую гипотезу: разница статистически значима')\n",
        "else:\n",
        "    print(\n",
        "        'Не получилось отвергнуть нулевую гипотезу, вывод о различии сделать нельзя'\n",
        "    )"
      ]
    },
    {
      "cell_type": "code",
      "execution_count": null,
      "metadata": {
        "id": "n0BKvVp_52EE",
        "outputId": "51ed14e9-88b7-43e1-88a5-97db92aef1c1"
      },
      "outputs": [
        {
          "data": {
            "text/html": [
              "<div>\n",
              "<style scoped>\n",
              "    .dataframe tbody tr th:only-of-type {\n",
              "        vertical-align: middle;\n",
              "    }\n",
              "\n",
              "    .dataframe tbody tr th {\n",
              "        vertical-align: top;\n",
              "    }\n",
              "\n",
              "    .dataframe thead th {\n",
              "        text-align: right;\n",
              "    }\n",
              "</style>\n",
              "<table border=\"1\" class=\"dataframe\">\n",
              "  <thead>\n",
              "    <tr style=\"text-align: right;\">\n",
              "      <th></th>\n",
              "      <th>25%</th>\n",
              "      <th>50%</th>\n",
              "      <th>75%</th>\n",
              "      <th>count</th>\n",
              "      <th>max</th>\n",
              "      <th>mean</th>\n",
              "      <th>min</th>\n",
              "      <th>std</th>\n",
              "    </tr>\n",
              "    <tr>\n",
              "      <th>churn</th>\n",
              "      <th></th>\n",
              "      <th></th>\n",
              "      <th></th>\n",
              "      <th></th>\n",
              "      <th></th>\n",
              "      <th></th>\n",
              "      <th></th>\n",
              "      <th></th>\n",
              "    </tr>\n",
              "  </thead>\n",
              "  <tbody>\n",
              "    <tr>\n",
              "      <th>False</th>\n",
              "      <td>1.0</td>\n",
              "      <td>2.0</td>\n",
              "      <td>2.0</td>\n",
              "      <td>8180.0</td>\n",
              "      <td>5.0</td>\n",
              "      <td>1.757579</td>\n",
              "      <td>1.0</td>\n",
              "      <td>0.713371</td>\n",
              "    </tr>\n",
              "    <tr>\n",
              "      <th>True</th>\n",
              "      <td>2.0</td>\n",
              "      <td>2.0</td>\n",
              "      <td>3.0</td>\n",
              "      <td>1820.0</td>\n",
              "      <td>5.0</td>\n",
              "      <td>2.375824</td>\n",
              "      <td>0.0</td>\n",
              "      <td>0.923380</td>\n",
              "    </tr>\n",
              "  </tbody>\n",
              "</table>\n",
              "</div>"
            ],
            "text/plain": [
              "       25%  50%  75%   count  max      mean  min       std\n",
              "churn                                                     \n",
              "False  1.0  2.0  2.0  8180.0  5.0  1.757579  1.0  0.713371\n",
              "True   2.0  2.0  3.0  1820.0  5.0  2.375824  0.0  0.923380"
            ]
          },
          "execution_count": 204,
          "metadata": {},
          "output_type": "execute_result"
        }
      ],
      "source": [
        "#описательная статистика для выборок\n",
        "df.pivot_table(index='churn', values='products', aggfunc='describe')"
      ]
    },
    {
      "cell_type": "markdown",
      "metadata": {
        "id": "tky6k6Gh52EE"
      },
      "source": [
        "Не удалось отвергнуть нулевую гипотезу об отсутствии различий в возрасте тех, кто ушел в отток и кто не ушел. Среднее значение используемых продуктов для оставшихся и ушедших дейстивтельно отличается приблизительно на 0.5."
      ]
    },
    {
      "cell_type": "markdown",
      "metadata": {
        "id": "gQf5_KE952EF"
      },
      "source": [
        "## Вывод"
      ]
    },
    {
      "cell_type": "markdown",
      "metadata": {
        "id": "ac4DZ3WJ52EF"
      },
      "source": [
        "- В ходе работы была проведена работа с данными о клиентах банка для выявления причин оттока клиента. По итогам исследования был выведен такой портрет клиентов склонных и не склонных к оттоку:\n",
        "\n",
        "- Признаки клиентов, которые склонны уходить в отток:\n",
        "\n",
        "> К оттоку склонны клиенты мужского пола\n",
        "\n",
        "> Самый большой отток клиентов наблюдается в Ярославле\n",
        "\n",
        "> Клиенты, использующие от 1 до 2 продуктов, преимущественно остаются в банке\n",
        "\n",
        "> В основном из банка уходят клиенты, относящиеся к категории \"взрослый\"(возраст 36-60 лет)\n",
        "\n",
        "> В основном уходят клиенты, которые были активны в последнее время\n",
        "\n",
        "> Больше всего уходит клиентов, имеющих кредитную карту\n",
        "\n",
        "- Признаки клиентов, которые не склонны уходить в отток:\n",
        "\n",
        "> В банке остаются преимущественно женщины\n",
        "\n",
        "> Больше всего клиентов остается в Рыбинске и Ростове\n",
        "\n",
        "> Клиенты, использующие от 3 до 5 продуктов, преимущественно уходят в банке\n",
        "\n",
        "> В основном в банке остаются клиенты, относящиеся к категории \"старый\"(возраст более 61 года) и \"молодой\"(возраст 18-35 лет)\n",
        "\n",
        "> Больше всего остается клиентов, не имеющих кредитную карту\n",
        "\n",
        "- Были выделены одни из наиболее оотточные сегментов, ими оказались:  клиенты, использующие 3 и более продуктов, имеющие высокий достаток и на счету у которых более 100000; клиенты из Ярославля, не имеющие кредитной карты и с высоким уровнем дохода; клиенты мужского пола, использующие 3 и более продуктов и взрослого возраста.\n",
        "\n",
        "- Были проверены гипотезы: различие в количестве используемых продуктов между теми клиентами, которые ушли и теми, которые остались, не значительно и различия в возрасте между теми клиентами, которые ушли и теми, которые остались, не значительны.Обе гипотезы не подтвердились.\n",
        "\n",
        "- Рекомендации\n",
        "В ходе анализа были выявлены аномалии: большое количесво пропусков в данных, что может влиять на результаты анализа и свидетельствовать об ошибке в системе обработки клиентов. Стоит ориентировать работу банков на работу с молодежью и людьми старшего поколения. Провести опрос, выяснить что не так и сделать выпуск кредитных карт на более выгодных условиях, чтобы клиенты оставались. Предлагать большое количество продуктов банка на выгодных условиях."
      ]
    },
    {
      "cell_type": "markdown",
      "source": [
        "Дашборд- https://public.tableau.com/views/_16793308427250/Dashboard1?:language=en-US&:display_count=n&:origin=viz_share_link\n",
        "https://public.tableau.com/app/profile/olga8168/viz/_16793308427250/Dashboard1#2"
      ],
      "metadata": {
        "id": "zHgr4nfk56Xy"
      }
    }
  ],
  "metadata": {
    "ExecuteTimeLog": [
      {
        "duration": 413,
        "start_time": "2023-03-14T19:47:30.786Z"
      },
      {
        "duration": 2098,
        "start_time": "2023-03-14T19:47:55.768Z"
      },
      {
        "duration": 28,
        "start_time": "2023-03-14T19:48:07.447Z"
      },
      {
        "duration": 18,
        "start_time": "2023-03-14T19:48:20.826Z"
      },
      {
        "duration": 52,
        "start_time": "2023-03-14T19:48:36.635Z"
      },
      {
        "duration": 7,
        "start_time": "2023-03-14T19:50:23.342Z"
      },
      {
        "duration": 15,
        "start_time": "2023-03-14T19:50:36.221Z"
      },
      {
        "duration": 10,
        "start_time": "2023-03-14T19:51:29.671Z"
      },
      {
        "duration": 14,
        "start_time": "2023-03-14T19:51:35.975Z"
      },
      {
        "duration": 13,
        "start_time": "2023-03-14T19:54:36.488Z"
      },
      {
        "duration": 10,
        "start_time": "2023-03-14T19:56:27.015Z"
      },
      {
        "duration": 15,
        "start_time": "2023-03-14T19:56:37.744Z"
      },
      {
        "duration": 396,
        "start_time": "2023-03-15T06:07:59.806Z"
      },
      {
        "duration": 2175,
        "start_time": "2023-03-15T06:08:00.928Z"
      },
      {
        "duration": 26,
        "start_time": "2023-03-15T06:08:03.105Z"
      },
      {
        "duration": 12,
        "start_time": "2023-03-15T06:08:06.839Z"
      },
      {
        "duration": 39,
        "start_time": "2023-03-15T06:08:07.457Z"
      },
      {
        "duration": 3,
        "start_time": "2023-03-15T06:08:09.107Z"
      },
      {
        "duration": 12,
        "start_time": "2023-03-15T06:08:10.198Z"
      },
      {
        "duration": 3,
        "start_time": "2023-03-15T06:08:11.098Z"
      },
      {
        "duration": 12,
        "start_time": "2023-03-15T06:08:12.295Z"
      },
      {
        "duration": 11,
        "start_time": "2023-03-15T06:08:16.513Z"
      },
      {
        "duration": 4,
        "start_time": "2023-03-15T06:08:48.638Z"
      },
      {
        "duration": 7,
        "start_time": "2023-03-15T06:13:20.098Z"
      },
      {
        "duration": 22,
        "start_time": "2023-03-15T06:13:26.557Z"
      },
      {
        "duration": 66,
        "start_time": "2023-03-15T06:16:11.491Z"
      },
      {
        "duration": 12,
        "start_time": "2023-03-15T06:16:30.821Z"
      },
      {
        "duration": 8,
        "start_time": "2023-03-15T06:17:38.559Z"
      },
      {
        "duration": 10,
        "start_time": "2023-03-15T06:18:24.713Z"
      },
      {
        "duration": 11,
        "start_time": "2023-03-15T06:18:37.537Z"
      },
      {
        "duration": 6,
        "start_time": "2023-03-15T06:19:01.001Z"
      },
      {
        "duration": 8,
        "start_time": "2023-03-15T06:20:09.331Z"
      },
      {
        "duration": 7,
        "start_time": "2023-03-15T06:20:44.750Z"
      },
      {
        "duration": 4,
        "start_time": "2023-03-15T06:20:51.429Z"
      },
      {
        "duration": 5,
        "start_time": "2023-03-15T06:20:57.257Z"
      },
      {
        "duration": 3,
        "start_time": "2023-03-15T06:21:04.720Z"
      },
      {
        "duration": 2,
        "start_time": "2023-03-15T06:21:13.080Z"
      },
      {
        "duration": 1098,
        "start_time": "2023-03-15T06:21:13.817Z"
      },
      {
        "duration": 17,
        "start_time": "2023-03-15T06:21:14.917Z"
      },
      {
        "duration": 12,
        "start_time": "2023-03-15T06:21:16.130Z"
      },
      {
        "duration": 37,
        "start_time": "2023-03-15T06:21:16.777Z"
      },
      {
        "duration": 3,
        "start_time": "2023-03-15T06:21:20.849Z"
      },
      {
        "duration": 12,
        "start_time": "2023-03-15T06:21:21.537Z"
      },
      {
        "duration": 3,
        "start_time": "2023-03-15T06:21:22.317Z"
      },
      {
        "duration": 11,
        "start_time": "2023-03-15T06:21:23.649Z"
      },
      {
        "duration": 4,
        "start_time": "2023-03-15T06:21:26.097Z"
      },
      {
        "duration": 20,
        "start_time": "2023-03-15T06:21:28.145Z"
      },
      {
        "duration": 5,
        "start_time": "2023-03-15T06:21:31.409Z"
      },
      {
        "duration": 9,
        "start_time": "2023-03-15T06:21:33.962Z"
      },
      {
        "duration": 3,
        "start_time": "2023-03-15T06:21:38.198Z"
      },
      {
        "duration": 1164,
        "start_time": "2023-03-15T06:21:38.770Z"
      },
      {
        "duration": 1694,
        "start_time": "2023-03-15T06:21:42.657Z"
      },
      {
        "duration": 3,
        "start_time": "2023-03-15T06:21:48.938Z"
      },
      {
        "duration": 4,
        "start_time": "2023-03-15T06:21:51.393Z"
      },
      {
        "duration": 5,
        "start_time": "2023-03-15T06:21:54.885Z"
      },
      {
        "duration": 2,
        "start_time": "2023-03-15T06:21:58.863Z"
      },
      {
        "duration": 989,
        "start_time": "2023-03-15T06:21:59.362Z"
      },
      {
        "duration": 19,
        "start_time": "2023-03-15T06:22:00.353Z"
      },
      {
        "duration": 12,
        "start_time": "2023-03-15T06:22:00.624Z"
      },
      {
        "duration": 37,
        "start_time": "2023-03-15T06:22:01.024Z"
      },
      {
        "duration": 3,
        "start_time": "2023-03-15T06:22:02.130Z"
      },
      {
        "duration": 11,
        "start_time": "2023-03-15T06:22:02.717Z"
      },
      {
        "duration": 3,
        "start_time": "2023-03-15T06:22:02.877Z"
      },
      {
        "duration": 12,
        "start_time": "2023-03-15T06:22:03.277Z"
      },
      {
        "duration": 5,
        "start_time": "2023-03-15T06:22:03.690Z"
      },
      {
        "duration": 27,
        "start_time": "2023-03-15T06:22:03.981Z"
      },
      {
        "duration": 9,
        "start_time": "2023-03-15T06:22:04.333Z"
      },
      {
        "duration": 9,
        "start_time": "2023-03-15T06:22:04.716Z"
      },
      {
        "duration": 11,
        "start_time": "2023-03-15T06:22:05.098Z"
      },
      {
        "duration": 8,
        "start_time": "2023-03-15T06:22:05.409Z"
      },
      {
        "duration": 5,
        "start_time": "2023-03-15T06:22:05.777Z"
      },
      {
        "duration": 5,
        "start_time": "2023-03-15T06:22:35.597Z"
      },
      {
        "duration": 4,
        "start_time": "2023-03-15T06:23:08.857Z"
      },
      {
        "duration": 2158,
        "start_time": "2023-03-15T06:23:20.123Z"
      },
      {
        "duration": 19,
        "start_time": "2023-03-15T06:23:22.283Z"
      },
      {
        "duration": 4,
        "start_time": "2023-03-15T06:23:51.059Z"
      },
      {
        "duration": 10,
        "start_time": "2023-03-15T06:24:08.704Z"
      },
      {
        "duration": 9,
        "start_time": "2023-03-15T06:24:09.410Z"
      },
      {
        "duration": 9,
        "start_time": "2023-03-15T06:24:12.318Z"
      },
      {
        "duration": 3,
        "start_time": "2023-03-15T06:27:25.949Z"
      },
      {
        "duration": 3886,
        "start_time": "2023-03-15T06:27:26.677Z"
      },
      {
        "duration": 19,
        "start_time": "2023-03-15T06:27:30.564Z"
      },
      {
        "duration": 30,
        "start_time": "2023-03-15T06:27:30.585Z"
      },
      {
        "duration": 49,
        "start_time": "2023-03-15T06:27:30.617Z"
      },
      {
        "duration": 4,
        "start_time": "2023-03-15T06:27:32.605Z"
      },
      {
        "duration": 15,
        "start_time": "2023-03-15T06:27:33.178Z"
      },
      {
        "duration": 4,
        "start_time": "2023-03-15T06:27:36.237Z"
      },
      {
        "duration": 11,
        "start_time": "2023-03-15T06:27:36.698Z"
      },
      {
        "duration": 5,
        "start_time": "2023-03-15T06:27:37.496Z"
      },
      {
        "duration": 21,
        "start_time": "2023-03-15T06:27:38.957Z"
      },
      {
        "duration": 10,
        "start_time": "2023-03-15T06:27:39.797Z"
      },
      {
        "duration": 9,
        "start_time": "2023-03-15T06:27:41.109Z"
      },
      {
        "duration": 13,
        "start_time": "2023-03-15T06:27:41.831Z"
      },
      {
        "duration": 7,
        "start_time": "2023-03-15T06:27:42.508Z"
      },
      {
        "duration": 4,
        "start_time": "2023-03-15T06:27:46.290Z"
      },
      {
        "duration": 11,
        "start_time": "2023-03-15T06:27:57.196Z"
      },
      {
        "duration": 2,
        "start_time": "2023-03-15T06:33:40.732Z"
      },
      {
        "duration": 3600,
        "start_time": "2023-03-15T06:33:41.418Z"
      },
      {
        "duration": 21,
        "start_time": "2023-03-15T06:33:45.020Z"
      },
      {
        "duration": 26,
        "start_time": "2023-03-15T06:33:45.042Z"
      },
      {
        "duration": 43,
        "start_time": "2023-03-15T06:33:45.070Z"
      },
      {
        "duration": 3,
        "start_time": "2023-03-15T06:33:45.305Z"
      },
      {
        "duration": 13,
        "start_time": "2023-03-15T06:33:45.759Z"
      },
      {
        "duration": 3,
        "start_time": "2023-03-15T06:33:46.277Z"
      },
      {
        "duration": 12,
        "start_time": "2023-03-15T06:33:46.758Z"
      },
      {
        "duration": 5,
        "start_time": "2023-03-15T06:33:47.258Z"
      },
      {
        "duration": 23,
        "start_time": "2023-03-15T06:33:47.731Z"
      },
      {
        "duration": 11,
        "start_time": "2023-03-15T06:33:48.178Z"
      },
      {
        "duration": 9,
        "start_time": "2023-03-15T06:33:48.690Z"
      },
      {
        "duration": 10,
        "start_time": "2023-03-15T06:33:49.129Z"
      },
      {
        "duration": 7,
        "start_time": "2023-03-15T06:33:49.593Z"
      },
      {
        "duration": 4,
        "start_time": "2023-03-15T06:33:50.018Z"
      },
      {
        "duration": 14,
        "start_time": "2023-03-15T06:36:03.546Z"
      },
      {
        "duration": 37,
        "start_time": "2023-03-15T06:39:12.719Z"
      },
      {
        "duration": 2,
        "start_time": "2023-03-15T06:47:18.933Z"
      },
      {
        "duration": 1194,
        "start_time": "2023-03-15T06:47:19.475Z"
      },
      {
        "duration": 19,
        "start_time": "2023-03-15T06:47:20.671Z"
      },
      {
        "duration": 16,
        "start_time": "2023-03-15T06:47:20.692Z"
      },
      {
        "duration": 39,
        "start_time": "2023-03-15T06:47:21.108Z"
      },
      {
        "duration": 4,
        "start_time": "2023-03-15T06:47:22.368Z"
      },
      {
        "duration": 12,
        "start_time": "2023-03-15T06:47:22.757Z"
      },
      {
        "duration": 4,
        "start_time": "2023-03-15T06:47:23.149Z"
      },
      {
        "duration": 12,
        "start_time": "2023-03-15T06:47:23.524Z"
      },
      {
        "duration": 5,
        "start_time": "2023-03-15T06:47:23.877Z"
      },
      {
        "duration": 21,
        "start_time": "2023-03-15T06:47:24.236Z"
      },
      {
        "duration": 11,
        "start_time": "2023-03-15T06:47:24.648Z"
      },
      {
        "duration": 10,
        "start_time": "2023-03-15T06:47:25.016Z"
      },
      {
        "duration": 10,
        "start_time": "2023-03-15T06:47:25.508Z"
      },
      {
        "duration": 11,
        "start_time": "2023-03-15T06:47:26.308Z"
      },
      {
        "duration": 10,
        "start_time": "2023-03-15T06:47:33.084Z"
      },
      {
        "duration": 14,
        "start_time": "2023-03-15T06:47:33.336Z"
      },
      {
        "duration": 13,
        "start_time": "2023-03-15T06:47:33.648Z"
      },
      {
        "duration": 9,
        "start_time": "2023-03-15T06:47:33.997Z"
      },
      {
        "duration": 5,
        "start_time": "2023-03-15T06:47:34.429Z"
      },
      {
        "duration": 14,
        "start_time": "2023-03-15T06:47:34.816Z"
      },
      {
        "duration": 39,
        "start_time": "2023-03-15T06:47:36.049Z"
      },
      {
        "duration": 2,
        "start_time": "2023-03-15T06:52:17.094Z"
      },
      {
        "duration": 2166,
        "start_time": "2023-03-15T06:52:17.825Z"
      },
      {
        "duration": 18,
        "start_time": "2023-03-15T06:52:19.993Z"
      },
      {
        "duration": 13,
        "start_time": "2023-03-15T06:52:20.013Z"
      },
      {
        "duration": 49,
        "start_time": "2023-03-15T06:52:20.028Z"
      },
      {
        "duration": 3,
        "start_time": "2023-03-15T06:52:21.026Z"
      },
      {
        "duration": 13,
        "start_time": "2023-03-15T06:52:21.349Z"
      },
      {
        "duration": 3,
        "start_time": "2023-03-15T06:52:21.697Z"
      },
      {
        "duration": 11,
        "start_time": "2023-03-15T06:52:22.018Z"
      },
      {
        "duration": 5,
        "start_time": "2023-03-15T06:52:22.365Z"
      },
      {
        "duration": 22,
        "start_time": "2023-03-15T06:52:22.678Z"
      },
      {
        "duration": 11,
        "start_time": "2023-03-15T06:52:23.006Z"
      },
      {
        "duration": 10,
        "start_time": "2023-03-15T06:52:23.318Z"
      },
      {
        "duration": 13,
        "start_time": "2023-03-15T06:52:23.645Z"
      },
      {
        "duration": 11,
        "start_time": "2023-03-15T06:52:23.999Z"
      },
      {
        "duration": 4,
        "start_time": "2023-03-15T06:52:24.357Z"
      },
      {
        "duration": 14,
        "start_time": "2023-03-15T06:52:24.867Z"
      },
      {
        "duration": 29,
        "start_time": "2023-03-15T06:52:26.106Z"
      },
      {
        "duration": 3,
        "start_time": "2023-03-15T06:57:16.779Z"
      },
      {
        "duration": 6,
        "start_time": "2023-03-15T06:57:17.418Z"
      },
      {
        "duration": 22,
        "start_time": "2023-03-15T06:57:27.598Z"
      },
      {
        "duration": 3,
        "start_time": "2023-03-15T07:08:25.894Z"
      },
      {
        "duration": 4,
        "start_time": "2023-03-15T07:09:27.817Z"
      },
      {
        "duration": 28,
        "start_time": "2023-03-15T07:09:28.297Z"
      },
      {
        "duration": 3,
        "start_time": "2023-03-15T07:09:42.307Z"
      },
      {
        "duration": 36,
        "start_time": "2023-03-15T07:09:42.775Z"
      },
      {
        "duration": 3,
        "start_time": "2023-03-15T07:11:54.586Z"
      },
      {
        "duration": 27,
        "start_time": "2023-03-15T07:11:55.215Z"
      },
      {
        "duration": 5,
        "start_time": "2023-03-15T07:12:13.999Z"
      },
      {
        "duration": 4,
        "start_time": "2023-03-15T07:12:41.022Z"
      },
      {
        "duration": 28,
        "start_time": "2023-03-15T07:13:19.759Z"
      },
      {
        "duration": 102,
        "start_time": "2023-03-15T07:18:32.545Z"
      },
      {
        "duration": 7,
        "start_time": "2023-03-15T07:18:33.025Z"
      },
      {
        "duration": 3,
        "start_time": "2023-03-15T07:18:41.624Z"
      },
      {
        "duration": 27,
        "start_time": "2023-03-15T07:18:42.214Z"
      },
      {
        "duration": 691,
        "start_time": "2023-03-15T07:23:23.846Z"
      },
      {
        "duration": 26,
        "start_time": "2023-03-15T07:23:37.327Z"
      },
      {
        "duration": 8,
        "start_time": "2023-03-15T07:23:46.435Z"
      },
      {
        "duration": 11,
        "start_time": "2023-03-15T07:24:14.080Z"
      },
      {
        "duration": 124776,
        "start_time": "2023-03-15T07:24:26.861Z"
      },
      {
        "duration": 2,
        "start_time": "2023-03-15T07:26:31.639Z"
      },
      {
        "duration": 9,
        "start_time": "2023-03-15T07:26:40.978Z"
      },
      {
        "duration": 108,
        "start_time": "2023-03-15T07:27:13.515Z"
      },
      {
        "duration": 4,
        "start_time": "2023-03-15T07:29:46.226Z"
      },
      {
        "duration": 816,
        "start_time": "2023-03-15T14:03:43.136Z"
      },
      {
        "duration": 838,
        "start_time": "2023-03-15T14:03:44.905Z"
      },
      {
        "duration": 36,
        "start_time": "2023-03-15T14:03:46.414Z"
      },
      {
        "duration": 14,
        "start_time": "2023-03-15T14:03:48.935Z"
      },
      {
        "duration": 48,
        "start_time": "2023-03-15T14:03:49.938Z"
      },
      {
        "duration": 6,
        "start_time": "2023-03-15T14:03:59.717Z"
      },
      {
        "duration": 13,
        "start_time": "2023-03-15T14:04:00.546Z"
      },
      {
        "duration": 5,
        "start_time": "2023-03-15T14:04:04.305Z"
      },
      {
        "duration": 5,
        "start_time": "2023-03-15T14:04:20.016Z"
      },
      {
        "duration": 6,
        "start_time": "2023-03-15T14:04:25.081Z"
      },
      {
        "duration": 5,
        "start_time": "2023-03-15T14:04:28.645Z"
      },
      {
        "duration": 32,
        "start_time": "2023-03-15T14:04:29.003Z"
      },
      {
        "duration": 10,
        "start_time": "2023-03-15T14:04:32.026Z"
      },
      {
        "duration": 10,
        "start_time": "2023-03-15T14:04:32.708Z"
      },
      {
        "duration": 11,
        "start_time": "2023-03-15T14:04:33.597Z"
      },
      {
        "duration": 9,
        "start_time": "2023-03-15T14:04:34.296Z"
      },
      {
        "duration": 5,
        "start_time": "2023-03-15T14:04:37.002Z"
      },
      {
        "duration": 14,
        "start_time": "2023-03-15T14:04:39.299Z"
      },
      {
        "duration": 30,
        "start_time": "2023-03-15T14:04:43.926Z"
      },
      {
        "duration": 143,
        "start_time": "2023-03-15T14:06:09.447Z"
      },
      {
        "duration": 11,
        "start_time": "2023-03-15T14:06:29.709Z"
      },
      {
        "duration": 4,
        "start_time": "2023-03-15T14:07:02.901Z"
      },
      {
        "duration": 6,
        "start_time": "2023-03-15T14:07:03.900Z"
      },
      {
        "duration": 22,
        "start_time": "2023-03-15T14:07:04.604Z"
      },
      {
        "duration": 10,
        "start_time": "2023-03-15T14:08:04.602Z"
      },
      {
        "duration": 3,
        "start_time": "2023-03-15T14:08:06.336Z"
      },
      {
        "duration": 113,
        "start_time": "2023-03-15T14:08:36.401Z"
      },
      {
        "duration": 105,
        "start_time": "2023-03-15T14:09:07.408Z"
      },
      {
        "duration": 4,
        "start_time": "2023-03-15T14:09:25.834Z"
      },
      {
        "duration": 43,
        "start_time": "2023-03-15T14:09:26.457Z"
      },
      {
        "duration": 10,
        "start_time": "2023-03-15T14:10:43.107Z"
      },
      {
        "duration": 6,
        "start_time": "2023-03-15T14:11:02.346Z"
      },
      {
        "duration": 6,
        "start_time": "2023-03-15T14:11:04.312Z"
      },
      {
        "duration": 36,
        "start_time": "2023-03-15T14:11:04.905Z"
      },
      {
        "duration": 8,
        "start_time": "2023-03-15T14:12:33.901Z"
      },
      {
        "duration": 3,
        "start_time": "2023-03-15T14:12:34.909Z"
      },
      {
        "duration": 30,
        "start_time": "2023-03-15T14:12:37.104Z"
      },
      {
        "duration": 9,
        "start_time": "2023-03-15T14:13:28.091Z"
      },
      {
        "duration": 109,
        "start_time": "2023-03-15T14:13:34.435Z"
      },
      {
        "duration": 3,
        "start_time": "2023-03-15T14:13:36.401Z"
      },
      {
        "duration": 1686,
        "start_time": "2023-03-15T14:13:37.304Z"
      },
      {
        "duration": 37,
        "start_time": "2023-03-15T14:14:02.609Z"
      },
      {
        "duration": 32,
        "start_time": "2023-03-15T14:18:32.509Z"
      },
      {
        "duration": 910,
        "start_time": "2023-03-15T19:57:40.002Z"
      },
      {
        "duration": 1389,
        "start_time": "2023-03-15T19:57:40.915Z"
      },
      {
        "duration": 24,
        "start_time": "2023-03-15T19:57:42.306Z"
      },
      {
        "duration": 26,
        "start_time": "2023-03-15T19:57:42.332Z"
      },
      {
        "duration": 3,
        "start_time": "2023-03-15T19:57:43.305Z"
      },
      {
        "duration": 22,
        "start_time": "2023-03-15T19:57:43.779Z"
      },
      {
        "duration": 3,
        "start_time": "2023-03-15T19:57:44.303Z"
      },
      {
        "duration": 4,
        "start_time": "2023-03-15T19:57:46.902Z"
      },
      {
        "duration": 5,
        "start_time": "2023-03-15T19:57:47.415Z"
      },
      {
        "duration": 21,
        "start_time": "2023-03-15T19:57:47.803Z"
      },
      {
        "duration": 11,
        "start_time": "2023-03-15T19:57:48.126Z"
      },
      {
        "duration": 9,
        "start_time": "2023-03-15T19:57:48.443Z"
      },
      {
        "duration": 10,
        "start_time": "2023-03-15T19:57:48.775Z"
      },
      {
        "duration": 7,
        "start_time": "2023-03-15T19:57:49.103Z"
      },
      {
        "duration": 6,
        "start_time": "2023-03-15T19:57:49.465Z"
      },
      {
        "duration": 14,
        "start_time": "2023-03-15T19:57:49.803Z"
      },
      {
        "duration": 30,
        "start_time": "2023-03-15T19:57:50.620Z"
      },
      {
        "duration": 9,
        "start_time": "2023-03-15T19:57:51.651Z"
      },
      {
        "duration": 3,
        "start_time": "2023-03-15T19:57:51.986Z"
      },
      {
        "duration": 6,
        "start_time": "2023-03-15T19:57:52.311Z"
      },
      {
        "duration": 21,
        "start_time": "2023-03-15T19:57:52.652Z"
      },
      {
        "duration": 7,
        "start_time": "2023-03-15T19:57:53.252Z"
      },
      {
        "duration": 3,
        "start_time": "2023-03-15T19:57:53.582Z"
      },
      {
        "duration": 26,
        "start_time": "2023-03-15T19:57:53.903Z"
      },
      {
        "duration": 8,
        "start_time": "2023-03-15T19:57:54.633Z"
      },
      {
        "duration": 4,
        "start_time": "2023-03-15T19:57:54.969Z"
      },
      {
        "duration": 4,
        "start_time": "2023-03-15T19:57:55.309Z"
      },
      {
        "duration": 29,
        "start_time": "2023-03-15T19:57:55.676Z"
      },
      {
        "duration": 12,
        "start_time": "2023-03-15T19:57:56.350Z"
      },
      {
        "duration": 3,
        "start_time": "2023-03-15T19:57:56.710Z"
      },
      {
        "duration": 29,
        "start_time": "2023-03-15T19:57:57.030Z"
      },
      {
        "duration": 9,
        "start_time": "2023-03-15T19:57:57.675Z"
      },
      {
        "duration": 140,
        "start_time": "2023-03-15T19:57:58.065Z"
      },
      {
        "duration": 5,
        "start_time": "2023-03-15T19:57:58.442Z"
      },
      {
        "duration": 31,
        "start_time": "2023-03-15T19:57:58.808Z"
      },
      {
        "duration": 86,
        "start_time": "2023-03-15T19:58:05.284Z"
      },
      {
        "duration": 10,
        "start_time": "2023-03-15T20:02:28.325Z"
      },
      {
        "duration": 14,
        "start_time": "2023-03-15T20:02:34.502Z"
      },
      {
        "duration": 12,
        "start_time": "2023-03-15T20:02:47.261Z"
      },
      {
        "duration": 9,
        "start_time": "2023-03-15T20:03:16.609Z"
      },
      {
        "duration": 557,
        "start_time": "2023-03-15T20:03:30.854Z"
      },
      {
        "duration": 845,
        "start_time": "2023-03-15T20:03:37.102Z"
      },
      {
        "duration": 16,
        "start_time": "2023-03-15T20:03:57.801Z"
      },
      {
        "duration": 25,
        "start_time": "2023-03-15T20:03:57.891Z"
      },
      {
        "duration": 13,
        "start_time": "2023-03-15T20:04:01.243Z"
      },
      {
        "duration": 20,
        "start_time": "2023-03-15T20:04:01.833Z"
      },
      {
        "duration": 13,
        "start_time": "2023-03-15T20:05:10.369Z"
      },
      {
        "duration": 21,
        "start_time": "2023-03-15T20:05:11.081Z"
      },
      {
        "duration": 130,
        "start_time": "2023-03-15T20:06:12.402Z"
      },
      {
        "duration": 13,
        "start_time": "2023-03-15T20:06:29.774Z"
      },
      {
        "duration": 193,
        "start_time": "2023-03-15T20:06:30.475Z"
      },
      {
        "duration": 261,
        "start_time": "2023-03-15T20:07:01.620Z"
      },
      {
        "duration": 14,
        "start_time": "2023-03-15T20:07:19.306Z"
      },
      {
        "duration": 15,
        "start_time": "2023-03-15T20:07:42.238Z"
      },
      {
        "duration": 13,
        "start_time": "2023-03-15T20:07:44.696Z"
      },
      {
        "duration": 17,
        "start_time": "2023-03-15T20:08:17.872Z"
      },
      {
        "duration": 254,
        "start_time": "2023-03-15T20:09:17.269Z"
      },
      {
        "duration": 139,
        "start_time": "2023-03-15T20:09:46.687Z"
      },
      {
        "duration": 116,
        "start_time": "2023-03-15T20:10:10.501Z"
      },
      {
        "duration": 3,
        "start_time": "2023-03-15T20:53:41.026Z"
      },
      {
        "duration": 3749,
        "start_time": "2023-03-15T20:53:41.679Z"
      },
      {
        "duration": 19,
        "start_time": "2023-03-15T20:53:45.430Z"
      },
      {
        "duration": 11,
        "start_time": "2023-03-15T20:53:45.450Z"
      },
      {
        "duration": 3,
        "start_time": "2023-03-15T20:53:46.932Z"
      },
      {
        "duration": 12,
        "start_time": "2023-03-15T20:53:47.343Z"
      },
      {
        "duration": 4,
        "start_time": "2023-03-15T20:53:47.726Z"
      },
      {
        "duration": 6,
        "start_time": "2023-03-15T20:53:48.012Z"
      },
      {
        "duration": 5,
        "start_time": "2023-03-15T20:53:48.660Z"
      },
      {
        "duration": 20,
        "start_time": "2023-03-15T20:53:48.736Z"
      },
      {
        "duration": 11,
        "start_time": "2023-03-15T20:53:49.043Z"
      },
      {
        "duration": 10,
        "start_time": "2023-03-15T20:53:49.375Z"
      },
      {
        "duration": 11,
        "start_time": "2023-03-15T20:53:49.661Z"
      },
      {
        "duration": 12,
        "start_time": "2023-03-15T20:53:49.993Z"
      },
      {
        "duration": 5,
        "start_time": "2023-03-15T20:53:50.369Z"
      },
      {
        "duration": 14,
        "start_time": "2023-03-15T20:53:51.028Z"
      },
      {
        "duration": 31,
        "start_time": "2023-03-15T20:53:51.833Z"
      },
      {
        "duration": 8,
        "start_time": "2023-03-15T20:53:53.168Z"
      },
      {
        "duration": 7,
        "start_time": "2023-03-15T20:53:53.511Z"
      },
      {
        "duration": 6,
        "start_time": "2023-03-15T20:53:53.843Z"
      },
      {
        "duration": 33,
        "start_time": "2023-03-15T20:53:54.085Z"
      },
      {
        "duration": 11,
        "start_time": "2023-03-15T20:53:54.855Z"
      },
      {
        "duration": 4,
        "start_time": "2023-03-15T20:53:55.249Z"
      },
      {
        "duration": 28,
        "start_time": "2023-03-15T20:53:55.567Z"
      },
      {
        "duration": 10,
        "start_time": "2023-03-15T20:53:56.234Z"
      },
      {
        "duration": 6,
        "start_time": "2023-03-15T20:53:56.544Z"
      },
      {
        "duration": 3,
        "start_time": "2023-03-15T20:53:56.862Z"
      },
      {
        "duration": 35,
        "start_time": "2023-03-15T20:53:57.188Z"
      },
      {
        "duration": 8,
        "start_time": "2023-03-15T20:53:58.117Z"
      },
      {
        "duration": 4,
        "start_time": "2023-03-15T20:53:58.463Z"
      },
      {
        "duration": 29,
        "start_time": "2023-03-15T20:53:58.850Z"
      },
      {
        "duration": 9,
        "start_time": "2023-03-15T20:53:59.526Z"
      },
      {
        "duration": 117,
        "start_time": "2023-03-15T20:53:59.911Z"
      },
      {
        "duration": 4,
        "start_time": "2023-03-15T20:54:00.268Z"
      },
      {
        "duration": 34,
        "start_time": "2023-03-15T20:54:00.741Z"
      },
      {
        "duration": 13,
        "start_time": "2023-03-15T20:54:04.824Z"
      },
      {
        "duration": 191,
        "start_time": "2023-03-15T20:54:05.319Z"
      },
      {
        "duration": 12,
        "start_time": "2023-03-15T20:54:23.517Z"
      },
      {
        "duration": 153,
        "start_time": "2023-03-15T20:54:26.783Z"
      },
      {
        "duration": 16,
        "start_time": "2023-03-15T20:54:56.240Z"
      },
      {
        "duration": 1459,
        "start_time": "2023-03-15T20:54:56.782Z"
      },
      {
        "duration": 15,
        "start_time": "2023-03-15T20:55:17.627Z"
      },
      {
        "duration": 169,
        "start_time": "2023-03-15T20:55:26.667Z"
      },
      {
        "duration": 14,
        "start_time": "2023-03-15T20:55:50.379Z"
      },
      {
        "duration": 182,
        "start_time": "2023-03-15T20:55:51.365Z"
      },
      {
        "duration": 15,
        "start_time": "2023-03-15T20:56:04.087Z"
      },
      {
        "duration": 199,
        "start_time": "2023-03-15T20:56:11.139Z"
      },
      {
        "duration": 13,
        "start_time": "2023-03-15T20:56:26.844Z"
      },
      {
        "duration": 188,
        "start_time": "2023-03-15T20:56:27.472Z"
      },
      {
        "duration": 13,
        "start_time": "2023-03-15T20:56:48.732Z"
      },
      {
        "duration": 241,
        "start_time": "2023-03-15T20:56:52.121Z"
      },
      {
        "duration": 14,
        "start_time": "2023-03-15T20:57:20.828Z"
      },
      {
        "duration": 165,
        "start_time": "2023-03-15T20:57:21.684Z"
      },
      {
        "duration": 13,
        "start_time": "2023-03-15T20:57:52.473Z"
      },
      {
        "duration": 138,
        "start_time": "2023-03-15T20:57:53.232Z"
      },
      {
        "duration": 14,
        "start_time": "2023-03-15T21:03:11.962Z"
      },
      {
        "duration": 189,
        "start_time": "2023-03-15T21:03:15.875Z"
      },
      {
        "duration": 13,
        "start_time": "2023-03-15T21:03:48.611Z"
      },
      {
        "duration": 177,
        "start_time": "2023-03-15T21:03:49.478Z"
      },
      {
        "duration": 5,
        "start_time": "2023-03-15T21:04:24.106Z"
      },
      {
        "duration": 27,
        "start_time": "2023-03-15T21:04:24.737Z"
      },
      {
        "duration": 13,
        "start_time": "2023-03-15T21:04:30.360Z"
      },
      {
        "duration": 159,
        "start_time": "2023-03-15T21:04:30.962Z"
      },
      {
        "duration": 1251,
        "start_time": "2023-03-16T07:09:49.911Z"
      },
      {
        "duration": 1329,
        "start_time": "2023-03-16T07:09:52.433Z"
      },
      {
        "duration": 20,
        "start_time": "2023-03-16T07:09:54.495Z"
      },
      {
        "duration": 12,
        "start_time": "2023-03-16T07:09:56.671Z"
      },
      {
        "duration": 3,
        "start_time": "2023-03-16T07:09:58.389Z"
      },
      {
        "duration": 11,
        "start_time": "2023-03-16T07:09:58.891Z"
      },
      {
        "duration": 3,
        "start_time": "2023-03-16T07:09:59.315Z"
      },
      {
        "duration": 4,
        "start_time": "2023-03-16T07:09:59.891Z"
      },
      {
        "duration": 5,
        "start_time": "2023-03-16T07:10:00.389Z"
      },
      {
        "duration": 18,
        "start_time": "2023-03-16T07:10:00.749Z"
      },
      {
        "duration": 13,
        "start_time": "2023-03-16T07:10:01.192Z"
      },
      {
        "duration": 10,
        "start_time": "2023-03-16T07:10:01.638Z"
      },
      {
        "duration": 12,
        "start_time": "2023-03-16T07:10:02.107Z"
      },
      {
        "duration": 7,
        "start_time": "2023-03-16T07:10:02.639Z"
      },
      {
        "duration": 5,
        "start_time": "2023-03-16T07:10:03.103Z"
      },
      {
        "duration": 20,
        "start_time": "2023-03-16T07:10:03.512Z"
      },
      {
        "duration": 35,
        "start_time": "2023-03-16T07:10:04.383Z"
      },
      {
        "duration": 7,
        "start_time": "2023-03-16T07:10:05.653Z"
      },
      {
        "duration": 3,
        "start_time": "2023-03-16T07:10:06.306Z"
      },
      {
        "duration": 5,
        "start_time": "2023-03-16T07:10:07.332Z"
      },
      {
        "duration": 20,
        "start_time": "2023-03-16T07:10:07.339Z"
      },
      {
        "duration": 9,
        "start_time": "2023-03-16T07:10:08.719Z"
      },
      {
        "duration": 4,
        "start_time": "2023-03-16T07:10:09.231Z"
      },
      {
        "duration": 24,
        "start_time": "2023-03-16T07:10:09.831Z"
      },
      {
        "duration": 8,
        "start_time": "2023-03-16T07:10:11.591Z"
      },
      {
        "duration": 3,
        "start_time": "2023-03-16T07:10:11.985Z"
      },
      {
        "duration": 3,
        "start_time": "2023-03-16T07:10:12.424Z"
      },
      {
        "duration": 25,
        "start_time": "2023-03-16T07:10:12.807Z"
      },
      {
        "duration": 8,
        "start_time": "2023-03-16T07:10:13.803Z"
      },
      {
        "duration": 3,
        "start_time": "2023-03-16T07:10:14.230Z"
      },
      {
        "duration": 24,
        "start_time": "2023-03-16T07:10:14.850Z"
      },
      {
        "duration": 9,
        "start_time": "2023-03-16T07:10:16.191Z"
      },
      {
        "duration": 104,
        "start_time": "2023-03-16T07:10:16.787Z"
      },
      {
        "duration": 4,
        "start_time": "2023-03-16T07:10:17.484Z"
      },
      {
        "duration": 39,
        "start_time": "2023-03-16T07:10:18.648Z"
      },
      {
        "duration": 11,
        "start_time": "2023-03-16T07:10:22.292Z"
      },
      {
        "duration": 233,
        "start_time": "2023-03-16T07:10:26.837Z"
      },
      {
        "duration": 147,
        "start_time": "2023-03-16T07:10:53.219Z"
      },
      {
        "duration": 16,
        "start_time": "2023-03-16T07:10:58.126Z"
      },
      {
        "duration": 199,
        "start_time": "2023-03-16T07:11:03.411Z"
      },
      {
        "duration": 13,
        "start_time": "2023-03-16T07:11:07.165Z"
      },
      {
        "duration": 178,
        "start_time": "2023-03-16T07:11:12.192Z"
      },
      {
        "duration": 13,
        "start_time": "2023-03-16T07:11:16.011Z"
      },
      {
        "duration": 213,
        "start_time": "2023-03-16T07:11:20.926Z"
      },
      {
        "duration": 14,
        "start_time": "2023-03-16T07:11:27.491Z"
      },
      {
        "duration": 162,
        "start_time": "2023-03-16T07:11:36.399Z"
      },
      {
        "duration": 11,
        "start_time": "2023-03-16T07:11:39.610Z"
      },
      {
        "duration": 163,
        "start_time": "2023-03-16T07:11:43.904Z"
      },
      {
        "duration": 12,
        "start_time": "2023-03-16T07:11:47.887Z"
      },
      {
        "duration": 242,
        "start_time": "2023-03-16T07:11:52.717Z"
      },
      {
        "duration": 16,
        "start_time": "2023-03-16T07:11:56.820Z"
      },
      {
        "duration": 157,
        "start_time": "2023-03-16T07:12:01.317Z"
      },
      {
        "duration": 28,
        "start_time": "2023-03-16T07:12:04.315Z"
      },
      {
        "duration": 171,
        "start_time": "2023-03-16T07:12:09.411Z"
      },
      {
        "duration": 1405,
        "start_time": "2023-03-17T01:53:24.656Z"
      },
      {
        "duration": 3938,
        "start_time": "2023-03-17T01:53:30.513Z"
      },
      {
        "duration": 2113,
        "start_time": "2023-03-17T01:53:35.763Z"
      },
      {
        "duration": 41,
        "start_time": "2023-03-17T01:53:37.880Z"
      },
      {
        "duration": 24,
        "start_time": "2023-03-17T01:53:37.923Z"
      },
      {
        "duration": 4,
        "start_time": "2023-03-17T01:53:38.501Z"
      },
      {
        "duration": 19,
        "start_time": "2023-03-17T01:53:38.840Z"
      },
      {
        "duration": 4,
        "start_time": "2023-03-17T01:53:39.142Z"
      },
      {
        "duration": 4,
        "start_time": "2023-03-17T01:53:39.452Z"
      },
      {
        "duration": 5,
        "start_time": "2023-03-17T01:53:39.771Z"
      },
      {
        "duration": 22,
        "start_time": "2023-03-17T01:53:40.090Z"
      },
      {
        "duration": 16,
        "start_time": "2023-03-17T01:53:40.422Z"
      },
      {
        "duration": 10,
        "start_time": "2023-03-17T01:53:40.937Z"
      },
      {
        "duration": 12,
        "start_time": "2023-03-17T01:53:41.265Z"
      },
      {
        "duration": 9,
        "start_time": "2023-03-17T01:53:41.579Z"
      },
      {
        "duration": 5,
        "start_time": "2023-03-17T01:53:41.912Z"
      },
      {
        "duration": 17,
        "start_time": "2023-03-17T01:53:42.218Z"
      },
      {
        "duration": 36,
        "start_time": "2023-03-17T01:53:42.861Z"
      },
      {
        "duration": 9,
        "start_time": "2023-03-17T01:53:43.822Z"
      },
      {
        "duration": 3,
        "start_time": "2023-03-17T01:53:44.121Z"
      },
      {
        "duration": 7,
        "start_time": "2023-03-17T01:53:44.466Z"
      },
      {
        "duration": 24,
        "start_time": "2023-03-17T01:53:44.780Z"
      },
      {
        "duration": 9,
        "start_time": "2023-03-17T01:53:45.405Z"
      },
      {
        "duration": 4,
        "start_time": "2023-03-17T01:53:45.725Z"
      },
      {
        "duration": 31,
        "start_time": "2023-03-17T01:53:46.024Z"
      },
      {
        "duration": 9,
        "start_time": "2023-03-17T01:53:46.679Z"
      },
      {
        "duration": 5,
        "start_time": "2023-03-17T01:53:46.851Z"
      },
      {
        "duration": 3,
        "start_time": "2023-03-17T01:53:47.177Z"
      },
      {
        "duration": 43,
        "start_time": "2023-03-17T01:53:47.485Z"
      },
      {
        "duration": 9,
        "start_time": "2023-03-17T01:53:48.092Z"
      },
      {
        "duration": 4,
        "start_time": "2023-03-17T01:53:48.608Z"
      },
      {
        "duration": 33,
        "start_time": "2023-03-17T01:53:48.940Z"
      },
      {
        "duration": 9,
        "start_time": "2023-03-17T01:53:49.531Z"
      },
      {
        "duration": 129,
        "start_time": "2023-03-17T01:53:49.811Z"
      },
      {
        "duration": 4,
        "start_time": "2023-03-17T01:53:50.120Z"
      },
      {
        "duration": 42,
        "start_time": "2023-03-17T01:53:50.476Z"
      },
      {
        "duration": 21,
        "start_time": "2023-03-17T01:53:51.696Z"
      },
      {
        "duration": 213,
        "start_time": "2023-03-17T01:53:52.138Z"
      },
      {
        "duration": 15,
        "start_time": "2023-03-17T01:53:52.813Z"
      },
      {
        "duration": 198,
        "start_time": "2023-03-17T01:53:53.167Z"
      },
      {
        "duration": 13,
        "start_time": "2023-03-17T01:53:53.843Z"
      },
      {
        "duration": 209,
        "start_time": "2023-03-17T01:53:54.160Z"
      },
      {
        "duration": 14,
        "start_time": "2023-03-17T01:53:54.840Z"
      },
      {
        "duration": 209,
        "start_time": "2023-03-17T01:53:55.172Z"
      },
      {
        "duration": 16,
        "start_time": "2023-03-17T01:53:55.793Z"
      },
      {
        "duration": 201,
        "start_time": "2023-03-17T01:53:56.139Z"
      },
      {
        "duration": 15,
        "start_time": "2023-03-17T01:53:56.761Z"
      },
      {
        "duration": 191,
        "start_time": "2023-03-17T01:53:57.084Z"
      },
      {
        "duration": 17,
        "start_time": "2023-03-17T01:53:57.748Z"
      },
      {
        "duration": 182,
        "start_time": "2023-03-17T01:53:58.081Z"
      },
      {
        "duration": 14,
        "start_time": "2023-03-17T01:53:58.716Z"
      },
      {
        "duration": 263,
        "start_time": "2023-03-17T01:53:59.053Z"
      },
      {
        "duration": 16,
        "start_time": "2023-03-17T01:53:59.601Z"
      },
      {
        "duration": 212,
        "start_time": "2023-03-17T01:54:00.005Z"
      },
      {
        "duration": 8,
        "start_time": "2023-03-17T01:57:44.312Z"
      },
      {
        "duration": 13,
        "start_time": "2023-03-17T01:57:45.094Z"
      },
      {
        "duration": 7,
        "start_time": "2023-03-17T01:58:19.925Z"
      },
      {
        "duration": 159,
        "start_time": "2023-03-17T01:58:20.615Z"
      },
      {
        "duration": 8,
        "start_time": "2023-03-17T01:58:56.277Z"
      },
      {
        "duration": 14,
        "start_time": "2023-03-17T01:58:56.999Z"
      },
      {
        "duration": 54,
        "start_time": "2023-03-17T01:59:40.367Z"
      },
      {
        "duration": 31,
        "start_time": "2023-03-17T02:00:31.732Z"
      },
      {
        "duration": 15,
        "start_time": "2023-03-17T02:01:00.156Z"
      },
      {
        "duration": 44,
        "start_time": "2023-03-17T02:01:05.030Z"
      },
      {
        "duration": 2,
        "start_time": "2023-03-17T02:02:42.930Z"
      },
      {
        "duration": 3,
        "start_time": "2023-03-17T02:04:24.945Z"
      },
      {
        "duration": 2356,
        "start_time": "2023-03-17T02:04:25.462Z"
      },
      {
        "duration": 28,
        "start_time": "2023-03-17T02:04:27.820Z"
      },
      {
        "duration": 17,
        "start_time": "2023-03-17T02:04:27.850Z"
      },
      {
        "duration": 4,
        "start_time": "2023-03-17T02:04:32.161Z"
      },
      {
        "duration": 5,
        "start_time": "2023-03-17T02:04:34.592Z"
      },
      {
        "duration": 4,
        "start_time": "2023-03-17T02:05:30.427Z"
      },
      {
        "duration": 6,
        "start_time": "2023-03-17T02:05:31.193Z"
      },
      {
        "duration": 7,
        "start_time": "2023-03-17T02:06:01.759Z"
      },
      {
        "duration": 25,
        "start_time": "2023-03-17T02:06:02.708Z"
      },
      {
        "duration": 15,
        "start_time": "2023-03-17T02:06:18.907Z"
      },
      {
        "duration": 14,
        "start_time": "2023-03-17T02:06:55.523Z"
      },
      {
        "duration": 12,
        "start_time": "2023-03-17T02:06:56.222Z"
      },
      {
        "duration": 9,
        "start_time": "2023-03-17T02:07:17.582Z"
      },
      {
        "duration": 14,
        "start_time": "2023-03-17T02:07:31.297Z"
      },
      {
        "duration": 15,
        "start_time": "2023-03-17T02:08:24.163Z"
      },
      {
        "duration": 31,
        "start_time": "2023-03-17T02:09:08.253Z"
      },
      {
        "duration": 9,
        "start_time": "2023-03-17T02:14:39.929Z"
      },
      {
        "duration": 4,
        "start_time": "2023-03-17T02:14:40.625Z"
      },
      {
        "duration": 6,
        "start_time": "2023-03-17T02:14:41.323Z"
      },
      {
        "duration": 26,
        "start_time": "2023-03-17T02:14:42.038Z"
      },
      {
        "duration": 8,
        "start_time": "2023-03-17T02:14:43.188Z"
      },
      {
        "duration": 3,
        "start_time": "2023-03-17T02:14:43.671Z"
      },
      {
        "duration": 33,
        "start_time": "2023-03-17T02:14:44.208Z"
      },
      {
        "duration": 8,
        "start_time": "2023-03-17T02:14:45.159Z"
      },
      {
        "duration": 5,
        "start_time": "2023-03-17T02:14:45.628Z"
      },
      {
        "duration": 5,
        "start_time": "2023-03-17T02:14:46.196Z"
      },
      {
        "duration": 39,
        "start_time": "2023-03-17T02:14:46.747Z"
      },
      {
        "duration": 8,
        "start_time": "2023-03-17T02:14:47.716Z"
      },
      {
        "duration": 4,
        "start_time": "2023-03-17T02:14:48.184Z"
      },
      {
        "duration": 30,
        "start_time": "2023-03-17T02:14:48.668Z"
      },
      {
        "duration": 9,
        "start_time": "2023-03-17T02:14:49.932Z"
      },
      {
        "duration": 175,
        "start_time": "2023-03-17T02:14:50.467Z"
      },
      {
        "duration": 3,
        "start_time": "2023-03-17T02:14:50.977Z"
      },
      {
        "duration": 32,
        "start_time": "2023-03-17T02:14:51.695Z"
      },
      {
        "duration": 450,
        "start_time": "2023-03-17T02:22:04.977Z"
      },
      {
        "duration": 1035,
        "start_time": "2023-03-17T02:22:52.233Z"
      },
      {
        "duration": 1161,
        "start_time": "2023-03-17T02:23:45.838Z"
      },
      {
        "duration": 977,
        "start_time": "2023-03-17T02:26:23.386Z"
      },
      {
        "duration": 3,
        "start_time": "2023-03-17T03:51:44.072Z"
      },
      {
        "duration": 1455,
        "start_time": "2023-03-17T03:51:44.810Z"
      },
      {
        "duration": 21,
        "start_time": "2023-03-17T03:51:46.268Z"
      },
      {
        "duration": 14,
        "start_time": "2023-03-17T03:51:46.460Z"
      },
      {
        "duration": 4,
        "start_time": "2023-03-17T03:51:47.774Z"
      },
      {
        "duration": 4,
        "start_time": "2023-03-17T03:51:48.296Z"
      },
      {
        "duration": 5,
        "start_time": "2023-03-17T03:51:48.894Z"
      },
      {
        "duration": 7,
        "start_time": "2023-03-17T03:51:49.535Z"
      },
      {
        "duration": 24,
        "start_time": "2023-03-17T03:51:50.023Z"
      },
      {
        "duration": 14,
        "start_time": "2023-03-17T03:51:50.483Z"
      },
      {
        "duration": 11,
        "start_time": "2023-03-17T03:51:51.193Z"
      },
      {
        "duration": 13,
        "start_time": "2023-03-17T03:51:51.605Z"
      },
      {
        "duration": 8,
        "start_time": "2023-03-17T03:51:52.034Z"
      },
      {
        "duration": 15,
        "start_time": "2023-03-17T03:51:52.672Z"
      },
      {
        "duration": 33,
        "start_time": "2023-03-17T03:51:53.552Z"
      },
      {
        "duration": 9,
        "start_time": "2023-03-17T03:51:55.306Z"
      },
      {
        "duration": 3,
        "start_time": "2023-03-17T03:51:55.836Z"
      },
      {
        "duration": 7,
        "start_time": "2023-03-17T03:51:56.269Z"
      },
      {
        "duration": 34,
        "start_time": "2023-03-17T03:51:56.710Z"
      },
      {
        "duration": 9,
        "start_time": "2023-03-17T03:51:57.566Z"
      },
      {
        "duration": 4,
        "start_time": "2023-03-17T03:51:58.268Z"
      },
      {
        "duration": 40,
        "start_time": "2023-03-17T03:51:58.973Z"
      },
      {
        "duration": 10,
        "start_time": "2023-03-17T03:52:03.065Z"
      },
      {
        "duration": 4,
        "start_time": "2023-03-17T03:52:03.513Z"
      },
      {
        "duration": 4,
        "start_time": "2023-03-17T03:52:03.976Z"
      },
      {
        "duration": 29,
        "start_time": "2023-03-17T03:52:04.448Z"
      },
      {
        "duration": 9,
        "start_time": "2023-03-17T03:52:05.342Z"
      },
      {
        "duration": 6,
        "start_time": "2023-03-17T03:52:05.947Z"
      },
      {
        "duration": 31,
        "start_time": "2023-03-17T03:52:06.409Z"
      },
      {
        "duration": 10,
        "start_time": "2023-03-17T03:52:07.289Z"
      },
      {
        "duration": 164,
        "start_time": "2023-03-17T03:52:07.775Z"
      },
      {
        "duration": 4,
        "start_time": "2023-03-17T03:52:08.189Z"
      },
      {
        "duration": 39,
        "start_time": "2023-03-17T03:52:12.961Z"
      },
      {
        "duration": 17,
        "start_time": "2023-03-17T03:52:23.051Z"
      },
      {
        "duration": 283,
        "start_time": "2023-03-17T03:52:23.649Z"
      },
      {
        "duration": 16,
        "start_time": "2023-03-17T03:52:24.583Z"
      },
      {
        "duration": 211,
        "start_time": "2023-03-17T03:52:25.013Z"
      },
      {
        "duration": 14,
        "start_time": "2023-03-17T03:52:25.913Z"
      },
      {
        "duration": 218,
        "start_time": "2023-03-17T03:52:26.376Z"
      },
      {
        "duration": 14,
        "start_time": "2023-03-17T03:52:27.411Z"
      },
      {
        "duration": 218,
        "start_time": "2023-03-17T03:52:27.931Z"
      },
      {
        "duration": 14,
        "start_time": "2023-03-17T03:52:29.129Z"
      },
      {
        "duration": 221,
        "start_time": "2023-03-17T03:52:29.527Z"
      },
      {
        "duration": 15,
        "start_time": "2023-03-17T03:52:30.924Z"
      },
      {
        "duration": 220,
        "start_time": "2023-03-17T03:52:31.425Z"
      },
      {
        "duration": 14,
        "start_time": "2023-03-17T03:52:33.012Z"
      },
      {
        "duration": 223,
        "start_time": "2023-03-17T03:52:33.497Z"
      },
      {
        "duration": 17,
        "start_time": "2023-03-17T03:53:16.565Z"
      },
      {
        "duration": 211,
        "start_time": "2023-03-17T03:53:17.157Z"
      },
      {
        "duration": 18,
        "start_time": "2023-03-17T03:53:35.990Z"
      },
      {
        "duration": 226,
        "start_time": "2023-03-17T03:53:36.622Z"
      },
      {
        "duration": 1026,
        "start_time": "2023-03-17T03:55:27.646Z"
      },
      {
        "duration": 1006,
        "start_time": "2023-03-17T03:55:33.659Z"
      },
      {
        "duration": 7,
        "start_time": "2023-03-17T04:01:20.862Z"
      },
      {
        "duration": 3,
        "start_time": "2023-03-17T04:07:02.352Z"
      },
      {
        "duration": 903,
        "start_time": "2023-03-17T04:07:02.915Z"
      },
      {
        "duration": 21,
        "start_time": "2023-03-17T04:07:03.820Z"
      },
      {
        "duration": 13,
        "start_time": "2023-03-17T04:07:04.956Z"
      },
      {
        "duration": 4,
        "start_time": "2023-03-17T04:07:06.436Z"
      },
      {
        "duration": 3,
        "start_time": "2023-03-17T04:07:06.913Z"
      },
      {
        "duration": 4,
        "start_time": "2023-03-17T04:07:07.346Z"
      },
      {
        "duration": 9,
        "start_time": "2023-03-17T04:07:07.769Z"
      },
      {
        "duration": 23,
        "start_time": "2023-03-17T04:07:08.199Z"
      },
      {
        "duration": 11,
        "start_time": "2023-03-17T04:07:08.607Z"
      },
      {
        "duration": 17,
        "start_time": "2023-03-17T04:07:08.970Z"
      },
      {
        "duration": 12,
        "start_time": "2023-03-17T04:07:09.350Z"
      },
      {
        "duration": 9,
        "start_time": "2023-03-17T04:07:09.671Z"
      },
      {
        "duration": 14,
        "start_time": "2023-03-17T04:07:10.003Z"
      },
      {
        "duration": 34,
        "start_time": "2023-03-17T04:08:01.944Z"
      },
      {
        "duration": 10,
        "start_time": "2023-03-17T04:08:39.585Z"
      },
      {
        "duration": 5,
        "start_time": "2023-03-17T04:08:52.699Z"
      },
      {
        "duration": 5,
        "start_time": "2023-03-17T04:08:59.163Z"
      },
      {
        "duration": 13,
        "start_time": "2023-03-17T04:09:10.020Z"
      },
      {
        "duration": 11,
        "start_time": "2023-03-17T04:09:14.956Z"
      },
      {
        "duration": 5,
        "start_time": "2023-03-17T04:09:45.327Z"
      },
      {
        "duration": 5,
        "start_time": "2023-03-17T04:10:13.352Z"
      },
      {
        "duration": 6,
        "start_time": "2023-03-17T04:10:21.938Z"
      },
      {
        "duration": 6,
        "start_time": "2023-03-17T04:10:32.155Z"
      },
      {
        "duration": 5,
        "start_time": "2023-03-17T04:10:40.944Z"
      },
      {
        "duration": 32,
        "start_time": "2023-03-17T04:11:34.989Z"
      },
      {
        "duration": 8,
        "start_time": "2023-03-17T04:11:40.111Z"
      },
      {
        "duration": 3,
        "start_time": "2023-03-17T04:11:40.643Z"
      },
      {
        "duration": 6,
        "start_time": "2023-03-17T04:11:41.142Z"
      },
      {
        "duration": 32,
        "start_time": "2023-03-17T04:11:41.563Z"
      },
      {
        "duration": 10,
        "start_time": "2023-03-17T04:11:42.392Z"
      },
      {
        "duration": 3,
        "start_time": "2023-03-17T04:11:42.833Z"
      },
      {
        "duration": 31,
        "start_time": "2023-03-17T04:11:43.263Z"
      },
      {
        "duration": 9,
        "start_time": "2023-03-17T04:11:44.043Z"
      },
      {
        "duration": 5,
        "start_time": "2023-03-17T04:11:44.442Z"
      },
      {
        "duration": 4,
        "start_time": "2023-03-17T04:11:44.824Z"
      },
      {
        "duration": 26,
        "start_time": "2023-03-17T04:11:45.230Z"
      },
      {
        "duration": 11,
        "start_time": "2023-03-17T04:11:46.560Z"
      },
      {
        "duration": 6,
        "start_time": "2023-03-17T04:11:46.940Z"
      },
      {
        "duration": 35,
        "start_time": "2023-03-17T04:11:47.307Z"
      },
      {
        "duration": 10,
        "start_time": "2023-03-17T04:11:48.084Z"
      },
      {
        "duration": 168,
        "start_time": "2023-03-17T04:11:48.447Z"
      },
      {
        "duration": 4,
        "start_time": "2023-03-17T04:11:49.027Z"
      },
      {
        "duration": 40,
        "start_time": "2023-03-17T04:11:49.473Z"
      },
      {
        "duration": 14,
        "start_time": "2023-03-17T04:12:56.182Z"
      },
      {
        "duration": 197,
        "start_time": "2023-03-17T04:12:57.565Z"
      },
      {
        "duration": 207,
        "start_time": "2023-03-17T04:17:01.497Z"
      },
      {
        "duration": 14,
        "start_time": "2023-03-17T04:18:39.320Z"
      },
      {
        "duration": 217,
        "start_time": "2023-03-17T04:18:39.847Z"
      },
      {
        "duration": 259,
        "start_time": "2023-03-17T04:19:16.342Z"
      },
      {
        "duration": 18,
        "start_time": "2023-03-17T04:24:37.682Z"
      },
      {
        "duration": 21,
        "start_time": "2023-03-17T04:26:59.770Z"
      },
      {
        "duration": 17,
        "start_time": "2023-03-17T04:27:18.048Z"
      },
      {
        "duration": 96,
        "start_time": "2023-03-17T04:31:01.462Z"
      },
      {
        "duration": 16,
        "start_time": "2023-03-17T04:31:42.025Z"
      },
      {
        "duration": 13,
        "start_time": "2023-03-17T04:32:10.495Z"
      },
      {
        "duration": 3,
        "start_time": "2023-03-17T04:33:15.316Z"
      },
      {
        "duration": 23,
        "start_time": "2023-03-17T04:33:31.072Z"
      },
      {
        "duration": 17,
        "start_time": "2023-03-17T04:34:11.998Z"
      },
      {
        "duration": 104,
        "start_time": "2023-03-17T04:35:47.750Z"
      },
      {
        "duration": 16,
        "start_time": "2023-03-17T04:37:11.655Z"
      },
      {
        "duration": 4,
        "start_time": "2023-03-17T05:59:59.394Z"
      },
      {
        "duration": 1061,
        "start_time": "2023-03-17T05:59:59.987Z"
      },
      {
        "duration": 25,
        "start_time": "2023-03-17T06:00:01.050Z"
      },
      {
        "duration": 15,
        "start_time": "2023-03-17T06:00:01.154Z"
      },
      {
        "duration": 4,
        "start_time": "2023-03-17T06:00:01.924Z"
      },
      {
        "duration": 4,
        "start_time": "2023-03-17T06:00:02.188Z"
      },
      {
        "duration": 5,
        "start_time": "2023-03-17T06:00:02.434Z"
      },
      {
        "duration": 5,
        "start_time": "2023-03-17T06:00:02.668Z"
      },
      {
        "duration": 24,
        "start_time": "2023-03-17T06:00:02.923Z"
      },
      {
        "duration": 12,
        "start_time": "2023-03-17T06:00:03.178Z"
      },
      {
        "duration": 10,
        "start_time": "2023-03-17T06:00:03.435Z"
      },
      {
        "duration": 12,
        "start_time": "2023-03-17T06:00:03.674Z"
      },
      {
        "duration": 8,
        "start_time": "2023-03-17T06:00:03.967Z"
      },
      {
        "duration": 18,
        "start_time": "2023-03-17T06:00:04.227Z"
      },
      {
        "duration": 41,
        "start_time": "2023-03-17T06:00:04.719Z"
      },
      {
        "duration": 10,
        "start_time": "2023-03-17T06:00:05.514Z"
      },
      {
        "duration": 3,
        "start_time": "2023-03-17T06:00:05.763Z"
      },
      {
        "duration": 7,
        "start_time": "2023-03-17T06:00:06.025Z"
      },
      {
        "duration": 27,
        "start_time": "2023-03-17T06:00:06.297Z"
      },
      {
        "duration": 13,
        "start_time": "2023-03-17T06:00:06.827Z"
      },
      {
        "duration": 5,
        "start_time": "2023-03-17T06:00:07.074Z"
      },
      {
        "duration": 41,
        "start_time": "2023-03-17T06:00:07.346Z"
      },
      {
        "duration": 10,
        "start_time": "2023-03-17T06:00:07.913Z"
      },
      {
        "duration": 6,
        "start_time": "2023-03-17T06:00:08.177Z"
      },
      {
        "duration": 4,
        "start_time": "2023-03-17T06:00:08.428Z"
      },
      {
        "duration": 30,
        "start_time": "2023-03-17T06:00:08.657Z"
      },
      {
        "duration": 12,
        "start_time": "2023-03-17T06:00:09.226Z"
      },
      {
        "duration": 6,
        "start_time": "2023-03-17T06:00:09.548Z"
      },
      {
        "duration": 32,
        "start_time": "2023-03-17T06:00:09.795Z"
      },
      {
        "duration": 9,
        "start_time": "2023-03-17T06:00:10.395Z"
      },
      {
        "duration": 175,
        "start_time": "2023-03-17T06:00:10.706Z"
      },
      {
        "duration": 5,
        "start_time": "2023-03-17T06:00:10.948Z"
      },
      {
        "duration": 34,
        "start_time": "2023-03-17T06:00:11.284Z"
      },
      {
        "duration": 13,
        "start_time": "2023-03-17T06:00:13.285Z"
      },
      {
        "duration": 191,
        "start_time": "2023-03-17T06:00:13.586Z"
      },
      {
        "duration": 14,
        "start_time": "2023-03-17T06:00:14.787Z"
      },
      {
        "duration": 213,
        "start_time": "2023-03-17T06:00:15.187Z"
      },
      {
        "duration": 18,
        "start_time": "2023-03-17T06:00:15.589Z"
      },
      {
        "duration": 23,
        "start_time": "2023-03-17T06:00:32.029Z"
      },
      {
        "duration": 12,
        "start_time": "2023-03-17T06:02:36.844Z"
      },
      {
        "duration": 9,
        "start_time": "2023-03-17T06:03:01.114Z"
      },
      {
        "duration": 23,
        "start_time": "2023-03-17T06:08:06.264Z"
      },
      {
        "duration": 82,
        "start_time": "2023-03-17T06:11:04.592Z"
      },
      {
        "duration": 17,
        "start_time": "2023-03-17T06:11:19.627Z"
      },
      {
        "duration": 5,
        "start_time": "2023-03-17T06:11:36.214Z"
      },
      {
        "duration": 108,
        "start_time": "2023-03-17T06:18:27.374Z"
      },
      {
        "duration": 11,
        "start_time": "2023-03-17T06:19:52.991Z"
      },
      {
        "duration": 7,
        "start_time": "2023-03-17T06:22:49.540Z"
      },
      {
        "duration": 109,
        "start_time": "2023-03-17T06:22:52.174Z"
      },
      {
        "duration": 79,
        "start_time": "2023-03-17T06:22:57.298Z"
      },
      {
        "duration": 1563,
        "start_time": "2023-03-17T06:26:05.920Z"
      },
      {
        "duration": 5,
        "start_time": "2023-03-17T06:26:20.221Z"
      },
      {
        "duration": 9,
        "start_time": "2023-03-17T06:26:29.540Z"
      },
      {
        "duration": 6,
        "start_time": "2023-03-17T06:26:51.982Z"
      },
      {
        "duration": 9,
        "start_time": "2023-03-17T06:26:55.040Z"
      },
      {
        "duration": 1252,
        "start_time": "2023-03-17T06:27:56.333Z"
      },
      {
        "duration": 9,
        "start_time": "2023-03-17T06:28:09.887Z"
      },
      {
        "duration": 14,
        "start_time": "2023-03-17T06:28:20.392Z"
      },
      {
        "duration": 9,
        "start_time": "2023-03-17T06:28:22.959Z"
      },
      {
        "duration": 13,
        "start_time": "2023-03-17T06:29:01.303Z"
      },
      {
        "duration": 12,
        "start_time": "2023-03-17T06:29:06.131Z"
      },
      {
        "duration": 11,
        "start_time": "2023-03-17T06:29:18.664Z"
      },
      {
        "duration": 15,
        "start_time": "2023-03-17T06:29:44.674Z"
      },
      {
        "duration": 1710,
        "start_time": "2023-03-17T06:29:48.204Z"
      },
      {
        "duration": 14,
        "start_time": "2023-03-17T06:30:17.695Z"
      },
      {
        "duration": 13,
        "start_time": "2023-03-17T06:30:28.122Z"
      },
      {
        "duration": 14,
        "start_time": "2023-03-17T06:30:32.043Z"
      },
      {
        "duration": 16,
        "start_time": "2023-03-17T06:31:36.511Z"
      },
      {
        "duration": 15,
        "start_time": "2023-03-17T06:32:26.311Z"
      },
      {
        "duration": 11,
        "start_time": "2023-03-17T06:32:37.871Z"
      },
      {
        "duration": 10,
        "start_time": "2023-03-17T06:32:45.711Z"
      },
      {
        "duration": 11,
        "start_time": "2023-03-17T06:32:53.631Z"
      },
      {
        "duration": 14,
        "start_time": "2023-03-17T06:33:32.248Z"
      },
      {
        "duration": 13,
        "start_time": "2023-03-17T06:33:33.058Z"
      },
      {
        "duration": 16,
        "start_time": "2023-03-17T06:33:35.549Z"
      },
      {
        "duration": 17,
        "start_time": "2023-03-17T06:36:15.920Z"
      },
      {
        "duration": 29,
        "start_time": "2023-03-17T06:36:47.090Z"
      },
      {
        "duration": 22,
        "start_time": "2023-03-17T06:37:11.978Z"
      },
      {
        "duration": 20,
        "start_time": "2023-03-17T06:37:26.480Z"
      },
      {
        "duration": 3,
        "start_time": "2023-03-17T06:38:02.111Z"
      },
      {
        "duration": 5028,
        "start_time": "2023-03-17T06:38:02.761Z"
      },
      {
        "duration": 23,
        "start_time": "2023-03-17T06:38:07.792Z"
      },
      {
        "duration": 14,
        "start_time": "2023-03-17T06:38:07.817Z"
      },
      {
        "duration": 3,
        "start_time": "2023-03-17T06:38:07.834Z"
      },
      {
        "duration": 9,
        "start_time": "2023-03-17T06:38:07.839Z"
      },
      {
        "duration": 5,
        "start_time": "2023-03-17T06:38:07.874Z"
      },
      {
        "duration": 8,
        "start_time": "2023-03-17T06:38:07.881Z"
      },
      {
        "duration": 26,
        "start_time": "2023-03-17T06:38:07.891Z"
      },
      {
        "duration": 18,
        "start_time": "2023-03-17T06:38:07.920Z"
      },
      {
        "duration": 28,
        "start_time": "2023-03-17T06:38:07.950Z"
      },
      {
        "duration": 12,
        "start_time": "2023-03-17T06:38:08.380Z"
      },
      {
        "duration": 9,
        "start_time": "2023-03-17T06:38:08.790Z"
      },
      {
        "duration": 14,
        "start_time": "2023-03-17T06:38:09.249Z"
      },
      {
        "duration": 33,
        "start_time": "2023-03-17T06:38:10.151Z"
      },
      {
        "duration": 8,
        "start_time": "2023-03-17T06:38:11.411Z"
      },
      {
        "duration": 4,
        "start_time": "2023-03-17T06:38:11.780Z"
      },
      {
        "duration": 7,
        "start_time": "2023-03-17T06:38:12.140Z"
      },
      {
        "duration": 26,
        "start_time": "2023-03-17T06:38:12.570Z"
      },
      {
        "duration": 10,
        "start_time": "2023-03-17T06:38:13.220Z"
      },
      {
        "duration": 3,
        "start_time": "2023-03-17T06:38:13.542Z"
      },
      {
        "duration": 30,
        "start_time": "2023-03-17T06:38:13.879Z"
      },
      {
        "duration": 9,
        "start_time": "2023-03-17T06:38:14.371Z"
      },
      {
        "duration": 6,
        "start_time": "2023-03-17T06:38:14.616Z"
      },
      {
        "duration": 3,
        "start_time": "2023-03-17T06:38:14.889Z"
      },
      {
        "duration": 29,
        "start_time": "2023-03-17T06:38:15.141Z"
      },
      {
        "duration": 13,
        "start_time": "2023-03-17T06:38:15.901Z"
      },
      {
        "duration": 4,
        "start_time": "2023-03-17T06:38:16.210Z"
      },
      {
        "duration": 31,
        "start_time": "2023-03-17T06:38:16.518Z"
      },
      {
        "duration": 13,
        "start_time": "2023-03-17T06:38:17.179Z"
      },
      {
        "duration": 156,
        "start_time": "2023-03-17T06:38:17.551Z"
      },
      {
        "duration": 4,
        "start_time": "2023-03-17T06:38:17.871Z"
      },
      {
        "duration": 32,
        "start_time": "2023-03-17T06:38:18.250Z"
      },
      {
        "duration": 14,
        "start_time": "2023-03-17T06:38:19.900Z"
      },
      {
        "duration": 196,
        "start_time": "2023-03-17T06:38:20.591Z"
      },
      {
        "duration": 22,
        "start_time": "2023-03-17T06:38:22.229Z"
      },
      {
        "duration": 230,
        "start_time": "2023-03-17T06:38:22.691Z"
      },
      {
        "duration": 17,
        "start_time": "2023-03-17T06:38:23.272Z"
      },
      {
        "duration": 15,
        "start_time": "2023-03-17T06:39:09.880Z"
      },
      {
        "duration": 15,
        "start_time": "2023-03-17T06:39:24.061Z"
      },
      {
        "duration": 16,
        "start_time": "2023-03-17T06:39:52.340Z"
      },
      {
        "duration": 22,
        "start_time": "2023-03-17T06:40:14.820Z"
      },
      {
        "duration": 15,
        "start_time": "2023-03-17T06:42:15.312Z"
      },
      {
        "duration": 219,
        "start_time": "2023-03-17T06:43:12.385Z"
      },
      {
        "duration": 16,
        "start_time": "2023-03-17T06:43:42.603Z"
      },
      {
        "duration": 16,
        "start_time": "2023-03-17T06:43:50.904Z"
      },
      {
        "duration": 14,
        "start_time": "2023-03-17T06:44:04.981Z"
      },
      {
        "duration": 14,
        "start_time": "2023-03-17T06:44:25.631Z"
      },
      {
        "duration": 14,
        "start_time": "2023-03-17T06:44:43.119Z"
      },
      {
        "duration": 205,
        "start_time": "2023-03-17T06:44:49.719Z"
      },
      {
        "duration": 15,
        "start_time": "2023-03-17T06:44:55.321Z"
      },
      {
        "duration": 15,
        "start_time": "2023-03-17T06:52:12.146Z"
      },
      {
        "duration": 238,
        "start_time": "2023-03-17T06:57:08.171Z"
      },
      {
        "duration": 405,
        "start_time": "2023-03-17T06:58:00.513Z"
      },
      {
        "duration": 16,
        "start_time": "2023-03-17T06:58:46.660Z"
      },
      {
        "duration": 16,
        "start_time": "2023-03-17T06:59:02.380Z"
      },
      {
        "duration": 259,
        "start_time": "2023-03-17T07:00:03.720Z"
      },
      {
        "duration": 22,
        "start_time": "2023-03-17T07:01:45.216Z"
      },
      {
        "duration": 220,
        "start_time": "2023-03-17T07:02:45.081Z"
      },
      {
        "duration": 236,
        "start_time": "2023-03-17T07:03:48.493Z"
      },
      {
        "duration": 15,
        "start_time": "2023-03-17T07:04:11.109Z"
      },
      {
        "duration": 215,
        "start_time": "2023-03-17T07:04:58.942Z"
      },
      {
        "duration": 15,
        "start_time": "2023-03-17T07:06:08.662Z"
      },
      {
        "duration": 215,
        "start_time": "2023-03-17T07:06:54.766Z"
      },
      {
        "duration": 15,
        "start_time": "2023-03-17T07:07:34.792Z"
      },
      {
        "duration": 248,
        "start_time": "2023-03-17T07:10:53.364Z"
      },
      {
        "duration": 1229,
        "start_time": "2023-03-17T07:23:39.159Z"
      },
      {
        "duration": 931,
        "start_time": "2023-03-17T07:23:49.762Z"
      },
      {
        "duration": 26,
        "start_time": "2023-03-17T07:24:09.236Z"
      },
      {
        "duration": 20,
        "start_time": "2023-03-17T07:24:20.606Z"
      },
      {
        "duration": 20,
        "start_time": "2023-03-17T07:24:34.621Z"
      },
      {
        "duration": 26,
        "start_time": "2023-03-17T07:24:49.816Z"
      },
      {
        "duration": 20,
        "start_time": "2023-03-17T07:24:54.999Z"
      },
      {
        "duration": 3,
        "start_time": "2023-03-17T07:30:00.857Z"
      },
      {
        "duration": 994,
        "start_time": "2023-03-17T07:30:01.412Z"
      },
      {
        "duration": 20,
        "start_time": "2023-03-17T07:30:02.408Z"
      },
      {
        "duration": 15,
        "start_time": "2023-03-17T07:30:11.074Z"
      },
      {
        "duration": 3,
        "start_time": "2023-03-17T07:30:21.576Z"
      },
      {
        "duration": 1087,
        "start_time": "2023-03-17T07:30:22.048Z"
      },
      {
        "duration": 21,
        "start_time": "2023-03-17T07:30:23.137Z"
      },
      {
        "duration": 13,
        "start_time": "2023-03-17T07:30:23.307Z"
      },
      {
        "duration": 3,
        "start_time": "2023-03-17T07:30:24.796Z"
      },
      {
        "duration": 4,
        "start_time": "2023-03-17T07:30:25.271Z"
      },
      {
        "duration": 5,
        "start_time": "2023-03-17T07:30:25.833Z"
      },
      {
        "duration": 6,
        "start_time": "2023-03-17T07:30:28.771Z"
      },
      {
        "duration": 887,
        "start_time": "2023-03-17T07:30:36.844Z"
      },
      {
        "duration": 3,
        "start_time": "2023-03-17T07:30:52.346Z"
      },
      {
        "duration": 4862,
        "start_time": "2023-03-17T07:30:53.017Z"
      },
      {
        "duration": 19,
        "start_time": "2023-03-17T07:30:57.881Z"
      },
      {
        "duration": 19,
        "start_time": "2023-03-17T07:30:57.902Z"
      },
      {
        "duration": 3,
        "start_time": "2023-03-17T07:30:57.923Z"
      },
      {
        "duration": 7,
        "start_time": "2023-03-17T07:30:57.928Z"
      },
      {
        "duration": 8,
        "start_time": "2023-03-17T07:30:57.937Z"
      },
      {
        "duration": 28,
        "start_time": "2023-03-17T07:30:57.947Z"
      },
      {
        "duration": 25,
        "start_time": "2023-03-17T07:30:57.977Z"
      },
      {
        "duration": 12,
        "start_time": "2023-03-17T07:30:58.055Z"
      },
      {
        "duration": 10,
        "start_time": "2023-03-17T07:30:58.285Z"
      },
      {
        "duration": 11,
        "start_time": "2023-03-17T07:30:58.623Z"
      },
      {
        "duration": 11,
        "start_time": "2023-03-17T07:30:58.906Z"
      },
      {
        "duration": 14,
        "start_time": "2023-03-17T07:30:59.227Z"
      },
      {
        "duration": 153,
        "start_time": "2023-03-17T07:30:59.887Z"
      },
      {
        "duration": 8,
        "start_time": "2023-03-17T07:31:00.883Z"
      },
      {
        "duration": 3,
        "start_time": "2023-03-17T07:31:01.168Z"
      },
      {
        "duration": 7,
        "start_time": "2023-03-17T07:31:01.496Z"
      },
      {
        "duration": 29,
        "start_time": "2023-03-17T07:31:01.826Z"
      },
      {
        "duration": 10,
        "start_time": "2023-03-17T07:31:02.487Z"
      },
      {
        "duration": 3,
        "start_time": "2023-03-17T07:31:02.800Z"
      },
      {
        "duration": 28,
        "start_time": "2023-03-17T07:31:03.187Z"
      },
      {
        "duration": 8,
        "start_time": "2023-03-17T07:31:03.881Z"
      },
      {
        "duration": 5,
        "start_time": "2023-03-17T07:31:04.204Z"
      },
      {
        "duration": 4,
        "start_time": "2023-03-17T07:31:04.567Z"
      },
      {
        "duration": 29,
        "start_time": "2023-03-17T07:31:04.908Z"
      },
      {
        "duration": 9,
        "start_time": "2023-03-17T07:31:05.545Z"
      },
      {
        "duration": 4,
        "start_time": "2023-03-17T07:31:05.884Z"
      },
      {
        "duration": 30,
        "start_time": "2023-03-17T07:31:06.206Z"
      },
      {
        "duration": 9,
        "start_time": "2023-03-17T07:31:06.836Z"
      },
      {
        "duration": 164,
        "start_time": "2023-03-17T07:31:07.145Z"
      },
      {
        "duration": 4,
        "start_time": "2023-03-17T07:31:07.448Z"
      },
      {
        "duration": 31,
        "start_time": "2023-03-17T07:31:07.756Z"
      },
      {
        "duration": 14,
        "start_time": "2023-03-17T07:31:09.254Z"
      },
      {
        "duration": 183,
        "start_time": "2023-03-17T07:31:09.578Z"
      },
      {
        "duration": 18,
        "start_time": "2023-03-17T07:31:10.566Z"
      },
      {
        "duration": 238,
        "start_time": "2023-03-17T07:31:10.777Z"
      },
      {
        "duration": 16,
        "start_time": "2023-03-17T07:31:11.134Z"
      },
      {
        "duration": 16,
        "start_time": "2023-03-17T07:31:11.464Z"
      },
      {
        "duration": 13,
        "start_time": "2023-03-17T07:31:11.808Z"
      },
      {
        "duration": 20,
        "start_time": "2023-03-17T07:31:12.145Z"
      },
      {
        "duration": 14,
        "start_time": "2023-03-17T07:31:13.115Z"
      },
      {
        "duration": 202,
        "start_time": "2023-03-17T07:31:13.446Z"
      },
      {
        "duration": 15,
        "start_time": "2023-03-17T07:31:14.557Z"
      },
      {
        "duration": 218,
        "start_time": "2023-03-17T07:31:14.857Z"
      },
      {
        "duration": 14,
        "start_time": "2023-03-17T07:31:15.872Z"
      },
      {
        "duration": 225,
        "start_time": "2023-03-17T07:31:16.224Z"
      },
      {
        "duration": 14,
        "start_time": "2023-03-17T07:31:17.265Z"
      },
      {
        "duration": 205,
        "start_time": "2023-03-17T07:31:17.536Z"
      },
      {
        "duration": 13,
        "start_time": "2023-03-17T07:31:18.536Z"
      },
      {
        "duration": 217,
        "start_time": "2023-03-17T07:31:18.878Z"
      },
      {
        "duration": 14,
        "start_time": "2023-03-17T07:31:19.983Z"
      },
      {
        "duration": 258,
        "start_time": "2023-03-17T07:31:20.436Z"
      },
      {
        "duration": 15,
        "start_time": "2023-03-17T07:31:21.497Z"
      },
      {
        "duration": 255,
        "start_time": "2023-03-17T07:31:22.120Z"
      },
      {
        "duration": 882,
        "start_time": "2023-03-17T07:31:23.322Z"
      },
      {
        "duration": 1311,
        "start_time": "2023-03-17T11:37:25.095Z"
      },
      {
        "duration": 1256,
        "start_time": "2023-03-17T11:37:26.408Z"
      },
      {
        "duration": 20,
        "start_time": "2023-03-17T11:37:31.790Z"
      },
      {
        "duration": 13,
        "start_time": "2023-03-17T11:37:32.936Z"
      },
      {
        "duration": 3,
        "start_time": "2023-03-17T11:37:34.314Z"
      },
      {
        "duration": 3,
        "start_time": "2023-03-17T11:37:34.620Z"
      },
      {
        "duration": 5,
        "start_time": "2023-03-17T11:37:35.063Z"
      },
      {
        "duration": 5,
        "start_time": "2023-03-17T11:37:35.538Z"
      },
      {
        "duration": 21,
        "start_time": "2023-03-17T11:37:36.021Z"
      },
      {
        "duration": 10,
        "start_time": "2023-03-17T11:37:36.463Z"
      },
      {
        "duration": 9,
        "start_time": "2023-03-17T11:37:36.991Z"
      },
      {
        "duration": 11,
        "start_time": "2023-03-17T11:37:37.340Z"
      },
      {
        "duration": 8,
        "start_time": "2023-03-17T11:37:37.700Z"
      },
      {
        "duration": 15,
        "start_time": "2023-03-17T11:37:38.191Z"
      },
      {
        "duration": 30,
        "start_time": "2023-03-17T11:37:38.668Z"
      },
      {
        "duration": 8,
        "start_time": "2023-03-17T11:37:39.797Z"
      },
      {
        "duration": 3,
        "start_time": "2023-03-17T11:37:40.117Z"
      },
      {
        "duration": 6,
        "start_time": "2023-03-17T11:37:40.466Z"
      },
      {
        "duration": 20,
        "start_time": "2023-03-17T11:37:40.773Z"
      },
      {
        "duration": 8,
        "start_time": "2023-03-17T11:37:41.473Z"
      },
      {
        "duration": 3,
        "start_time": "2023-03-17T11:37:41.739Z"
      },
      {
        "duration": 34,
        "start_time": "2023-03-17T11:37:42.099Z"
      },
      {
        "duration": 7,
        "start_time": "2023-03-17T11:37:42.985Z"
      },
      {
        "duration": 4,
        "start_time": "2023-03-17T11:37:43.352Z"
      },
      {
        "duration": 3,
        "start_time": "2023-03-17T11:37:43.813Z"
      },
      {
        "duration": 23,
        "start_time": "2023-03-17T11:37:44.318Z"
      },
      {
        "duration": 7,
        "start_time": "2023-03-17T11:37:44.979Z"
      },
      {
        "duration": 6,
        "start_time": "2023-03-17T11:37:45.332Z"
      },
      {
        "duration": 26,
        "start_time": "2023-03-17T11:37:45.960Z"
      },
      {
        "duration": 8,
        "start_time": "2023-03-17T11:37:47.022Z"
      },
      {
        "duration": 114,
        "start_time": "2023-03-17T11:37:47.453Z"
      },
      {
        "duration": 4,
        "start_time": "2023-03-17T11:37:47.900Z"
      },
      {
        "duration": 25,
        "start_time": "2023-03-17T11:37:48.275Z"
      },
      {
        "duration": 13,
        "start_time": "2023-03-17T11:37:50.064Z"
      },
      {
        "duration": 161,
        "start_time": "2023-03-17T11:37:50.622Z"
      },
      {
        "duration": 12,
        "start_time": "2023-03-17T11:37:51.854Z"
      },
      {
        "duration": 175,
        "start_time": "2023-03-17T11:37:52.437Z"
      },
      {
        "duration": 14,
        "start_time": "2023-03-17T11:37:52.940Z"
      },
      {
        "duration": 12,
        "start_time": "2023-03-17T11:37:53.222Z"
      },
      {
        "duration": 13,
        "start_time": "2023-03-17T11:37:53.695Z"
      },
      {
        "duration": 18,
        "start_time": "2023-03-17T11:37:54.030Z"
      },
      {
        "duration": 12,
        "start_time": "2023-03-17T11:37:55.640Z"
      },
      {
        "duration": 178,
        "start_time": "2023-03-17T11:37:56.020Z"
      },
      {
        "duration": 13,
        "start_time": "2023-03-17T11:37:59.102Z"
      },
      {
        "duration": 179,
        "start_time": "2023-03-17T11:38:01.907Z"
      },
      {
        "duration": 12,
        "start_time": "2023-03-17T11:38:02.088Z"
      },
      {
        "duration": 180,
        "start_time": "2023-03-17T11:38:02.396Z"
      },
      {
        "duration": 12,
        "start_time": "2023-03-17T11:38:02.578Z"
      },
      {
        "duration": 187,
        "start_time": "2023-03-17T11:38:02.591Z"
      },
      {
        "duration": 13,
        "start_time": "2023-03-17T11:38:02.787Z"
      },
      {
        "duration": 166,
        "start_time": "2023-03-17T11:38:03.183Z"
      },
      {
        "duration": 13,
        "start_time": "2023-03-17T11:38:04.972Z"
      },
      {
        "duration": 289,
        "start_time": "2023-03-17T11:38:05.339Z"
      },
      {
        "duration": 13,
        "start_time": "2023-03-17T11:38:10.654Z"
      },
      {
        "duration": 181,
        "start_time": "2023-03-17T11:38:11.199Z"
      },
      {
        "duration": 880,
        "start_time": "2023-03-17T11:38:12.896Z"
      },
      {
        "duration": 8,
        "start_time": "2023-03-17T11:38:15.315Z"
      },
      {
        "duration": 10,
        "start_time": "2023-03-17T11:38:15.794Z"
      },
      {
        "duration": 31,
        "start_time": "2023-03-17T11:38:16.270Z"
      },
      {
        "duration": 5,
        "start_time": "2023-03-17T11:38:18.255Z"
      },
      {
        "duration": 9,
        "start_time": "2023-03-17T11:38:18.895Z"
      },
      {
        "duration": 26,
        "start_time": "2023-03-17T11:38:19.422Z"
      },
      {
        "duration": 1441,
        "start_time": "2023-03-17T16:51:00.288Z"
      },
      {
        "duration": 2339,
        "start_time": "2023-03-17T16:51:01.731Z"
      },
      {
        "duration": 27,
        "start_time": "2023-03-17T16:51:04.072Z"
      },
      {
        "duration": 36,
        "start_time": "2023-03-17T16:51:04.100Z"
      },
      {
        "duration": 3,
        "start_time": "2023-03-17T16:51:04.916Z"
      },
      {
        "duration": 5,
        "start_time": "2023-03-17T16:51:05.388Z"
      },
      {
        "duration": 5,
        "start_time": "2023-03-17T16:51:05.816Z"
      },
      {
        "duration": 6,
        "start_time": "2023-03-17T16:51:06.182Z"
      },
      {
        "duration": 24,
        "start_time": "2023-03-17T16:51:06.512Z"
      },
      {
        "duration": 14,
        "start_time": "2023-03-17T16:51:06.847Z"
      },
      {
        "duration": 10,
        "start_time": "2023-03-17T16:51:07.142Z"
      },
      {
        "duration": 11,
        "start_time": "2023-03-17T16:51:07.436Z"
      },
      {
        "duration": 8,
        "start_time": "2023-03-17T16:51:07.736Z"
      },
      {
        "duration": 15,
        "start_time": "2023-03-17T16:51:08.043Z"
      },
      {
        "duration": 34,
        "start_time": "2023-03-17T16:51:08.604Z"
      },
      {
        "duration": 11,
        "start_time": "2023-03-17T16:51:09.474Z"
      },
      {
        "duration": 3,
        "start_time": "2023-03-17T16:51:09.748Z"
      },
      {
        "duration": 8,
        "start_time": "2023-03-17T16:51:10.050Z"
      },
      {
        "duration": 25,
        "start_time": "2023-03-17T16:51:10.330Z"
      },
      {
        "duration": 10,
        "start_time": "2023-03-17T16:51:10.907Z"
      },
      {
        "duration": 4,
        "start_time": "2023-03-17T16:51:11.241Z"
      },
      {
        "duration": 31,
        "start_time": "2023-03-17T16:51:11.567Z"
      },
      {
        "duration": 8,
        "start_time": "2023-03-17T16:51:12.130Z"
      },
      {
        "duration": 6,
        "start_time": "2023-03-17T16:51:12.461Z"
      },
      {
        "duration": 4,
        "start_time": "2023-03-17T16:51:12.749Z"
      },
      {
        "duration": 27,
        "start_time": "2023-03-17T16:51:13.006Z"
      },
      {
        "duration": 8,
        "start_time": "2023-03-17T16:51:13.561Z"
      },
      {
        "duration": 3,
        "start_time": "2023-03-17T16:51:13.867Z"
      },
      {
        "duration": 27,
        "start_time": "2023-03-17T16:51:14.135Z"
      },
      {
        "duration": 8,
        "start_time": "2023-03-17T16:51:14.623Z"
      },
      {
        "duration": 133,
        "start_time": "2023-03-17T16:51:14.907Z"
      },
      {
        "duration": 4,
        "start_time": "2023-03-17T16:51:15.188Z"
      },
      {
        "duration": 31,
        "start_time": "2023-03-17T16:51:15.690Z"
      },
      {
        "duration": 14,
        "start_time": "2023-03-17T16:51:16.952Z"
      },
      {
        "duration": 185,
        "start_time": "2023-03-17T16:51:17.257Z"
      },
      {
        "duration": 13,
        "start_time": "2023-03-17T16:51:18.193Z"
      },
      {
        "duration": 211,
        "start_time": "2023-03-17T16:51:18.487Z"
      },
      {
        "duration": 15,
        "start_time": "2023-03-17T16:51:18.801Z"
      },
      {
        "duration": 15,
        "start_time": "2023-03-17T16:51:19.118Z"
      },
      {
        "duration": 14,
        "start_time": "2023-03-17T16:51:19.399Z"
      },
      {
        "duration": 26,
        "start_time": "2023-03-17T16:51:19.729Z"
      },
      {
        "duration": 14,
        "start_time": "2023-03-17T16:51:20.813Z"
      },
      {
        "duration": 209,
        "start_time": "2023-03-17T16:51:21.130Z"
      },
      {
        "duration": 14,
        "start_time": "2023-03-17T16:51:22.039Z"
      },
      {
        "duration": 267,
        "start_time": "2023-03-17T16:51:22.331Z"
      },
      {
        "duration": 15,
        "start_time": "2023-03-17T16:51:23.224Z"
      },
      {
        "duration": 203,
        "start_time": "2023-03-17T16:51:23.536Z"
      },
      {
        "duration": 13,
        "start_time": "2023-03-17T16:51:24.421Z"
      },
      {
        "duration": 194,
        "start_time": "2023-03-17T16:51:24.756Z"
      },
      {
        "duration": 13,
        "start_time": "2023-03-17T16:51:25.857Z"
      },
      {
        "duration": 180,
        "start_time": "2023-03-17T16:51:26.130Z"
      },
      {
        "duration": 16,
        "start_time": "2023-03-17T16:51:27.151Z"
      },
      {
        "duration": 289,
        "start_time": "2023-03-17T16:51:27.350Z"
      },
      {
        "duration": 14,
        "start_time": "2023-03-17T16:51:28.260Z"
      },
      {
        "duration": 218,
        "start_time": "2023-03-17T16:51:28.527Z"
      },
      {
        "duration": 961,
        "start_time": "2023-03-17T16:51:29.558Z"
      },
      {
        "duration": 7,
        "start_time": "2023-03-17T16:51:31.719Z"
      },
      {
        "duration": 17,
        "start_time": "2023-03-17T16:51:32.079Z"
      },
      {
        "duration": 32,
        "start_time": "2023-03-17T16:51:32.420Z"
      },
      {
        "duration": 6,
        "start_time": "2023-03-17T16:51:33.434Z"
      },
      {
        "duration": 12,
        "start_time": "2023-03-17T16:51:33.789Z"
      },
      {
        "duration": 29,
        "start_time": "2023-03-17T16:51:34.138Z"
      },
      {
        "duration": 1564,
        "start_time": "2023-03-17T19:59:50.633Z"
      },
      {
        "duration": 1324,
        "start_time": "2023-03-17T19:59:52.199Z"
      },
      {
        "duration": 33,
        "start_time": "2023-03-17T19:59:53.525Z"
      },
      {
        "duration": 14,
        "start_time": "2023-03-17T19:59:54.494Z"
      },
      {
        "duration": 3,
        "start_time": "2023-03-17T19:59:55.507Z"
      },
      {
        "duration": 3,
        "start_time": "2023-03-17T19:59:55.801Z"
      },
      {
        "duration": 4,
        "start_time": "2023-03-17T19:59:56.083Z"
      },
      {
        "duration": 6,
        "start_time": "2023-03-17T19:59:56.358Z"
      },
      {
        "duration": 27,
        "start_time": "2023-03-17T19:59:56.666Z"
      },
      {
        "duration": 18,
        "start_time": "2023-03-17T19:59:56.962Z"
      },
      {
        "duration": 10,
        "start_time": "2023-03-17T19:59:57.225Z"
      },
      {
        "duration": 11,
        "start_time": "2023-03-17T19:59:57.496Z"
      },
      {
        "duration": 7,
        "start_time": "2023-03-17T19:59:57.798Z"
      },
      {
        "duration": 15,
        "start_time": "2023-03-17T19:59:58.082Z"
      },
      {
        "duration": 30,
        "start_time": "2023-03-17T19:59:58.659Z"
      },
      {
        "duration": 8,
        "start_time": "2023-03-17T19:59:59.515Z"
      },
      {
        "duration": 3,
        "start_time": "2023-03-17T19:59:59.805Z"
      },
      {
        "duration": 6,
        "start_time": "2023-03-17T20:00:00.070Z"
      },
      {
        "duration": 20,
        "start_time": "2023-03-17T20:00:00.373Z"
      },
      {
        "duration": 8,
        "start_time": "2023-03-17T20:00:00.925Z"
      },
      {
        "duration": 3,
        "start_time": "2023-03-17T20:00:01.295Z"
      },
      {
        "duration": 27,
        "start_time": "2023-03-17T20:00:01.572Z"
      },
      {
        "duration": 8,
        "start_time": "2023-03-17T20:00:02.167Z"
      },
      {
        "duration": 5,
        "start_time": "2023-03-17T20:00:02.434Z"
      },
      {
        "duration": 3,
        "start_time": "2023-03-17T20:00:02.701Z"
      },
      {
        "duration": 27,
        "start_time": "2023-03-17T20:00:02.979Z"
      },
      {
        "duration": 9,
        "start_time": "2023-03-17T20:00:03.595Z"
      },
      {
        "duration": 4,
        "start_time": "2023-03-17T20:00:03.997Z"
      },
      {
        "duration": 28,
        "start_time": "2023-03-17T20:00:04.367Z"
      },
      {
        "duration": 10,
        "start_time": "2023-03-17T20:00:04.966Z"
      },
      {
        "duration": 138,
        "start_time": "2023-03-17T20:00:05.277Z"
      },
      {
        "duration": 4,
        "start_time": "2023-03-17T20:00:05.566Z"
      },
      {
        "duration": 44,
        "start_time": "2023-03-17T20:00:05.866Z"
      },
      {
        "duration": 14,
        "start_time": "2023-03-17T20:00:07.412Z"
      },
      {
        "duration": 199,
        "start_time": "2023-03-17T20:00:07.732Z"
      },
      {
        "duration": 13,
        "start_time": "2023-03-17T20:00:08.600Z"
      },
      {
        "duration": 215,
        "start_time": "2023-03-17T20:00:08.912Z"
      },
      {
        "duration": 19,
        "start_time": "2023-03-17T20:00:09.238Z"
      },
      {
        "duration": 15,
        "start_time": "2023-03-17T20:00:09.546Z"
      },
      {
        "duration": 15,
        "start_time": "2023-03-17T20:00:10.178Z"
      },
      {
        "duration": 17,
        "start_time": "2023-03-17T20:00:10.475Z"
      },
      {
        "duration": 14,
        "start_time": "2023-03-17T20:00:11.766Z"
      },
      {
        "duration": 197,
        "start_time": "2023-03-17T20:00:12.071Z"
      },
      {
        "duration": 13,
        "start_time": "2023-03-17T20:00:13.085Z"
      },
      {
        "duration": 204,
        "start_time": "2023-03-17T20:00:13.435Z"
      },
      {
        "duration": 12,
        "start_time": "2023-03-17T20:00:14.472Z"
      },
      {
        "duration": 219,
        "start_time": "2023-03-17T20:00:14.796Z"
      },
      {
        "duration": 15,
        "start_time": "2023-03-17T20:00:15.766Z"
      },
      {
        "duration": 228,
        "start_time": "2023-03-17T20:00:16.100Z"
      },
      {
        "duration": 15,
        "start_time": "2023-03-17T20:00:17.260Z"
      },
      {
        "duration": 192,
        "start_time": "2023-03-17T20:00:17.666Z"
      },
      {
        "duration": 13,
        "start_time": "2023-03-17T20:00:18.872Z"
      },
      {
        "duration": 298,
        "start_time": "2023-03-17T20:00:19.204Z"
      },
      {
        "duration": 19,
        "start_time": "2023-03-17T20:00:20.339Z"
      },
      {
        "duration": 231,
        "start_time": "2023-03-17T20:00:20.696Z"
      },
      {
        "duration": 1028,
        "start_time": "2023-03-17T20:00:22.027Z"
      },
      {
        "duration": 15,
        "start_time": "2023-03-17T20:16:23.007Z"
      },
      {
        "duration": 33,
        "start_time": "2023-03-17T20:16:39.595Z"
      },
      {
        "duration": 117,
        "start_time": "2023-03-17T20:24:28.390Z"
      },
      {
        "duration": 18,
        "start_time": "2023-03-17T20:24:36.805Z"
      },
      {
        "duration": 38,
        "start_time": "2023-03-17T20:25:56.811Z"
      },
      {
        "duration": 67,
        "start_time": "2023-03-18T21:20:49.936Z"
      },
      {
        "duration": 1447,
        "start_time": "2023-03-18T21:20:57.818Z"
      },
      {
        "duration": 3804,
        "start_time": "2023-03-18T21:20:59.267Z"
      },
      {
        "duration": 48,
        "start_time": "2023-03-18T21:21:03.072Z"
      },
      {
        "duration": 22,
        "start_time": "2023-03-18T21:21:03.122Z"
      },
      {
        "duration": 16,
        "start_time": "2023-03-18T21:21:03.145Z"
      },
      {
        "duration": 14,
        "start_time": "2023-03-18T21:21:03.162Z"
      },
      {
        "duration": 47,
        "start_time": "2023-03-18T21:21:03.178Z"
      },
      {
        "duration": 13,
        "start_time": "2023-03-18T21:21:03.227Z"
      },
      {
        "duration": 33,
        "start_time": "2023-03-18T21:21:03.242Z"
      },
      {
        "duration": 59,
        "start_time": "2023-03-18T21:21:03.277Z"
      },
      {
        "duration": 50,
        "start_time": "2023-03-18T21:21:03.338Z"
      },
      {
        "duration": 53,
        "start_time": "2023-03-18T21:21:03.389Z"
      },
      {
        "duration": 6,
        "start_time": "2023-03-18T21:21:03.444Z"
      },
      {
        "duration": 22,
        "start_time": "2023-03-18T21:21:03.452Z"
      },
      {
        "duration": 31,
        "start_time": "2023-03-18T21:21:03.737Z"
      },
      {
        "duration": 13,
        "start_time": "2023-03-18T21:21:04.570Z"
      },
      {
        "duration": 6,
        "start_time": "2023-03-18T21:21:04.808Z"
      },
      {
        "duration": 14,
        "start_time": "2023-03-18T21:21:05.111Z"
      },
      {
        "duration": 43,
        "start_time": "2023-03-18T21:21:05.382Z"
      },
      {
        "duration": 13,
        "start_time": "2023-03-18T21:21:06.210Z"
      },
      {
        "duration": 3,
        "start_time": "2023-03-18T21:21:06.457Z"
      },
      {
        "duration": 28,
        "start_time": "2023-03-18T21:21:06.731Z"
      },
      {
        "duration": 9,
        "start_time": "2023-03-18T21:21:07.567Z"
      },
      {
        "duration": 5,
        "start_time": "2023-03-18T21:21:07.841Z"
      },
      {
        "duration": 5,
        "start_time": "2023-03-18T21:21:08.107Z"
      },
      {
        "duration": 32,
        "start_time": "2023-03-18T21:21:08.398Z"
      },
      {
        "duration": 9,
        "start_time": "2023-03-18T21:21:09.240Z"
      },
      {
        "duration": 6,
        "start_time": "2023-03-18T21:21:09.512Z"
      },
      {
        "duration": 38,
        "start_time": "2023-03-18T21:21:09.810Z"
      },
      {
        "duration": 24,
        "start_time": "2023-03-18T21:21:10.674Z"
      },
      {
        "duration": 152,
        "start_time": "2023-03-18T21:21:10.959Z"
      },
      {
        "duration": 4,
        "start_time": "2023-03-18T21:21:11.274Z"
      },
      {
        "duration": 41,
        "start_time": "2023-03-18T21:21:11.598Z"
      },
      {
        "duration": 14,
        "start_time": "2023-03-18T21:21:13.150Z"
      },
      {
        "duration": 191,
        "start_time": "2023-03-18T21:21:13.438Z"
      },
      {
        "duration": 14,
        "start_time": "2023-03-18T21:21:14.709Z"
      },
      {
        "duration": 181,
        "start_time": "2023-03-18T21:21:15.006Z"
      },
      {
        "duration": 13,
        "start_time": "2023-03-18T21:21:15.362Z"
      },
      {
        "duration": 17,
        "start_time": "2023-03-18T21:21:15.709Z"
      },
      {
        "duration": 22,
        "start_time": "2023-03-18T21:21:15.997Z"
      },
      {
        "duration": 23,
        "start_time": "2023-03-18T21:21:16.305Z"
      },
      {
        "duration": 14,
        "start_time": "2023-03-18T21:21:17.534Z"
      },
      {
        "duration": 200,
        "start_time": "2023-03-18T21:21:17.867Z"
      },
      {
        "duration": 16,
        "start_time": "2023-03-18T21:21:19.234Z"
      },
      {
        "duration": 209,
        "start_time": "2023-03-18T21:21:19.528Z"
      },
      {
        "duration": 17,
        "start_time": "2023-03-18T21:21:20.806Z"
      },
      {
        "duration": 225,
        "start_time": "2023-03-18T21:21:21.110Z"
      },
      {
        "duration": 13,
        "start_time": "2023-03-18T21:21:22.321Z"
      },
      {
        "duration": 207,
        "start_time": "2023-03-18T21:21:22.626Z"
      },
      {
        "duration": 13,
        "start_time": "2023-03-18T21:21:23.959Z"
      },
      {
        "duration": 194,
        "start_time": "2023-03-18T21:21:24.281Z"
      },
      {
        "duration": 16,
        "start_time": "2023-03-18T21:21:25.810Z"
      },
      {
        "duration": 301,
        "start_time": "2023-03-18T21:21:26.119Z"
      },
      {
        "duration": 23,
        "start_time": "2023-03-18T21:21:27.370Z"
      },
      {
        "duration": 239,
        "start_time": "2023-03-18T21:21:27.678Z"
      },
      {
        "duration": 924,
        "start_time": "2023-03-18T21:21:28.950Z"
      },
      {
        "duration": 46,
        "start_time": "2023-03-18T21:21:29.876Z"
      },
      {
        "duration": 30,
        "start_time": "2023-03-18T21:21:49.230Z"
      },
      {
        "duration": 30,
        "start_time": "2023-03-18T21:22:16.708Z"
      },
      {
        "duration": 15,
        "start_time": "2023-03-18T21:22:25.502Z"
      },
      {
        "duration": 69,
        "start_time": "2023-03-18T21:24:41.819Z"
      },
      {
        "duration": 16,
        "start_time": "2023-03-18T21:24:46.714Z"
      },
      {
        "duration": 14,
        "start_time": "2023-03-18T21:25:33.241Z"
      },
      {
        "duration": 18,
        "start_time": "2023-03-18T21:25:38.310Z"
      },
      {
        "duration": 33,
        "start_time": "2023-03-18T21:28:09.277Z"
      },
      {
        "duration": 1556,
        "start_time": "2023-03-18T21:28:46.075Z"
      },
      {
        "duration": 23,
        "start_time": "2023-03-18T21:28:55.529Z"
      },
      {
        "duration": 1406,
        "start_time": "2023-03-18T21:29:05.826Z"
      },
      {
        "duration": 1616,
        "start_time": "2023-03-18T21:35:10.269Z"
      },
      {
        "duration": 19,
        "start_time": "2023-03-18T21:35:29.723Z"
      },
      {
        "duration": 22,
        "start_time": "2023-03-18T21:35:48.968Z"
      },
      {
        "duration": 18,
        "start_time": "2023-03-18T21:35:57.423Z"
      },
      {
        "duration": 219,
        "start_time": "2023-03-18T21:36:05.008Z"
      },
      {
        "duration": 195,
        "start_time": "2023-03-18T21:36:17.026Z"
      },
      {
        "duration": 108,
        "start_time": "2023-03-18T21:36:28.623Z"
      },
      {
        "duration": 1544,
        "start_time": "2023-03-18T21:39:05.983Z"
      },
      {
        "duration": 1848,
        "start_time": "2023-03-18T21:39:29.975Z"
      },
      {
        "duration": 156,
        "start_time": "2023-03-18T21:40:00.002Z"
      },
      {
        "duration": 99,
        "start_time": "2023-03-18T21:41:57.330Z"
      },
      {
        "duration": 100,
        "start_time": "2023-03-18T21:43:13.922Z"
      },
      {
        "duration": 100,
        "start_time": "2023-03-18T21:43:48.857Z"
      },
      {
        "duration": 201,
        "start_time": "2023-03-18T21:45:32.095Z"
      },
      {
        "duration": 93,
        "start_time": "2023-03-18T21:46:07.480Z"
      },
      {
        "duration": 1356,
        "start_time": "2023-03-19T16:22:13.088Z"
      },
      {
        "duration": 876,
        "start_time": "2023-03-19T16:22:14.446Z"
      },
      {
        "duration": 27,
        "start_time": "2023-03-19T16:22:15.324Z"
      },
      {
        "duration": 14,
        "start_time": "2023-03-19T16:22:15.353Z"
      },
      {
        "duration": 4,
        "start_time": "2023-03-19T16:22:15.368Z"
      },
      {
        "duration": 7,
        "start_time": "2023-03-19T16:22:15.373Z"
      },
      {
        "duration": 6,
        "start_time": "2023-03-19T16:22:15.382Z"
      },
      {
        "duration": 34,
        "start_time": "2023-03-19T16:22:15.390Z"
      },
      {
        "duration": 36,
        "start_time": "2023-03-19T16:22:15.425Z"
      },
      {
        "duration": 16,
        "start_time": "2023-03-19T16:22:15.464Z"
      },
      {
        "duration": 44,
        "start_time": "2023-03-19T16:22:15.482Z"
      },
      {
        "duration": 15,
        "start_time": "2023-03-19T16:22:15.529Z"
      },
      {
        "duration": 12,
        "start_time": "2023-03-19T16:22:15.547Z"
      },
      {
        "duration": 20,
        "start_time": "2023-03-19T16:22:15.562Z"
      },
      {
        "duration": 68,
        "start_time": "2023-03-19T16:22:15.584Z"
      },
      {
        "duration": 13,
        "start_time": "2023-03-19T16:22:15.655Z"
      },
      {
        "duration": 7,
        "start_time": "2023-03-19T16:22:15.670Z"
      },
      {
        "duration": 27,
        "start_time": "2023-03-19T16:22:15.679Z"
      },
      {
        "duration": 73,
        "start_time": "2023-03-19T16:22:15.708Z"
      },
      {
        "duration": 10,
        "start_time": "2023-03-19T16:22:15.783Z"
      },
      {
        "duration": 11,
        "start_time": "2023-03-19T16:22:15.795Z"
      },
      {
        "duration": 32,
        "start_time": "2023-03-19T16:22:15.808Z"
      },
      {
        "duration": 9,
        "start_time": "2023-03-19T16:22:15.842Z"
      },
      {
        "duration": 4,
        "start_time": "2023-03-19T16:22:15.853Z"
      },
      {
        "duration": 4,
        "start_time": "2023-03-19T16:22:15.859Z"
      },
      {
        "duration": 45,
        "start_time": "2023-03-19T16:22:15.864Z"
      },
      {
        "duration": 8,
        "start_time": "2023-03-19T16:22:15.911Z"
      },
      {
        "duration": 5,
        "start_time": "2023-03-19T16:22:15.922Z"
      },
      {
        "duration": 34,
        "start_time": "2023-03-19T16:22:15.929Z"
      },
      {
        "duration": 8,
        "start_time": "2023-03-19T16:22:15.965Z"
      },
      {
        "duration": 161,
        "start_time": "2023-03-19T16:22:15.975Z"
      },
      {
        "duration": 4,
        "start_time": "2023-03-19T16:22:16.137Z"
      },
      {
        "duration": 94,
        "start_time": "2023-03-19T16:22:16.143Z"
      },
      {
        "duration": 18,
        "start_time": "2023-03-19T16:22:16.240Z"
      },
      {
        "duration": 372,
        "start_time": "2023-03-19T16:22:16.261Z"
      },
      {
        "duration": 15,
        "start_time": "2023-03-19T16:22:16.634Z"
      },
      {
        "duration": 283,
        "start_time": "2023-03-19T16:22:16.652Z"
      },
      {
        "duration": 16,
        "start_time": "2023-03-19T16:22:16.937Z"
      },
      {
        "duration": 19,
        "start_time": "2023-03-19T16:22:16.955Z"
      },
      {
        "duration": 14,
        "start_time": "2023-03-19T16:22:16.975Z"
      },
      {
        "duration": 58,
        "start_time": "2023-03-19T16:22:16.991Z"
      },
      {
        "duration": 19,
        "start_time": "2023-03-19T16:22:17.051Z"
      },
      {
        "duration": 251,
        "start_time": "2023-03-19T16:22:17.072Z"
      },
      {
        "duration": 18,
        "start_time": "2023-03-19T16:22:17.325Z"
      },
      {
        "duration": 253,
        "start_time": "2023-03-19T16:22:17.346Z"
      },
      {
        "duration": 24,
        "start_time": "2023-03-19T16:22:17.601Z"
      },
      {
        "duration": 260,
        "start_time": "2023-03-19T16:22:17.627Z"
      },
      {
        "duration": 14,
        "start_time": "2023-03-19T16:22:17.888Z"
      },
      {
        "duration": 270,
        "start_time": "2023-03-19T16:22:17.904Z"
      },
      {
        "duration": 14,
        "start_time": "2023-03-19T16:22:18.176Z"
      },
      {
        "duration": 225,
        "start_time": "2023-03-19T16:22:18.191Z"
      },
      {
        "duration": 14,
        "start_time": "2023-03-19T16:22:18.418Z"
      },
      {
        "duration": 326,
        "start_time": "2023-03-19T16:22:18.435Z"
      },
      {
        "duration": 16,
        "start_time": "2023-03-19T16:22:18.763Z"
      },
      {
        "duration": 223,
        "start_time": "2023-03-19T16:22:18.781Z"
      },
      {
        "duration": 946,
        "start_time": "2023-03-19T16:22:19.006Z"
      },
      {
        "duration": 97,
        "start_time": "2023-03-19T16:22:19.955Z"
      },
      {
        "duration": 105,
        "start_time": "2023-03-19T16:22:20.055Z"
      },
      {
        "duration": 114,
        "start_time": "2023-03-19T16:22:20.161Z"
      },
      {
        "duration": 130,
        "start_time": "2023-03-19T16:22:20.277Z"
      },
      {
        "duration": 134,
        "start_time": "2023-03-19T16:22:20.410Z"
      },
      {
        "duration": 42,
        "start_time": "2023-03-19T16:22:20.548Z"
      },
      {
        "duration": 257,
        "start_time": "2023-03-19T16:22:20.592Z"
      },
      {
        "duration": 0,
        "start_time": "2023-03-19T16:22:20.852Z"
      },
      {
        "duration": 0,
        "start_time": "2023-03-19T16:22:20.853Z"
      },
      {
        "duration": 0,
        "start_time": "2023-03-19T16:22:20.855Z"
      },
      {
        "duration": 0,
        "start_time": "2023-03-19T16:22:20.856Z"
      },
      {
        "duration": 0,
        "start_time": "2023-03-19T16:22:20.858Z"
      },
      {
        "duration": 0,
        "start_time": "2023-03-19T16:22:20.859Z"
      },
      {
        "duration": 108,
        "start_time": "2023-03-19T16:22:53.349Z"
      },
      {
        "duration": 101,
        "start_time": "2023-03-19T16:23:26.664Z"
      },
      {
        "duration": 94,
        "start_time": "2023-03-19T16:23:57.218Z"
      },
      {
        "duration": 167,
        "start_time": "2023-03-19T16:24:10.655Z"
      },
      {
        "duration": 120,
        "start_time": "2023-03-19T16:24:22.096Z"
      },
      {
        "duration": 92,
        "start_time": "2023-03-19T16:24:47.660Z"
      },
      {
        "duration": 104,
        "start_time": "2023-03-19T16:24:58.937Z"
      },
      {
        "duration": 92,
        "start_time": "2023-03-19T16:26:54.307Z"
      },
      {
        "duration": 1398,
        "start_time": "2023-03-19T17:04:21.178Z"
      },
      {
        "duration": 1152,
        "start_time": "2023-03-19T17:04:22.579Z"
      },
      {
        "duration": 26,
        "start_time": "2023-03-19T17:04:23.734Z"
      },
      {
        "duration": 16,
        "start_time": "2023-03-19T17:04:23.866Z"
      },
      {
        "duration": 5,
        "start_time": "2023-03-19T17:04:25.189Z"
      },
      {
        "duration": 4,
        "start_time": "2023-03-19T17:04:25.467Z"
      },
      {
        "duration": 5,
        "start_time": "2023-03-19T17:04:25.748Z"
      },
      {
        "duration": 7,
        "start_time": "2023-03-19T17:04:26.016Z"
      },
      {
        "duration": 23,
        "start_time": "2023-03-19T17:04:26.294Z"
      },
      {
        "duration": 10,
        "start_time": "2023-03-19T17:04:26.559Z"
      },
      {
        "duration": 10,
        "start_time": "2023-03-19T17:04:26.845Z"
      },
      {
        "duration": 11,
        "start_time": "2023-03-19T17:04:27.128Z"
      },
      {
        "duration": 7,
        "start_time": "2023-03-19T17:04:27.425Z"
      },
      {
        "duration": 15,
        "start_time": "2023-03-19T17:04:27.706Z"
      },
      {
        "duration": 33,
        "start_time": "2023-03-19T17:04:28.599Z"
      },
      {
        "duration": 10,
        "start_time": "2023-03-19T17:04:29.437Z"
      },
      {
        "duration": 3,
        "start_time": "2023-03-19T17:04:29.720Z"
      },
      {
        "duration": 11,
        "start_time": "2023-03-19T17:04:30.027Z"
      },
      {
        "duration": 25,
        "start_time": "2023-03-19T17:04:30.331Z"
      },
      {
        "duration": 11,
        "start_time": "2023-03-19T17:04:31.203Z"
      },
      {
        "duration": 4,
        "start_time": "2023-03-19T17:04:31.488Z"
      },
      {
        "duration": 46,
        "start_time": "2023-03-19T17:04:31.758Z"
      },
      {
        "duration": 9,
        "start_time": "2023-03-19T17:04:32.727Z"
      },
      {
        "duration": 4,
        "start_time": "2023-03-19T17:04:33.018Z"
      },
      {
        "duration": 4,
        "start_time": "2023-03-19T17:04:33.307Z"
      },
      {
        "duration": 30,
        "start_time": "2023-03-19T17:04:33.613Z"
      },
      {
        "duration": 10,
        "start_time": "2023-03-19T17:04:34.498Z"
      },
      {
        "duration": 4,
        "start_time": "2023-03-19T17:04:34.794Z"
      },
      {
        "duration": 42,
        "start_time": "2023-03-19T17:04:35.119Z"
      },
      {
        "duration": 11,
        "start_time": "2023-03-19T17:04:36.260Z"
      },
      {
        "duration": 120,
        "start_time": "2023-03-19T17:04:36.558Z"
      },
      {
        "duration": 4,
        "start_time": "2023-03-19T17:04:36.894Z"
      },
      {
        "duration": 30,
        "start_time": "2023-03-19T17:04:37.194Z"
      },
      {
        "duration": 13,
        "start_time": "2023-03-19T17:04:38.698Z"
      },
      {
        "duration": 175,
        "start_time": "2023-03-19T17:04:38.996Z"
      },
      {
        "duration": 16,
        "start_time": "2023-03-19T17:04:40.225Z"
      },
      {
        "duration": 181,
        "start_time": "2023-03-19T17:04:40.509Z"
      },
      {
        "duration": 15,
        "start_time": "2023-03-19T17:04:40.819Z"
      },
      {
        "duration": 14,
        "start_time": "2023-03-19T17:04:41.196Z"
      },
      {
        "duration": 13,
        "start_time": "2023-03-19T17:04:41.510Z"
      },
      {
        "duration": 19,
        "start_time": "2023-03-19T17:04:41.830Z"
      },
      {
        "duration": 16,
        "start_time": "2023-03-19T17:04:43.112Z"
      },
      {
        "duration": 192,
        "start_time": "2023-03-19T17:04:43.432Z"
      },
      {
        "duration": 14,
        "start_time": "2023-03-19T17:04:44.724Z"
      },
      {
        "duration": 217,
        "start_time": "2023-03-19T17:04:45.066Z"
      },
      {
        "duration": 14,
        "start_time": "2023-03-19T17:04:46.551Z"
      },
      {
        "duration": 207,
        "start_time": "2023-03-19T17:04:46.854Z"
      },
      {
        "duration": 12,
        "start_time": "2023-03-19T17:04:48.194Z"
      },
      {
        "duration": 204,
        "start_time": "2023-03-19T17:04:48.495Z"
      },
      {
        "duration": 17,
        "start_time": "2023-03-19T17:04:49.807Z"
      },
      {
        "duration": 231,
        "start_time": "2023-03-19T17:04:50.121Z"
      },
      {
        "duration": 14,
        "start_time": "2023-03-19T17:04:51.495Z"
      },
      {
        "duration": 275,
        "start_time": "2023-03-19T17:04:51.794Z"
      },
      {
        "duration": 19,
        "start_time": "2023-03-19T17:04:53.194Z"
      },
      {
        "duration": 238,
        "start_time": "2023-03-19T17:04:53.560Z"
      },
      {
        "duration": 1002,
        "start_time": "2023-03-19T17:04:55.046Z"
      },
      {
        "duration": 92,
        "start_time": "2023-03-19T17:04:56.590Z"
      },
      {
        "duration": 92,
        "start_time": "2023-03-19T17:05:09.214Z"
      },
      {
        "duration": 94,
        "start_time": "2023-03-19T17:05:29.462Z"
      },
      {
        "duration": 97,
        "start_time": "2023-03-19T17:05:40.004Z"
      },
      {
        "duration": 96,
        "start_time": "2023-03-19T17:05:45.836Z"
      },
      {
        "duration": 89,
        "start_time": "2023-03-19T17:06:26.407Z"
      },
      {
        "duration": 87,
        "start_time": "2023-03-19T17:06:34.632Z"
      },
      {
        "duration": 117,
        "start_time": "2023-03-19T17:06:54.013Z"
      },
      {
        "duration": 165,
        "start_time": "2023-03-19T17:07:02.643Z"
      },
      {
        "duration": 84,
        "start_time": "2023-03-19T17:07:08.399Z"
      },
      {
        "duration": 87,
        "start_time": "2023-03-19T17:09:10.539Z"
      },
      {
        "duration": 88,
        "start_time": "2023-03-19T17:09:18.791Z"
      },
      {
        "duration": 87,
        "start_time": "2023-03-19T17:09:49.094Z"
      },
      {
        "duration": 90,
        "start_time": "2023-03-19T17:09:54.426Z"
      },
      {
        "duration": 80,
        "start_time": "2023-03-19T17:10:22.056Z"
      },
      {
        "duration": 81,
        "start_time": "2023-03-19T17:10:30.759Z"
      },
      {
        "duration": 113,
        "start_time": "2023-03-19T17:13:35.158Z"
      },
      {
        "duration": 51,
        "start_time": "2023-03-19T17:13:51.097Z"
      },
      {
        "duration": 61,
        "start_time": "2023-03-19T17:14:05.820Z"
      },
      {
        "duration": 54,
        "start_time": "2023-03-19T17:14:22.136Z"
      },
      {
        "duration": 89,
        "start_time": "2023-03-19T17:14:46.808Z"
      },
      {
        "duration": 88,
        "start_time": "2023-03-19T17:14:52.952Z"
      },
      {
        "duration": 112,
        "start_time": "2023-03-19T17:15:03.954Z"
      },
      {
        "duration": 53,
        "start_time": "2023-03-19T17:15:11.528Z"
      },
      {
        "duration": 202,
        "start_time": "2023-03-19T17:15:17.868Z"
      },
      {
        "duration": 295,
        "start_time": "2023-03-19T17:15:42.672Z"
      },
      {
        "duration": 215,
        "start_time": "2023-03-19T17:16:05.023Z"
      },
      {
        "duration": 249,
        "start_time": "2023-03-19T17:16:46.751Z"
      },
      {
        "duration": 101,
        "start_time": "2023-03-19T17:17:05.062Z"
      },
      {
        "duration": 84,
        "start_time": "2023-03-19T17:17:11.718Z"
      },
      {
        "duration": 92,
        "start_time": "2023-03-19T17:17:18.789Z"
      },
      {
        "duration": 86,
        "start_time": "2023-03-19T17:17:33.115Z"
      },
      {
        "duration": 88,
        "start_time": "2023-03-19T17:17:40.608Z"
      },
      {
        "duration": 91,
        "start_time": "2023-03-19T17:17:48.221Z"
      },
      {
        "duration": 93,
        "start_time": "2023-03-19T17:17:55.563Z"
      },
      {
        "duration": 85,
        "start_time": "2023-03-19T17:18:21.073Z"
      },
      {
        "duration": 92,
        "start_time": "2023-03-19T17:18:24.369Z"
      },
      {
        "duration": 86,
        "start_time": "2023-03-19T17:18:34.441Z"
      },
      {
        "duration": 101,
        "start_time": "2023-03-19T17:18:44.167Z"
      },
      {
        "duration": 101,
        "start_time": "2023-03-19T17:18:56.832Z"
      },
      {
        "duration": 124,
        "start_time": "2023-03-19T17:19:02.800Z"
      },
      {
        "duration": 176,
        "start_time": "2023-03-19T17:19:16.455Z"
      },
      {
        "duration": 82,
        "start_time": "2023-03-19T17:19:20.934Z"
      },
      {
        "duration": 87,
        "start_time": "2023-03-19T17:19:42.338Z"
      },
      {
        "duration": 88,
        "start_time": "2023-03-19T17:20:22.260Z"
      },
      {
        "duration": 101,
        "start_time": "2023-03-19T17:20:29.235Z"
      },
      {
        "duration": 89,
        "start_time": "2023-03-19T17:21:14.746Z"
      },
      {
        "duration": 89,
        "start_time": "2023-03-19T17:21:19.778Z"
      },
      {
        "duration": 100,
        "start_time": "2023-03-19T17:21:31.076Z"
      },
      {
        "duration": 98,
        "start_time": "2023-03-19T17:21:36.136Z"
      },
      {
        "duration": 92,
        "start_time": "2023-03-19T17:21:43.456Z"
      },
      {
        "duration": 97,
        "start_time": "2023-03-19T17:21:48.789Z"
      },
      {
        "duration": 89,
        "start_time": "2023-03-19T17:21:57.418Z"
      },
      {
        "duration": 87,
        "start_time": "2023-03-19T17:22:03.317Z"
      },
      {
        "duration": 90,
        "start_time": "2023-03-19T17:22:08.218Z"
      },
      {
        "duration": 101,
        "start_time": "2023-03-19T17:22:19.943Z"
      },
      {
        "duration": 87,
        "start_time": "2023-03-19T17:22:29.152Z"
      },
      {
        "duration": 180,
        "start_time": "2023-03-19T17:22:35.816Z"
      },
      {
        "duration": 83,
        "start_time": "2023-03-19T17:23:49.006Z"
      },
      {
        "duration": 83,
        "start_time": "2023-03-19T17:23:59.340Z"
      },
      {
        "duration": 97,
        "start_time": "2023-03-19T17:24:24.475Z"
      },
      {
        "duration": 88,
        "start_time": "2023-03-19T17:24:28.850Z"
      },
      {
        "duration": 88,
        "start_time": "2023-03-19T17:24:33.021Z"
      },
      {
        "duration": 91,
        "start_time": "2023-03-19T17:26:00.454Z"
      },
      {
        "duration": 93,
        "start_time": "2023-03-19T17:26:06.933Z"
      },
      {
        "duration": 100,
        "start_time": "2023-03-19T17:26:11.843Z"
      },
      {
        "duration": 97,
        "start_time": "2023-03-19T17:26:16.237Z"
      },
      {
        "duration": 88,
        "start_time": "2023-03-19T17:26:24.604Z"
      },
      {
        "duration": 7,
        "start_time": "2023-03-19T17:26:41.520Z"
      },
      {
        "duration": 6,
        "start_time": "2023-03-19T17:26:42.129Z"
      },
      {
        "duration": 31,
        "start_time": "2023-03-19T17:26:42.814Z"
      },
      {
        "duration": 29,
        "start_time": "2023-03-19T17:26:47.821Z"
      },
      {
        "duration": 6,
        "start_time": "2023-03-19T17:26:50.464Z"
      },
      {
        "duration": 10,
        "start_time": "2023-03-19T17:26:51.040Z"
      },
      {
        "duration": 30,
        "start_time": "2023-03-19T17:26:52.039Z"
      },
      {
        "duration": 6,
        "start_time": "2023-03-19T17:26:56.892Z"
      },
      {
        "duration": 5,
        "start_time": "2023-03-19T17:26:57.393Z"
      },
      {
        "duration": 2,
        "start_time": "2023-03-19T17:27:10.598Z"
      },
      {
        "duration": 3968,
        "start_time": "2023-03-19T17:27:10.844Z"
      },
      {
        "duration": 20,
        "start_time": "2023-03-19T17:27:14.814Z"
      },
      {
        "duration": 12,
        "start_time": "2023-03-19T17:27:14.835Z"
      },
      {
        "duration": 13,
        "start_time": "2023-03-19T17:27:14.850Z"
      },
      {
        "duration": 12,
        "start_time": "2023-03-19T17:27:14.864Z"
      },
      {
        "duration": 9,
        "start_time": "2023-03-19T17:27:14.878Z"
      },
      {
        "duration": 6,
        "start_time": "2023-03-19T17:27:14.894Z"
      },
      {
        "duration": 22,
        "start_time": "2023-03-19T17:27:14.902Z"
      },
      {
        "duration": 15,
        "start_time": "2023-03-19T17:27:14.926Z"
      },
      {
        "duration": 8,
        "start_time": "2023-03-19T17:27:14.944Z"
      },
      {
        "duration": 15,
        "start_time": "2023-03-19T17:27:14.954Z"
      },
      {
        "duration": 31,
        "start_time": "2023-03-19T17:27:14.971Z"
      },
      {
        "duration": 20,
        "start_time": "2023-03-19T17:27:15.004Z"
      },
      {
        "duration": 29,
        "start_time": "2023-03-19T17:27:15.793Z"
      },
      {
        "duration": 7,
        "start_time": "2023-03-19T17:27:16.612Z"
      },
      {
        "duration": 3,
        "start_time": "2023-03-19T17:27:16.889Z"
      },
      {
        "duration": 7,
        "start_time": "2023-03-19T17:27:17.179Z"
      },
      {
        "duration": 23,
        "start_time": "2023-03-19T17:27:17.418Z"
      },
      {
        "duration": 9,
        "start_time": "2023-03-19T17:27:18.237Z"
      },
      {
        "duration": 3,
        "start_time": "2023-03-19T17:27:18.538Z"
      },
      {
        "duration": 27,
        "start_time": "2023-03-19T17:27:18.803Z"
      },
      {
        "duration": 8,
        "start_time": "2023-03-19T17:27:19.603Z"
      },
      {
        "duration": 4,
        "start_time": "2023-03-19T17:27:19.817Z"
      },
      {
        "duration": 3,
        "start_time": "2023-03-19T17:27:20.067Z"
      },
      {
        "duration": 27,
        "start_time": "2023-03-19T17:27:20.330Z"
      },
      {
        "duration": 9,
        "start_time": "2023-03-19T17:27:21.120Z"
      },
      {
        "duration": 4,
        "start_time": "2023-03-19T17:27:21.391Z"
      },
      {
        "duration": 29,
        "start_time": "2023-03-19T17:27:21.659Z"
      },
      {
        "duration": 8,
        "start_time": "2023-03-19T17:27:22.517Z"
      },
      {
        "duration": 157,
        "start_time": "2023-03-19T17:27:22.795Z"
      },
      {
        "duration": 4,
        "start_time": "2023-03-19T17:27:23.061Z"
      },
      {
        "duration": 29,
        "start_time": "2023-03-19T17:27:23.320Z"
      },
      {
        "duration": 15,
        "start_time": "2023-03-19T17:27:24.838Z"
      },
      {
        "duration": 171,
        "start_time": "2023-03-19T17:27:25.119Z"
      },
      {
        "duration": 14,
        "start_time": "2023-03-19T17:27:26.233Z"
      },
      {
        "duration": 204,
        "start_time": "2023-03-19T17:27:26.491Z"
      },
      {
        "duration": 14,
        "start_time": "2023-03-19T17:27:26.789Z"
      },
      {
        "duration": 13,
        "start_time": "2023-03-19T17:27:27.048Z"
      },
      {
        "duration": 13,
        "start_time": "2023-03-19T17:27:27.346Z"
      },
      {
        "duration": 19,
        "start_time": "2023-03-19T17:27:27.627Z"
      },
      {
        "duration": 14,
        "start_time": "2023-03-19T17:27:28.797Z"
      },
      {
        "duration": 200,
        "start_time": "2023-03-19T17:27:29.289Z"
      },
      {
        "duration": 13,
        "start_time": "2023-03-19T17:27:30.390Z"
      },
      {
        "duration": 294,
        "start_time": "2023-03-19T17:27:30.660Z"
      },
      {
        "duration": 13,
        "start_time": "2023-03-19T17:27:31.790Z"
      },
      {
        "duration": 197,
        "start_time": "2023-03-19T17:27:32.028Z"
      },
      {
        "duration": 12,
        "start_time": "2023-03-19T17:27:33.113Z"
      },
      {
        "duration": 199,
        "start_time": "2023-03-19T17:27:33.384Z"
      },
      {
        "duration": 13,
        "start_time": "2023-03-19T17:27:34.551Z"
      },
      {
        "duration": 190,
        "start_time": "2023-03-19T17:27:34.826Z"
      },
      {
        "duration": 15,
        "start_time": "2023-03-19T17:27:36.008Z"
      },
      {
        "duration": 192,
        "start_time": "2023-03-19T17:27:36.292Z"
      },
      {
        "duration": 15,
        "start_time": "2023-03-19T17:27:37.480Z"
      },
      {
        "duration": 196,
        "start_time": "2023-03-19T17:27:37.766Z"
      },
      {
        "duration": 810,
        "start_time": "2023-03-19T17:27:39.033Z"
      },
      {
        "duration": 95,
        "start_time": "2023-03-19T17:27:40.101Z"
      },
      {
        "duration": 87,
        "start_time": "2023-03-19T17:27:40.407Z"
      },
      {
        "duration": 89,
        "start_time": "2023-03-19T17:27:40.733Z"
      },
      {
        "duration": 169,
        "start_time": "2023-03-19T17:27:43.002Z"
      },
      {
        "duration": 6,
        "start_time": "2023-03-19T17:27:44.211Z"
      },
      {
        "duration": 5,
        "start_time": "2023-03-19T17:27:44.899Z"
      },
      {
        "duration": 134,
        "start_time": "2023-03-19T17:28:36.993Z"
      },
      {
        "duration": 8,
        "start_time": "2023-03-19T17:28:42.559Z"
      },
      {
        "duration": 9,
        "start_time": "2023-03-19T17:28:47.245Z"
      },
      {
        "duration": 8,
        "start_time": "2023-03-19T17:28:58.668Z"
      },
      {
        "duration": 5,
        "start_time": "2023-03-19T17:28:59.345Z"
      },
      {
        "duration": 36,
        "start_time": "2023-03-19T17:29:05.737Z"
      },
      {
        "duration": 7,
        "start_time": "2023-03-19T17:29:16.118Z"
      },
      {
        "duration": 10,
        "start_time": "2023-03-19T17:29:16.654Z"
      },
      {
        "duration": 29,
        "start_time": "2023-03-19T17:29:17.336Z"
      }
    ],
    "kernelspec": {
      "display_name": "Python 3 (ipykernel)",
      "language": "python",
      "name": "python3"
    },
    "language_info": {
      "codemirror_mode": {
        "name": "ipython",
        "version": 3
      },
      "file_extension": ".py",
      "mimetype": "text/x-python",
      "name": "python",
      "nbconvert_exporter": "python",
      "pygments_lexer": "ipython3",
      "version": "3.9.5"
    },
    "toc": {
      "base_numbering": 1,
      "nav_menu": {},
      "number_sections": true,
      "sideBar": true,
      "skip_h1_title": true,
      "title_cell": "Table of Contents",
      "title_sidebar": "Contents",
      "toc_cell": false,
      "toc_position": {},
      "toc_section_display": true,
      "toc_window_display": false
    },
    "colab": {
      "provenance": []
    }
  },
  "nbformat": 4,
  "nbformat_minor": 0
}