{
  "cells": [
    {
      "cell_type": "markdown",
      "metadata": {
        "id": "wT2o1HGA00ho"
      },
      "source": [
        "# Проект: Принятие решений в бизнесе"
      ]
    },
    {
      "cell_type": "markdown",
      "metadata": {
        "id": "FETJfwlJ00ho"
      },
      "source": [
        "- Описание проекта\n",
        "Вместе с отделом маркетинга был подготовлен список 9 гипотез для увеличения выручки.\n",
        "- Цель работы: приоритизировать гипотезы, запустить A/B-тест и проанализировать результаты.\n",
        "Чтобы достить поставленной цели необходимо:получить данные, провести из предобработку, провести приоритизацию гипотез и анализ А/В теста."
      ]
    },
    {
      "cell_type": "markdown",
      "metadata": {
        "id": "Ff7CTLZY00hp"
      },
      "source": [
        "## Приоритизация гипотез"
      ]
    },
    {
      "cell_type": "markdown",
      "metadata": {
        "id": "5-PSKNiE00hq"
      },
      "source": [
        "### Предобработка данных"
      ]
    },
    {
      "cell_type": "code",
      "execution_count": null,
      "metadata": {
        "id": "Iys-PoTf00hq"
      },
      "outputs": [],
      "source": [
        "import pandas as pd\n",
        "import datetime as dt\n",
        "import numpy as np\n",
        "import matplotlib.pyplot as plt\n",
        "import scipy.stats as stats"
      ]
    },
    {
      "cell_type": "code",
      "execution_count": null,
      "metadata": {
        "id": "0Z6olVvT00hs"
      },
      "outputs": [],
      "source": [
        "df=pd.read_csv(\"/datasets/hypothesis.csv\")"
      ]
    },
    {
      "cell_type": "code",
      "execution_count": null,
      "metadata": {
        "id": "FsidQ5Pn00ht",
        "outputId": "09370c64-1c27-4b2e-b5a7-27106b48449e"
      },
      "outputs": [
        {
          "data": {
            "text/html": [
              "<div>\n",
              "<style scoped>\n",
              "    .dataframe tbody tr th:only-of-type {\n",
              "        vertical-align: middle;\n",
              "    }\n",
              "\n",
              "    .dataframe tbody tr th {\n",
              "        vertical-align: top;\n",
              "    }\n",
              "\n",
              "    .dataframe thead th {\n",
              "        text-align: right;\n",
              "    }\n",
              "</style>\n",
              "<table border=\"1\" class=\"dataframe\">\n",
              "  <thead>\n",
              "    <tr style=\"text-align: right;\">\n",
              "      <th></th>\n",
              "      <th>Hypothesis</th>\n",
              "      <th>Reach</th>\n",
              "      <th>Impact</th>\n",
              "      <th>Confidence</th>\n",
              "      <th>Efforts</th>\n",
              "    </tr>\n",
              "  </thead>\n",
              "  <tbody>\n",
              "    <tr>\n",
              "      <th>0</th>\n",
              "      <td>Добавить два новых канала привлечения трафика,...</td>\n",
              "      <td>3</td>\n",
              "      <td>10</td>\n",
              "      <td>8</td>\n",
              "      <td>6</td>\n",
              "    </tr>\n",
              "    <tr>\n",
              "      <th>1</th>\n",
              "      <td>Запустить собственную службу доставки, что сок...</td>\n",
              "      <td>2</td>\n",
              "      <td>5</td>\n",
              "      <td>4</td>\n",
              "      <td>10</td>\n",
              "    </tr>\n",
              "    <tr>\n",
              "      <th>2</th>\n",
              "      <td>Добавить блоки рекомендаций товаров на сайт ин...</td>\n",
              "      <td>8</td>\n",
              "      <td>3</td>\n",
              "      <td>7</td>\n",
              "      <td>3</td>\n",
              "    </tr>\n",
              "    <tr>\n",
              "      <th>3</th>\n",
              "      <td>Изменить структура категорий, что увеличит кон...</td>\n",
              "      <td>8</td>\n",
              "      <td>3</td>\n",
              "      <td>3</td>\n",
              "      <td>8</td>\n",
              "    </tr>\n",
              "    <tr>\n",
              "      <th>4</th>\n",
              "      <td>Изменить цвет фона главной страницы, чтобы уве...</td>\n",
              "      <td>3</td>\n",
              "      <td>1</td>\n",
              "      <td>1</td>\n",
              "      <td>1</td>\n",
              "    </tr>\n",
              "    <tr>\n",
              "      <th>5</th>\n",
              "      <td>Добавить страницу отзывов клиентов о магазине,...</td>\n",
              "      <td>3</td>\n",
              "      <td>2</td>\n",
              "      <td>2</td>\n",
              "      <td>3</td>\n",
              "    </tr>\n",
              "    <tr>\n",
              "      <th>6</th>\n",
              "      <td>Показать на главной странице баннеры с актуаль...</td>\n",
              "      <td>5</td>\n",
              "      <td>3</td>\n",
              "      <td>8</td>\n",
              "      <td>3</td>\n",
              "    </tr>\n",
              "    <tr>\n",
              "      <th>7</th>\n",
              "      <td>Добавить форму подписки на все основные страни...</td>\n",
              "      <td>10</td>\n",
              "      <td>7</td>\n",
              "      <td>8</td>\n",
              "      <td>5</td>\n",
              "    </tr>\n",
              "    <tr>\n",
              "      <th>8</th>\n",
              "      <td>Запустить акцию, дающую скидку на товар в день...</td>\n",
              "      <td>1</td>\n",
              "      <td>9</td>\n",
              "      <td>9</td>\n",
              "      <td>5</td>\n",
              "    </tr>\n",
              "  </tbody>\n",
              "</table>\n",
              "</div>"
            ],
            "text/plain": [
              "                                          Hypothesis  Reach  Impact  \\\n",
              "0  Добавить два новых канала привлечения трафика,...      3      10   \n",
              "1  Запустить собственную службу доставки, что сок...      2       5   \n",
              "2  Добавить блоки рекомендаций товаров на сайт ин...      8       3   \n",
              "3  Изменить структура категорий, что увеличит кон...      8       3   \n",
              "4  Изменить цвет фона главной страницы, чтобы уве...      3       1   \n",
              "5  Добавить страницу отзывов клиентов о магазине,...      3       2   \n",
              "6  Показать на главной странице баннеры с актуаль...      5       3   \n",
              "7  Добавить форму подписки на все основные страни...     10       7   \n",
              "8  Запустить акцию, дающую скидку на товар в день...      1       9   \n",
              "\n",
              "   Confidence  Efforts  \n",
              "0           8        6  \n",
              "1           4       10  \n",
              "2           7        3  \n",
              "3           3        8  \n",
              "4           1        1  \n",
              "5           2        3  \n",
              "6           8        3  \n",
              "7           8        5  \n",
              "8           9        5  "
            ]
          },
          "execution_count": 3,
          "metadata": {},
          "output_type": "execute_result"
        }
      ],
      "source": [
        "df"
      ]
    },
    {
      "cell_type": "markdown",
      "metadata": {
        "id": "TLQ76UXt00hu"
      },
      "source": [
        "В df представленны столбцы со следующими значениями:\n",
        "- Hypothesis — краткое описание гипотезы;\n",
        "- Reach — охват пользователей по 10-балльной шкале;\n",
        "- Impact — влияние на пользователей по 10-балльной шкале;\n",
        "- Confidence — уверенность в гипотезе по 10-балльной шкале;\n",
        "- Efforts — затраты ресурсов на проверку гипотезы по 10-балльной шкале. Чем больше значение Efforts, тем дороже проверка гипотезы."
      ]
    },
    {
      "cell_type": "code",
      "execution_count": null,
      "metadata": {
        "id": "gsnUp4d800hu",
        "outputId": "b9690fef-8702-4704-e28f-6213e3d0c1f5"
      },
      "outputs": [
        {
          "name": "stdout",
          "output_type": "stream",
          "text": [
            "<class 'pandas.core.frame.DataFrame'>\n",
            "RangeIndex: 9 entries, 0 to 8\n",
            "Data columns (total 5 columns):\n",
            " #   Column      Non-Null Count  Dtype \n",
            "---  ------      --------------  ----- \n",
            " 0   Hypothesis  9 non-null      object\n",
            " 1   Reach       9 non-null      int64 \n",
            " 2   Impact      9 non-null      int64 \n",
            " 3   Confidence  9 non-null      int64 \n",
            " 4   Efforts     9 non-null      int64 \n",
            "dtypes: int64(4), object(1)\n",
            "memory usage: 488.0+ bytes\n"
          ]
        }
      ],
      "source": [
        "df.info()"
      ]
    },
    {
      "cell_type": "code",
      "execution_count": null,
      "metadata": {
        "id": "Z9LgKMh-00hv"
      },
      "outputs": [],
      "source": [
        "#приведем название столбцов к нижнему регистру\n",
        "df.columns=df.columns.str.lower()"
      ]
    },
    {
      "cell_type": "code",
      "execution_count": null,
      "metadata": {
        "id": "2lR5AyMM00hv",
        "outputId": "0d051368-6166-41d9-a2ee-06cac7ecec8c"
      },
      "outputs": [
        {
          "data": {
            "text/plain": [
              "0"
            ]
          },
          "execution_count": 6,
          "metadata": {},
          "output_type": "execute_result"
        }
      ],
      "source": [
        "df.duplicated().sum()"
      ]
    },
    {
      "cell_type": "code",
      "execution_count": null,
      "metadata": {
        "id": "HnDNIJzB00hv",
        "outputId": "dfc2e53d-b558-4bd3-b023-0c2fc9d6ed6e"
      },
      "outputs": [
        {
          "data": {
            "text/plain": [
              "0"
            ]
          },
          "execution_count": 7,
          "metadata": {},
          "output_type": "execute_result"
        }
      ],
      "source": [
        "df.isnull().sum().sum()"
      ]
    },
    {
      "cell_type": "markdown",
      "metadata": {
        "id": "2YEEZiqI00hw"
      },
      "source": [
        "Дубликатов и нулевых значений нет"
      ]
    },
    {
      "cell_type": "code",
      "execution_count": null,
      "metadata": {
        "id": "NtYoEWVt00hw",
        "outputId": "375050db-0a9d-4d5a-b8a5-07cbf7f5d53b"
      },
      "outputs": [
        {
          "data": {
            "text/html": [
              "<div>\n",
              "<style scoped>\n",
              "    .dataframe tbody tr th:only-of-type {\n",
              "        vertical-align: middle;\n",
              "    }\n",
              "\n",
              "    .dataframe tbody tr th {\n",
              "        vertical-align: top;\n",
              "    }\n",
              "\n",
              "    .dataframe thead th {\n",
              "        text-align: right;\n",
              "    }\n",
              "</style>\n",
              "<table border=\"1\" class=\"dataframe\">\n",
              "  <thead>\n",
              "    <tr style=\"text-align: right;\">\n",
              "      <th></th>\n",
              "      <th>hypothesis</th>\n",
              "      <th>reach</th>\n",
              "      <th>impact</th>\n",
              "      <th>confidence</th>\n",
              "      <th>efforts</th>\n",
              "    </tr>\n",
              "  </thead>\n",
              "  <tbody>\n",
              "    <tr>\n",
              "      <th>0</th>\n",
              "      <td>Добавить два новых канала привлечения трафика,...</td>\n",
              "      <td>3</td>\n",
              "      <td>10</td>\n",
              "      <td>8</td>\n",
              "      <td>6</td>\n",
              "    </tr>\n",
              "    <tr>\n",
              "      <th>1</th>\n",
              "      <td>Запустить собственную службу доставки, что сок...</td>\n",
              "      <td>2</td>\n",
              "      <td>5</td>\n",
              "      <td>4</td>\n",
              "      <td>10</td>\n",
              "    </tr>\n",
              "    <tr>\n",
              "      <th>2</th>\n",
              "      <td>Добавить блоки рекомендаций товаров на сайт ин...</td>\n",
              "      <td>8</td>\n",
              "      <td>3</td>\n",
              "      <td>7</td>\n",
              "      <td>3</td>\n",
              "    </tr>\n",
              "    <tr>\n",
              "      <th>3</th>\n",
              "      <td>Изменить структура категорий, что увеличит кон...</td>\n",
              "      <td>8</td>\n",
              "      <td>3</td>\n",
              "      <td>3</td>\n",
              "      <td>8</td>\n",
              "    </tr>\n",
              "    <tr>\n",
              "      <th>4</th>\n",
              "      <td>Изменить цвет фона главной страницы, чтобы уве...</td>\n",
              "      <td>3</td>\n",
              "      <td>1</td>\n",
              "      <td>1</td>\n",
              "      <td>1</td>\n",
              "    </tr>\n",
              "    <tr>\n",
              "      <th>5</th>\n",
              "      <td>Добавить страницу отзывов клиентов о магазине,...</td>\n",
              "      <td>3</td>\n",
              "      <td>2</td>\n",
              "      <td>2</td>\n",
              "      <td>3</td>\n",
              "    </tr>\n",
              "    <tr>\n",
              "      <th>6</th>\n",
              "      <td>Показать на главной странице баннеры с актуаль...</td>\n",
              "      <td>5</td>\n",
              "      <td>3</td>\n",
              "      <td>8</td>\n",
              "      <td>3</td>\n",
              "    </tr>\n",
              "    <tr>\n",
              "      <th>7</th>\n",
              "      <td>Добавить форму подписки на все основные страни...</td>\n",
              "      <td>10</td>\n",
              "      <td>7</td>\n",
              "      <td>8</td>\n",
              "      <td>5</td>\n",
              "    </tr>\n",
              "    <tr>\n",
              "      <th>8</th>\n",
              "      <td>Запустить акцию, дающую скидку на товар в день...</td>\n",
              "      <td>1</td>\n",
              "      <td>9</td>\n",
              "      <td>9</td>\n",
              "      <td>5</td>\n",
              "    </tr>\n",
              "  </tbody>\n",
              "</table>\n",
              "</div>"
            ],
            "text/plain": [
              "                                          hypothesis  reach  impact  \\\n",
              "0  Добавить два новых канала привлечения трафика,...      3      10   \n",
              "1  Запустить собственную службу доставки, что сок...      2       5   \n",
              "2  Добавить блоки рекомендаций товаров на сайт ин...      8       3   \n",
              "3  Изменить структура категорий, что увеличит кон...      8       3   \n",
              "4  Изменить цвет фона главной страницы, чтобы уве...      3       1   \n",
              "5  Добавить страницу отзывов клиентов о магазине,...      3       2   \n",
              "6  Показать на главной странице баннеры с актуаль...      5       3   \n",
              "7  Добавить форму подписки на все основные страни...     10       7   \n",
              "8  Запустить акцию, дающую скидку на товар в день...      1       9   \n",
              "\n",
              "   confidence  efforts  \n",
              "0           8        6  \n",
              "1           4       10  \n",
              "2           7        3  \n",
              "3           3        8  \n",
              "4           1        1  \n",
              "5           2        3  \n",
              "6           8        3  \n",
              "7           8        5  \n",
              "8           9        5  "
            ]
          },
          "execution_count": 8,
          "metadata": {},
          "output_type": "execute_result"
        }
      ],
      "source": [
        "df"
      ]
    },
    {
      "cell_type": "markdown",
      "metadata": {
        "id": "_nwU5YAk00hx"
      },
      "source": [
        "### Приоритизация гипотез способами ICE и RICE"
      ]
    },
    {
      "cell_type": "code",
      "execution_count": null,
      "metadata": {
        "id": "As5YFNEm00hx"
      },
      "outputs": [],
      "source": [
        "# приоритизация гипотез способом ICE\n",
        "df['ICE']=df['impact']*df['confidence']/df['efforts']"
      ]
    },
    {
      "cell_type": "code",
      "execution_count": null,
      "metadata": {
        "scrolled": true,
        "id": "--h8GgPv00hx",
        "outputId": "edae5fdc-8b75-4e38-9d13-a98a06d47782"
      },
      "outputs": [
        {
          "data": {
            "text/html": [
              "<div>\n",
              "<style scoped>\n",
              "    .dataframe tbody tr th:only-of-type {\n",
              "        vertical-align: middle;\n",
              "    }\n",
              "\n",
              "    .dataframe tbody tr th {\n",
              "        vertical-align: top;\n",
              "    }\n",
              "\n",
              "    .dataframe thead th {\n",
              "        text-align: right;\n",
              "    }\n",
              "</style>\n",
              "<table border=\"1\" class=\"dataframe\">\n",
              "  <thead>\n",
              "    <tr style=\"text-align: right;\">\n",
              "      <th></th>\n",
              "      <th>hypothesis</th>\n",
              "      <th>reach</th>\n",
              "      <th>impact</th>\n",
              "      <th>confidence</th>\n",
              "      <th>efforts</th>\n",
              "      <th>ICE</th>\n",
              "    </tr>\n",
              "  </thead>\n",
              "  <tbody>\n",
              "    <tr>\n",
              "      <th>8</th>\n",
              "      <td>Запустить акцию, дающую скидку на товар в день...</td>\n",
              "      <td>1</td>\n",
              "      <td>9</td>\n",
              "      <td>9</td>\n",
              "      <td>5</td>\n",
              "      <td>16.200000</td>\n",
              "    </tr>\n",
              "    <tr>\n",
              "      <th>0</th>\n",
              "      <td>Добавить два новых канала привлечения трафика,...</td>\n",
              "      <td>3</td>\n",
              "      <td>10</td>\n",
              "      <td>8</td>\n",
              "      <td>6</td>\n",
              "      <td>13.333333</td>\n",
              "    </tr>\n",
              "    <tr>\n",
              "      <th>7</th>\n",
              "      <td>Добавить форму подписки на все основные страни...</td>\n",
              "      <td>10</td>\n",
              "      <td>7</td>\n",
              "      <td>8</td>\n",
              "      <td>5</td>\n",
              "      <td>11.200000</td>\n",
              "    </tr>\n",
              "    <tr>\n",
              "      <th>6</th>\n",
              "      <td>Показать на главной странице баннеры с актуаль...</td>\n",
              "      <td>5</td>\n",
              "      <td>3</td>\n",
              "      <td>8</td>\n",
              "      <td>3</td>\n",
              "      <td>8.000000</td>\n",
              "    </tr>\n",
              "    <tr>\n",
              "      <th>2</th>\n",
              "      <td>Добавить блоки рекомендаций товаров на сайт ин...</td>\n",
              "      <td>8</td>\n",
              "      <td>3</td>\n",
              "      <td>7</td>\n",
              "      <td>3</td>\n",
              "      <td>7.000000</td>\n",
              "    </tr>\n",
              "    <tr>\n",
              "      <th>1</th>\n",
              "      <td>Запустить собственную службу доставки, что сок...</td>\n",
              "      <td>2</td>\n",
              "      <td>5</td>\n",
              "      <td>4</td>\n",
              "      <td>10</td>\n",
              "      <td>2.000000</td>\n",
              "    </tr>\n",
              "    <tr>\n",
              "      <th>5</th>\n",
              "      <td>Добавить страницу отзывов клиентов о магазине,...</td>\n",
              "      <td>3</td>\n",
              "      <td>2</td>\n",
              "      <td>2</td>\n",
              "      <td>3</td>\n",
              "      <td>1.333333</td>\n",
              "    </tr>\n",
              "    <tr>\n",
              "      <th>3</th>\n",
              "      <td>Изменить структура категорий, что увеличит кон...</td>\n",
              "      <td>8</td>\n",
              "      <td>3</td>\n",
              "      <td>3</td>\n",
              "      <td>8</td>\n",
              "      <td>1.125000</td>\n",
              "    </tr>\n",
              "    <tr>\n",
              "      <th>4</th>\n",
              "      <td>Изменить цвет фона главной страницы, чтобы уве...</td>\n",
              "      <td>3</td>\n",
              "      <td>1</td>\n",
              "      <td>1</td>\n",
              "      <td>1</td>\n",
              "      <td>1.000000</td>\n",
              "    </tr>\n",
              "  </tbody>\n",
              "</table>\n",
              "</div>"
            ],
            "text/plain": [
              "                                          hypothesis  reach  impact  \\\n",
              "8  Запустить акцию, дающую скидку на товар в день...      1       9   \n",
              "0  Добавить два новых канала привлечения трафика,...      3      10   \n",
              "7  Добавить форму подписки на все основные страни...     10       7   \n",
              "6  Показать на главной странице баннеры с актуаль...      5       3   \n",
              "2  Добавить блоки рекомендаций товаров на сайт ин...      8       3   \n",
              "1  Запустить собственную службу доставки, что сок...      2       5   \n",
              "5  Добавить страницу отзывов клиентов о магазине,...      3       2   \n",
              "3  Изменить структура категорий, что увеличит кон...      8       3   \n",
              "4  Изменить цвет фона главной страницы, чтобы уве...      3       1   \n",
              "\n",
              "   confidence  efforts        ICE  \n",
              "8           9        5  16.200000  \n",
              "0           8        6  13.333333  \n",
              "7           8        5  11.200000  \n",
              "6           8        3   8.000000  \n",
              "2           7        3   7.000000  \n",
              "1           4       10   2.000000  \n",
              "5           2        3   1.333333  \n",
              "3           3        8   1.125000  \n",
              "4           1        1   1.000000  "
            ]
          },
          "execution_count": 10,
          "metadata": {},
          "output_type": "execute_result"
        }
      ],
      "source": [
        "df.sort_values(by='ICE',ascending=False)"
      ]
    },
    {
      "cell_type": "markdown",
      "metadata": {
        "id": "CyNWnUvw00hy"
      },
      "source": [
        "Согласно значению ICE, наиболее приоритетными являются гипотезы 8, 0, 7"
      ]
    },
    {
      "cell_type": "code",
      "execution_count": null,
      "metadata": {
        "id": "8Wgj6NFh00hy"
      },
      "outputs": [],
      "source": [
        "# приоритизация гипотез способом RICE\n",
        "df['RICE']=df['reach']*df['impact']*df['confidence']/df['efforts']"
      ]
    },
    {
      "cell_type": "code",
      "execution_count": null,
      "metadata": {
        "id": "m-KqiHbz00hy",
        "outputId": "828f9741-5c77-47b5-ff57-2f3a9fec0fcd"
      },
      "outputs": [
        {
          "data": {
            "text/html": [
              "<div>\n",
              "<style scoped>\n",
              "    .dataframe tbody tr th:only-of-type {\n",
              "        vertical-align: middle;\n",
              "    }\n",
              "\n",
              "    .dataframe tbody tr th {\n",
              "        vertical-align: top;\n",
              "    }\n",
              "\n",
              "    .dataframe thead th {\n",
              "        text-align: right;\n",
              "    }\n",
              "</style>\n",
              "<table border=\"1\" class=\"dataframe\">\n",
              "  <thead>\n",
              "    <tr style=\"text-align: right;\">\n",
              "      <th></th>\n",
              "      <th>hypothesis</th>\n",
              "      <th>reach</th>\n",
              "      <th>impact</th>\n",
              "      <th>confidence</th>\n",
              "      <th>efforts</th>\n",
              "      <th>ICE</th>\n",
              "      <th>RICE</th>\n",
              "    </tr>\n",
              "  </thead>\n",
              "  <tbody>\n",
              "    <tr>\n",
              "      <th>7</th>\n",
              "      <td>Добавить форму подписки на все основные страни...</td>\n",
              "      <td>10</td>\n",
              "      <td>7</td>\n",
              "      <td>8</td>\n",
              "      <td>5</td>\n",
              "      <td>11.200000</td>\n",
              "      <td>112.0</td>\n",
              "    </tr>\n",
              "    <tr>\n",
              "      <th>2</th>\n",
              "      <td>Добавить блоки рекомендаций товаров на сайт ин...</td>\n",
              "      <td>8</td>\n",
              "      <td>3</td>\n",
              "      <td>7</td>\n",
              "      <td>3</td>\n",
              "      <td>7.000000</td>\n",
              "      <td>56.0</td>\n",
              "    </tr>\n",
              "    <tr>\n",
              "      <th>0</th>\n",
              "      <td>Добавить два новых канала привлечения трафика,...</td>\n",
              "      <td>3</td>\n",
              "      <td>10</td>\n",
              "      <td>8</td>\n",
              "      <td>6</td>\n",
              "      <td>13.333333</td>\n",
              "      <td>40.0</td>\n",
              "    </tr>\n",
              "    <tr>\n",
              "      <th>6</th>\n",
              "      <td>Показать на главной странице баннеры с актуаль...</td>\n",
              "      <td>5</td>\n",
              "      <td>3</td>\n",
              "      <td>8</td>\n",
              "      <td>3</td>\n",
              "      <td>8.000000</td>\n",
              "      <td>40.0</td>\n",
              "    </tr>\n",
              "    <tr>\n",
              "      <th>8</th>\n",
              "      <td>Запустить акцию, дающую скидку на товар в день...</td>\n",
              "      <td>1</td>\n",
              "      <td>9</td>\n",
              "      <td>9</td>\n",
              "      <td>5</td>\n",
              "      <td>16.200000</td>\n",
              "      <td>16.2</td>\n",
              "    </tr>\n",
              "    <tr>\n",
              "      <th>3</th>\n",
              "      <td>Изменить структура категорий, что увеличит кон...</td>\n",
              "      <td>8</td>\n",
              "      <td>3</td>\n",
              "      <td>3</td>\n",
              "      <td>8</td>\n",
              "      <td>1.125000</td>\n",
              "      <td>9.0</td>\n",
              "    </tr>\n",
              "    <tr>\n",
              "      <th>1</th>\n",
              "      <td>Запустить собственную службу доставки, что сок...</td>\n",
              "      <td>2</td>\n",
              "      <td>5</td>\n",
              "      <td>4</td>\n",
              "      <td>10</td>\n",
              "      <td>2.000000</td>\n",
              "      <td>4.0</td>\n",
              "    </tr>\n",
              "    <tr>\n",
              "      <th>5</th>\n",
              "      <td>Добавить страницу отзывов клиентов о магазине,...</td>\n",
              "      <td>3</td>\n",
              "      <td>2</td>\n",
              "      <td>2</td>\n",
              "      <td>3</td>\n",
              "      <td>1.333333</td>\n",
              "      <td>4.0</td>\n",
              "    </tr>\n",
              "    <tr>\n",
              "      <th>4</th>\n",
              "      <td>Изменить цвет фона главной страницы, чтобы уве...</td>\n",
              "      <td>3</td>\n",
              "      <td>1</td>\n",
              "      <td>1</td>\n",
              "      <td>1</td>\n",
              "      <td>1.000000</td>\n",
              "      <td>3.0</td>\n",
              "    </tr>\n",
              "  </tbody>\n",
              "</table>\n",
              "</div>"
            ],
            "text/plain": [
              "                                          hypothesis  reach  impact  \\\n",
              "7  Добавить форму подписки на все основные страни...     10       7   \n",
              "2  Добавить блоки рекомендаций товаров на сайт ин...      8       3   \n",
              "0  Добавить два новых канала привлечения трафика,...      3      10   \n",
              "6  Показать на главной странице баннеры с актуаль...      5       3   \n",
              "8  Запустить акцию, дающую скидку на товар в день...      1       9   \n",
              "3  Изменить структура категорий, что увеличит кон...      8       3   \n",
              "1  Запустить собственную службу доставки, что сок...      2       5   \n",
              "5  Добавить страницу отзывов клиентов о магазине,...      3       2   \n",
              "4  Изменить цвет фона главной страницы, чтобы уве...      3       1   \n",
              "\n",
              "   confidence  efforts        ICE   RICE  \n",
              "7           8        5  11.200000  112.0  \n",
              "2           7        3   7.000000   56.0  \n",
              "0           8        6  13.333333   40.0  \n",
              "6           8        3   8.000000   40.0  \n",
              "8           9        5  16.200000   16.2  \n",
              "3           3        8   1.125000    9.0  \n",
              "1           4       10   2.000000    4.0  \n",
              "5           2        3   1.333333    4.0  \n",
              "4           1        1   1.000000    3.0  "
            ]
          },
          "execution_count": 12,
          "metadata": {},
          "output_type": "execute_result"
        }
      ],
      "source": [
        "df.sort_values(by='RICE',ascending=False)"
      ]
    },
    {
      "cell_type": "markdown",
      "metadata": {
        "id": "xqoJ2kqA00hz"
      },
      "source": [
        "Согласно значению RICE, наиболее приоритетными являются гипотезы 7, 2, 0"
      ]
    },
    {
      "cell_type": "markdown",
      "metadata": {
        "id": "I5nBuLdv00hz"
      },
      "source": [
        "Видно, что приоритезация гипотез при применении RICE вместо ICE изменилась: наиболее приоритетной стала гипотеза 7(до этого самой приоритетной гипотезой была 8). Исходя из этого можно сделать вывод, что учитывание охвата(reach) меняет приоритетность гипотез. В итоге в качестве самой приоритетной гипотезы целесообразно выбрать гипотезу 7 (целесообразно учитывать не только влияние пользователей, уверенность в гипотезе и затраты ресурсов на проверку гипотезы, но и охват пользователей, которых коснется изменение)"
      ]
    },
    {
      "cell_type": "markdown",
      "metadata": {
        "id": "csdncxb500hz"
      },
      "source": [
        "## Анализ A/B-теста"
      ]
    },
    {
      "cell_type": "markdown",
      "metadata": {
        "id": "iF544oXl00hz"
      },
      "source": [
        "### Предобработка данных"
      ]
    },
    {
      "cell_type": "code",
      "execution_count": null,
      "metadata": {
        "id": "QNLhi0lJ00h0"
      },
      "outputs": [],
      "source": [
        "orders=pd.read_csv('/datasets/orders.csv')\n",
        "visitors=pd.read_csv('/datasets/visitors.csv')"
      ]
    },
    {
      "cell_type": "code",
      "execution_count": null,
      "metadata": {
        "id": "VoUfklEC00h0",
        "outputId": "75e66abd-afef-4486-83d5-058ad851ed76"
      },
      "outputs": [
        {
          "data": {
            "text/html": [
              "<div>\n",
              "<style scoped>\n",
              "    .dataframe tbody tr th:only-of-type {\n",
              "        vertical-align: middle;\n",
              "    }\n",
              "\n",
              "    .dataframe tbody tr th {\n",
              "        vertical-align: top;\n",
              "    }\n",
              "\n",
              "    .dataframe thead th {\n",
              "        text-align: right;\n",
              "    }\n",
              "</style>\n",
              "<table border=\"1\" class=\"dataframe\">\n",
              "  <thead>\n",
              "    <tr style=\"text-align: right;\">\n",
              "      <th></th>\n",
              "      <th>transactionId</th>\n",
              "      <th>visitorId</th>\n",
              "      <th>date</th>\n",
              "      <th>revenue</th>\n",
              "      <th>group</th>\n",
              "    </tr>\n",
              "  </thead>\n",
              "  <tbody>\n",
              "    <tr>\n",
              "      <th>0</th>\n",
              "      <td>3667963787</td>\n",
              "      <td>3312258926</td>\n",
              "      <td>2019-08-15</td>\n",
              "      <td>1650</td>\n",
              "      <td>B</td>\n",
              "    </tr>\n",
              "    <tr>\n",
              "      <th>1</th>\n",
              "      <td>2804400009</td>\n",
              "      <td>3642806036</td>\n",
              "      <td>2019-08-15</td>\n",
              "      <td>730</td>\n",
              "      <td>B</td>\n",
              "    </tr>\n",
              "    <tr>\n",
              "      <th>2</th>\n",
              "      <td>2961555356</td>\n",
              "      <td>4069496402</td>\n",
              "      <td>2019-08-15</td>\n",
              "      <td>400</td>\n",
              "      <td>A</td>\n",
              "    </tr>\n",
              "    <tr>\n",
              "      <th>3</th>\n",
              "      <td>3797467345</td>\n",
              "      <td>1196621759</td>\n",
              "      <td>2019-08-15</td>\n",
              "      <td>9759</td>\n",
              "      <td>B</td>\n",
              "    </tr>\n",
              "    <tr>\n",
              "      <th>4</th>\n",
              "      <td>2282983706</td>\n",
              "      <td>2322279887</td>\n",
              "      <td>2019-08-15</td>\n",
              "      <td>2308</td>\n",
              "      <td>B</td>\n",
              "    </tr>\n",
              "    <tr>\n",
              "      <th>...</th>\n",
              "      <td>...</td>\n",
              "      <td>...</td>\n",
              "      <td>...</td>\n",
              "      <td>...</td>\n",
              "      <td>...</td>\n",
              "    </tr>\n",
              "    <tr>\n",
              "      <th>1192</th>\n",
              "      <td>2662137336</td>\n",
              "      <td>3733762160</td>\n",
              "      <td>2019-08-14</td>\n",
              "      <td>6490</td>\n",
              "      <td>B</td>\n",
              "    </tr>\n",
              "    <tr>\n",
              "      <th>1193</th>\n",
              "      <td>2203539145</td>\n",
              "      <td>370388673</td>\n",
              "      <td>2019-08-14</td>\n",
              "      <td>3190</td>\n",
              "      <td>A</td>\n",
              "    </tr>\n",
              "    <tr>\n",
              "      <th>1194</th>\n",
              "      <td>1807773912</td>\n",
              "      <td>573423106</td>\n",
              "      <td>2019-08-14</td>\n",
              "      <td>10550</td>\n",
              "      <td>A</td>\n",
              "    </tr>\n",
              "    <tr>\n",
              "      <th>1195</th>\n",
              "      <td>1947021204</td>\n",
              "      <td>1614305549</td>\n",
              "      <td>2019-08-14</td>\n",
              "      <td>100</td>\n",
              "      <td>A</td>\n",
              "    </tr>\n",
              "    <tr>\n",
              "      <th>1196</th>\n",
              "      <td>3936777065</td>\n",
              "      <td>2108080724</td>\n",
              "      <td>2019-08-15</td>\n",
              "      <td>202740</td>\n",
              "      <td>B</td>\n",
              "    </tr>\n",
              "  </tbody>\n",
              "</table>\n",
              "<p>1197 rows × 5 columns</p>\n",
              "</div>"
            ],
            "text/plain": [
              "      transactionId   visitorId        date  revenue group\n",
              "0        3667963787  3312258926  2019-08-15     1650     B\n",
              "1        2804400009  3642806036  2019-08-15      730     B\n",
              "2        2961555356  4069496402  2019-08-15      400     A\n",
              "3        3797467345  1196621759  2019-08-15     9759     B\n",
              "4        2282983706  2322279887  2019-08-15     2308     B\n",
              "...             ...         ...         ...      ...   ...\n",
              "1192     2662137336  3733762160  2019-08-14     6490     B\n",
              "1193     2203539145   370388673  2019-08-14     3190     A\n",
              "1194     1807773912   573423106  2019-08-14    10550     A\n",
              "1195     1947021204  1614305549  2019-08-14      100     A\n",
              "1196     3936777065  2108080724  2019-08-15   202740     B\n",
              "\n",
              "[1197 rows x 5 columns]"
            ]
          },
          "execution_count": 14,
          "metadata": {},
          "output_type": "execute_result"
        }
      ],
      "source": [
        "orders"
      ]
    },
    {
      "cell_type": "code",
      "execution_count": null,
      "metadata": {
        "id": "x1Ikswah00h0",
        "outputId": "451fe20c-d799-4eb4-ba4c-bfeb738a2fd9"
      },
      "outputs": [
        {
          "name": "stdout",
          "output_type": "stream",
          "text": [
            "<class 'pandas.core.frame.DataFrame'>\n",
            "RangeIndex: 1197 entries, 0 to 1196\n",
            "Data columns (total 5 columns):\n",
            " #   Column         Non-Null Count  Dtype \n",
            "---  ------         --------------  ----- \n",
            " 0   transactionId  1197 non-null   int64 \n",
            " 1   visitorId      1197 non-null   int64 \n",
            " 2   date           1197 non-null   object\n",
            " 3   revenue        1197 non-null   int64 \n",
            " 4   group          1197 non-null   object\n",
            "dtypes: int64(3), object(2)\n",
            "memory usage: 46.9+ KB\n"
          ]
        }
      ],
      "source": [
        "orders.info()"
      ]
    },
    {
      "cell_type": "code",
      "execution_count": null,
      "metadata": {
        "id": "9rgOvo-500h0"
      },
      "outputs": [],
      "source": [
        "orders.columns=orders.columns.str.lower()\n",
        "orders.rename(columns = {'transactionid':'transaction_id', 'visitorid':'visitor_id'}, inplace = True )"
      ]
    },
    {
      "cell_type": "code",
      "execution_count": null,
      "metadata": {
        "id": "TI5EdXj400h1",
        "outputId": "29b9b20a-66b8-4539-a6dd-5ee61d37c6e7"
      },
      "outputs": [
        {
          "data": {
            "text/plain": [
              "0"
            ]
          },
          "execution_count": 17,
          "metadata": {},
          "output_type": "execute_result"
        }
      ],
      "source": [
        "orders.duplicated().sum()"
      ]
    },
    {
      "cell_type": "code",
      "execution_count": null,
      "metadata": {
        "id": "OEjMVQe400h1",
        "outputId": "c1ac3f25-c905-4131-c141-9e2392ef2b55"
      },
      "outputs": [
        {
          "data": {
            "text/plain": [
              "0"
            ]
          },
          "execution_count": 18,
          "metadata": {},
          "output_type": "execute_result"
        }
      ],
      "source": [
        "orders.isnull().sum().sum()"
      ]
    },
    {
      "cell_type": "code",
      "execution_count": null,
      "metadata": {
        "id": "lw6Wgm7A00h1"
      },
      "outputs": [],
      "source": [
        "orders[\"date\"]=pd.to_datetime(orders[\"date\"])"
      ]
    },
    {
      "cell_type": "code",
      "execution_count": null,
      "metadata": {
        "id": "15xhCU-u00h1",
        "outputId": "56905895-e859-46f1-f124-2217dbae39fc"
      },
      "outputs": [
        {
          "name": "stdout",
          "output_type": "stream",
          "text": [
            "<class 'pandas.core.frame.DataFrame'>\n",
            "RangeIndex: 1197 entries, 0 to 1196\n",
            "Data columns (total 5 columns):\n",
            " #   Column          Non-Null Count  Dtype         \n",
            "---  ------          --------------  -----         \n",
            " 0   transaction_id  1197 non-null   int64         \n",
            " 1   visitor_id      1197 non-null   int64         \n",
            " 2   date            1197 non-null   datetime64[ns]\n",
            " 3   revenue         1197 non-null   int64         \n",
            " 4   group           1197 non-null   object        \n",
            "dtypes: datetime64[ns](1), int64(3), object(1)\n",
            "memory usage: 46.9+ KB\n"
          ]
        }
      ],
      "source": [
        "orders.info()"
      ]
    },
    {
      "cell_type": "markdown",
      "metadata": {
        "id": "MWKhaHmk00iB"
      },
      "source": [
        "В orders нет явный дубликатов и пропусков, кроме того мы провели замену типов данных даты на тип datetime"
      ]
    },
    {
      "cell_type": "code",
      "execution_count": null,
      "metadata": {
        "id": "nvU9qsZq00iC",
        "outputId": "29ba7cf5-779c-49ae-f0ba-e9249431aebe"
      },
      "outputs": [
        {
          "data": {
            "text/html": [
              "<div>\n",
              "<style scoped>\n",
              "    .dataframe tbody tr th:only-of-type {\n",
              "        vertical-align: middle;\n",
              "    }\n",
              "\n",
              "    .dataframe tbody tr th {\n",
              "        vertical-align: top;\n",
              "    }\n",
              "\n",
              "    .dataframe thead th {\n",
              "        text-align: right;\n",
              "    }\n",
              "</style>\n",
              "<table border=\"1\" class=\"dataframe\">\n",
              "  <thead>\n",
              "    <tr style=\"text-align: right;\">\n",
              "      <th></th>\n",
              "      <th>date</th>\n",
              "      <th>group</th>\n",
              "      <th>visitors</th>\n",
              "    </tr>\n",
              "  </thead>\n",
              "  <tbody>\n",
              "    <tr>\n",
              "      <th>0</th>\n",
              "      <td>2019-08-01</td>\n",
              "      <td>A</td>\n",
              "      <td>719</td>\n",
              "    </tr>\n",
              "    <tr>\n",
              "      <th>1</th>\n",
              "      <td>2019-08-02</td>\n",
              "      <td>A</td>\n",
              "      <td>619</td>\n",
              "    </tr>\n",
              "    <tr>\n",
              "      <th>2</th>\n",
              "      <td>2019-08-03</td>\n",
              "      <td>A</td>\n",
              "      <td>507</td>\n",
              "    </tr>\n",
              "    <tr>\n",
              "      <th>3</th>\n",
              "      <td>2019-08-04</td>\n",
              "      <td>A</td>\n",
              "      <td>717</td>\n",
              "    </tr>\n",
              "    <tr>\n",
              "      <th>4</th>\n",
              "      <td>2019-08-05</td>\n",
              "      <td>A</td>\n",
              "      <td>756</td>\n",
              "    </tr>\n",
              "    <tr>\n",
              "      <th>...</th>\n",
              "      <td>...</td>\n",
              "      <td>...</td>\n",
              "      <td>...</td>\n",
              "    </tr>\n",
              "    <tr>\n",
              "      <th>57</th>\n",
              "      <td>2019-08-27</td>\n",
              "      <td>B</td>\n",
              "      <td>720</td>\n",
              "    </tr>\n",
              "    <tr>\n",
              "      <th>58</th>\n",
              "      <td>2019-08-28</td>\n",
              "      <td>B</td>\n",
              "      <td>654</td>\n",
              "    </tr>\n",
              "    <tr>\n",
              "      <th>59</th>\n",
              "      <td>2019-08-29</td>\n",
              "      <td>B</td>\n",
              "      <td>531</td>\n",
              "    </tr>\n",
              "    <tr>\n",
              "      <th>60</th>\n",
              "      <td>2019-08-30</td>\n",
              "      <td>B</td>\n",
              "      <td>490</td>\n",
              "    </tr>\n",
              "    <tr>\n",
              "      <th>61</th>\n",
              "      <td>2019-08-31</td>\n",
              "      <td>B</td>\n",
              "      <td>718</td>\n",
              "    </tr>\n",
              "  </tbody>\n",
              "</table>\n",
              "<p>62 rows × 3 columns</p>\n",
              "</div>"
            ],
            "text/plain": [
              "          date group  visitors\n",
              "0   2019-08-01     A       719\n",
              "1   2019-08-02     A       619\n",
              "2   2019-08-03     A       507\n",
              "3   2019-08-04     A       717\n",
              "4   2019-08-05     A       756\n",
              "..         ...   ...       ...\n",
              "57  2019-08-27     B       720\n",
              "58  2019-08-28     B       654\n",
              "59  2019-08-29     B       531\n",
              "60  2019-08-30     B       490\n",
              "61  2019-08-31     B       718\n",
              "\n",
              "[62 rows x 3 columns]"
            ]
          },
          "execution_count": 21,
          "metadata": {},
          "output_type": "execute_result"
        }
      ],
      "source": [
        "visitors"
      ]
    },
    {
      "cell_type": "code",
      "execution_count": null,
      "metadata": {
        "id": "2SlJRyWO00iC",
        "outputId": "2f0a1e66-806a-48d8-d585-60d73d440568"
      },
      "outputs": [
        {
          "name": "stdout",
          "output_type": "stream",
          "text": [
            "<class 'pandas.core.frame.DataFrame'>\n",
            "RangeIndex: 62 entries, 0 to 61\n",
            "Data columns (total 3 columns):\n",
            " #   Column    Non-Null Count  Dtype \n",
            "---  ------    --------------  ----- \n",
            " 0   date      62 non-null     object\n",
            " 1   group     62 non-null     object\n",
            " 2   visitors  62 non-null     int64 \n",
            "dtypes: int64(1), object(2)\n",
            "memory usage: 1.6+ KB\n"
          ]
        }
      ],
      "source": [
        "visitors.info()"
      ]
    },
    {
      "cell_type": "code",
      "execution_count": null,
      "metadata": {
        "id": "YxUdD8vp00iC",
        "outputId": "b9052a1d-fec1-4927-977b-7a7c6bdb7301"
      },
      "outputs": [
        {
          "data": {
            "text/plain": [
              "0"
            ]
          },
          "execution_count": 23,
          "metadata": {},
          "output_type": "execute_result"
        }
      ],
      "source": [
        "visitors.duplicated().sum()"
      ]
    },
    {
      "cell_type": "code",
      "execution_count": null,
      "metadata": {
        "id": "PCXebKQw00iD",
        "outputId": "78d8ec9a-3c18-423b-fe9d-14fa83222f58"
      },
      "outputs": [
        {
          "data": {
            "text/plain": [
              "0"
            ]
          },
          "execution_count": 24,
          "metadata": {},
          "output_type": "execute_result"
        }
      ],
      "source": [
        "visitors.isnull().sum().sum()"
      ]
    },
    {
      "cell_type": "code",
      "execution_count": null,
      "metadata": {
        "id": "CHttKQKd00iD"
      },
      "outputs": [],
      "source": [
        "visitors[\"date\"]=pd.to_datetime(visitors[\"date\"])"
      ]
    },
    {
      "cell_type": "code",
      "execution_count": null,
      "metadata": {
        "id": "Er1h4ofW00iD",
        "outputId": "0d02db7f-ea22-4b3d-bfc8-62189deefa63"
      },
      "outputs": [
        {
          "name": "stdout",
          "output_type": "stream",
          "text": [
            "<class 'pandas.core.frame.DataFrame'>\n",
            "RangeIndex: 62 entries, 0 to 61\n",
            "Data columns (total 3 columns):\n",
            " #   Column    Non-Null Count  Dtype         \n",
            "---  ------    --------------  -----         \n",
            " 0   date      62 non-null     datetime64[ns]\n",
            " 1   group     62 non-null     object        \n",
            " 2   visitors  62 non-null     int64         \n",
            "dtypes: datetime64[ns](1), int64(1), object(1)\n",
            "memory usage: 1.6+ KB\n"
          ]
        }
      ],
      "source": [
        "visitors.info()"
      ]
    },
    {
      "cell_type": "markdown",
      "metadata": {
        "id": "luK8i2Qo00iE"
      },
      "source": [
        "В visitors нет явный дубликатов и пропусков, кроме того мы провели замену типов данных даты на тип datetime"
      ]
    },
    {
      "cell_type": "markdown",
      "metadata": {
        "id": "5yX4Y4oi00iE"
      },
      "source": [
        "### Анализ результатов теста"
      ]
    },
    {
      "cell_type": "code",
      "execution_count": null,
      "metadata": {
        "id": "ro-ItqEU00iF",
        "outputId": "6884ef97-614a-4588-ee39-b3eab09763bd"
      },
      "outputs": [
        {
          "name": "stdout",
          "output_type": "stream",
          "text": [
            "        date group  orders  buyers  revenue  visitors\n",
            "0 2019-08-01     A      24      20   148579       719\n",
            "1 2019-08-01     B      21      20   101217       713\n",
            "2 2019-08-02     A      44      38   242401      1338\n",
            "3 2019-08-02     B      45      43   266748      1294\n",
            "4 2019-08-03     A      68      62   354874      1845\n"
          ]
        }
      ],
      "source": [
        "# график кумулятивной выручки по группам\n",
        "datesGroups = orders[['date','group']].drop_duplicates()\n",
        "\n",
        "ordersAggregated = datesGroups.apply(lambda x: orders[np.logical_and(orders['date'] <= x['date'], orders['group'] == x['group'])].agg({'date' : 'max', 'group' : 'max', 'transaction_id' : 'nunique', 'visitor_id' : 'nunique', 'revenue' : 'sum'}), axis=1).sort_values(by=['date','group'])\n",
        "\n",
        "visitorsAggregated = datesGroups.apply(lambda x: visitors[np.logical_and(visitors['date'] <= x['date'], visitors['group'] == x['group'])].agg({'date' : 'max', 'group' : 'max', 'visitors' : 'sum'}), axis=1).sort_values(by=['date','group'])\n",
        "\n",
        "cumulativeData = ordersAggregated.merge(visitorsAggregated, left_on=['date', 'group'], right_on=['date', 'group'])\n",
        "cumulativeData.columns = ['date', 'group', 'orders', 'buyers', 'revenue', 'visitors']\n",
        "\n",
        "print(cumulativeData.head(5))"
      ]
    },
    {
      "cell_type": "code",
      "execution_count": null,
      "metadata": {
        "id": "-t-gWzqH00iF",
        "outputId": "470a2b2f-56e7-4e54-d2e0-fa5d7d74f555"
      },
      "outputs": [
        {
          "data": {
            "text/plain": [
              "<matplotlib.legend.Legend at 0x7f53d2df6460>"
            ]
          },
          "execution_count": 28,
          "metadata": {},
          "output_type": "execute_result"
        },
        {
          "data": {
            "image/png": "[encoded data removed]",
            "text/plain": [
              "<Figure size 2160x720 with 1 Axes>"
            ]
          },
          "metadata": {
            "needs_background": "light"
          },
          "output_type": "display_data"
        }
      ],
      "source": [
        "cumulativeRevenueA = cumulativeData[cumulativeData['group']=='A'][['date','revenue', 'orders']]\n",
        "\n",
        "cumulativeRevenueB = cumulativeData[cumulativeData['group']=='B'][['date','revenue', 'orders']]\n",
        "\n",
        "plt.figure(figsize=(30,10))\n",
        "plt.plot(cumulativeRevenueA['date'], cumulativeRevenueA['revenue'], label='A')\n",
        "\n",
        "plt.plot(cumulativeRevenueB['date'], cumulativeRevenueB['revenue'], label='B')\n",
        "\n",
        "plt.title('Кумулятивная выручка по дням в группах А и В', fontsize=12)\n",
        "plt.xlabel('Дата', fontsize=15)\n",
        "plt.ylabel('Кумулятивная выручка', fontsize=15)\n",
        "\n",
        "plt.legend()"
      ]
    },
    {
      "cell_type": "markdown",
      "metadata": {
        "id": "8c3U0LDD00iF"
      },
      "source": [
        "Выручка почти равномерно увеличивается в течение всего теста. Однако графики выручки обеих групп в нескольких точках резко растут, а также кривая выручки группы B стабильно выше, чем аналогичный показатель группы А. Это может сигнализировать о всплесках числа заказов."
      ]
    },
    {
      "cell_type": "code",
      "execution_count": null,
      "metadata": {
        "id": "8LRFopiu00iG",
        "outputId": "9e668d0a-91ae-4bad-d7eb-42d35b75d29c"
      },
      "outputs": [
        {
          "data": {
            "text/plain": [
              "<matplotlib.legend.Legend at 0x7f53c9c29040>"
            ]
          },
          "execution_count": 29,
          "metadata": {},
          "output_type": "execute_result"
        },
        {
          "data": {
            "image/png": "[encoded data removed]",
            "text/plain": [
              "<Figure size 2160x720 with 1 Axes>"
            ]
          },
          "metadata": {
            "needs_background": "light"
          },
          "output_type": "display_data"
        }
      ],
      "source": [
        "# график кумулятивного среднего чека по группам\n",
        "plt.figure(figsize=(30,10))\n",
        "plt.plot(cumulativeRevenueA['date'], cumulativeRevenueA['revenue']/cumulativeRevenueA['orders'], label='A')\n",
        "plt.plot(cumulativeRevenueB['date'], cumulativeRevenueB['revenue']/cumulativeRevenueB['orders'], label='B')\n",
        "plt.title('Кумулятивный средний чек по дням в группах А и В', fontsize=12)\n",
        "plt.xlabel('Дата', fontsize=15)\n",
        "plt.ylabel('Кумулятивный средний чек', fontsize=15)\n",
        "plt.legend()"
      ]
    },
    {
      "cell_type": "markdown",
      "metadata": {
        "id": "L7J6bEEx00iG"
      },
      "source": [
        "Изменение среднего чека для групп не так однозначно:кривые то падают, то резко растут. Так например для группы B виден резкий скачок, что говорит о крупной покупке."
      ]
    },
    {
      "cell_type": "code",
      "execution_count": null,
      "metadata": {
        "id": "0o1T11g200iH",
        "outputId": "72f2b36e-e49a-46d5-a060-4024a75e534f"
      },
      "outputs": [
        {
          "data": {
            "text/plain": [
              "<matplotlib.lines.Line2D at 0x7f53caa12460>"
            ]
          },
          "execution_count": 30,
          "metadata": {},
          "output_type": "execute_result"
        },
        {
          "data": {
            "image/png": "[encoded data removed]",
            "text/plain": [
              "<Figure size 2160x720 with 1 Axes>"
            ]
          },
          "metadata": {
            "needs_background": "light"
          },
          "output_type": "display_data"
        }
      ],
      "source": [
        "# график относительного изменения кумулятивного среднего чека группы B к группе A\n",
        "plt.figure(figsize=(30,10))\n",
        "mergedCumulativeRevenue = cumulativeRevenueA.merge(cumulativeRevenueB, left_on='date', right_on='date', how='left', suffixes=['A', 'B'])\n",
        "\n",
        "plt.plot(mergedCumulativeRevenue['date'], (mergedCumulativeRevenue['revenueB']/mergedCumulativeRevenue['ordersB'])/(mergedCumulativeRevenue['revenueA']/mergedCumulativeRevenue['ordersA'])-1)\n",
        "\n",
        "plt.title('Относительное изменение кумулятивного среднего чека группы B к группе A', fontsize=12, fontweight='bold')\n",
        "plt.xlabel('Дата', fontsize=12)\n",
        "plt.ylabel('(ср.чек В/ср.чек А) -1', fontsize=12)\n",
        "plt.axhline(y=0, color='black', linestyle='--')"
      ]
    },
    {
      "cell_type": "markdown",
      "metadata": {
        "id": "PdTiTOb300iI"
      },
      "source": [
        "По графику видно, что в нескольких точках графика различия между сегментами резко изменяется, что может говорить о наличии выбросов. Кроме того, есть два пика, когда средний чек группы B значительно превосходил этот показатель группы А."
      ]
    },
    {
      "cell_type": "code",
      "execution_count": null,
      "metadata": {
        "id": "rf634qtc00iJ",
        "outputId": "2e4c0c11-2a6b-4871-e7ca-9a2c109fd25e"
      },
      "outputs": [
        {
          "data": {
            "text/plain": [
              "<matplotlib.legend.Legend at 0x7f53ca992af0>"
            ]
          },
          "execution_count": 31,
          "metadata": {},
          "output_type": "execute_result"
        },
        {
          "data": {
            "image/png": "[encoded data removed]",
            "text/plain": [
              "<Figure size 2160x720 with 1 Axes>"
            ]
          },
          "metadata": {
            "needs_background": "light"
          },
          "output_type": "display_data"
        }
      ],
      "source": [
        "# график кумулятивного среднего количества заказов на посетителя по группам\n",
        "cumulativeData['conversion'] = cumulativeData['orders']/cumulativeData['visitors']\n",
        "\n",
        "cumulativeDataA = cumulativeData[cumulativeData['group']=='A']\n",
        "\n",
        "cumulativeDataB = cumulativeData[cumulativeData['group']=='B']\n",
        "\n",
        "plt.figure(figsize=(30,10))\n",
        "plt.plot(cumulativeDataA['date'], cumulativeDataA['conversion'], label='A')\n",
        "plt.plot(cumulativeDataB['date'], cumulativeDataB['conversion'], label='B')\n",
        "plt.title('Кумулятивная конверсия по группам', fontsize=12)\n",
        "plt.xlabel('Дата', fontsize=15)\n",
        "plt.ylabel('Конверсия', fontsize=15)\n",
        "plt.legend()"
      ]
    },
    {
      "cell_type": "markdown",
      "metadata": {
        "id": "GYjuH9KW00iK"
      },
      "source": [
        "Комулятивная конверсия группы B почти на всем промежутке выше коммулятивной конверсии группы А, отметим что конверсии колебались и имели неоднозначный характер изменения( то увеличивались, то уменьшались)."
      ]
    },
    {
      "cell_type": "code",
      "execution_count": null,
      "metadata": {
        "id": "mvn0nW1P00iK",
        "outputId": "067ecf59-9164-45d1-b70f-07950ff3ae6c"
      },
      "outputs": [
        {
          "data": {
            "text/plain": [
              "Text(0, 0.5, '(конверсия В/конверсия А) -1')"
            ]
          },
          "execution_count": 32,
          "metadata": {},
          "output_type": "execute_result"
        },
        {
          "data": {
            "image/png": "[encoded data removed]",
            "text/plain": [
              "<Figure size 2160x720 with 1 Axes>"
            ]
          },
          "metadata": {
            "needs_background": "light"
          },
          "output_type": "display_data"
        }
      ],
      "source": [
        "# график относительного изменения кумулятивного среднего количества заказов на посетителя группы B к группе A\n",
        "mergedCumulativeConversions = cumulativeDataA[['date','conversion']].merge(cumulativeDataB[['date','conversion']], left_on='date', right_on='date', how='left', suffixes=['A', 'B'])\n",
        "\n",
        "plt.figure(figsize=(30,10))\n",
        "plt.plot(mergedCumulativeConversions['date'], mergedCumulativeConversions['conversionB']/mergedCumulativeConversions['conversionA']-1, label=\"Относительный прирост конверсии группы B относительно группы A\")\n",
        "plt.legend()\n",
        "\n",
        "plt.axhline(y=0, color='black', linestyle='--')\n",
        "plt.axhline(y=-0.1, color='grey', linestyle='--')\n",
        "plt.title('Относительное изменение кумулятивной конверсии В к А', fontsize=12, fontweight='bold')\n",
        "plt.xlabel('Дата', fontsize=12)\n",
        "plt.ylabel('(конверсия В/конверсия А) -1', fontsize=12)"
      ]
    },
    {
      "cell_type": "markdown",
      "metadata": {
        "id": "ZkodH-N-00iK"
      },
      "source": [
        "Сначала конверсия группы В была ниже группы А, но потом конверсия группы В опередила конверсию А(эта тенденция продолжалась до конца теста).Кроме того, на графике наблюдаются скачки, что говорит о наличии выбросов."
      ]
    },
    {
      "cell_type": "code",
      "execution_count": null,
      "metadata": {
        "id": "7-2FJbC600iL"
      },
      "outputs": [],
      "source": [
        "# точечный график количества заказов по пользователям\n",
        "ordersByUsers = (orders.groupby('visitor_id', as_index=False).agg({'transaction_id': 'nunique'}))\n",
        "\n",
        "ordersByUsers.columns = ['visitor_id', 'orders']"
      ]
    },
    {
      "cell_type": "code",
      "execution_count": null,
      "metadata": {
        "id": "_448aoBE00iL",
        "outputId": "63fbc440-03e7-49ee-a195-c024965346ac"
      },
      "outputs": [
        {
          "name": "stdout",
          "output_type": "stream",
          "text": [
            "      visitor_id  orders\n",
            "1023  4256040402      11\n",
            "591   2458001652      11\n",
            "569   2378935119       9\n",
            "487   2038680547       8\n",
            "44     199603092       5\n",
            "744   3062433592       5\n",
            "55     237748145       5\n",
            "917   3803269165       5\n",
            "299   1230306981       5\n",
            "897   3717692402       5\n"
          ]
        }
      ],
      "source": [
        "print(ordersByUsers.sort_values(by='orders', ascending=False).head(10))"
      ]
    },
    {
      "cell_type": "markdown",
      "metadata": {
        "id": "qN17pZBf00iL"
      },
      "source": [
        "Есть пользователи, которые совершали более 10 заказов."
      ]
    },
    {
      "cell_type": "code",
      "execution_count": null,
      "metadata": {
        "id": "dvgWg2MP00iL",
        "outputId": "cd863a13-a969-48c9-a97e-a5f9e10edfb6"
      },
      "outputs": [
        {
          "data": {
            "text/plain": [
              "Text(0, 0.5, 'Количество пользователей')"
            ]
          },
          "execution_count": 35,
          "metadata": {},
          "output_type": "execute_result"
        },
        {
          "data": {
            "image/png": "[encoded data removed]",
            "text/plain": [
              "<Figure size 432x288 with 1 Axes>"
            ]
          },
          "metadata": {
            "needs_background": "light"
          },
          "output_type": "display_data"
        }
      ],
      "source": [
        "plt.hist(ordersByUsers['orders'])\n",
        "plt.title('Количество заказов по пользователям', fontsize=12, fontweight='bold')\n",
        "plt.xlabel('Заказы', fontsize=12)\n",
        "plt.ylabel('Количество пользователей', fontsize=12)"
      ]
    },
    {
      "cell_type": "markdown",
      "metadata": {
        "id": "fD6KqGM300iM"
      },
      "source": [
        "Большинство покупателей заказывали только один раз. Имеется некая доля сделавших заказ от 2 до 4 раз."
      ]
    },
    {
      "cell_type": "code",
      "execution_count": null,
      "metadata": {
        "id": "1yMlHnPW00iM",
        "outputId": "9a450d51-61fc-44d8-e12f-50229d5bdff7"
      },
      "outputs": [
        {
          "data": {
            "text/plain": [
              "<matplotlib.collections.PathCollection at 0x7f53ca886670>"
            ]
          },
          "execution_count": 36,
          "metadata": {},
          "output_type": "execute_result"
        },
        {
          "data": {
            "image/png": "[encoded data removed]",
            "text/plain": [
              "<Figure size 2160x720 with 1 Axes>"
            ]
          },
          "metadata": {
            "needs_background": "light"
          },
          "output_type": "display_data"
        }
      ],
      "source": [
        "x_values = pd.Series(range(0,len(ordersByUsers)))\n",
        "\n",
        "plt.figure(figsize=(30,10))\n",
        "plt.title('Количество заказов по пользователям', fontsize=12, fontweight='bold')\n",
        "plt.scatter(x_values, ordersByUsers['orders'])"
      ]
    },
    {
      "cell_type": "markdown",
      "metadata": {
        "id": "tlLhcmir00iM"
      },
      "source": [
        "Большая часть заказов составляет от 1 до 2 заказов на пользователя. Можно предположить, что остальные значения являются выбросами."
      ]
    },
    {
      "cell_type": "code",
      "execution_count": null,
      "metadata": {
        "id": "q1K9SXDa00iM",
        "outputId": "d9dd13f4-a6fd-4b29-99a9-8aadc0a35762"
      },
      "outputs": [
        {
          "name": "stdout",
          "output_type": "stream",
          "text": [
            "[2. 4.]\n"
          ]
        }
      ],
      "source": [
        "# 95-й и 99-й перцентили количества заказов на пользователя\n",
        "print(np.percentile(ordersByUsers['orders'], [95, 99]))"
      ]
    },
    {
      "cell_type": "markdown",
      "metadata": {
        "id": "mVoGQong00iN"
      },
      "source": [
        "Не более 5% пользователей оформляли больше чем 2 заказа, и не более 1% пользователей оформляли больше 4 заказов. Целесообразно отсеить пользователей, которые совершили 3 и более заказов, что уберет до 3% пользователей с большим количеством заказов."
      ]
    },
    {
      "cell_type": "code",
      "execution_count": null,
      "metadata": {
        "id": "-LJ5M2FJ00iN",
        "outputId": "3f8756fa-35b9-4719-a30f-0298dc91c303"
      },
      "outputs": [
        {
          "data": {
            "text/plain": [
              "<matplotlib.collections.PathCollection at 0x7f53ca7e9b20>"
            ]
          },
          "execution_count": 38,
          "metadata": {},
          "output_type": "execute_result"
        },
        {
          "data": {
            "image/png": "[encoded data removed]",
            "text/plain": [
              "<Figure size 2160x720 with 1 Axes>"
            ]
          },
          "metadata": {
            "needs_background": "light"
          },
          "output_type": "display_data"
        }
      ],
      "source": [
        "# точечный график стоимостей заказов\n",
        "x_values = pd.Series(range(0,len(orders['revenue'])))\n",
        "\n",
        "plt.figure(figsize=(30,10))\n",
        "plt.title('Стоимость заказов', fontsize=12, fontweight='bold')\n",
        "plt.scatter(x_values, orders['revenue'])"
      ]
    },
    {
      "cell_type": "code",
      "execution_count": null,
      "metadata": {
        "id": "vvaQxGXC00iN",
        "outputId": "f4b7b5d5-366d-4943-f98b-4f7b97c67468"
      },
      "outputs": [
        {
          "data": {
            "text/plain": [
              "<matplotlib.collections.PathCollection at 0x7f53ca954b20>"
            ]
          },
          "execution_count": 39,
          "metadata": {},
          "output_type": "execute_result"
        },
        {
          "data": {
            "image/png": "[encoded data removed]",
            "text/plain": [
              "<Figure size 2160x720 with 1 Axes>"
            ]
          },
          "metadata": {
            "needs_background": "light"
          },
          "output_type": "display_data"
        }
      ],
      "source": [
        "# подробнее рассмотрим заказы до 200000\n",
        "x_values = pd.Series(range(0,len(orders[orders['revenue']<=200000]['revenue'])))\n",
        "\n",
        "plt.figure(figsize=(30,10))\n",
        "plt.title('Стоимость заказов', fontsize=12, fontweight='bold')\n",
        "plt.scatter(x_values, orders[orders['revenue']<=200000]['revenue'])"
      ]
    },
    {
      "cell_type": "markdown",
      "metadata": {
        "id": "-fJyh3Al00iO"
      },
      "source": [
        "На графиках мы явно видим заказы, которые выбиваются из общего числа."
      ]
    },
    {
      "cell_type": "code",
      "execution_count": null,
      "metadata": {
        "id": "UgeZx8_p00iO",
        "outputId": "41d204b1-5f80-42f9-a8dc-9a0b86cb1e58"
      },
      "outputs": [
        {
          "name": "stdout",
          "output_type": "stream",
          "text": [
            "[28000.  58233.2]\n"
          ]
        }
      ],
      "source": [
        "# 95-й и 99-й перцентили стоимости заказов\n",
        "print(np.percentile(orders['revenue'], [95, 99]))"
      ]
    },
    {
      "cell_type": "markdown",
      "metadata": {
        "id": "8SeJbhsU00iP"
      },
      "source": [
        "Не более 5% пользователей оформляли больше чем на 28000 руб, и не более 1% пользователей оформляли больше чем на 58233 руб. Уберем заказы на более 28000 рублей."
      ]
    },
    {
      "cell_type": "markdown",
      "metadata": {
        "id": "dVgCbbdw00iP"
      },
      "source": [
        "Сформулируем гипотезы:\n",
        "- H0: различий в среднем количестве заказов между группами нет.\n",
        "- H1: различия в среднем между группами есть."
      ]
    },
    {
      "cell_type": "code",
      "execution_count": null,
      "metadata": {
        "id": "DOQXUHoh00iQ",
        "outputId": "4a715e86-a906-4435-cda8-2376b9fed3e9"
      },
      "outputs": [
        {
          "name": "stdout",
          "output_type": "stream",
          "text": [
            "        date  ordersPerDateA  revenuePerDateA  ordersPerDateB  \\\n",
            "0 2019-08-01              24           148579              21   \n",
            "1 2019-08-02              20            93822              24   \n",
            "2 2019-08-03              24           112473              16   \n",
            "3 2019-08-04              16            70825              17   \n",
            "4 2019-08-05              25           124218              23   \n",
            "\n",
            "   revenuePerDateB  ordersCummulativeA  revenueCummulativeA  \\\n",
            "0           101217                  24               148579   \n",
            "1           165531                  44               242401   \n",
            "2           114248                  68               354874   \n",
            "3           108571                  84               425699   \n",
            "4            92428                 109               549917   \n",
            "\n",
            "   ordersCummulativeB  revenueCummulativeB  visitorsPerDateA  \\\n",
            "0                  21               101217               719   \n",
            "1                  45               266748               619   \n",
            "2                  61               380996               507   \n",
            "3                  78               489567               717   \n",
            "4                 101               581995               756   \n",
            "\n",
            "   visitorsPerDateB  visitorsCummulativeA  visitorsCummulativeB  \n",
            "0               713                   719                   713  \n",
            "1               581                  1338                  1294  \n",
            "2               509                  1845                  1803  \n",
            "3               770                  2562                  2573  \n",
            "4               707                  3318                  3280  \n"
          ]
        }
      ],
      "source": [
        "visitorsADaily = visitors[visitors['group'] == 'A'][['date', 'visitors']]\n",
        "visitorsADaily.columns = ['date', 'visitorsPerDateA']\n",
        "\n",
        "visitorsACummulative = visitorsADaily.apply(\n",
        "    lambda x: visitorsADaily[visitorsADaily['date'] <= x['date']].agg(\n",
        "        {'date': 'max', 'visitorsPerDateA': 'sum'}\n",
        "    ),\n",
        "    axis=1,\n",
        ")\n",
        "visitorsACummulative.columns = ['date', 'visitorsCummulativeA']\n",
        "\n",
        "visitorsBDaily = visitors[visitors['group'] == 'B'][['date', 'visitors']]\n",
        "visitorsBDaily.columns = ['date', 'visitorsPerDateB']\n",
        "\n",
        "visitorsBCummulative = visitorsBDaily.apply(\n",
        "    lambda x: visitorsBDaily[visitorsBDaily['date'] <= x['date']].agg(\n",
        "        {'date': 'max', 'visitorsPerDateB': 'sum'}\n",
        "    ),\n",
        "    axis=1,\n",
        ")\n",
        "visitorsBCummulative.columns = ['date', 'visitorsCummulativeB']\n",
        "\n",
        "ordersADaily = (\n",
        "    orders[orders['group'] == 'A'][['date', 'transaction_id', 'visitor_id', 'revenue']]\n",
        "    .groupby('date', as_index=False)\n",
        "    .agg({'transaction_id': pd.Series.nunique, 'revenue': 'sum'})\n",
        ")\n",
        "ordersADaily.columns = ['date', 'ordersPerDateA', 'revenuePerDateA']\n",
        "\n",
        "ordersACummulative = ordersADaily.apply(\n",
        "    lambda x: ordersADaily[ordersADaily['date'] <= x['date']].agg(\n",
        "        {'date': 'max', 'ordersPerDateA': 'sum', 'revenuePerDateA': 'sum'}\n",
        "    ),\n",
        "    axis=1,\n",
        ").sort_values(by=['date'])\n",
        "ordersACummulative.columns = [\n",
        "    'date',\n",
        "    'ordersCummulativeA',\n",
        "    'revenueCummulativeA',\n",
        "]\n",
        "\n",
        "ordersBDaily = (\n",
        "    orders[orders['group'] == 'B'][['date', 'transaction_id', 'visitor_id', 'revenue']]\n",
        "    .groupby('date', as_index=False)\n",
        "    .agg({'transaction_id': pd.Series.nunique, 'revenue': 'sum'})\n",
        ")\n",
        "ordersBDaily.columns = ['date', 'ordersPerDateB', 'revenuePerDateB']\n",
        "\n",
        "ordersBCummulative = ordersBDaily.apply(\n",
        "    lambda x: ordersBDaily[ordersBDaily['date'] <= x['date']].agg(\n",
        "        {'date': 'max', 'ordersPerDateB': 'sum', 'revenuePerDateB': 'sum'}\n",
        "    ),\n",
        "    axis=1,\n",
        ").sort_values(by=['date'])\n",
        "ordersBCummulative.columns = [\n",
        "    'date',\n",
        "    'ordersCummulativeB',\n",
        "    'revenueCummulativeB',\n",
        "]\n",
        "\n",
        "data = (\n",
        "    ordersADaily.merge(\n",
        "        ordersBDaily, left_on='date', right_on='date', how='left'\n",
        "    )\n",
        "    .merge(ordersACummulative, left_on='date', right_on='date', how='left')\n",
        "    .merge(ordersBCummulative, left_on='date', right_on='date', how='left')\n",
        "    .merge(visitorsADaily, left_on='date', right_on='date', how='left')\n",
        "    .merge(visitorsBDaily, left_on='date', right_on='date', how='left')\n",
        "    .merge(visitorsACummulative, left_on='date', right_on='date', how='left')\n",
        "    .merge(visitorsBCummulative, left_on='date', right_on='date', how='left')\n",
        ")\n",
        "\n",
        "print(data.head(5))"
      ]
    },
    {
      "cell_type": "code",
      "execution_count": null,
      "metadata": {
        "id": "4ovI0iuF00iQ",
        "outputId": "efd68f93-5720-49af-fa0c-967edc61bba0"
      },
      "outputs": [
        {
          "name": "stdout",
          "output_type": "stream",
          "text": [
            "0.017\n",
            "0.138\n"
          ]
        }
      ],
      "source": [
        "# статистическая значимость различий в среднем количестве заказов на посетителя между группами по «сырым» данным\n",
        "ordersByUsersA = (\n",
        "    orders[orders['group'] == 'A']\n",
        "    .groupby('visitor_id', as_index=False)\n",
        "    .agg({'transaction_id': pd.Series.nunique})\n",
        ")\n",
        "ordersByUsersA.columns = ['visitor_id', 'orders']\n",
        "\n",
        "ordersByUsersB = (\n",
        "    orders[orders['group'] == 'B']\n",
        "    .groupby('visitor_id', as_index=False)\n",
        "    .agg({'transaction_id': pd.Series.nunique})\n",
        ")\n",
        "ordersByUsersB.columns = ['visitor_id', 'orders']\n",
        "\n",
        "sampleA = pd.concat(\n",
        "    [\n",
        "        ordersByUsersA['orders'],\n",
        "        pd.Series(\n",
        "            0,\n",
        "            index=np.arange(\n",
        "                data['visitorsPerDateA'].sum() - len(ordersByUsersA['orders'])\n",
        "            ),\n",
        "            name='orders',\n",
        "        ),\n",
        "    ],\n",
        "    axis=0,\n",
        ")\n",
        "\n",
        "sampleB = pd.concat(\n",
        "    [\n",
        "        ordersByUsersB['orders'],\n",
        "        pd.Series(\n",
        "            0,\n",
        "            index=np.arange(\n",
        "                data['visitorsPerDateB'].sum() - len(ordersByUsersB['orders'])\n",
        "            ),\n",
        "            name='orders',\n",
        "        ),\n",
        "    ],\n",
        "    axis=0,\n",
        ")\n",
        "\n",
        "print(\"{0:.3f}\".format(stats.mannwhitneyu(sampleA, sampleB)[1]))\n",
        "\n",
        "print(\"{0:.3f}\".format(sampleB.mean() / sampleA.mean() - 1))\n"
      ]
    },
    {
      "cell_type": "markdown",
      "metadata": {
        "id": "gIQEPpHI00iR"
      },
      "source": [
        "По \"сырым\" данным значение p-value = 0.017, что меньше 0.05 , следовательно гипотезу о том, что различий в конверсии между группами нет, отвергаем. Относительный выигрыш группы B равен 13.8%"
      ]
    },
    {
      "cell_type": "markdown",
      "metadata": {
        "id": "oBKsCRTB00iS"
      },
      "source": [
        "Сформулируем гипотезы:\n",
        "- H0: различий в среднем чеке между группами нет.\n",
        "- H1: различия в среднем чеке между группами есть."
      ]
    },
    {
      "cell_type": "code",
      "execution_count": null,
      "metadata": {
        "id": "HlITr31M00iS",
        "outputId": "e627cb81-3c0a-47a4-af2f-563c84b50ae3"
      },
      "outputs": [
        {
          "name": "stdout",
          "output_type": "stream",
          "text": [
            "0.729\n",
            "0.259\n"
          ]
        }
      ],
      "source": [
        "# статистическая значимость различий в среднем чеке заказа между группами по «сырым» данным\n",
        "print('{0:.3f}'.format(stats.mannwhitneyu(orders[orders['group']=='A']['revenue'], orders[orders['group']=='B']['revenue'])[1]))\n",
        "print('{0:.3f}'.format(orders[orders['group']=='B']['revenue'].mean()/orders[orders['group']=='A']['revenue'].mean()-1))"
      ]
    },
    {
      "cell_type": "markdown",
      "metadata": {
        "id": "hFbbnMaC00iS"
      },
      "source": [
        "P-value(0.729) значительно больше 0.05. Следовательно, причин отвергать нулевую гипотезу и считать, что в среднем чеке есть различия, нет. Следовательно, различий в среднем чеке между группами нет. Однако, относительная разница среднего чека между группами составила 25.8%, что говорит о наличии выбросов."
      ]
    },
    {
      "cell_type": "code",
      "execution_count": null,
      "metadata": {
        "scrolled": true,
        "id": "NzFnJFk100iT",
        "outputId": "7c2189a4-6f95-4d3c-fa90-817f27019bbf"
      },
      "outputs": [
        {
          "name": "stdout",
          "output_type": "stream",
          "text": [
            "1099    148427295\n",
            "18      199603092\n",
            "928     204675465\n",
            "23      237748145\n",
            "37      249864742\n",
            "Name: visitor_id, dtype: int64\n",
            "74\n"
          ]
        }
      ],
      "source": [
        "# узнаем, сколько всего аномальных пользователей\n",
        "usersWithManyOrders = pd.concat(\n",
        "    [\n",
        "        ordersByUsersA[ordersByUsersA['orders'] > 2]['visitor_id'],\n",
        "        ordersByUsersB[ordersByUsersB['orders'] > 2]['visitor_id'],\n",
        "    ],\n",
        "    axis=0,\n",
        ")\n",
        "usersWithExpensiveOrders = orders[orders['revenue'] > 28000]['visitor_id']\n",
        "abnormalUsers = (\n",
        "    pd.concat([usersWithManyOrders, usersWithExpensiveOrders], axis=0)\n",
        "    .drop_duplicates()\n",
        "    .sort_values()\n",
        ")\n",
        "print(abnormalUsers.head(5))\n",
        "print(abnormalUsers.shape[0])"
      ]
    },
    {
      "cell_type": "markdown",
      "metadata": {
        "id": "T8PKBO0F00iT"
      },
      "source": [
        "Всего 74 аномальных пользователя."
      ]
    },
    {
      "cell_type": "code",
      "execution_count": null,
      "metadata": {
        "id": "m0H08abW00iU"
      },
      "outputs": [],
      "source": [
        "# статистическая значимость различий в среднем количестве заказов на посетителя между группами по «очищенным» данным\n",
        "sampleAFiltered = pd.concat(\n",
        "    [\n",
        "        ordersByUsersA[\n",
        "            np.logical_not(ordersByUsersA['visitor_id'].isin(abnormalUsers))\n",
        "        ]['orders'],\n",
        "        pd.Series(\n",
        "            0,\n",
        "            index=np.arange(\n",
        "                data['visitorsPerDateA'].sum() - len(ordersByUsersA['orders'])\n",
        "            ),\n",
        "            name='orders',\n",
        "        ),\n",
        "    ],\n",
        "    axis=0,\n",
        ")\n",
        "\n",
        "sampleBFiltered = pd.concat(\n",
        "    [\n",
        "        ordersByUsersB[\n",
        "            np.logical_not(ordersByUsersB['visitor_id'].isin(abnormalUsers))\n",
        "        ]['orders'],\n",
        "        pd.Series(\n",
        "            0,\n",
        "            index=np.arange(\n",
        "                data['visitorsPerDateB'].sum() - len(ordersByUsersB['orders'])\n",
        "            ),\n",
        "            name='orders',\n",
        "        ),\n",
        "    ],\n",
        "    axis=0,\n",
        ")"
      ]
    },
    {
      "cell_type": "code",
      "execution_count": null,
      "metadata": {
        "id": "WHzyInOp00iU",
        "outputId": "5bc88924-ddf1-4288-b1ba-ae3c3f70753a"
      },
      "outputs": [
        {
          "name": "stdout",
          "output_type": "stream",
          "text": [
            "0.013\n",
            "0.173\n"
          ]
        }
      ],
      "source": [
        "print('{0:.3f}'.format(stats.mannwhitneyu(sampleAFiltered, sampleBFiltered)[1]))\n",
        "print('{0:.3f}'.format(sampleBFiltered.mean()/sampleAFiltered.mean()-1))"
      ]
    },
    {
      "cell_type": "markdown",
      "metadata": {
        "id": "SnO0vOCw00iU"
      },
      "source": [
        "Результаты по среднему количеству заказов изменились незначительно(значение p-value уменьшилось на 0.004, а относительный выигрыш группы B увеличился на 3.5%."
      ]
    },
    {
      "cell_type": "code",
      "execution_count": null,
      "metadata": {
        "id": "DE5GwiT700iV",
        "outputId": "76bb11f8-e54c-4ce7-a33c-1f219a32a743"
      },
      "outputs": [
        {
          "name": "stdout",
          "output_type": "stream",
          "text": [
            "0.738\n",
            "-0.020\n"
          ]
        }
      ],
      "source": [
        "# статистическая значимость различий в среднем чеке заказа между группами по «очищенным» данным.\n",
        "print(\n",
        "    '{0:.3f}'.format(\n",
        "        stats.mannwhitneyu(\n",
        "            orders[\n",
        "                np.logical_and(\n",
        "                    orders['group'] == 'A',\n",
        "                    np.logical_not(orders['visitor_id'].isin(abnormalUsers)),\n",
        "                )\n",
        "            ]['revenue'],\n",
        "            orders[\n",
        "                np.logical_and(\n",
        "                    orders['group'] == 'B',\n",
        "                    np.logical_not(orders['visitor_id'].isin(abnormalUsers)),\n",
        "                )\n",
        "            ]['revenue'],\n",
        "        )[1]\n",
        "    )\n",
        ")\n",
        "\n",
        "print(\n",
        "    \"{0:.3f}\".format(\n",
        "        orders[\n",
        "            np.logical_and(\n",
        "                orders['group'] == 'B',\n",
        "                np.logical_not(orders['visitor_id'].isin(abnormalUsers)),\n",
        "            )\n",
        "        ]['revenue'].mean()\n",
        "        / orders[\n",
        "            np.logical_and(\n",
        "                orders['group'] == 'A',\n",
        "                np.logical_not(orders['visitor_id'].isin(abnormalUsers)),\n",
        "            )\n",
        "        ]['revenue'].mean()\n",
        "        - 1\n",
        "    )\n",
        ")"
      ]
    },
    {
      "cell_type": "markdown",
      "metadata": {
        "id": "4-qXeGoJ00iV"
      },
      "source": [
        "P-value немного увеличилось(на 0.009), но также осталось значительно больше 0.05. По очищенным данным проигрыш среднего чека группы В относительно А составляет 2%."
      ]
    },
    {
      "cell_type": "markdown",
      "metadata": {
        "id": "1J_G1UJz00iV"
      },
      "source": [
        "Имеющиеся факты:\n",
        "- Различия в среднем между группами ест и по «сырым», и по данным после фильтрации аномалий;\n",
        "- Нет статистически значимого различия по среднему чеку между группами ни по «сырым», ни по данным после фильтрации аномалий;\n",
        "- График различия конверсии между группами сообщает, что результаты группы B имеют тенденцию к росту.\n",
        "- График различия среднего чека колеблется.\n",
        "\n",
        "Исходя из обнаруженных фактов, тест следует остановить, признать его успешным и перейти к проверке следующей гипотезы."
      ]
    },
    {
      "cell_type": "markdown",
      "metadata": {
        "id": "u9A_eKhi00iW"
      },
      "source": [
        "## Вывод:\n",
        "В результате проектной работы была проведена приоритизация гипотез способами ICE и RICE. В результате была выбрана приоритетная гипотеза 7.\n",
        "Также был проведен анализ A/B теста, в результате чего было выявлено:\n",
        "- Кривая выручки группы B стабильно выше, чем аналогичный показатель группы А\n",
        "- Изменение среднего чека для групп не так однозначно\n",
        "- Средний чек группы B имеет промежутки значительного превосходства этотого показателя для группы А\n",
        "- Комулятивная конверсия группы B почти на всем промежутке выше коммулятивной конверсии группы А\n",
        "- Сначала конверсия группы В была ниже группы А, но потом конверсия группы В опередила конверсию А\n",
        "- Большая часть заказов составляет от 1 до 2 заказов на пользователя\n",
        "- Не более 5% пользователей оформляли больше чем на 28000 руб\n",
        "- Различия в среднем между группами ест и по «сырым», и по данным после фильтрации аномалий;\n",
        "- Нет статистически значимого различия по среднему чеку между группами ни по «сырым», ни по данным после фильтрации аномалий;\n",
        "В результате следует остановить тест, признать его успешным и перейти к проверке следующей гипотезы."
      ]
    }
  ],
  "metadata": {
    "ExecuteTimeLog": [
      {
        "duration": 407,
        "start_time": "2023-01-29T08:31:25.161Z"
      },
      {
        "duration": 57,
        "start_time": "2023-01-29T08:31:51.294Z"
      },
      {
        "duration": 17,
        "start_time": "2023-01-29T08:32:52.932Z"
      },
      {
        "duration": 10,
        "start_time": "2023-01-29T08:34:52.829Z"
      },
      {
        "duration": 59,
        "start_time": "2023-01-29T08:37:40.251Z"
      },
      {
        "duration": 2,
        "start_time": "2023-01-29T08:37:49.126Z"
      },
      {
        "duration": 5,
        "start_time": "2023-01-29T08:38:06.824Z"
      },
      {
        "duration": 5,
        "start_time": "2023-01-29T08:38:32.526Z"
      },
      {
        "duration": 8,
        "start_time": "2023-01-29T08:39:17.787Z"
      },
      {
        "duration": 5,
        "start_time": "2023-01-29T08:43:49.576Z"
      },
      {
        "duration": 9,
        "start_time": "2023-01-29T08:46:38.623Z"
      },
      {
        "duration": 5,
        "start_time": "2023-01-29T08:52:01.282Z"
      },
      {
        "duration": 14,
        "start_time": "2023-01-29T08:52:12.580Z"
      },
      {
        "duration": 130,
        "start_time": "2023-01-29T09:05:46.727Z"
      },
      {
        "duration": 13,
        "start_time": "2023-01-29T09:05:58.775Z"
      },
      {
        "duration": 12,
        "start_time": "2023-01-29T09:06:08.753Z"
      },
      {
        "duration": 7,
        "start_time": "2023-01-29T09:06:52.942Z"
      },
      {
        "duration": 6,
        "start_time": "2023-01-29T09:07:08.243Z"
      },
      {
        "duration": 5,
        "start_time": "2023-01-29T09:07:56.533Z"
      },
      {
        "duration": 11,
        "start_time": "2023-01-29T09:08:05.171Z"
      },
      {
        "duration": 12,
        "start_time": "2023-01-29T09:10:10.469Z"
      },
      {
        "duration": 10,
        "start_time": "2023-01-29T09:10:22.325Z"
      },
      {
        "duration": 5,
        "start_time": "2023-01-29T09:10:40.749Z"
      },
      {
        "duration": 7,
        "start_time": "2023-01-29T09:10:57.223Z"
      },
      {
        "duration": 4,
        "start_time": "2023-01-29T09:11:27.204Z"
      },
      {
        "duration": 11,
        "start_time": "2023-01-29T09:11:36.855Z"
      },
      {
        "duration": 50,
        "start_time": "2023-01-29T09:12:27.677Z"
      },
      {
        "duration": 3,
        "start_time": "2023-01-29T09:41:59.665Z"
      },
      {
        "duration": 13,
        "start_time": "2023-01-29T09:42:07.325Z"
      },
      {
        "duration": 4,
        "start_time": "2023-01-29T09:43:35.139Z"
      },
      {
        "duration": 12,
        "start_time": "2023-01-29T09:43:37.487Z"
      },
      {
        "duration": 23,
        "start_time": "2023-01-29T09:44:46.659Z"
      },
      {
        "duration": 2,
        "start_time": "2023-01-29T09:45:18.480Z"
      },
      {
        "duration": 245,
        "start_time": "2023-01-29T09:45:23.635Z"
      },
      {
        "duration": 385,
        "start_time": "2023-01-29T09:46:20.400Z"
      },
      {
        "duration": 269,
        "start_time": "2023-01-29T09:46:45.634Z"
      },
      {
        "duration": 257,
        "start_time": "2023-01-29T09:47:39.464Z"
      },
      {
        "duration": 247,
        "start_time": "2023-01-29T09:47:45.770Z"
      },
      {
        "duration": 183,
        "start_time": "2023-01-29T09:51:25.599Z"
      },
      {
        "duration": 258,
        "start_time": "2023-01-29T09:51:41.035Z"
      },
      {
        "duration": 344,
        "start_time": "2023-01-29T09:52:51.394Z"
      },
      {
        "duration": 288,
        "start_time": "2023-01-29T09:53:56.383Z"
      },
      {
        "duration": 313,
        "start_time": "2023-01-29T09:54:07.375Z"
      },
      {
        "duration": 391,
        "start_time": "2023-01-29T09:54:13.424Z"
      },
      {
        "duration": 951,
        "start_time": "2023-01-29T09:54:21.723Z"
      },
      {
        "duration": 266,
        "start_time": "2023-01-29T09:54:27.108Z"
      },
      {
        "duration": 427,
        "start_time": "2023-01-29T09:54:32.626Z"
      },
      {
        "duration": 358,
        "start_time": "2023-01-29T09:54:38.776Z"
      },
      {
        "duration": 333,
        "start_time": "2023-01-29T09:58:24.149Z"
      },
      {
        "duration": 340,
        "start_time": "2023-01-29T09:58:35.349Z"
      },
      {
        "duration": 420,
        "start_time": "2023-01-29T10:03:35.129Z"
      },
      {
        "duration": 514,
        "start_time": "2023-01-29T10:03:51.042Z"
      },
      {
        "duration": 1468,
        "start_time": "2023-01-29T10:03:57.104Z"
      },
      {
        "duration": 561,
        "start_time": "2023-01-29T10:04:08.763Z"
      },
      {
        "duration": 458,
        "start_time": "2023-01-29T10:04:17.934Z"
      },
      {
        "duration": 270,
        "start_time": "2023-01-29T10:09:16.848Z"
      },
      {
        "duration": 368,
        "start_time": "2023-01-29T10:09:28.954Z"
      },
      {
        "duration": 458,
        "start_time": "2023-01-29T10:13:16.268Z"
      },
      {
        "duration": 130,
        "start_time": "2023-01-29T10:18:41.875Z"
      },
      {
        "duration": 7,
        "start_time": "2023-01-29T10:20:34.660Z"
      },
      {
        "duration": 180,
        "start_time": "2023-01-29T10:20:43.594Z"
      },
      {
        "duration": 7,
        "start_time": "2023-01-29T10:23:14.466Z"
      },
      {
        "duration": 7,
        "start_time": "2023-01-29T10:23:31.362Z"
      },
      {
        "duration": 5,
        "start_time": "2023-01-29T10:23:41.337Z"
      },
      {
        "duration": 214,
        "start_time": "2023-01-29T10:24:39.584Z"
      },
      {
        "duration": 128,
        "start_time": "2023-01-29T10:25:17.337Z"
      },
      {
        "duration": 201,
        "start_time": "2023-01-29T10:25:27.233Z"
      },
      {
        "duration": 5,
        "start_time": "2023-01-29T10:27:48.329Z"
      },
      {
        "duration": 125,
        "start_time": "2023-01-29T10:36:24.030Z"
      },
      {
        "duration": 216,
        "start_time": "2023-01-29T10:36:49.698Z"
      },
      {
        "duration": 177,
        "start_time": "2023-01-29T10:38:41.265Z"
      },
      {
        "duration": 222,
        "start_time": "2023-01-29T10:39:05.439Z"
      },
      {
        "duration": 5,
        "start_time": "2023-01-29T10:40:56.406Z"
      },
      {
        "duration": 121,
        "start_time": "2023-01-29T11:10:19.530Z"
      },
      {
        "duration": 160,
        "start_time": "2023-01-29T11:11:45.923Z"
      },
      {
        "duration": 212,
        "start_time": "2023-01-29T11:12:10.701Z"
      },
      {
        "duration": 136,
        "start_time": "2023-01-29T11:15:15.682Z"
      },
      {
        "duration": 418,
        "start_time": "2023-01-29T11:15:48.743Z"
      },
      {
        "duration": 147,
        "start_time": "2023-01-29T11:15:54.667Z"
      },
      {
        "duration": 10,
        "start_time": "2023-01-29T11:18:01.963Z"
      },
      {
        "duration": 9,
        "start_time": "2023-01-29T11:19:52.759Z"
      },
      {
        "duration": 9,
        "start_time": "2023-01-29T11:21:05.699Z"
      },
      {
        "duration": 9,
        "start_time": "2023-01-29T11:21:22.724Z"
      },
      {
        "duration": 8,
        "start_time": "2023-01-29T11:23:01.013Z"
      },
      {
        "duration": 22,
        "start_time": "2023-01-29T11:23:03.058Z"
      },
      {
        "duration": 9,
        "start_time": "2023-01-29T11:23:21.877Z"
      },
      {
        "duration": 8,
        "start_time": "2023-01-29T11:23:22.576Z"
      },
      {
        "duration": 24,
        "start_time": "2023-01-29T11:23:23.652Z"
      },
      {
        "duration": 13,
        "start_time": "2023-01-29T11:24:30.932Z"
      },
      {
        "duration": 54,
        "start_time": "2023-01-29T18:01:31.519Z"
      },
      {
        "duration": 1189,
        "start_time": "2023-01-29T18:01:40.000Z"
      },
      {
        "duration": 26,
        "start_time": "2023-01-29T18:01:41.191Z"
      },
      {
        "duration": 61,
        "start_time": "2023-01-29T18:01:41.219Z"
      },
      {
        "duration": 82,
        "start_time": "2023-01-29T18:01:41.281Z"
      },
      {
        "duration": 36,
        "start_time": "2023-01-29T18:01:41.364Z"
      },
      {
        "duration": 46,
        "start_time": "2023-01-29T18:01:41.402Z"
      },
      {
        "duration": 30,
        "start_time": "2023-01-29T18:01:41.450Z"
      },
      {
        "duration": 45,
        "start_time": "2023-01-29T18:01:41.482Z"
      },
      {
        "duration": 38,
        "start_time": "2023-01-29T18:01:41.529Z"
      },
      {
        "duration": 60,
        "start_time": "2023-01-29T18:01:41.569Z"
      },
      {
        "duration": 36,
        "start_time": "2023-01-29T18:01:41.631Z"
      },
      {
        "duration": 44,
        "start_time": "2023-01-29T18:01:41.669Z"
      },
      {
        "duration": 61,
        "start_time": "2023-01-29T18:01:41.716Z"
      },
      {
        "duration": 14,
        "start_time": "2023-01-29T18:01:41.780Z"
      },
      {
        "duration": 39,
        "start_time": "2023-01-29T18:01:41.796Z"
      },
      {
        "duration": 23,
        "start_time": "2023-01-29T18:01:41.838Z"
      },
      {
        "duration": 48,
        "start_time": "2023-01-29T18:01:41.864Z"
      },
      {
        "duration": 30,
        "start_time": "2023-01-29T18:01:41.913Z"
      },
      {
        "duration": 38,
        "start_time": "2023-01-29T18:01:41.945Z"
      },
      {
        "duration": 39,
        "start_time": "2023-01-29T18:01:41.986Z"
      },
      {
        "duration": 36,
        "start_time": "2023-01-29T18:01:42.027Z"
      },
      {
        "duration": 70,
        "start_time": "2023-01-29T18:01:42.064Z"
      },
      {
        "duration": 41,
        "start_time": "2023-01-29T18:01:42.136Z"
      },
      {
        "duration": 48,
        "start_time": "2023-01-29T18:01:42.179Z"
      },
      {
        "duration": 63,
        "start_time": "2023-01-29T18:01:42.229Z"
      },
      {
        "duration": 56,
        "start_time": "2023-01-29T18:01:42.294Z"
      },
      {
        "duration": 70,
        "start_time": "2023-01-29T18:01:42.352Z"
      },
      {
        "duration": 322,
        "start_time": "2023-01-29T18:01:42.427Z"
      },
      {
        "duration": 405,
        "start_time": "2023-01-29T18:01:42.751Z"
      },
      {
        "duration": 303,
        "start_time": "2023-01-29T18:01:43.158Z"
      },
      {
        "duration": 425,
        "start_time": "2023-01-29T18:01:43.464Z"
      },
      {
        "duration": 346,
        "start_time": "2023-01-29T18:01:43.891Z"
      },
      {
        "duration": 419,
        "start_time": "2023-01-29T18:01:44.239Z"
      },
      {
        "duration": 9,
        "start_time": "2023-01-29T18:01:44.660Z"
      },
      {
        "duration": 11,
        "start_time": "2023-01-29T18:01:44.671Z"
      },
      {
        "duration": 147,
        "start_time": "2023-01-29T18:01:44.684Z"
      },
      {
        "duration": 244,
        "start_time": "2023-01-29T18:01:44.833Z"
      },
      {
        "duration": 5,
        "start_time": "2023-01-29T18:01:45.079Z"
      },
      {
        "duration": 235,
        "start_time": "2023-01-29T18:01:45.086Z"
      },
      {
        "duration": 305,
        "start_time": "2023-01-29T18:01:45.323Z"
      },
      {
        "duration": 5,
        "start_time": "2023-01-29T18:01:45.630Z"
      },
      {
        "duration": 238,
        "start_time": "2023-01-29T18:01:45.636Z"
      },
      {
        "duration": 157,
        "start_time": "2023-01-29T18:01:45.876Z"
      },
      {
        "duration": 10,
        "start_time": "2023-01-29T18:01:46.034Z"
      },
      {
        "duration": 10,
        "start_time": "2023-01-29T18:01:46.046Z"
      },
      {
        "duration": 11,
        "start_time": "2023-01-29T18:01:46.058Z"
      },
      {
        "duration": 45,
        "start_time": "2023-01-29T18:01:46.071Z"
      },
      {
        "duration": 15,
        "start_time": "2023-01-29T18:01:46.118Z"
      },
      {
        "duration": 54,
        "start_time": "2023-01-29T18:44:53.366Z"
      },
      {
        "duration": 1419,
        "start_time": "2023-01-29T18:45:01.467Z"
      },
      {
        "duration": 84,
        "start_time": "2023-01-29T18:45:02.888Z"
      },
      {
        "duration": 14,
        "start_time": "2023-01-29T18:45:02.974Z"
      },
      {
        "duration": 13,
        "start_time": "2023-01-29T18:45:04.902Z"
      },
      {
        "duration": 4,
        "start_time": "2023-01-29T18:45:05.773Z"
      },
      {
        "duration": 7,
        "start_time": "2023-01-29T18:45:06.127Z"
      },
      {
        "duration": 8,
        "start_time": "2023-01-29T18:45:06.536Z"
      },
      {
        "duration": 8,
        "start_time": "2023-01-29T18:45:07.202Z"
      },
      {
        "duration": 6,
        "start_time": "2023-01-29T18:45:07.895Z"
      },
      {
        "duration": 36,
        "start_time": "2023-01-29T18:45:08.236Z"
      },
      {
        "duration": 4,
        "start_time": "2023-01-29T18:45:09.208Z"
      },
      {
        "duration": 13,
        "start_time": "2023-01-29T18:45:09.521Z"
      },
      {
        "duration": 181,
        "start_time": "2023-01-29T18:45:11.242Z"
      },
      {
        "duration": 13,
        "start_time": "2023-01-29T18:45:11.493Z"
      },
      {
        "duration": 17,
        "start_time": "2023-01-29T18:45:11.774Z"
      },
      {
        "duration": 4,
        "start_time": "2023-01-29T18:45:12.070Z"
      },
      {
        "duration": 7,
        "start_time": "2023-01-29T18:45:12.372Z"
      },
      {
        "duration": 8,
        "start_time": "2023-01-29T18:45:12.668Z"
      },
      {
        "duration": 6,
        "start_time": "2023-01-29T18:45:12.921Z"
      },
      {
        "duration": 11,
        "start_time": "2023-01-29T18:45:13.203Z"
      },
      {
        "duration": 10,
        "start_time": "2023-01-29T18:45:13.770Z"
      },
      {
        "duration": 16,
        "start_time": "2023-01-29T18:45:14.337Z"
      },
      {
        "duration": 31,
        "start_time": "2023-01-29T18:45:14.355Z"
      },
      {
        "duration": 6,
        "start_time": "2023-01-29T18:45:14.586Z"
      },
      {
        "duration": 5,
        "start_time": "2023-01-29T18:45:14.866Z"
      },
      {
        "duration": 10,
        "start_time": "2023-01-29T18:45:15.194Z"
      },
      {
        "duration": 333,
        "start_time": "2023-01-29T18:45:16.784Z"
      },
      {
        "duration": 460,
        "start_time": "2023-01-29T18:45:17.171Z"
      },
      {
        "duration": 481,
        "start_time": "2023-01-29T18:46:08.866Z"
      },
      {
        "duration": 512,
        "start_time": "2023-01-29T18:46:51.936Z"
      },
      {
        "duration": 358,
        "start_time": "2023-01-29T18:47:47.697Z"
      },
      {
        "duration": 463,
        "start_time": "2023-01-29T18:48:40.982Z"
      },
      {
        "duration": 76,
        "start_time": "2023-01-29T18:49:08.094Z"
      },
      {
        "duration": 6,
        "start_time": "2023-01-29T18:49:15.563Z"
      },
      {
        "duration": 7,
        "start_time": "2023-01-29T18:49:16.258Z"
      },
      {
        "duration": 154,
        "start_time": "2023-01-29T18:49:17.919Z"
      },
      {
        "duration": 346,
        "start_time": "2023-01-29T18:49:37.938Z"
      },
      {
        "duration": 4,
        "start_time": "2023-01-29T18:49:51.253Z"
      },
      {
        "duration": 306,
        "start_time": "2023-01-29T18:50:11.507Z"
      },
      {
        "duration": 262,
        "start_time": "2023-01-29T18:50:24.104Z"
      },
      {
        "duration": 8,
        "start_time": "2023-01-29T18:50:40.340Z"
      },
      {
        "duration": 242,
        "start_time": "2023-01-29T18:50:42.710Z"
      },
      {
        "duration": 205,
        "start_time": "2023-01-29T18:50:43.254Z"
      },
      {
        "duration": 13,
        "start_time": "2023-01-29T18:50:45.922Z"
      },
      {
        "duration": 12,
        "start_time": "2023-01-29T18:51:06.621Z"
      },
      {
        "duration": 10,
        "start_time": "2023-01-29T18:51:07.654Z"
      },
      {
        "duration": 32,
        "start_time": "2023-01-29T18:51:07.924Z"
      },
      {
        "duration": 20,
        "start_time": "2023-01-29T18:51:08.802Z"
      },
      {
        "duration": 1139,
        "start_time": "2023-01-29T19:04:40.957Z"
      },
      {
        "duration": 38,
        "start_time": "2023-01-29T19:04:42.098Z"
      },
      {
        "duration": 13,
        "start_time": "2023-01-29T19:04:42.138Z"
      },
      {
        "duration": 10,
        "start_time": "2023-01-29T19:04:42.153Z"
      },
      {
        "duration": 5,
        "start_time": "2023-01-29T19:04:42.164Z"
      },
      {
        "duration": 9,
        "start_time": "2023-01-29T19:04:42.171Z"
      },
      {
        "duration": 10,
        "start_time": "2023-01-29T19:04:42.181Z"
      },
      {
        "duration": 36,
        "start_time": "2023-01-29T19:04:42.193Z"
      },
      {
        "duration": 6,
        "start_time": "2023-01-29T19:04:42.231Z"
      },
      {
        "duration": 16,
        "start_time": "2023-01-29T19:04:42.240Z"
      },
      {
        "duration": 12,
        "start_time": "2023-01-29T19:04:42.258Z"
      },
      {
        "duration": 13,
        "start_time": "2023-01-29T19:04:42.272Z"
      },
      {
        "duration": 68,
        "start_time": "2023-01-29T19:04:42.287Z"
      },
      {
        "duration": 11,
        "start_time": "2023-01-29T19:04:42.356Z"
      },
      {
        "duration": 16,
        "start_time": "2023-01-29T19:04:42.369Z"
      },
      {
        "duration": 6,
        "start_time": "2023-01-29T19:04:42.387Z"
      },
      {
        "duration": 11,
        "start_time": "2023-01-29T19:04:42.395Z"
      },
      {
        "duration": 15,
        "start_time": "2023-01-29T19:04:42.418Z"
      },
      {
        "duration": 13,
        "start_time": "2023-01-29T19:04:42.434Z"
      },
      {
        "duration": 13,
        "start_time": "2023-01-29T19:04:42.448Z"
      },
      {
        "duration": 11,
        "start_time": "2023-01-29T19:04:42.463Z"
      },
      {
        "duration": 15,
        "start_time": "2023-01-29T19:04:42.476Z"
      },
      {
        "duration": 24,
        "start_time": "2023-01-29T19:04:42.493Z"
      },
      {
        "duration": 20,
        "start_time": "2023-01-29T19:04:42.519Z"
      },
      {
        "duration": 8,
        "start_time": "2023-01-29T19:04:42.541Z"
      },
      {
        "duration": 26,
        "start_time": "2023-01-29T19:04:42.550Z"
      },
      {
        "duration": 314,
        "start_time": "2023-01-29T19:04:42.578Z"
      },
      {
        "duration": 441,
        "start_time": "2023-01-29T19:04:42.896Z"
      },
      {
        "duration": 354,
        "start_time": "2023-01-29T19:04:43.339Z"
      },
      {
        "duration": 454,
        "start_time": "2023-01-29T19:04:43.695Z"
      },
      {
        "duration": 402,
        "start_time": "2023-01-29T19:04:44.151Z"
      },
      {
        "duration": 438,
        "start_time": "2023-01-29T19:04:44.554Z"
      },
      {
        "duration": 6,
        "start_time": "2023-01-29T19:04:44.994Z"
      },
      {
        "duration": 37,
        "start_time": "2023-01-29T19:04:45.011Z"
      },
      {
        "duration": 140,
        "start_time": "2023-01-29T19:04:45.050Z"
      },
      {
        "duration": 238,
        "start_time": "2023-01-29T19:04:45.192Z"
      },
      {
        "duration": 4,
        "start_time": "2023-01-29T19:04:45.432Z"
      },
      {
        "duration": 244,
        "start_time": "2023-01-29T19:04:45.438Z"
      },
      {
        "duration": 343,
        "start_time": "2023-01-29T19:04:45.684Z"
      },
      {
        "duration": 4,
        "start_time": "2023-01-29T19:04:46.033Z"
      },
      {
        "duration": 236,
        "start_time": "2023-01-29T19:04:46.038Z"
      },
      {
        "duration": 192,
        "start_time": "2023-01-29T19:04:46.276Z"
      },
      {
        "duration": 10,
        "start_time": "2023-01-29T19:04:46.470Z"
      },
      {
        "duration": 8,
        "start_time": "2023-01-29T19:04:46.481Z"
      },
      {
        "duration": 32,
        "start_time": "2023-01-29T19:04:46.490Z"
      },
      {
        "duration": 23,
        "start_time": "2023-01-29T19:04:46.529Z"
      },
      {
        "duration": 13,
        "start_time": "2023-01-29T19:04:46.553Z"
      }
    ],
    "kernelspec": {
      "display_name": "Python 3 (ipykernel)",
      "language": "python",
      "name": "python3"
    },
    "language_info": {
      "codemirror_mode": {
        "name": "ipython",
        "version": 3
      },
      "file_extension": ".py",
      "mimetype": "text/x-python",
      "name": "python",
      "nbconvert_exporter": "python",
      "pygments_lexer": "ipython3",
      "version": "3.9.5"
    },
    "toc": {
      "base_numbering": 1,
      "nav_menu": {},
      "number_sections": true,
      "sideBar": true,
      "skip_h1_title": true,
      "title_cell": "Table of Contents",
      "title_sidebar": "Contents",
      "toc_cell": false,
      "toc_position": {},
      "toc_section_display": true,
      "toc_window_display": false
    },
    "colab": {
      "provenance": []
    }
  },
  "nbformat": 4,
  "nbformat_minor": 0
}